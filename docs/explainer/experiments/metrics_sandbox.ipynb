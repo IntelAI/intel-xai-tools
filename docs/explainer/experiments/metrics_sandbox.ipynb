{
 "cells": [
  {
   "cell_type": "markdown",
   "id": "9fdfa877-22c4-4b47-ab8c-e703ea1f2538",
   "metadata": {},
   "source": [
    "# Metrics explainer test"
   ]
  },
  {
   "cell_type": "markdown",
   "id": "69727786-0365-4c99-9a7d-54332649a65c",
   "metadata": {},
   "source": [
    "### 1. Collect test data to use for prediction"
   ]
  },
  {
   "cell_type": "code",
   "execution_count": null,
   "id": "4f5028ca-f176-4c1f-a5f3-322e4254f465",
   "metadata": {},
   "outputs": [],
   "source": [
    "import os\n",
    "import glob\n",
    "import tensorflow as tf\n",
    "import numpy as np\n",
    "%matplotlib inline\n",
    "\n",
    "# Collect samples for training/validation\n",
    "train_dir = '../../../../train_logmel'\n",
    "\n",
    "angry = glob.glob(os.path.join(train_dir,'angry/*.*'))\n",
    "calm = glob.glob(os.path.join(train_dir,'calm/*.*'))\n",
    "disgust = glob.glob(os.path.join(train_dir,'disgust/*.*'))\n",
    "fearful = glob.glob(os.path.join(train_dir,'fear/*.*'))\n",
    "happy = glob.glob(os.path.join(train_dir,'happy/*.*'))\n",
    "neutral = glob.glob(os.path.join(train_dir,'neutral/*.*'))\n",
    "sad = glob.glob(os.path.join(train_dir,'sad/*.*'))\n",
    "surprised = glob.glob(os.path.join(train_dir,'surprise/*.*'))\n",
    "\n",
    "data = []\n",
    "labels = []\n",
    "for i in angry:   \n",
    "    image=tf.keras.preprocessing.image.load_img(i, color_mode='rgb', \n",
    "    target_size= (224,224))\n",
    "    image=np.array(image)\n",
    "    data.append(image)\n",
    "    labels.append('Angry')\n",
    "for i in calm:   \n",
    "    image=tf.keras.preprocessing.image.load_img(i, color_mode='rgb', \n",
    "    target_size= (224,224))\n",
    "    image=np.array(image)\n",
    "    data.append(image)\n",
    "    labels.append('Calm')\n",
    "for i in disgust:   \n",
    "    image=tf.keras.preprocessing.image.load_img(i, color_mode='rgb', \n",
    "    target_size= (224,224))\n",
    "    image=np.array(image)\n",
    "    data.append(image)\n",
    "    labels.append('Disgust')\n",
    "for i in fearful:   \n",
    "    image=tf.keras.preprocessing.image.load_img(i, color_mode='rgb', \n",
    "    target_size= (224,224))\n",
    "    image=np.array(image)\n",
    "    data.append(image)\n",
    "    labels.append('Fearful')\n",
    "for i in happy:   \n",
    "    image=tf.keras.preprocessing.image.load_img(i, color_mode='rgb', \n",
    "    target_size= (224,224))\n",
    "    image=np.array(image)\n",
    "    data.append(image)\n",
    "    labels.append('Happy')\n",
    "for i in neutral:   \n",
    "    image=tf.keras.preprocessing.image.load_img(i, color_mode='rgb', \n",
    "    target_size= (224,224))\n",
    "    image=np.array(image)\n",
    "    data.append(image)\n",
    "    labels.append('Neutral')\n",
    "for i in sad:   \n",
    "    image=tf.keras.preprocessing.image.load_img(i, color_mode='rgb', \n",
    "    target_size= (224,224))\n",
    "    image=np.array(image)\n",
    "    data.append(image)\n",
    "    labels.append('Sad')\n",
    "for i in surprised:\n",
    "    image=tf.keras.preprocessing.image.load_img(i, color_mode='rgb', \n",
    "    target_size= (224,224))\n",
    "    image=np.array(image)\n",
    "    data.append(image)\n",
    "    labels.append('Surprised')\n",
    "    \n",
    "# random split the 80/20 train/val examples\n",
    "from sklearn.model_selection import train_test_split\n",
    "X_train, X_val, y_train, y_val = train_test_split(np.array(data), np.array(labels),\n",
    "                                                  test_size=0.2, random_state=0)\n",
    "train_labels = y_train\n",
    "val_labels = y_val\n",
    "# normalize\n",
    "X_train = X_train.astype('float32')\n",
    "X_val = X_val.astype('float32')\n",
    "X_train /= 255\n",
    "X_val /= 255\n",
    "\n",
    "# one-hot encode classes\n",
    "from keras.utils.np_utils import to_categorical\n",
    "from sklearn.preprocessing import LabelEncoder\n",
    "lb = LabelEncoder()\n",
    "y_train = to_categorical(lb.fit_transform(y_train))\n",
    "y_val = to_categorical(lb.fit_transform(y_val))\n",
    "print(list(lb.classes_))"
   ]
  },
  {
   "cell_type": "markdown",
   "id": "c2fc1134-dd1b-472f-bf96-f6e5c18b71a1",
   "metadata": {},
   "source": [
    "### 2. Load the trained VGG16 model "
   ]
  },
  {
   "cell_type": "code",
   "execution_count": null,
   "id": "0a28d3a9-ccd3-4a78-b56b-576835504c55",
   "metadata": {},
   "outputs": [],
   "source": [
    "clf = tf.keras.models.load_model('../../../../no_aug_VGG_TL.hdf5')"
   ]
  },
  {
   "cell_type": "markdown",
   "id": "56685099-4f73-4d3a-99b0-a6b467877053",
   "metadata": {},
   "source": [
    "### 3. Make predictions"
   ]
  },
  {
   "cell_type": "code",
   "execution_count": null,
   "id": "e046d983-7678-480e-af8c-e5bf62ba35ac",
   "metadata": {},
   "outputs": [],
   "source": [
    "y = clf.predict(X_val)"
   ]
  },
  {
   "cell_type": "markdown",
   "id": "9cc3c70e-bdd8-4238-aff1-c9c331784ac4",
   "metadata": {},
   "source": [
    "### 4. Visualize results via a confusion matrix with *Explainer*"
   ]
  },
  {
   "cell_type": "markdown",
   "id": "29654c89-7f75-4edc-b916-05cdfa4f2e46",
   "metadata": {},
   "source": [
    "# Sandbox"
   ]
  },
  {
   "cell_type": "code",
   "execution_count": null,
   "id": "2c922232-1466-429b-bc65-04048775e2cf",
   "metadata": {},
   "outputs": [],
   "source": [
    "class ConfusionMatrix:\n",
    "    def __init__(self, groundtruth, predictions, labels):\n",
    "        import sklearn\n",
    "        from sklearn.metrics import confusion_matrix as cmx\n",
    "        from sklearn.metrics import classification_report\n",
    "        import pandas as pd\n",
    "        pd.options.plotting.backend = \"plotly\"\n",
    "        import numpy as np\n",
    "\n",
    "        # ground truth\n",
    "        self.y_gt = np.argmax(groundtruth, axis=1)\n",
    "        # model predictions\n",
    "        self.y_pred = np.argmax(predictions, axis=1)\n",
    "        # label names\n",
    "        self.labels = labels\n",
    "        # array representation of the confusion matrix\n",
    "        self.arr = cmx(self.y_gt, self.y_pred, normalize='true')\n",
    "        # dataframe representation of the confusion matrix\n",
    "        self.df = pd.DataFrame(self.arr, index = [i for i in self.labels],\n",
    "                    columns = [i for i in self.labels]) \n",
    "        # str representation of metrics containing precision, recall, f1 and acc for each class\n",
    "        self.report = classification_report(self.y_gt, self.y_pred, target_names=self.labels)\n",
    "\n",
    "\n",
    "    def visualize(self):\n",
    "        import matplotlib.pyplot as plt\n",
    "        import seaborn as sn\n",
    "        plt.figure(figsize=(10,7))\n",
    "        sn.heatmap(self.df, annot=True)\n",
    "\n",
    "\n",
    "class Plotter:\n",
    "    def __init__(self,groundtruth,predictions,labels):\n",
    "        from sklearn.metrics import precision_recall_curve\n",
    "        from sklearn.metrics import roc_curve as sk_roc_curve\n",
    "        import pandas as pd\n",
    "        pd.options.plotting.backend = \"plotly\"\n",
    "        \n",
    "\n",
    "        self.y_gt = groundtruth\n",
    "        self.y_pred = predictions\n",
    "        self.labels = labels\n",
    "        self.precision, self.recall = dict(), dict()\n",
    "        self.tpr, self.fpr = dict(), dict()\n",
    "\n",
    "\n",
    "        for i in range(len(self.labels)):\n",
    "            self.precision[i], self.recall[i], _ = precision_recall_curve(self.y_gt[:, i], self.y_pred[:, i])\n",
    "            self.fpr[i], self.tpr[i], _ = sk_roc_curve(self.y_gt[:, i], self.y_pred[:, i])\n",
    "\n",
    "    def pr_curve(self):\n",
    "        import plotly.express as px\n",
    "        fig = px.line(title='PR Curve').update_layout(yaxis_title='Precision', xaxis_title='Recall')\n",
    "        for i in range(len(self.labels)):\n",
    "            fig.add_scatter(x=self.recall[i], y=self.precision[i], name=self.labels[i])\n",
    "\n",
    "        fig.show()\n",
    "\n",
    "    def roc_curve(self):\n",
    "        import plotly.express as px\n",
    "        fig = px.line(title=\"ROC Curve\").update_layout(yaxis_title='TPR', xaxis_title='FPR')\n",
    "        for i in range(len(self.labels)):\n",
    "            fig.add_scatter(x=self.fpr[i], y=self.tpr[i], name=self.labels[i])\n",
    "\n",
    "        fig.show()\n",
    "\n",
    "\n",
    "cm = ConfusionMatrix(y_val,y,lb.classes_)\n",
    "plotter = Plotter(y_val,y,lb.classes_)"
   ]
  },
  {
   "cell_type": "code",
   "execution_count": null,
   "id": "b82a87f7-8f4a-4e73-9c5d-726f2a58d8ed",
   "metadata": {},
   "outputs": [],
   "source": [
    "plotter.pr_curve()"
   ]
  },
  {
   "cell_type": "code",
   "execution_count": null,
   "id": "48c4ac8e-7cae-43d6-baa6-f0021d9dc9d1",
   "metadata": {},
   "outputs": [],
   "source": [
    "plotter.roc_curve()"
   ]
  },
  {
   "cell_type": "code",
   "execution_count": null,
   "id": "a60c399e-8c9b-4f8f-a9f5-f3c5d4e4cc76",
   "metadata": {},
   "outputs": [],
   "source": [
    "cm.df.plot(kind='imshow')"
   ]
  },
  {
   "cell_type": "code",
   "execution_count": null,
   "id": "9198c6be-e935-427e-9fd1-da1b4a769a40",
   "metadata": {},
   "outputs": [],
   "source": [
    "cm.visualize()"
   ]
  },
  {
   "cell_type": "code",
   "execution_count": null,
   "id": "0665389c-3fd4-4b11-ad30-492469e121ed",
   "metadata": {},
   "outputs": [],
   "source": []
  }
 ],
 "metadata": {
  "kernelspec": {
   "display_name": "Python 3 (ipykernel)",
   "language": "python",
   "name": "python3"
  },
  "language_info": {
   "codemirror_mode": {
    "name": "ipython",
    "version": 3
   },
   "file_extension": ".py",
   "mimetype": "text/x-python",
   "name": "python",
   "nbconvert_exporter": "python",
   "pygments_lexer": "ipython3"
  }
 },
 "nbformat": 4,
 "nbformat_minor": 5
}
