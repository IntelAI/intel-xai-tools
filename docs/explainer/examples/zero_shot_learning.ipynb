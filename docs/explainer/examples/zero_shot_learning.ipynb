{
 "cells": [
  {
   "cell_type": "markdown",
   "metadata": {},
   "source": [
    "# Explaining zero shot learning\n",
    "\n",
    "\n",
    "see [Explaining transformer models using SHAP](https://github.com/PacktPublishing/Applied-Machine-Learning-Explainability-Techniques/blob/main/Chapter07/Explaining_Transformers.ipynb)"
   ]
  },
  {
   "cell_type": "code",
   "execution_count": null,
   "metadata": {},
   "outputs": [],
   "source": [
    "import warnings\n",
    "warnings.filterwarnings('ignore')\n",
    "\n",
    "# add zero_shot_learning.pkz to path which includes a shap entry_point. See zero_shot_learning.yaml\n",
    "# to create the zero_shot_learning.pkz run 'explainer export zero_shot_learning'\n",
    "from explainer.explainers import lm_zeroshot_explainer\n",
    "\n",
    "import transformers\n",
    "print(f\"Hugging Face transformer version used: {transformers.__version__}\")\n",
    "from transformers import AutoModelForSequenceClassification, AutoTokenizer, ZeroShotClassificationPipeline\n",
    "from typing import Union, List"
   ]
  },
  {
   "cell_type": "code",
   "execution_count": null,
   "metadata": {},
   "outputs": [],
   "source": [
    "# Loading the hugging face model and tokenizer\n",
    "model = AutoModelForSequenceClassification.from_pretrained(\"valhalla/distilbart-mnli-12-3\")\n",
    "tokenizer = AutoTokenizer.from_pretrained(\"valhalla/distilbart-mnli-12-3\")"
   ]
  },
  {
   "cell_type": "code",
   "execution_count": null,
   "metadata": {},
   "outputs": [],
   "source": [
    "# Create a custom pipeline that only requires the text parameter \n",
    "# for the __call__ method and provides a method to set the labels\n",
    "class ZeroShotModelPipeline(ZeroShotClassificationPipeline):\n",
    "    # Overwrite the __call__ method\n",
    "    def __call__(self, *args):\n",
    "        out = super().__call__(args[0], self.set_labels)[0]\n",
    "\n",
    "        return [[{\"label\":x[0], \"score\": x[1]}  for x in zip(out[\"labels\"], out[\"scores\"])]]\n",
    "\n",
    "    def set_labels(self, labels: Union[str,List[str]]):\n",
    "        self.set_labels = labels"
   ]
  },
  {
   "cell_type": "code",
   "execution_count": null,
   "metadata": {},
   "outputs": [],
   "source": [
    "text = [\"I love playing cricket!\"]\n",
    "labels = [\"insect\",\"sports\", \"animal\"]"
   ]
  },
  {
   "cell_type": "code",
   "execution_count": null,
   "metadata": {},
   "outputs": [],
   "source": [
    "# Assign the labels for the classification model\n",
    "model.config.label2id.update({v:k for k,v in enumerate(labels)})\n",
    "model.config.id2label.update({k:v for k,v in enumerate(labels)})\n"
   ]
  },
  {
   "cell_type": "code",
   "execution_count": null,
   "metadata": {},
   "outputs": [],
   "source": [
    "pipe = ZeroShotModelPipeline(model=model, tokenizer=tokenizer, return_all_scores=True)\n",
    "pipe.set_labels(labels)"
   ]
  },
  {
   "cell_type": "code",
   "execution_count": null,
   "metadata": {},
   "outputs": [],
   "source": [
    "lm_zeroshot_explainer['zero_shot'](pipe, text)"
   ]
  },
  {
   "cell_type": "code",
   "execution_count": null,
   "metadata": {},
   "outputs": [],
   "source": []
  }
 ],
 "metadata": {
  "kernelspec": {
   "display_name": "xai-tools",
   "language": "python",
   "name": "xai-tools"
  },
  "language_info": {
   "codemirror_mode": {
    "name": "ipython",
    "version": 3
   },
   "file_extension": ".py",
   "mimetype": "text/x-python",
   "name": "python",
   "nbconvert_exporter": "python",
   "pygments_lexer": "ipython3"
  },
  "vscode": {
   "interpreter": {
    "hash": "47de4e6fcdf76d9f7e9823221d58331110ca8a86e4fcaa17b27f269bc08adee8"
   }
  },
  "widgets": {
   "application/vnd.jupyter.widget-state+json": {
    "state": {
     "19b0ddd02dc247419b80909ec338b95a": {
      "model_module": "@jupyter-widgets/controls",
      "model_module_version": "2.0.0",
      "model_name": "ProgressStyleModel",
      "state": {
       "description_width": ""
      }
     },
     "1ab3f6aef3bc4249abe6e269a6c5ca7a": {
      "model_module": "@jupyter-widgets/base",
      "model_module_version": "2.0.0",
      "model_name": "LayoutModel",
      "state": {}
     },
     "1bbc3d06a97f42fda6a7f4638ea09b82": {
      "model_module": "@jupyter-widgets/controls",
      "model_module_version": "2.0.0",
      "model_name": "FloatProgressModel",
      "state": {
       "layout": "IPY_MODEL_44eba0451d7f490d82b55195066712a4",
       "max": 42,
       "style": "IPY_MODEL_19b0ddd02dc247419b80909ec338b95a",
       "value": 42
      }
     },
     "29a410d9cfa64f4e944cda4c70542fc4": {
      "model_module": "@jupyter-widgets/controls",
      "model_module_version": "2.0.0",
      "model_name": "HTMLStyleModel",
      "state": {
       "description_width": "",
       "font_size": null,
       "text_color": null
      }
     },
     "44eba0451d7f490d82b55195066712a4": {
      "model_module": "@jupyter-widgets/base",
      "model_module_version": "2.0.0",
      "model_name": "LayoutModel",
      "state": {}
     },
     "5bb5806598c646a3b8995e457c3483e6": {
      "model_module": "@jupyter-widgets/controls",
      "model_module_version": "2.0.0",
      "model_name": "HTMLModel",
      "state": {
       "layout": "IPY_MODEL_1ab3f6aef3bc4249abe6e269a6c5ca7a",
       "style": "IPY_MODEL_bb2a32e2e2d8409b944839d1c0ffaa89",
       "value": " 84/? [00:11&lt;00:00,  5.33it/s]"
      }
     },
     "b98baa57c5104b488b8504b70cfb2dee": {
      "model_module": "@jupyter-widgets/controls",
      "model_module_version": "2.0.0",
      "model_name": "HTMLModel",
      "state": {
       "layout": "IPY_MODEL_ba3c4e6ea6d4459ea2635e0ed01b9574",
       "style": "IPY_MODEL_29a410d9cfa64f4e944cda4c70542fc4"
      }
     },
     "b9af5e4750154481a7d7ec0ea0288171": {
      "model_module": "@jupyter-widgets/base",
      "model_module_version": "2.0.0",
      "model_name": "LayoutModel",
      "state": {
       "visibility": "hidden"
      }
     },
     "ba3c4e6ea6d4459ea2635e0ed01b9574": {
      "model_module": "@jupyter-widgets/base",
      "model_module_version": "2.0.0",
      "model_name": "LayoutModel",
      "state": {}
     },
     "bb2a32e2e2d8409b944839d1c0ffaa89": {
      "model_module": "@jupyter-widgets/controls",
      "model_module_version": "2.0.0",
      "model_name": "HTMLStyleModel",
      "state": {
       "description_width": "",
       "font_size": null,
       "text_color": null
      }
     }
    },
    "version_major": 2,
    "version_minor": 0
   }
  }
 },
 "nbformat": 4,
 "nbformat_minor": 4
}
