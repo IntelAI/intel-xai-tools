{
 "cells": [
  {
   "cell_type": "markdown",
   "metadata": {},
   "source": [
    "## The Waterfall Plots for SHAP Values of Any Models\n",
    "\n",
    "* Please read [Explain your model with the SHAP values](https://towardsdatascience.com/explain-your-model-with-the-shap-values-bc36aac4de3d) and [The SHAP with More Elegant Charts](https://dataman-ai.medium.com/the-shap-with-more-elegant-charts-bc3e73fa1c0c)\n",
    "\n",
    "### Table of Contents\n",
    "* [Section 1: Matplotlib](#section1)\n",
    "    * [Section 1.1: Random forest](#section11)\n",
    "    * [Section 1.2: XGB](sSection12)\n",
    "* [Section 2: Plotly](#section2)\n",
    "    * [Section 2.1: Random forest](#section21)\n",
    "    * [Section 2.2: XGB](#section22)"
   ]
  },
  {
   "cell_type": "code",
   "execution_count": 1,
   "metadata": {},
   "outputs": [
    {
     "ename": "FileNotFoundError",
     "evalue": "[Errno 2] No such file or directory: 'winequality-red.csv'",
     "output_type": "error",
     "traceback": [
      "\u001b[0;31m---------------------------------------------------------------------------\u001b[0m",
      "\u001b[0;31mFileNotFoundError\u001b[0m                         Traceback (most recent call last)",
      "Input \u001b[0;32mIn [1]\u001b[0m, in \u001b[0;36m<cell line: 12>\u001b[0;34m()\u001b[0m\n\u001b[1;32m      9\u001b[0m \u001b[38;5;28;01mimport\u001b[39;00m \u001b[38;5;21;01mxgboost\u001b[39;00m \u001b[38;5;28;01mas\u001b[39;00m \u001b[38;5;21;01mxgb\u001b[39;00m\n\u001b[1;32m     11\u001b[0m path \u001b[38;5;241m=\u001b[39m \u001b[38;5;124m\"\u001b[39m\u001b[38;5;124m.\u001b[39m\u001b[38;5;124m\"\u001b[39m\n\u001b[0;32m---> 12\u001b[0m df \u001b[38;5;241m=\u001b[39m pd\u001b[38;5;241m.\u001b[39mread_csv(\u001b[38;5;124m'\u001b[39m\u001b[38;5;124mwinequality-red.csv\u001b[39m\u001b[38;5;124m'\u001b[39m)\n\u001b[1;32m     14\u001b[0m features \u001b[38;5;241m=\u001b[39m [\u001b[38;5;124m'\u001b[39m\u001b[38;5;124mfixed acidity\u001b[39m\u001b[38;5;124m'\u001b[39m, \u001b[38;5;124m'\u001b[39m\u001b[38;5;124mvolatile acidity\u001b[39m\u001b[38;5;124m'\u001b[39m, \u001b[38;5;124m'\u001b[39m\u001b[38;5;124mcitric acid\u001b[39m\u001b[38;5;124m'\u001b[39m, \u001b[38;5;124m'\u001b[39m\u001b[38;5;124mresidual sugar\u001b[39m\u001b[38;5;124m'\u001b[39m, \u001b[38;5;124m'\u001b[39m\u001b[38;5;124mchlorides\u001b[39m\u001b[38;5;124m'\u001b[39m, \n\u001b[1;32m     15\u001b[0m             \u001b[38;5;124m'\u001b[39m\u001b[38;5;124mfree sulfur dioxide\u001b[39m\u001b[38;5;124m'\u001b[39m, \u001b[38;5;124m'\u001b[39m\u001b[38;5;124mtotal sulfur dioxide\u001b[39m\u001b[38;5;124m'\u001b[39m, \u001b[38;5;124m'\u001b[39m\u001b[38;5;124mdensity\u001b[39m\u001b[38;5;124m'\u001b[39m, \u001b[38;5;124m'\u001b[39m\u001b[38;5;124mpH\u001b[39m\u001b[38;5;124m'\u001b[39m, \u001b[38;5;124m'\u001b[39m\u001b[38;5;124msulphates\u001b[39m\u001b[38;5;124m'\u001b[39m, \u001b[38;5;124m'\u001b[39m\u001b[38;5;124malcohol\u001b[39m\u001b[38;5;124m'\u001b[39m]\n\u001b[1;32m     16\u001b[0m Y \u001b[38;5;241m=\u001b[39m np\u001b[38;5;241m.\u001b[39mwhere(df[\u001b[38;5;124m'\u001b[39m\u001b[38;5;124mquality\u001b[39m\u001b[38;5;124m'\u001b[39m]\u001b[38;5;241m>\u001b[39m\u001b[38;5;241m6\u001b[39m,\u001b[38;5;241m1\u001b[39m,\u001b[38;5;241m0\u001b[39m)\n",
      "File \u001b[0;32m~/.conda/envs/interpret/lib/python3.8/site-packages/pandas/util/_decorators.py:311\u001b[0m, in \u001b[0;36mdeprecate_nonkeyword_arguments.<locals>.decorate.<locals>.wrapper\u001b[0;34m(*args, **kwargs)\u001b[0m\n\u001b[1;32m    305\u001b[0m \u001b[38;5;28;01mif\u001b[39;00m \u001b[38;5;28mlen\u001b[39m(args) \u001b[38;5;241m>\u001b[39m num_allow_args:\n\u001b[1;32m    306\u001b[0m     warnings\u001b[38;5;241m.\u001b[39mwarn(\n\u001b[1;32m    307\u001b[0m         msg\u001b[38;5;241m.\u001b[39mformat(arguments\u001b[38;5;241m=\u001b[39marguments),\n\u001b[1;32m    308\u001b[0m         \u001b[38;5;167;01mFutureWarning\u001b[39;00m,\n\u001b[1;32m    309\u001b[0m         stacklevel\u001b[38;5;241m=\u001b[39mstacklevel,\n\u001b[1;32m    310\u001b[0m     )\n\u001b[0;32m--> 311\u001b[0m \u001b[38;5;28;01mreturn\u001b[39;00m \u001b[43mfunc\u001b[49m\u001b[43m(\u001b[49m\u001b[38;5;241;43m*\u001b[39;49m\u001b[43margs\u001b[49m\u001b[43m,\u001b[49m\u001b[43m \u001b[49m\u001b[38;5;241;43m*\u001b[39;49m\u001b[38;5;241;43m*\u001b[39;49m\u001b[43mkwargs\u001b[49m\u001b[43m)\u001b[49m\n",
      "File \u001b[0;32m~/.conda/envs/interpret/lib/python3.8/site-packages/pandas/io/parsers/readers.py:586\u001b[0m, in \u001b[0;36mread_csv\u001b[0;34m(filepath_or_buffer, sep, delimiter, header, names, index_col, usecols, squeeze, prefix, mangle_dupe_cols, dtype, engine, converters, true_values, false_values, skipinitialspace, skiprows, skipfooter, nrows, na_values, keep_default_na, na_filter, verbose, skip_blank_lines, parse_dates, infer_datetime_format, keep_date_col, date_parser, dayfirst, cache_dates, iterator, chunksize, compression, thousands, decimal, lineterminator, quotechar, quoting, doublequote, escapechar, comment, encoding, encoding_errors, dialect, error_bad_lines, warn_bad_lines, on_bad_lines, delim_whitespace, low_memory, memory_map, float_precision, storage_options)\u001b[0m\n\u001b[1;32m    571\u001b[0m kwds_defaults \u001b[38;5;241m=\u001b[39m _refine_defaults_read(\n\u001b[1;32m    572\u001b[0m     dialect,\n\u001b[1;32m    573\u001b[0m     delimiter,\n\u001b[0;32m   (...)\u001b[0m\n\u001b[1;32m    582\u001b[0m     defaults\u001b[38;5;241m=\u001b[39m{\u001b[38;5;124m\"\u001b[39m\u001b[38;5;124mdelimiter\u001b[39m\u001b[38;5;124m\"\u001b[39m: \u001b[38;5;124m\"\u001b[39m\u001b[38;5;124m,\u001b[39m\u001b[38;5;124m\"\u001b[39m},\n\u001b[1;32m    583\u001b[0m )\n\u001b[1;32m    584\u001b[0m kwds\u001b[38;5;241m.\u001b[39mupdate(kwds_defaults)\n\u001b[0;32m--> 586\u001b[0m \u001b[38;5;28;01mreturn\u001b[39;00m \u001b[43m_read\u001b[49m\u001b[43m(\u001b[49m\u001b[43mfilepath_or_buffer\u001b[49m\u001b[43m,\u001b[49m\u001b[43m \u001b[49m\u001b[43mkwds\u001b[49m\u001b[43m)\u001b[49m\n",
      "File \u001b[0;32m~/.conda/envs/interpret/lib/python3.8/site-packages/pandas/io/parsers/readers.py:482\u001b[0m, in \u001b[0;36m_read\u001b[0;34m(filepath_or_buffer, kwds)\u001b[0m\n\u001b[1;32m    479\u001b[0m _validate_names(kwds\u001b[38;5;241m.\u001b[39mget(\u001b[38;5;124m\"\u001b[39m\u001b[38;5;124mnames\u001b[39m\u001b[38;5;124m\"\u001b[39m, \u001b[38;5;28;01mNone\u001b[39;00m))\n\u001b[1;32m    481\u001b[0m \u001b[38;5;66;03m# Create the parser.\u001b[39;00m\n\u001b[0;32m--> 482\u001b[0m parser \u001b[38;5;241m=\u001b[39m \u001b[43mTextFileReader\u001b[49m\u001b[43m(\u001b[49m\u001b[43mfilepath_or_buffer\u001b[49m\u001b[43m,\u001b[49m\u001b[43m \u001b[49m\u001b[38;5;241;43m*\u001b[39;49m\u001b[38;5;241;43m*\u001b[39;49m\u001b[43mkwds\u001b[49m\u001b[43m)\u001b[49m\n\u001b[1;32m    484\u001b[0m \u001b[38;5;28;01mif\u001b[39;00m chunksize \u001b[38;5;129;01mor\u001b[39;00m iterator:\n\u001b[1;32m    485\u001b[0m     \u001b[38;5;28;01mreturn\u001b[39;00m parser\n",
      "File \u001b[0;32m~/.conda/envs/interpret/lib/python3.8/site-packages/pandas/io/parsers/readers.py:811\u001b[0m, in \u001b[0;36mTextFileReader.__init__\u001b[0;34m(self, f, engine, **kwds)\u001b[0m\n\u001b[1;32m    808\u001b[0m \u001b[38;5;28;01mif\u001b[39;00m \u001b[38;5;124m\"\u001b[39m\u001b[38;5;124mhas_index_names\u001b[39m\u001b[38;5;124m\"\u001b[39m \u001b[38;5;129;01min\u001b[39;00m kwds:\n\u001b[1;32m    809\u001b[0m     \u001b[38;5;28mself\u001b[39m\u001b[38;5;241m.\u001b[39moptions[\u001b[38;5;124m\"\u001b[39m\u001b[38;5;124mhas_index_names\u001b[39m\u001b[38;5;124m\"\u001b[39m] \u001b[38;5;241m=\u001b[39m kwds[\u001b[38;5;124m\"\u001b[39m\u001b[38;5;124mhas_index_names\u001b[39m\u001b[38;5;124m\"\u001b[39m]\n\u001b[0;32m--> 811\u001b[0m \u001b[38;5;28mself\u001b[39m\u001b[38;5;241m.\u001b[39m_engine \u001b[38;5;241m=\u001b[39m \u001b[38;5;28;43mself\u001b[39;49m\u001b[38;5;241;43m.\u001b[39;49m\u001b[43m_make_engine\u001b[49m\u001b[43m(\u001b[49m\u001b[38;5;28;43mself\u001b[39;49m\u001b[38;5;241;43m.\u001b[39;49m\u001b[43mengine\u001b[49m\u001b[43m)\u001b[49m\n",
      "File \u001b[0;32m~/.conda/envs/interpret/lib/python3.8/site-packages/pandas/io/parsers/readers.py:1040\u001b[0m, in \u001b[0;36mTextFileReader._make_engine\u001b[0;34m(self, engine)\u001b[0m\n\u001b[1;32m   1036\u001b[0m     \u001b[38;5;28;01mraise\u001b[39;00m \u001b[38;5;167;01mValueError\u001b[39;00m(\n\u001b[1;32m   1037\u001b[0m         \u001b[38;5;124mf\u001b[39m\u001b[38;5;124m\"\u001b[39m\u001b[38;5;124mUnknown engine: \u001b[39m\u001b[38;5;132;01m{\u001b[39;00mengine\u001b[38;5;132;01m}\u001b[39;00m\u001b[38;5;124m (valid options are \u001b[39m\u001b[38;5;132;01m{\u001b[39;00mmapping\u001b[38;5;241m.\u001b[39mkeys()\u001b[38;5;132;01m}\u001b[39;00m\u001b[38;5;124m)\u001b[39m\u001b[38;5;124m\"\u001b[39m\n\u001b[1;32m   1038\u001b[0m     )\n\u001b[1;32m   1039\u001b[0m \u001b[38;5;66;03m# error: Too many arguments for \"ParserBase\"\u001b[39;00m\n\u001b[0;32m-> 1040\u001b[0m \u001b[38;5;28;01mreturn\u001b[39;00m \u001b[43mmapping\u001b[49m\u001b[43m[\u001b[49m\u001b[43mengine\u001b[49m\u001b[43m]\u001b[49m\u001b[43m(\u001b[49m\u001b[38;5;28;43mself\u001b[39;49m\u001b[38;5;241;43m.\u001b[39;49m\u001b[43mf\u001b[49m\u001b[43m,\u001b[49m\u001b[43m \u001b[49m\u001b[38;5;241;43m*\u001b[39;49m\u001b[38;5;241;43m*\u001b[39;49m\u001b[38;5;28;43mself\u001b[39;49m\u001b[38;5;241;43m.\u001b[39;49m\u001b[43moptions\u001b[49m\u001b[43m)\u001b[49m\n",
      "File \u001b[0;32m~/.conda/envs/interpret/lib/python3.8/site-packages/pandas/io/parsers/c_parser_wrapper.py:51\u001b[0m, in \u001b[0;36mCParserWrapper.__init__\u001b[0;34m(self, src, **kwds)\u001b[0m\n\u001b[1;32m     48\u001b[0m kwds[\u001b[38;5;124m\"\u001b[39m\u001b[38;5;124musecols\u001b[39m\u001b[38;5;124m\"\u001b[39m] \u001b[38;5;241m=\u001b[39m \u001b[38;5;28mself\u001b[39m\u001b[38;5;241m.\u001b[39musecols\n\u001b[1;32m     50\u001b[0m \u001b[38;5;66;03m# open handles\u001b[39;00m\n\u001b[0;32m---> 51\u001b[0m \u001b[38;5;28;43mself\u001b[39;49m\u001b[38;5;241;43m.\u001b[39;49m\u001b[43m_open_handles\u001b[49m\u001b[43m(\u001b[49m\u001b[43msrc\u001b[49m\u001b[43m,\u001b[49m\u001b[43m \u001b[49m\u001b[43mkwds\u001b[49m\u001b[43m)\u001b[49m\n\u001b[1;32m     52\u001b[0m \u001b[38;5;28;01massert\u001b[39;00m \u001b[38;5;28mself\u001b[39m\u001b[38;5;241m.\u001b[39mhandles \u001b[38;5;129;01mis\u001b[39;00m \u001b[38;5;129;01mnot\u001b[39;00m \u001b[38;5;28;01mNone\u001b[39;00m\n\u001b[1;32m     54\u001b[0m \u001b[38;5;66;03m# Have to pass int, would break tests using TextReader directly otherwise :(\u001b[39;00m\n",
      "File \u001b[0;32m~/.conda/envs/interpret/lib/python3.8/site-packages/pandas/io/parsers/base_parser.py:222\u001b[0m, in \u001b[0;36mParserBase._open_handles\u001b[0;34m(self, src, kwds)\u001b[0m\n\u001b[1;32m    218\u001b[0m \u001b[38;5;28;01mdef\u001b[39;00m \u001b[38;5;21m_open_handles\u001b[39m(\u001b[38;5;28mself\u001b[39m, src: FilePathOrBuffer, kwds: \u001b[38;5;28mdict\u001b[39m[\u001b[38;5;28mstr\u001b[39m, Any]) \u001b[38;5;241m-\u001b[39m\u001b[38;5;241m>\u001b[39m \u001b[38;5;28;01mNone\u001b[39;00m:\n\u001b[1;32m    219\u001b[0m     \u001b[38;5;124;03m\"\"\"\u001b[39;00m\n\u001b[1;32m    220\u001b[0m \u001b[38;5;124;03m    Let the readers open IOHandles after they are done with their potential raises.\u001b[39;00m\n\u001b[1;32m    221\u001b[0m \u001b[38;5;124;03m    \"\"\"\u001b[39;00m\n\u001b[0;32m--> 222\u001b[0m     \u001b[38;5;28mself\u001b[39m\u001b[38;5;241m.\u001b[39mhandles \u001b[38;5;241m=\u001b[39m \u001b[43mget_handle\u001b[49m\u001b[43m(\u001b[49m\n\u001b[1;32m    223\u001b[0m \u001b[43m        \u001b[49m\u001b[43msrc\u001b[49m\u001b[43m,\u001b[49m\n\u001b[1;32m    224\u001b[0m \u001b[43m        \u001b[49m\u001b[38;5;124;43m\"\u001b[39;49m\u001b[38;5;124;43mr\u001b[39;49m\u001b[38;5;124;43m\"\u001b[39;49m\u001b[43m,\u001b[49m\n\u001b[1;32m    225\u001b[0m \u001b[43m        \u001b[49m\u001b[43mencoding\u001b[49m\u001b[38;5;241;43m=\u001b[39;49m\u001b[43mkwds\u001b[49m\u001b[38;5;241;43m.\u001b[39;49m\u001b[43mget\u001b[49m\u001b[43m(\u001b[49m\u001b[38;5;124;43m\"\u001b[39;49m\u001b[38;5;124;43mencoding\u001b[39;49m\u001b[38;5;124;43m\"\u001b[39;49m\u001b[43m,\u001b[49m\u001b[43m \u001b[49m\u001b[38;5;28;43;01mNone\u001b[39;49;00m\u001b[43m)\u001b[49m\u001b[43m,\u001b[49m\n\u001b[1;32m    226\u001b[0m \u001b[43m        \u001b[49m\u001b[43mcompression\u001b[49m\u001b[38;5;241;43m=\u001b[39;49m\u001b[43mkwds\u001b[49m\u001b[38;5;241;43m.\u001b[39;49m\u001b[43mget\u001b[49m\u001b[43m(\u001b[49m\u001b[38;5;124;43m\"\u001b[39;49m\u001b[38;5;124;43mcompression\u001b[39;49m\u001b[38;5;124;43m\"\u001b[39;49m\u001b[43m,\u001b[49m\u001b[43m \u001b[49m\u001b[38;5;28;43;01mNone\u001b[39;49;00m\u001b[43m)\u001b[49m\u001b[43m,\u001b[49m\n\u001b[1;32m    227\u001b[0m \u001b[43m        \u001b[49m\u001b[43mmemory_map\u001b[49m\u001b[38;5;241;43m=\u001b[39;49m\u001b[43mkwds\u001b[49m\u001b[38;5;241;43m.\u001b[39;49m\u001b[43mget\u001b[49m\u001b[43m(\u001b[49m\u001b[38;5;124;43m\"\u001b[39;49m\u001b[38;5;124;43mmemory_map\u001b[39;49m\u001b[38;5;124;43m\"\u001b[39;49m\u001b[43m,\u001b[49m\u001b[43m \u001b[49m\u001b[38;5;28;43;01mFalse\u001b[39;49;00m\u001b[43m)\u001b[49m\u001b[43m,\u001b[49m\n\u001b[1;32m    228\u001b[0m \u001b[43m        \u001b[49m\u001b[43mstorage_options\u001b[49m\u001b[38;5;241;43m=\u001b[39;49m\u001b[43mkwds\u001b[49m\u001b[38;5;241;43m.\u001b[39;49m\u001b[43mget\u001b[49m\u001b[43m(\u001b[49m\u001b[38;5;124;43m\"\u001b[39;49m\u001b[38;5;124;43mstorage_options\u001b[39;49m\u001b[38;5;124;43m\"\u001b[39;49m\u001b[43m,\u001b[49m\u001b[43m \u001b[49m\u001b[38;5;28;43;01mNone\u001b[39;49;00m\u001b[43m)\u001b[49m\u001b[43m,\u001b[49m\n\u001b[1;32m    229\u001b[0m \u001b[43m        \u001b[49m\u001b[43merrors\u001b[49m\u001b[38;5;241;43m=\u001b[39;49m\u001b[43mkwds\u001b[49m\u001b[38;5;241;43m.\u001b[39;49m\u001b[43mget\u001b[49m\u001b[43m(\u001b[49m\u001b[38;5;124;43m\"\u001b[39;49m\u001b[38;5;124;43mencoding_errors\u001b[39;49m\u001b[38;5;124;43m\"\u001b[39;49m\u001b[43m,\u001b[49m\u001b[43m \u001b[49m\u001b[38;5;124;43m\"\u001b[39;49m\u001b[38;5;124;43mstrict\u001b[39;49m\u001b[38;5;124;43m\"\u001b[39;49m\u001b[43m)\u001b[49m\u001b[43m,\u001b[49m\n\u001b[1;32m    230\u001b[0m \u001b[43m    \u001b[49m\u001b[43m)\u001b[49m\n",
      "File \u001b[0;32m~/.conda/envs/interpret/lib/python3.8/site-packages/pandas/io/common.py:702\u001b[0m, in \u001b[0;36mget_handle\u001b[0;34m(path_or_buf, mode, encoding, compression, memory_map, is_text, errors, storage_options)\u001b[0m\n\u001b[1;32m    697\u001b[0m \u001b[38;5;28;01melif\u001b[39;00m \u001b[38;5;28misinstance\u001b[39m(handle, \u001b[38;5;28mstr\u001b[39m):\n\u001b[1;32m    698\u001b[0m     \u001b[38;5;66;03m# Check whether the filename is to be opened in binary mode.\u001b[39;00m\n\u001b[1;32m    699\u001b[0m     \u001b[38;5;66;03m# Binary mode does not support 'encoding' and 'newline'.\u001b[39;00m\n\u001b[1;32m    700\u001b[0m     \u001b[38;5;28;01mif\u001b[39;00m ioargs\u001b[38;5;241m.\u001b[39mencoding \u001b[38;5;129;01mand\u001b[39;00m \u001b[38;5;124m\"\u001b[39m\u001b[38;5;124mb\u001b[39m\u001b[38;5;124m\"\u001b[39m \u001b[38;5;129;01mnot\u001b[39;00m \u001b[38;5;129;01min\u001b[39;00m ioargs\u001b[38;5;241m.\u001b[39mmode:\n\u001b[1;32m    701\u001b[0m         \u001b[38;5;66;03m# Encoding\u001b[39;00m\n\u001b[0;32m--> 702\u001b[0m         handle \u001b[38;5;241m=\u001b[39m \u001b[38;5;28;43mopen\u001b[39;49m\u001b[43m(\u001b[49m\n\u001b[1;32m    703\u001b[0m \u001b[43m            \u001b[49m\u001b[43mhandle\u001b[49m\u001b[43m,\u001b[49m\n\u001b[1;32m    704\u001b[0m \u001b[43m            \u001b[49m\u001b[43mioargs\u001b[49m\u001b[38;5;241;43m.\u001b[39;49m\u001b[43mmode\u001b[49m\u001b[43m,\u001b[49m\n\u001b[1;32m    705\u001b[0m \u001b[43m            \u001b[49m\u001b[43mencoding\u001b[49m\u001b[38;5;241;43m=\u001b[39;49m\u001b[43mioargs\u001b[49m\u001b[38;5;241;43m.\u001b[39;49m\u001b[43mencoding\u001b[49m\u001b[43m,\u001b[49m\n\u001b[1;32m    706\u001b[0m \u001b[43m            \u001b[49m\u001b[43merrors\u001b[49m\u001b[38;5;241;43m=\u001b[39;49m\u001b[43merrors\u001b[49m\u001b[43m,\u001b[49m\n\u001b[1;32m    707\u001b[0m \u001b[43m            \u001b[49m\u001b[43mnewline\u001b[49m\u001b[38;5;241;43m=\u001b[39;49m\u001b[38;5;124;43m\"\u001b[39;49m\u001b[38;5;124;43m\"\u001b[39;49m\u001b[43m,\u001b[49m\n\u001b[1;32m    708\u001b[0m \u001b[43m        \u001b[49m\u001b[43m)\u001b[49m\n\u001b[1;32m    709\u001b[0m     \u001b[38;5;28;01melse\u001b[39;00m:\n\u001b[1;32m    710\u001b[0m         \u001b[38;5;66;03m# Binary mode\u001b[39;00m\n\u001b[1;32m    711\u001b[0m         handle \u001b[38;5;241m=\u001b[39m \u001b[38;5;28mopen\u001b[39m(handle, ioargs\u001b[38;5;241m.\u001b[39mmode)\n",
      "\u001b[0;31mFileNotFoundError\u001b[0m: [Errno 2] No such file or directory: 'winequality-red.csv'"
     ]
    }
   ],
   "source": [
    "from sklearn.model_selection import train_test_split\n",
    "import shap\n",
    "import pandas as pd\n",
    "import numpy as np\n",
    "import matplotlib.pyplot as plt\n",
    "import xgboost as xgb\n",
    "from sklearn.ensemble import RandomForestRegressor\n",
    "from sklearn.ensemble import GradientBoostingClassifier\n",
    "import xgboost as xgb\n",
    "\n",
    "path = \".\"\n",
    "df = pd.read_csv('winequality-red.csv')\n",
    "\n",
    "features = ['fixed acidity', 'volatile acidity', 'citric acid', 'residual sugar', 'chlorides', \n",
    "            'free sulfur dioxide', 'total sulfur dioxide', 'density', 'pH', 'sulphates', 'alcohol']\n",
    "Y = np.where(df['quality']>6,1,0)\n",
    "X =  df[features]\n",
    "X_train, X_test, Y_train, Y_test = train_test_split(X, Y, test_size = 0.2, random_state = 1234)\n",
    "df['quality'] = df['quality'].astype(int)\n",
    "df.head()"
   ]
  },
  {
   "cell_type": "code",
   "execution_count": 6,
   "metadata": {},
   "outputs": [
    {
     "data": {
      "text/plain": [
       "<AxesSubplot:>"
      ]
     },
     "execution_count": 6,
     "metadata": {},
     "output_type": "execute_result"
    },
    {
     "data": {
      "image/png": "[encoded data removed]",
      "text/plain": [
       "<Figure size 432x288 with 1 Axes>"
      ]
     },
     "metadata": {
      "needs_background": "light"
     },
     "output_type": "display_data"
    }
   ],
   "source": [
    "df['quality'].hist()"
   ]
  },
  {
   "cell_type": "markdown",
   "metadata": {},
   "source": [
    "## (1) Matplotlib <a class=\"anchor\" id=\"section1\"></a>\n",
    "\n",
    "### (1.1) Random forest <a class=\"anchor\" id=\"section11\"></a>\n",
    "\n"
   ]
  },
  {
   "cell_type": "code",
   "execution_count": 7,
   "metadata": {},
   "outputs": [
    {
     "data": {
      "text/plain": [
       "0.6940550067343673"
      ]
     },
     "execution_count": 7,
     "metadata": {},
     "output_type": "execute_result"
    }
   ],
   "source": [
    "# Build the model with the random forest regression algorithm:\n",
    "rf_model = RandomForestRegressor(max_depth=6, random_state=0, n_estimators=10)\n",
    "rf_model.fit(X_train, Y_train).score(X_train,Y_train)"
   ]
  },
  {
   "cell_type": "code",
   "execution_count": 19,
   "metadata": {},
   "outputs": [],
   "source": [
    "rf_model_explainer = shap.TreeExplainer(rf_model)\n",
    "rf_shap_values = rf_model_explainer.shap_values(X_test)\n",
    "base_value = Y_train.mean()\n",
    "Y_pred_prob = rf_model.predict(X_test)\n",
    "Y_pred = np.where(Y_pred_prob>base_value,1,0)"
   ]
  },
  {
   "cell_type": "markdown",
   "metadata": {},
   "source": [
    "### (1.2) Waterfall plot  <a class=\"anchor\" id=\"section12\"></a>"
   ]
  },
  {
   "cell_type": "code",
   "execution_count": 9,
   "metadata": {},
   "outputs": [],
   "source": [
    "import numpy as np\n",
    "import pandas as pd\n",
    "\n",
    "class waterfall():\n",
    "    def __init__(self, data, shap_values, \n",
    "                       base_value, \n",
    "                       path = \"\",\n",
    "                       green_color ='#29EA38' , \n",
    "                       red_color = '#FB3C62', \n",
    "                       n=8,\n",
    "                       title=\"The Prediction \" ,\n",
    "                       x_lab=\"\",\n",
    "                       y_lab=\"The predicted value\",\n",
    "                       formatting = \"{:,.2f}\",\n",
    "                       rotation_value = 90,\n",
    "                       figsize = (7,5)\n",
    "                \n",
    "                ):\n",
    "        self.data        = data\n",
    "        self.shap_values = shap_values\n",
    "        self.base_value  = base_value\n",
    "        self.green_color = green_color\n",
    "        self.red_color   = red_color\n",
    "        self.n           = n\n",
    "        self.title       = title\n",
    "        self.x_lab       = x_lab\n",
    "        self.y_lab       = y_lab\n",
    "        self.formatting  = formatting\n",
    "        self.rotation_value = rotation_value\n",
    "        self.figsize     = figsize\n",
    "        self._plot       = pd.DataFrame()\n",
    "        self.path        = path\n",
    "\n",
    "    def obs_to_explain(self):\n",
    "        '''\n",
    "          - data: the observation. It is a Pandas series. The index contains the variable names \n",
    "          - shap_values: the shap_values for the above observation \n",
    "          - base_value: the base_value, which is the expected value or the mean of the target value of the training set\n",
    "          - green_color: the color for the up bar\n",
    "          - red_color: the color for the down bar\n",
    "          - for_plot: a sorted data frame by the absolute value of shape in descending order\n",
    "          - n: show the top n (default) variables. The rest variables are summed up into \"others\"\n",
    "        '''\n",
    "        for_plot = pd.DataFrame({'data':np.round(self.data,2),\n",
    "                                 'shap':self.shap_values,\n",
    "                                 'shap_abs': np.abs(self.shap_values),\n",
    "                                 'label': self.data.index\n",
    "                                })\n",
    "        for_plot = for_plot.sort_values(by='shap_abs',ascending=False)\n",
    "\n",
    "        # Split the variables into n and the rest. Only show the top n\n",
    "        for_plot1 = for_plot.iloc[0:self.n,:]\n",
    "        for_plot2 = for_plot.iloc[self.n:,:]\n",
    "\n",
    "        # Sum up the rest as 'others'\n",
    "        rest = pd.DataFrame({'data': '','shap':for_plot2['shap'].sum(), 'label': 'Others'},index=['others'])\n",
    "        for_plot = for_plot1.append(rest)\n",
    "\n",
    "        # Sum up the rest into 'others'\n",
    "        base = pd.DataFrame({'data': np.round(self.base_value,2),'shap':self.base_value, 'label': 'Base value'},index=['base_value'])\n",
    "        for_plot = base.append(for_plot)\n",
    "\n",
    "        for_plot['blank'] = for_plot['shap'].cumsum().shift(1).fillna(0) # +  base_value\n",
    "        for_plot['label'] = + for_plot['label'] + \" =\" + for_plot['data'].map(str) \n",
    "        for_plot['color'] = np.where(for_plot['shap']>0,self.green_color,self.red_color)\n",
    "        for_plot = for_plot.drop(['data','shap_abs'],axis=1)\n",
    "        \n",
    "        self.for_plot = for_plot\n",
    "        \n",
    "        return(for_plot ) \n",
    "    \n",
    "    def plt_plot(self):\n",
    "        '''\n",
    "          - x_lab, y_lab: the x label and y label\n",
    "          - formatting: show the value of each bar \n",
    "        '''\n",
    "\n",
    "        fig, ax = plt.subplots(figsize=self.figsize)\n",
    "\n",
    "        # Plot the waterfall    \n",
    "        plt.bar(range(0,len(self.for_plot.index)), self.for_plot['shap'], width=0.6,\n",
    "              bottom=self.for_plot['blank'],     color=self.for_plot['color'])     \n",
    "\n",
    "        #axis labels\n",
    "        plt.xlabel(\"\\n\" + self.x_lab)\n",
    "        plt.ylabel(self.y_lab + \"\\n\")\n",
    "\n",
    "        #Get the y-axis position for the labels\n",
    "        y_height = self.for_plot.shap.cumsum().shift(1).fillna(0)\n",
    "\n",
    "        plot_max = self.for_plot['shap'].max()\n",
    "        plot_min = self.for_plot['shap'].min()\n",
    "        pos_offset = plot_max / 40\n",
    "        plot_offset = plot_max / 15 \n",
    "        total = self.for_plot.sum().shap \n",
    "\n",
    "        # label the shap values\n",
    "        loop = 0\n",
    "        for index, row in self.for_plot.iterrows():\n",
    "            # For the last item in the list, we don't want to double count\n",
    "            if row['shap'] == total:\n",
    "                    y = y_height[loop]\n",
    "            else:\n",
    "                    y = y_height[loop] + row['shap']\n",
    "\n",
    "            if row['shap'] > 0:\n",
    "                    y += (pos_offset*2)\n",
    "                    plt.annotate(self.formatting.format(row['shap']),(loop,y),ha=\"center\", color = self.green_color, fontsize=10)\n",
    "            else:\n",
    "                    y -= (pos_offset*4)\n",
    "                    plt.annotate(self.formatting.format(row['shap']),(loop,y),ha=\"center\", color = self.red_color, fontsize=10)\n",
    "            loop+=1\n",
    "\n",
    "        # Range of the ylim\n",
    "        plt.ylim(plot_min-round(3.6*plot_offset, 7) ,plot_max+round(3.6*plot_offset, 7))\n",
    "\n",
    "        #Rotate the labels\n",
    "        plt.xticks(range(0,len(self.for_plot)), self.for_plot['label'], rotation=self.rotation_value)\n",
    "\n",
    "        #add the base value line and title\n",
    "        #plt.axhline(base_value, color='black', linewidth = 0.6, linestyle=\"dashed\")\n",
    "        plt.title(self.title)\n",
    "\n",
    "        import matplotlib.patches as mpatches\n",
    "        red_patch = mpatches.Patch(color=self.red_color, label='Down')\n",
    "        green_patch = mpatches.Patch(color=self.green_color, label='Up')\n",
    "        plt.legend(handles=[red_patch,green_patch],bbox_to_anchor=[1, 1], loc='upper left')\n",
    "\n",
    "        #plt.tight_layout()\n",
    "        #return(fig)\n",
    "    \n",
    "    def plotly_plot(self):\n",
    "        import plotly.graph_objects as go\n",
    "        import numpy as np\n",
    "\n",
    "        ys = self.for_plot['shap'].round(2)\n",
    "        ms = list(np.repeat('relative',len(ys)))\n",
    "        xs = list(self.for_plot['label'].values)\n",
    "        texts = self.for_plot['shap'].round(2)\n",
    "\n",
    "        fig = go.Figure(go.Waterfall(\n",
    "            name = \"20\", orientation = \"v\",\n",
    "            measure = ms,\n",
    "            x = xs,\n",
    "            textposition = \"outside\",\n",
    "            text = texts,\n",
    "            y = ys,\n",
    "            connector = {\"line\":{\"color\":\"rgb(63, 63, 63)\"} },\n",
    "           ) )\n",
    "\n",
    "\n",
    "        layout = go.Layout(\n",
    "            paper_bgcolor='rgba(0,0,0,0)',\n",
    "            plot_bgcolor='rgba(0,0,0,0)'\n",
    "        )\n",
    "\n",
    "        fig.update_layout(\n",
    "            template=\"plotly_white\",\n",
    "            title =\"The prediction of this observation is \" ,\n",
    "            margin=dict(l=120, r=120, t=60, b=60),\n",
    "            yaxis=dict(\n",
    "                title_text=\"The predicted value\" \n",
    "            ),\n",
    "            xaxis =dict(\n",
    "                tickangle = -90,\n",
    "                title_text = \"Variables\")\n",
    "        )\n",
    "        fig.write_html(self.path + \"/f.html\", auto_open=True)\n",
    "    \n",
    "    "
   ]
  },
  {
   "cell_type": "code",
   "execution_count": 10,
   "metadata": {},
   "outputs": [
    {
     "data": {
      "text/html": [
       "<div>\n",
       "<style scoped>\n",
       "    .dataframe tbody tr th:only-of-type {\n",
       "        vertical-align: middle;\n",
       "    }\n",
       "\n",
       "    .dataframe tbody tr th {\n",
       "        vertical-align: top;\n",
       "    }\n",
       "\n",
       "    .dataframe thead th {\n",
       "        text-align: right;\n",
       "    }\n",
       "</style>\n",
       "<table border=\"1\" class=\"dataframe\">\n",
       "  <thead>\n",
       "    <tr style=\"text-align: right;\">\n",
       "      <th></th>\n",
       "      <th>shap</th>\n",
       "      <th>label</th>\n",
       "      <th>blank</th>\n",
       "      <th>color</th>\n",
       "    </tr>\n",
       "  </thead>\n",
       "  <tbody>\n",
       "    <tr>\n",
       "      <th>base_value</th>\n",
       "      <td>0.137608</td>\n",
       "      <td>Base value =0.14</td>\n",
       "      <td>0.000000</td>\n",
       "      <td>#29EA38</td>\n",
       "    </tr>\n",
       "    <tr>\n",
       "      <th>alcohol</th>\n",
       "      <td>-0.055662</td>\n",
       "      <td>alcohol =9.5</td>\n",
       "      <td>0.137608</td>\n",
       "      <td>#FB3C62</td>\n",
       "    </tr>\n",
       "    <tr>\n",
       "      <th>total sulfur dioxide</th>\n",
       "      <td>-0.036046</td>\n",
       "      <td>total sulfur dioxide =81.0</td>\n",
       "      <td>0.081945</td>\n",
       "      <td>#FB3C62</td>\n",
       "    </tr>\n",
       "    <tr>\n",
       "      <th>sulphates</th>\n",
       "      <td>-0.022881</td>\n",
       "      <td>sulphates =0.54</td>\n",
       "      <td>0.045899</td>\n",
       "      <td>#FB3C62</td>\n",
       "    </tr>\n",
       "    <tr>\n",
       "      <th>volatile acidity</th>\n",
       "      <td>-0.019963</td>\n",
       "      <td>volatile acidity =0.72</td>\n",
       "      <td>0.023018</td>\n",
       "      <td>#FB3C62</td>\n",
       "    </tr>\n",
       "    <tr>\n",
       "      <th>free sulfur dioxide</th>\n",
       "      <td>0.014723</td>\n",
       "      <td>free sulfur dioxide =13.0</td>\n",
       "      <td>0.003055</td>\n",
       "      <td>#29EA38</td>\n",
       "    </tr>\n",
       "    <tr>\n",
       "      <th>citric acid</th>\n",
       "      <td>-0.004883</td>\n",
       "      <td>citric acid =0.22</td>\n",
       "      <td>0.017778</td>\n",
       "      <td>#FB3C62</td>\n",
       "    </tr>\n",
       "    <tr>\n",
       "      <th>density</th>\n",
       "      <td>-0.003330</td>\n",
       "      <td>density =1.0</td>\n",
       "      <td>0.012895</td>\n",
       "      <td>#FB3C62</td>\n",
       "    </tr>\n",
       "    <tr>\n",
       "      <th>residual sugar</th>\n",
       "      <td>-0.003327</td>\n",
       "      <td>residual sugar =2.3</td>\n",
       "      <td>0.009564</td>\n",
       "      <td>#FB3C62</td>\n",
       "    </tr>\n",
       "    <tr>\n",
       "      <th>others</th>\n",
       "      <td>-0.000794</td>\n",
       "      <td>Others =</td>\n",
       "      <td>0.006237</td>\n",
       "      <td>#FB3C62</td>\n",
       "    </tr>\n",
       "  </tbody>\n",
       "</table>\n",
       "</div>"
      ],
      "text/plain": [
       "                          shap                       label     blank    color\n",
       "base_value            0.137608            Base value =0.14  0.000000  #29EA38\n",
       "alcohol              -0.055662                alcohol =9.5  0.137608  #FB3C62\n",
       "total sulfur dioxide -0.036046  total sulfur dioxide =81.0  0.081945  #FB3C62\n",
       "sulphates            -0.022881             sulphates =0.54  0.045899  #FB3C62\n",
       "volatile acidity     -0.019963      volatile acidity =0.72  0.023018  #FB3C62\n",
       "free sulfur dioxide   0.014723   free sulfur dioxide =13.0  0.003055  #29EA38\n",
       "citric acid          -0.004883           citric acid =0.22  0.017778  #FB3C62\n",
       "density              -0.003330                density =1.0  0.012895  #FB3C62\n",
       "residual sugar       -0.003327         residual sugar =2.3  0.009564  #FB3C62\n",
       "others               -0.000794                    Others =  0.006237  #FB3C62"
      ]
     },
     "execution_count": 10,
     "metadata": {},
     "output_type": "execute_result"
    }
   ],
   "source": [
    "obs = 10\n",
    "rf_shap_to = waterfall(X_test.iloc[obs,:],\n",
    "                              base_value = base_value,\n",
    "                              shap_values = rf_shap_values[obs],\n",
    "                              path = path,\n",
    "                              title=\"The Prediction \" ,\n",
    "                              x_lab=\"\",\n",
    "                              y_lab=\"The predicted value\",\n",
    "                              formatting = \"{:,.2f}\",\n",
    "                              rotation_value = 90,\n",
    "                              figsize = (7,5)\n",
    "                      \n",
    "                      )\n",
    "rf_shap_to.obs_to_explain()"
   ]
  },
  {
   "cell_type": "code",
   "execution_count": 11,
   "metadata": {},
   "outputs": [
    {
     "name": "stdout",
     "output_type": "stream",
     "text": [
      "The predicted value is: 0.005\n",
      "The expected value is: 0.138\n",
      "The predicted group is: 0\n",
      "The Actual value is: 0\n"
     ]
    },
    {
     "data": {
      "image/png": "[encoded data removed]",
      "text/plain": [
       "<Figure size 504x360 with 1 Axes>"
      ]
     },
     "metadata": {
      "needs_background": "light"
     },
     "output_type": "display_data"
    }
   ],
   "source": [
    "obs =10\n",
    "print(\"The predicted value is: \" +  str(np.round(Y_pred_prob[obs],3)))\n",
    "print(\"The expected value is: \" +  str(np.round(base_value,3)))\n",
    "print(\"The predicted group is: \" +  str(np.round(Y_pred[obs],0)))\n",
    "print(\"The Actual value is: \" +  str(np.round(Y_test[obs],3)))\n",
    "rf_shap_to.obs_to_explain()\n",
    "rf_shap_to.plt_plot()"
   ]
  },
  {
   "cell_type": "markdown",
   "metadata": {},
   "source": [
    "### (1.2) XGB <a class=\"anchor\" id=\"section12\"></a>"
   ]
  },
  {
   "cell_type": "code",
   "execution_count": 12,
   "metadata": {},
   "outputs": [
    {
     "data": {
      "text/plain": [
       "0.9996382241957954"
      ]
     },
     "execution_count": 12,
     "metadata": {},
     "output_type": "execute_result"
    }
   ],
   "source": [
    "import xgboost as xgb\n",
    "xgb_model = xgb.XGBRegressor(random_state=42)\n",
    "xgb_model.fit(X_train, Y_train).score(X_train,Y_train)"
   ]
  },
  {
   "cell_type": "code",
   "execution_count": 13,
   "metadata": {},
   "outputs": [
    {
     "name": "stderr",
     "output_type": "stream",
     "text": [
      "ntree_limit is deprecated, use `iteration_range` or model slicing instead.\n"
     ]
    }
   ],
   "source": [
    "xgb_model_explainer = shap.TreeExplainer(xgb_model)\n",
    "xgb_shap_values = xgb_model_explainer.shap_values(X_test)\n",
    "base_value = Y_train.mean()\n",
    "Y_pred_prob = xgb_model.predict(X_test)\n",
    "Y_pred = np.where(Y_pred_prob>base_value,1,0)"
   ]
  },
  {
   "cell_type": "code",
   "execution_count": 14,
   "metadata": {},
   "outputs": [],
   "source": [
    "obs = 10\n",
    "xgb_shap_to = waterfall(X_test.iloc[obs,:],\n",
    "                              base_value = base_value,\n",
    "                              shap_values = xgb_shap_values[obs],\n",
    "                              path = path,\n",
    "                              title=\"The Prediction \" ,\n",
    "                              x_lab=\"\",\n",
    "                              y_lab=\"The predicted value\",\n",
    "                              formatting = \"{:,.2f}\",\n",
    "                              rotation_value = 90,\n",
    "                              figsize = (7,5)\n",
    "                      \n",
    "                      )"
   ]
  },
  {
   "cell_type": "code",
   "execution_count": 15,
   "metadata": {},
   "outputs": [
    {
     "name": "stdout",
     "output_type": "stream",
     "text": [
      "The predicted value is: 0.001\n",
      "The expected value is: 0.138\n",
      "The predicted group is: 0\n",
      "The Actual value is: 0\n"
     ]
    },
    {
     "data": {
      "image/png": "[encoded data removed]",
      "text/plain": [
       "<Figure size 504x360 with 1 Axes>"
      ]
     },
     "metadata": {
      "needs_background": "light"
     },
     "output_type": "display_data"
    }
   ],
   "source": [
    "obs =10\n",
    "print(\"The predicted value is: \" +  str(np.round(Y_pred_prob[obs],3)))\n",
    "print(\"The expected value is: \" +  str(np.round(base_value,3)))\n",
    "print(\"The predicted group is: \" +  str(np.round(Y_pred[obs],0)))\n",
    "print(\"The Actual value is: \" +  str(np.round(Y_test[obs],3)))\n",
    "\n",
    "xgb_shap_to.obs_to_explain()\n",
    "xgb_shap_to.plt_plot()"
   ]
  },
  {
   "cell_type": "markdown",
   "metadata": {},
   "source": [
    "## (2) Plotly <a class=\"anchor\" id=\"section2\"></a>"
   ]
  },
  {
   "cell_type": "markdown",
   "metadata": {},
   "source": [
    "### (2.1) Random forest <a class=\"anchor\" id=\"section21\"></a>"
   ]
  },
  {
   "cell_type": "code",
   "execution_count": 16,
   "metadata": {},
   "outputs": [
    {
     "name": "stdout",
     "output_type": "stream",
     "text": [
      "The predicted value is: 0.001\n",
      "The expected value is: 0.138\n",
      "The predicted group is: 0\n",
      "The Actual value is: 0\n"
     ]
    }
   ],
   "source": [
    "obs =10\n",
    "print(\"The predicted value is: \" +  str(np.round(Y_pred_prob[obs],3)))\n",
    "print(\"The expected value is: \" +  str(np.round(base_value,3)))\n",
    "print(\"The predicted group is: \" +  str(np.round(Y_pred[obs],0)))\n",
    "print(\"The Actual value is: \" +  str(np.round(Y_test[obs],3)))\n",
    "\n",
    "rf_shap_to.obs_to_explain()\n",
    "rf_shap_to.plotly_plot()"
   ]
  },
  {
   "cell_type": "markdown",
   "metadata": {},
   "source": [
    "### (2.2) XGB <a class=\"anchor\" id=\"section22\"></a>"
   ]
  },
  {
   "cell_type": "code",
   "execution_count": 17,
   "metadata": {},
   "outputs": [
    {
     "name": "stderr",
     "output_type": "stream",
     "text": [
      "/Users/kdkasrav/.conda/envs/interpret/lib/python3.8/site-packages/xgboost/core.py:105: UserWarning:\n",
      "\n",
      "ntree_limit is deprecated, use `iteration_range` or model slicing instead.\n",
      "\n"
     ]
    }
   ],
   "source": [
    "xgb_model_explainer = shap.TreeExplainer(xgb_model)\n",
    "xgb_shap_values = xgb_model_explainer.shap_values(X_test)\n",
    "base_value = Y_train.mean()\n",
    "Y_pred_prob = xgb_model.predict(X_test)\n",
    "Y_pred = np.where(Y_pred_prob>base_value,1,0)"
   ]
  },
  {
   "cell_type": "code",
   "execution_count": 18,
   "metadata": {},
   "outputs": [
    {
     "name": "stdout",
     "output_type": "stream",
     "text": [
      "The predicted value is: 0.001\n",
      "The expected value is: 0.138\n",
      "The predicted group is: 0\n",
      "The Actual value is: 0\n"
     ]
    }
   ],
   "source": [
    "obs =10\n",
    "print(\"The predicted value is: \" +  str(np.round(Y_pred_prob[obs],3)))\n",
    "print(\"The expected value is: \" +  str(np.round(base_value,3)))\n",
    "print(\"The predicted group is: \" +  str(np.round(Y_pred[obs],0)))\n",
    "print(\"The Actual value is: \" +  str(np.round(Y_test[obs],3)))\n",
    "\n",
    "xgb_shap_to.obs_to_explain()\n",
    "xgb_shap_to.plotly_plot()"
   ]
  },
  {
   "cell_type": "code",
   "execution_count": null,
   "metadata": {},
   "outputs": [],
   "source": []
  }
 ],
 "metadata": {
  "kernelspec": {
   "display_name": "interpret",
   "language": "python",
   "name": "interpret"
  },
  "language_info": {
   "codemirror_mode": {
    "name": "ipython",
    "version": 3
   },
   "file_extension": ".py",
   "mimetype": "text/x-python",
   "name": "python",
   "nbconvert_exporter": "python",
   "pygments_lexer": "ipython3",
   "version": "3.8.12"
  },
  "toc-showtags": false,
  "widgets": {
   "application/vnd.jupyter.widget-state+json": {
    "state": {},
    "version_major": 2,
    "version_minor": 0
   }
  }
 },
 "nbformat": 4,
 "nbformat_minor": 4
}
