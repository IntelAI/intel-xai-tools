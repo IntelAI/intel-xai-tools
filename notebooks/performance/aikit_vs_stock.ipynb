{
 "cells": [
  {
   "attachments": {},
   "cell_type": "markdown",
   "id": "c1ef33d6",
   "metadata": {},
   "source": [
    "# Load Two Experiment Results For Comparison"
   ]
  },
  {
   "attachments": {},
   "cell_type": "markdown",
   "id": "94f2ed65",
   "metadata": {},
   "source": [
    "This notebook takes two results folders generateed from `partition_image_bm.ipynb` and compares them against eachother. The purpose is to compare the performance differences between that of an experiment executed in a AI Kit Conda environment and the other in a stock (default) Conda channel environment (where all the libraries are from the Conda/pip channels and not Intel Conda channels). There are three plots comparing the four different runs executed from the two results folders. Each results folder contains an Intel-optimized (oneDNN flags are set to on) and a non-optimized (oneDNN flags are set to off) experiment."
   ]
  },
  {
   "cell_type": "code",
   "execution_count": null,
   "id": "aaec3a56",
   "metadata": {},
   "outputs": [],
   "source": [
    "import os\n",
    "import pandas as pd\n",
    "import matplotlib.pyplot as plt\n",
    "import numpy as np\n",
    "\n",
    "# color to use for AI Kit\n",
    "intel_blue = '#0071c5'\n",
    "\n",
    "# Set the path to your results folders\n",
    "stock_env_results_dir = 'your/stock/results/folder'\n",
    "aikit_env_results_dir = 'your/aikit/results/folder'"
   ]
  },
  {
   "attachments": {},
   "cell_type": "markdown",
   "id": "5a418eff",
   "metadata": {},
   "source": [
    "### Load results\n",
    "A total of 4 DataFrames are created from the two experiment results folders where each folder contains oneDNN on (oneDNN_off_times_aggregated.csv) and off (oneDNN_on_times_aggregated.csv) results."
   ]
  },
  {
   "cell_type": "code",
   "execution_count": null,
   "id": "ff5c0241",
   "metadata": {},
   "outputs": [],
   "source": [
    "stock_off_df = pd.read_csv(os.path.join(stock_env_results_dir,'oneDNN_off_times_aggregated.csv'), index_col=0)\n",
    "stock_on_df = pd.read_csv(os.path.join(stock_env_results_dir, 'oneDNN_on_times_aggregated.csv'), index_col=0)\n",
    "intel_off_df = pd.read_csv(os.path.join(aikit_env_results_dir, 'oneDNN_off_times_aggregated.csv'), index_col=0)\n",
    "intel_on_df = pd.read_csv(os.path.join(aikit_env_results_dir, 'oneDNN_on_times_aggregated.csv'), index_col=0)"
   ]
  },
  {
   "attachments": {},
   "cell_type": "markdown",
   "id": "9b8e99d4",
   "metadata": {},
   "source": [
    "### Plot the experiment averages against each other\n",
    "Line plot all 4 experiment averages along with their confidence intervals with respect to max_intervals."
   ]
  },
  {
   "cell_type": "code",
   "execution_count": null,
   "id": "6fc2e37c",
   "metadata": {},
   "outputs": [],
   "source": [
    "fig, ax = plt.subplots(figsize=(10,6))\n",
    "x = stock_on_df.index\n",
    "ax.plot(x, stock_on_df['mean'],  marker='.', color='r', label='oneDNN Stock')\n",
    "ax.fill_between(\n",
    "    x, stock_on_df['ci_lower'], stock_on_df['ci_upper'], color='r', alpha=.1)\n",
    "\n",
    "ax.plot(x, stock_off_df['mean'], color='r', marker='.', linestyle='--', label='Stock')\n",
    "ax.fill_between(\n",
    "    x, stock_off_df['ci_lower'], stock_off_df['ci_upper'], color='r', alpha=.1)\n",
    "\n",
    "\n",
    "\n",
    "ax.plot(x, intel_on_df['mean'], color=intel_blue, marker='.', label='oneDNN AI Kit')\n",
    "ax.fill_between(\n",
    "    x, intel_on_df['ci_lower'], intel_on_df['ci_upper'], color=intel_blue, alpha=.1)\n",
    "\n",
    "ax.plot(x, intel_off_df['mean'], color=intel_blue, marker='.',  linestyle='--', label='AI Kit')\n",
    "ax.fill_between(\n",
    "    x, intel_off_df['ci_lower'], intel_off_df['ci_upper'], color=intel_blue, alpha=.1)\n",
    "\n",
    "\n",
    "\n",
    "ax.set_ylim(ymin=0)\n",
    "ax.set_xlim(xmin=64, xmax=2048)\n",
    "ax.set_xticks(x)\n",
    "ax.set_ylabel('Time (s)')\n",
    "ax.set_xlabel('Max Evaluations')\n",
    "ax.set_title('Avg Compute Time by Max Evaluations (n=5)')\n",
    "ax.grid(axis='y')\n",
    "ax.legend()\n",
    "\n",
    "fig.autofmt_xdate(rotation=45)"
   ]
  },
  {
   "attachments": {},
   "cell_type": "markdown",
   "id": "c0b48a3b",
   "metadata": {},
   "source": [
    "Bar plot all 4 experiment averages with respect max_evals."
   ]
  },
  {
   "cell_type": "code",
   "execution_count": null,
   "id": "cf23c553",
   "metadata": {},
   "outputs": [],
   "source": [
    "# set width of bar\n",
    "barWidth = 0.22\n",
    "fig = plt.subplots(figsize =(14, 7))\n",
    "\n",
    "# Set position of bar on X axis\n",
    "br1 = np.arange(6)\n",
    "br2 = [x + barWidth for x in br1]\n",
    "br3 = [x + barWidth for x in br2]\n",
    "br4 = [x + barWidth for x in br3]\n",
    " \n",
    "# Make the plot\n",
    "plt.bar(br1, stock_off_df['mean'], color='r', hatch='x', width = barWidth,\n",
    "        edgecolor='white', label='Stock')\n",
    "plt.bar(br2, stock_on_df['mean'], color='r', width = barWidth,\n",
    "        edgecolor='white', label='OneDNN Stock')\n",
    "plt.bar(br3, intel_off_df['mean'], color=intel_blue, hatch='x', width = barWidth,\n",
    "        edgecolor='white', label='AI Kit')\n",
    "plt.bar(br4, intel_on_df['mean'], color=intel_blue, width = barWidth,\n",
    "        edgecolor='white', label='OneDNN AI Kit')\n",
    " \n",
    "# Adding Xticks\n",
    "plt.xlabel('Max Evals')\n",
    "plt.ylabel('Average Compute Time (s)')\n",
    "plt.xticks([r + barWidth for r in range(6)],\n",
    "        ['64', '128', '256', '512', '1024', '2048'])\n",
    "plt.title('Average Compute Times accross All Experiments', fontsize=16)\n",
    "\n",
    "# Adding value labels to top of bars\n",
    "for bar, means in zip([br1, br2, br3, br4], [stock_off_df['mean'], stock_on_df['mean'], intel_off_df['mean'], intel_on_df['mean']]):\n",
    "    for col, mean in zip(bar, means.tolist()):\n",
    "        plt.text(col, mean, str(round(mean, 1)), ha='center')\n",
    "\n",
    "plt.legend()\n",
    "plt.show()"
   ]
  },
  {
   "attachments": {},
   "cell_type": "markdown",
   "id": "edc0de4c",
   "metadata": {},
   "source": [
    "Bar plot the percent decrease between the stock environment with oneDNN off and AI Kit environment with oneDNN set to on. These two experiments should show the greatest difference in computation time due to the Intel optimizations."
   ]
  },
  {
   "cell_type": "code",
   "execution_count": null,
   "id": "2a3d03db",
   "metadata": {},
   "outputs": [],
   "source": [
    "# Get percent decrease\n",
    "diffs = []\n",
    "\n",
    "for on, off in zip(intel_on_df['mean'], stock_off_df['mean']):\n",
    "    diffs.append(((on - off)/off)*100)\n",
    "\n",
    "# compare reduction in time between stock and Intel optimizations\n",
    "diffs_series = pd.Series(np.array(diffs)*-1)\n",
    "plt.figure(figsize=(10,6))\n",
    "fig = diffs_series.plot(kind='bar')\n",
    "fig.set_xticklabels(['64', '128', '256', '512', '1028', '2048'])\n",
    "fig.bar_label(fig.containers[0], label_type='edge')\n",
    "fig.set_title('Pure Stock VS OneDNN AI Kit Percent Decrease in Computation Time')\n",
    "fig.set_xlabel('Max Evaluations')\n",
    "fig.set_ylabel('% Decrease')"
   ]
  }
 ],
 "metadata": {
  "kernelspec": {
   "display_name": "Python 3 (ipykernel)",
   "language": "python",
   "name": "python3"
  },
  "language_info": {
   "codemirror_mode": {
    "name": "ipython",
    "version": 3
   },
   "file_extension": ".py",
   "mimetype": "text/x-python",
   "name": "python",
   "nbconvert_exporter": "python",
   "pygments_lexer": "ipython3",
   "version": "3.9.16"
  }
 },
 "nbformat": 4,
 "nbformat_minor": 5
}
