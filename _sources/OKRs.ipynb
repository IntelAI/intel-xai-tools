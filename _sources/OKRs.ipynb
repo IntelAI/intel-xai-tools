{
 "cells": [
  {
   "cell_type": "markdown",
   "id": "d70f6d81-2494-410d-b7c2-1ce34508bca5",
   "metadata": {},
   "source": [
    "# OKRs"
   ]
  },
  {
   "cell_type": "markdown",
   "id": "8359d5c3-38a5-41e7-af7d-d086a052cd0d",
   "metadata": {},
   "source": [
    "## OKR format??\n",
    "\n",
    "- Description\n",
    "- Objectives\n",
    "- Artifacts required (Dataset, Model, Predictions)\n",
    "- Mock up\n",
    "- References\n",
    "- Completion Criteria"
   ]
  },
  {
   "cell_type": "markdown",
   "id": "28ee9e4f-2963-4799-a17f-8867bc2855e0",
   "metadata": {
    "jp-MarkdownHeadingCollapsed": true,
    "tags": []
   },
   "source": [
    "## Bias\n",
    "\n",
    "### Show Bias within models using metrics based on the following papers\n",
    " * [WEFE](https://felipebravom.com/publications/ijcai2020.pdf)\n",
    " * [WEAT](https://www.science.org/doi/10.1126/science.aal4230)\n",
    "\n",
    "\n",
    "Word Embedding Association Test ([WEAT](https://wefe.readthedocs.io/en/latest/index.html]))<br/>\n",
    "Relative Norm Distance (RND)<br/>\n",
    "Relative Negative Sentiment Bias (RNSB)<br/>\n",
    "Mean Average Cosine (MAC)<br/>\n",
    "\n",
    "### References:\n",
    "\n",
    "- [A Prompt Array Keeps the Bias Away: Debiasing Vision-Language Models with Adversarial Learning](https://arxiv.org/pdf/2203.11933.pdf)\n",
    "- [Debiasing Pre-Trained Language Models via Efficient Fine-Tuning](https://aclanthology.org/2022.ltedi-1.8.pdf)\n",
    "\n"
   ]
  },
  {
   "cell_type": "markdown",
   "id": "b6d7709f-c909-47d2-9236-4ce4cbf0ef09",
   "metadata": {},
   "source": [
    "## Zero Shot, Few Shot\n",
    "\n",
    "\n",
    "Explain transformer based Large Pretrained Language Models by showing the encodingl, attention layers and downstream tasks"
   ]
  },
  {
   "cell_type": "markdown",
   "id": "4d582f29-6ed0-40ad-8a50-cb192ac007b7",
   "metadata": {},
   "source": [
    "## Generative XAI\n",
    "\n",
    "Generate XAI analysis based on model and dataset\n",
    "Use prompt engineering to generate XAI flows"
   ]
  },
  {
   "cell_type": "markdown",
   "id": "12eb1ff1-d126-43a5-ad00-a9ce90f0ccac",
   "metadata": {},
   "source": [
    "## XAI Dashboard\n",
    "\n",
    "### Support for complex event flows where investigation of model prediction failures can be done"
   ]
  },
  {
   "cell_type": "markdown",
   "id": "ac021360-7fb0-4028-acd0-fd54856e34c8",
   "metadata": {},
   "source": [
    "## NLP Toolkits (intel-innersource)"
   ]
  },
  {
   "cell_type": "code",
   "execution_count": null,
   "id": "a57577b0-590d-40a2-b678-56fad46f3449",
   "metadata": {},
   "outputs": [],
   "source": []
  }
 ],
 "metadata": {
  "kernelspec": {
   "display_name": "xai-oneapi-aikit",
   "language": "python",
   "name": "xai-oneapi-aikit"
  },
  "language_info": {
   "codemirror_mode": {
    "name": "ipython",
    "version": 3
   },
   "file_extension": ".py",
   "mimetype": "text/x-python",
   "name": "python",
   "nbconvert_exporter": "python",
   "pygments_lexer": "ipython3",
   "version": "3.9.12"
  }
 },
 "nbformat": 4,
 "nbformat_minor": 5
}
