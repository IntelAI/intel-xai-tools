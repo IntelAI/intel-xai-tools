{
 "cells": [
  {
   "cell_type": "code",
   "execution_count": 2,
   "metadata": {},
   "outputs": [
    {
     "ename": "ModuleNotFoundError",
     "evalue": "No module named 'tee'",
     "output_type": "error",
     "traceback": [
      "\u001b[0;31m---------------------------------------------------------------------------\u001b[0m",
      "\u001b[0;31mModuleNotFoundError\u001b[0m                       Traceback (most recent call last)",
      "\u001b[1;32m/workspaces/explainable-ai-tooling/docs/examples/test_import_from.ipynb Cell 1\u001b[0m in \u001b[0;36m<cell line: 1>\u001b[0;34m()\u001b[0m\n\u001b[0;32m----> <a href='vscode-notebook-cell://codespaces%2Bkkasravi-explainable-ai-tooling-6597p73495g/workspaces/explainable-ai-tooling/docs/examples/test_import_from.ipynb#ch0000000vscode-remote?line=0'>1</a>\u001b[0m \u001b[39mimport\u001b[39;00m \u001b[39mtee\u001b[39;00m\n",
      "\u001b[0;31mModuleNotFoundError\u001b[0m: No module named 'tee'"
     ]
    }
   ],
   "source": [
    "#import tee\n"
   ]
  },
  {
   "cell_type": "code",
   "execution_count": 3,
   "metadata": {},
   "outputs": [
    {
     "name": "stdout",
     "output_type": "stream",
     "text": [
      "ExplainerLoader.create_module zippath=/workspaces/explainable-ai-tooling/explainer/explainers/test_import_from.zip dirname=/workspaces/explainable-ai-tooling/explainer/explainers/test_import_from\n",
      "extracting all to /workspaces/explainable-ai-tooling/explainer/explainers/test_import_from\n",
      "*** inserting into sys.path /workspaces/explainable-ai-tooling/explainer/explainers/test_import_from ***\n"
     ]
    }
   ],
   "source": [
    "from explainer.explainers import test_import_from"
   ]
  },
  {
   "cell_type": "code",
   "execution_count": null,
   "metadata": {},
   "outputs": [],
   "source": []
  }
 ],
 "metadata": {
  "kernelspec": {
   "display_name": "Python 3.10.4 ('explainer')",
   "language": "python",
   "name": "python3"
  },
  "language_info": {
   "codemirror_mode": {
    "name": "ipython",
    "version": 3
   },
   "file_extension": ".py",
   "mimetype": "text/x-python",
   "name": "python",
   "nbconvert_exporter": "python",
   "pygments_lexer": "ipython3",
   "version": "3.10.4"
  },
  "orig_nbformat": 4,
  "vscode": {
   "interpreter": {
    "hash": "5f116785276e6c3ad7d08e849fd53d61348b7787ff6ff002b8f1b3c8ab5c4540"
   }
  }
 },
 "nbformat": 4,
 "nbformat_minor": 2
}
