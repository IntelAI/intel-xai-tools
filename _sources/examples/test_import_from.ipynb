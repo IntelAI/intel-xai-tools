{
 "cells": [
  {
   "cell_type": "markdown",
   "metadata": {},
   "source": [
    "# Testing explainer "
   ]
  },
  {
   "cell_type": "code",
   "execution_count": 1,
   "metadata": {},
   "outputs": [],
   "source": [
    "# Installs explainer_explainers_test_import_from-0.1-py2.py3-none-any.whl under the explainer.explainers package. \n",
    "# The wheel includes an entry_point that prints 'hello world' in red.\n",
    "from explainer.explainers import test_import_from\n",
    "#print(f\"type={type(test_import_from)}\")\n",
    "#print(f\"{test_import_from!r}\")\n"
   ]
  },
  {
   "cell_type": "code",
   "execution_count": 2,
   "metadata": {},
   "outputs": [
    {
     "name": "stdout",
     "output_type": "stream",
     "text": [
      "\u001b[31mhello world\n",
      "\u001b[0m\n"
     ]
    }
   ],
   "source": [
    "test_import_from['print']('hello world')"
   ]
  }
 ],
 "metadata": {
  "kernelspec": {
   "display_name": "Python 3.10.4 ('explainable-ai-tooling': conda)",
   "language": "python",
   "name": "python3"
  },
  "language_info": {
   "codemirror_mode": {
    "name": "ipython",
    "version": 3
   },
   "file_extension": ".py",
   "mimetype": "text/x-python",
   "name": "python",
   "nbconvert_exporter": "python",
   "pygments_lexer": "ipython3",
   "version": "3.10.4"
  },
  "orig_nbformat": 4,
  "vscode": {
   "interpreter": {
    "hash": "47de4e6fcdf76d9f7e9823221d58331110ca8a86e4fcaa17b27f269bc08adee8"
   }
  }
 },
 "nbformat": 4,
 "nbformat_minor": 2
}
