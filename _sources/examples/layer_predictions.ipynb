{
 "cells": [
  {
   "cell_type": "markdown",
   "metadata": {},
   "source": [
    "# Explaining a nlp model's layer predictions"
   ]
  },
  {
   "cell_type": "markdown",
   "metadata": {},
   "source": [
    "## See the [ecco toolkit](https://ecco.readthedocs.io/en/main/){cite}`alammar-2021-ecco`"
   ]
  },
  {
   "cell_type": "markdown",
   "metadata": {},
   "source": [
    "## Fill in the blank: \"Heathrow airport is located in the city of __\""
   ]
  },
  {
   "cell_type": "code",
   "execution_count": 8,
   "metadata": {},
   "outputs": [],
   "source": [
    "from explainer.explainers import layer_predictions"
   ]
  },
  {
   "cell_type": "code",
   "execution_count": 9,
   "metadata": {},
   "outputs": [
    {
     "data": {
      "text/html": [
       "<html lang=\"en\">\n",
       "<script src=\"https://requirejs.org/docs/release/2.3.6/minified/require.js\"></script>\n",
       "<script>\n",
       "    var ecco_url = 'https://storage.googleapis.com/ml-intro/ecco/'\n",
       "    //var ecco_url = 'http://localhost:8000/'\n",
       "\n",
       "    if (window.ecco === undefined) window.ecco = {}\n",
       "\n",
       "    // Setup the paths of the script we'll be using\n",
       "    requirejs.config({\n",
       "        urlArgs: \"bust=\" + (new Date()).getTime(),\n",
       "        nodeRequire: require,\n",
       "        paths: {\n",
       "            d3: \"https://d3js.org/d3.v6.min\", // This is only for use in setup.html and basic.html\n",
       "            \"d3-array\": \"https://d3js.org/d3-array.v2.min\",\n",
       "            jquery: \"https://code.jquery.com/jquery-3.5.1.min\",\n",
       "            ecco: ecco_url + 'js/0.0.6/ecco-bundle.min',\n",
       "            xregexp: 'https://cdnjs.cloudflare.com/ajax/libs/xregexp/3.2.0/xregexp-all.min'\n",
       "        }\n",
       "    });\n",
       "\n",
       "    // Add the css file\n",
       "    //requirejs(['d3'],\n",
       "    //    function (d3) {\n",
       "    //        d3.select('#css').attr('href', ecco_url + 'html/styles.css')\n",
       "    //    })\n",
       "\n",
       "    console.log('Ecco initialize!!')\n",
       "\n",
       "    // returns a 'basic' object. basic.init() selects the html div we'll be\n",
       "    // rendering the html into, adds styles.css to the document.\n",
       "    define('basic', ['d3'],\n",
       "        function (d3) {\n",
       "            return {\n",
       "                init: function (viz_id = null) {\n",
       "                    if (viz_id == null) {\n",
       "                        viz_id = \"viz_\" + Math.round(Math.random() * 10000000)\n",
       "                    }\n",
       "                    // Select the div rendered below, change its id\n",
       "                    const div = d3.select('#basic').attr('id', viz_id),\n",
       "                        div_parent = d3.select('#' + viz_id).node().parentNode\n",
       "\n",
       "                    // Link to CSS file\n",
       "                    d3.select(div_parent).insert('link')\n",
       "                        .attr('rel', 'stylesheet')\n",
       "                        .attr('type', 'text/css')\n",
       "                        .attr('href', ecco_url + 'html/0.0.2/styles.css')\n",
       "\n",
       "                    return viz_id\n",
       "                }\n",
       "            }\n",
       "        }, function (err) {\n",
       "            console.log(err);\n",
       "        }\n",
       "    )\n",
       "</script>\n",
       "\n",
       "<head>\n",
       "    <link id='css' rel=\"stylesheet\" type=\"text/css\">\n",
       "</head>\n",
       "<div id=\"basic\"></div>\n"
      ],
      "text/plain": [
       "<IPython.core.display.HTML object>"
      ]
     },
     "metadata": {},
     "output_type": "display_data"
    },
    {
     "data": {
      "application/javascript": "\n         requirejs( ['basic', 'ecco'], function(basic, ecco){\n            basic.init('viz_911263') // Python needs to know the viz id. Used for each output token.\n            window.ecco['viz_911263'] = new ecco.renderOutputSequence({\n                    parentDiv: 'viz_911263',\n                    data: {\"tokens\": [{\"token\": \"Heath\", \"is_partial\": false, \"position\": 0, \"token_id\": 25846, \"type\": \"input\"}, {\"token\": \"row\", \"is_partial\": true, \"position\": 1, \"token_id\": 808, \"type\": \"input\"}, {\"token\": \"airport\", \"is_partial\": false, \"position\": 2, \"token_id\": 9003, \"type\": \"input\"}, {\"token\": \"is\", \"is_partial\": false, \"position\": 3, \"token_id\": 318, \"type\": \"input\"}, {\"token\": \"in\", \"is_partial\": false, \"position\": 4, \"token_id\": 287, \"type\": \"input\"}, {\"token\": \"the\", \"is_partial\": false, \"position\": 5, \"token_id\": 262, \"type\": \"input\"}, {\"token\": \"city\", \"is_partial\": false, \"position\": 6, \"token_id\": 1748, \"type\": \"input\"}, {\"token\": \"of\", \"is_partial\": false, \"position\": 7, \"token_id\": 286, \"type\": \"input\"}]},\n                    tokenization_config: {\"token_prefix\": \"\\u0120\", \"partial_token_prefix\": \"\"}\n            \n            })\n         }, function (err) {\n            console.log(err);\n        })\n        ",
      "text/plain": [
       "<IPython.core.display.Javascript object>"
      ]
     },
     "metadata": {},
     "output_type": "display_data"
    },
    {
     "name": "stderr",
     "output_type": "stream",
     "text": [
      "Setting `pad_token_id` to `eos_token_id`:50256 for open-end generation.\n"
     ]
    },
    {
     "data": {
      "application/javascript": "\n        // We don't really need these require scripts. But this is to avert\n        //this code from running before display_input_sequence which DOES require external files\n        requirejs(['basic', 'ecco'], function(basic, ecco){\n                console.log('addToken viz_id', 'viz_911263');\n                window.ecco['viz_911263'].addToken({\"token\": \"London\", \"is_partial\": false, \"token_id\": 3576, \"position\": 8, \"type\": \"output\"})\n                window.ecco['viz_911263'].redraw()\n        })\n        ",
      "text/plain": [
       "<IPython.core.display.Javascript object>"
      ]
     },
     "metadata": {},
     "output_type": "display_data"
    }
   ],
   "source": [
    "\n",
    "text = \" Heathrow airport is in the city of\"\n",
    "\n",
    "import entry_point\n",
    "explainer = entry_point.entry_point(text)\n"
   ]
  },
  {
   "cell_type": "markdown",
   "metadata": {},
   "source": [
    "## Visualize the candidate tokens at the last layer of the model (layer 5)\n"
   ]
  },
  {
   "cell_type": "code",
   "execution_count": 10,
   "metadata": {},
   "outputs": [
    {
     "data": {
      "text/html": [
       "<html lang=\"en\">\n",
       "<script src=\"https://requirejs.org/docs/release/2.3.6/minified/require.js\"></script>\n",
       "<script>\n",
       "    var ecco_url = 'https://storage.googleapis.com/ml-intro/ecco/'\n",
       "    //var ecco_url = 'http://localhost:8000/'\n",
       "\n",
       "    if (window.ecco === undefined) window.ecco = {}\n",
       "\n",
       "    // Setup the paths of the script we'll be using\n",
       "    requirejs.config({\n",
       "        urlArgs: \"bust=\" + (new Date()).getTime(),\n",
       "        nodeRequire: require,\n",
       "        paths: {\n",
       "            d3: \"https://d3js.org/d3.v6.min\", // This is only for use in setup.html and basic.html\n",
       "            \"d3-array\": \"https://d3js.org/d3-array.v2.min\",\n",
       "            jquery: \"https://code.jquery.com/jquery-3.5.1.min\",\n",
       "            ecco: ecco_url + 'js/0.0.6/ecco-bundle.min',\n",
       "            xregexp: 'https://cdnjs.cloudflare.com/ajax/libs/xregexp/3.2.0/xregexp-all.min'\n",
       "        }\n",
       "    });\n",
       "\n",
       "    // Add the css file\n",
       "    //requirejs(['d3'],\n",
       "    //    function (d3) {\n",
       "    //        d3.select('#css').attr('href', ecco_url + 'html/styles.css')\n",
       "    //    })\n",
       "\n",
       "    console.log('Ecco initialize!!')\n",
       "\n",
       "    // returns a 'basic' object. basic.init() selects the html div we'll be\n",
       "    // rendering the html into, adds styles.css to the document.\n",
       "    define('basic', ['d3'],\n",
       "        function (d3) {\n",
       "            return {\n",
       "                init: function (viz_id = null) {\n",
       "                    if (viz_id == null) {\n",
       "                        viz_id = \"viz_\" + Math.round(Math.random() * 10000000)\n",
       "                    }\n",
       "                    // Select the div rendered below, change its id\n",
       "                    const div = d3.select('#basic').attr('id', viz_id),\n",
       "                        div_parent = d3.select('#' + viz_id).node().parentNode\n",
       "\n",
       "                    // Link to CSS file\n",
       "                    d3.select(div_parent).insert('link')\n",
       "                        .attr('rel', 'stylesheet')\n",
       "                        .attr('type', 'text/css')\n",
       "                        .attr('href', ecco_url + 'html/0.0.2/styles.css')\n",
       "\n",
       "                    return viz_id\n",
       "                }\n",
       "            }\n",
       "        }, function (err) {\n",
       "            console.log(err);\n",
       "        }\n",
       "    )\n",
       "</script>\n",
       "\n",
       "<head>\n",
       "    <link id='css' rel=\"stylesheet\" type=\"text/css\">\n",
       "</head>\n",
       "<div id=\"basic\"></div>\n"
      ],
      "text/plain": [
       "<IPython.core.display.HTML object>"
      ]
     },
     "metadata": {},
     "output_type": "display_data"
    },
    {
     "data": {
      "application/javascript": "\n         requirejs(['basic', 'ecco'], function(basic, ecco){\n            const viz_id = basic.init()\n\n\n            let pred = new ecco.LayerPredictions({\n                parentDiv: viz_id,\n                data:[[{\"token\": \" London\", \"prob\": \"0.12731317\", \"ranking\": 1, \"layer\": 5}, {\"token\": \" Birmingham\", \"prob\": \"0.08045116\", \"ranking\": 2, \"layer\": 5}, {\"token\": \" Manchester\", \"prob\": \"0.04099102\", \"ranking\": 3, \"layer\": 5}, {\"token\": \" Belfast\", \"prob\": \"0.018735725\", \"ranking\": 4, \"layer\": 5}, {\"token\": \" Glasgow\", \"prob\": \"0.018269068\", \"ranking\": 5, \"layer\": 5}, {\"token\": \" Leeds\", \"prob\": \"0.015156686\", \"ranking\": 6, \"layer\": 5}, {\"token\": \" Liverpool\", \"prob\": \"0.014440063\", \"ranking\": 7, \"layer\": 5}, {\"token\": \" Sheffield\", \"prob\": \"0.012512767\", \"ranking\": 8, \"layer\": 5}, {\"token\": \" Edinburgh\", \"prob\": \"0.012484875\", \"ranking\": 9, \"layer\": 5}, {\"token\": \" Brighton\", \"prob\": \"0.011689237\", \"ranking\": 10, \"layer\": 5}]]\n            })\n            pred.init()\n         }, function (err) {\n            console.log(viz_id, err);\n        })",
      "text/plain": [
       "<IPython.core.display.Javascript object>"
      ]
     },
     "metadata": {},
     "output_type": "display_data"
    }
   ],
   "source": [
    "explainer(position=8, layer=5)"
   ]
  },
  {
   "cell_type": "markdown",
   "metadata": {},
   "source": [
    "## We can see more tokens using the topk parameter\n"
   ]
  },
  {
   "cell_type": "code",
   "execution_count": 11,
   "metadata": {},
   "outputs": [
    {
     "data": {
      "text/html": [
       "<html lang=\"en\">\n",
       "<script src=\"https://requirejs.org/docs/release/2.3.6/minified/require.js\"></script>\n",
       "<script>\n",
       "    var ecco_url = 'https://storage.googleapis.com/ml-intro/ecco/'\n",
       "    //var ecco_url = 'http://localhost:8000/'\n",
       "\n",
       "    if (window.ecco === undefined) window.ecco = {}\n",
       "\n",
       "    // Setup the paths of the script we'll be using\n",
       "    requirejs.config({\n",
       "        urlArgs: \"bust=\" + (new Date()).getTime(),\n",
       "        nodeRequire: require,\n",
       "        paths: {\n",
       "            d3: \"https://d3js.org/d3.v6.min\", // This is only for use in setup.html and basic.html\n",
       "            \"d3-array\": \"https://d3js.org/d3-array.v2.min\",\n",
       "            jquery: \"https://code.jquery.com/jquery-3.5.1.min\",\n",
       "            ecco: ecco_url + 'js/0.0.6/ecco-bundle.min',\n",
       "            xregexp: 'https://cdnjs.cloudflare.com/ajax/libs/xregexp/3.2.0/xregexp-all.min'\n",
       "        }\n",
       "    });\n",
       "\n",
       "    // Add the css file\n",
       "    //requirejs(['d3'],\n",
       "    //    function (d3) {\n",
       "    //        d3.select('#css').attr('href', ecco_url + 'html/styles.css')\n",
       "    //    })\n",
       "\n",
       "    console.log('Ecco initialize!!')\n",
       "\n",
       "    // returns a 'basic' object. basic.init() selects the html div we'll be\n",
       "    // rendering the html into, adds styles.css to the document.\n",
       "    define('basic', ['d3'],\n",
       "        function (d3) {\n",
       "            return {\n",
       "                init: function (viz_id = null) {\n",
       "                    if (viz_id == null) {\n",
       "                        viz_id = \"viz_\" + Math.round(Math.random() * 10000000)\n",
       "                    }\n",
       "                    // Select the div rendered below, change its id\n",
       "                    const div = d3.select('#basic').attr('id', viz_id),\n",
       "                        div_parent = d3.select('#' + viz_id).node().parentNode\n",
       "\n",
       "                    // Link to CSS file\n",
       "                    d3.select(div_parent).insert('link')\n",
       "                        .attr('rel', 'stylesheet')\n",
       "                        .attr('type', 'text/css')\n",
       "                        .attr('href', ecco_url + 'html/0.0.2/styles.css')\n",
       "\n",
       "                    return viz_id\n",
       "                }\n",
       "            }\n",
       "        }, function (err) {\n",
       "            console.log(err);\n",
       "        }\n",
       "    )\n",
       "</script>\n",
       "\n",
       "<head>\n",
       "    <link id='css' rel=\"stylesheet\" type=\"text/css\">\n",
       "</head>\n",
       "<div id=\"basic\"></div>\n"
      ],
      "text/plain": [
       "<IPython.core.display.HTML object>"
      ]
     },
     "metadata": {},
     "output_type": "display_data"
    },
    {
     "data": {
      "application/javascript": "\n         requirejs(['basic', 'ecco'], function(basic, ecco){\n            const viz_id = basic.init()\n\n\n            let pred = new ecco.LayerPredictions({\n                parentDiv: viz_id,\n                data:[[{\"token\": \" London\", \"prob\": \"0.12731317\", \"ranking\": 1, \"layer\": 5}, {\"token\": \" Birmingham\", \"prob\": \"0.08045116\", \"ranking\": 2, \"layer\": 5}, {\"token\": \" Manchester\", \"prob\": \"0.04099102\", \"ranking\": 3, \"layer\": 5}, {\"token\": \" Belfast\", \"prob\": \"0.018735725\", \"ranking\": 4, \"layer\": 5}, {\"token\": \" Glasgow\", \"prob\": \"0.018269068\", \"ranking\": 5, \"layer\": 5}, {\"token\": \" Leeds\", \"prob\": \"0.015156686\", \"ranking\": 6, \"layer\": 5}, {\"token\": \" Liverpool\", \"prob\": \"0.014440063\", \"ranking\": 7, \"layer\": 5}, {\"token\": \" Sheffield\", \"prob\": \"0.012512767\", \"ranking\": 8, \"layer\": 5}, {\"token\": \" Edinburgh\", \"prob\": \"0.012484875\", \"ranking\": 9, \"layer\": 5}, {\"token\": \" Brighton\", \"prob\": \"0.011689237\", \"ranking\": 10, \"layer\": 5}, {\"token\": \" Bristol\", \"prob\": \"0.010995358\", \"ranking\": 11, \"layer\": 5}, {\"token\": \" Cov\", \"prob\": \"0.009609841\", \"ranking\": 12, \"layer\": 5}, {\"token\": \" Dund\", \"prob\": \"0.00898422\", \"ranking\": 13, \"layer\": 5}, {\"token\": \" Dublin\", \"prob\": \"0.008965835\", \"ranking\": 14, \"layer\": 5}, {\"token\": \" Newcastle\", \"prob\": \"0.008799734\", \"ranking\": 15, \"layer\": 5}, {\"token\": \" St\", \"prob\": \"0.008490494\", \"ranking\": 16, \"layer\": 5}, {\"token\": \" D\", \"prob\": \"0.007897666\", \"ranking\": 17, \"layer\": 5}, {\"token\": \" Nottingham\", \"prob\": \"0.007108594\", \"ranking\": 18, \"layer\": 5}, {\"token\": \" Toronto\", \"prob\": \"0.0069225533\", \"ranking\": 19, \"layer\": 5}, {\"token\": \" Chelsea\", \"prob\": \"0.006834234\", \"ranking\": 20, \"layer\": 5}]]\n            })\n            pred.init()\n         }, function (err) {\n            console.log(viz_id, err);\n        })",
      "text/plain": [
       "<IPython.core.display.Javascript object>"
      ]
     },
     "metadata": {},
     "output_type": "display_data"
    }
   ],
   "source": [
    "explainer(position=8, layer=5, topk=20)"
   ]
  },
  {
   "cell_type": "markdown",
   "metadata": {},
   "source": [
    "## Visualize the candidate tokens at every layer"
   ]
  },
  {
   "cell_type": "code",
   "execution_count": 12,
   "metadata": {},
   "outputs": [
    {
     "data": {
      "text/html": [
       "<html lang=\"en\">\n",
       "<script src=\"https://requirejs.org/docs/release/2.3.6/minified/require.js\"></script>\n",
       "<script>\n",
       "    var ecco_url = 'https://storage.googleapis.com/ml-intro/ecco/'\n",
       "    //var ecco_url = 'http://localhost:8000/'\n",
       "\n",
       "    if (window.ecco === undefined) window.ecco = {}\n",
       "\n",
       "    // Setup the paths of the script we'll be using\n",
       "    requirejs.config({\n",
       "        urlArgs: \"bust=\" + (new Date()).getTime(),\n",
       "        nodeRequire: require,\n",
       "        paths: {\n",
       "            d3: \"https://d3js.org/d3.v6.min\", // This is only for use in setup.html and basic.html\n",
       "            \"d3-array\": \"https://d3js.org/d3-array.v2.min\",\n",
       "            jquery: \"https://code.jquery.com/jquery-3.5.1.min\",\n",
       "            ecco: ecco_url + 'js/0.0.6/ecco-bundle.min',\n",
       "            xregexp: 'https://cdnjs.cloudflare.com/ajax/libs/xregexp/3.2.0/xregexp-all.min'\n",
       "        }\n",
       "    });\n",
       "\n",
       "    // Add the css file\n",
       "    //requirejs(['d3'],\n",
       "    //    function (d3) {\n",
       "    //        d3.select('#css').attr('href', ecco_url + 'html/styles.css')\n",
       "    //    })\n",
       "\n",
       "    console.log('Ecco initialize!!')\n",
       "\n",
       "    // returns a 'basic' object. basic.init() selects the html div we'll be\n",
       "    // rendering the html into, adds styles.css to the document.\n",
       "    define('basic', ['d3'],\n",
       "        function (d3) {\n",
       "            return {\n",
       "                init: function (viz_id = null) {\n",
       "                    if (viz_id == null) {\n",
       "                        viz_id = \"viz_\" + Math.round(Math.random() * 10000000)\n",
       "                    }\n",
       "                    // Select the div rendered below, change its id\n",
       "                    const div = d3.select('#basic').attr('id', viz_id),\n",
       "                        div_parent = d3.select('#' + viz_id).node().parentNode\n",
       "\n",
       "                    // Link to CSS file\n",
       "                    d3.select(div_parent).insert('link')\n",
       "                        .attr('rel', 'stylesheet')\n",
       "                        .attr('type', 'text/css')\n",
       "                        .attr('href', ecco_url + 'html/0.0.2/styles.css')\n",
       "\n",
       "                    return viz_id\n",
       "                }\n",
       "            }\n",
       "        }, function (err) {\n",
       "            console.log(err);\n",
       "        }\n",
       "    )\n",
       "</script>\n",
       "\n",
       "<head>\n",
       "    <link id='css' rel=\"stylesheet\" type=\"text/css\">\n",
       "</head>\n",
       "<div id=\"basic\"></div>\n"
      ],
      "text/plain": [
       "<IPython.core.display.HTML object>"
      ]
     },
     "metadata": {},
     "output_type": "display_data"
    },
    {
     "data": {
      "application/javascript": "\n         requirejs(['basic', 'ecco'], function(basic, ecco){\n            const viz_id = basic.init()\n\n\n            let pred = new ecco.LayerPredictions({\n                parentDiv: viz_id,\n                data:[[{\"token\": \" the\", \"prob\": \"0.9997209\", \"ranking\": 1, \"layer\": 0}, {\"token\": \" a\", \"prob\": \"0.00026927155\", \"ranking\": 2, \"layer\": 0}, {\"token\": \" \\\"\", \"prob\": \"5.4316797e-06\", \"ranking\": 3, \"layer\": 0}, {\"token\": \" '\", \"prob\": \"1.2125531e-06\", \"ranking\": 4, \"layer\": 0}, {\"token\": \" an\", \"prob\": \"8.24534e-07\", \"ranking\": 5, \"layer\": 0}, {\"token\": \" of\", \"prob\": \"6.6737215e-07\", \"ranking\": 6, \"layer\": 0}, {\"token\": \" this\", \"prob\": \"4.773116e-07\", \"ranking\": 7, \"layer\": 0}, {\"token\": \" his\", \"prob\": \"1.4616371e-07\", \"ranking\": 8, \"layer\": 0}, {\"token\": \" their\", \"prob\": \"1.1930685e-07\", \"ranking\": 9, \"layer\": 0}, {\"token\": \" its\", \"prob\": \"1.1235751e-07\", \"ranking\": 10, \"layer\": 0}], [{\"token\": \" the\", \"prob\": \"0.99980754\", \"ranking\": 1, \"layer\": 1}, {\"token\": \" a\", \"prob\": \"0.00019153027\", \"ranking\": 2, \"layer\": 1}, {\"token\": \" its\", \"prob\": \"3.0015164e-07\", \"ranking\": 3, \"layer\": 1}, {\"token\": \" an\", \"prob\": \"2.6625614e-07\", \"ranking\": 4, \"layer\": 1}, {\"token\": \" his\", \"prob\": \"1.825383e-07\", \"ranking\": 5, \"layer\": 1}, {\"token\": \" this\", \"prob\": \"9.106306e-08\", \"ranking\": 6, \"layer\": 1}, {\"token\": \" D\", \"prob\": \"4.1995463e-08\", \"ranking\": 7, \"layer\": 1}, {\"token\": \" of\", \"prob\": \"3.5584165e-08\", \"ranking\": 8, \"layer\": 1}, {\"token\": \" '\", \"prob\": \"2.8525353e-08\", \"ranking\": 9, \"layer\": 1}, {\"token\": \" their\", \"prob\": \"1.9372845e-08\", \"ranking\": 10, \"layer\": 1}], [{\"token\": \" the\", \"prob\": \"0.9999951\", \"ranking\": 1, \"layer\": 2}, {\"token\": \" a\", \"prob\": \"1.4820589e-06\", \"ranking\": 2, \"layer\": 2}, {\"token\": \" his\", \"prob\": \"7.3203137e-07\", \"ranking\": 3, \"layer\": 2}, {\"token\": \" its\", \"prob\": \"6.82461e-07\", \"ranking\": 4, \"layer\": 2}, {\"token\": \" G\", \"prob\": \"6.427253e-07\", \"ranking\": 5, \"layer\": 2}, {\"token\": \" '\", \"prob\": \"5.550814e-07\", \"ranking\": 6, \"layer\": 2}, {\"token\": \" D\", \"prob\": \"5.393848e-07\", \"ranking\": 7, \"layer\": 2}, {\"token\": \" St\", \"prob\": \"5.808962e-08\", \"ranking\": 8, \"layer\": 2}, {\"token\": \" M\", \"prob\": \"4.8866287e-08\", \"ranking\": 9, \"layer\": 2}, {\"token\": \" T\", \"prob\": \"2.7987197e-08\", \"ranking\": 10, \"layer\": 2}], [{\"token\": \" the\", \"prob\": \"0.9999993\", \"ranking\": 1, \"layer\": 3}, {\"token\": \" T\", \"prob\": \"4.495385e-07\", \"ranking\": 2, \"layer\": 3}, {\"token\": \" D\", \"prob\": \"1.7348152e-07\", \"ranking\": 3, \"layer\": 3}, {\"token\": \" a\", \"prob\": \"4.7407223e-08\", \"ranking\": 4, \"layer\": 3}, {\"token\": \" St\", \"prob\": \"1.1047171e-08\", \"ranking\": 5, \"layer\": 3}, {\"token\": \" G\", \"prob\": \"1.0344696e-08\", \"ranking\": 6, \"layer\": 3}, {\"token\": \" K\", \"prob\": \"4.9773563e-09\", \"ranking\": 7, \"layer\": 3}, {\"token\": \" New\", \"prob\": \"4.66505e-09\", \"ranking\": 8, \"layer\": 3}, {\"token\": \" S\", \"prob\": \"2.0901194e-09\", \"ranking\": 9, \"layer\": 3}, {\"token\": \" M\", \"prob\": \"1.7636931e-09\", \"ranking\": 10, \"layer\": 3}], [{\"token\": \" the\", \"prob\": \"1.0\", \"ranking\": 1, \"layer\": 4}, {\"token\": \",\", \"prob\": \"2.743774e-08\", \"ranking\": 2, \"layer\": 4}, {\"token\": \" a\", \"prob\": \"2.3159656e-11\", \"ranking\": 3, \"layer\": 4}, {\"token\": \" D\", \"prob\": \"7.802386e-12\", \"ranking\": 4, \"layer\": 4}, {\"token\": \"\\n\", \"prob\": \"8.831381e-13\", \"ranking\": 5, \"layer\": 4}, {\"token\": \" and\", \"prob\": \"2.0331303e-13\", \"ranking\": 6, \"layer\": 4}, {\"token\": \" in\", \"prob\": \"2.0303247e-13\", \"ranking\": 7, \"layer\": 4}, {\"token\": \"-\", \"prob\": \"8.0862156e-14\", \"ranking\": 8, \"layer\": 4}, {\"token\": \".\", \"prob\": \"4.3994864e-14\", \"ranking\": 9, \"layer\": 4}, {\"token\": \" T\", \"prob\": \"1.1751464e-14\", \"ranking\": 10, \"layer\": 4}], [{\"token\": \" London\", \"prob\": \"0.12731317\", \"ranking\": 1, \"layer\": 5}, {\"token\": \" Birmingham\", \"prob\": \"0.08045116\", \"ranking\": 2, \"layer\": 5}, {\"token\": \" Manchester\", \"prob\": \"0.04099102\", \"ranking\": 3, \"layer\": 5}, {\"token\": \" Belfast\", \"prob\": \"0.018735725\", \"ranking\": 4, \"layer\": 5}, {\"token\": \" Glasgow\", \"prob\": \"0.018269068\", \"ranking\": 5, \"layer\": 5}, {\"token\": \" Leeds\", \"prob\": \"0.015156686\", \"ranking\": 6, \"layer\": 5}, {\"token\": \" Liverpool\", \"prob\": \"0.014440063\", \"ranking\": 7, \"layer\": 5}, {\"token\": \" Sheffield\", \"prob\": \"0.012512767\", \"ranking\": 8, \"layer\": 5}, {\"token\": \" Edinburgh\", \"prob\": \"0.012484875\", \"ranking\": 9, \"layer\": 5}, {\"token\": \" Brighton\", \"prob\": \"0.011689237\", \"ranking\": 10, \"layer\": 5}]]\n            })\n            pred.init()\n         }, function (err) {\n            console.log(viz_id, err);\n        })",
      "text/plain": [
       "<IPython.core.display.Javascript object>"
      ]
     },
     "metadata": {},
     "output_type": "display_data"
    }
   ],
   "source": [
    "explainer(position=8)"
   ]
  },
  {
   "cell_type": "code",
   "execution_count": null,
   "metadata": {},
   "outputs": [],
   "source": []
  }
 ],
 "metadata": {
  "kernelspec": {
   "display_name": "Python 3.10.4 ('explainable-ai-tooling': conda)",
   "language": "python",
   "name": "python3"
  },
  "language_info": {
   "codemirror_mode": {
    "name": "ipython",
    "version": 3
   },
   "file_extension": ".py",
   "mimetype": "text/x-python",
   "name": "python",
   "nbconvert_exporter": "python",
   "pygments_lexer": "ipython3",
   "version": "3.10.4"
  },
  "orig_nbformat": 4,
  "vscode": {
   "interpreter": {
    "hash": "47de4e6fcdf76d9f7e9823221d58331110ca8a86e4fcaa17b27f269bc08adee8"
   }
  }
 },
 "nbformat": 4,
 "nbformat_minor": 2
}
