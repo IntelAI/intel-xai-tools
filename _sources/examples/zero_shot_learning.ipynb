{
 "cells": [
  {
   "cell_type": "markdown",
   "metadata": {},
   "source": [
    "# Explaining zero shot learning\n",
    "\n",
    "\n",
    "see [Explaining transformer models using SHAP](https://github.com/PacktPublishing/Applied-Machine-Learning-Explainability-Techniques/blob/main/Chapter07/Explaining_Transformers.ipynb)"
   ]
  },
  {
   "cell_type": "code",
   "execution_count": 1,
   "metadata": {},
   "outputs": [
    {
     "name": "stdout",
     "output_type": "stream",
     "text": [
      "Hugging Face transformer version used: 4.20.1\n"
     ]
    }
   ],
   "source": [
    "import warnings\n",
    "warnings.filterwarnings('ignore')\n",
    "\n",
    "# add zero_shot_learning.pkz to path which includes a shap entry_point. See zero_shot_learning.yaml\n",
    "# to create the zero_shot_learning.pkz run 'explainer export zero_shot_learning'\n",
    "from explainer.explainers import zero_shot_learning\n",
    "\n",
    "import transformers\n",
    "print(f\"Hugging Face transformer version used: {transformers.__version__}\")\n",
    "from transformers import AutoModelForSequenceClassification, AutoTokenizer, ZeroShotClassificationPipeline\n",
    "from typing import Union, List"
   ]
  },
  {
   "cell_type": "code",
   "execution_count": 2,
   "metadata": {},
   "outputs": [],
   "source": [
    "# Loading the hugging face model and tokenizer\n",
    "model = AutoModelForSequenceClassification.from_pretrained(\"valhalla/distilbart-mnli-12-3\")\n",
    "tokenizer = AutoTokenizer.from_pretrained(\"valhalla/distilbart-mnli-12-3\")"
   ]
  },
  {
   "cell_type": "code",
   "execution_count": 3,
   "metadata": {},
   "outputs": [],
   "source": [
    "# Create a custom pipeline that only requires the text parameter \n",
    "# for the __call__ method and provides a method to set the labels\n",
    "class ZeroShotModelPipeline(ZeroShotClassificationPipeline):\n",
    "    # Overwrite the __call__ method\n",
    "    def __call__(self, *args):\n",
    "        out = super().__call__(args[0], self.set_labels)[0]\n",
    "\n",
    "        return [[{\"label\":x[0], \"score\": x[1]}  for x in zip(out[\"labels\"], out[\"scores\"])]]\n",
    "\n",
    "    def set_labels(self, labels: Union[str,List[str]]):\n",
    "        self.set_labels = labels"
   ]
  },
  {
   "cell_type": "code",
   "execution_count": 4,
   "metadata": {},
   "outputs": [],
   "source": [
    "text = [\"I love playing cricket!\"]\n",
    "labels = [\"insect\",\"sports\", \"animal\"]"
   ]
  },
  {
   "cell_type": "code",
   "execution_count": 5,
   "metadata": {},
   "outputs": [],
   "source": [
    "# Assign the labels for the classification model\n",
    "model.config.label2id.update({v:k for k,v in enumerate(labels)})\n",
    "model.config.id2label.update({k:v for k,v in enumerate(labels)})\n"
   ]
  },
  {
   "cell_type": "code",
   "execution_count": 6,
   "metadata": {},
   "outputs": [],
   "source": [
    "pipe = ZeroShotModelPipeline(model=model, tokenizer=tokenizer, return_all_scores=True)\n",
    "pipe.set_labels(labels)"
   ]
  },
  {
   "cell_type": "code",
   "execution_count": 7,
   "metadata": {},
   "outputs": [
    {
     "name": "stdout",
     "output_type": "stream",
     "text": [
      "Shap version used: 0.40.0\n"
     ]
    },
    {
     "data": {
      "application/vnd.jupyter.widget-view+json": {
       "model_id": "7b49893ffdb745b2a678320223b07031",
       "version_major": 2,
       "version_minor": 0
      },
      "text/plain": [
       "  0%|          | 0/42 [00:00<?, ?it/s]"
      ]
     },
     "metadata": {},
     "output_type": "display_data"
    },
    {
     "name": "stderr",
     "output_type": "stream",
     "text": [
      "Partition explainer: 2it [00:17, 17.33s/it]               \n"
     ]
    },
    {
     "name": "stdout",
     "output_type": "stream",
     "text": [
      "Model predictions are: [[{'label': 'sports', 'score': 0.8340923190116882}, {'label': 'insect', 'score': 0.1633770763874054}, {'label': 'animal', 'score': 0.0025305552408099174}]]\n"
     ]
    },
    {
     "data": {
      "text/html": [
       "\n",
       "<br>\n",
       "<hr style=\"height: 1px; background-color: #fff; border: none; margin-top: 18px; margin-bottom: 18px; border-top: 1px dashed #ccc;\"\">\n",
       "<div align=\"center\" style=\"margin-top: -35px;\"><div style=\"display: inline-block; background: #fff; padding: 5px; color: #999; font-family: monospace\">[0]</div>\n",
       "</div>\n",
       "            "
      ],
      "text/plain": [
       "<IPython.core.display.HTML object>"
      ]
     },
     "metadata": {},
     "output_type": "display_data"
    },
    {
     "data": {
      "text/html": [
       "<div align='center'>\n",
       "<script>\n",
       "    document._hover_iejhwkycugjposzlmgwd = '_tp_iejhwkycugjposzlmgwd_output_0';\n",
       "    document._zoom_iejhwkycugjposzlmgwd = undefined;\n",
       "    function _output_onclick_iejhwkycugjposzlmgwd(i) {\n",
       "        var next_id = undefined;\n",
       "        \n",
       "        if (document._zoom_iejhwkycugjposzlmgwd !== undefined) {\n",
       "            document.getElementById(document._zoom_iejhwkycugjposzlmgwd+ '_zoom').style.display = 'none';\n",
       "            \n",
       "            if (document._zoom_iejhwkycugjposzlmgwd === '_tp_iejhwkycugjposzlmgwd_output_' + i) {\n",
       "                document.getElementById(document._zoom_iejhwkycugjposzlmgwd).style.display = 'block';\n",
       "                document.getElementById(document._zoom_iejhwkycugjposzlmgwd+'_name').style.borderBottom = '3px solid #000000';\n",
       "            } else {\n",
       "                document.getElementById(document._zoom_iejhwkycugjposzlmgwd).style.display = 'none';\n",
       "                document.getElementById(document._zoom_iejhwkycugjposzlmgwd+'_name').style.borderBottom = 'none';\n",
       "            }\n",
       "        }\n",
       "        if (document._zoom_iejhwkycugjposzlmgwd !== '_tp_iejhwkycugjposzlmgwd_output_' + i) {\n",
       "            next_id = '_tp_iejhwkycugjposzlmgwd_output_' + i;\n",
       "            document.getElementById(next_id).style.display = 'none';\n",
       "            document.getElementById(next_id + '_zoom').style.display = 'block';\n",
       "            document.getElementById(next_id+'_name').style.borderBottom = '3px solid #000000';\n",
       "        }\n",
       "        document._zoom_iejhwkycugjposzlmgwd = next_id;\n",
       "    }\n",
       "    function _output_onmouseover_iejhwkycugjposzlmgwd(i, el) {\n",
       "        if (document._zoom_iejhwkycugjposzlmgwd !== undefined) { return; }\n",
       "        if (document._hover_iejhwkycugjposzlmgwd !== undefined) {\n",
       "            document.getElementById(document._hover_iejhwkycugjposzlmgwd + '_name').style.borderBottom = 'none';\n",
       "            document.getElementById(document._hover_iejhwkycugjposzlmgwd).style.display = 'none';\n",
       "        }\n",
       "        document.getElementById('_tp_iejhwkycugjposzlmgwd_output_' + i).style.display = 'block';\n",
       "        el.style.borderBottom = '3px solid #000000';\n",
       "        document._hover_iejhwkycugjposzlmgwd = '_tp_iejhwkycugjposzlmgwd_output_' + i;\n",
       "    }\n",
       "</script>\n",
       "<div style=\"color: rgb(120,120,120); font-size: 12px;\">outputs</div>\n",
       "<div style=\"display: inline; border-bottom: 3px solid #000000; background: rgba(255.0, 13.0, 87.0, 0.1959595959595959); border-radius: 3px; padding: 0px\" id=\"_tp_iejhwkycugjposzlmgwd_output_0_name\"\n",
       "    onclick=\"_output_onclick_iejhwkycugjposzlmgwd(0)\"\n",
       "    onmouseover=\"_output_onmouseover_iejhwkycugjposzlmgwd(0, this);\">insect</div>\n",
       "<div style=\"display: inline; border-bottom: none; background: rgba(255.0, 13.0, 87.0, 1.0); border-radius: 3px; padding: 0px\" id=\"_tp_iejhwkycugjposzlmgwd_output_1_name\"\n",
       "    onclick=\"_output_onclick_iejhwkycugjposzlmgwd(1)\"\n",
       "    onmouseover=\"_output_onmouseover_iejhwkycugjposzlmgwd(1, this);\">sports</div>\n",
       "<div style=\"display: inline; border-bottom: none; background: rgba(230.2941176470614, 26.505882352939775, 102.59215686274348, 0.0); border-radius: 3px; padding: 0px\" id=\"_tp_iejhwkycugjposzlmgwd_output_2_name\"\n",
       "    onclick=\"_output_onclick_iejhwkycugjposzlmgwd(2)\"\n",
       "    onmouseover=\"_output_onmouseover_iejhwkycugjposzlmgwd(2, this);\">animal</div><br><br><div id='_tp_iejhwkycugjposzlmgwd_output_0' style='display: block';><svg width=\"100%\" height=\"80px\"><line x1=\"0\" y1=\"33\" x2=\"100%\" y2=\"33\" style=\"stroke:rgb(150,150,150);stroke-width:1\" /><line x1=\"52.0891739055344%\" y1=\"33\" x2=\"52.0891739055344%\" y2=\"37\" style=\"stroke:rgb(150,150,150);stroke-width:1\" /><text x=\"52.0891739055344%\" y=\"27\" font-size=\"12px\" fill=\"rgb(120,120,120)\" dominant-baseline=\"bottom\" text-anchor=\"middle\">0.4</text><line x1=\"35.58968482849444%\" y1=\"33\" x2=\"35.58968482849444%\" y2=\"37\" style=\"stroke:rgb(150,150,150);stroke-width:1\" /><text x=\"35.58968482849444%\" y=\"27\" font-size=\"12px\" fill=\"rgb(120,120,120)\" dominant-baseline=\"bottom\" text-anchor=\"middle\">0.2</text><line x1=\"19.090195751454495%\" y1=\"33\" x2=\"19.090195751454495%\" y2=\"37\" style=\"stroke:rgb(150,150,150);stroke-width:1\" /><text x=\"19.090195751454495%\" y=\"27\" font-size=\"12px\" fill=\"rgb(120,120,120)\" dominant-baseline=\"bottom\" text-anchor=\"middle\">0</text><line x1=\"68.58866298257436%\" y1=\"33\" x2=\"68.58866298257436%\" y2=\"37\" style=\"stroke:rgb(150,150,150);stroke-width:1\" /><text x=\"68.58866298257436%\" y=\"27\" font-size=\"12px\" fill=\"rgb(120,120,120)\" dominant-baseline=\"bottom\" text-anchor=\"middle\">0.6</text><line x1=\"85.08815205961432%\" y1=\"33\" x2=\"85.08815205961432%\" y2=\"37\" style=\"stroke:rgb(150,150,150);stroke-width:1\" /><text x=\"85.08815205961432%\" y=\"27\" font-size=\"12px\" fill=\"rgb(120,120,120)\" dominant-baseline=\"bottom\" text-anchor=\"middle\">0.8</text><line x1=\"34.87740081772415%\" y1=\"33\" x2=\"34.87740081772415%\" y2=\"37\" style=\"stroke:rgb(150,150,150);stroke-width:1\" /><text x=\"34.87740081772415%\" y=\"27\" font-size=\"13px\" style=\"stroke:#ffffff;stroke-width:8px;\" fill=\"rgb(255,255,255)\" dominant-baseline=\"bottom\" text-anchor=\"middle\">0.191366</text><text x=\"34.87740081772415%\" y=\"27\" font-size=\"12px\" fill=\"rgb(120,120,120)\" dominant-baseline=\"bottom\" text-anchor=\"middle\">0.191366</text><text x=\"34.87740081772415%\" y=\"10\" font-size=\"12px\" fill=\"rgb(120,120,120)\" dominant-baseline=\"bottom\" text-anchor=\"middle\">base value</text><line x1=\"32.56838718791808%\" y1=\"33\" x2=\"32.56838718791808%\" y2=\"37\" style=\"stroke:rgb(150,150,150);stroke-width:1\" /><text x=\"32.56838718791808%\" y=\"27\" font-size=\"13px\" style=\"stroke:#ffffff;stroke-width:8px;\" font-weight=\"bold\" fill=\"rgb(255,255,255)\" dominant-baseline=\"bottom\" text-anchor=\"middle\">0.163377</text><text x=\"32.56838718791808%\" y=\"27\" font-size=\"13px\" font-weight=\"bold\" fill=\"rgb(0,0,0)\" dominant-baseline=\"bottom\" text-anchor=\"middle\">0.163377</text><text x=\"32.56838718791808%\" y=\"10\" font-size=\"12px\" fill=\"rgb(120,120,120)\" dominant-baseline=\"bottom\" text-anchor=\"middle\">f<tspan baseline-shift=\"sub\" font-size=\"8px\">insect</tspan>(inputs)</text><rect x=\"23.30546373041744%\" width=\"9.26292345750064%\" y=\"40\" height=\"18\" style=\"fill:rgb(255.0, 0.0, 81.08083606031792); stroke-width:0; stroke:rgb(0,0,0)\" /><line x1=\"27.04534338410083%\" x2=\"32.56838718791808%\" y1=\"60\" y2=\"60\" id=\"_fb_dseltosfctsdncbuvfna_ind_0\" style=\"stroke:rgb(255.0, 0.0, 81.08083606031792);stroke-width:2; opacity: 0\"/><text x=\"29.806865286009455%\" y=\"71\" font-size=\"12px\" id=\"_fs_dseltosfctsdncbuvfna_ind_0\" fill=\"rgb(255.0, 0.0, 81.08083606031792)\" style=\"opacity: 0\" dominant-baseline=\"middle\" text-anchor=\"middle\">0.067</text><svg x=\"27.04534338410083%\" y=\"40\" height=\"20\" width=\"5.523043803817249%\">  <svg x=\"0\" y=\"0\" width=\"100%\" height=\"100%\">    <text x=\"50%\" y=\"9\" font-size=\"12px\" fill=\"rgb(255,255,255)\" dominant-baseline=\"middle\" text-anchor=\"middle\"></text>  </svg></svg><line x1=\"24.7813459686046%\" x2=\"27.04534338410083%\" y1=\"60\" y2=\"60\" id=\"_fb_dseltosfctsdncbuvfna_ind_2\" style=\"stroke:rgb(255.0, 0.0, 81.08083606031792);stroke-width:2; opacity: 0\"/><text x=\"25.913344676352715%\" y=\"71\" font-size=\"12px\" id=\"_fs_dseltosfctsdncbuvfna_ind_2\" fill=\"rgb(255.0, 0.0, 81.08083606031792)\" style=\"opacity: 0\" dominant-baseline=\"middle\" text-anchor=\"middle\">0.027</text><svg x=\"24.7813459686046%\" y=\"40\" height=\"20\" width=\"2.2639974154962275%\">  <svg x=\"0\" y=\"0\" width=\"100%\" height=\"100%\">    <text x=\"50%\" y=\"9\" font-size=\"12px\" fill=\"rgb(255,255,255)\" dominant-baseline=\"middle\" text-anchor=\"middle\">love</text>  </svg></svg><line x1=\"23.30546373041744%\" x2=\"24.7813459686046%\" y1=\"60\" y2=\"60\" id=\"_fb_dseltosfctsdncbuvfna_ind_1\" style=\"stroke:rgb(255.0, 0.0, 81.08083606031792);stroke-width:2; opacity: 0\"/><text x=\"24.04340484951102%\" y=\"71\" font-size=\"12px\" id=\"_fs_dseltosfctsdncbuvfna_ind_1\" fill=\"rgb(255.0, 0.0, 81.08083606031792)\" style=\"opacity: 0\" dominant-baseline=\"middle\" text-anchor=\"middle\">0.018</text><svg x=\"23.30546373041744%\" y=\"40\" height=\"20\" width=\"1.475882238187161%\">  <svg x=\"0\" y=\"0\" width=\"100%\" height=\"100%\">    <text x=\"50%\" y=\"9\" font-size=\"12px\" fill=\"rgb(255,255,255)\" dominant-baseline=\"middle\" text-anchor=\"middle\">I</text>  </svg></svg><g transform=\"translate(0,0)\">  <svg x=\"27.04534338410083%\" y=\"40\" height=\"18\" overflow=\"visible\" width=\"30\">    <path d=\"M 0 -9 l 6 18 L 0 25\" fill=\"none\" style=\"stroke:rgb(255.0, 0.0, 81.08083606031792);stroke-width:2\" />  </svg></g><g transform=\"translate(2,0)\">  <svg x=\"27.04534338410083%\" y=\"40\" height=\"18\" overflow=\"visible\" width=\"30\">    <path d=\"M 0 -9 l 6 18 L 0 25\" fill=\"none\" style=\"stroke:rgb(255.0, 0.0, 81.08083606031792);stroke-width:2\" />  </svg></g><g transform=\"translate(4,0)\">  <svg x=\"27.04534338410083%\" y=\"40\" height=\"18\" overflow=\"visible\" width=\"30\">    <path d=\"M 0 -9 l 6 18 L 0 25\" fill=\"none\" style=\"stroke:rgb(255.0, 0.0, 81.08083606031792);stroke-width:2\" />  </svg></g><g transform=\"translate(6,0)\">  <svg x=\"27.04534338410083%\" y=\"40\" height=\"18\" overflow=\"visible\" width=\"30\">    <path d=\"M 0 -9 l 6 18 L 0 25\" fill=\"none\" style=\"stroke:rgb(255.0, 0.0, 81.08083606031792);stroke-width:2\" />  </svg></g><g transform=\"translate(-8,0)\">  <svg x=\"27.04534338410083%\" y=\"40\" height=\"18\" overflow=\"visible\" width=\"30\">    <path d=\"M 0 -9 l 6 18 L 0 25\" fill=\"none\" style=\"stroke:rgb(255.0, 0.0, 81.08083606031792);stroke-width:2\" />  </svg></g><g transform=\"translate(-6,0)\">  <svg x=\"27.04534338410083%\" y=\"40\" height=\"18\" overflow=\"visible\" width=\"30\">    <path d=\"M 0 -9 l 6 18 L 0 25\" fill=\"none\" style=\"stroke:rgb(255.0, 0.0, 81.08083606031792);stroke-width:2\" />  </svg></g><g transform=\"translate(-4,0)\">  <svg x=\"27.04534338410083%\" y=\"40\" height=\"18\" overflow=\"visible\" width=\"30\">    <path d=\"M 0 -9 l 6 18 L 0 25\" fill=\"none\" style=\"stroke:rgb(255.0, 0.0, 81.08083606031792);stroke-width:2\" />  </svg></g><g transform=\"translate(-2,0)\">  <svg x=\"27.04534338410083%\" y=\"40\" height=\"18\" overflow=\"visible\" width=\"30\">    <path d=\"M 0 -9 l 6 18 L 0 25\" fill=\"none\" style=\"stroke:rgb(255.0, 0.0, 81.08083606031792);stroke-width:2\" />  </svg></g><g transform=\"translate(0,0)\">  <svg x=\"24.7813459686046%\" y=\"40\" height=\"18\" overflow=\"visible\" width=\"30\">    <path d=\"M 0 -9 l 6 18 L 0 25\" fill=\"none\" style=\"stroke:rgb(255.0, 0.0, 81.08083606031792);stroke-width:2\" />  </svg></g><g transform=\"translate(2,0)\">  <svg x=\"24.7813459686046%\" y=\"40\" height=\"18\" overflow=\"visible\" width=\"30\">    <path d=\"M 0 -9 l 6 18 L 0 25\" fill=\"none\" style=\"stroke:rgb(255.0, 0.0, 81.08083606031792);stroke-width:2\" />  </svg></g><g transform=\"translate(4,0)\">  <svg x=\"24.7813459686046%\" y=\"40\" height=\"18\" overflow=\"visible\" width=\"30\">    <path d=\"M 0 -9 l 6 18 L 0 25\" fill=\"none\" style=\"stroke:rgb(255.0, 0.0, 81.08083606031792);stroke-width:2\" />  </svg></g><g transform=\"translate(6,0)\">  <svg x=\"24.7813459686046%\" y=\"40\" height=\"18\" overflow=\"visible\" width=\"30\">    <path d=\"M 0 -9 l 6 18 L 0 25\" fill=\"none\" style=\"stroke:rgb(255.0, 0.0, 81.08083606031792);stroke-width:2\" />  </svg></g><g transform=\"translate(-8,0)\">  <svg x=\"24.7813459686046%\" y=\"40\" height=\"18\" overflow=\"visible\" width=\"30\">    <path d=\"M 0 -9 l 6 18 L 0 25\" fill=\"none\" style=\"stroke:rgb(255.0, 0.0, 81.08083606031792);stroke-width:2\" />  </svg></g><g transform=\"translate(-6,0)\">  <svg x=\"24.7813459686046%\" y=\"40\" height=\"18\" overflow=\"visible\" width=\"30\">    <path d=\"M 0 -9 l 6 18 L 0 25\" fill=\"none\" style=\"stroke:rgb(255.0, 0.0, 81.08083606031792);stroke-width:2\" />  </svg></g><g transform=\"translate(-4,0)\">  <svg x=\"24.7813459686046%\" y=\"40\" height=\"18\" overflow=\"visible\" width=\"30\">    <path d=\"M 0 -9 l 6 18 L 0 25\" fill=\"none\" style=\"stroke:rgb(255.0, 0.0, 81.08083606031792);stroke-width:2\" />  </svg></g><g transform=\"translate(-2,0)\">  <svg x=\"24.7813459686046%\" y=\"40\" height=\"18\" overflow=\"visible\" width=\"30\">    <path d=\"M 0 -9 l 6 18 L 0 25\" fill=\"none\" style=\"stroke:rgb(255.0, 0.0, 81.08083606031792);stroke-width:2\" />  </svg></g><rect transform=\"translate(-8,0)\" x=\"32.56838718791808%\" y=\"40\" width=\"8\" height=\"18\" style=\"fill:rgb(255.0, 0.0, 81.08083606031792)\"/><g transform=\"translate(-11.5,0)\">  <svg x=\"23.30546373041744%\" y=\"40\" height=\"18\" overflow=\"visible\" width=\"30\">    <path d=\"M 10 -9 l 6 18 L 10 25 L 0 25 L 0 -9\" fill=\"#ffffff\" style=\"stroke:rgb(255,255,255);stroke-width:2\" />  </svg></g><g transform=\"translate(-1.5,0)\">  <svg x=\"32.56838718791808%\" y=\"40\" height=\"18\" overflow=\"visible\" width=\"30\">    <path d=\"M 0 -9 l 6 18 L 0 25\" fill=\"none\" style=\"stroke:rgb(255, 195, 213);stroke-width:2\" />  </svg></g><rect x=\"27.04534338410083%\" y=\"40\" height=\"20\" width=\"5.523043803817249%\"      onmouseover=\"document.getElementById('_tp_dseltosfctsdncbuvfna_ind_0').style.textDecoration = 'underline';document.getElementById('_fs_dseltosfctsdncbuvfna_ind_0').style.opacity = 1;document.getElementById('_fb_dseltosfctsdncbuvfna_ind_0').style.opacity = 1;\"      onmouseout=\"document.getElementById('_tp_dseltosfctsdncbuvfna_ind_0').style.textDecoration = 'none';document.getElementById('_fs_dseltosfctsdncbuvfna_ind_0').style.opacity = 0;document.getElementById('_fb_dseltosfctsdncbuvfna_ind_0').style.opacity = 0;\" style=\"fill:rgb(0,0,0,0)\" /><g transform=\"translate(-1.5,0)\">  <svg x=\"27.04534338410083%\" y=\"40\" height=\"18\" overflow=\"visible\" width=\"30\">    <path d=\"M 0 -9 l 6 18 L 0 25\" fill=\"none\" style=\"stroke:rgb(255, 195, 213);stroke-width:2\" />  </svg></g><rect x=\"24.7813459686046%\" y=\"40\" height=\"20\" width=\"2.2639974154962275%\"      onmouseover=\"document.getElementById('_tp_dseltosfctsdncbuvfna_ind_2').style.textDecoration = 'underline';document.getElementById('_fs_dseltosfctsdncbuvfna_ind_2').style.opacity = 1;document.getElementById('_fb_dseltosfctsdncbuvfna_ind_2').style.opacity = 1;\"      onmouseout=\"document.getElementById('_tp_dseltosfctsdncbuvfna_ind_2').style.textDecoration = 'none';document.getElementById('_fs_dseltosfctsdncbuvfna_ind_2').style.opacity = 0;document.getElementById('_fb_dseltosfctsdncbuvfna_ind_2').style.opacity = 0;\" style=\"fill:rgb(0,0,0,0)\" /><rect x=\"23.30546373041744%\" y=\"40\" height=\"20\" width=\"1.475882238187161%\"      onmouseover=\"document.getElementById('_tp_dseltosfctsdncbuvfna_ind_1').style.textDecoration = 'underline';document.getElementById('_fs_dseltosfctsdncbuvfna_ind_1').style.opacity = 1;document.getElementById('_fb_dseltosfctsdncbuvfna_ind_1').style.opacity = 1;\"      onmouseout=\"document.getElementById('_tp_dseltosfctsdncbuvfna_ind_1').style.textDecoration = 'none';document.getElementById('_fs_dseltosfctsdncbuvfna_ind_1').style.opacity = 0;document.getElementById('_fb_dseltosfctsdncbuvfna_ind_1').style.opacity = 0;\" style=\"fill:rgb(0,0,0,0)\" /><rect x=\"32.56838718791808%\" width=\"11.571937087306717%\" y=\"40\" height=\"18\" style=\"fill:rgb(0.0, 138.56128015770727, 250.76166088685727); stroke-width:0; stroke:rgb(0,0,0)\" /><line x1=\"32.56838718791808%\" x2=\"40.46198972105291%\" y1=\"60\" y2=\"60\" id=\"_fb_dseltosfctsdncbuvfna_ind_6\" style=\"stroke:rgb(0.0, 138.56128015770727, 250.76166088685727);stroke-width:2; opacity: 0\"/><text x=\"36.5151884544855%\" y=\"71\" font-size=\"12px\" fill=\"rgb(0.0, 138.56128015770727, 250.76166088685727)\" id=\"_fs_dseltosfctsdncbuvfna_ind_6\" style=\"opacity: 0\" dominant-baseline=\"middle\" text-anchor=\"middle\">-0.096</text><svg x=\"32.56838718791808%\" y=\"40\" height=\"20\" width=\"7.893602533134832%\">  <svg x=\"0\" y=\"0\" width=\"100%\" height=\"100%\">    <text x=\"50%\" y=\"9\" font-size=\"12px\" fill=\"rgb(255,255,255)\" dominant-baseline=\"middle\" text-anchor=\"middle\"></text>  </svg></svg><line x1=\"40.46198972105291%\" x2=\"42.811827318476574%\" y1=\"60\" y2=\"60\" id=\"_fb_dseltosfctsdncbuvfna_ind_3\" style=\"stroke:rgb(0.0, 138.56128015770727, 250.76166088685727);stroke-width:2; opacity: 0\"/><text x=\"41.636908519764745%\" y=\"71\" font-size=\"12px\" fill=\"rgb(0.0, 138.56128015770727, 250.76166088685727)\" id=\"_fs_dseltosfctsdncbuvfna_ind_3\" style=\"opacity: 0\" dominant-baseline=\"middle\" text-anchor=\"middle\">-0.028</text><svg x=\"40.46198972105291%\" y=\"40\" height=\"20\" width=\"2.349837597423665%\">  <svg x=\"0\" y=\"0\" width=\"100%\" height=\"100%\">    <text x=\"50%\" y=\"9\" font-size=\"12px\" fill=\"rgb(255,255,255)\" dominant-baseline=\"middle\" text-anchor=\"middle\">playing</text>  </svg></svg><line x1=\"42.811827318476574%\" x2=\"43.91581573214271%\" y1=\"60\" y2=\"60\" id=\"_fb_dseltosfctsdncbuvfna_ind_5\" style=\"stroke:rgb(0.0, 138.56128015770727, 250.76166088685727);stroke-width:2; opacity: 0\"/><text x=\"43.363821525309646%\" y=\"71\" font-size=\"12px\" fill=\"rgb(0.0, 138.56128015770727, 250.76166088685727)\" id=\"_fs_dseltosfctsdncbuvfna_ind_5\" style=\"opacity: 0\" dominant-baseline=\"middle\" text-anchor=\"middle\">-0.013</text><svg x=\"42.811827318476574%\" y=\"40\" height=\"20\" width=\"1.103988413666137%\">  <svg x=\"0\" y=\"0\" width=\"100%\" height=\"100%\">    <text x=\"50%\" y=\"9\" font-size=\"12px\" fill=\"rgb(255,255,255)\" dominant-baseline=\"middle\" text-anchor=\"middle\">!</text>  </svg></svg><line x1=\"43.91581573214271%\" x2=\"44.14032427522479%\" y1=\"60\" y2=\"60\" id=\"_fb_dseltosfctsdncbuvfna_ind_4\" style=\"stroke:rgb(0.0, 138.56128015770727, 250.76166088685727);stroke-width:2; opacity: 0\"/><text x=\"44.02807000368375%\" y=\"71\" font-size=\"12px\" fill=\"rgb(0.0, 138.56128015770727, 250.76166088685727)\" id=\"_fs_dseltosfctsdncbuvfna_ind_4\" style=\"opacity: 0\" dominant-baseline=\"middle\" text-anchor=\"middle\">-0.003</text><svg x=\"43.91581573214271%\" y=\"40\" height=\"20\" width=\"0.2245085430820808%\">  <svg x=\"0\" y=\"0\" width=\"100%\" height=\"100%\">    <text x=\"50%\" y=\"9\" font-size=\"12px\" fill=\"rgb(255,255,255)\" dominant-baseline=\"middle\" text-anchor=\"middle\">cricket</text>  </svg></svg><g transform=\"translate(-8,0)\">  <svg x=\"40.46198972105291%\" y=\"40\" height=\"18\" overflow=\"visible\" width=\"30\">    <path d=\"M 8 -9 l -6 18 L 8 25\" fill=\"none\" style=\"stroke:rgb(0.0, 138.56128015770727, 250.76166088685727);stroke-width:2\" />  </svg></g><g transform=\"translate(-10,0)\">  <svg x=\"40.46198972105291%\" y=\"40\" height=\"18\" overflow=\"visible\" width=\"30\">    <path d=\"M 8 -9 l -6 18 L 8 25\" fill=\"none\" style=\"stroke:rgb(0.0, 138.56128015770727, 250.76166088685727);stroke-width:2\" />  </svg></g><g transform=\"translate(-12,0)\">  <svg x=\"40.46198972105291%\" y=\"40\" height=\"18\" overflow=\"visible\" width=\"30\">    <path d=\"M 8 -9 l -6 18 L 8 25\" fill=\"none\" style=\"stroke:rgb(0.0, 138.56128015770727, 250.76166088685727);stroke-width:2\" />  </svg></g><g transform=\"translate(-14,0)\">  <svg x=\"40.46198972105291%\" y=\"40\" height=\"18\" overflow=\"visible\" width=\"30\">    <path d=\"M 8 -9 l -6 18 L 8 25\" fill=\"none\" style=\"stroke:rgb(0.0, 138.56128015770727, 250.76166088685727);stroke-width:2\" />  </svg></g><g transform=\"translate(2,0)\">  <svg x=\"40.46198972105291%\" y=\"40\" height=\"18\" overflow=\"visible\" width=\"30\">    <path d=\"M 8 -9 l -6 18 L 8 25\" fill=\"none\" style=\"stroke:rgb(0.0, 138.56128015770727, 250.76166088685727);stroke-width:2\" />  </svg></g><g transform=\"translate(0,0)\">  <svg x=\"40.46198972105291%\" y=\"40\" height=\"18\" overflow=\"visible\" width=\"30\">    <path d=\"M 8 -9 l -6 18 L 8 25\" fill=\"none\" style=\"stroke:rgb(0.0, 138.56128015770727, 250.76166088685727);stroke-width:2\" />  </svg></g><g transform=\"translate(-2,0)\">  <svg x=\"40.46198972105291%\" y=\"40\" height=\"18\" overflow=\"visible\" width=\"30\">    <path d=\"M 8 -9 l -6 18 L 8 25\" fill=\"none\" style=\"stroke:rgb(0.0, 138.56128015770727, 250.76166088685727);stroke-width:2\" />  </svg></g><g transform=\"translate(-4,0)\">  <svg x=\"40.46198972105291%\" y=\"40\" height=\"18\" overflow=\"visible\" width=\"30\">    <path d=\"M 8 -9 l -6 18 L 8 25\" fill=\"none\" style=\"stroke:rgb(0.0, 138.56128015770727, 250.76166088685727);stroke-width:2\" />  </svg></g><g transform=\"translate(-8,0)\">  <svg x=\"42.811827318476574%\" y=\"40\" height=\"18\" overflow=\"visible\" width=\"30\">    <path d=\"M 8 -9 l -6 18 L 8 25\" fill=\"none\" style=\"stroke:rgb(0.0, 138.56128015770727, 250.76166088685727);stroke-width:2\" />  </svg></g><g transform=\"translate(-10,0)\">  <svg x=\"42.811827318476574%\" y=\"40\" height=\"18\" overflow=\"visible\" width=\"30\">    <path d=\"M 8 -9 l -6 18 L 8 25\" fill=\"none\" style=\"stroke:rgb(0.0, 138.56128015770727, 250.76166088685727);stroke-width:2\" />  </svg></g><g transform=\"translate(-12,0)\">  <svg x=\"42.811827318476574%\" y=\"40\" height=\"18\" overflow=\"visible\" width=\"30\">    <path d=\"M 8 -9 l -6 18 L 8 25\" fill=\"none\" style=\"stroke:rgb(0.0, 138.56128015770727, 250.76166088685727);stroke-width:2\" />  </svg></g><g transform=\"translate(-14,0)\">  <svg x=\"42.811827318476574%\" y=\"40\" height=\"18\" overflow=\"visible\" width=\"30\">    <path d=\"M 8 -9 l -6 18 L 8 25\" fill=\"none\" style=\"stroke:rgb(0.0, 138.56128015770727, 250.76166088685727);stroke-width:2\" />  </svg></g><g transform=\"translate(2,0)\">  <svg x=\"42.811827318476574%\" y=\"40\" height=\"18\" overflow=\"visible\" width=\"30\">    <path d=\"M 8 -9 l -6 18 L 8 25\" fill=\"none\" style=\"stroke:rgb(0.0, 138.56128015770727, 250.76166088685727);stroke-width:2\" />  </svg></g><g transform=\"translate(0,0)\">  <svg x=\"42.811827318476574%\" y=\"40\" height=\"18\" overflow=\"visible\" width=\"30\">    <path d=\"M 8 -9 l -6 18 L 8 25\" fill=\"none\" style=\"stroke:rgb(0.0, 138.56128015770727, 250.76166088685727);stroke-width:2\" />  </svg></g><g transform=\"translate(-2,0)\">  <svg x=\"42.811827318476574%\" y=\"40\" height=\"18\" overflow=\"visible\" width=\"30\">    <path d=\"M 8 -9 l -6 18 L 8 25\" fill=\"none\" style=\"stroke:rgb(0.0, 138.56128015770727, 250.76166088685727);stroke-width:2\" />  </svg></g><g transform=\"translate(-4,0)\">  <svg x=\"42.811827318476574%\" y=\"40\" height=\"18\" overflow=\"visible\" width=\"30\">    <path d=\"M 8 -9 l -6 18 L 8 25\" fill=\"none\" style=\"stroke:rgb(0.0, 138.56128015770727, 250.76166088685727);stroke-width:2\" />  </svg></g><g transform=\"translate(-8,0)\">  <svg x=\"43.91581573214271%\" y=\"40\" height=\"18\" overflow=\"visible\" width=\"30\">    <path d=\"M 8 -9 l -6 18 L 8 25\" fill=\"none\" style=\"stroke:rgb(0.0, 138.56128015770727, 250.76166088685727);stroke-width:2\" />  </svg></g><g transform=\"translate(-10,0)\">  <svg x=\"43.91581573214271%\" y=\"40\" height=\"18\" overflow=\"visible\" width=\"30\">    <path d=\"M 8 -9 l -6 18 L 8 25\" fill=\"none\" style=\"stroke:rgb(0.0, 138.56128015770727, 250.76166088685727);stroke-width:2\" />  </svg></g><g transform=\"translate(-12,0)\">  <svg x=\"43.91581573214271%\" y=\"40\" height=\"18\" overflow=\"visible\" width=\"30\">    <path d=\"M 8 -9 l -6 18 L 8 25\" fill=\"none\" style=\"stroke:rgb(0.0, 138.56128015770727, 250.76166088685727);stroke-width:2\" />  </svg></g><g transform=\"translate(-14,0)\">  <svg x=\"43.91581573214271%\" y=\"40\" height=\"18\" overflow=\"visible\" width=\"30\">    <path d=\"M 8 -9 l -6 18 L 8 25\" fill=\"none\" style=\"stroke:rgb(0.0, 138.56128015770727, 250.76166088685727);stroke-width:2\" />  </svg></g><g transform=\"translate(2,0)\">  <svg x=\"43.91581573214271%\" y=\"40\" height=\"18\" overflow=\"visible\" width=\"30\">    <path d=\"M 8 -9 l -6 18 L 8 25\" fill=\"none\" style=\"stroke:rgb(0.0, 138.56128015770727, 250.76166088685727);stroke-width:2\" />  </svg></g><g transform=\"translate(0,0)\">  <svg x=\"43.91581573214271%\" y=\"40\" height=\"18\" overflow=\"visible\" width=\"30\">    <path d=\"M 8 -9 l -6 18 L 8 25\" fill=\"none\" style=\"stroke:rgb(0.0, 138.56128015770727, 250.76166088685727);stroke-width:2\" />  </svg></g><g transform=\"translate(-2,0)\">  <svg x=\"43.91581573214271%\" y=\"40\" height=\"18\" overflow=\"visible\" width=\"30\">    <path d=\"M 8 -9 l -6 18 L 8 25\" fill=\"none\" style=\"stroke:rgb(0.0, 138.56128015770727, 250.76166088685727);stroke-width:2\" />  </svg></g><g transform=\"translate(-4,0)\">  <svg x=\"43.91581573214271%\" y=\"40\" height=\"18\" overflow=\"visible\" width=\"30\">    <path d=\"M 8 -9 l -6 18 L 8 25\" fill=\"none\" style=\"stroke:rgb(0.0, 138.56128015770727, 250.76166088685727);stroke-width:2\" />  </svg></g><rect transform=\"translate(0,0)\" x=\"32.56838718791808%\" y=\"40\" width=\"8\" height=\"18\" style=\"fill:rgb(0.0, 138.56128015770727, 250.76166088685727)\"/><g transform=\"translate(-6.0,0)\">  <svg x=\"44.14032427522479%\" y=\"40\" height=\"18\" overflow=\"visible\" width=\"30\">    <path d=\"M 8 -9 l -6 18 L 8 25 L 20 25 L 20 -9\" fill=\"#ffffff\" style=\"stroke:rgb(255,255,255);stroke-width:2\" />  </svg></g><g transform=\"translate(-6.0,0)\">  <svg x=\"40.46198972105291%\" y=\"40\" height=\"18\" overflow=\"visible\" width=\"30\">    <path d=\"M 8 -9 l -6 18 L 8 25\" fill=\"none\" style=\"stroke:rgb(208, 230, 250);stroke-width:2\" />  </svg></g><rect x=\"32.56838718791808%\" y=\"40\" height=\"20\" width=\"7.893602533134832%\"      onmouseover=\"document.getElementById('_tp_dseltosfctsdncbuvfna_ind_6').style.textDecoration = 'underline';document.getElementById('_fs_dseltosfctsdncbuvfna_ind_6').style.opacity = 1;document.getElementById('_fb_dseltosfctsdncbuvfna_ind_6').style.opacity = 1;\"      onmouseout=\"document.getElementById('_tp_dseltosfctsdncbuvfna_ind_6').style.textDecoration = 'none';document.getElementById('_fs_dseltosfctsdncbuvfna_ind_6').style.opacity = 0;document.getElementById('_fb_dseltosfctsdncbuvfna_ind_6').style.opacity = 0;\" style=\"fill:rgb(0,0,0,0)\" /><g transform=\"translate(-6.0,0)\">  <svg x=\"42.811827318476574%\" y=\"40\" height=\"18\" overflow=\"visible\" width=\"30\">    <path d=\"M 8 -9 l -6 18 L 8 25\" fill=\"none\" style=\"stroke:rgb(208, 230, 250);stroke-width:2\" />  </svg></g><rect x=\"40.46198972105291%\" y=\"40\" height=\"20\" width=\"2.349837597423665%\"      onmouseover=\"document.getElementById('_tp_dseltosfctsdncbuvfna_ind_3').style.textDecoration = 'underline';document.getElementById('_fs_dseltosfctsdncbuvfna_ind_3').style.opacity = 1;document.getElementById('_fb_dseltosfctsdncbuvfna_ind_3').style.opacity = 1;\"      onmouseout=\"document.getElementById('_tp_dseltosfctsdncbuvfna_ind_3').style.textDecoration = 'none';document.getElementById('_fs_dseltosfctsdncbuvfna_ind_3').style.opacity = 0;document.getElementById('_fb_dseltosfctsdncbuvfna_ind_3').style.opacity = 0;\" style=\"fill:rgb(0,0,0,0)\" /><g transform=\"translate(-6.0,0)\">  <svg x=\"43.91581573214271%\" y=\"40\" height=\"18\" overflow=\"visible\" width=\"30\">    <path d=\"M 8 -9 l -6 18 L 8 25\" fill=\"none\" style=\"stroke:rgb(208, 230, 250);stroke-width:2\" />  </svg></g><rect x=\"42.811827318476574%\" y=\"40\" height=\"20\" width=\"1.103988413666137%\"      onmouseover=\"document.getElementById('_tp_dseltosfctsdncbuvfna_ind_5').style.textDecoration = 'underline';document.getElementById('_fs_dseltosfctsdncbuvfna_ind_5').style.opacity = 1;document.getElementById('_fb_dseltosfctsdncbuvfna_ind_5').style.opacity = 1;\"      onmouseout=\"document.getElementById('_tp_dseltosfctsdncbuvfna_ind_5').style.textDecoration = 'none';document.getElementById('_fs_dseltosfctsdncbuvfna_ind_5').style.opacity = 0;document.getElementById('_fb_dseltosfctsdncbuvfna_ind_5').style.opacity = 0;\" style=\"fill:rgb(0,0,0,0)\" /><rect x=\"43.91581573214271%\" y=\"40\" height=\"20\" width=\"0.2245085430820808%\"      onmouseover=\"document.getElementById('_tp_dseltosfctsdncbuvfna_ind_4').style.textDecoration = 'underline';document.getElementById('_fs_dseltosfctsdncbuvfna_ind_4').style.opacity = 1;document.getElementById('_fb_dseltosfctsdncbuvfna_ind_4').style.opacity = 1;\"      onmouseout=\"document.getElementById('_tp_dseltosfctsdncbuvfna_ind_4').style.textDecoration = 'none';document.getElementById('_fs_dseltosfctsdncbuvfna_ind_4').style.opacity = 0;document.getElementById('_fb_dseltosfctsdncbuvfna_ind_4').style.opacity = 0;\" style=\"fill:rgb(0,0,0,0)\" /></svg><div align='center'><div style=\"color: rgb(120,120,120); font-size: 12px; margin-top: -15px;\">inputs</div><div style='display: inline; text-align: center;'\n",
       "    ><div style='display: none; color: #999; padding-top: 0px; font-size: 12px;'>0.067</div\n",
       "        ><div id='_tp_dseltosfctsdncbuvfna_ind_0'\n",
       "            style='display: inline; background: rgba(255.0, 13.0, 87.0, 0.1959595959595959); border-radius: 3px; padding: 0px'\n",
       "            onclick=\"\n",
       "            if (this.previousSibling.style.display == 'none') {\n",
       "                this.previousSibling.style.display = 'block';\n",
       "                this.parentNode.style.display = 'inline-block';\n",
       "            } else {\n",
       "                this.previousSibling.style.display = 'none';\n",
       "                this.parentNode.style.display = 'inline';\n",
       "            }\"\n",
       "            onmouseover=\"document.getElementById('_fb_dseltosfctsdncbuvfna_ind_0').style.opacity = 1; document.getElementById('_fs_dseltosfctsdncbuvfna_ind_0').style.opacity = 1;\"\n",
       "            onmouseout=\"document.getElementById('_fb_dseltosfctsdncbuvfna_ind_0').style.opacity = 0; document.getElementById('_fs_dseltosfctsdncbuvfna_ind_0').style.opacity = 0;\"\n",
       "        ></div></div><div style='display: inline; text-align: center;'\n",
       "    ><div style='display: none; color: #999; padding-top: 0px; font-size: 12px;'>0.018</div\n",
       "        ><div id='_tp_dseltosfctsdncbuvfna_ind_1'\n",
       "            style='display: inline; background: rgba(255.0, 13.0, 87.0, 0.04618736383442265); border-radius: 3px; padding: 0px'\n",
       "            onclick=\"\n",
       "            if (this.previousSibling.style.display == 'none') {\n",
       "                this.previousSibling.style.display = 'block';\n",
       "                this.parentNode.style.display = 'inline-block';\n",
       "            } else {\n",
       "                this.previousSibling.style.display = 'none';\n",
       "                this.parentNode.style.display = 'inline';\n",
       "            }\"\n",
       "            onmouseover=\"document.getElementById('_fb_dseltosfctsdncbuvfna_ind_1').style.opacity = 1; document.getElementById('_fs_dseltosfctsdncbuvfna_ind_1').style.opacity = 1;\"\n",
       "            onmouseout=\"document.getElementById('_fb_dseltosfctsdncbuvfna_ind_1').style.opacity = 0; document.getElementById('_fs_dseltosfctsdncbuvfna_ind_1').style.opacity = 0;\"\n",
       "        >I </div></div><div style='display: inline; text-align: center;'\n",
       "    ><div style='display: none; color: #999; padding-top: 0px; font-size: 12px;'>0.027</div\n",
       "        ><div id='_tp_dseltosfctsdncbuvfna_ind_2'\n",
       "            style='display: inline; background: rgba(255.0, 13.0, 87.0, 0.07771836007130124); border-radius: 3px; padding: 0px'\n",
       "            onclick=\"\n",
       "            if (this.previousSibling.style.display == 'none') {\n",
       "                this.previousSibling.style.display = 'block';\n",
       "                this.parentNode.style.display = 'inline-block';\n",
       "            } else {\n",
       "                this.previousSibling.style.display = 'none';\n",
       "                this.parentNode.style.display = 'inline';\n",
       "            }\"\n",
       "            onmouseover=\"document.getElementById('_fb_dseltosfctsdncbuvfna_ind_2').style.opacity = 1; document.getElementById('_fs_dseltosfctsdncbuvfna_ind_2').style.opacity = 1;\"\n",
       "            onmouseout=\"document.getElementById('_fb_dseltosfctsdncbuvfna_ind_2').style.opacity = 0; document.getElementById('_fs_dseltosfctsdncbuvfna_ind_2').style.opacity = 0;\"\n",
       "        >love </div></div><div style='display: inline; text-align: center;'\n",
       "    ><div style='display: none; color: #999; padding-top: 0px; font-size: 12px;'>-0.028</div\n",
       "        ><div id='_tp_dseltosfctsdncbuvfna_ind_3'\n",
       "            style='display: inline; background: rgba(30.0, 136.0, 229.0, 0.07771836007130117); border-radius: 3px; padding: 0px'\n",
       "            onclick=\"\n",
       "            if (this.previousSibling.style.display == 'none') {\n",
       "                this.previousSibling.style.display = 'block';\n",
       "                this.parentNode.style.display = 'inline-block';\n",
       "            } else {\n",
       "                this.previousSibling.style.display = 'none';\n",
       "                this.parentNode.style.display = 'inline';\n",
       "            }\"\n",
       "            onmouseover=\"document.getElementById('_fb_dseltosfctsdncbuvfna_ind_3').style.opacity = 1; document.getElementById('_fs_dseltosfctsdncbuvfna_ind_3').style.opacity = 1;\"\n",
       "            onmouseout=\"document.getElementById('_fb_dseltosfctsdncbuvfna_ind_3').style.opacity = 0; document.getElementById('_fs_dseltosfctsdncbuvfna_ind_3').style.opacity = 0;\"\n",
       "        >playing </div></div><div style='display: inline; text-align: center;'\n",
       "    ><div style='display: none; color: #999; padding-top: 0px; font-size: 12px;'>-0.003</div\n",
       "        ><div id='_tp_dseltosfctsdncbuvfna_ind_4'\n",
       "            style='display: inline; background: rgba(30.0, 136.0, 229.0, 0.006773618538324436); border-radius: 3px; padding: 0px'\n",
       "            onclick=\"\n",
       "            if (this.previousSibling.style.display == 'none') {\n",
       "                this.previousSibling.style.display = 'block';\n",
       "                this.parentNode.style.display = 'inline-block';\n",
       "            } else {\n",
       "                this.previousSibling.style.display = 'none';\n",
       "                this.parentNode.style.display = 'inline';\n",
       "            }\"\n",
       "            onmouseover=\"document.getElementById('_fb_dseltosfctsdncbuvfna_ind_4').style.opacity = 1; document.getElementById('_fs_dseltosfctsdncbuvfna_ind_4').style.opacity = 1;\"\n",
       "            onmouseout=\"document.getElementById('_fb_dseltosfctsdncbuvfna_ind_4').style.opacity = 0; document.getElementById('_fs_dseltosfctsdncbuvfna_ind_4').style.opacity = 0;\"\n",
       "        >cricket</div></div><div style='display: inline; text-align: center;'\n",
       "    ><div style='display: none; color: #999; padding-top: 0px; font-size: 12px;'>-0.013</div\n",
       "        ><div id='_tp_dseltosfctsdncbuvfna_ind_5'\n",
       "            style='display: inline; background: rgba(30.0, 136.0, 229.0, 0.03830461477520309); border-radius: 3px; padding: 0px'\n",
       "            onclick=\"\n",
       "            if (this.previousSibling.style.display == 'none') {\n",
       "                this.previousSibling.style.display = 'block';\n",
       "                this.parentNode.style.display = 'inline-block';\n",
       "            } else {\n",
       "                this.previousSibling.style.display = 'none';\n",
       "                this.parentNode.style.display = 'inline';\n",
       "            }\"\n",
       "            onmouseover=\"document.getElementById('_fb_dseltosfctsdncbuvfna_ind_5').style.opacity = 1; document.getElementById('_fs_dseltosfctsdncbuvfna_ind_5').style.opacity = 1;\"\n",
       "            onmouseout=\"document.getElementById('_fb_dseltosfctsdncbuvfna_ind_5').style.opacity = 0; document.getElementById('_fs_dseltosfctsdncbuvfna_ind_5').style.opacity = 0;\"\n",
       "        >!</div></div><div style='display: inline; text-align: center;'\n",
       "    ><div style='display: none; color: #999; padding-top: 0px; font-size: 12px;'>-0.096</div\n",
       "        ><div id='_tp_dseltosfctsdncbuvfna_ind_6'\n",
       "            style='display: inline; background: rgba(30.0, 136.0, 229.0, 0.27478708655179246); border-radius: 3px; padding: 0px'\n",
       "            onclick=\"\n",
       "            if (this.previousSibling.style.display == 'none') {\n",
       "                this.previousSibling.style.display = 'block';\n",
       "                this.parentNode.style.display = 'inline-block';\n",
       "            } else {\n",
       "                this.previousSibling.style.display = 'none';\n",
       "                this.parentNode.style.display = 'inline';\n",
       "            }\"\n",
       "            onmouseover=\"document.getElementById('_fb_dseltosfctsdncbuvfna_ind_6').style.opacity = 1; document.getElementById('_fs_dseltosfctsdncbuvfna_ind_6').style.opacity = 1;\"\n",
       "            onmouseout=\"document.getElementById('_fb_dseltosfctsdncbuvfna_ind_6').style.opacity = 0; document.getElementById('_fs_dseltosfctsdncbuvfna_ind_6').style.opacity = 0;\"\n",
       "        ></div></div></div></div><div id='_tp_iejhwkycugjposzlmgwd_output_0_zoom' style='display: none;'><svg width=\"100%\" height=\"80px\"><line x1=\"0\" y1=\"33\" x2=\"100%\" y2=\"33\" style=\"stroke:rgb(150,150,150);stroke-width:1\" /><line x1=\"50.86730241470677%\" y1=\"33\" x2=\"50.86730241470677%\" y2=\"37\" style=\"stroke:rgb(150,150,150);stroke-width:1\" /><text x=\"50.86730241470677%\" y=\"27\" font-size=\"12px\" fill=\"rgb(120,120,120)\" dominant-baseline=\"bottom\" text-anchor=\"middle\">0.18</text><line x1=\"37.66867912888421%\" y1=\"33\" x2=\"37.66867912888421%\" y2=\"37\" style=\"stroke:rgb(150,150,150);stroke-width:1\" /><text x=\"37.66867912888421%\" y=\"27\" font-size=\"12px\" fill=\"rgb(120,120,120)\" dominant-baseline=\"bottom\" text-anchor=\"middle\">0.14</text><line x1=\"24.470055843061655%\" y1=\"33\" x2=\"24.470055843061655%\" y2=\"37\" style=\"stroke:rgb(150,150,150);stroke-width:1\" /><text x=\"24.470055843061655%\" y=\"27\" font-size=\"12px\" fill=\"rgb(120,120,120)\" dominant-baseline=\"bottom\" text-anchor=\"middle\">0.1</text><line x1=\"11.271432557239104%\" y1=\"33\" x2=\"11.271432557239104%\" y2=\"37\" style=\"stroke:rgb(150,150,150);stroke-width:1\" /><text x=\"11.271432557239104%\" y=\"27\" font-size=\"12px\" fill=\"rgb(120,120,120)\" dominant-baseline=\"bottom\" text-anchor=\"middle\">0.06</text><line x1=\"64.06592570052932%\" y1=\"33\" x2=\"64.06592570052932%\" y2=\"37\" style=\"stroke:rgb(150,150,150);stroke-width:1\" /><text x=\"64.06592570052932%\" y=\"27\" font-size=\"12px\" fill=\"rgb(120,120,120)\" dominant-baseline=\"bottom\" text-anchor=\"middle\">0.22</text><line x1=\"77.26454898635188%\" y1=\"33\" x2=\"77.26454898635188%\" y2=\"37\" style=\"stroke:rgb(150,150,150);stroke-width:1\" /><text x=\"77.26454898635188%\" y=\"27\" font-size=\"12px\" fill=\"rgb(120,120,120)\" dominant-baseline=\"bottom\" text-anchor=\"middle\">0.26</text><line x1=\"90.46317227217443%\" y1=\"33\" x2=\"90.46317227217443%\" y2=\"37\" style=\"stroke:rgb(150,150,150);stroke-width:1\" /><text x=\"90.46317227217443%\" y=\"27\" font-size=\"12px\" fill=\"rgb(120,120,120)\" dominant-baseline=\"bottom\" text-anchor=\"middle\">0.3</text><line x1=\"54.61768695242842%\" y1=\"33\" x2=\"54.61768695242842%\" y2=\"37\" style=\"stroke:rgb(150,150,150);stroke-width:1\" /><text x=\"54.61768695242842%\" y=\"27\" font-size=\"13px\" style=\"stroke:#ffffff;stroke-width:8px;\" fill=\"rgb(255,255,255)\" dominant-baseline=\"bottom\" text-anchor=\"middle\">0.191366</text><text x=\"54.61768695242842%\" y=\"27\" font-size=\"12px\" fill=\"rgb(120,120,120)\" dominant-baseline=\"bottom\" text-anchor=\"middle\">0.191366</text><text x=\"54.61768695242842%\" y=\"10\" font-size=\"12px\" fill=\"rgb(120,120,120)\" dominant-baseline=\"bottom\" text-anchor=\"middle\">base value</text><line x1=\"45.382309747915755%\" y1=\"33\" x2=\"45.382309747915755%\" y2=\"37\" style=\"stroke:rgb(150,150,150);stroke-width:1\" /><text x=\"45.382309747915755%\" y=\"27\" font-size=\"13px\" style=\"stroke:#ffffff;stroke-width:8px;\" font-weight=\"bold\" fill=\"rgb(255,255,255)\" dominant-baseline=\"bottom\" text-anchor=\"middle\">0.163377</text><text x=\"45.382309747915755%\" y=\"27\" font-size=\"13px\" font-weight=\"bold\" fill=\"rgb(0,0,0)\" dominant-baseline=\"bottom\" text-anchor=\"middle\">0.163377</text><text x=\"45.382309747915755%\" y=\"10\" font-size=\"12px\" fill=\"rgb(120,120,120)\" dominant-baseline=\"bottom\" text-anchor=\"middle\">f<tspan baseline-shift=\"sub\" font-size=\"8px\">insect</tspan>(inputs)</text><rect x=\"8.333333058362014%\" width=\"37.04897668955373%\" y=\"40\" height=\"18\" style=\"fill:rgb(255.0, 0.0, 81.08083606031792); stroke-width:0; stroke:rgb(0,0,0)\" /><line x1=\"23.29175463517582%\" x2=\"45.382309747915755%\" y1=\"60\" y2=\"60\" id=\"_fb_tnlwgaygsfietzpumlsh_ind_0\" style=\"stroke:rgb(255.0, 0.0, 81.08083606031792);stroke-width:2; opacity: 0\"/><text x=\"34.33703219154579%\" y=\"71\" font-size=\"12px\" id=\"_fs_tnlwgaygsfietzpumlsh_ind_0\" fill=\"rgb(255.0, 0.0, 81.08083606031792)\" style=\"opacity: 0\" dominant-baseline=\"middle\" text-anchor=\"middle\">0.067</text><svg x=\"23.29175463517582%\" y=\"40\" height=\"20\" width=\"22.090555112739935%\">  <svg x=\"0\" y=\"0\" width=\"100%\" height=\"100%\">    <text x=\"50%\" y=\"9\" font-size=\"12px\" fill=\"rgb(255,255,255)\" dominant-baseline=\"middle\" text-anchor=\"middle\"></text>  </svg></svg><line x1=\"14.236429083067433%\" x2=\"23.29175463517582%\" y1=\"60\" y2=\"60\" id=\"_fb_tnlwgaygsfietzpumlsh_ind_2\" style=\"stroke:rgb(255.0, 0.0, 81.08083606031792);stroke-width:2; opacity: 0\"/><text x=\"18.764091859121628%\" y=\"71\" font-size=\"12px\" id=\"_fs_tnlwgaygsfietzpumlsh_ind_2\" fill=\"rgb(255.0, 0.0, 81.08083606031792)\" style=\"opacity: 0\" dominant-baseline=\"middle\" text-anchor=\"middle\">0.027</text><svg x=\"14.236429083067433%\" y=\"40\" height=\"20\" width=\"9.055325552108387%\">  <svg x=\"0\" y=\"0\" width=\"100%\" height=\"100%\">    <text x=\"50%\" y=\"9\" font-size=\"12px\" fill=\"rgb(255,255,255)\" dominant-baseline=\"middle\" text-anchor=\"middle\">love</text>  </svg></svg><line x1=\"8.333333058362014%\" x2=\"14.236429083067433%\" y1=\"60\" y2=\"60\" id=\"_fb_tnlwgaygsfietzpumlsh_ind_1\" style=\"stroke:rgb(255.0, 0.0, 81.08083606031792);stroke-width:2; opacity: 0\"/><text x=\"11.284881070714723%\" y=\"71\" font-size=\"12px\" id=\"_fs_tnlwgaygsfietzpumlsh_ind_1\" fill=\"rgb(255.0, 0.0, 81.08083606031792)\" style=\"opacity: 0\" dominant-baseline=\"middle\" text-anchor=\"middle\">0.018</text><svg x=\"8.333333058362014%\" y=\"40\" height=\"20\" width=\"5.90309602470542%\">  <svg x=\"0\" y=\"0\" width=\"100%\" height=\"100%\">    <text x=\"50%\" y=\"9\" font-size=\"12px\" fill=\"rgb(255,255,255)\" dominant-baseline=\"middle\" text-anchor=\"middle\">I</text>  </svg></svg><g transform=\"translate(0,0)\">  <svg x=\"23.29175463517582%\" y=\"40\" height=\"18\" overflow=\"visible\" width=\"30\">    <path d=\"M 0 -9 l 6 18 L 0 25\" fill=\"none\" style=\"stroke:rgb(255.0, 0.0, 81.08083606031792);stroke-width:2\" />  </svg></g><g transform=\"translate(2,0)\">  <svg x=\"23.29175463517582%\" y=\"40\" height=\"18\" overflow=\"visible\" width=\"30\">    <path d=\"M 0 -9 l 6 18 L 0 25\" fill=\"none\" style=\"stroke:rgb(255.0, 0.0, 81.08083606031792);stroke-width:2\" />  </svg></g><g transform=\"translate(4,0)\">  <svg x=\"23.29175463517582%\" y=\"40\" height=\"18\" overflow=\"visible\" width=\"30\">    <path d=\"M 0 -9 l 6 18 L 0 25\" fill=\"none\" style=\"stroke:rgb(255.0, 0.0, 81.08083606031792);stroke-width:2\" />  </svg></g><g transform=\"translate(6,0)\">  <svg x=\"23.29175463517582%\" y=\"40\" height=\"18\" overflow=\"visible\" width=\"30\">    <path d=\"M 0 -9 l 6 18 L 0 25\" fill=\"none\" style=\"stroke:rgb(255.0, 0.0, 81.08083606031792);stroke-width:2\" />  </svg></g><g transform=\"translate(-8,0)\">  <svg x=\"23.29175463517582%\" y=\"40\" height=\"18\" overflow=\"visible\" width=\"30\">    <path d=\"M 0 -9 l 6 18 L 0 25\" fill=\"none\" style=\"stroke:rgb(255.0, 0.0, 81.08083606031792);stroke-width:2\" />  </svg></g><g transform=\"translate(-6,0)\">  <svg x=\"23.29175463517582%\" y=\"40\" height=\"18\" overflow=\"visible\" width=\"30\">    <path d=\"M 0 -9 l 6 18 L 0 25\" fill=\"none\" style=\"stroke:rgb(255.0, 0.0, 81.08083606031792);stroke-width:2\" />  </svg></g><g transform=\"translate(-4,0)\">  <svg x=\"23.29175463517582%\" y=\"40\" height=\"18\" overflow=\"visible\" width=\"30\">    <path d=\"M 0 -9 l 6 18 L 0 25\" fill=\"none\" style=\"stroke:rgb(255.0, 0.0, 81.08083606031792);stroke-width:2\" />  </svg></g><g transform=\"translate(-2,0)\">  <svg x=\"23.29175463517582%\" y=\"40\" height=\"18\" overflow=\"visible\" width=\"30\">    <path d=\"M 0 -9 l 6 18 L 0 25\" fill=\"none\" style=\"stroke:rgb(255.0, 0.0, 81.08083606031792);stroke-width:2\" />  </svg></g><g transform=\"translate(0,0)\">  <svg x=\"14.236429083067433%\" y=\"40\" height=\"18\" overflow=\"visible\" width=\"30\">    <path d=\"M 0 -9 l 6 18 L 0 25\" fill=\"none\" style=\"stroke:rgb(255.0, 0.0, 81.08083606031792);stroke-width:2\" />  </svg></g><g transform=\"translate(2,0)\">  <svg x=\"14.236429083067433%\" y=\"40\" height=\"18\" overflow=\"visible\" width=\"30\">    <path d=\"M 0 -9 l 6 18 L 0 25\" fill=\"none\" style=\"stroke:rgb(255.0, 0.0, 81.08083606031792);stroke-width:2\" />  </svg></g><g transform=\"translate(4,0)\">  <svg x=\"14.236429083067433%\" y=\"40\" height=\"18\" overflow=\"visible\" width=\"30\">    <path d=\"M 0 -9 l 6 18 L 0 25\" fill=\"none\" style=\"stroke:rgb(255.0, 0.0, 81.08083606031792);stroke-width:2\" />  </svg></g><g transform=\"translate(6,0)\">  <svg x=\"14.236429083067433%\" y=\"40\" height=\"18\" overflow=\"visible\" width=\"30\">    <path d=\"M 0 -9 l 6 18 L 0 25\" fill=\"none\" style=\"stroke:rgb(255.0, 0.0, 81.08083606031792);stroke-width:2\" />  </svg></g><g transform=\"translate(-8,0)\">  <svg x=\"14.236429083067433%\" y=\"40\" height=\"18\" overflow=\"visible\" width=\"30\">    <path d=\"M 0 -9 l 6 18 L 0 25\" fill=\"none\" style=\"stroke:rgb(255.0, 0.0, 81.08083606031792);stroke-width:2\" />  </svg></g><g transform=\"translate(-6,0)\">  <svg x=\"14.236429083067433%\" y=\"40\" height=\"18\" overflow=\"visible\" width=\"30\">    <path d=\"M 0 -9 l 6 18 L 0 25\" fill=\"none\" style=\"stroke:rgb(255.0, 0.0, 81.08083606031792);stroke-width:2\" />  </svg></g><g transform=\"translate(-4,0)\">  <svg x=\"14.236429083067433%\" y=\"40\" height=\"18\" overflow=\"visible\" width=\"30\">    <path d=\"M 0 -9 l 6 18 L 0 25\" fill=\"none\" style=\"stroke:rgb(255.0, 0.0, 81.08083606031792);stroke-width:2\" />  </svg></g><g transform=\"translate(-2,0)\">  <svg x=\"14.236429083067433%\" y=\"40\" height=\"18\" overflow=\"visible\" width=\"30\">    <path d=\"M 0 -9 l 6 18 L 0 25\" fill=\"none\" style=\"stroke:rgb(255.0, 0.0, 81.08083606031792);stroke-width:2\" />  </svg></g><rect transform=\"translate(-8,0)\" x=\"45.382309747915755%\" y=\"40\" width=\"8\" height=\"18\" style=\"fill:rgb(255.0, 0.0, 81.08083606031792)\"/><g transform=\"translate(-11.5,0)\">  <svg x=\"8.333333058362014%\" y=\"40\" height=\"18\" overflow=\"visible\" width=\"30\">    <path d=\"M 10 -9 l 6 18 L 10 25 L 0 25 L 0 -9\" fill=\"#ffffff\" style=\"stroke:rgb(255,255,255);stroke-width:2\" />  </svg></g><g transform=\"translate(-1.5,0)\">  <svg x=\"45.382309747915755%\" y=\"40\" height=\"18\" overflow=\"visible\" width=\"30\">    <path d=\"M 0 -9 l 6 18 L 0 25\" fill=\"none\" style=\"stroke:rgb(255, 195, 213);stroke-width:2\" />  </svg></g><rect x=\"23.29175463517582%\" y=\"40\" height=\"20\" width=\"22.090555112739935%\"      onmouseover=\"document.getElementById('_tp_tnlwgaygsfietzpumlsh_ind_0').style.textDecoration = 'underline';document.getElementById('_fs_tnlwgaygsfietzpumlsh_ind_0').style.opacity = 1;document.getElementById('_fb_tnlwgaygsfietzpumlsh_ind_0').style.opacity = 1;\"      onmouseout=\"document.getElementById('_tp_tnlwgaygsfietzpumlsh_ind_0').style.textDecoration = 'none';document.getElementById('_fs_tnlwgaygsfietzpumlsh_ind_0').style.opacity = 0;document.getElementById('_fb_tnlwgaygsfietzpumlsh_ind_0').style.opacity = 0;\" style=\"fill:rgb(0,0,0,0)\" /><g transform=\"translate(-1.5,0)\">  <svg x=\"23.29175463517582%\" y=\"40\" height=\"18\" overflow=\"visible\" width=\"30\">    <path d=\"M 0 -9 l 6 18 L 0 25\" fill=\"none\" style=\"stroke:rgb(255, 195, 213);stroke-width:2\" />  </svg></g><rect x=\"14.236429083067433%\" y=\"40\" height=\"20\" width=\"9.055325552108387%\"      onmouseover=\"document.getElementById('_tp_tnlwgaygsfietzpumlsh_ind_2').style.textDecoration = 'underline';document.getElementById('_fs_tnlwgaygsfietzpumlsh_ind_2').style.opacity = 1;document.getElementById('_fb_tnlwgaygsfietzpumlsh_ind_2').style.opacity = 1;\"      onmouseout=\"document.getElementById('_tp_tnlwgaygsfietzpumlsh_ind_2').style.textDecoration = 'none';document.getElementById('_fs_tnlwgaygsfietzpumlsh_ind_2').style.opacity = 0;document.getElementById('_fb_tnlwgaygsfietzpumlsh_ind_2').style.opacity = 0;\" style=\"fill:rgb(0,0,0,0)\" /><rect x=\"8.333333058362014%\" y=\"40\" height=\"20\" width=\"5.90309602470542%\"      onmouseover=\"document.getElementById('_tp_tnlwgaygsfietzpumlsh_ind_1').style.textDecoration = 'underline';document.getElementById('_fs_tnlwgaygsfietzpumlsh_ind_1').style.opacity = 1;document.getElementById('_fb_tnlwgaygsfietzpumlsh_ind_1').style.opacity = 1;\"      onmouseout=\"document.getElementById('_tp_tnlwgaygsfietzpumlsh_ind_1').style.textDecoration = 'none';document.getElementById('_fs_tnlwgaygsfietzpumlsh_ind_1').style.opacity = 0;document.getElementById('_fb_tnlwgaygsfietzpumlsh_ind_1').style.opacity = 0;\" style=\"fill:rgb(0,0,0,0)\" /><rect x=\"45.382309747915755%\" width=\"46.284353894066406%\" y=\"40\" height=\"18\" style=\"fill:rgb(0.0, 138.56128015770727, 250.76166088685727); stroke-width:0; stroke:rgb(0,0,0)\" /><line x1=\"45.382309747915755%\" x2=\"76.95440440987733%\" y1=\"60\" y2=\"60\" id=\"_fb_tnlwgaygsfietzpumlsh_ind_6\" style=\"stroke:rgb(0.0, 138.56128015770727, 250.76166088685727);stroke-width:2; opacity: 0\"/><text x=\"61.16835707889654%\" y=\"71\" font-size=\"12px\" fill=\"rgb(0.0, 138.56128015770727, 250.76166088685727)\" id=\"_fs_tnlwgaygsfietzpumlsh_ind_6\" style=\"opacity: 0\" dominant-baseline=\"middle\" text-anchor=\"middle\">-0.096</text><svg x=\"45.382309747915755%\" y=\"40\" height=\"20\" width=\"31.57209466196157%\">  <svg x=\"0\" y=\"0\" width=\"100%\" height=\"100%\">    <text x=\"50%\" y=\"9\" font-size=\"12px\" fill=\"rgb(255,255,255)\" dominant-baseline=\"middle\" text-anchor=\"middle\"></text>  </svg></svg><line x1=\"76.95440440987733%\" x2=\"86.35306550975832%\" y1=\"60\" y2=\"60\" id=\"_fb_tnlwgaygsfietzpumlsh_ind_3\" style=\"stroke:rgb(0.0, 138.56128015770727, 250.76166088685727);stroke-width:2; opacity: 0\"/><text x=\"81.65373495981783%\" y=\"71\" font-size=\"12px\" fill=\"rgb(0.0, 138.56128015770727, 250.76166088685727)\" id=\"_fs_tnlwgaygsfietzpumlsh_ind_3\" style=\"opacity: 0\" dominant-baseline=\"middle\" text-anchor=\"middle\">-0.028</text><svg x=\"76.95440440987733%\" y=\"40\" height=\"20\" width=\"9.398661099880997%\">  <svg x=\"0\" y=\"0\" width=\"100%\" height=\"100%\">    <text x=\"50%\" y=\"9\" font-size=\"12px\" fill=\"rgb(255,255,255)\" dominant-baseline=\"middle\" text-anchor=\"middle\">playing</text>  </svg></svg><line x1=\"86.35306550975832%\" x2=\"90.76869532588661%\" y1=\"60\" y2=\"60\" id=\"_fb_tnlwgaygsfietzpumlsh_ind_5\" style=\"stroke:rgb(0.0, 138.56128015770727, 250.76166088685727);stroke-width:2; opacity: 0\"/><text x=\"88.56088041782246%\" y=\"71\" font-size=\"12px\" fill=\"rgb(0.0, 138.56128015770727, 250.76166088685727)\" id=\"_fs_tnlwgaygsfietzpumlsh_ind_5\" style=\"opacity: 0\" dominant-baseline=\"middle\" text-anchor=\"middle\">-0.013</text><svg x=\"86.35306550975832%\" y=\"40\" height=\"20\" width=\"4.415629816128288%\">  <svg x=\"0\" y=\"0\" width=\"100%\" height=\"100%\">    <text x=\"50%\" y=\"9\" font-size=\"12px\" fill=\"rgb(255,255,255)\" dominant-baseline=\"middle\" text-anchor=\"middle\">!</text>  </svg></svg><line x1=\"90.76869532588661%\" x2=\"91.66666364198215%\" y1=\"60\" y2=\"60\" id=\"_fb_tnlwgaygsfietzpumlsh_ind_4\" style=\"stroke:rgb(0.0, 138.56128015770727, 250.76166088685727);stroke-width:2; opacity: 0\"/><text x=\"91.21767948393438%\" y=\"71\" font-size=\"12px\" fill=\"rgb(0.0, 138.56128015770727, 250.76166088685727)\" id=\"_fs_tnlwgaygsfietzpumlsh_ind_4\" style=\"opacity: 0\" dominant-baseline=\"middle\" text-anchor=\"middle\">-0.003</text><svg x=\"90.76869532588661%\" y=\"40\" height=\"20\" width=\"0.8979683160955432%\">  <svg x=\"0\" y=\"0\" width=\"100%\" height=\"100%\">    <text x=\"50%\" y=\"9\" font-size=\"12px\" fill=\"rgb(255,255,255)\" dominant-baseline=\"middle\" text-anchor=\"middle\">cricket</text>  </svg></svg><g transform=\"translate(-8,0)\">  <svg x=\"76.95440440987733%\" y=\"40\" height=\"18\" overflow=\"visible\" width=\"30\">    <path d=\"M 8 -9 l -6 18 L 8 25\" fill=\"none\" style=\"stroke:rgb(0.0, 138.56128015770727, 250.76166088685727);stroke-width:2\" />  </svg></g><g transform=\"translate(-10,0)\">  <svg x=\"76.95440440987733%\" y=\"40\" height=\"18\" overflow=\"visible\" width=\"30\">    <path d=\"M 8 -9 l -6 18 L 8 25\" fill=\"none\" style=\"stroke:rgb(0.0, 138.56128015770727, 250.76166088685727);stroke-width:2\" />  </svg></g><g transform=\"translate(-12,0)\">  <svg x=\"76.95440440987733%\" y=\"40\" height=\"18\" overflow=\"visible\" width=\"30\">    <path d=\"M 8 -9 l -6 18 L 8 25\" fill=\"none\" style=\"stroke:rgb(0.0, 138.56128015770727, 250.76166088685727);stroke-width:2\" />  </svg></g><g transform=\"translate(-14,0)\">  <svg x=\"76.95440440987733%\" y=\"40\" height=\"18\" overflow=\"visible\" width=\"30\">    <path d=\"M 8 -9 l -6 18 L 8 25\" fill=\"none\" style=\"stroke:rgb(0.0, 138.56128015770727, 250.76166088685727);stroke-width:2\" />  </svg></g><g transform=\"translate(2,0)\">  <svg x=\"76.95440440987733%\" y=\"40\" height=\"18\" overflow=\"visible\" width=\"30\">    <path d=\"M 8 -9 l -6 18 L 8 25\" fill=\"none\" style=\"stroke:rgb(0.0, 138.56128015770727, 250.76166088685727);stroke-width:2\" />  </svg></g><g transform=\"translate(0,0)\">  <svg x=\"76.95440440987733%\" y=\"40\" height=\"18\" overflow=\"visible\" width=\"30\">    <path d=\"M 8 -9 l -6 18 L 8 25\" fill=\"none\" style=\"stroke:rgb(0.0, 138.56128015770727, 250.76166088685727);stroke-width:2\" />  </svg></g><g transform=\"translate(-2,0)\">  <svg x=\"76.95440440987733%\" y=\"40\" height=\"18\" overflow=\"visible\" width=\"30\">    <path d=\"M 8 -9 l -6 18 L 8 25\" fill=\"none\" style=\"stroke:rgb(0.0, 138.56128015770727, 250.76166088685727);stroke-width:2\" />  </svg></g><g transform=\"translate(-4,0)\">  <svg x=\"76.95440440987733%\" y=\"40\" height=\"18\" overflow=\"visible\" width=\"30\">    <path d=\"M 8 -9 l -6 18 L 8 25\" fill=\"none\" style=\"stroke:rgb(0.0, 138.56128015770727, 250.76166088685727);stroke-width:2\" />  </svg></g><g transform=\"translate(-8,0)\">  <svg x=\"86.35306550975832%\" y=\"40\" height=\"18\" overflow=\"visible\" width=\"30\">    <path d=\"M 8 -9 l -6 18 L 8 25\" fill=\"none\" style=\"stroke:rgb(0.0, 138.56128015770727, 250.76166088685727);stroke-width:2\" />  </svg></g><g transform=\"translate(-10,0)\">  <svg x=\"86.35306550975832%\" y=\"40\" height=\"18\" overflow=\"visible\" width=\"30\">    <path d=\"M 8 -9 l -6 18 L 8 25\" fill=\"none\" style=\"stroke:rgb(0.0, 138.56128015770727, 250.76166088685727);stroke-width:2\" />  </svg></g><g transform=\"translate(-12,0)\">  <svg x=\"86.35306550975832%\" y=\"40\" height=\"18\" overflow=\"visible\" width=\"30\">    <path d=\"M 8 -9 l -6 18 L 8 25\" fill=\"none\" style=\"stroke:rgb(0.0, 138.56128015770727, 250.76166088685727);stroke-width:2\" />  </svg></g><g transform=\"translate(-14,0)\">  <svg x=\"86.35306550975832%\" y=\"40\" height=\"18\" overflow=\"visible\" width=\"30\">    <path d=\"M 8 -9 l -6 18 L 8 25\" fill=\"none\" style=\"stroke:rgb(0.0, 138.56128015770727, 250.76166088685727);stroke-width:2\" />  </svg></g><g transform=\"translate(2,0)\">  <svg x=\"86.35306550975832%\" y=\"40\" height=\"18\" overflow=\"visible\" width=\"30\">    <path d=\"M 8 -9 l -6 18 L 8 25\" fill=\"none\" style=\"stroke:rgb(0.0, 138.56128015770727, 250.76166088685727);stroke-width:2\" />  </svg></g><g transform=\"translate(0,0)\">  <svg x=\"86.35306550975832%\" y=\"40\" height=\"18\" overflow=\"visible\" width=\"30\">    <path d=\"M 8 -9 l -6 18 L 8 25\" fill=\"none\" style=\"stroke:rgb(0.0, 138.56128015770727, 250.76166088685727);stroke-width:2\" />  </svg></g><g transform=\"translate(-2,0)\">  <svg x=\"86.35306550975832%\" y=\"40\" height=\"18\" overflow=\"visible\" width=\"30\">    <path d=\"M 8 -9 l -6 18 L 8 25\" fill=\"none\" style=\"stroke:rgb(0.0, 138.56128015770727, 250.76166088685727);stroke-width:2\" />  </svg></g><g transform=\"translate(-4,0)\">  <svg x=\"86.35306550975832%\" y=\"40\" height=\"18\" overflow=\"visible\" width=\"30\">    <path d=\"M 8 -9 l -6 18 L 8 25\" fill=\"none\" style=\"stroke:rgb(0.0, 138.56128015770727, 250.76166088685727);stroke-width:2\" />  </svg></g><g transform=\"translate(-8,0)\">  <svg x=\"90.76869532588661%\" y=\"40\" height=\"18\" overflow=\"visible\" width=\"30\">    <path d=\"M 8 -9 l -6 18 L 8 25\" fill=\"none\" style=\"stroke:rgb(0.0, 138.56128015770727, 250.76166088685727);stroke-width:2\" />  </svg></g><g transform=\"translate(-10,0)\">  <svg x=\"90.76869532588661%\" y=\"40\" height=\"18\" overflow=\"visible\" width=\"30\">    <path d=\"M 8 -9 l -6 18 L 8 25\" fill=\"none\" style=\"stroke:rgb(0.0, 138.56128015770727, 250.76166088685727);stroke-width:2\" />  </svg></g><g transform=\"translate(-12,0)\">  <svg x=\"90.76869532588661%\" y=\"40\" height=\"18\" overflow=\"visible\" width=\"30\">    <path d=\"M 8 -9 l -6 18 L 8 25\" fill=\"none\" style=\"stroke:rgb(0.0, 138.56128015770727, 250.76166088685727);stroke-width:2\" />  </svg></g><g transform=\"translate(-14,0)\">  <svg x=\"90.76869532588661%\" y=\"40\" height=\"18\" overflow=\"visible\" width=\"30\">    <path d=\"M 8 -9 l -6 18 L 8 25\" fill=\"none\" style=\"stroke:rgb(0.0, 138.56128015770727, 250.76166088685727);stroke-width:2\" />  </svg></g><g transform=\"translate(2,0)\">  <svg x=\"90.76869532588661%\" y=\"40\" height=\"18\" overflow=\"visible\" width=\"30\">    <path d=\"M 8 -9 l -6 18 L 8 25\" fill=\"none\" style=\"stroke:rgb(0.0, 138.56128015770727, 250.76166088685727);stroke-width:2\" />  </svg></g><g transform=\"translate(0,0)\">  <svg x=\"90.76869532588661%\" y=\"40\" height=\"18\" overflow=\"visible\" width=\"30\">    <path d=\"M 8 -9 l -6 18 L 8 25\" fill=\"none\" style=\"stroke:rgb(0.0, 138.56128015770727, 250.76166088685727);stroke-width:2\" />  </svg></g><g transform=\"translate(-2,0)\">  <svg x=\"90.76869532588661%\" y=\"40\" height=\"18\" overflow=\"visible\" width=\"30\">    <path d=\"M 8 -9 l -6 18 L 8 25\" fill=\"none\" style=\"stroke:rgb(0.0, 138.56128015770727, 250.76166088685727);stroke-width:2\" />  </svg></g><g transform=\"translate(-4,0)\">  <svg x=\"90.76869532588661%\" y=\"40\" height=\"18\" overflow=\"visible\" width=\"30\">    <path d=\"M 8 -9 l -6 18 L 8 25\" fill=\"none\" style=\"stroke:rgb(0.0, 138.56128015770727, 250.76166088685727);stroke-width:2\" />  </svg></g><rect transform=\"translate(0,0)\" x=\"45.382309747915755%\" y=\"40\" width=\"8\" height=\"18\" style=\"fill:rgb(0.0, 138.56128015770727, 250.76166088685727)\"/><g transform=\"translate(-6.0,0)\">  <svg x=\"91.66666364198215%\" y=\"40\" height=\"18\" overflow=\"visible\" width=\"30\">    <path d=\"M 8 -9 l -6 18 L 8 25 L 20 25 L 20 -9\" fill=\"#ffffff\" style=\"stroke:rgb(255,255,255);stroke-width:2\" />  </svg></g><g transform=\"translate(-6.0,0)\">  <svg x=\"76.95440440987733%\" y=\"40\" height=\"18\" overflow=\"visible\" width=\"30\">    <path d=\"M 8 -9 l -6 18 L 8 25\" fill=\"none\" style=\"stroke:rgb(208, 230, 250);stroke-width:2\" />  </svg></g><rect x=\"45.382309747915755%\" y=\"40\" height=\"20\" width=\"31.57209466196157%\"      onmouseover=\"document.getElementById('_tp_tnlwgaygsfietzpumlsh_ind_6').style.textDecoration = 'underline';document.getElementById('_fs_tnlwgaygsfietzpumlsh_ind_6').style.opacity = 1;document.getElementById('_fb_tnlwgaygsfietzpumlsh_ind_6').style.opacity = 1;\"      onmouseout=\"document.getElementById('_tp_tnlwgaygsfietzpumlsh_ind_6').style.textDecoration = 'none';document.getElementById('_fs_tnlwgaygsfietzpumlsh_ind_6').style.opacity = 0;document.getElementById('_fb_tnlwgaygsfietzpumlsh_ind_6').style.opacity = 0;\" style=\"fill:rgb(0,0,0,0)\" /><g transform=\"translate(-6.0,0)\">  <svg x=\"86.35306550975832%\" y=\"40\" height=\"18\" overflow=\"visible\" width=\"30\">    <path d=\"M 8 -9 l -6 18 L 8 25\" fill=\"none\" style=\"stroke:rgb(208, 230, 250);stroke-width:2\" />  </svg></g><rect x=\"76.95440440987733%\" y=\"40\" height=\"20\" width=\"9.398661099880997%\"      onmouseover=\"document.getElementById('_tp_tnlwgaygsfietzpumlsh_ind_3').style.textDecoration = 'underline';document.getElementById('_fs_tnlwgaygsfietzpumlsh_ind_3').style.opacity = 1;document.getElementById('_fb_tnlwgaygsfietzpumlsh_ind_3').style.opacity = 1;\"      onmouseout=\"document.getElementById('_tp_tnlwgaygsfietzpumlsh_ind_3').style.textDecoration = 'none';document.getElementById('_fs_tnlwgaygsfietzpumlsh_ind_3').style.opacity = 0;document.getElementById('_fb_tnlwgaygsfietzpumlsh_ind_3').style.opacity = 0;\" style=\"fill:rgb(0,0,0,0)\" /><g transform=\"translate(-6.0,0)\">  <svg x=\"90.76869532588661%\" y=\"40\" height=\"18\" overflow=\"visible\" width=\"30\">    <path d=\"M 8 -9 l -6 18 L 8 25\" fill=\"none\" style=\"stroke:rgb(208, 230, 250);stroke-width:2\" />  </svg></g><rect x=\"86.35306550975832%\" y=\"40\" height=\"20\" width=\"4.415629816128288%\"      onmouseover=\"document.getElementById('_tp_tnlwgaygsfietzpumlsh_ind_5').style.textDecoration = 'underline';document.getElementById('_fs_tnlwgaygsfietzpumlsh_ind_5').style.opacity = 1;document.getElementById('_fb_tnlwgaygsfietzpumlsh_ind_5').style.opacity = 1;\"      onmouseout=\"document.getElementById('_tp_tnlwgaygsfietzpumlsh_ind_5').style.textDecoration = 'none';document.getElementById('_fs_tnlwgaygsfietzpumlsh_ind_5').style.opacity = 0;document.getElementById('_fb_tnlwgaygsfietzpumlsh_ind_5').style.opacity = 0;\" style=\"fill:rgb(0,0,0,0)\" /><rect x=\"90.76869532588661%\" y=\"40\" height=\"20\" width=\"0.8979683160955432%\"      onmouseover=\"document.getElementById('_tp_tnlwgaygsfietzpumlsh_ind_4').style.textDecoration = 'underline';document.getElementById('_fs_tnlwgaygsfietzpumlsh_ind_4').style.opacity = 1;document.getElementById('_fb_tnlwgaygsfietzpumlsh_ind_4').style.opacity = 1;\"      onmouseout=\"document.getElementById('_tp_tnlwgaygsfietzpumlsh_ind_4').style.textDecoration = 'none';document.getElementById('_fs_tnlwgaygsfietzpumlsh_ind_4').style.opacity = 0;document.getElementById('_fb_tnlwgaygsfietzpumlsh_ind_4').style.opacity = 0;\" style=\"fill:rgb(0,0,0,0)\" /></svg><div align='center'><div style=\"color: rgb(120,120,120); font-size: 12px; margin-top: -15px;\">inputs</div><div style='display: inline; text-align: center;'\n",
       "    ><div style='display: none; color: #999; padding-top: 0px; font-size: 12px;'>0.067</div\n",
       "        ><div id='_tp_tnlwgaygsfietzpumlsh_ind_0'\n",
       "            style='display: inline; background: rgba(255.0, 13.0, 87.0, 0.7004555357496535); border-radius: 3px; padding: 0px'\n",
       "            onclick=\"\n",
       "            if (this.previousSibling.style.display == 'none') {\n",
       "                this.previousSibling.style.display = 'block';\n",
       "                this.parentNode.style.display = 'inline-block';\n",
       "            } else {\n",
       "                this.previousSibling.style.display = 'none';\n",
       "                this.parentNode.style.display = 'inline';\n",
       "            }\"\n",
       "            onmouseover=\"document.getElementById('_fb_tnlwgaygsfietzpumlsh_ind_0').style.opacity = 1; document.getElementById('_fs_tnlwgaygsfietzpumlsh_ind_0').style.opacity = 1;\"\n",
       "            onmouseout=\"document.getElementById('_fb_tnlwgaygsfietzpumlsh_ind_0').style.opacity = 0; document.getElementById('_fs_tnlwgaygsfietzpumlsh_ind_0').style.opacity = 0;\"\n",
       "        ></div></div><div style='display: inline; text-align: center;'\n",
       "    ><div style='display: none; color: #999; padding-top: 0px; font-size: 12px;'>0.018</div\n",
       "        ><div id='_tp_tnlwgaygsfietzpumlsh_ind_1'\n",
       "            style='display: inline; background: rgba(255.0, 13.0, 87.0, 0.18019409784115661); border-radius: 3px; padding: 0px'\n",
       "            onclick=\"\n",
       "            if (this.previousSibling.style.display == 'none') {\n",
       "                this.previousSibling.style.display = 'block';\n",
       "                this.parentNode.style.display = 'inline-block';\n",
       "            } else {\n",
       "                this.previousSibling.style.display = 'none';\n",
       "                this.parentNode.style.display = 'inline';\n",
       "            }\"\n",
       "            onmouseover=\"document.getElementById('_fb_tnlwgaygsfietzpumlsh_ind_1').style.opacity = 1; document.getElementById('_fs_tnlwgaygsfietzpumlsh_ind_1').style.opacity = 1;\"\n",
       "            onmouseout=\"document.getElementById('_fb_tnlwgaygsfietzpumlsh_ind_1').style.opacity = 0; document.getElementById('_fs_tnlwgaygsfietzpumlsh_ind_1').style.opacity = 0;\"\n",
       "        >I </div></div><div style='display: inline; text-align: center;'\n",
       "    ><div style='display: none; color: #999; padding-top: 0px; font-size: 12px;'>0.027</div\n",
       "        ><div id='_tp_tnlwgaygsfietzpumlsh_ind_2'\n",
       "            style='display: inline; background: rgba(255.0, 13.0, 87.0, 0.2826698356110118); border-radius: 3px; padding: 0px'\n",
       "            onclick=\"\n",
       "            if (this.previousSibling.style.display == 'none') {\n",
       "                this.previousSibling.style.display = 'block';\n",
       "                this.parentNode.style.display = 'inline-block';\n",
       "            } else {\n",
       "                this.previousSibling.style.display = 'none';\n",
       "                this.parentNode.style.display = 'inline';\n",
       "            }\"\n",
       "            onmouseover=\"document.getElementById('_fb_tnlwgaygsfietzpumlsh_ind_2').style.opacity = 1; document.getElementById('_fs_tnlwgaygsfietzpumlsh_ind_2').style.opacity = 1;\"\n",
       "            onmouseout=\"document.getElementById('_fb_tnlwgaygsfietzpumlsh_ind_2').style.opacity = 0; document.getElementById('_fs_tnlwgaygsfietzpumlsh_ind_2').style.opacity = 0;\"\n",
       "        >love </div></div><div style='display: inline; text-align: center;'\n",
       "    ><div style='display: none; color: #999; padding-top: 0px; font-size: 12px;'>-0.028</div\n",
       "        ><div id='_tp_tnlwgaygsfietzpumlsh_ind_3'\n",
       "            style='display: inline; background: rgba(30.0, 136.0, 229.0, 0.2984353337294513); border-radius: 3px; padding: 0px'\n",
       "            onclick=\"\n",
       "            if (this.previousSibling.style.display == 'none') {\n",
       "                this.previousSibling.style.display = 'block';\n",
       "                this.parentNode.style.display = 'inline-block';\n",
       "            } else {\n",
       "                this.previousSibling.style.display = 'none';\n",
       "                this.parentNode.style.display = 'inline';\n",
       "            }\"\n",
       "            onmouseover=\"document.getElementById('_fb_tnlwgaygsfietzpumlsh_ind_3').style.opacity = 1; document.getElementById('_fs_tnlwgaygsfietzpumlsh_ind_3').style.opacity = 1;\"\n",
       "            onmouseout=\"document.getElementById('_fb_tnlwgaygsfietzpumlsh_ind_3').style.opacity = 0; document.getElementById('_fs_tnlwgaygsfietzpumlsh_ind_3').style.opacity = 0;\"\n",
       "        >playing </div></div><div style='display: inline; text-align: center;'\n",
       "    ><div style='display: none; color: #999; padding-top: 0px; font-size: 12px;'>-0.003</div\n",
       "        ><div id='_tp_tnlwgaygsfietzpumlsh_ind_4'\n",
       "            style='display: inline; background: rgba(30.0, 136.0, 229.0, 0.022539116656763607); border-radius: 3px; padding: 0px'\n",
       "            onclick=\"\n",
       "            if (this.previousSibling.style.display == 'none') {\n",
       "                this.previousSibling.style.display = 'block';\n",
       "                this.parentNode.style.display = 'inline-block';\n",
       "            } else {\n",
       "                this.previousSibling.style.display = 'none';\n",
       "                this.parentNode.style.display = 'inline';\n",
       "            }\"\n",
       "            onmouseover=\"document.getElementById('_fb_tnlwgaygsfietzpumlsh_ind_4').style.opacity = 1; document.getElementById('_fs_tnlwgaygsfietzpumlsh_ind_4').style.opacity = 1;\"\n",
       "            onmouseout=\"document.getElementById('_fb_tnlwgaygsfietzpumlsh_ind_4').style.opacity = 0; document.getElementById('_fs_tnlwgaygsfietzpumlsh_ind_4').style.opacity = 0;\"\n",
       "        >cricket</div></div><div style='display: inline; text-align: center;'\n",
       "    ><div style='display: none; color: #999; padding-top: 0px; font-size: 12px;'>-0.013</div\n",
       "        ><div id='_tp_tnlwgaygsfietzpumlsh_ind_5'\n",
       "            style='display: inline; background: rgba(30.0, 136.0, 229.0, 0.1328976034858387); border-radius: 3px; padding: 0px'\n",
       "            onclick=\"\n",
       "            if (this.previousSibling.style.display == 'none') {\n",
       "                this.previousSibling.style.display = 'block';\n",
       "                this.parentNode.style.display = 'inline-block';\n",
       "            } else {\n",
       "                this.previousSibling.style.display = 'none';\n",
       "                this.parentNode.style.display = 'inline';\n",
       "            }\"\n",
       "            onmouseover=\"document.getElementById('_fb_tnlwgaygsfietzpumlsh_ind_5').style.opacity = 1; document.getElementById('_fs_tnlwgaygsfietzpumlsh_ind_5').style.opacity = 1;\"\n",
       "            onmouseout=\"document.getElementById('_fb_tnlwgaygsfietzpumlsh_ind_5').style.opacity = 0; document.getElementById('_fs_tnlwgaygsfietzpumlsh_ind_5').style.opacity = 0;\"\n",
       "        >!</div></div><div style='display: inline; text-align: center;'\n",
       "    ><div style='display: none; color: #999; padding-top: 0px; font-size: 12px;'>-0.096</div\n",
       "        ><div id='_tp_tnlwgaygsfietzpumlsh_ind_6'\n",
       "            style='display: inline; background: rgba(30.0, 136.0, 229.0, 1.0); border-radius: 3px; padding: 0px'\n",
       "            onclick=\"\n",
       "            if (this.previousSibling.style.display == 'none') {\n",
       "                this.previousSibling.style.display = 'block';\n",
       "                this.parentNode.style.display = 'inline-block';\n",
       "            } else {\n",
       "                this.previousSibling.style.display = 'none';\n",
       "                this.parentNode.style.display = 'inline';\n",
       "            }\"\n",
       "            onmouseover=\"document.getElementById('_fb_tnlwgaygsfietzpumlsh_ind_6').style.opacity = 1; document.getElementById('_fs_tnlwgaygsfietzpumlsh_ind_6').style.opacity = 1;\"\n",
       "            onmouseout=\"document.getElementById('_fb_tnlwgaygsfietzpumlsh_ind_6').style.opacity = 0; document.getElementById('_fs_tnlwgaygsfietzpumlsh_ind_6').style.opacity = 0;\"\n",
       "        ></div></div></div></div><div id='_tp_iejhwkycugjposzlmgwd_output_1' style='display: none';><svg width=\"100%\" height=\"80px\"><line x1=\"0\" y1=\"33\" x2=\"100%\" y2=\"33\" style=\"stroke:rgb(150,150,150);stroke-width:1\" /><line x1=\"52.0891739055344%\" y1=\"33\" x2=\"52.0891739055344%\" y2=\"37\" style=\"stroke:rgb(150,150,150);stroke-width:1\" /><text x=\"52.0891739055344%\" y=\"27\" font-size=\"12px\" fill=\"rgb(120,120,120)\" dominant-baseline=\"bottom\" text-anchor=\"middle\">0.4</text><line x1=\"35.58968482849444%\" y1=\"33\" x2=\"35.58968482849444%\" y2=\"37\" style=\"stroke:rgb(150,150,150);stroke-width:1\" /><text x=\"35.58968482849444%\" y=\"27\" font-size=\"12px\" fill=\"rgb(120,120,120)\" dominant-baseline=\"bottom\" text-anchor=\"middle\">0.2</text><line x1=\"19.090195751454495%\" y1=\"33\" x2=\"19.090195751454495%\" y2=\"37\" style=\"stroke:rgb(150,150,150);stroke-width:1\" /><text x=\"19.090195751454495%\" y=\"27\" font-size=\"12px\" fill=\"rgb(120,120,120)\" dominant-baseline=\"bottom\" text-anchor=\"middle\">0</text><line x1=\"68.58866298257436%\" y1=\"33\" x2=\"68.58866298257436%\" y2=\"37\" style=\"stroke:rgb(150,150,150);stroke-width:1\" /><text x=\"68.58866298257436%\" y=\"27\" font-size=\"12px\" fill=\"rgb(120,120,120)\" dominant-baseline=\"bottom\" text-anchor=\"middle\">0.6</text><line x1=\"85.08815205961432%\" y1=\"33\" x2=\"85.08815205961432%\" y2=\"37\" style=\"stroke:rgb(150,150,150);stroke-width:1\" /><text x=\"85.08815205961432%\" y=\"27\" font-size=\"12px\" fill=\"rgb(120,120,120)\" dominant-baseline=\"bottom\" text-anchor=\"middle\">0.8</text><line x1=\"29.52673442405759%\" y1=\"33\" x2=\"29.52673442405759%\" y2=\"37\" style=\"stroke:rgb(150,150,150);stroke-width:1\" /><text x=\"29.52673442405759%\" y=\"27\" font-size=\"13px\" style=\"stroke:#ffffff;stroke-width:8px;\" fill=\"rgb(255,255,255)\" dominant-baseline=\"bottom\" text-anchor=\"middle\">0.126507</text><text x=\"29.52673442405759%\" y=\"27\" font-size=\"12px\" fill=\"rgb(120,120,120)\" dominant-baseline=\"bottom\" text-anchor=\"middle\">0.126507</text><text x=\"29.52673442405759%\" y=\"10\" font-size=\"12px\" fill=\"rgb(120,120,120)\" dominant-baseline=\"bottom\" text-anchor=\"middle\">base value</text><line x1=\"87.90068128533585%\" y1=\"33\" x2=\"87.90068128533585%\" y2=\"37\" style=\"stroke:rgb(150,150,150);stroke-width:1\" /><text x=\"87.90068128533585%\" y=\"27\" font-size=\"13px\" style=\"stroke:#ffffff;stroke-width:8px;\" font-weight=\"bold\" fill=\"rgb(255,255,255)\" dominant-baseline=\"bottom\" text-anchor=\"middle\">0.834092</text><text x=\"87.90068128533585%\" y=\"27\" font-size=\"13px\" font-weight=\"bold\" fill=\"rgb(0,0,0)\" dominant-baseline=\"bottom\" text-anchor=\"middle\">0.834092</text><text x=\"87.90068128533585%\" y=\"10\" font-size=\"12px\" fill=\"rgb(120,120,120)\" dominant-baseline=\"bottom\" text-anchor=\"middle\">f<tspan baseline-shift=\"sub\" font-size=\"8px\">sports</tspan>(inputs)</text><rect x=\"24.308465087756044%\" width=\"63.592216197579816%\" y=\"40\" height=\"18\" style=\"fill:rgb(255.0, 0.0, 81.08083606031792); stroke-width:0; stroke:rgb(0,0,0)\" /><line x1=\"66.14342658217758%\" x2=\"87.90068128533585%\" y1=\"60\" y2=\"60\" id=\"_fb_xebdgalppqfobvyfdwhu_ind_0\" style=\"stroke:rgb(255.0, 0.0, 81.08083606031792);stroke-width:2; opacity: 0\"/><text x=\"77.02205393375672%\" y=\"71\" font-size=\"12px\" id=\"_fs_xebdgalppqfobvyfdwhu_ind_0\" fill=\"rgb(255.0, 0.0, 81.08083606031792)\" style=\"opacity: 0\" dominant-baseline=\"middle\" text-anchor=\"middle\">0.264</text><svg x=\"66.14342658217758%\" y=\"40\" height=\"20\" width=\"21.757254703158267%\">  <svg x=\"0\" y=\"0\" width=\"100%\" height=\"100%\">    <text x=\"50%\" y=\"9\" font-size=\"12px\" fill=\"rgb(255,255,255)\" dominant-baseline=\"middle\" text-anchor=\"middle\"></text>  </svg></svg><line x1=\"51.016671090049066%\" x2=\"66.14342658217758%\" y1=\"60\" y2=\"60\" id=\"_fb_xebdgalppqfobvyfdwhu_ind_5\" style=\"stroke:rgb(255.0, 0.0, 81.08083606031792);stroke-width:2; opacity: 0\"/><text x=\"58.58004883611332%\" y=\"71\" font-size=\"12px\" id=\"_fs_xebdgalppqfobvyfdwhu_ind_5\" fill=\"rgb(255.0, 0.0, 81.08083606031792)\" style=\"opacity: 0\" dominant-baseline=\"middle\" text-anchor=\"middle\">0.183</text><svg x=\"51.016671090049066%\" y=\"40\" height=\"20\" width=\"15.126755492128517%\">  <svg x=\"0\" y=\"0\" width=\"100%\" height=\"100%\">    <text x=\"50%\" y=\"9\" font-size=\"12px\" fill=\"rgb(255,255,255)\" dominant-baseline=\"middle\" text-anchor=\"middle\">!</text>  </svg></svg><line x1=\"37.832407977399676%\" x2=\"51.016671090049066%\" y1=\"60\" y2=\"60\" id=\"_fb_xebdgalppqfobvyfdwhu_ind_2\" style=\"stroke:rgb(255.0, 0.0, 81.08083606031792);stroke-width:2; opacity: 0\"/><text x=\"44.42453953372437%\" y=\"71\" font-size=\"12px\" id=\"_fs_xebdgalppqfobvyfdwhu_ind_2\" fill=\"rgb(255.0, 0.0, 81.08083606031792)\" style=\"opacity: 0\" dominant-baseline=\"middle\" text-anchor=\"middle\">0.16</text><svg x=\"37.832407977399676%\" y=\"40\" height=\"20\" width=\"13.18426311264939%\">  <svg x=\"0\" y=\"0\" width=\"100%\" height=\"100%\">    <text x=\"50%\" y=\"9\" font-size=\"12px\" fill=\"rgb(255,255,255)\" dominant-baseline=\"middle\" text-anchor=\"middle\">love</text>  </svg></svg><line x1=\"30.559013091984514%\" x2=\"37.832407977399676%\" y1=\"60\" y2=\"60\" id=\"_fb_xebdgalppqfobvyfdwhu_ind_1\" style=\"stroke:rgb(255.0, 0.0, 81.08083606031792);stroke-width:2; opacity: 0\"/><text x=\"34.1957105346921%\" y=\"71\" font-size=\"12px\" id=\"_fs_xebdgalppqfobvyfdwhu_ind_1\" fill=\"rgb(255.0, 0.0, 81.08083606031792)\" style=\"opacity: 0\" dominant-baseline=\"middle\" text-anchor=\"middle\">0.088</text><svg x=\"30.559013091984514%\" y=\"40\" height=\"20\" width=\"7.273394885415161%\">  <svg x=\"0\" y=\"0\" width=\"100%\" height=\"100%\">    <text x=\"50%\" y=\"9\" font-size=\"12px\" fill=\"rgb(255,255,255)\" dominant-baseline=\"middle\" text-anchor=\"middle\">I</text>  </svg></svg><line x1=\"25.68396778053136%\" x2=\"30.559013091984514%\" y1=\"60\" y2=\"60\" id=\"_fb_xebdgalppqfobvyfdwhu_ind_4\" style=\"stroke:rgb(255.0, 0.0, 81.08083606031792);stroke-width:2; opacity: 0\"/><text x=\"28.121490436257936%\" y=\"71\" font-size=\"12px\" id=\"_fs_xebdgalppqfobvyfdwhu_ind_4\" fill=\"rgb(255.0, 0.0, 81.08083606031792)\" style=\"opacity: 0\" dominant-baseline=\"middle\" text-anchor=\"middle\">0.059</text><svg x=\"25.68396778053136%\" y=\"40\" height=\"20\" width=\"4.875045311453153%\">  <svg x=\"0\" y=\"0\" width=\"100%\" height=\"100%\">    <text x=\"50%\" y=\"9\" font-size=\"12px\" fill=\"rgb(255,255,255)\" dominant-baseline=\"middle\" text-anchor=\"middle\">cricket</text>  </svg></svg><line x1=\"24.308465087756044%\" x2=\"25.68396778053136%\" y1=\"60\" y2=\"60\" id=\"_fb_xebdgalppqfobvyfdwhu_ind_3\" style=\"stroke:rgb(255.0, 0.0, 81.08083606031792);stroke-width:2; opacity: 0\"/><text x=\"24.996216434143705%\" y=\"71\" font-size=\"12px\" id=\"_fs_xebdgalppqfobvyfdwhu_ind_3\" fill=\"rgb(255.0, 0.0, 81.08083606031792)\" style=\"opacity: 0\" dominant-baseline=\"middle\" text-anchor=\"middle\">0.017</text><svg x=\"24.308465087756044%\" y=\"40\" height=\"20\" width=\"1.3755026927753171%\">  <svg x=\"0\" y=\"0\" width=\"100%\" height=\"100%\">    <text x=\"50%\" y=\"9\" font-size=\"12px\" fill=\"rgb(255,255,255)\" dominant-baseline=\"middle\" text-anchor=\"middle\">playing</text>  </svg></svg><g transform=\"translate(0,0)\">  <svg x=\"66.14342658217758%\" y=\"40\" height=\"18\" overflow=\"visible\" width=\"30\">    <path d=\"M 0 -9 l 6 18 L 0 25\" fill=\"none\" style=\"stroke:rgb(255.0, 0.0, 81.08083606031792);stroke-width:2\" />  </svg></g><g transform=\"translate(2,0)\">  <svg x=\"66.14342658217758%\" y=\"40\" height=\"18\" overflow=\"visible\" width=\"30\">    <path d=\"M 0 -9 l 6 18 L 0 25\" fill=\"none\" style=\"stroke:rgb(255.0, 0.0, 81.08083606031792);stroke-width:2\" />  </svg></g><g transform=\"translate(4,0)\">  <svg x=\"66.14342658217758%\" y=\"40\" height=\"18\" overflow=\"visible\" width=\"30\">    <path d=\"M 0 -9 l 6 18 L 0 25\" fill=\"none\" style=\"stroke:rgb(255.0, 0.0, 81.08083606031792);stroke-width:2\" />  </svg></g><g transform=\"translate(6,0)\">  <svg x=\"66.14342658217758%\" y=\"40\" height=\"18\" overflow=\"visible\" width=\"30\">    <path d=\"M 0 -9 l 6 18 L 0 25\" fill=\"none\" style=\"stroke:rgb(255.0, 0.0, 81.08083606031792);stroke-width:2\" />  </svg></g><g transform=\"translate(-8,0)\">  <svg x=\"66.14342658217758%\" y=\"40\" height=\"18\" overflow=\"visible\" width=\"30\">    <path d=\"M 0 -9 l 6 18 L 0 25\" fill=\"none\" style=\"stroke:rgb(255.0, 0.0, 81.08083606031792);stroke-width:2\" />  </svg></g><g transform=\"translate(-6,0)\">  <svg x=\"66.14342658217758%\" y=\"40\" height=\"18\" overflow=\"visible\" width=\"30\">    <path d=\"M 0 -9 l 6 18 L 0 25\" fill=\"none\" style=\"stroke:rgb(255.0, 0.0, 81.08083606031792);stroke-width:2\" />  </svg></g><g transform=\"translate(-4,0)\">  <svg x=\"66.14342658217758%\" y=\"40\" height=\"18\" overflow=\"visible\" width=\"30\">    <path d=\"M 0 -9 l 6 18 L 0 25\" fill=\"none\" style=\"stroke:rgb(255.0, 0.0, 81.08083606031792);stroke-width:2\" />  </svg></g><g transform=\"translate(-2,0)\">  <svg x=\"66.14342658217758%\" y=\"40\" height=\"18\" overflow=\"visible\" width=\"30\">    <path d=\"M 0 -9 l 6 18 L 0 25\" fill=\"none\" style=\"stroke:rgb(255.0, 0.0, 81.08083606031792);stroke-width:2\" />  </svg></g><g transform=\"translate(0,0)\">  <svg x=\"51.016671090049066%\" y=\"40\" height=\"18\" overflow=\"visible\" width=\"30\">    <path d=\"M 0 -9 l 6 18 L 0 25\" fill=\"none\" style=\"stroke:rgb(255.0, 0.0, 81.08083606031792);stroke-width:2\" />  </svg></g><g transform=\"translate(2,0)\">  <svg x=\"51.016671090049066%\" y=\"40\" height=\"18\" overflow=\"visible\" width=\"30\">    <path d=\"M 0 -9 l 6 18 L 0 25\" fill=\"none\" style=\"stroke:rgb(255.0, 0.0, 81.08083606031792);stroke-width:2\" />  </svg></g><g transform=\"translate(4,0)\">  <svg x=\"51.016671090049066%\" y=\"40\" height=\"18\" overflow=\"visible\" width=\"30\">    <path d=\"M 0 -9 l 6 18 L 0 25\" fill=\"none\" style=\"stroke:rgb(255.0, 0.0, 81.08083606031792);stroke-width:2\" />  </svg></g><g transform=\"translate(6,0)\">  <svg x=\"51.016671090049066%\" y=\"40\" height=\"18\" overflow=\"visible\" width=\"30\">    <path d=\"M 0 -9 l 6 18 L 0 25\" fill=\"none\" style=\"stroke:rgb(255.0, 0.0, 81.08083606031792);stroke-width:2\" />  </svg></g><g transform=\"translate(-8,0)\">  <svg x=\"51.016671090049066%\" y=\"40\" height=\"18\" overflow=\"visible\" width=\"30\">    <path d=\"M 0 -9 l 6 18 L 0 25\" fill=\"none\" style=\"stroke:rgb(255.0, 0.0, 81.08083606031792);stroke-width:2\" />  </svg></g><g transform=\"translate(-6,0)\">  <svg x=\"51.016671090049066%\" y=\"40\" height=\"18\" overflow=\"visible\" width=\"30\">    <path d=\"M 0 -9 l 6 18 L 0 25\" fill=\"none\" style=\"stroke:rgb(255.0, 0.0, 81.08083606031792);stroke-width:2\" />  </svg></g><g transform=\"translate(-4,0)\">  <svg x=\"51.016671090049066%\" y=\"40\" height=\"18\" overflow=\"visible\" width=\"30\">    <path d=\"M 0 -9 l 6 18 L 0 25\" fill=\"none\" style=\"stroke:rgb(255.0, 0.0, 81.08083606031792);stroke-width:2\" />  </svg></g><g transform=\"translate(-2,0)\">  <svg x=\"51.016671090049066%\" y=\"40\" height=\"18\" overflow=\"visible\" width=\"30\">    <path d=\"M 0 -9 l 6 18 L 0 25\" fill=\"none\" style=\"stroke:rgb(255.0, 0.0, 81.08083606031792);stroke-width:2\" />  </svg></g><g transform=\"translate(0,0)\">  <svg x=\"37.832407977399676%\" y=\"40\" height=\"18\" overflow=\"visible\" width=\"30\">    <path d=\"M 0 -9 l 6 18 L 0 25\" fill=\"none\" style=\"stroke:rgb(255.0, 0.0, 81.08083606031792);stroke-width:2\" />  </svg></g><g transform=\"translate(2,0)\">  <svg x=\"37.832407977399676%\" y=\"40\" height=\"18\" overflow=\"visible\" width=\"30\">    <path d=\"M 0 -9 l 6 18 L 0 25\" fill=\"none\" style=\"stroke:rgb(255.0, 0.0, 81.08083606031792);stroke-width:2\" />  </svg></g><g transform=\"translate(4,0)\">  <svg x=\"37.832407977399676%\" y=\"40\" height=\"18\" overflow=\"visible\" width=\"30\">    <path d=\"M 0 -9 l 6 18 L 0 25\" fill=\"none\" style=\"stroke:rgb(255.0, 0.0, 81.08083606031792);stroke-width:2\" />  </svg></g><g transform=\"translate(6,0)\">  <svg x=\"37.832407977399676%\" y=\"40\" height=\"18\" overflow=\"visible\" width=\"30\">    <path d=\"M 0 -9 l 6 18 L 0 25\" fill=\"none\" style=\"stroke:rgb(255.0, 0.0, 81.08083606031792);stroke-width:2\" />  </svg></g><g transform=\"translate(-8,0)\">  <svg x=\"37.832407977399676%\" y=\"40\" height=\"18\" overflow=\"visible\" width=\"30\">    <path d=\"M 0 -9 l 6 18 L 0 25\" fill=\"none\" style=\"stroke:rgb(255.0, 0.0, 81.08083606031792);stroke-width:2\" />  </svg></g><g transform=\"translate(-6,0)\">  <svg x=\"37.832407977399676%\" y=\"40\" height=\"18\" overflow=\"visible\" width=\"30\">    <path d=\"M 0 -9 l 6 18 L 0 25\" fill=\"none\" style=\"stroke:rgb(255.0, 0.0, 81.08083606031792);stroke-width:2\" />  </svg></g><g transform=\"translate(-4,0)\">  <svg x=\"37.832407977399676%\" y=\"40\" height=\"18\" overflow=\"visible\" width=\"30\">    <path d=\"M 0 -9 l 6 18 L 0 25\" fill=\"none\" style=\"stroke:rgb(255.0, 0.0, 81.08083606031792);stroke-width:2\" />  </svg></g><g transform=\"translate(-2,0)\">  <svg x=\"37.832407977399676%\" y=\"40\" height=\"18\" overflow=\"visible\" width=\"30\">    <path d=\"M 0 -9 l 6 18 L 0 25\" fill=\"none\" style=\"stroke:rgb(255.0, 0.0, 81.08083606031792);stroke-width:2\" />  </svg></g><g transform=\"translate(0,0)\">  <svg x=\"30.559013091984514%\" y=\"40\" height=\"18\" overflow=\"visible\" width=\"30\">    <path d=\"M 0 -9 l 6 18 L 0 25\" fill=\"none\" style=\"stroke:rgb(255.0, 0.0, 81.08083606031792);stroke-width:2\" />  </svg></g><g transform=\"translate(2,0)\">  <svg x=\"30.559013091984514%\" y=\"40\" height=\"18\" overflow=\"visible\" width=\"30\">    <path d=\"M 0 -9 l 6 18 L 0 25\" fill=\"none\" style=\"stroke:rgb(255.0, 0.0, 81.08083606031792);stroke-width:2\" />  </svg></g><g transform=\"translate(4,0)\">  <svg x=\"30.559013091984514%\" y=\"40\" height=\"18\" overflow=\"visible\" width=\"30\">    <path d=\"M 0 -9 l 6 18 L 0 25\" fill=\"none\" style=\"stroke:rgb(255.0, 0.0, 81.08083606031792);stroke-width:2\" />  </svg></g><g transform=\"translate(6,0)\">  <svg x=\"30.559013091984514%\" y=\"40\" height=\"18\" overflow=\"visible\" width=\"30\">    <path d=\"M 0 -9 l 6 18 L 0 25\" fill=\"none\" style=\"stroke:rgb(255.0, 0.0, 81.08083606031792);stroke-width:2\" />  </svg></g><g transform=\"translate(-8,0)\">  <svg x=\"30.559013091984514%\" y=\"40\" height=\"18\" overflow=\"visible\" width=\"30\">    <path d=\"M 0 -9 l 6 18 L 0 25\" fill=\"none\" style=\"stroke:rgb(255.0, 0.0, 81.08083606031792);stroke-width:2\" />  </svg></g><g transform=\"translate(-6,0)\">  <svg x=\"30.559013091984514%\" y=\"40\" height=\"18\" overflow=\"visible\" width=\"30\">    <path d=\"M 0 -9 l 6 18 L 0 25\" fill=\"none\" style=\"stroke:rgb(255.0, 0.0, 81.08083606031792);stroke-width:2\" />  </svg></g><g transform=\"translate(-4,0)\">  <svg x=\"30.559013091984514%\" y=\"40\" height=\"18\" overflow=\"visible\" width=\"30\">    <path d=\"M 0 -9 l 6 18 L 0 25\" fill=\"none\" style=\"stroke:rgb(255.0, 0.0, 81.08083606031792);stroke-width:2\" />  </svg></g><g transform=\"translate(-2,0)\">  <svg x=\"30.559013091984514%\" y=\"40\" height=\"18\" overflow=\"visible\" width=\"30\">    <path d=\"M 0 -9 l 6 18 L 0 25\" fill=\"none\" style=\"stroke:rgb(255.0, 0.0, 81.08083606031792);stroke-width:2\" />  </svg></g><g transform=\"translate(0,0)\">  <svg x=\"25.68396778053136%\" y=\"40\" height=\"18\" overflow=\"visible\" width=\"30\">    <path d=\"M 0 -9 l 6 18 L 0 25\" fill=\"none\" style=\"stroke:rgb(255.0, 0.0, 81.08083606031792);stroke-width:2\" />  </svg></g><g transform=\"translate(2,0)\">  <svg x=\"25.68396778053136%\" y=\"40\" height=\"18\" overflow=\"visible\" width=\"30\">    <path d=\"M 0 -9 l 6 18 L 0 25\" fill=\"none\" style=\"stroke:rgb(255.0, 0.0, 81.08083606031792);stroke-width:2\" />  </svg></g><g transform=\"translate(4,0)\">  <svg x=\"25.68396778053136%\" y=\"40\" height=\"18\" overflow=\"visible\" width=\"30\">    <path d=\"M 0 -9 l 6 18 L 0 25\" fill=\"none\" style=\"stroke:rgb(255.0, 0.0, 81.08083606031792);stroke-width:2\" />  </svg></g><g transform=\"translate(6,0)\">  <svg x=\"25.68396778053136%\" y=\"40\" height=\"18\" overflow=\"visible\" width=\"30\">    <path d=\"M 0 -9 l 6 18 L 0 25\" fill=\"none\" style=\"stroke:rgb(255.0, 0.0, 81.08083606031792);stroke-width:2\" />  </svg></g><g transform=\"translate(-8,0)\">  <svg x=\"25.68396778053136%\" y=\"40\" height=\"18\" overflow=\"visible\" width=\"30\">    <path d=\"M 0 -9 l 6 18 L 0 25\" fill=\"none\" style=\"stroke:rgb(255.0, 0.0, 81.08083606031792);stroke-width:2\" />  </svg></g><g transform=\"translate(-6,0)\">  <svg x=\"25.68396778053136%\" y=\"40\" height=\"18\" overflow=\"visible\" width=\"30\">    <path d=\"M 0 -9 l 6 18 L 0 25\" fill=\"none\" style=\"stroke:rgb(255.0, 0.0, 81.08083606031792);stroke-width:2\" />  </svg></g><g transform=\"translate(-4,0)\">  <svg x=\"25.68396778053136%\" y=\"40\" height=\"18\" overflow=\"visible\" width=\"30\">    <path d=\"M 0 -9 l 6 18 L 0 25\" fill=\"none\" style=\"stroke:rgb(255.0, 0.0, 81.08083606031792);stroke-width:2\" />  </svg></g><g transform=\"translate(-2,0)\">  <svg x=\"25.68396778053136%\" y=\"40\" height=\"18\" overflow=\"visible\" width=\"30\">    <path d=\"M 0 -9 l 6 18 L 0 25\" fill=\"none\" style=\"stroke:rgb(255.0, 0.0, 81.08083606031792);stroke-width:2\" />  </svg></g><rect transform=\"translate(-8,0)\" x=\"87.90068128533585%\" y=\"40\" width=\"8\" height=\"18\" style=\"fill:rgb(255.0, 0.0, 81.08083606031792)\"/><g transform=\"translate(-11.5,0)\">  <svg x=\"24.308465087756044%\" y=\"40\" height=\"18\" overflow=\"visible\" width=\"30\">    <path d=\"M 10 -9 l 6 18 L 10 25 L 0 25 L 0 -9\" fill=\"#ffffff\" style=\"stroke:rgb(255,255,255);stroke-width:2\" />  </svg></g><g transform=\"translate(-1.5,0)\">  <svg x=\"87.90068128533585%\" y=\"40\" height=\"18\" overflow=\"visible\" width=\"30\">    <path d=\"M 0 -9 l 6 18 L 0 25\" fill=\"none\" style=\"stroke:rgb(255, 195, 213);stroke-width:2\" />  </svg></g><rect x=\"66.14342658217758%\" y=\"40\" height=\"20\" width=\"21.757254703158267%\"      onmouseover=\"document.getElementById('_tp_xebdgalppqfobvyfdwhu_ind_0').style.textDecoration = 'underline';document.getElementById('_fs_xebdgalppqfobvyfdwhu_ind_0').style.opacity = 1;document.getElementById('_fb_xebdgalppqfobvyfdwhu_ind_0').style.opacity = 1;\"      onmouseout=\"document.getElementById('_tp_xebdgalppqfobvyfdwhu_ind_0').style.textDecoration = 'none';document.getElementById('_fs_xebdgalppqfobvyfdwhu_ind_0').style.opacity = 0;document.getElementById('_fb_xebdgalppqfobvyfdwhu_ind_0').style.opacity = 0;\" style=\"fill:rgb(0,0,0,0)\" /><g transform=\"translate(-1.5,0)\">  <svg x=\"66.14342658217758%\" y=\"40\" height=\"18\" overflow=\"visible\" width=\"30\">    <path d=\"M 0 -9 l 6 18 L 0 25\" fill=\"none\" style=\"stroke:rgb(255, 195, 213);stroke-width:2\" />  </svg></g><rect x=\"51.016671090049066%\" y=\"40\" height=\"20\" width=\"15.126755492128517%\"      onmouseover=\"document.getElementById('_tp_xebdgalppqfobvyfdwhu_ind_5').style.textDecoration = 'underline';document.getElementById('_fs_xebdgalppqfobvyfdwhu_ind_5').style.opacity = 1;document.getElementById('_fb_xebdgalppqfobvyfdwhu_ind_5').style.opacity = 1;\"      onmouseout=\"document.getElementById('_tp_xebdgalppqfobvyfdwhu_ind_5').style.textDecoration = 'none';document.getElementById('_fs_xebdgalppqfobvyfdwhu_ind_5').style.opacity = 0;document.getElementById('_fb_xebdgalppqfobvyfdwhu_ind_5').style.opacity = 0;\" style=\"fill:rgb(0,0,0,0)\" /><g transform=\"translate(-1.5,0)\">  <svg x=\"51.016671090049066%\" y=\"40\" height=\"18\" overflow=\"visible\" width=\"30\">    <path d=\"M 0 -9 l 6 18 L 0 25\" fill=\"none\" style=\"stroke:rgb(255, 195, 213);stroke-width:2\" />  </svg></g><rect x=\"37.832407977399676%\" y=\"40\" height=\"20\" width=\"13.18426311264939%\"      onmouseover=\"document.getElementById('_tp_xebdgalppqfobvyfdwhu_ind_2').style.textDecoration = 'underline';document.getElementById('_fs_xebdgalppqfobvyfdwhu_ind_2').style.opacity = 1;document.getElementById('_fb_xebdgalppqfobvyfdwhu_ind_2').style.opacity = 1;\"      onmouseout=\"document.getElementById('_tp_xebdgalppqfobvyfdwhu_ind_2').style.textDecoration = 'none';document.getElementById('_fs_xebdgalppqfobvyfdwhu_ind_2').style.opacity = 0;document.getElementById('_fb_xebdgalppqfobvyfdwhu_ind_2').style.opacity = 0;\" style=\"fill:rgb(0,0,0,0)\" /><g transform=\"translate(-1.5,0)\">  <svg x=\"37.832407977399676%\" y=\"40\" height=\"18\" overflow=\"visible\" width=\"30\">    <path d=\"M 0 -9 l 6 18 L 0 25\" fill=\"none\" style=\"stroke:rgb(255, 195, 213);stroke-width:2\" />  </svg></g><rect x=\"30.559013091984514%\" y=\"40\" height=\"20\" width=\"7.273394885415161%\"      onmouseover=\"document.getElementById('_tp_xebdgalppqfobvyfdwhu_ind_1').style.textDecoration = 'underline';document.getElementById('_fs_xebdgalppqfobvyfdwhu_ind_1').style.opacity = 1;document.getElementById('_fb_xebdgalppqfobvyfdwhu_ind_1').style.opacity = 1;\"      onmouseout=\"document.getElementById('_tp_xebdgalppqfobvyfdwhu_ind_1').style.textDecoration = 'none';document.getElementById('_fs_xebdgalppqfobvyfdwhu_ind_1').style.opacity = 0;document.getElementById('_fb_xebdgalppqfobvyfdwhu_ind_1').style.opacity = 0;\" style=\"fill:rgb(0,0,0,0)\" /><g transform=\"translate(-1.5,0)\">  <svg x=\"30.559013091984514%\" y=\"40\" height=\"18\" overflow=\"visible\" width=\"30\">    <path d=\"M 0 -9 l 6 18 L 0 25\" fill=\"none\" style=\"stroke:rgb(255, 195, 213);stroke-width:2\" />  </svg></g><rect x=\"25.68396778053136%\" y=\"40\" height=\"20\" width=\"4.875045311453153%\"      onmouseover=\"document.getElementById('_tp_xebdgalppqfobvyfdwhu_ind_4').style.textDecoration = 'underline';document.getElementById('_fs_xebdgalppqfobvyfdwhu_ind_4').style.opacity = 1;document.getElementById('_fb_xebdgalppqfobvyfdwhu_ind_4').style.opacity = 1;\"      onmouseout=\"document.getElementById('_tp_xebdgalppqfobvyfdwhu_ind_4').style.textDecoration = 'none';document.getElementById('_fs_xebdgalppqfobvyfdwhu_ind_4').style.opacity = 0;document.getElementById('_fb_xebdgalppqfobvyfdwhu_ind_4').style.opacity = 0;\" style=\"fill:rgb(0,0,0,0)\" /><rect x=\"24.308465087756044%\" y=\"40\" height=\"20\" width=\"1.3755026927753171%\"      onmouseover=\"document.getElementById('_tp_xebdgalppqfobvyfdwhu_ind_3').style.textDecoration = 'underline';document.getElementById('_fs_xebdgalppqfobvyfdwhu_ind_3').style.opacity = 1;document.getElementById('_fb_xebdgalppqfobvyfdwhu_ind_3').style.opacity = 1;\"      onmouseout=\"document.getElementById('_tp_xebdgalppqfobvyfdwhu_ind_3').style.textDecoration = 'none';document.getElementById('_fs_xebdgalppqfobvyfdwhu_ind_3').style.opacity = 0;document.getElementById('_fb_xebdgalppqfobvyfdwhu_ind_3').style.opacity = 0;\" style=\"fill:rgb(0,0,0,0)\" /><rect x=\"87.90068128533585%\" width=\"5.21826933630155%\" y=\"40\" height=\"18\" style=\"fill:rgb(0.0, 138.56128015770727, 250.76166088685727); stroke-width:0; stroke:rgb(0,0,0)\" /><line x1=\"87.90068128533585%\" x2=\"93.1189506216374%\" y1=\"60\" y2=\"60\" id=\"_fb_xebdgalppqfobvyfdwhu_ind_6\" style=\"stroke:rgb(0.0, 138.56128015770727, 250.76166088685727);stroke-width:2; opacity: 0\"/><text x=\"90.50981595348662%\" y=\"71\" font-size=\"12px\" fill=\"rgb(0.0, 138.56128015770727, 250.76166088685727)\" id=\"_fs_xebdgalppqfobvyfdwhu_ind_6\" style=\"opacity: 0\" dominant-baseline=\"middle\" text-anchor=\"middle\">-0.063</text><svg x=\"87.90068128533585%\" y=\"40\" height=\"20\" width=\"5.218269336301546%\">  <svg x=\"0\" y=\"0\" width=\"100%\" height=\"100%\">    <text x=\"50%\" y=\"9\" font-size=\"12px\" fill=\"rgb(255,255,255)\" dominant-baseline=\"middle\" text-anchor=\"middle\"></text>  </svg></svg><rect transform=\"translate(0,0)\" x=\"87.90068128533585%\" y=\"40\" width=\"8\" height=\"18\" style=\"fill:rgb(0.0, 138.56128015770727, 250.76166088685727)\"/><g transform=\"translate(-6.0,0)\">  <svg x=\"93.1189506216374%\" y=\"40\" height=\"18\" overflow=\"visible\" width=\"30\">    <path d=\"M 8 -9 l -6 18 L 8 25 L 20 25 L 20 -9\" fill=\"#ffffff\" style=\"stroke:rgb(255,255,255);stroke-width:2\" />  </svg></g><rect x=\"87.90068128533585%\" y=\"40\" height=\"20\" width=\"5.218269336301546%\"      onmouseover=\"document.getElementById('_tp_xebdgalppqfobvyfdwhu_ind_6').style.textDecoration = 'underline';document.getElementById('_fs_xebdgalppqfobvyfdwhu_ind_6').style.opacity = 1;document.getElementById('_fb_xebdgalppqfobvyfdwhu_ind_6').style.opacity = 1;\"      onmouseout=\"document.getElementById('_tp_xebdgalppqfobvyfdwhu_ind_6').style.textDecoration = 'none';document.getElementById('_fs_xebdgalppqfobvyfdwhu_ind_6').style.opacity = 0;document.getElementById('_fb_xebdgalppqfobvyfdwhu_ind_6').style.opacity = 0;\" style=\"fill:rgb(0,0,0,0)\" /></svg><div align='center'><div style=\"color: rgb(120,120,120); font-size: 12px; margin-top: -15px;\">inputs</div><div style='display: inline; text-align: center;'\n",
       "    ><div style='display: none; color: #999; padding-top: 0px; font-size: 12px;'>0.264</div\n",
       "        ><div id='_tp_xebdgalppqfobvyfdwhu_ind_0'\n",
       "            style='display: inline; background: rgba(255.0, 13.0, 87.0, 0.7714002772826303); border-radius: 3px; padding: 0px'\n",
       "            onclick=\"\n",
       "            if (this.previousSibling.style.display == 'none') {\n",
       "                this.previousSibling.style.display = 'block';\n",
       "                this.parentNode.style.display = 'inline-block';\n",
       "            } else {\n",
       "                this.previousSibling.style.display = 'none';\n",
       "                this.parentNode.style.display = 'inline';\n",
       "            }\"\n",
       "            onmouseover=\"document.getElementById('_fb_xebdgalppqfobvyfdwhu_ind_0').style.opacity = 1; document.getElementById('_fs_xebdgalppqfobvyfdwhu_ind_0').style.opacity = 1;\"\n",
       "            onmouseout=\"document.getElementById('_fb_xebdgalppqfobvyfdwhu_ind_0').style.opacity = 0; document.getElementById('_fs_xebdgalppqfobvyfdwhu_ind_0').style.opacity = 0;\"\n",
       "        ></div></div><div style='display: inline; text-align: center;'\n",
       "    ><div style='display: none; color: #999; padding-top: 0px; font-size: 12px;'>0.088</div\n",
       "        ><div id='_tp_xebdgalppqfobvyfdwhu_ind_1'\n",
       "            style='display: inline; background: rgba(255.0, 13.0, 87.0, 0.2590215884333532); border-radius: 3px; padding: 0px'\n",
       "            onclick=\"\n",
       "            if (this.previousSibling.style.display == 'none') {\n",
       "                this.previousSibling.style.display = 'block';\n",
       "                this.parentNode.style.display = 'inline-block';\n",
       "            } else {\n",
       "                this.previousSibling.style.display = 'none';\n",
       "                this.parentNode.style.display = 'inline';\n",
       "            }\"\n",
       "            onmouseover=\"document.getElementById('_fb_xebdgalppqfobvyfdwhu_ind_1').style.opacity = 1; document.getElementById('_fs_xebdgalppqfobvyfdwhu_ind_1').style.opacity = 1;\"\n",
       "            onmouseout=\"document.getElementById('_fb_xebdgalppqfobvyfdwhu_ind_1').style.opacity = 0; document.getElementById('_fs_xebdgalppqfobvyfdwhu_ind_1').style.opacity = 0;\"\n",
       "        >I </div></div><div style='display: inline; text-align: center;'\n",
       "    ><div style='display: none; color: #999; padding-top: 0px; font-size: 12px;'>0.16</div\n",
       "        ><div id='_tp_xebdgalppqfobvyfdwhu_ind_2'\n",
       "            style='display: inline; background: rgba(255.0, 13.0, 87.0, 0.46397306397306415); border-radius: 3px; padding: 0px'\n",
       "            onclick=\"\n",
       "            if (this.previousSibling.style.display == 'none') {\n",
       "                this.previousSibling.style.display = 'block';\n",
       "                this.parentNode.style.display = 'inline-block';\n",
       "            } else {\n",
       "                this.previousSibling.style.display = 'none';\n",
       "                this.parentNode.style.display = 'inline';\n",
       "            }\"\n",
       "            onmouseover=\"document.getElementById('_fb_xebdgalppqfobvyfdwhu_ind_2').style.opacity = 1; document.getElementById('_fs_xebdgalppqfobvyfdwhu_ind_2').style.opacity = 1;\"\n",
       "            onmouseout=\"document.getElementById('_fb_xebdgalppqfobvyfdwhu_ind_2').style.opacity = 0; document.getElementById('_fs_xebdgalppqfobvyfdwhu_ind_2').style.opacity = 0;\"\n",
       "        >love </div></div><div style='display: inline; text-align: center;'\n",
       "    ><div style='display: none; color: #999; padding-top: 0px; font-size: 12px;'>0.017</div\n",
       "        ><div id='_tp_xebdgalppqfobvyfdwhu_ind_3'\n",
       "            style='display: inline; background: rgba(255.0, 13.0, 87.0, 0.04618736383442265); border-radius: 3px; padding: 0px'\n",
       "            onclick=\"\n",
       "            if (this.previousSibling.style.display == 'none') {\n",
       "                this.previousSibling.style.display = 'block';\n",
       "                this.parentNode.style.display = 'inline-block';\n",
       "            } else {\n",
       "                this.previousSibling.style.display = 'none';\n",
       "                this.parentNode.style.display = 'inline';\n",
       "            }\"\n",
       "            onmouseover=\"document.getElementById('_fb_xebdgalppqfobvyfdwhu_ind_3').style.opacity = 1; document.getElementById('_fs_xebdgalppqfobvyfdwhu_ind_3').style.opacity = 1;\"\n",
       "            onmouseout=\"document.getElementById('_fb_xebdgalppqfobvyfdwhu_ind_3').style.opacity = 0; document.getElementById('_fs_xebdgalppqfobvyfdwhu_ind_3').style.opacity = 0;\"\n",
       "        >playing </div></div><div style='display: inline; text-align: center;'\n",
       "    ><div style='display: none; color: #999; padding-top: 0px; font-size: 12px;'>0.059</div\n",
       "        ><div id='_tp_xebdgalppqfobvyfdwhu_ind_4'\n",
       "            style='display: inline; background: rgba(255.0, 13.0, 87.0, 0.17231134878193693); border-radius: 3px; padding: 0px'\n",
       "            onclick=\"\n",
       "            if (this.previousSibling.style.display == 'none') {\n",
       "                this.previousSibling.style.display = 'block';\n",
       "                this.parentNode.style.display = 'inline-block';\n",
       "            } else {\n",
       "                this.previousSibling.style.display = 'none';\n",
       "                this.parentNode.style.display = 'inline';\n",
       "            }\"\n",
       "            onmouseover=\"document.getElementById('_fb_xebdgalppqfobvyfdwhu_ind_4').style.opacity = 1; document.getElementById('_fs_xebdgalppqfobvyfdwhu_ind_4').style.opacity = 1;\"\n",
       "            onmouseout=\"document.getElementById('_fb_xebdgalppqfobvyfdwhu_ind_4').style.opacity = 0; document.getElementById('_fs_xebdgalppqfobvyfdwhu_ind_4').style.opacity = 0;\"\n",
       "        >cricket</div></div><div style='display: inline; text-align: center;'\n",
       "    ><div style='display: none; color: #999; padding-top: 0px; font-size: 12px;'>0.183</div\n",
       "        ><div id='_tp_xebdgalppqfobvyfdwhu_ind_5'\n",
       "            style='display: inline; background: rgba(255.0, 13.0, 87.0, 0.5349178055060405); border-radius: 3px; padding: 0px'\n",
       "            onclick=\"\n",
       "            if (this.previousSibling.style.display == 'none') {\n",
       "                this.previousSibling.style.display = 'block';\n",
       "                this.parentNode.style.display = 'inline-block';\n",
       "            } else {\n",
       "                this.previousSibling.style.display = 'none';\n",
       "                this.parentNode.style.display = 'inline';\n",
       "            }\"\n",
       "            onmouseover=\"document.getElementById('_fb_xebdgalppqfobvyfdwhu_ind_5').style.opacity = 1; document.getElementById('_fs_xebdgalppqfobvyfdwhu_ind_5').style.opacity = 1;\"\n",
       "            onmouseout=\"document.getElementById('_fb_xebdgalppqfobvyfdwhu_ind_5').style.opacity = 0; document.getElementById('_fs_xebdgalppqfobvyfdwhu_ind_5').style.opacity = 0;\"\n",
       "        >!</div></div><div style='display: inline; text-align: center;'\n",
       "    ><div style='display: none; color: #999; padding-top: 0px; font-size: 12px;'>-0.063</div\n",
       "        ><div id='_tp_xebdgalppqfobvyfdwhu_ind_6'\n",
       "            style='display: inline; background: rgba(30.0, 136.0, 229.0, 0.18019409784115656); border-radius: 3px; padding: 0px'\n",
       "            onclick=\"\n",
       "            if (this.previousSibling.style.display == 'none') {\n",
       "                this.previousSibling.style.display = 'block';\n",
       "                this.parentNode.style.display = 'inline-block';\n",
       "            } else {\n",
       "                this.previousSibling.style.display = 'none';\n",
       "                this.parentNode.style.display = 'inline';\n",
       "            }\"\n",
       "            onmouseover=\"document.getElementById('_fb_xebdgalppqfobvyfdwhu_ind_6').style.opacity = 1; document.getElementById('_fs_xebdgalppqfobvyfdwhu_ind_6').style.opacity = 1;\"\n",
       "            onmouseout=\"document.getElementById('_fb_xebdgalppqfobvyfdwhu_ind_6').style.opacity = 0; document.getElementById('_fs_xebdgalppqfobvyfdwhu_ind_6').style.opacity = 0;\"\n",
       "        ></div></div></div></div><div id='_tp_iejhwkycugjposzlmgwd_output_1_zoom' style='display: none;'><svg width=\"100%\" height=\"80px\"><line x1=\"0\" y1=\"33\" x2=\"100%\" y2=\"33\" style=\"stroke:rgb(150,150,150);stroke-width:1\" /><line x1=\"51.96822009032436%\" y1=\"33\" x2=\"51.96822009032436%\" y2=\"37\" style=\"stroke:rgb(150,150,150);stroke-width:1\" /><text x=\"51.96822009032436%\" y=\"27\" font-size=\"12px\" fill=\"rgb(120,120,120)\" dominant-baseline=\"bottom\" text-anchor=\"middle\">0.5</text><line x1=\"41.97731973057767%\" y1=\"33\" x2=\"41.97731973057767%\" y2=\"37\" style=\"stroke:rgb(150,150,150);stroke-width:1\" /><text x=\"41.97731973057767%\" y=\"27\" font-size=\"12px\" fill=\"rgb(120,120,120)\" dominant-baseline=\"bottom\" text-anchor=\"middle\">0.4</text><line x1=\"31.986419370830976%\" y1=\"33\" x2=\"31.986419370830976%\" y2=\"37\" style=\"stroke:rgb(150,150,150);stroke-width:1\" /><text x=\"31.986419370830976%\" y=\"27\" font-size=\"12px\" fill=\"rgb(120,120,120)\" dominant-baseline=\"bottom\" text-anchor=\"middle\">0.3</text><line x1=\"21.995519011084276%\" y1=\"33\" x2=\"21.995519011084276%\" y2=\"37\" style=\"stroke:rgb(150,150,150);stroke-width:1\" /><text x=\"21.995519011084276%\" y=\"27\" font-size=\"12px\" fill=\"rgb(120,120,120)\" dominant-baseline=\"bottom\" text-anchor=\"middle\">0.2</text><line x1=\"12.004618651337582%\" y1=\"33\" x2=\"12.004618651337582%\" y2=\"37\" style=\"stroke:rgb(150,150,150);stroke-width:1\" /><text x=\"12.004618651337582%\" y=\"27\" font-size=\"12px\" fill=\"rgb(120,120,120)\" dominant-baseline=\"bottom\" text-anchor=\"middle\">0.1</text><line x1=\"61.95912045007107%\" y1=\"33\" x2=\"61.95912045007107%\" y2=\"37\" style=\"stroke:rgb(150,150,150);stroke-width:1\" /><text x=\"61.95912045007107%\" y=\"27\" font-size=\"12px\" fill=\"rgb(120,120,120)\" dominant-baseline=\"bottom\" text-anchor=\"middle\">0.6</text><line x1=\"71.95002080981774%\" y1=\"33\" x2=\"71.95002080981774%\" y2=\"37\" style=\"stroke:rgb(150,150,150);stroke-width:1\" /><text x=\"71.95002080981774%\" y=\"27\" font-size=\"12px\" fill=\"rgb(120,120,120)\" dominant-baseline=\"bottom\" text-anchor=\"middle\">0.7</text><line x1=\"81.94092116956445%\" y1=\"33\" x2=\"81.94092116956445%\" y2=\"37\" style=\"stroke:rgb(150,150,150);stroke-width:1\" /><text x=\"81.94092116956445%\" y=\"27\" font-size=\"12px\" fill=\"rgb(120,120,120)\" dominant-baseline=\"bottom\" text-anchor=\"middle\">0.8</text><line x1=\"91.93182152931116%\" y1=\"33\" x2=\"91.93182152931116%\" y2=\"37\" style=\"stroke:rgb(150,150,150);stroke-width:1\" /><text x=\"91.93182152931116%\" y=\"27\" font-size=\"12px\" fill=\"rgb(120,120,120)\" dominant-baseline=\"bottom\" text-anchor=\"middle\">0.9</text><line x1=\"14.652948208560776%\" y1=\"33\" x2=\"14.652948208560776%\" y2=\"37\" style=\"stroke:rgb(150,150,150);stroke-width:1\" /><text x=\"14.652948208560776%\" y=\"27\" font-size=\"13px\" style=\"stroke:#ffffff;stroke-width:8px;\" fill=\"rgb(255,255,255)\" dominant-baseline=\"bottom\" text-anchor=\"middle\">0.126507</text><text x=\"14.652948208560776%\" y=\"27\" font-size=\"12px\" fill=\"rgb(120,120,120)\" dominant-baseline=\"bottom\" text-anchor=\"middle\">0.126507</text><text x=\"14.652948208560776%\" y=\"10\" font-size=\"12px\" fill=\"rgb(120,120,120)\" dominant-baseline=\"bottom\" text-anchor=\"middle\">base value</text><line x1=\"85.34705079234921%\" y1=\"33\" x2=\"85.34705079234921%\" y2=\"37\" style=\"stroke:rgb(150,150,150);stroke-width:1\" /><text x=\"85.34705079234921%\" y=\"27\" font-size=\"13px\" style=\"stroke:#ffffff;stroke-width:8px;\" font-weight=\"bold\" fill=\"rgb(255,255,255)\" dominant-baseline=\"bottom\" text-anchor=\"middle\">0.834092</text><text x=\"85.34705079234921%\" y=\"27\" font-size=\"13px\" font-weight=\"bold\" fill=\"rgb(0,0,0)\" dominant-baseline=\"bottom\" text-anchor=\"middle\">0.834092</text><text x=\"85.34705079234921%\" y=\"10\" font-size=\"12px\" fill=\"rgb(120,120,120)\" dominant-baseline=\"bottom\" text-anchor=\"middle\">f<tspan baseline-shift=\"sub\" font-size=\"8px\">sports</tspan>(inputs)</text><rect x=\"8.333333250075833%\" width=\"77.01371754227337%\" y=\"40\" height=\"18\" style=\"fill:rgb(255.0, 0.0, 81.08083606031792); stroke-width:0; stroke:rgb(0,0,0)\" /><line x1=\"58.99780290644048%\" x2=\"85.34705079234921%\" y1=\"60\" y2=\"60\" id=\"_fb_ccryqlfkgszkfipflxyi_ind_0\" style=\"stroke:rgb(255.0, 0.0, 81.08083606031792);stroke-width:2; opacity: 0\"/><text x=\"72.17242684939484%\" y=\"71\" font-size=\"12px\" id=\"_fs_ccryqlfkgszkfipflxyi_ind_0\" fill=\"rgb(255.0, 0.0, 81.08083606031792)\" style=\"opacity: 0\" dominant-baseline=\"middle\" text-anchor=\"middle\">0.264</text><svg x=\"58.99780290644048%\" y=\"40\" height=\"20\" width=\"26.34924788590873%\">  <svg x=\"0\" y=\"0\" width=\"100%\" height=\"100%\">    <text x=\"50%\" y=\"9\" font-size=\"12px\" fill=\"rgb(255,255,255)\" dominant-baseline=\"middle\" text-anchor=\"middle\"></text>  </svg></svg><line x1=\"40.67845905494951%\" x2=\"58.99780290644048%\" y1=\"60\" y2=\"60\" id=\"_fb_ccryqlfkgszkfipflxyi_ind_5\" style=\"stroke:rgb(255.0, 0.0, 81.08083606031792);stroke-width:2; opacity: 0\"/><text x=\"49.838130980695%\" y=\"71\" font-size=\"12px\" id=\"_fs_ccryqlfkgszkfipflxyi_ind_5\" fill=\"rgb(255.0, 0.0, 81.08083606031792)\" style=\"opacity: 0\" dominant-baseline=\"middle\" text-anchor=\"middle\">0.183</text><svg x=\"40.67845905494951%\" y=\"40\" height=\"20\" width=\"18.319343851490963%\">  <svg x=\"0\" y=\"0\" width=\"100%\" height=\"100%\">    <text x=\"50%\" y=\"9\" font-size=\"12px\" fill=\"rgb(255,255,255)\" dominant-baseline=\"middle\" text-anchor=\"middle\">!</text>  </svg></svg><line x1=\"24.711581721946036%\" x2=\"40.67845905494951%\" y1=\"60\" y2=\"60\" id=\"_fb_ccryqlfkgszkfipflxyi_ind_2\" style=\"stroke:rgb(255.0, 0.0, 81.08083606031792);stroke-width:2; opacity: 0\"/><text x=\"32.69502038844777%\" y=\"71\" font-size=\"12px\" id=\"_fs_ccryqlfkgszkfipflxyi_ind_2\" fill=\"rgb(255.0, 0.0, 81.08083606031792)\" style=\"opacity: 0\" dominant-baseline=\"middle\" text-anchor=\"middle\">0.16</text><svg x=\"24.711581721946036%\" y=\"40\" height=\"20\" width=\"15.966877333003477%\">  <svg x=\"0\" y=\"0\" width=\"100%\" height=\"100%\">    <text x=\"50%\" y=\"9\" font-size=\"12px\" fill=\"rgb(255,255,255)\" dominant-baseline=\"middle\" text-anchor=\"middle\">love</text>  </svg></svg><line x1=\"15.903095199972974%\" x2=\"24.711581721946036%\" y1=\"60\" y2=\"60\" id=\"_fb_ccryqlfkgszkfipflxyi_ind_1\" style=\"stroke:rgb(255.0, 0.0, 81.08083606031792);stroke-width:2; opacity: 0\"/><text x=\"20.307338460959507%\" y=\"71\" font-size=\"12px\" id=\"_fs_ccryqlfkgszkfipflxyi_ind_1\" fill=\"rgb(255.0, 0.0, 81.08083606031792)\" style=\"opacity: 0\" dominant-baseline=\"middle\" text-anchor=\"middle\">0.088</text><svg x=\"15.903095199972974%\" y=\"40\" height=\"20\" width=\"8.808486521973062%\">  <svg x=\"0\" y=\"0\" width=\"100%\" height=\"100%\">    <text x=\"50%\" y=\"9\" font-size=\"12px\" fill=\"rgb(255,255,255)\" dominant-baseline=\"middle\" text-anchor=\"middle\">I</text>  </svg></svg><line x1=\"9.999143662012166%\" x2=\"15.903095199972974%\" y1=\"60\" y2=\"60\" id=\"_fb_ccryqlfkgszkfipflxyi_ind_4\" style=\"stroke:rgb(255.0, 0.0, 81.08083606031792);stroke-width:2; opacity: 0\"/><text x=\"12.95111943099257%\" y=\"71\" font-size=\"12px\" id=\"_fs_ccryqlfkgszkfipflxyi_ind_4\" fill=\"rgb(255.0, 0.0, 81.08083606031792)\" style=\"opacity: 0\" dominant-baseline=\"middle\" text-anchor=\"middle\">0.059</text><svg x=\"9.999143662012166%\" y=\"40\" height=\"20\" width=\"5.903951537960808%\">  <svg x=\"0\" y=\"0\" width=\"100%\" height=\"100%\">    <text x=\"50%\" y=\"9\" font-size=\"12px\" fill=\"rgb(255,255,255)\" dominant-baseline=\"middle\" text-anchor=\"middle\">cricket</text>  </svg></svg><line x1=\"8.333333250075833%\" x2=\"9.999143662012166%\" y1=\"60\" y2=\"60\" id=\"_fb_ccryqlfkgszkfipflxyi_ind_3\" style=\"stroke:rgb(255.0, 0.0, 81.08083606031792);stroke-width:2; opacity: 0\"/><text x=\"9.166238456043999%\" y=\"71\" font-size=\"12px\" id=\"_fs_ccryqlfkgszkfipflxyi_ind_3\" fill=\"rgb(255.0, 0.0, 81.08083606031792)\" style=\"opacity: 0\" dominant-baseline=\"middle\" text-anchor=\"middle\">0.017</text><svg x=\"8.333333250075833%\" y=\"40\" height=\"20\" width=\"1.6658104119363326%\">  <svg x=\"0\" y=\"0\" width=\"100%\" height=\"100%\">    <text x=\"50%\" y=\"9\" font-size=\"12px\" fill=\"rgb(255,255,255)\" dominant-baseline=\"middle\" text-anchor=\"middle\">playing</text>  </svg></svg><g transform=\"translate(0,0)\">  <svg x=\"58.99780290644048%\" y=\"40\" height=\"18\" overflow=\"visible\" width=\"30\">    <path d=\"M 0 -9 l 6 18 L 0 25\" fill=\"none\" style=\"stroke:rgb(255.0, 0.0, 81.08083606031792);stroke-width:2\" />  </svg></g><g transform=\"translate(2,0)\">  <svg x=\"58.99780290644048%\" y=\"40\" height=\"18\" overflow=\"visible\" width=\"30\">    <path d=\"M 0 -9 l 6 18 L 0 25\" fill=\"none\" style=\"stroke:rgb(255.0, 0.0, 81.08083606031792);stroke-width:2\" />  </svg></g><g transform=\"translate(4,0)\">  <svg x=\"58.99780290644048%\" y=\"40\" height=\"18\" overflow=\"visible\" width=\"30\">    <path d=\"M 0 -9 l 6 18 L 0 25\" fill=\"none\" style=\"stroke:rgb(255.0, 0.0, 81.08083606031792);stroke-width:2\" />  </svg></g><g transform=\"translate(6,0)\">  <svg x=\"58.99780290644048%\" y=\"40\" height=\"18\" overflow=\"visible\" width=\"30\">    <path d=\"M 0 -9 l 6 18 L 0 25\" fill=\"none\" style=\"stroke:rgb(255.0, 0.0, 81.08083606031792);stroke-width:2\" />  </svg></g><g transform=\"translate(-8,0)\">  <svg x=\"58.99780290644048%\" y=\"40\" height=\"18\" overflow=\"visible\" width=\"30\">    <path d=\"M 0 -9 l 6 18 L 0 25\" fill=\"none\" style=\"stroke:rgb(255.0, 0.0, 81.08083606031792);stroke-width:2\" />  </svg></g><g transform=\"translate(-6,0)\">  <svg x=\"58.99780290644048%\" y=\"40\" height=\"18\" overflow=\"visible\" width=\"30\">    <path d=\"M 0 -9 l 6 18 L 0 25\" fill=\"none\" style=\"stroke:rgb(255.0, 0.0, 81.08083606031792);stroke-width:2\" />  </svg></g><g transform=\"translate(-4,0)\">  <svg x=\"58.99780290644048%\" y=\"40\" height=\"18\" overflow=\"visible\" width=\"30\">    <path d=\"M 0 -9 l 6 18 L 0 25\" fill=\"none\" style=\"stroke:rgb(255.0, 0.0, 81.08083606031792);stroke-width:2\" />  </svg></g><g transform=\"translate(-2,0)\">  <svg x=\"58.99780290644048%\" y=\"40\" height=\"18\" overflow=\"visible\" width=\"30\">    <path d=\"M 0 -9 l 6 18 L 0 25\" fill=\"none\" style=\"stroke:rgb(255.0, 0.0, 81.08083606031792);stroke-width:2\" />  </svg></g><g transform=\"translate(0,0)\">  <svg x=\"40.67845905494951%\" y=\"40\" height=\"18\" overflow=\"visible\" width=\"30\">    <path d=\"M 0 -9 l 6 18 L 0 25\" fill=\"none\" style=\"stroke:rgb(255.0, 0.0, 81.08083606031792);stroke-width:2\" />  </svg></g><g transform=\"translate(2,0)\">  <svg x=\"40.67845905494951%\" y=\"40\" height=\"18\" overflow=\"visible\" width=\"30\">    <path d=\"M 0 -9 l 6 18 L 0 25\" fill=\"none\" style=\"stroke:rgb(255.0, 0.0, 81.08083606031792);stroke-width:2\" />  </svg></g><g transform=\"translate(4,0)\">  <svg x=\"40.67845905494951%\" y=\"40\" height=\"18\" overflow=\"visible\" width=\"30\">    <path d=\"M 0 -9 l 6 18 L 0 25\" fill=\"none\" style=\"stroke:rgb(255.0, 0.0, 81.08083606031792);stroke-width:2\" />  </svg></g><g transform=\"translate(6,0)\">  <svg x=\"40.67845905494951%\" y=\"40\" height=\"18\" overflow=\"visible\" width=\"30\">    <path d=\"M 0 -9 l 6 18 L 0 25\" fill=\"none\" style=\"stroke:rgb(255.0, 0.0, 81.08083606031792);stroke-width:2\" />  </svg></g><g transform=\"translate(-8,0)\">  <svg x=\"40.67845905494951%\" y=\"40\" height=\"18\" overflow=\"visible\" width=\"30\">    <path d=\"M 0 -9 l 6 18 L 0 25\" fill=\"none\" style=\"stroke:rgb(255.0, 0.0, 81.08083606031792);stroke-width:2\" />  </svg></g><g transform=\"translate(-6,0)\">  <svg x=\"40.67845905494951%\" y=\"40\" height=\"18\" overflow=\"visible\" width=\"30\">    <path d=\"M 0 -9 l 6 18 L 0 25\" fill=\"none\" style=\"stroke:rgb(255.0, 0.0, 81.08083606031792);stroke-width:2\" />  </svg></g><g transform=\"translate(-4,0)\">  <svg x=\"40.67845905494951%\" y=\"40\" height=\"18\" overflow=\"visible\" width=\"30\">    <path d=\"M 0 -9 l 6 18 L 0 25\" fill=\"none\" style=\"stroke:rgb(255.0, 0.0, 81.08083606031792);stroke-width:2\" />  </svg></g><g transform=\"translate(-2,0)\">  <svg x=\"40.67845905494951%\" y=\"40\" height=\"18\" overflow=\"visible\" width=\"30\">    <path d=\"M 0 -9 l 6 18 L 0 25\" fill=\"none\" style=\"stroke:rgb(255.0, 0.0, 81.08083606031792);stroke-width:2\" />  </svg></g><g transform=\"translate(0,0)\">  <svg x=\"24.711581721946036%\" y=\"40\" height=\"18\" overflow=\"visible\" width=\"30\">    <path d=\"M 0 -9 l 6 18 L 0 25\" fill=\"none\" style=\"stroke:rgb(255.0, 0.0, 81.08083606031792);stroke-width:2\" />  </svg></g><g transform=\"translate(2,0)\">  <svg x=\"24.711581721946036%\" y=\"40\" height=\"18\" overflow=\"visible\" width=\"30\">    <path d=\"M 0 -9 l 6 18 L 0 25\" fill=\"none\" style=\"stroke:rgb(255.0, 0.0, 81.08083606031792);stroke-width:2\" />  </svg></g><g transform=\"translate(4,0)\">  <svg x=\"24.711581721946036%\" y=\"40\" height=\"18\" overflow=\"visible\" width=\"30\">    <path d=\"M 0 -9 l 6 18 L 0 25\" fill=\"none\" style=\"stroke:rgb(255.0, 0.0, 81.08083606031792);stroke-width:2\" />  </svg></g><g transform=\"translate(6,0)\">  <svg x=\"24.711581721946036%\" y=\"40\" height=\"18\" overflow=\"visible\" width=\"30\">    <path d=\"M 0 -9 l 6 18 L 0 25\" fill=\"none\" style=\"stroke:rgb(255.0, 0.0, 81.08083606031792);stroke-width:2\" />  </svg></g><g transform=\"translate(-8,0)\">  <svg x=\"24.711581721946036%\" y=\"40\" height=\"18\" overflow=\"visible\" width=\"30\">    <path d=\"M 0 -9 l 6 18 L 0 25\" fill=\"none\" style=\"stroke:rgb(255.0, 0.0, 81.08083606031792);stroke-width:2\" />  </svg></g><g transform=\"translate(-6,0)\">  <svg x=\"24.711581721946036%\" y=\"40\" height=\"18\" overflow=\"visible\" width=\"30\">    <path d=\"M 0 -9 l 6 18 L 0 25\" fill=\"none\" style=\"stroke:rgb(255.0, 0.0, 81.08083606031792);stroke-width:2\" />  </svg></g><g transform=\"translate(-4,0)\">  <svg x=\"24.711581721946036%\" y=\"40\" height=\"18\" overflow=\"visible\" width=\"30\">    <path d=\"M 0 -9 l 6 18 L 0 25\" fill=\"none\" style=\"stroke:rgb(255.0, 0.0, 81.08083606031792);stroke-width:2\" />  </svg></g><g transform=\"translate(-2,0)\">  <svg x=\"24.711581721946036%\" y=\"40\" height=\"18\" overflow=\"visible\" width=\"30\">    <path d=\"M 0 -9 l 6 18 L 0 25\" fill=\"none\" style=\"stroke:rgb(255.0, 0.0, 81.08083606031792);stroke-width:2\" />  </svg></g><g transform=\"translate(0,0)\">  <svg x=\"15.903095199972974%\" y=\"40\" height=\"18\" overflow=\"visible\" width=\"30\">    <path d=\"M 0 -9 l 6 18 L 0 25\" fill=\"none\" style=\"stroke:rgb(255.0, 0.0, 81.08083606031792);stroke-width:2\" />  </svg></g><g transform=\"translate(2,0)\">  <svg x=\"15.903095199972974%\" y=\"40\" height=\"18\" overflow=\"visible\" width=\"30\">    <path d=\"M 0 -9 l 6 18 L 0 25\" fill=\"none\" style=\"stroke:rgb(255.0, 0.0, 81.08083606031792);stroke-width:2\" />  </svg></g><g transform=\"translate(4,0)\">  <svg x=\"15.903095199972974%\" y=\"40\" height=\"18\" overflow=\"visible\" width=\"30\">    <path d=\"M 0 -9 l 6 18 L 0 25\" fill=\"none\" style=\"stroke:rgb(255.0, 0.0, 81.08083606031792);stroke-width:2\" />  </svg></g><g transform=\"translate(6,0)\">  <svg x=\"15.903095199972974%\" y=\"40\" height=\"18\" overflow=\"visible\" width=\"30\">    <path d=\"M 0 -9 l 6 18 L 0 25\" fill=\"none\" style=\"stroke:rgb(255.0, 0.0, 81.08083606031792);stroke-width:2\" />  </svg></g><g transform=\"translate(-8,0)\">  <svg x=\"15.903095199972974%\" y=\"40\" height=\"18\" overflow=\"visible\" width=\"30\">    <path d=\"M 0 -9 l 6 18 L 0 25\" fill=\"none\" style=\"stroke:rgb(255.0, 0.0, 81.08083606031792);stroke-width:2\" />  </svg></g><g transform=\"translate(-6,0)\">  <svg x=\"15.903095199972974%\" y=\"40\" height=\"18\" overflow=\"visible\" width=\"30\">    <path d=\"M 0 -9 l 6 18 L 0 25\" fill=\"none\" style=\"stroke:rgb(255.0, 0.0, 81.08083606031792);stroke-width:2\" />  </svg></g><g transform=\"translate(-4,0)\">  <svg x=\"15.903095199972974%\" y=\"40\" height=\"18\" overflow=\"visible\" width=\"30\">    <path d=\"M 0 -9 l 6 18 L 0 25\" fill=\"none\" style=\"stroke:rgb(255.0, 0.0, 81.08083606031792);stroke-width:2\" />  </svg></g><g transform=\"translate(-2,0)\">  <svg x=\"15.903095199972974%\" y=\"40\" height=\"18\" overflow=\"visible\" width=\"30\">    <path d=\"M 0 -9 l 6 18 L 0 25\" fill=\"none\" style=\"stroke:rgb(255.0, 0.0, 81.08083606031792);stroke-width:2\" />  </svg></g><g transform=\"translate(0,0)\">  <svg x=\"9.999143662012166%\" y=\"40\" height=\"18\" overflow=\"visible\" width=\"30\">    <path d=\"M 0 -9 l 6 18 L 0 25\" fill=\"none\" style=\"stroke:rgb(255.0, 0.0, 81.08083606031792);stroke-width:2\" />  </svg></g><g transform=\"translate(2,0)\">  <svg x=\"9.999143662012166%\" y=\"40\" height=\"18\" overflow=\"visible\" width=\"30\">    <path d=\"M 0 -9 l 6 18 L 0 25\" fill=\"none\" style=\"stroke:rgb(255.0, 0.0, 81.08083606031792);stroke-width:2\" />  </svg></g><g transform=\"translate(4,0)\">  <svg x=\"9.999143662012166%\" y=\"40\" height=\"18\" overflow=\"visible\" width=\"30\">    <path d=\"M 0 -9 l 6 18 L 0 25\" fill=\"none\" style=\"stroke:rgb(255.0, 0.0, 81.08083606031792);stroke-width:2\" />  </svg></g><g transform=\"translate(6,0)\">  <svg x=\"9.999143662012166%\" y=\"40\" height=\"18\" overflow=\"visible\" width=\"30\">    <path d=\"M 0 -9 l 6 18 L 0 25\" fill=\"none\" style=\"stroke:rgb(255.0, 0.0, 81.08083606031792);stroke-width:2\" />  </svg></g><g transform=\"translate(-8,0)\">  <svg x=\"9.999143662012166%\" y=\"40\" height=\"18\" overflow=\"visible\" width=\"30\">    <path d=\"M 0 -9 l 6 18 L 0 25\" fill=\"none\" style=\"stroke:rgb(255.0, 0.0, 81.08083606031792);stroke-width:2\" />  </svg></g><g transform=\"translate(-6,0)\">  <svg x=\"9.999143662012166%\" y=\"40\" height=\"18\" overflow=\"visible\" width=\"30\">    <path d=\"M 0 -9 l 6 18 L 0 25\" fill=\"none\" style=\"stroke:rgb(255.0, 0.0, 81.08083606031792);stroke-width:2\" />  </svg></g><g transform=\"translate(-4,0)\">  <svg x=\"9.999143662012166%\" y=\"40\" height=\"18\" overflow=\"visible\" width=\"30\">    <path d=\"M 0 -9 l 6 18 L 0 25\" fill=\"none\" style=\"stroke:rgb(255.0, 0.0, 81.08083606031792);stroke-width:2\" />  </svg></g><g transform=\"translate(-2,0)\">  <svg x=\"9.999143662012166%\" y=\"40\" height=\"18\" overflow=\"visible\" width=\"30\">    <path d=\"M 0 -9 l 6 18 L 0 25\" fill=\"none\" style=\"stroke:rgb(255.0, 0.0, 81.08083606031792);stroke-width:2\" />  </svg></g><rect transform=\"translate(-8,0)\" x=\"85.34705079234921%\" y=\"40\" width=\"8\" height=\"18\" style=\"fill:rgb(255.0, 0.0, 81.08083606031792)\"/><g transform=\"translate(-11.5,0)\">  <svg x=\"8.333333250075833%\" y=\"40\" height=\"18\" overflow=\"visible\" width=\"30\">    <path d=\"M 10 -9 l 6 18 L 10 25 L 0 25 L 0 -9\" fill=\"#ffffff\" style=\"stroke:rgb(255,255,255);stroke-width:2\" />  </svg></g><g transform=\"translate(-1.5,0)\">  <svg x=\"85.34705079234921%\" y=\"40\" height=\"18\" overflow=\"visible\" width=\"30\">    <path d=\"M 0 -9 l 6 18 L 0 25\" fill=\"none\" style=\"stroke:rgb(255, 195, 213);stroke-width:2\" />  </svg></g><rect x=\"58.99780290644048%\" y=\"40\" height=\"20\" width=\"26.34924788590873%\"      onmouseover=\"document.getElementById('_tp_ccryqlfkgszkfipflxyi_ind_0').style.textDecoration = 'underline';document.getElementById('_fs_ccryqlfkgszkfipflxyi_ind_0').style.opacity = 1;document.getElementById('_fb_ccryqlfkgszkfipflxyi_ind_0').style.opacity = 1;\"      onmouseout=\"document.getElementById('_tp_ccryqlfkgszkfipflxyi_ind_0').style.textDecoration = 'none';document.getElementById('_fs_ccryqlfkgszkfipflxyi_ind_0').style.opacity = 0;document.getElementById('_fb_ccryqlfkgszkfipflxyi_ind_0').style.opacity = 0;\" style=\"fill:rgb(0,0,0,0)\" /><g transform=\"translate(-1.5,0)\">  <svg x=\"58.99780290644048%\" y=\"40\" height=\"18\" overflow=\"visible\" width=\"30\">    <path d=\"M 0 -9 l 6 18 L 0 25\" fill=\"none\" style=\"stroke:rgb(255, 195, 213);stroke-width:2\" />  </svg></g><rect x=\"40.67845905494951%\" y=\"40\" height=\"20\" width=\"18.319343851490963%\"      onmouseover=\"document.getElementById('_tp_ccryqlfkgszkfipflxyi_ind_5').style.textDecoration = 'underline';document.getElementById('_fs_ccryqlfkgszkfipflxyi_ind_5').style.opacity = 1;document.getElementById('_fb_ccryqlfkgszkfipflxyi_ind_5').style.opacity = 1;\"      onmouseout=\"document.getElementById('_tp_ccryqlfkgszkfipflxyi_ind_5').style.textDecoration = 'none';document.getElementById('_fs_ccryqlfkgszkfipflxyi_ind_5').style.opacity = 0;document.getElementById('_fb_ccryqlfkgszkfipflxyi_ind_5').style.opacity = 0;\" style=\"fill:rgb(0,0,0,0)\" /><g transform=\"translate(-1.5,0)\">  <svg x=\"40.67845905494951%\" y=\"40\" height=\"18\" overflow=\"visible\" width=\"30\">    <path d=\"M 0 -9 l 6 18 L 0 25\" fill=\"none\" style=\"stroke:rgb(255, 195, 213);stroke-width:2\" />  </svg></g><rect x=\"24.711581721946036%\" y=\"40\" height=\"20\" width=\"15.966877333003477%\"      onmouseover=\"document.getElementById('_tp_ccryqlfkgszkfipflxyi_ind_2').style.textDecoration = 'underline';document.getElementById('_fs_ccryqlfkgszkfipflxyi_ind_2').style.opacity = 1;document.getElementById('_fb_ccryqlfkgszkfipflxyi_ind_2').style.opacity = 1;\"      onmouseout=\"document.getElementById('_tp_ccryqlfkgszkfipflxyi_ind_2').style.textDecoration = 'none';document.getElementById('_fs_ccryqlfkgszkfipflxyi_ind_2').style.opacity = 0;document.getElementById('_fb_ccryqlfkgszkfipflxyi_ind_2').style.opacity = 0;\" style=\"fill:rgb(0,0,0,0)\" /><g transform=\"translate(-1.5,0)\">  <svg x=\"24.711581721946036%\" y=\"40\" height=\"18\" overflow=\"visible\" width=\"30\">    <path d=\"M 0 -9 l 6 18 L 0 25\" fill=\"none\" style=\"stroke:rgb(255, 195, 213);stroke-width:2\" />  </svg></g><rect x=\"15.903095199972974%\" y=\"40\" height=\"20\" width=\"8.808486521973062%\"      onmouseover=\"document.getElementById('_tp_ccryqlfkgszkfipflxyi_ind_1').style.textDecoration = 'underline';document.getElementById('_fs_ccryqlfkgszkfipflxyi_ind_1').style.opacity = 1;document.getElementById('_fb_ccryqlfkgszkfipflxyi_ind_1').style.opacity = 1;\"      onmouseout=\"document.getElementById('_tp_ccryqlfkgszkfipflxyi_ind_1').style.textDecoration = 'none';document.getElementById('_fs_ccryqlfkgszkfipflxyi_ind_1').style.opacity = 0;document.getElementById('_fb_ccryqlfkgszkfipflxyi_ind_1').style.opacity = 0;\" style=\"fill:rgb(0,0,0,0)\" /><g transform=\"translate(-1.5,0)\">  <svg x=\"15.903095199972974%\" y=\"40\" height=\"18\" overflow=\"visible\" width=\"30\">    <path d=\"M 0 -9 l 6 18 L 0 25\" fill=\"none\" style=\"stroke:rgb(255, 195, 213);stroke-width:2\" />  </svg></g><rect x=\"9.999143662012166%\" y=\"40\" height=\"20\" width=\"5.903951537960808%\"      onmouseover=\"document.getElementById('_tp_ccryqlfkgszkfipflxyi_ind_4').style.textDecoration = 'underline';document.getElementById('_fs_ccryqlfkgszkfipflxyi_ind_4').style.opacity = 1;document.getElementById('_fb_ccryqlfkgszkfipflxyi_ind_4').style.opacity = 1;\"      onmouseout=\"document.getElementById('_tp_ccryqlfkgszkfipflxyi_ind_4').style.textDecoration = 'none';document.getElementById('_fs_ccryqlfkgszkfipflxyi_ind_4').style.opacity = 0;document.getElementById('_fb_ccryqlfkgszkfipflxyi_ind_4').style.opacity = 0;\" style=\"fill:rgb(0,0,0,0)\" /><rect x=\"8.333333250075833%\" y=\"40\" height=\"20\" width=\"1.6658104119363326%\"      onmouseover=\"document.getElementById('_tp_ccryqlfkgszkfipflxyi_ind_3').style.textDecoration = 'underline';document.getElementById('_fs_ccryqlfkgszkfipflxyi_ind_3').style.opacity = 1;document.getElementById('_fb_ccryqlfkgszkfipflxyi_ind_3').style.opacity = 1;\"      onmouseout=\"document.getElementById('_tp_ccryqlfkgszkfipflxyi_ind_3').style.textDecoration = 'none';document.getElementById('_fs_ccryqlfkgszkfipflxyi_ind_3').style.opacity = 0;document.getElementById('_fb_ccryqlfkgszkfipflxyi_ind_3').style.opacity = 0;\" style=\"fill:rgb(0,0,0,0)\" /><rect x=\"85.34705079234921%\" width=\"6.3196149584849435%\" y=\"40\" height=\"18\" style=\"fill:rgb(0.0, 138.56128015770727, 250.76166088685727); stroke-width:0; stroke:rgb(0,0,0)\" /><line x1=\"85.34705079234921%\" x2=\"91.66666575083414%\" y1=\"60\" y2=\"60\" id=\"_fb_ccryqlfkgszkfipflxyi_ind_6\" style=\"stroke:rgb(0.0, 138.56128015770727, 250.76166088685727);stroke-width:2; opacity: 0\"/><text x=\"88.50685827159168%\" y=\"71\" font-size=\"12px\" fill=\"rgb(0.0, 138.56128015770727, 250.76166088685727)\" id=\"_fs_ccryqlfkgszkfipflxyi_ind_6\" style=\"opacity: 0\" dominant-baseline=\"middle\" text-anchor=\"middle\">-0.063</text><svg x=\"85.34705079234921%\" y=\"40\" height=\"20\" width=\"6.319614958484934%\">  <svg x=\"0\" y=\"0\" width=\"100%\" height=\"100%\">    <text x=\"50%\" y=\"9\" font-size=\"12px\" fill=\"rgb(255,255,255)\" dominant-baseline=\"middle\" text-anchor=\"middle\"></text>  </svg></svg><rect transform=\"translate(0,0)\" x=\"85.34705079234921%\" y=\"40\" width=\"8\" height=\"18\" style=\"fill:rgb(0.0, 138.56128015770727, 250.76166088685727)\"/><g transform=\"translate(-6.0,0)\">  <svg x=\"91.66666575083414%\" y=\"40\" height=\"18\" overflow=\"visible\" width=\"30\">    <path d=\"M 8 -9 l -6 18 L 8 25 L 20 25 L 20 -9\" fill=\"#ffffff\" style=\"stroke:rgb(255,255,255);stroke-width:2\" />  </svg></g><rect x=\"85.34705079234921%\" y=\"40\" height=\"20\" width=\"6.319614958484934%\"      onmouseover=\"document.getElementById('_tp_ccryqlfkgszkfipflxyi_ind_6').style.textDecoration = 'underline';document.getElementById('_fs_ccryqlfkgszkfipflxyi_ind_6').style.opacity = 1;document.getElementById('_fb_ccryqlfkgszkfipflxyi_ind_6').style.opacity = 1;\"      onmouseout=\"document.getElementById('_tp_ccryqlfkgszkfipflxyi_ind_6').style.textDecoration = 'none';document.getElementById('_fs_ccryqlfkgszkfipflxyi_ind_6').style.opacity = 0;document.getElementById('_fb_ccryqlfkgszkfipflxyi_ind_6').style.opacity = 0;\" style=\"fill:rgb(0,0,0,0)\" /></svg><div align='center'><div style=\"color: rgb(120,120,120); font-size: 12px; margin-top: -15px;\">inputs</div><div style='display: inline; text-align: center;'\n",
       "    ><div style='display: none; color: #999; padding-top: 0px; font-size: 12px;'>0.264</div\n",
       "        ><div id='_tp_ccryqlfkgszkfipflxyi_ind_0'\n",
       "            style='display: inline; background: rgba(255.0, 13.0, 87.0, 1.0); border-radius: 3px; padding: 0px'\n",
       "            onclick=\"\n",
       "            if (this.previousSibling.style.display == 'none') {\n",
       "                this.previousSibling.style.display = 'block';\n",
       "                this.parentNode.style.display = 'inline-block';\n",
       "            } else {\n",
       "                this.previousSibling.style.display = 'none';\n",
       "                this.parentNode.style.display = 'inline';\n",
       "            }\"\n",
       "            onmouseover=\"document.getElementById('_fb_ccryqlfkgszkfipflxyi_ind_0').style.opacity = 1; document.getElementById('_fs_ccryqlfkgszkfipflxyi_ind_0').style.opacity = 1;\"\n",
       "            onmouseout=\"document.getElementById('_fb_ccryqlfkgszkfipflxyi_ind_0').style.opacity = 0; document.getElementById('_fs_ccryqlfkgszkfipflxyi_ind_0').style.opacity = 0;\"\n",
       "        ></div></div><div style='display: inline; text-align: center;'\n",
       "    ><div style='display: none; color: #999; padding-top: 0px; font-size: 12px;'>0.088</div\n",
       "        ><div id='_tp_ccryqlfkgszkfipflxyi_ind_1'\n",
       "            style='display: inline; background: rgba(255.0, 13.0, 87.0, 0.3299663299663301); border-radius: 3px; padding: 0px'\n",
       "            onclick=\"\n",
       "            if (this.previousSibling.style.display == 'none') {\n",
       "                this.previousSibling.style.display = 'block';\n",
       "                this.parentNode.style.display = 'inline-block';\n",
       "            } else {\n",
       "                this.previousSibling.style.display = 'none';\n",
       "                this.parentNode.style.display = 'inline';\n",
       "            }\"\n",
       "            onmouseover=\"document.getElementById('_fb_ccryqlfkgszkfipflxyi_ind_1').style.opacity = 1; document.getElementById('_fs_ccryqlfkgszkfipflxyi_ind_1').style.opacity = 1;\"\n",
       "            onmouseout=\"document.getElementById('_fb_ccryqlfkgszkfipflxyi_ind_1').style.opacity = 0; document.getElementById('_fs_ccryqlfkgszkfipflxyi_ind_1').style.opacity = 0;\"\n",
       "        >I </div></div><div style='display: inline; text-align: center;'\n",
       "    ><div style='display: none; color: #999; padding-top: 0px; font-size: 12px;'>0.16</div\n",
       "        ><div id='_tp_ccryqlfkgszkfipflxyi_ind_2'\n",
       "            style='display: inline; background: rgba(255.0, 13.0, 87.0, 0.6058625470390177); border-radius: 3px; padding: 0px'\n",
       "            onclick=\"\n",
       "            if (this.previousSibling.style.display == 'none') {\n",
       "                this.previousSibling.style.display = 'block';\n",
       "                this.parentNode.style.display = 'inline-block';\n",
       "            } else {\n",
       "                this.previousSibling.style.display = 'none';\n",
       "                this.parentNode.style.display = 'inline';\n",
       "            }\"\n",
       "            onmouseover=\"document.getElementById('_fb_ccryqlfkgszkfipflxyi_ind_2').style.opacity = 1; document.getElementById('_fs_ccryqlfkgszkfipflxyi_ind_2').style.opacity = 1;\"\n",
       "            onmouseout=\"document.getElementById('_fb_ccryqlfkgszkfipflxyi_ind_2').style.opacity = 0; document.getElementById('_fs_ccryqlfkgszkfipflxyi_ind_2').style.opacity = 0;\"\n",
       "        >love </div></div><div style='display: inline; text-align: center;'\n",
       "    ><div style='display: none; color: #999; padding-top: 0px; font-size: 12px;'>0.017</div\n",
       "        ><div id='_tp_ccryqlfkgszkfipflxyi_ind_3'\n",
       "            style='display: inline; background: rgba(255.0, 13.0, 87.0, 0.06195286195286207); border-radius: 3px; padding: 0px'\n",
       "            onclick=\"\n",
       "            if (this.previousSibling.style.display == 'none') {\n",
       "                this.previousSibling.style.display = 'block';\n",
       "                this.parentNode.style.display = 'inline-block';\n",
       "            } else {\n",
       "                this.previousSibling.style.display = 'none';\n",
       "                this.parentNode.style.display = 'inline';\n",
       "            }\"\n",
       "            onmouseover=\"document.getElementById('_fb_ccryqlfkgszkfipflxyi_ind_3').style.opacity = 1; document.getElementById('_fs_ccryqlfkgszkfipflxyi_ind_3').style.opacity = 1;\"\n",
       "            onmouseout=\"document.getElementById('_fb_ccryqlfkgszkfipflxyi_ind_3').style.opacity = 0; document.getElementById('_fs_ccryqlfkgszkfipflxyi_ind_3').style.opacity = 0;\"\n",
       "        >playing </div></div><div style='display: inline; text-align: center;'\n",
       "    ><div style='display: none; color: #999; padding-top: 0px; font-size: 12px;'>0.059</div\n",
       "        ><div id='_tp_ccryqlfkgszkfipflxyi_ind_4'\n",
       "            style='display: inline; background: rgba(255.0, 13.0, 87.0, 0.219607843137255); border-radius: 3px; padding: 0px'\n",
       "            onclick=\"\n",
       "            if (this.previousSibling.style.display == 'none') {\n",
       "                this.previousSibling.style.display = 'block';\n",
       "                this.parentNode.style.display = 'inline-block';\n",
       "            } else {\n",
       "                this.previousSibling.style.display = 'none';\n",
       "                this.parentNode.style.display = 'inline';\n",
       "            }\"\n",
       "            onmouseover=\"document.getElementById('_fb_ccryqlfkgszkfipflxyi_ind_4').style.opacity = 1; document.getElementById('_fs_ccryqlfkgszkfipflxyi_ind_4').style.opacity = 1;\"\n",
       "            onmouseout=\"document.getElementById('_fb_ccryqlfkgszkfipflxyi_ind_4').style.opacity = 0; document.getElementById('_fs_ccryqlfkgszkfipflxyi_ind_4').style.opacity = 0;\"\n",
       "        >cricket</div></div><div style='display: inline; text-align: center;'\n",
       "    ><div style='display: none; color: #999; padding-top: 0px; font-size: 12px;'>0.183</div\n",
       "        ><div id='_tp_ccryqlfkgszkfipflxyi_ind_5'\n",
       "            style='display: inline; background: rgba(255.0, 13.0, 87.0, 0.6925727866904339); border-radius: 3px; padding: 0px'\n",
       "            onclick=\"\n",
       "            if (this.previousSibling.style.display == 'none') {\n",
       "                this.previousSibling.style.display = 'block';\n",
       "                this.parentNode.style.display = 'inline-block';\n",
       "            } else {\n",
       "                this.previousSibling.style.display = 'none';\n",
       "                this.parentNode.style.display = 'inline';\n",
       "            }\"\n",
       "            onmouseover=\"document.getElementById('_fb_ccryqlfkgszkfipflxyi_ind_5').style.opacity = 1; document.getElementById('_fs_ccryqlfkgszkfipflxyi_ind_5').style.opacity = 1;\"\n",
       "            onmouseout=\"document.getElementById('_fb_ccryqlfkgszkfipflxyi_ind_5').style.opacity = 0; document.getElementById('_fs_ccryqlfkgszkfipflxyi_ind_5').style.opacity = 0;\"\n",
       "        >!</div></div><div style='display: inline; text-align: center;'\n",
       "    ><div style='display: none; color: #999; padding-top: 0px; font-size: 12px;'>-0.063</div\n",
       "        ><div id='_tp_ccryqlfkgszkfipflxyi_ind_6'\n",
       "            style='display: inline; background: rgba(30.0, 136.0, 229.0, 0.23537334125569417); border-radius: 3px; padding: 0px'\n",
       "            onclick=\"\n",
       "            if (this.previousSibling.style.display == 'none') {\n",
       "                this.previousSibling.style.display = 'block';\n",
       "                this.parentNode.style.display = 'inline-block';\n",
       "            } else {\n",
       "                this.previousSibling.style.display = 'none';\n",
       "                this.parentNode.style.display = 'inline';\n",
       "            }\"\n",
       "            onmouseover=\"document.getElementById('_fb_ccryqlfkgszkfipflxyi_ind_6').style.opacity = 1; document.getElementById('_fs_ccryqlfkgszkfipflxyi_ind_6').style.opacity = 1;\"\n",
       "            onmouseout=\"document.getElementById('_fb_ccryqlfkgszkfipflxyi_ind_6').style.opacity = 0; document.getElementById('_fs_ccryqlfkgszkfipflxyi_ind_6').style.opacity = 0;\"\n",
       "        ></div></div></div></div><div id='_tp_iejhwkycugjposzlmgwd_output_2' style='display: none';><svg width=\"100%\" height=\"80px\"><line x1=\"0\" y1=\"33\" x2=\"100%\" y2=\"33\" style=\"stroke:rgb(150,150,150);stroke-width:1\" /><line x1=\"52.0891739055344%\" y1=\"33\" x2=\"52.0891739055344%\" y2=\"37\" style=\"stroke:rgb(150,150,150);stroke-width:1\" /><text x=\"52.0891739055344%\" y=\"27\" font-size=\"12px\" fill=\"rgb(120,120,120)\" dominant-baseline=\"bottom\" text-anchor=\"middle\">0.4</text><line x1=\"35.58968482849444%\" y1=\"33\" x2=\"35.58968482849444%\" y2=\"37\" style=\"stroke:rgb(150,150,150);stroke-width:1\" /><text x=\"35.58968482849444%\" y=\"27\" font-size=\"12px\" fill=\"rgb(120,120,120)\" dominant-baseline=\"bottom\" text-anchor=\"middle\">0.2</text><line x1=\"19.090195751454495%\" y1=\"33\" x2=\"19.090195751454495%\" y2=\"37\" style=\"stroke:rgb(150,150,150);stroke-width:1\" /><text x=\"19.090195751454495%\" y=\"27\" font-size=\"12px\" fill=\"rgb(120,120,120)\" dominant-baseline=\"bottom\" text-anchor=\"middle\">0</text><line x1=\"68.58866298257436%\" y1=\"33\" x2=\"68.58866298257436%\" y2=\"37\" style=\"stroke:rgb(150,150,150);stroke-width:1\" /><text x=\"68.58866298257436%\" y=\"27\" font-size=\"12px\" fill=\"rgb(120,120,120)\" dominant-baseline=\"bottom\" text-anchor=\"middle\">0.6</text><line x1=\"85.08815205961432%\" y1=\"33\" x2=\"85.08815205961432%\" y2=\"37\" style=\"stroke:rgb(150,150,150);stroke-width:1\" /><text x=\"85.08815205961432%\" y=\"27\" font-size=\"12px\" fill=\"rgb(120,120,120)\" dominant-baseline=\"bottom\" text-anchor=\"middle\">0.8</text><line x1=\"75.36389616847376%\" y1=\"33\" x2=\"75.36389616847376%\" y2=\"37\" style=\"stroke:rgb(150,150,150);stroke-width:1\" /><text x=\"75.36389616847376%\" y=\"27\" font-size=\"13px\" style=\"stroke:#ffffff;stroke-width:8px;\" fill=\"rgb(255,255,255)\" dominant-baseline=\"bottom\" text-anchor=\"middle\">0.682127</text><text x=\"75.36389616847376%\" y=\"27\" font-size=\"12px\" fill=\"rgb(120,120,120)\" dominant-baseline=\"bottom\" text-anchor=\"middle\">0.682127</text><text x=\"75.36389616847376%\" y=\"10\" font-size=\"12px\" fill=\"rgb(120,120,120)\" dominant-baseline=\"bottom\" text-anchor=\"middle\">base value</text><line x1=\"19.298960094227443%\" y1=\"33\" x2=\"19.298960094227443%\" y2=\"37\" style=\"stroke:rgb(150,150,150);stroke-width:1\" /><text x=\"19.298960094227443%\" y=\"27\" font-size=\"13px\" style=\"stroke:#ffffff;stroke-width:8px;\" font-weight=\"bold\" fill=\"rgb(255,255,255)\" dominant-baseline=\"bottom\" text-anchor=\"middle\">0.00253056</text><text x=\"19.298960094227443%\" y=\"27\" font-size=\"13px\" font-weight=\"bold\" fill=\"rgb(0,0,0)\" dominant-baseline=\"bottom\" text-anchor=\"middle\">0.00253056</text><text x=\"19.298960094227443%\" y=\"10\" font-size=\"12px\" fill=\"rgb(120,120,120)\" dominant-baseline=\"bottom\" text-anchor=\"middle\">f<tspan baseline-shift=\"sub\" font-size=\"8px\">animal</tspan>(inputs)</text><rect x=\"7.8885713552251016%\" width=\"11.41038873900234%\" y=\"40\" height=\"18\" style=\"fill:rgb(255.0, 0.0, 81.08083606031792); stroke-width:0; stroke:rgb(0,0,0)\" /><line x1=\"10.486625993073945%\" x2=\"19.298960094227443%\" y1=\"60\" y2=\"60\" id=\"_fb_ajgwdragouyzjolbgrga_ind_0\" style=\"stroke:rgb(255.0, 0.0, 81.08083606031792);stroke-width:2; opacity: 0\"/><text x=\"14.892793043650695%\" y=\"71\" font-size=\"12px\" id=\"_fs_ajgwdragouyzjolbgrga_ind_0\" fill=\"rgb(255.0, 0.0, 81.08083606031792)\" style=\"opacity: 0\" dominant-baseline=\"middle\" text-anchor=\"middle\">0.107</text><svg x=\"10.486625993073945%\" y=\"40\" height=\"20\" width=\"8.812334101153498%\">  <svg x=\"0\" y=\"0\" width=\"100%\" height=\"100%\">    <text x=\"50%\" y=\"9\" font-size=\"12px\" fill=\"rgb(255,255,255)\" dominant-baseline=\"middle\" text-anchor=\"middle\"></text>  </svg></svg><line x1=\"7.8885713552251016%\" x2=\"10.486625993073945%\" y1=\"60\" y2=\"60\" id=\"_fb_ajgwdragouyzjolbgrga_ind_2\" style=\"stroke:rgb(255.0, 0.0, 81.08083606031792);stroke-width:2; opacity: 0\"/><text x=\"9.187598674149523%\" y=\"71\" font-size=\"12px\" id=\"_fs_ajgwdragouyzjolbgrga_ind_2\" fill=\"rgb(255.0, 0.0, 81.08083606031792)\" style=\"opacity: 0\" dominant-baseline=\"middle\" text-anchor=\"middle\">0.031</text><svg x=\"7.8885713552251016%\" y=\"40\" height=\"20\" width=\"2.5980546378488434%\">  <svg x=\"0\" y=\"0\" width=\"100%\" height=\"100%\">    <text x=\"50%\" y=\"9\" font-size=\"12px\" fill=\"rgb(255,255,255)\" dominant-baseline=\"middle\" text-anchor=\"middle\">love</text>  </svg></svg><g transform=\"translate(0,0)\">  <svg x=\"10.486625993073945%\" y=\"40\" height=\"18\" overflow=\"visible\" width=\"30\">    <path d=\"M 0 -9 l 6 18 L 0 25\" fill=\"none\" style=\"stroke:rgb(255.0, 0.0, 81.08083606031792);stroke-width:2\" />  </svg></g><g transform=\"translate(2,0)\">  <svg x=\"10.486625993073945%\" y=\"40\" height=\"18\" overflow=\"visible\" width=\"30\">    <path d=\"M 0 -9 l 6 18 L 0 25\" fill=\"none\" style=\"stroke:rgb(255.0, 0.0, 81.08083606031792);stroke-width:2\" />  </svg></g><g transform=\"translate(4,0)\">  <svg x=\"10.486625993073945%\" y=\"40\" height=\"18\" overflow=\"visible\" width=\"30\">    <path d=\"M 0 -9 l 6 18 L 0 25\" fill=\"none\" style=\"stroke:rgb(255.0, 0.0, 81.08083606031792);stroke-width:2\" />  </svg></g><g transform=\"translate(6,0)\">  <svg x=\"10.486625993073945%\" y=\"40\" height=\"18\" overflow=\"visible\" width=\"30\">    <path d=\"M 0 -9 l 6 18 L 0 25\" fill=\"none\" style=\"stroke:rgb(255.0, 0.0, 81.08083606031792);stroke-width:2\" />  </svg></g><g transform=\"translate(-8,0)\">  <svg x=\"10.486625993073945%\" y=\"40\" height=\"18\" overflow=\"visible\" width=\"30\">    <path d=\"M 0 -9 l 6 18 L 0 25\" fill=\"none\" style=\"stroke:rgb(255.0, 0.0, 81.08083606031792);stroke-width:2\" />  </svg></g><g transform=\"translate(-6,0)\">  <svg x=\"10.486625993073945%\" y=\"40\" height=\"18\" overflow=\"visible\" width=\"30\">    <path d=\"M 0 -9 l 6 18 L 0 25\" fill=\"none\" style=\"stroke:rgb(255.0, 0.0, 81.08083606031792);stroke-width:2\" />  </svg></g><g transform=\"translate(-4,0)\">  <svg x=\"10.486625993073945%\" y=\"40\" height=\"18\" overflow=\"visible\" width=\"30\">    <path d=\"M 0 -9 l 6 18 L 0 25\" fill=\"none\" style=\"stroke:rgb(255.0, 0.0, 81.08083606031792);stroke-width:2\" />  </svg></g><g transform=\"translate(-2,0)\">  <svg x=\"10.486625993073945%\" y=\"40\" height=\"18\" overflow=\"visible\" width=\"30\">    <path d=\"M 0 -9 l 6 18 L 0 25\" fill=\"none\" style=\"stroke:rgb(255.0, 0.0, 81.08083606031792);stroke-width:2\" />  </svg></g><rect transform=\"translate(-8,0)\" x=\"19.298960094227443%\" y=\"40\" width=\"8\" height=\"18\" style=\"fill:rgb(255.0, 0.0, 81.08083606031792)\"/><g transform=\"translate(-11.5,0)\">  <svg x=\"7.8885713552251016%\" y=\"40\" height=\"18\" overflow=\"visible\" width=\"30\">    <path d=\"M 10 -9 l 6 18 L 10 25 L 0 25 L 0 -9\" fill=\"#ffffff\" style=\"stroke:rgb(255,255,255);stroke-width:2\" />  </svg></g><g transform=\"translate(-1.5,0)\">  <svg x=\"19.298960094227443%\" y=\"40\" height=\"18\" overflow=\"visible\" width=\"30\">    <path d=\"M 0 -9 l 6 18 L 0 25\" fill=\"none\" style=\"stroke:rgb(255, 195, 213);stroke-width:2\" />  </svg></g><rect x=\"10.486625993073945%\" y=\"40\" height=\"20\" width=\"8.812334101153498%\"      onmouseover=\"document.getElementById('_tp_ajgwdragouyzjolbgrga_ind_0').style.textDecoration = 'underline';document.getElementById('_fs_ajgwdragouyzjolbgrga_ind_0').style.opacity = 1;document.getElementById('_fb_ajgwdragouyzjolbgrga_ind_0').style.opacity = 1;\"      onmouseout=\"document.getElementById('_tp_ajgwdragouyzjolbgrga_ind_0').style.textDecoration = 'none';document.getElementById('_fs_ajgwdragouyzjolbgrga_ind_0').style.opacity = 0;document.getElementById('_fb_ajgwdragouyzjolbgrga_ind_0').style.opacity = 0;\" style=\"fill:rgb(0,0,0,0)\" /><rect x=\"7.8885713552251016%\" y=\"40\" height=\"20\" width=\"2.5980546378488434%\"      onmouseover=\"document.getElementById('_tp_ajgwdragouyzjolbgrga_ind_2').style.textDecoration = 'underline';document.getElementById('_fs_ajgwdragouyzjolbgrga_ind_2').style.opacity = 1;document.getElementById('_fb_ajgwdragouyzjolbgrga_ind_2').style.opacity = 1;\"      onmouseout=\"document.getElementById('_tp_ajgwdragouyzjolbgrga_ind_2').style.textDecoration = 'none';document.getElementById('_fs_ajgwdragouyzjolbgrga_ind_2').style.opacity = 0;document.getElementById('_fb_ajgwdragouyzjolbgrga_ind_2').style.opacity = 0;\" style=\"fill:rgb(0,0,0,0)\" /><rect x=\"19.298960094227443%\" width=\"67.47532481324866%\" y=\"40\" height=\"18\" style=\"fill:rgb(0.0, 138.56128015770727, 250.76166088685727); stroke-width:0; stroke:rgb(0,0,0)\" /><line x1=\"19.298960094227443%\" x2=\"47.435810302737075%\" y1=\"60\" y2=\"60\" id=\"_fb_ajgwdragouyzjolbgrga_ind_6\" style=\"stroke:rgb(0.0, 138.56128015770727, 250.76166088685727);stroke-width:2; opacity: 0\"/><text x=\"33.36738519848226%\" y=\"71\" font-size=\"12px\" fill=\"rgb(0.0, 138.56128015770727, 250.76166088685727)\" id=\"_fs_ajgwdragouyzjolbgrga_ind_6\" style=\"opacity: 0\" dominant-baseline=\"middle\" text-anchor=\"middle\">-0.341</text><svg x=\"19.298960094227443%\" y=\"40\" height=\"20\" width=\"28.13685020850963%\">  <svg x=\"0\" y=\"0\" width=\"100%\" height=\"100%\">    <text x=\"50%\" y=\"9\" font-size=\"12px\" fill=\"rgb(255,255,255)\" dominant-baseline=\"middle\" text-anchor=\"middle\"></text>  </svg></svg><line x1=\"47.435810302737075%\" x2=\"61.45857789020969%\" y1=\"60\" y2=\"60\" id=\"_fb_ajgwdragouyzjolbgrga_ind_5\" style=\"stroke:rgb(0.0, 138.56128015770727, 250.76166088685727);stroke-width:2; opacity: 0\"/><text x=\"54.44719409647338%\" y=\"71\" font-size=\"12px\" fill=\"rgb(0.0, 138.56128015770727, 250.76166088685727)\" id=\"_fs_ajgwdragouyzjolbgrga_ind_5\" style=\"opacity: 0\" dominant-baseline=\"middle\" text-anchor=\"middle\">-0.17</text><svg x=\"47.435810302737075%\" y=\"40\" height=\"20\" width=\"14.022767587472615%\">  <svg x=\"0\" y=\"0\" width=\"100%\" height=\"100%\">    <text x=\"50%\" y=\"9\" font-size=\"12px\" fill=\"rgb(255,255,255)\" dominant-baseline=\"middle\" text-anchor=\"middle\">!</text>  </svg></svg><line x1=\"61.45857789020969%\" x2=\"73.3744688834221%\" y1=\"60\" y2=\"60\" id=\"_fb_ajgwdragouyzjolbgrga_ind_3\" style=\"stroke:rgb(0.0, 138.56128015770727, 250.76166088685727);stroke-width:2; opacity: 0\"/><text x=\"67.4165233868159%\" y=\"71\" font-size=\"12px\" fill=\"rgb(0.0, 138.56128015770727, 250.76166088685727)\" id=\"_fs_ajgwdragouyzjolbgrga_ind_3\" style=\"opacity: 0\" dominant-baseline=\"middle\" text-anchor=\"middle\">-0.144</text><svg x=\"61.45857789020969%\" y=\"40\" height=\"20\" width=\"11.915890993212408%\">  <svg x=\"0\" y=\"0\" width=\"100%\" height=\"100%\">    <text x=\"50%\" y=\"9\" font-size=\"12px\" fill=\"rgb(255,255,255)\" dominant-baseline=\"middle\" text-anchor=\"middle\">playing</text>  </svg></svg><line x1=\"73.3744688834221%\" x2=\"83.18109716245307%\" y1=\"60\" y2=\"60\" id=\"_fb_ajgwdragouyzjolbgrga_ind_4\" style=\"stroke:rgb(0.0, 138.56128015770727, 250.76166088685727);stroke-width:2; opacity: 0\"/><text x=\"78.27778302293758%\" y=\"71\" font-size=\"12px\" fill=\"rgb(0.0, 138.56128015770727, 250.76166088685727)\" id=\"_fs_ajgwdragouyzjolbgrga_ind_4\" style=\"opacity: 0\" dominant-baseline=\"middle\" text-anchor=\"middle\">-0.119</text><svg x=\"73.3744688834221%\" y=\"40\" height=\"20\" width=\"9.806628279030974%\">  <svg x=\"0\" y=\"0\" width=\"100%\" height=\"100%\">    <text x=\"50%\" y=\"9\" font-size=\"12px\" fill=\"rgb(255,255,255)\" dominant-baseline=\"middle\" text-anchor=\"middle\">cricket</text>  </svg></svg><line x1=\"83.18109716245307%\" x2=\"86.77428490747609%\" y1=\"60\" y2=\"60\" id=\"_fb_ajgwdragouyzjolbgrga_ind_1\" style=\"stroke:rgb(0.0, 138.56128015770727, 250.76166088685727);stroke-width:2; opacity: 0\"/><text x=\"84.97769103496458%\" y=\"71\" font-size=\"12px\" fill=\"rgb(0.0, 138.56128015770727, 250.76166088685727)\" id=\"_fs_ajgwdragouyzjolbgrga_ind_1\" style=\"opacity: 0\" dominant-baseline=\"middle\" text-anchor=\"middle\">-0.044</text><svg x=\"83.18109716245307%\" y=\"40\" height=\"20\" width=\"3.593187745023016%\">  <svg x=\"0\" y=\"0\" width=\"100%\" height=\"100%\">    <text x=\"50%\" y=\"9\" font-size=\"12px\" fill=\"rgb(255,255,255)\" dominant-baseline=\"middle\" text-anchor=\"middle\">I</text>  </svg></svg><g transform=\"translate(-8,0)\">  <svg x=\"47.435810302737075%\" y=\"40\" height=\"18\" overflow=\"visible\" width=\"30\">    <path d=\"M 8 -9 l -6 18 L 8 25\" fill=\"none\" style=\"stroke:rgb(0.0, 138.56128015770727, 250.76166088685727);stroke-width:2\" />  </svg></g><g transform=\"translate(-10,0)\">  <svg x=\"47.435810302737075%\" y=\"40\" height=\"18\" overflow=\"visible\" width=\"30\">    <path d=\"M 8 -9 l -6 18 L 8 25\" fill=\"none\" style=\"stroke:rgb(0.0, 138.56128015770727, 250.76166088685727);stroke-width:2\" />  </svg></g><g transform=\"translate(-12,0)\">  <svg x=\"47.435810302737075%\" y=\"40\" height=\"18\" overflow=\"visible\" width=\"30\">    <path d=\"M 8 -9 l -6 18 L 8 25\" fill=\"none\" style=\"stroke:rgb(0.0, 138.56128015770727, 250.76166088685727);stroke-width:2\" />  </svg></g><g transform=\"translate(-14,0)\">  <svg x=\"47.435810302737075%\" y=\"40\" height=\"18\" overflow=\"visible\" width=\"30\">    <path d=\"M 8 -9 l -6 18 L 8 25\" fill=\"none\" style=\"stroke:rgb(0.0, 138.56128015770727, 250.76166088685727);stroke-width:2\" />  </svg></g><g transform=\"translate(2,0)\">  <svg x=\"47.435810302737075%\" y=\"40\" height=\"18\" overflow=\"visible\" width=\"30\">    <path d=\"M 8 -9 l -6 18 L 8 25\" fill=\"none\" style=\"stroke:rgb(0.0, 138.56128015770727, 250.76166088685727);stroke-width:2\" />  </svg></g><g transform=\"translate(0,0)\">  <svg x=\"47.435810302737075%\" y=\"40\" height=\"18\" overflow=\"visible\" width=\"30\">    <path d=\"M 8 -9 l -6 18 L 8 25\" fill=\"none\" style=\"stroke:rgb(0.0, 138.56128015770727, 250.76166088685727);stroke-width:2\" />  </svg></g><g transform=\"translate(-2,0)\">  <svg x=\"47.435810302737075%\" y=\"40\" height=\"18\" overflow=\"visible\" width=\"30\">    <path d=\"M 8 -9 l -6 18 L 8 25\" fill=\"none\" style=\"stroke:rgb(0.0, 138.56128015770727, 250.76166088685727);stroke-width:2\" />  </svg></g><g transform=\"translate(-4,0)\">  <svg x=\"47.435810302737075%\" y=\"40\" height=\"18\" overflow=\"visible\" width=\"30\">    <path d=\"M 8 -9 l -6 18 L 8 25\" fill=\"none\" style=\"stroke:rgb(0.0, 138.56128015770727, 250.76166088685727);stroke-width:2\" />  </svg></g><g transform=\"translate(-8,0)\">  <svg x=\"61.45857789020969%\" y=\"40\" height=\"18\" overflow=\"visible\" width=\"30\">    <path d=\"M 8 -9 l -6 18 L 8 25\" fill=\"none\" style=\"stroke:rgb(0.0, 138.56128015770727, 250.76166088685727);stroke-width:2\" />  </svg></g><g transform=\"translate(-10,0)\">  <svg x=\"61.45857789020969%\" y=\"40\" height=\"18\" overflow=\"visible\" width=\"30\">    <path d=\"M 8 -9 l -6 18 L 8 25\" fill=\"none\" style=\"stroke:rgb(0.0, 138.56128015770727, 250.76166088685727);stroke-width:2\" />  </svg></g><g transform=\"translate(-12,0)\">  <svg x=\"61.45857789020969%\" y=\"40\" height=\"18\" overflow=\"visible\" width=\"30\">    <path d=\"M 8 -9 l -6 18 L 8 25\" fill=\"none\" style=\"stroke:rgb(0.0, 138.56128015770727, 250.76166088685727);stroke-width:2\" />  </svg></g><g transform=\"translate(-14,0)\">  <svg x=\"61.45857789020969%\" y=\"40\" height=\"18\" overflow=\"visible\" width=\"30\">    <path d=\"M 8 -9 l -6 18 L 8 25\" fill=\"none\" style=\"stroke:rgb(0.0, 138.56128015770727, 250.76166088685727);stroke-width:2\" />  </svg></g><g transform=\"translate(2,0)\">  <svg x=\"61.45857789020969%\" y=\"40\" height=\"18\" overflow=\"visible\" width=\"30\">    <path d=\"M 8 -9 l -6 18 L 8 25\" fill=\"none\" style=\"stroke:rgb(0.0, 138.56128015770727, 250.76166088685727);stroke-width:2\" />  </svg></g><g transform=\"translate(0,0)\">  <svg x=\"61.45857789020969%\" y=\"40\" height=\"18\" overflow=\"visible\" width=\"30\">    <path d=\"M 8 -9 l -6 18 L 8 25\" fill=\"none\" style=\"stroke:rgb(0.0, 138.56128015770727, 250.76166088685727);stroke-width:2\" />  </svg></g><g transform=\"translate(-2,0)\">  <svg x=\"61.45857789020969%\" y=\"40\" height=\"18\" overflow=\"visible\" width=\"30\">    <path d=\"M 8 -9 l -6 18 L 8 25\" fill=\"none\" style=\"stroke:rgb(0.0, 138.56128015770727, 250.76166088685727);stroke-width:2\" />  </svg></g><g transform=\"translate(-4,0)\">  <svg x=\"61.45857789020969%\" y=\"40\" height=\"18\" overflow=\"visible\" width=\"30\">    <path d=\"M 8 -9 l -6 18 L 8 25\" fill=\"none\" style=\"stroke:rgb(0.0, 138.56128015770727, 250.76166088685727);stroke-width:2\" />  </svg></g><g transform=\"translate(-8,0)\">  <svg x=\"73.3744688834221%\" y=\"40\" height=\"18\" overflow=\"visible\" width=\"30\">    <path d=\"M 8 -9 l -6 18 L 8 25\" fill=\"none\" style=\"stroke:rgb(0.0, 138.56128015770727, 250.76166088685727);stroke-width:2\" />  </svg></g><g transform=\"translate(-10,0)\">  <svg x=\"73.3744688834221%\" y=\"40\" height=\"18\" overflow=\"visible\" width=\"30\">    <path d=\"M 8 -9 l -6 18 L 8 25\" fill=\"none\" style=\"stroke:rgb(0.0, 138.56128015770727, 250.76166088685727);stroke-width:2\" />  </svg></g><g transform=\"translate(-12,0)\">  <svg x=\"73.3744688834221%\" y=\"40\" height=\"18\" overflow=\"visible\" width=\"30\">    <path d=\"M 8 -9 l -6 18 L 8 25\" fill=\"none\" style=\"stroke:rgb(0.0, 138.56128015770727, 250.76166088685727);stroke-width:2\" />  </svg></g><g transform=\"translate(-14,0)\">  <svg x=\"73.3744688834221%\" y=\"40\" height=\"18\" overflow=\"visible\" width=\"30\">    <path d=\"M 8 -9 l -6 18 L 8 25\" fill=\"none\" style=\"stroke:rgb(0.0, 138.56128015770727, 250.76166088685727);stroke-width:2\" />  </svg></g><g transform=\"translate(2,0)\">  <svg x=\"73.3744688834221%\" y=\"40\" height=\"18\" overflow=\"visible\" width=\"30\">    <path d=\"M 8 -9 l -6 18 L 8 25\" fill=\"none\" style=\"stroke:rgb(0.0, 138.56128015770727, 250.76166088685727);stroke-width:2\" />  </svg></g><g transform=\"translate(0,0)\">  <svg x=\"73.3744688834221%\" y=\"40\" height=\"18\" overflow=\"visible\" width=\"30\">    <path d=\"M 8 -9 l -6 18 L 8 25\" fill=\"none\" style=\"stroke:rgb(0.0, 138.56128015770727, 250.76166088685727);stroke-width:2\" />  </svg></g><g transform=\"translate(-2,0)\">  <svg x=\"73.3744688834221%\" y=\"40\" height=\"18\" overflow=\"visible\" width=\"30\">    <path d=\"M 8 -9 l -6 18 L 8 25\" fill=\"none\" style=\"stroke:rgb(0.0, 138.56128015770727, 250.76166088685727);stroke-width:2\" />  </svg></g><g transform=\"translate(-4,0)\">  <svg x=\"73.3744688834221%\" y=\"40\" height=\"18\" overflow=\"visible\" width=\"30\">    <path d=\"M 8 -9 l -6 18 L 8 25\" fill=\"none\" style=\"stroke:rgb(0.0, 138.56128015770727, 250.76166088685727);stroke-width:2\" />  </svg></g><g transform=\"translate(-8,0)\">  <svg x=\"83.18109716245307%\" y=\"40\" height=\"18\" overflow=\"visible\" width=\"30\">    <path d=\"M 8 -9 l -6 18 L 8 25\" fill=\"none\" style=\"stroke:rgb(0.0, 138.56128015770727, 250.76166088685727);stroke-width:2\" />  </svg></g><g transform=\"translate(-10,0)\">  <svg x=\"83.18109716245307%\" y=\"40\" height=\"18\" overflow=\"visible\" width=\"30\">    <path d=\"M 8 -9 l -6 18 L 8 25\" fill=\"none\" style=\"stroke:rgb(0.0, 138.56128015770727, 250.76166088685727);stroke-width:2\" />  </svg></g><g transform=\"translate(-12,0)\">  <svg x=\"83.18109716245307%\" y=\"40\" height=\"18\" overflow=\"visible\" width=\"30\">    <path d=\"M 8 -9 l -6 18 L 8 25\" fill=\"none\" style=\"stroke:rgb(0.0, 138.56128015770727, 250.76166088685727);stroke-width:2\" />  </svg></g><g transform=\"translate(-14,0)\">  <svg x=\"83.18109716245307%\" y=\"40\" height=\"18\" overflow=\"visible\" width=\"30\">    <path d=\"M 8 -9 l -6 18 L 8 25\" fill=\"none\" style=\"stroke:rgb(0.0, 138.56128015770727, 250.76166088685727);stroke-width:2\" />  </svg></g><g transform=\"translate(2,0)\">  <svg x=\"83.18109716245307%\" y=\"40\" height=\"18\" overflow=\"visible\" width=\"30\">    <path d=\"M 8 -9 l -6 18 L 8 25\" fill=\"none\" style=\"stroke:rgb(0.0, 138.56128015770727, 250.76166088685727);stroke-width:2\" />  </svg></g><g transform=\"translate(0,0)\">  <svg x=\"83.18109716245307%\" y=\"40\" height=\"18\" overflow=\"visible\" width=\"30\">    <path d=\"M 8 -9 l -6 18 L 8 25\" fill=\"none\" style=\"stroke:rgb(0.0, 138.56128015770727, 250.76166088685727);stroke-width:2\" />  </svg></g><g transform=\"translate(-2,0)\">  <svg x=\"83.18109716245307%\" y=\"40\" height=\"18\" overflow=\"visible\" width=\"30\">    <path d=\"M 8 -9 l -6 18 L 8 25\" fill=\"none\" style=\"stroke:rgb(0.0, 138.56128015770727, 250.76166088685727);stroke-width:2\" />  </svg></g><g transform=\"translate(-4,0)\">  <svg x=\"83.18109716245307%\" y=\"40\" height=\"18\" overflow=\"visible\" width=\"30\">    <path d=\"M 8 -9 l -6 18 L 8 25\" fill=\"none\" style=\"stroke:rgb(0.0, 138.56128015770727, 250.76166088685727);stroke-width:2\" />  </svg></g><rect transform=\"translate(0,0)\" x=\"19.298960094227443%\" y=\"40\" width=\"8\" height=\"18\" style=\"fill:rgb(0.0, 138.56128015770727, 250.76166088685727)\"/><g transform=\"translate(-6.0,0)\">  <svg x=\"86.77428490747609%\" y=\"40\" height=\"18\" overflow=\"visible\" width=\"30\">    <path d=\"M 8 -9 l -6 18 L 8 25 L 20 25 L 20 -9\" fill=\"#ffffff\" style=\"stroke:rgb(255,255,255);stroke-width:2\" />  </svg></g><g transform=\"translate(-6.0,0)\">  <svg x=\"47.435810302737075%\" y=\"40\" height=\"18\" overflow=\"visible\" width=\"30\">    <path d=\"M 8 -9 l -6 18 L 8 25\" fill=\"none\" style=\"stroke:rgb(208, 230, 250);stroke-width:2\" />  </svg></g><rect x=\"19.298960094227443%\" y=\"40\" height=\"20\" width=\"28.13685020850963%\"      onmouseover=\"document.getElementById('_tp_ajgwdragouyzjolbgrga_ind_6').style.textDecoration = 'underline';document.getElementById('_fs_ajgwdragouyzjolbgrga_ind_6').style.opacity = 1;document.getElementById('_fb_ajgwdragouyzjolbgrga_ind_6').style.opacity = 1;\"      onmouseout=\"document.getElementById('_tp_ajgwdragouyzjolbgrga_ind_6').style.textDecoration = 'none';document.getElementById('_fs_ajgwdragouyzjolbgrga_ind_6').style.opacity = 0;document.getElementById('_fb_ajgwdragouyzjolbgrga_ind_6').style.opacity = 0;\" style=\"fill:rgb(0,0,0,0)\" /><g transform=\"translate(-6.0,0)\">  <svg x=\"61.45857789020969%\" y=\"40\" height=\"18\" overflow=\"visible\" width=\"30\">    <path d=\"M 8 -9 l -6 18 L 8 25\" fill=\"none\" style=\"stroke:rgb(208, 230, 250);stroke-width:2\" />  </svg></g><rect x=\"47.435810302737075%\" y=\"40\" height=\"20\" width=\"14.022767587472615%\"      onmouseover=\"document.getElementById('_tp_ajgwdragouyzjolbgrga_ind_5').style.textDecoration = 'underline';document.getElementById('_fs_ajgwdragouyzjolbgrga_ind_5').style.opacity = 1;document.getElementById('_fb_ajgwdragouyzjolbgrga_ind_5').style.opacity = 1;\"      onmouseout=\"document.getElementById('_tp_ajgwdragouyzjolbgrga_ind_5').style.textDecoration = 'none';document.getElementById('_fs_ajgwdragouyzjolbgrga_ind_5').style.opacity = 0;document.getElementById('_fb_ajgwdragouyzjolbgrga_ind_5').style.opacity = 0;\" style=\"fill:rgb(0,0,0,0)\" /><g transform=\"translate(-6.0,0)\">  <svg x=\"73.3744688834221%\" y=\"40\" height=\"18\" overflow=\"visible\" width=\"30\">    <path d=\"M 8 -9 l -6 18 L 8 25\" fill=\"none\" style=\"stroke:rgb(208, 230, 250);stroke-width:2\" />  </svg></g><rect x=\"61.45857789020969%\" y=\"40\" height=\"20\" width=\"11.915890993212408%\"      onmouseover=\"document.getElementById('_tp_ajgwdragouyzjolbgrga_ind_3').style.textDecoration = 'underline';document.getElementById('_fs_ajgwdragouyzjolbgrga_ind_3').style.opacity = 1;document.getElementById('_fb_ajgwdragouyzjolbgrga_ind_3').style.opacity = 1;\"      onmouseout=\"document.getElementById('_tp_ajgwdragouyzjolbgrga_ind_3').style.textDecoration = 'none';document.getElementById('_fs_ajgwdragouyzjolbgrga_ind_3').style.opacity = 0;document.getElementById('_fb_ajgwdragouyzjolbgrga_ind_3').style.opacity = 0;\" style=\"fill:rgb(0,0,0,0)\" /><g transform=\"translate(-6.0,0)\">  <svg x=\"83.18109716245307%\" y=\"40\" height=\"18\" overflow=\"visible\" width=\"30\">    <path d=\"M 8 -9 l -6 18 L 8 25\" fill=\"none\" style=\"stroke:rgb(208, 230, 250);stroke-width:2\" />  </svg></g><rect x=\"73.3744688834221%\" y=\"40\" height=\"20\" width=\"9.806628279030974%\"      onmouseover=\"document.getElementById('_tp_ajgwdragouyzjolbgrga_ind_4').style.textDecoration = 'underline';document.getElementById('_fs_ajgwdragouyzjolbgrga_ind_4').style.opacity = 1;document.getElementById('_fb_ajgwdragouyzjolbgrga_ind_4').style.opacity = 1;\"      onmouseout=\"document.getElementById('_tp_ajgwdragouyzjolbgrga_ind_4').style.textDecoration = 'none';document.getElementById('_fs_ajgwdragouyzjolbgrga_ind_4').style.opacity = 0;document.getElementById('_fb_ajgwdragouyzjolbgrga_ind_4').style.opacity = 0;\" style=\"fill:rgb(0,0,0,0)\" /><rect x=\"83.18109716245307%\" y=\"40\" height=\"20\" width=\"3.593187745023016%\"      onmouseover=\"document.getElementById('_tp_ajgwdragouyzjolbgrga_ind_1').style.textDecoration = 'underline';document.getElementById('_fs_ajgwdragouyzjolbgrga_ind_1').style.opacity = 1;document.getElementById('_fb_ajgwdragouyzjolbgrga_ind_1').style.opacity = 1;\"      onmouseout=\"document.getElementById('_tp_ajgwdragouyzjolbgrga_ind_1').style.textDecoration = 'none';document.getElementById('_fs_ajgwdragouyzjolbgrga_ind_1').style.opacity = 0;document.getElementById('_fb_ajgwdragouyzjolbgrga_ind_1').style.opacity = 0;\" style=\"fill:rgb(0,0,0,0)\" /></svg><div align='center'><div style=\"color: rgb(120,120,120); font-size: 12px; margin-top: -15px;\">inputs</div><div style='display: inline; text-align: center;'\n",
       "    ><div style='display: none; color: #999; padding-top: 0px; font-size: 12px;'>0.107</div\n",
       "        ><div id='_tp_ajgwdragouyzjolbgrga_ind_0'\n",
       "            style='display: inline; background: rgba(255.0, 13.0, 87.0, 0.3142008318478907); border-radius: 3px; padding: 0px'\n",
       "            onclick=\"\n",
       "            if (this.previousSibling.style.display == 'none') {\n",
       "                this.previousSibling.style.display = 'block';\n",
       "                this.parentNode.style.display = 'inline-block';\n",
       "            } else {\n",
       "                this.previousSibling.style.display = 'none';\n",
       "                this.parentNode.style.display = 'inline';\n",
       "            }\"\n",
       "            onmouseover=\"document.getElementById('_fb_ajgwdragouyzjolbgrga_ind_0').style.opacity = 1; document.getElementById('_fs_ajgwdragouyzjolbgrga_ind_0').style.opacity = 1;\"\n",
       "            onmouseout=\"document.getElementById('_fb_ajgwdragouyzjolbgrga_ind_0').style.opacity = 0; document.getElementById('_fs_ajgwdragouyzjolbgrga_ind_0').style.opacity = 0;\"\n",
       "        ></div></div><div style='display: inline; text-align: center;'\n",
       "    ><div style='display: none; color: #999; padding-top: 0px; font-size: 12px;'>-0.044</div\n",
       "        ><div id='_tp_ajgwdragouyzjolbgrga_ind_1'\n",
       "            style='display: inline; background: rgba(30.0, 136.0, 229.0, 0.12501485442661905); border-radius: 3px; padding: 0px'\n",
       "            onclick=\"\n",
       "            if (this.previousSibling.style.display == 'none') {\n",
       "                this.previousSibling.style.display = 'block';\n",
       "                this.parentNode.style.display = 'inline-block';\n",
       "            } else {\n",
       "                this.previousSibling.style.display = 'none';\n",
       "                this.parentNode.style.display = 'inline';\n",
       "            }\"\n",
       "            onmouseover=\"document.getElementById('_fb_ajgwdragouyzjolbgrga_ind_1').style.opacity = 1; document.getElementById('_fs_ajgwdragouyzjolbgrga_ind_1').style.opacity = 1;\"\n",
       "            onmouseout=\"document.getElementById('_fb_ajgwdragouyzjolbgrga_ind_1').style.opacity = 0; document.getElementById('_fs_ajgwdragouyzjolbgrga_ind_1').style.opacity = 0;\"\n",
       "        >I </div></div><div style='display: inline; text-align: center;'\n",
       "    ><div style='display: none; color: #999; padding-top: 0px; font-size: 12px;'>0.031</div\n",
       "        ><div id='_tp_ajgwdragouyzjolbgrga_ind_2'\n",
       "            style='display: inline; background: rgba(255.0, 13.0, 87.0, 0.08560110913052081); border-radius: 3px; padding: 0px'\n",
       "            onclick=\"\n",
       "            if (this.previousSibling.style.display == 'none') {\n",
       "                this.previousSibling.style.display = 'block';\n",
       "                this.parentNode.style.display = 'inline-block';\n",
       "            } else {\n",
       "                this.previousSibling.style.display = 'none';\n",
       "                this.parentNode.style.display = 'inline';\n",
       "            }\"\n",
       "            onmouseover=\"document.getElementById('_fb_ajgwdragouyzjolbgrga_ind_2').style.opacity = 1; document.getElementById('_fs_ajgwdragouyzjolbgrga_ind_2').style.opacity = 1;\"\n",
       "            onmouseout=\"document.getElementById('_fb_ajgwdragouyzjolbgrga_ind_2').style.opacity = 0; document.getElementById('_fs_ajgwdragouyzjolbgrga_ind_2').style.opacity = 0;\"\n",
       "        >love </div></div><div style='display: inline; text-align: center;'\n",
       "    ><div style='display: none; color: #999; padding-top: 0px; font-size: 12px;'>-0.144</div\n",
       "        ><div id='_tp_ajgwdragouyzjolbgrga_ind_3'\n",
       "            style='display: inline; background: rgba(30.0, 136.0, 229.0, 0.42455931867696567); border-radius: 3px; padding: 0px'\n",
       "            onclick=\"\n",
       "            if (this.previousSibling.style.display == 'none') {\n",
       "                this.previousSibling.style.display = 'block';\n",
       "                this.parentNode.style.display = 'inline-block';\n",
       "            } else {\n",
       "                this.previousSibling.style.display = 'none';\n",
       "                this.parentNode.style.display = 'inline';\n",
       "            }\"\n",
       "            onmouseover=\"document.getElementById('_fb_ajgwdragouyzjolbgrga_ind_3').style.opacity = 1; document.getElementById('_fs_ajgwdragouyzjolbgrga_ind_3').style.opacity = 1;\"\n",
       "            onmouseout=\"document.getElementById('_fb_ajgwdragouyzjolbgrga_ind_3').style.opacity = 0; document.getElementById('_fs_ajgwdragouyzjolbgrga_ind_3').style.opacity = 0;\"\n",
       "        >playing </div></div><div style='display: inline; text-align: center;'\n",
       "    ><div style='display: none; color: #999; padding-top: 0px; font-size: 12px;'>-0.119</div\n",
       "        ><div id='_tp_ajgwdragouyzjolbgrga_ind_4'\n",
       "            style='display: inline; background: rgba(30.0, 136.0, 229.0, 0.34573182808476927); border-radius: 3px; padding: 0px'\n",
       "            onclick=\"\n",
       "            if (this.previousSibling.style.display == 'none') {\n",
       "                this.previousSibling.style.display = 'block';\n",
       "                this.parentNode.style.display = 'inline-block';\n",
       "            } else {\n",
       "                this.previousSibling.style.display = 'none';\n",
       "                this.parentNode.style.display = 'inline';\n",
       "            }\"\n",
       "            onmouseover=\"document.getElementById('_fb_ajgwdragouyzjolbgrga_ind_4').style.opacity = 1; document.getElementById('_fs_ajgwdragouyzjolbgrga_ind_4').style.opacity = 1;\"\n",
       "            onmouseout=\"document.getElementById('_fb_ajgwdragouyzjolbgrga_ind_4').style.opacity = 0; document.getElementById('_fs_ajgwdragouyzjolbgrga_ind_4').style.opacity = 0;\"\n",
       "        >cricket</div></div><div style='display: inline; text-align: center;'\n",
       "    ><div style='display: none; color: #999; padding-top: 0px; font-size: 12px;'>-0.17</div\n",
       "        ><div id='_tp_ajgwdragouyzjolbgrga_ind_5'\n",
       "            style='display: inline; background: rgba(30.0, 136.0, 229.0, 0.4955040602099425); border-radius: 3px; padding: 0px'\n",
       "            onclick=\"\n",
       "            if (this.previousSibling.style.display == 'none') {\n",
       "                this.previousSibling.style.display = 'block';\n",
       "                this.parentNode.style.display = 'inline-block';\n",
       "            } else {\n",
       "                this.previousSibling.style.display = 'none';\n",
       "                this.parentNode.style.display = 'inline';\n",
       "            }\"\n",
       "            onmouseover=\"document.getElementById('_fb_ajgwdragouyzjolbgrga_ind_5').style.opacity = 1; document.getElementById('_fs_ajgwdragouyzjolbgrga_ind_5').style.opacity = 1;\"\n",
       "            onmouseout=\"document.getElementById('_fb_ajgwdragouyzjolbgrga_ind_5').style.opacity = 0; document.getElementById('_fs_ajgwdragouyzjolbgrga_ind_5').style.opacity = 0;\"\n",
       "        >!</div></div><div style='display: inline; text-align: center;'\n",
       "    ><div style='display: none; color: #999; padding-top: 0px; font-size: 12px;'>-0.341</div\n",
       "        ><div id='_tp_ajgwdragouyzjolbgrga_ind_6'\n",
       "            style='display: inline; background: rgba(30.0, 136.0, 229.0, 1.0); border-radius: 3px; padding: 0px'\n",
       "            onclick=\"\n",
       "            if (this.previousSibling.style.display == 'none') {\n",
       "                this.previousSibling.style.display = 'block';\n",
       "                this.parentNode.style.display = 'inline-block';\n",
       "            } else {\n",
       "                this.previousSibling.style.display = 'none';\n",
       "                this.parentNode.style.display = 'inline';\n",
       "            }\"\n",
       "            onmouseover=\"document.getElementById('_fb_ajgwdragouyzjolbgrga_ind_6').style.opacity = 1; document.getElementById('_fs_ajgwdragouyzjolbgrga_ind_6').style.opacity = 1;\"\n",
       "            onmouseout=\"document.getElementById('_fb_ajgwdragouyzjolbgrga_ind_6').style.opacity = 0; document.getElementById('_fs_ajgwdragouyzjolbgrga_ind_6').style.opacity = 0;\"\n",
       "        ></div></div></div></div><div id='_tp_iejhwkycugjposzlmgwd_output_2_zoom' style='display: none;'><svg width=\"100%\" height=\"80px\"><line x1=\"0\" y1=\"33\" x2=\"100%\" y2=\"33\" style=\"stroke:rgb(150,150,150);stroke-width:1\" /><line x1=\"46.31112002716212%\" y1=\"33\" x2=\"46.31112002716212%\" y2=\"37\" style=\"stroke:rgb(150,150,150);stroke-width:1\" /><text x=\"46.31112002716212%\" y=\"27\" font-size=\"12px\" fill=\"rgb(120,120,120)\" dominant-baseline=\"bottom\" text-anchor=\"middle\">0.3</text><line x1=\"28.88138086161136%\" y1=\"33\" x2=\"28.88138086161136%\" y2=\"37\" style=\"stroke:rgb(150,150,150);stroke-width:1\" /><text x=\"28.88138086161136%\" y=\"27\" font-size=\"12px\" fill=\"rgb(120,120,120)\" dominant-baseline=\"bottom\" text-anchor=\"middle\">0.1</text><line x1=\"11.451641696060593%\" y1=\"33\" x2=\"11.451641696060593%\" y2=\"37\" style=\"stroke:rgb(150,150,150);stroke-width:1\" /><text x=\"11.451641696060593%\" y=\"27\" font-size=\"12px\" fill=\"rgb(120,120,120)\" dominant-baseline=\"bottom\" text-anchor=\"middle\">-0.1</text><line x1=\"63.74085919271289%\" y1=\"33\" x2=\"63.74085919271289%\" y2=\"37\" style=\"stroke:rgb(150,150,150);stroke-width:1\" /><text x=\"63.74085919271289%\" y=\"27\" font-size=\"12px\" fill=\"rgb(120,120,120)\" dominant-baseline=\"bottom\" text-anchor=\"middle\">0.5</text><line x1=\"81.17059835826366%\" y1=\"33\" x2=\"81.17059835826366%\" y2=\"37\" style=\"stroke:rgb(150,150,150);stroke-width:1\" /><text x=\"81.17059835826366%\" y=\"27\" font-size=\"12px\" fill=\"rgb(120,120,120)\" dominant-baseline=\"bottom\" text-anchor=\"middle\">0.7</text><line x1=\"79.61295326072039%\" y1=\"33\" x2=\"79.61295326072039%\" y2=\"37\" style=\"stroke:rgb(150,150,150);stroke-width:1\" /><text x=\"79.61295326072039%\" y=\"27\" font-size=\"13px\" style=\"stroke:#ffffff;stroke-width:8px;\" fill=\"rgb(255,255,255)\" dominant-baseline=\"bottom\" text-anchor=\"middle\">0.682127</text><text x=\"79.61295326072039%\" y=\"27\" font-size=\"12px\" fill=\"rgb(120,120,120)\" dominant-baseline=\"bottom\" text-anchor=\"middle\">0.682127</text><text x=\"79.61295326072039%\" y=\"10\" font-size=\"12px\" fill=\"rgb(120,120,120)\" dominant-baseline=\"bottom\" text-anchor=\"middle\">base value</text><line x1=\"20.38704586779265%\" y1=\"33\" x2=\"20.38704586779265%\" y2=\"37\" style=\"stroke:rgb(150,150,150);stroke-width:1\" /><text x=\"20.38704586779265%\" y=\"27\" font-size=\"13px\" style=\"stroke:#ffffff;stroke-width:8px;\" font-weight=\"bold\" fill=\"rgb(255,255,255)\" dominant-baseline=\"bottom\" text-anchor=\"middle\">0.00253056</text><text x=\"20.38704586779265%\" y=\"27\" font-size=\"13px\" font-weight=\"bold\" fill=\"rgb(0,0,0)\" dominant-baseline=\"bottom\" text-anchor=\"middle\">0.00253056</text><text x=\"20.38704586779265%\" y=\"10\" font-size=\"12px\" fill=\"rgb(120,120,120)\" dominant-baseline=\"bottom\" text-anchor=\"middle\">f<tspan baseline-shift=\"sub\" font-size=\"8px\">animal</tspan>(inputs)</text><rect x=\"8.333333260709422%\" width=\"12.053712607083227%\" y=\"40\" height=\"18\" style=\"fill:rgb(255.0, 0.0, 81.08083606031792); stroke-width:0; stroke:rgb(0,0,0)\" /><line x1=\"11.077867619568416%\" x2=\"20.38704586779265%\" y1=\"60\" y2=\"60\" id=\"_fb_cocxhbbkqywpfryzthqx_ind_0\" style=\"stroke:rgb(255.0, 0.0, 81.08083606031792);stroke-width:2; opacity: 0\"/><text x=\"15.732456743680533%\" y=\"71\" font-size=\"12px\" id=\"_fs_cocxhbbkqywpfryzthqx_ind_0\" fill=\"rgb(255.0, 0.0, 81.08083606031792)\" style=\"opacity: 0\" dominant-baseline=\"middle\" text-anchor=\"middle\">0.107</text><svg x=\"11.077867619568416%\" y=\"40\" height=\"20\" width=\"9.309178248224235%\">  <svg x=\"0\" y=\"0\" width=\"100%\" height=\"100%\">    <text x=\"50%\" y=\"9\" font-size=\"12px\" fill=\"rgb(255,255,255)\" dominant-baseline=\"middle\" text-anchor=\"middle\"></text>  </svg></svg><line x1=\"8.333333260709422%\" x2=\"11.077867619568416%\" y1=\"60\" y2=\"60\" id=\"_fb_cocxhbbkqywpfryzthqx_ind_2\" style=\"stroke:rgb(255.0, 0.0, 81.08083606031792);stroke-width:2; opacity: 0\"/><text x=\"9.70560044013892%\" y=\"71\" font-size=\"12px\" id=\"_fs_cocxhbbkqywpfryzthqx_ind_2\" fill=\"rgb(255.0, 0.0, 81.08083606031792)\" style=\"opacity: 0\" dominant-baseline=\"middle\" text-anchor=\"middle\">0.031</text><svg x=\"8.333333260709422%\" y=\"40\" height=\"20\" width=\"2.744534358858994%\">  <svg x=\"0\" y=\"0\" width=\"100%\" height=\"100%\">    <text x=\"50%\" y=\"9\" font-size=\"12px\" fill=\"rgb(255,255,255)\" dominant-baseline=\"middle\" text-anchor=\"middle\">love</text>  </svg></svg><g transform=\"translate(0,0)\">  <svg x=\"11.077867619568416%\" y=\"40\" height=\"18\" overflow=\"visible\" width=\"30\">    <path d=\"M 0 -9 l 6 18 L 0 25\" fill=\"none\" style=\"stroke:rgb(255.0, 0.0, 81.08083606031792);stroke-width:2\" />  </svg></g><g transform=\"translate(2,0)\">  <svg x=\"11.077867619568416%\" y=\"40\" height=\"18\" overflow=\"visible\" width=\"30\">    <path d=\"M 0 -9 l 6 18 L 0 25\" fill=\"none\" style=\"stroke:rgb(255.0, 0.0, 81.08083606031792);stroke-width:2\" />  </svg></g><g transform=\"translate(4,0)\">  <svg x=\"11.077867619568416%\" y=\"40\" height=\"18\" overflow=\"visible\" width=\"30\">    <path d=\"M 0 -9 l 6 18 L 0 25\" fill=\"none\" style=\"stroke:rgb(255.0, 0.0, 81.08083606031792);stroke-width:2\" />  </svg></g><g transform=\"translate(6,0)\">  <svg x=\"11.077867619568416%\" y=\"40\" height=\"18\" overflow=\"visible\" width=\"30\">    <path d=\"M 0 -9 l 6 18 L 0 25\" fill=\"none\" style=\"stroke:rgb(255.0, 0.0, 81.08083606031792);stroke-width:2\" />  </svg></g><g transform=\"translate(-8,0)\">  <svg x=\"11.077867619568416%\" y=\"40\" height=\"18\" overflow=\"visible\" width=\"30\">    <path d=\"M 0 -9 l 6 18 L 0 25\" fill=\"none\" style=\"stroke:rgb(255.0, 0.0, 81.08083606031792);stroke-width:2\" />  </svg></g><g transform=\"translate(-6,0)\">  <svg x=\"11.077867619568416%\" y=\"40\" height=\"18\" overflow=\"visible\" width=\"30\">    <path d=\"M 0 -9 l 6 18 L 0 25\" fill=\"none\" style=\"stroke:rgb(255.0, 0.0, 81.08083606031792);stroke-width:2\" />  </svg></g><g transform=\"translate(-4,0)\">  <svg x=\"11.077867619568416%\" y=\"40\" height=\"18\" overflow=\"visible\" width=\"30\">    <path d=\"M 0 -9 l 6 18 L 0 25\" fill=\"none\" style=\"stroke:rgb(255.0, 0.0, 81.08083606031792);stroke-width:2\" />  </svg></g><g transform=\"translate(-2,0)\">  <svg x=\"11.077867619568416%\" y=\"40\" height=\"18\" overflow=\"visible\" width=\"30\">    <path d=\"M 0 -9 l 6 18 L 0 25\" fill=\"none\" style=\"stroke:rgb(255.0, 0.0, 81.08083606031792);stroke-width:2\" />  </svg></g><rect transform=\"translate(-8,0)\" x=\"20.38704586779265%\" y=\"40\" width=\"8\" height=\"18\" style=\"fill:rgb(255.0, 0.0, 81.08083606031792)\"/><g transform=\"translate(-11.5,0)\">  <svg x=\"8.333333260709422%\" y=\"40\" height=\"18\" overflow=\"visible\" width=\"30\">    <path d=\"M 10 -9 l 6 18 L 10 25 L 0 25 L 0 -9\" fill=\"#ffffff\" style=\"stroke:rgb(255,255,255);stroke-width:2\" />  </svg></g><g transform=\"translate(-1.5,0)\">  <svg x=\"20.38704586779265%\" y=\"40\" height=\"18\" overflow=\"visible\" width=\"30\">    <path d=\"M 0 -9 l 6 18 L 0 25\" fill=\"none\" style=\"stroke:rgb(255, 195, 213);stroke-width:2\" />  </svg></g><rect x=\"11.077867619568416%\" y=\"40\" height=\"20\" width=\"9.309178248224235%\"      onmouseover=\"document.getElementById('_tp_cocxhbbkqywpfryzthqx_ind_0').style.textDecoration = 'underline';document.getElementById('_fs_cocxhbbkqywpfryzthqx_ind_0').style.opacity = 1;document.getElementById('_fb_cocxhbbkqywpfryzthqx_ind_0').style.opacity = 1;\"      onmouseout=\"document.getElementById('_tp_cocxhbbkqywpfryzthqx_ind_0').style.textDecoration = 'none';document.getElementById('_fs_cocxhbbkqywpfryzthqx_ind_0').style.opacity = 0;document.getElementById('_fb_cocxhbbkqywpfryzthqx_ind_0').style.opacity = 0;\" style=\"fill:rgb(0,0,0,0)\" /><rect x=\"8.333333260709422%\" y=\"40\" height=\"20\" width=\"2.744534358858994%\"      onmouseover=\"document.getElementById('_tp_cocxhbbkqywpfryzthqx_ind_2').style.textDecoration = 'underline';document.getElementById('_fs_cocxhbbkqywpfryzthqx_ind_2').style.opacity = 1;document.getElementById('_fb_cocxhbbkqywpfryzthqx_ind_2').style.opacity = 1;\"      onmouseout=\"document.getElementById('_tp_cocxhbbkqywpfryzthqx_ind_2').style.textDecoration = 'none';document.getElementById('_fs_cocxhbbkqywpfryzthqx_ind_2').style.opacity = 0;document.getElementById('_fb_cocxhbbkqywpfryzthqx_ind_2').style.opacity = 0;\" style=\"fill:rgb(0,0,0,0)\" /><rect x=\"20.38704586779265%\" width=\"71.27962000001098%\" y=\"40\" height=\"18\" style=\"fill:rgb(0.0, 138.56128015770727, 250.76166088685727); stroke-width:0; stroke:rgb(0,0,0)\" /><line x1=\"20.38704586779265%\" x2=\"50.11026685873486%\" y1=\"60\" y2=\"60\" id=\"_fb_cocxhbbkqywpfryzthqx_ind_6\" style=\"stroke:rgb(0.0, 138.56128015770727, 250.76166088685727);stroke-width:2; opacity: 0\"/><text x=\"35.248656363263756%\" y=\"71\" font-size=\"12px\" fill=\"rgb(0.0, 138.56128015770727, 250.76166088685727)\" id=\"_fs_cocxhbbkqywpfryzthqx_ind_6\" style=\"opacity: 0\" dominant-baseline=\"middle\" text-anchor=\"middle\">-0.341</text><svg x=\"20.38704586779265%\" y=\"40\" height=\"20\" width=\"29.72322099094221%\">  <svg x=\"0\" y=\"0\" width=\"100%\" height=\"100%\">    <text x=\"50%\" y=\"9\" font-size=\"12px\" fill=\"rgb(255,255,255)\" dominant-baseline=\"middle\" text-anchor=\"middle\"></text>  </svg></svg><line x1=\"50.11026685873486%\" x2=\"64.92364564201507%\" y1=\"60\" y2=\"60\" id=\"_fb_cocxhbbkqywpfryzthqx_ind_5\" style=\"stroke:rgb(0.0, 138.56128015770727, 250.76166088685727);stroke-width:2; opacity: 0\"/><text x=\"57.51695625037497%\" y=\"71\" font-size=\"12px\" fill=\"rgb(0.0, 138.56128015770727, 250.76166088685727)\" id=\"_fs_cocxhbbkqywpfryzthqx_ind_5\" style=\"opacity: 0\" dominant-baseline=\"middle\" text-anchor=\"middle\">-0.17</text><svg x=\"50.11026685873486%\" y=\"40\" height=\"20\" width=\"14.813378783280214%\">  <svg x=\"0\" y=\"0\" width=\"100%\" height=\"100%\">    <text x=\"50%\" y=\"9\" font-size=\"12px\" fill=\"rgb(255,255,255)\" dominant-baseline=\"middle\" text-anchor=\"middle\">!</text>  </svg></svg><line x1=\"64.92364564201507%\" x2=\"77.51136099290085%\" y1=\"60\" y2=\"60\" id=\"_fb_cocxhbbkqywpfryzthqx_ind_3\" style=\"stroke:rgb(0.0, 138.56128015770727, 250.76166088685727);stroke-width:2; opacity: 0\"/><text x=\"71.21750331745795%\" y=\"71\" font-size=\"12px\" fill=\"rgb(0.0, 138.56128015770727, 250.76166088685727)\" id=\"_fs_cocxhbbkqywpfryzthqx_ind_3\" style=\"opacity: 0\" dominant-baseline=\"middle\" text-anchor=\"middle\">-0.144</text><svg x=\"64.92364564201507%\" y=\"40\" height=\"20\" width=\"12.587715350885773%\">  <svg x=\"0\" y=\"0\" width=\"100%\" height=\"100%\">    <text x=\"50%\" y=\"9\" font-size=\"12px\" fill=\"rgb(255,255,255)\" dominant-baseline=\"middle\" text-anchor=\"middle\">playing</text>  </svg></svg><line x1=\"77.51136099290085%\" x2=\"87.87089226074352%\" y1=\"60\" y2=\"60\" id=\"_fb_cocxhbbkqywpfryzthqx_ind_4\" style=\"stroke:rgb(0.0, 138.56128015770727, 250.76166088685727);stroke-width:2; opacity: 0\"/><text x=\"82.69112662682218%\" y=\"71\" font-size=\"12px\" fill=\"rgb(0.0, 138.56128015770727, 250.76166088685727)\" id=\"_fs_cocxhbbkqywpfryzthqx_ind_4\" style=\"opacity: 0\" dominant-baseline=\"middle\" text-anchor=\"middle\">-0.119</text><svg x=\"77.51136099290085%\" y=\"40\" height=\"20\" width=\"10.35953126784267%\">  <svg x=\"0\" y=\"0\" width=\"100%\" height=\"100%\">    <text x=\"50%\" y=\"9\" font-size=\"12px\" fill=\"rgb(255,255,255)\" dominant-baseline=\"middle\" text-anchor=\"middle\">cricket</text>  </svg></svg><line x1=\"87.87089226074352%\" x2=\"91.66666586780362%\" y1=\"60\" y2=\"60\" id=\"_fb_cocxhbbkqywpfryzthqx_ind_1\" style=\"stroke:rgb(0.0, 138.56128015770727, 250.76166088685727);stroke-width:2; opacity: 0\"/><text x=\"89.76877906427356%\" y=\"71\" font-size=\"12px\" fill=\"rgb(0.0, 138.56128015770727, 250.76166088685727)\" id=\"_fs_cocxhbbkqywpfryzthqx_ind_1\" style=\"opacity: 0\" dominant-baseline=\"middle\" text-anchor=\"middle\">-0.044</text><svg x=\"87.87089226074352%\" y=\"40\" height=\"20\" width=\"3.7957736070600987%\">  <svg x=\"0\" y=\"0\" width=\"100%\" height=\"100%\">    <text x=\"50%\" y=\"9\" font-size=\"12px\" fill=\"rgb(255,255,255)\" dominant-baseline=\"middle\" text-anchor=\"middle\">I</text>  </svg></svg><g transform=\"translate(-8,0)\">  <svg x=\"50.11026685873486%\" y=\"40\" height=\"18\" overflow=\"visible\" width=\"30\">    <path d=\"M 8 -9 l -6 18 L 8 25\" fill=\"none\" style=\"stroke:rgb(0.0, 138.56128015770727, 250.76166088685727);stroke-width:2\" />  </svg></g><g transform=\"translate(-10,0)\">  <svg x=\"50.11026685873486%\" y=\"40\" height=\"18\" overflow=\"visible\" width=\"30\">    <path d=\"M 8 -9 l -6 18 L 8 25\" fill=\"none\" style=\"stroke:rgb(0.0, 138.56128015770727, 250.76166088685727);stroke-width:2\" />  </svg></g><g transform=\"translate(-12,0)\">  <svg x=\"50.11026685873486%\" y=\"40\" height=\"18\" overflow=\"visible\" width=\"30\">    <path d=\"M 8 -9 l -6 18 L 8 25\" fill=\"none\" style=\"stroke:rgb(0.0, 138.56128015770727, 250.76166088685727);stroke-width:2\" />  </svg></g><g transform=\"translate(-14,0)\">  <svg x=\"50.11026685873486%\" y=\"40\" height=\"18\" overflow=\"visible\" width=\"30\">    <path d=\"M 8 -9 l -6 18 L 8 25\" fill=\"none\" style=\"stroke:rgb(0.0, 138.56128015770727, 250.76166088685727);stroke-width:2\" />  </svg></g><g transform=\"translate(2,0)\">  <svg x=\"50.11026685873486%\" y=\"40\" height=\"18\" overflow=\"visible\" width=\"30\">    <path d=\"M 8 -9 l -6 18 L 8 25\" fill=\"none\" style=\"stroke:rgb(0.0, 138.56128015770727, 250.76166088685727);stroke-width:2\" />  </svg></g><g transform=\"translate(0,0)\">  <svg x=\"50.11026685873486%\" y=\"40\" height=\"18\" overflow=\"visible\" width=\"30\">    <path d=\"M 8 -9 l -6 18 L 8 25\" fill=\"none\" style=\"stroke:rgb(0.0, 138.56128015770727, 250.76166088685727);stroke-width:2\" />  </svg></g><g transform=\"translate(-2,0)\">  <svg x=\"50.11026685873486%\" y=\"40\" height=\"18\" overflow=\"visible\" width=\"30\">    <path d=\"M 8 -9 l -6 18 L 8 25\" fill=\"none\" style=\"stroke:rgb(0.0, 138.56128015770727, 250.76166088685727);stroke-width:2\" />  </svg></g><g transform=\"translate(-4,0)\">  <svg x=\"50.11026685873486%\" y=\"40\" height=\"18\" overflow=\"visible\" width=\"30\">    <path d=\"M 8 -9 l -6 18 L 8 25\" fill=\"none\" style=\"stroke:rgb(0.0, 138.56128015770727, 250.76166088685727);stroke-width:2\" />  </svg></g><g transform=\"translate(-8,0)\">  <svg x=\"64.92364564201507%\" y=\"40\" height=\"18\" overflow=\"visible\" width=\"30\">    <path d=\"M 8 -9 l -6 18 L 8 25\" fill=\"none\" style=\"stroke:rgb(0.0, 138.56128015770727, 250.76166088685727);stroke-width:2\" />  </svg></g><g transform=\"translate(-10,0)\">  <svg x=\"64.92364564201507%\" y=\"40\" height=\"18\" overflow=\"visible\" width=\"30\">    <path d=\"M 8 -9 l -6 18 L 8 25\" fill=\"none\" style=\"stroke:rgb(0.0, 138.56128015770727, 250.76166088685727);stroke-width:2\" />  </svg></g><g transform=\"translate(-12,0)\">  <svg x=\"64.92364564201507%\" y=\"40\" height=\"18\" overflow=\"visible\" width=\"30\">    <path d=\"M 8 -9 l -6 18 L 8 25\" fill=\"none\" style=\"stroke:rgb(0.0, 138.56128015770727, 250.76166088685727);stroke-width:2\" />  </svg></g><g transform=\"translate(-14,0)\">  <svg x=\"64.92364564201507%\" y=\"40\" height=\"18\" overflow=\"visible\" width=\"30\">    <path d=\"M 8 -9 l -6 18 L 8 25\" fill=\"none\" style=\"stroke:rgb(0.0, 138.56128015770727, 250.76166088685727);stroke-width:2\" />  </svg></g><g transform=\"translate(2,0)\">  <svg x=\"64.92364564201507%\" y=\"40\" height=\"18\" overflow=\"visible\" width=\"30\">    <path d=\"M 8 -9 l -6 18 L 8 25\" fill=\"none\" style=\"stroke:rgb(0.0, 138.56128015770727, 250.76166088685727);stroke-width:2\" />  </svg></g><g transform=\"translate(0,0)\">  <svg x=\"64.92364564201507%\" y=\"40\" height=\"18\" overflow=\"visible\" width=\"30\">    <path d=\"M 8 -9 l -6 18 L 8 25\" fill=\"none\" style=\"stroke:rgb(0.0, 138.56128015770727, 250.76166088685727);stroke-width:2\" />  </svg></g><g transform=\"translate(-2,0)\">  <svg x=\"64.92364564201507%\" y=\"40\" height=\"18\" overflow=\"visible\" width=\"30\">    <path d=\"M 8 -9 l -6 18 L 8 25\" fill=\"none\" style=\"stroke:rgb(0.0, 138.56128015770727, 250.76166088685727);stroke-width:2\" />  </svg></g><g transform=\"translate(-4,0)\">  <svg x=\"64.92364564201507%\" y=\"40\" height=\"18\" overflow=\"visible\" width=\"30\">    <path d=\"M 8 -9 l -6 18 L 8 25\" fill=\"none\" style=\"stroke:rgb(0.0, 138.56128015770727, 250.76166088685727);stroke-width:2\" />  </svg></g><g transform=\"translate(-8,0)\">  <svg x=\"77.51136099290085%\" y=\"40\" height=\"18\" overflow=\"visible\" width=\"30\">    <path d=\"M 8 -9 l -6 18 L 8 25\" fill=\"none\" style=\"stroke:rgb(0.0, 138.56128015770727, 250.76166088685727);stroke-width:2\" />  </svg></g><g transform=\"translate(-10,0)\">  <svg x=\"77.51136099290085%\" y=\"40\" height=\"18\" overflow=\"visible\" width=\"30\">    <path d=\"M 8 -9 l -6 18 L 8 25\" fill=\"none\" style=\"stroke:rgb(0.0, 138.56128015770727, 250.76166088685727);stroke-width:2\" />  </svg></g><g transform=\"translate(-12,0)\">  <svg x=\"77.51136099290085%\" y=\"40\" height=\"18\" overflow=\"visible\" width=\"30\">    <path d=\"M 8 -9 l -6 18 L 8 25\" fill=\"none\" style=\"stroke:rgb(0.0, 138.56128015770727, 250.76166088685727);stroke-width:2\" />  </svg></g><g transform=\"translate(-14,0)\">  <svg x=\"77.51136099290085%\" y=\"40\" height=\"18\" overflow=\"visible\" width=\"30\">    <path d=\"M 8 -9 l -6 18 L 8 25\" fill=\"none\" style=\"stroke:rgb(0.0, 138.56128015770727, 250.76166088685727);stroke-width:2\" />  </svg></g><g transform=\"translate(2,0)\">  <svg x=\"77.51136099290085%\" y=\"40\" height=\"18\" overflow=\"visible\" width=\"30\">    <path d=\"M 8 -9 l -6 18 L 8 25\" fill=\"none\" style=\"stroke:rgb(0.0, 138.56128015770727, 250.76166088685727);stroke-width:2\" />  </svg></g><g transform=\"translate(0,0)\">  <svg x=\"77.51136099290085%\" y=\"40\" height=\"18\" overflow=\"visible\" width=\"30\">    <path d=\"M 8 -9 l -6 18 L 8 25\" fill=\"none\" style=\"stroke:rgb(0.0, 138.56128015770727, 250.76166088685727);stroke-width:2\" />  </svg></g><g transform=\"translate(-2,0)\">  <svg x=\"77.51136099290085%\" y=\"40\" height=\"18\" overflow=\"visible\" width=\"30\">    <path d=\"M 8 -9 l -6 18 L 8 25\" fill=\"none\" style=\"stroke:rgb(0.0, 138.56128015770727, 250.76166088685727);stroke-width:2\" />  </svg></g><g transform=\"translate(-4,0)\">  <svg x=\"77.51136099290085%\" y=\"40\" height=\"18\" overflow=\"visible\" width=\"30\">    <path d=\"M 8 -9 l -6 18 L 8 25\" fill=\"none\" style=\"stroke:rgb(0.0, 138.56128015770727, 250.76166088685727);stroke-width:2\" />  </svg></g><g transform=\"translate(-8,0)\">  <svg x=\"87.87089226074352%\" y=\"40\" height=\"18\" overflow=\"visible\" width=\"30\">    <path d=\"M 8 -9 l -6 18 L 8 25\" fill=\"none\" style=\"stroke:rgb(0.0, 138.56128015770727, 250.76166088685727);stroke-width:2\" />  </svg></g><g transform=\"translate(-10,0)\">  <svg x=\"87.87089226074352%\" y=\"40\" height=\"18\" overflow=\"visible\" width=\"30\">    <path d=\"M 8 -9 l -6 18 L 8 25\" fill=\"none\" style=\"stroke:rgb(0.0, 138.56128015770727, 250.76166088685727);stroke-width:2\" />  </svg></g><g transform=\"translate(-12,0)\">  <svg x=\"87.87089226074352%\" y=\"40\" height=\"18\" overflow=\"visible\" width=\"30\">    <path d=\"M 8 -9 l -6 18 L 8 25\" fill=\"none\" style=\"stroke:rgb(0.0, 138.56128015770727, 250.76166088685727);stroke-width:2\" />  </svg></g><g transform=\"translate(-14,0)\">  <svg x=\"87.87089226074352%\" y=\"40\" height=\"18\" overflow=\"visible\" width=\"30\">    <path d=\"M 8 -9 l -6 18 L 8 25\" fill=\"none\" style=\"stroke:rgb(0.0, 138.56128015770727, 250.76166088685727);stroke-width:2\" />  </svg></g><g transform=\"translate(2,0)\">  <svg x=\"87.87089226074352%\" y=\"40\" height=\"18\" overflow=\"visible\" width=\"30\">    <path d=\"M 8 -9 l -6 18 L 8 25\" fill=\"none\" style=\"stroke:rgb(0.0, 138.56128015770727, 250.76166088685727);stroke-width:2\" />  </svg></g><g transform=\"translate(0,0)\">  <svg x=\"87.87089226074352%\" y=\"40\" height=\"18\" overflow=\"visible\" width=\"30\">    <path d=\"M 8 -9 l -6 18 L 8 25\" fill=\"none\" style=\"stroke:rgb(0.0, 138.56128015770727, 250.76166088685727);stroke-width:2\" />  </svg></g><g transform=\"translate(-2,0)\">  <svg x=\"87.87089226074352%\" y=\"40\" height=\"18\" overflow=\"visible\" width=\"30\">    <path d=\"M 8 -9 l -6 18 L 8 25\" fill=\"none\" style=\"stroke:rgb(0.0, 138.56128015770727, 250.76166088685727);stroke-width:2\" />  </svg></g><g transform=\"translate(-4,0)\">  <svg x=\"87.87089226074352%\" y=\"40\" height=\"18\" overflow=\"visible\" width=\"30\">    <path d=\"M 8 -9 l -6 18 L 8 25\" fill=\"none\" style=\"stroke:rgb(0.0, 138.56128015770727, 250.76166088685727);stroke-width:2\" />  </svg></g><rect transform=\"translate(0,0)\" x=\"20.38704586779265%\" y=\"40\" width=\"8\" height=\"18\" style=\"fill:rgb(0.0, 138.56128015770727, 250.76166088685727)\"/><g transform=\"translate(-6.0,0)\">  <svg x=\"91.66666586780362%\" y=\"40\" height=\"18\" overflow=\"visible\" width=\"30\">    <path d=\"M 8 -9 l -6 18 L 8 25 L 20 25 L 20 -9\" fill=\"#ffffff\" style=\"stroke:rgb(255,255,255);stroke-width:2\" />  </svg></g><g transform=\"translate(-6.0,0)\">  <svg x=\"50.11026685873486%\" y=\"40\" height=\"18\" overflow=\"visible\" width=\"30\">    <path d=\"M 8 -9 l -6 18 L 8 25\" fill=\"none\" style=\"stroke:rgb(208, 230, 250);stroke-width:2\" />  </svg></g><rect x=\"20.38704586779265%\" y=\"40\" height=\"20\" width=\"29.72322099094221%\"      onmouseover=\"document.getElementById('_tp_cocxhbbkqywpfryzthqx_ind_6').style.textDecoration = 'underline';document.getElementById('_fs_cocxhbbkqywpfryzthqx_ind_6').style.opacity = 1;document.getElementById('_fb_cocxhbbkqywpfryzthqx_ind_6').style.opacity = 1;\"      onmouseout=\"document.getElementById('_tp_cocxhbbkqywpfryzthqx_ind_6').style.textDecoration = 'none';document.getElementById('_fs_cocxhbbkqywpfryzthqx_ind_6').style.opacity = 0;document.getElementById('_fb_cocxhbbkqywpfryzthqx_ind_6').style.opacity = 0;\" style=\"fill:rgb(0,0,0,0)\" /><g transform=\"translate(-6.0,0)\">  <svg x=\"64.92364564201507%\" y=\"40\" height=\"18\" overflow=\"visible\" width=\"30\">    <path d=\"M 8 -9 l -6 18 L 8 25\" fill=\"none\" style=\"stroke:rgb(208, 230, 250);stroke-width:2\" />  </svg></g><rect x=\"50.11026685873486%\" y=\"40\" height=\"20\" width=\"14.813378783280214%\"      onmouseover=\"document.getElementById('_tp_cocxhbbkqywpfryzthqx_ind_5').style.textDecoration = 'underline';document.getElementById('_fs_cocxhbbkqywpfryzthqx_ind_5').style.opacity = 1;document.getElementById('_fb_cocxhbbkqywpfryzthqx_ind_5').style.opacity = 1;\"      onmouseout=\"document.getElementById('_tp_cocxhbbkqywpfryzthqx_ind_5').style.textDecoration = 'none';document.getElementById('_fs_cocxhbbkqywpfryzthqx_ind_5').style.opacity = 0;document.getElementById('_fb_cocxhbbkqywpfryzthqx_ind_5').style.opacity = 0;\" style=\"fill:rgb(0,0,0,0)\" /><g transform=\"translate(-6.0,0)\">  <svg x=\"77.51136099290085%\" y=\"40\" height=\"18\" overflow=\"visible\" width=\"30\">    <path d=\"M 8 -9 l -6 18 L 8 25\" fill=\"none\" style=\"stroke:rgb(208, 230, 250);stroke-width:2\" />  </svg></g><rect x=\"64.92364564201507%\" y=\"40\" height=\"20\" width=\"12.587715350885773%\"      onmouseover=\"document.getElementById('_tp_cocxhbbkqywpfryzthqx_ind_3').style.textDecoration = 'underline';document.getElementById('_fs_cocxhbbkqywpfryzthqx_ind_3').style.opacity = 1;document.getElementById('_fb_cocxhbbkqywpfryzthqx_ind_3').style.opacity = 1;\"      onmouseout=\"document.getElementById('_tp_cocxhbbkqywpfryzthqx_ind_3').style.textDecoration = 'none';document.getElementById('_fs_cocxhbbkqywpfryzthqx_ind_3').style.opacity = 0;document.getElementById('_fb_cocxhbbkqywpfryzthqx_ind_3').style.opacity = 0;\" style=\"fill:rgb(0,0,0,0)\" /><g transform=\"translate(-6.0,0)\">  <svg x=\"87.87089226074352%\" y=\"40\" height=\"18\" overflow=\"visible\" width=\"30\">    <path d=\"M 8 -9 l -6 18 L 8 25\" fill=\"none\" style=\"stroke:rgb(208, 230, 250);stroke-width:2\" />  </svg></g><rect x=\"77.51136099290085%\" y=\"40\" height=\"20\" width=\"10.35953126784267%\"      onmouseover=\"document.getElementById('_tp_cocxhbbkqywpfryzthqx_ind_4').style.textDecoration = 'underline';document.getElementById('_fs_cocxhbbkqywpfryzthqx_ind_4').style.opacity = 1;document.getElementById('_fb_cocxhbbkqywpfryzthqx_ind_4').style.opacity = 1;\"      onmouseout=\"document.getElementById('_tp_cocxhbbkqywpfryzthqx_ind_4').style.textDecoration = 'none';document.getElementById('_fs_cocxhbbkqywpfryzthqx_ind_4').style.opacity = 0;document.getElementById('_fb_cocxhbbkqywpfryzthqx_ind_4').style.opacity = 0;\" style=\"fill:rgb(0,0,0,0)\" /><rect x=\"87.87089226074352%\" y=\"40\" height=\"20\" width=\"3.7957736070600987%\"      onmouseover=\"document.getElementById('_tp_cocxhbbkqywpfryzthqx_ind_1').style.textDecoration = 'underline';document.getElementById('_fs_cocxhbbkqywpfryzthqx_ind_1').style.opacity = 1;document.getElementById('_fb_cocxhbbkqywpfryzthqx_ind_1').style.opacity = 1;\"      onmouseout=\"document.getElementById('_tp_cocxhbbkqywpfryzthqx_ind_1').style.textDecoration = 'none';document.getElementById('_fs_cocxhbbkqywpfryzthqx_ind_1').style.opacity = 0;document.getElementById('_fb_cocxhbbkqywpfryzthqx_ind_1').style.opacity = 0;\" style=\"fill:rgb(0,0,0,0)\" /></svg><div align='center'><div style=\"color: rgb(120,120,120); font-size: 12px; margin-top: -15px;\">inputs</div><div style='display: inline; text-align: center;'\n",
       "    ><div style='display: none; color: #999; padding-top: 0px; font-size: 12px;'>0.107</div\n",
       "        ><div id='_tp_cocxhbbkqywpfryzthqx_ind_0'\n",
       "            style='display: inline; background: rgba(255.0, 13.0, 87.0, 0.3142008318478907); border-radius: 3px; padding: 0px'\n",
       "            onclick=\"\n",
       "            if (this.previousSibling.style.display == 'none') {\n",
       "                this.previousSibling.style.display = 'block';\n",
       "                this.parentNode.style.display = 'inline-block';\n",
       "            } else {\n",
       "                this.previousSibling.style.display = 'none';\n",
       "                this.parentNode.style.display = 'inline';\n",
       "            }\"\n",
       "            onmouseover=\"document.getElementById('_fb_cocxhbbkqywpfryzthqx_ind_0').style.opacity = 1; document.getElementById('_fs_cocxhbbkqywpfryzthqx_ind_0').style.opacity = 1;\"\n",
       "            onmouseout=\"document.getElementById('_fb_cocxhbbkqywpfryzthqx_ind_0').style.opacity = 0; document.getElementById('_fs_cocxhbbkqywpfryzthqx_ind_0').style.opacity = 0;\"\n",
       "        ></div></div><div style='display: inline; text-align: center;'\n",
       "    ><div style='display: none; color: #999; padding-top: 0px; font-size: 12px;'>-0.044</div\n",
       "        ><div id='_tp_cocxhbbkqywpfryzthqx_ind_1'\n",
       "            style='display: inline; background: rgba(30.0, 136.0, 229.0, 0.12501485442661905); border-radius: 3px; padding: 0px'\n",
       "            onclick=\"\n",
       "            if (this.previousSibling.style.display == 'none') {\n",
       "                this.previousSibling.style.display = 'block';\n",
       "                this.parentNode.style.display = 'inline-block';\n",
       "            } else {\n",
       "                this.previousSibling.style.display = 'none';\n",
       "                this.parentNode.style.display = 'inline';\n",
       "            }\"\n",
       "            onmouseover=\"document.getElementById('_fb_cocxhbbkqywpfryzthqx_ind_1').style.opacity = 1; document.getElementById('_fs_cocxhbbkqywpfryzthqx_ind_1').style.opacity = 1;\"\n",
       "            onmouseout=\"document.getElementById('_fb_cocxhbbkqywpfryzthqx_ind_1').style.opacity = 0; document.getElementById('_fs_cocxhbbkqywpfryzthqx_ind_1').style.opacity = 0;\"\n",
       "        >I </div></div><div style='display: inline; text-align: center;'\n",
       "    ><div style='display: none; color: #999; padding-top: 0px; font-size: 12px;'>0.031</div\n",
       "        ><div id='_tp_cocxhbbkqywpfryzthqx_ind_2'\n",
       "            style='display: inline; background: rgba(255.0, 13.0, 87.0, 0.08560110913052081); border-radius: 3px; padding: 0px'\n",
       "            onclick=\"\n",
       "            if (this.previousSibling.style.display == 'none') {\n",
       "                this.previousSibling.style.display = 'block';\n",
       "                this.parentNode.style.display = 'inline-block';\n",
       "            } else {\n",
       "                this.previousSibling.style.display = 'none';\n",
       "                this.parentNode.style.display = 'inline';\n",
       "            }\"\n",
       "            onmouseover=\"document.getElementById('_fb_cocxhbbkqywpfryzthqx_ind_2').style.opacity = 1; document.getElementById('_fs_cocxhbbkqywpfryzthqx_ind_2').style.opacity = 1;\"\n",
       "            onmouseout=\"document.getElementById('_fb_cocxhbbkqywpfryzthqx_ind_2').style.opacity = 0; document.getElementById('_fs_cocxhbbkqywpfryzthqx_ind_2').style.opacity = 0;\"\n",
       "        >love </div></div><div style='display: inline; text-align: center;'\n",
       "    ><div style='display: none; color: #999; padding-top: 0px; font-size: 12px;'>-0.144</div\n",
       "        ><div id='_tp_cocxhbbkqywpfryzthqx_ind_3'\n",
       "            style='display: inline; background: rgba(30.0, 136.0, 229.0, 0.42455931867696567); border-radius: 3px; padding: 0px'\n",
       "            onclick=\"\n",
       "            if (this.previousSibling.style.display == 'none') {\n",
       "                this.previousSibling.style.display = 'block';\n",
       "                this.parentNode.style.display = 'inline-block';\n",
       "            } else {\n",
       "                this.previousSibling.style.display = 'none';\n",
       "                this.parentNode.style.display = 'inline';\n",
       "            }\"\n",
       "            onmouseover=\"document.getElementById('_fb_cocxhbbkqywpfryzthqx_ind_3').style.opacity = 1; document.getElementById('_fs_cocxhbbkqywpfryzthqx_ind_3').style.opacity = 1;\"\n",
       "            onmouseout=\"document.getElementById('_fb_cocxhbbkqywpfryzthqx_ind_3').style.opacity = 0; document.getElementById('_fs_cocxhbbkqywpfryzthqx_ind_3').style.opacity = 0;\"\n",
       "        >playing </div></div><div style='display: inline; text-align: center;'\n",
       "    ><div style='display: none; color: #999; padding-top: 0px; font-size: 12px;'>-0.119</div\n",
       "        ><div id='_tp_cocxhbbkqywpfryzthqx_ind_4'\n",
       "            style='display: inline; background: rgba(30.0, 136.0, 229.0, 0.34573182808476927); border-radius: 3px; padding: 0px'\n",
       "            onclick=\"\n",
       "            if (this.previousSibling.style.display == 'none') {\n",
       "                this.previousSibling.style.display = 'block';\n",
       "                this.parentNode.style.display = 'inline-block';\n",
       "            } else {\n",
       "                this.previousSibling.style.display = 'none';\n",
       "                this.parentNode.style.display = 'inline';\n",
       "            }\"\n",
       "            onmouseover=\"document.getElementById('_fb_cocxhbbkqywpfryzthqx_ind_4').style.opacity = 1; document.getElementById('_fs_cocxhbbkqywpfryzthqx_ind_4').style.opacity = 1;\"\n",
       "            onmouseout=\"document.getElementById('_fb_cocxhbbkqywpfryzthqx_ind_4').style.opacity = 0; document.getElementById('_fs_cocxhbbkqywpfryzthqx_ind_4').style.opacity = 0;\"\n",
       "        >cricket</div></div><div style='display: inline; text-align: center;'\n",
       "    ><div style='display: none; color: #999; padding-top: 0px; font-size: 12px;'>-0.17</div\n",
       "        ><div id='_tp_cocxhbbkqywpfryzthqx_ind_5'\n",
       "            style='display: inline; background: rgba(30.0, 136.0, 229.0, 0.4955040602099425); border-radius: 3px; padding: 0px'\n",
       "            onclick=\"\n",
       "            if (this.previousSibling.style.display == 'none') {\n",
       "                this.previousSibling.style.display = 'block';\n",
       "                this.parentNode.style.display = 'inline-block';\n",
       "            } else {\n",
       "                this.previousSibling.style.display = 'none';\n",
       "                this.parentNode.style.display = 'inline';\n",
       "            }\"\n",
       "            onmouseover=\"document.getElementById('_fb_cocxhbbkqywpfryzthqx_ind_5').style.opacity = 1; document.getElementById('_fs_cocxhbbkqywpfryzthqx_ind_5').style.opacity = 1;\"\n",
       "            onmouseout=\"document.getElementById('_fb_cocxhbbkqywpfryzthqx_ind_5').style.opacity = 0; document.getElementById('_fs_cocxhbbkqywpfryzthqx_ind_5').style.opacity = 0;\"\n",
       "        >!</div></div><div style='display: inline; text-align: center;'\n",
       "    ><div style='display: none; color: #999; padding-top: 0px; font-size: 12px;'>-0.341</div\n",
       "        ><div id='_tp_cocxhbbkqywpfryzthqx_ind_6'\n",
       "            style='display: inline; background: rgba(30.0, 136.0, 229.0, 1.0); border-radius: 3px; padding: 0px'\n",
       "            onclick=\"\n",
       "            if (this.previousSibling.style.display == 'none') {\n",
       "                this.previousSibling.style.display = 'block';\n",
       "                this.parentNode.style.display = 'inline-block';\n",
       "            } else {\n",
       "                this.previousSibling.style.display = 'none';\n",
       "                this.parentNode.style.display = 'inline';\n",
       "            }\"\n",
       "            onmouseover=\"document.getElementById('_fb_cocxhbbkqywpfryzthqx_ind_6').style.opacity = 1; document.getElementById('_fs_cocxhbbkqywpfryzthqx_ind_6').style.opacity = 1;\"\n",
       "            onmouseout=\"document.getElementById('_fb_cocxhbbkqywpfryzthqx_ind_6').style.opacity = 0; document.getElementById('_fs_cocxhbbkqywpfryzthqx_ind_6').style.opacity = 0;\"\n",
       "        ></div></div></div></div></div>"
      ],
      "text/plain": [
       "<IPython.core.display.HTML object>"
      ]
     },
     "metadata": {},
     "output_type": "display_data"
    },
    {
     "data": {
      "image/png": "[encoded data removed]",
      "text/plain": [
       "<Figure size 576x360 with 1 Axes>"
      ]
     },
     "metadata": {},
     "output_type": "display_data"
    }
   ],
   "source": [
    "import entry_point\n",
    "entry_point.entry_point(pipe, text)"
   ]
  },
  {
   "cell_type": "code",
   "execution_count": null,
   "metadata": {},
   "outputs": [],
   "source": []
  }
 ],
 "metadata": {
  "kernelspec": {
   "display_name": "Python 3.10.4 ('explainable-ai-tooling': conda)",
   "language": "python",
   "name": "python3"
  },
  "language_info": {
   "codemirror_mode": {
    "name": "ipython",
    "version": 3
   },
   "file_extension": ".py",
   "mimetype": "text/x-python",
   "name": "python",
   "nbconvert_exporter": "python",
   "pygments_lexer": "ipython3",
   "version": "3.10.4"
  },
  "vscode": {
   "interpreter": {
    "hash": "47de4e6fcdf76d9f7e9823221d58331110ca8a86e4fcaa17b27f269bc08adee8"
   }
  },
  "widgets": {
   "application/vnd.jupyter.widget-state+json": {
    "state": {
     "00330b72ddef456698217895b922bfab": {
      "model_module": "@jupyter-widgets/controls",
      "model_module_version": "1.5.0",
      "model_name": "HTMLModel",
      "state": {
       "layout": "IPY_MODEL_449b9240a0494605b528c39f4cac29e9",
       "style": "IPY_MODEL_2c6fd9c99ee4430497a6cfa57ab68f8b",
       "value": "Downloading: 100%"
      }
     },
     "06f207f4aea149b089a71cc85ff8d6fe": {
      "model_module": "@jupyter-widgets/controls",
      "model_module_version": "1.5.0",
      "model_name": "DescriptionStyleModel",
      "state": {
       "description_width": ""
      }
     },
     "0b7c5a0b07f441048d5e929177921db3": {
      "model_module": "@jupyter-widgets/controls",
      "model_module_version": "1.5.0",
      "model_name": "HTMLModel",
      "state": {
       "layout": "IPY_MODEL_203866393a8b4fc7aa6190397c3a2f15",
       "style": "IPY_MODEL_fa59eb4405ff4937a291a5bf665d43a2",
       "value": "Downloading: 100%"
      }
     },
     "0f63ad2f78ca410ea7e49ec6ee6ea6e6": {
      "model_module": "@jupyter-widgets/base",
      "model_module_version": "1.2.0",
      "model_name": "LayoutModel",
      "state": {}
     },
     "0f75c3792f5b4d2b8bfb1be41dd7265d": {
      "model_module": "@jupyter-widgets/controls",
      "model_module_version": "1.5.0",
      "model_name": "HBoxModel",
      "state": {
       "children": [
        "IPY_MODEL_585e7b1006624e27b76d5a7e120f457e",
        "IPY_MODEL_1833323a3f3e434f829eca2140ef44b9",
        "IPY_MODEL_2cc705becb014e348e704a77edd8570a"
       ],
       "layout": "IPY_MODEL_76f30f4088ff4076a5006d241c55b082"
      }
     },
     "10595c49efc54165a4435850a7a20c3b": {
      "model_module": "@jupyter-widgets/controls",
      "model_module_version": "1.5.0",
      "model_name": "FloatProgressModel",
      "state": {
       "layout": "IPY_MODEL_52e1153279104779b1b4be6725bf9740",
       "max": 42,
       "style": "IPY_MODEL_3ab3444c3dae41e5bac9d668de528804",
       "value": 42
      }
     },
     "1117a5f066df414fad562f6674e7848c": {
      "model_module": "@jupyter-widgets/base",
      "model_module_version": "1.2.0",
      "model_name": "LayoutModel",
      "state": {}
     },
     "175ad685f2844206bcf91cac201560f2": {
      "model_module": "@jupyter-widgets/controls",
      "model_module_version": "1.5.0",
      "model_name": "HTMLModel",
      "state": {
       "layout": "IPY_MODEL_b2fb633f21d3437f9f00753554a6113c",
       "style": "IPY_MODEL_4f7072d34eb74f24b3a0f10b64af981e",
       "value": "Downloading: 100%"
      }
     },
     "1833323a3f3e434f829eca2140ef44b9": {
      "model_module": "@jupyter-widgets/controls",
      "model_module_version": "1.5.0",
      "model_name": "FloatProgressModel",
      "state": {
       "bar_style": "success",
       "layout": "IPY_MODEL_20b762ecc56840df8e4e276571c564d3",
       "max": 456318,
       "style": "IPY_MODEL_41b16fa38f954b68b70c31a33289d352",
       "value": 456318
      }
     },
     "19587fb6b8044fbf9a4a2acfe31a377c": {
      "model_module": "@jupyter-widgets/base",
      "model_module_version": "1.2.0",
      "model_name": "LayoutModel",
      "state": {}
     },
     "19a3e35c50a648cfa96d30f7c9bfdc61": {
      "model_module": "@jupyter-widgets/base",
      "model_module_version": "1.2.0",
      "model_name": "LayoutModel",
      "state": {}
     },
     "1d39252c6137485dac59ca98073f6096": {
      "model_module": "@jupyter-widgets/base",
      "model_module_version": "1.2.0",
      "model_name": "LayoutModel",
      "state": {}
     },
     "203866393a8b4fc7aa6190397c3a2f15": {
      "model_module": "@jupyter-widgets/base",
      "model_module_version": "1.2.0",
      "model_name": "LayoutModel",
      "state": {}
     },
     "20b762ecc56840df8e4e276571c564d3": {
      "model_module": "@jupyter-widgets/base",
      "model_module_version": "1.2.0",
      "model_name": "LayoutModel",
      "state": {}
     },
     "228d98c7bafa498e95277f676cac544a": {
      "model_module": "@jupyter-widgets/controls",
      "model_module_version": "1.5.0",
      "model_name": "DescriptionStyleModel",
      "state": {
       "description_width": ""
      }
     },
     "23fb0fdc24fe4754bc654b616ccb8054": {
      "model_module": "@jupyter-widgets/base",
      "model_module_version": "1.2.0",
      "model_name": "LayoutModel",
      "state": {}
     },
     "2c6fd9c99ee4430497a6cfa57ab68f8b": {
      "model_module": "@jupyter-widgets/controls",
      "model_module_version": "1.5.0",
      "model_name": "DescriptionStyleModel",
      "state": {
       "description_width": ""
      }
     },
     "2cc705becb014e348e704a77edd8570a": {
      "model_module": "@jupyter-widgets/controls",
      "model_module_version": "1.5.0",
      "model_name": "HTMLModel",
      "state": {
       "layout": "IPY_MODEL_23fb0fdc24fe4754bc654b616ccb8054",
       "style": "IPY_MODEL_36054cff2e164a75b3f7e6aa58e95c50",
       "value": " 446k/446k [00:00&lt;00:00, 849kB/s]"
      }
     },
     "2d12d39c685241508d82efd394025cc1": {
      "model_module": "@jupyter-widgets/base",
      "model_module_version": "1.2.0",
      "model_name": "LayoutModel",
      "state": {}
     },
     "3154cb7b775847a79345ea3e37c89607": {
      "model_module": "@jupyter-widgets/controls",
      "model_module_version": "1.5.0",
      "model_name": "DescriptionStyleModel",
      "state": {
       "description_width": ""
      }
     },
     "336d36d17a4d4b5e9536346f10bc603b": {
      "model_module": "@jupyter-widgets/controls",
      "model_module_version": "1.5.0",
      "model_name": "HTMLModel",
      "state": {
       "layout": "IPY_MODEL_77f4b248a4874426843c09bbff1394f3",
       "style": "IPY_MODEL_b6571b30919147508345bf354e10efb4",
       "value": " 878k/878k [00:00&lt;00:00, 1.65MB/s]"
      }
     },
     "3491bb815d82497f8244ed322080a55a": {
      "model_module": "@jupyter-widgets/controls",
      "model_module_version": "1.5.0",
      "model_name": "DescriptionStyleModel",
      "state": {
       "description_width": ""
      }
     },
     "36054cff2e164a75b3f7e6aa58e95c50": {
      "model_module": "@jupyter-widgets/controls",
      "model_module_version": "1.5.0",
      "model_name": "DescriptionStyleModel",
      "state": {
       "description_width": ""
      }
     },
     "3ab3444c3dae41e5bac9d668de528804": {
      "model_module": "@jupyter-widgets/controls",
      "model_module_version": "1.5.0",
      "model_name": "ProgressStyleModel",
      "state": {
       "description_width": ""
      }
     },
     "41b16fa38f954b68b70c31a33289d352": {
      "model_module": "@jupyter-widgets/controls",
      "model_module_version": "1.5.0",
      "model_name": "ProgressStyleModel",
      "state": {
       "description_width": ""
      }
     },
     "449b9240a0494605b528c39f4cac29e9": {
      "model_module": "@jupyter-widgets/base",
      "model_module_version": "1.2.0",
      "model_name": "LayoutModel",
      "state": {}
     },
     "47345a95fef5488ca9b33827e2b37bd3": {
      "model_module": "@jupyter-widgets/base",
      "model_module_version": "1.2.0",
      "model_name": "LayoutModel",
      "state": {}
     },
     "487b2122806d492fab48839f5db08f07": {
      "model_module": "@jupyter-widgets/controls",
      "model_module_version": "1.5.0",
      "model_name": "HBoxModel",
      "state": {
       "children": [
        "IPY_MODEL_0b7c5a0b07f441048d5e929177921db3",
        "IPY_MODEL_f2ecbe415cd04119943b318ebeb1647e",
        "IPY_MODEL_83dcf4ac87b3402fba5ec9b86b3b5cc7"
       ],
       "layout": "IPY_MODEL_1117a5f066df414fad562f6674e7848c"
      }
     },
     "4f7072d34eb74f24b3a0f10b64af981e": {
      "model_module": "@jupyter-widgets/controls",
      "model_module_version": "1.5.0",
      "model_name": "DescriptionStyleModel",
      "state": {
       "description_width": ""
      }
     },
     "52e1153279104779b1b4be6725bf9740": {
      "model_module": "@jupyter-widgets/base",
      "model_module_version": "1.2.0",
      "model_name": "LayoutModel",
      "state": {}
     },
     "585e7b1006624e27b76d5a7e120f457e": {
      "model_module": "@jupyter-widgets/controls",
      "model_module_version": "1.5.0",
      "model_name": "HTMLModel",
      "state": {
       "layout": "IPY_MODEL_19587fb6b8044fbf9a4a2acfe31a377c",
       "style": "IPY_MODEL_3491bb815d82497f8244ed322080a55a",
       "value": "Downloading: 100%"
      }
     },
     "5e137dc6da974a49ad2f3b65523d79f7": {
      "model_module": "@jupyter-widgets/controls",
      "model_module_version": "1.5.0",
      "model_name": "ProgressStyleModel",
      "state": {
       "description_width": ""
      }
     },
     "5faacb4c66f24ddfb6b947a71bdb5a71": {
      "model_module": "@jupyter-widgets/base",
      "model_module_version": "1.2.0",
      "model_name": "LayoutModel",
      "state": {}
     },
     "6e87f1d5cf1a45628117eec124fc6477": {
      "model_module": "@jupyter-widgets/base",
      "model_module_version": "1.2.0",
      "model_name": "LayoutModel",
      "state": {}
     },
     "76f30f4088ff4076a5006d241c55b082": {
      "model_module": "@jupyter-widgets/base",
      "model_module_version": "1.2.0",
      "model_name": "LayoutModel",
      "state": {}
     },
     "77f4b248a4874426843c09bbff1394f3": {
      "model_module": "@jupyter-widgets/base",
      "model_module_version": "1.2.0",
      "model_name": "LayoutModel",
      "state": {}
     },
     "7d84f590904b4a39b187c5969bf62386": {
      "model_module": "@jupyter-widgets/base",
      "model_module_version": "1.2.0",
      "model_name": "LayoutModel",
      "state": {}
     },
     "83dcf4ac87b3402fba5ec9b86b3b5cc7": {
      "model_module": "@jupyter-widgets/controls",
      "model_module_version": "1.5.0",
      "model_name": "HTMLModel",
      "state": {
       "layout": "IPY_MODEL_2d12d39c685241508d82efd394025cc1",
       "style": "IPY_MODEL_ccdd474d65e44afb8c6b855a0bf12800",
       "value": " 26.0/26.0 [00:00&lt;00:00, 1.01kB/s]"
      }
     },
     "852680bc3fe14d88be781f4ab3741397": {
      "model_module": "@jupyter-widgets/controls",
      "model_module_version": "1.5.0",
      "model_name": "DescriptionStyleModel",
      "state": {
       "description_width": ""
      }
     },
     "8929f9e6b25a4a16886a0c326440fb0e": {
      "model_module": "@jupyter-widgets/controls",
      "model_module_version": "1.5.0",
      "model_name": "FloatProgressModel",
      "state": {
       "bar_style": "success",
       "layout": "IPY_MODEL_9db2d5e3b6bc4418aa6ff1132ab6fae7",
       "max": 898822,
       "style": "IPY_MODEL_a58e029d3a3f4976993b241b38e59c8f",
       "value": 898822
      }
     },
     "9656c0ab5f3e4b03a4914e5032af42b0": {
      "model_module": "@jupyter-widgets/base",
      "model_module_version": "1.2.0",
      "model_name": "LayoutModel",
      "state": {}
     },
     "9db2d5e3b6bc4418aa6ff1132ab6fae7": {
      "model_module": "@jupyter-widgets/base",
      "model_module_version": "1.2.0",
      "model_name": "LayoutModel",
      "state": {}
     },
     "a117a08434ac41ac9f2251bf3d26939a": {
      "model_module": "@jupyter-widgets/controls",
      "model_module_version": "1.5.0",
      "model_name": "HTMLModel",
      "state": {
       "layout": "IPY_MODEL_b7aa361b747e4f3fa05d481123d77648",
       "style": "IPY_MODEL_d16f41fa385342ca980aa17f5bd539f6",
       "value": "Downloading: 100%"
      }
     },
     "a58e029d3a3f4976993b241b38e59c8f": {
      "model_module": "@jupyter-widgets/controls",
      "model_module_version": "1.5.0",
      "model_name": "ProgressStyleModel",
      "state": {
       "description_width": ""
      }
     },
     "a946c956fb274330b5c1d24b106251bc": {
      "model_module": "@jupyter-widgets/base",
      "model_module_version": "1.2.0",
      "model_name": "LayoutModel",
      "state": {}
     },
     "b2fb633f21d3437f9f00753554a6113c": {
      "model_module": "@jupyter-widgets/base",
      "model_module_version": "1.2.0",
      "model_name": "LayoutModel",
      "state": {}
     },
     "b6571b30919147508345bf354e10efb4": {
      "model_module": "@jupyter-widgets/controls",
      "model_module_version": "1.5.0",
      "model_name": "DescriptionStyleModel",
      "state": {
       "description_width": ""
      }
     },
     "b6a8dcb2f1a54d4787d26004b74b9057": {
      "model_module": "@jupyter-widgets/base",
      "model_module_version": "1.2.0",
      "model_name": "LayoutModel",
      "state": {}
     },
     "b7aa361b747e4f3fa05d481123d77648": {
      "model_module": "@jupyter-widgets/base",
      "model_module_version": "1.2.0",
      "model_name": "LayoutModel",
      "state": {}
     },
     "bbf53e74708e45b48188b38f3c991372": {
      "model_module": "@jupyter-widgets/controls",
      "model_module_version": "1.5.0",
      "model_name": "ProgressStyleModel",
      "state": {
       "description_width": ""
      }
     },
     "cacbaf8508a241b6bfa3e0a3b85e31bd": {
      "model_module": "@jupyter-widgets/controls",
      "model_module_version": "1.5.0",
      "model_name": "HBoxModel",
      "state": {
       "children": [
        "IPY_MODEL_175ad685f2844206bcf91cac201560f2",
        "IPY_MODEL_d426b26b8b464061bd29d5ea280fa80c",
        "IPY_MODEL_d2a589714faf4983bf7d4f5a910f27b3"
       ],
       "layout": "IPY_MODEL_6e87f1d5cf1a45628117eec124fc6477"
      }
     },
     "cbbe142134004c6ab0c673edf68968d0": {
      "model_module": "@jupyter-widgets/controls",
      "model_module_version": "1.5.0",
      "model_name": "HBoxModel",
      "state": {
       "children": [
        "IPY_MODEL_00330b72ddef456698217895b922bfab",
        "IPY_MODEL_cdcbda2159b449809b866d806b9dc67e",
        "IPY_MODEL_d11a1e74d1da4108aed6b24675d465f1"
       ],
       "layout": "IPY_MODEL_0f63ad2f78ca410ea7e49ec6ee6ea6e6"
      }
     },
     "ccdd474d65e44afb8c6b855a0bf12800": {
      "model_module": "@jupyter-widgets/controls",
      "model_module_version": "1.5.0",
      "model_name": "DescriptionStyleModel",
      "state": {
       "description_width": ""
      }
     },
     "cdcbda2159b449809b866d806b9dc67e": {
      "model_module": "@jupyter-widgets/controls",
      "model_module_version": "1.5.0",
      "model_name": "FloatProgressModel",
      "state": {
       "bar_style": "success",
       "layout": "IPY_MODEL_7d84f590904b4a39b187c5969bf62386",
       "max": 772,
       "style": "IPY_MODEL_5e137dc6da974a49ad2f3b65523d79f7",
       "value": 772
      }
     },
     "d11a1e74d1da4108aed6b24675d465f1": {
      "model_module": "@jupyter-widgets/controls",
      "model_module_version": "1.5.0",
      "model_name": "HTMLModel",
      "state": {
       "layout": "IPY_MODEL_19a3e35c50a648cfa96d30f7c9bfdc61",
       "style": "IPY_MODEL_06f207f4aea149b089a71cc85ff8d6fe",
       "value": " 772/772 [00:00&lt;00:00, 34.8kB/s]"
      }
     },
     "d16f41fa385342ca980aa17f5bd539f6": {
      "model_module": "@jupyter-widgets/controls",
      "model_module_version": "1.5.0",
      "model_name": "DescriptionStyleModel",
      "state": {
       "description_width": ""
      }
     },
     "d2a589714faf4983bf7d4f5a910f27b3": {
      "model_module": "@jupyter-widgets/controls",
      "model_module_version": "1.5.0",
      "model_name": "HTMLModel",
      "state": {
       "layout": "IPY_MODEL_f0f1bb6fbc644705a64e64a5744d1cfa",
       "style": "IPY_MODEL_3154cb7b775847a79345ea3e37c89607",
       "value": " 977M/977M [02:00&lt;00:00, 9.22MB/s]"
      }
     },
     "d426b26b8b464061bd29d5ea280fa80c": {
      "model_module": "@jupyter-widgets/controls",
      "model_module_version": "1.5.0",
      "model_name": "FloatProgressModel",
      "state": {
       "bar_style": "success",
       "layout": "IPY_MODEL_a946c956fb274330b5c1d24b106251bc",
       "max": 1024804435,
       "style": "IPY_MODEL_bbf53e74708e45b48188b38f3c991372",
       "value": 1024804435
      }
     },
     "d648564560af430caeec60542886c971": {
      "model_module": "@jupyter-widgets/controls",
      "model_module_version": "1.5.0",
      "model_name": "HTMLModel",
      "state": {
       "layout": "IPY_MODEL_b6a8dcb2f1a54d4787d26004b74b9057",
       "style": "IPY_MODEL_228d98c7bafa498e95277f676cac544a",
       "value": " 84/? [00:08&lt;00:00,  6.43it/s]"
      }
     },
     "dbbeee41eb1c4f619203be74f228a0c5": {
      "model_module": "@jupyter-widgets/controls",
      "model_module_version": "1.5.0",
      "model_name": "ProgressStyleModel",
      "state": {
       "description_width": ""
      }
     },
     "deea6d8d76dc4fedb5930ebbd26ebafc": {
      "model_module": "@jupyter-widgets/controls",
      "model_module_version": "1.5.0",
      "model_name": "HBoxModel",
      "state": {
       "children": [
        "IPY_MODEL_a117a08434ac41ac9f2251bf3d26939a",
        "IPY_MODEL_8929f9e6b25a4a16886a0c326440fb0e",
        "IPY_MODEL_336d36d17a4d4b5e9536346f10bc603b"
       ],
       "layout": "IPY_MODEL_9656c0ab5f3e4b03a4914e5032af42b0"
      }
     },
     "f0f1bb6fbc644705a64e64a5744d1cfa": {
      "model_module": "@jupyter-widgets/base",
      "model_module_version": "1.2.0",
      "model_name": "LayoutModel",
      "state": {}
     },
     "f2ecbe415cd04119943b318ebeb1647e": {
      "model_module": "@jupyter-widgets/controls",
      "model_module_version": "1.5.0",
      "model_name": "FloatProgressModel",
      "state": {
       "bar_style": "success",
       "layout": "IPY_MODEL_5faacb4c66f24ddfb6b947a71bdb5a71",
       "max": 26,
       "style": "IPY_MODEL_dbbeee41eb1c4f619203be74f228a0c5",
       "value": 26
      }
     },
     "fa59eb4405ff4937a291a5bf665d43a2": {
      "model_module": "@jupyter-widgets/controls",
      "model_module_version": "1.5.0",
      "model_name": "DescriptionStyleModel",
      "state": {
       "description_width": ""
      }
     },
     "ff5c5ad28d794af5a7f5aaf3619a2384": {
      "model_module": "@jupyter-widgets/controls",
      "model_module_version": "1.5.0",
      "model_name": "HTMLModel",
      "state": {
       "layout": "IPY_MODEL_1d39252c6137485dac59ca98073f6096",
       "style": "IPY_MODEL_852680bc3fe14d88be781f4ab3741397"
      }
     }
    },
    "version_major": 2,
    "version_minor": 0
   }
  }
 },
 "nbformat": 4,
 "nbformat_minor": 4
}
