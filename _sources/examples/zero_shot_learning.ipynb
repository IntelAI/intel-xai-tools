{
 "cells": [
  {
   "cell_type": "markdown",
   "metadata": {},
   "source": [
    "# Explaining zero shot learning\n",
    "\n",
    "\n",
    "see [Explaining transformer models using SHAP](https://github.com/PacktPublishing/Applied-Machine-Learning-Explainability-Techniques/blob/main/Chapter07/Explaining_Transformers.ipynb)"
   ]
  },
  {
   "cell_type": "code",
   "execution_count": 1,
   "metadata": {},
   "outputs": [
    {
     "name": "stdout",
     "output_type": "stream",
     "text": [
      "Hugging Face transformer version used: 4.20.1\n"
     ]
    }
   ],
   "source": [
    "import warnings\n",
    "warnings.filterwarnings('ignore')\n",
    "\n",
    "import numpy as np\n",
    "np.random.seed(123)\n",
    "# add zero_shot_learning.pkz to path which includes a shap entry_point. See zero_shot_learning.yaml\n",
    "# to create the zero_shot_learning.pkz run 'explainer export zero_shot_learning'\n",
    "from explainer.explainers import zero_shot_learning\n",
    "import transformers\n",
    "print(f\"Hugging Face transformer version used: {transformers.__version__}\")\n",
    "from transformers import AutoModelForSequenceClassification, AutoTokenizer, ZeroShotClassificationPipeline\n",
    "from typing import Union, List"
   ]
  },
  {
   "cell_type": "code",
   "execution_count": 2,
   "metadata": {},
   "outputs": [
    {
     "data": {
      "application/vnd.jupyter.widget-view+json": {
       "model_id": "cacbaf8508a241b6bfa3e0a3b85e31bd",
       "version_major": 2,
       "version_minor": 0
      },
      "text/plain": [
       "Downloading:   0%|          | 0.00/977M [00:00<?, ?B/s]"
      ]
     },
     "metadata": {},
     "output_type": "display_data"
    },
    {
     "data": {
      "application/vnd.jupyter.widget-view+json": {
       "model_id": "487b2122806d492fab48839f5db08f07",
       "version_major": 2,
       "version_minor": 0
      },
      "text/plain": [
       "Downloading:   0%|          | 0.00/26.0 [00:00<?, ?B/s]"
      ]
     },
     "metadata": {},
     "output_type": "display_data"
    },
    {
     "data": {
      "application/vnd.jupyter.widget-view+json": {
       "model_id": "deea6d8d76dc4fedb5930ebbd26ebafc",
       "version_major": 2,
       "version_minor": 0
      },
      "text/plain": [
       "Downloading:   0%|          | 0.00/878k [00:00<?, ?B/s]"
      ]
     },
     "metadata": {},
     "output_type": "display_data"
    },
    {
     "data": {
      "application/vnd.jupyter.widget-view+json": {
       "model_id": "0f75c3792f5b4d2b8bfb1be41dd7265d",
       "version_major": 2,
       "version_minor": 0
      },
      "text/plain": [
       "Downloading:   0%|          | 0.00/446k [00:00<?, ?B/s]"
      ]
     },
     "metadata": {},
     "output_type": "display_data"
    },
    {
     "data": {
      "application/vnd.jupyter.widget-view+json": {
       "model_id": "cbbe142134004c6ab0c673edf68968d0",
       "version_major": 2,
       "version_minor": 0
      },
      "text/plain": [
       "Downloading:   0%|          | 0.00/772 [00:00<?, ?B/s]"
      ]
     },
     "metadata": {},
     "output_type": "display_data"
    }
   ],
   "source": [
    "# Loading the hugging face model and tokenizer\n",
    "model = AutoModelForSequenceClassification.from_pretrained(\"valhalla/distilbart-mnli-12-3\")\n",
    "tokenizer = AutoTokenizer.from_pretrained(\"valhalla/distilbart-mnli-12-3\")"
   ]
  },
  {
   "cell_type": "code",
   "execution_count": 3,
   "metadata": {},
   "outputs": [],
   "source": [
    "# Create a custom pipeline that only requires the text parameter \n",
    "# for the __call__ method and provides a method to set the labels\n",
    "class ZeroShotModelPipeline(ZeroShotClassificationPipeline):\n",
    "    # Overwrite the __call__ method\n",
    "    def __call__(self, *args):\n",
    "        out = super().__call__(args[0], self.set_labels)[0]\n",
    "\n",
    "        return [[{\"label\":x[0], \"score\": x[1]}  for x in zip(out[\"labels\"], out[\"scores\"])]]\n",
    "\n",
    "    def set_labels(self, labels: Union[str,List[str]]):\n",
    "        self.set_labels = labels"
   ]
  },
  {
   "cell_type": "code",
   "execution_count": 4,
   "metadata": {},
   "outputs": [],
   "source": [
    "text = [\"I love playing cricket!\"]\n",
    "labels = [\"insect\",\"sports\", \"animal\"]"
   ]
  },
  {
   "cell_type": "code",
   "execution_count": 5,
   "metadata": {},
   "outputs": [],
   "source": [
    "# Assign the labels for the classification model\n",
    "model.config.label2id.update({v:k for k,v in enumerate(labels)})\n",
    "model.config.id2label.update({k:v for k,v in enumerate(labels)})\n"
   ]
  },
  {
   "cell_type": "code",
   "execution_count": 6,
   "metadata": {},
   "outputs": [],
   "source": [
    "pipe = ZeroShotModelPipeline(model=model, tokenizer=tokenizer, return_all_scores=True)\n",
    "pipe.set_labels(labels)"
   ]
  },
  {
   "cell_type": "code",
   "execution_count": 7,
   "metadata": {},
   "outputs": [
    {
     "name": "stdout",
     "output_type": "stream",
     "text": [
      "Shap version used: 0.40.0\n"
     ]
    },
    {
     "data": {
      "application/vnd.jupyter.widget-view+json": {
       "model_id": "",
       "version_major": 2,
       "version_minor": 0
      },
      "text/plain": [
       "  0%|          | 0/42 [00:00<?, ?it/s]"
      ]
     },
     "metadata": {},
     "output_type": "display_data"
    },
    {
     "name": "stderr",
     "output_type": "stream",
     "text": [
      "Partition explainer: 2it [00:16, 16.52s/it]               \n"
     ]
    },
    {
     "name": "stdout",
     "output_type": "stream",
     "text": [
      "Model predictions are: [[{'label': 'sports', 'score': 0.8340923190116882}, {'label': 'insect', 'score': 0.1633770763874054}, {'label': 'animal', 'score': 0.0025305552408099174}]]\n"
     ]
    },
    {
     "data": {
      "text/html": [
       "\n",
       "<br>\n",
       "<hr style=\"height: 1px; background-color: #fff; border: none; margin-top: 18px; margin-bottom: 18px; border-top: 1px dashed #ccc;\"\">\n",
       "<div align=\"center\" style=\"margin-top: -35px;\"><div style=\"display: inline-block; background: #fff; padding: 5px; color: #999; font-family: monospace\">[0]</div>\n",
       "</div>\n",
       "            "
      ],
      "text/plain": [
       "<IPython.core.display.HTML object>"
      ]
     },
     "metadata": {},
     "output_type": "display_data"
    },
    {
     "data": {
      "text/html": [
       "<div align='center'>\n",
       "<script>\n",
       "    document._hover_nlbmgvjcuvvfwzckawpn = '_tp_nlbmgvjcuvvfwzckawpn_output_0';\n",
       "    document._zoom_nlbmgvjcuvvfwzckawpn = undefined;\n",
       "    function _output_onclick_nlbmgvjcuvvfwzckawpn(i) {\n",
       "        var next_id = undefined;\n",
       "        \n",
       "        if (document._zoom_nlbmgvjcuvvfwzckawpn !== undefined) {\n",
       "            document.getElementById(document._zoom_nlbmgvjcuvvfwzckawpn+ '_zoom').style.display = 'none';\n",
       "            \n",
       "            if (document._zoom_nlbmgvjcuvvfwzckawpn === '_tp_nlbmgvjcuvvfwzckawpn_output_' + i) {\n",
       "                document.getElementById(document._zoom_nlbmgvjcuvvfwzckawpn).style.display = 'block';\n",
       "                document.getElementById(document._zoom_nlbmgvjcuvvfwzckawpn+'_name').style.borderBottom = '3px solid #000000';\n",
       "            } else {\n",
       "                document.getElementById(document._zoom_nlbmgvjcuvvfwzckawpn).style.display = 'none';\n",
       "                document.getElementById(document._zoom_nlbmgvjcuvvfwzckawpn+'_name').style.borderBottom = 'none';\n",
       "            }\n",
       "        }\n",
       "        if (document._zoom_nlbmgvjcuvvfwzckawpn !== '_tp_nlbmgvjcuvvfwzckawpn_output_' + i) {\n",
       "            next_id = '_tp_nlbmgvjcuvvfwzckawpn_output_' + i;\n",
       "            document.getElementById(next_id).style.display = 'none';\n",
       "            document.getElementById(next_id + '_zoom').style.display = 'block';\n",
       "            document.getElementById(next_id+'_name').style.borderBottom = '3px solid #000000';\n",
       "        }\n",
       "        document._zoom_nlbmgvjcuvvfwzckawpn = next_id;\n",
       "    }\n",
       "    function _output_onmouseover_nlbmgvjcuvvfwzckawpn(i, el) {\n",
       "        if (document._zoom_nlbmgvjcuvvfwzckawpn !== undefined) { return; }\n",
       "        if (document._hover_nlbmgvjcuvvfwzckawpn !== undefined) {\n",
       "            document.getElementById(document._hover_nlbmgvjcuvvfwzckawpn + '_name').style.borderBottom = 'none';\n",
       "            document.getElementById(document._hover_nlbmgvjcuvvfwzckawpn).style.display = 'none';\n",
       "        }\n",
       "        document.getElementById('_tp_nlbmgvjcuvvfwzckawpn_output_' + i).style.display = 'block';\n",
       "        el.style.borderBottom = '3px solid #000000';\n",
       "        document._hover_nlbmgvjcuvvfwzckawpn = '_tp_nlbmgvjcuvvfwzckawpn_output_' + i;\n",
       "    }\n",
       "</script>\n",
       "<div style=\"color: rgb(120,120,120); font-size: 12px;\">outputs</div>\n",
       "<div style=\"display: inline; border-bottom: 3px solid #000000; background: rgba(255.0, 13.0, 87.0, 0.1959595959595959); border-radius: 3px; padding: 0px\" id=\"_tp_nlbmgvjcuvvfwzckawpn_output_0_name\"\n",
       "    onclick=\"_output_onclick_nlbmgvjcuvvfwzckawpn(0)\"\n",
       "    onmouseover=\"_output_onmouseover_nlbmgvjcuvvfwzckawpn(0, this);\">insect</div>\n",
       "<div style=\"display: inline; border-bottom: none; background: rgba(255.0, 13.0, 87.0, 1.0); border-radius: 3px; padding: 0px\" id=\"_tp_nlbmgvjcuvvfwzckawpn_output_1_name\"\n",
       "    onclick=\"_output_onclick_nlbmgvjcuvvfwzckawpn(1)\"\n",
       "    onmouseover=\"_output_onmouseover_nlbmgvjcuvvfwzckawpn(1, this);\">sports</div>\n",
       "<div style=\"display: inline; border-bottom: none; background: rgba(230.2941176470614, 26.505882352939775, 102.59215686274348, 0.0); border-radius: 3px; padding: 0px\" id=\"_tp_nlbmgvjcuvvfwzckawpn_output_2_name\"\n",
       "    onclick=\"_output_onclick_nlbmgvjcuvvfwzckawpn(2)\"\n",
       "    onmouseover=\"_output_onmouseover_nlbmgvjcuvvfwzckawpn(2, this);\">animal</div><br><br><div id='_tp_nlbmgvjcuvvfwzckawpn_output_0' style='display: block';><svg width=\"100%\" height=\"80px\"><line x1=\"0\" y1=\"33\" x2=\"100%\" y2=\"33\" style=\"stroke:rgb(150,150,150);stroke-width:1\" /><line x1=\"51.63855637541619%\" y1=\"33\" x2=\"51.63855637541619%\" y2=\"37\" style=\"stroke:rgb(150,150,150);stroke-width:1\" /><text x=\"51.63855637541619%\" y=\"27\" font-size=\"12px\" fill=\"rgb(120,120,120)\" dominant-baseline=\"bottom\" text-anchor=\"middle\">0.4</text><line x1=\"34.98388402097983%\" y1=\"33\" x2=\"34.98388402097983%\" y2=\"37\" style=\"stroke:rgb(150,150,150);stroke-width:1\" /><text x=\"34.98388402097983%\" y=\"27\" font-size=\"12px\" fill=\"rgb(120,120,120)\" dominant-baseline=\"bottom\" text-anchor=\"middle\">0.2</text><line x1=\"18.329211666543475%\" y1=\"33\" x2=\"18.329211666543475%\" y2=\"37\" style=\"stroke:rgb(150,150,150);stroke-width:1\" /><text x=\"18.329211666543475%\" y=\"27\" font-size=\"12px\" fill=\"rgb(120,120,120)\" dominant-baseline=\"bottom\" text-anchor=\"middle\">0</text><line x1=\"68.29322872985256%\" y1=\"33\" x2=\"68.29322872985256%\" y2=\"37\" style=\"stroke:rgb(150,150,150);stroke-width:1\" /><text x=\"68.29322872985256%\" y=\"27\" font-size=\"12px\" fill=\"rgb(120,120,120)\" dominant-baseline=\"bottom\" text-anchor=\"middle\">0.6</text><line x1=\"84.9479010842889%\" y1=\"33\" x2=\"84.9479010842889%\" y2=\"37\" style=\"stroke:rgb(150,150,150);stroke-width:1\" /><text x=\"84.9479010842889%\" y=\"27\" font-size=\"12px\" fill=\"rgb(120,120,120)\" dominant-baseline=\"bottom\" text-anchor=\"middle\">0.8</text><line x1=\"34.264900738085885%\" y1=\"33\" x2=\"34.264900738085885%\" y2=\"37\" style=\"stroke:rgb(150,150,150);stroke-width:1\" /><text x=\"34.264900738085885%\" y=\"27\" font-size=\"13px\" style=\"stroke:#ffffff;stroke-width:8px;\" fill=\"rgb(255,255,255)\" dominant-baseline=\"bottom\" text-anchor=\"middle\">0.191366</text><text x=\"34.264900738085885%\" y=\"27\" font-size=\"12px\" fill=\"rgb(120,120,120)\" dominant-baseline=\"bottom\" text-anchor=\"middle\">0.191366</text><text x=\"34.264900738085885%\" y=\"10\" font-size=\"12px\" fill=\"rgb(120,120,120)\" dominant-baseline=\"bottom\" text-anchor=\"middle\">base value</text><line x1=\"31.93417005383326%\" y1=\"33\" x2=\"31.93417005383326%\" y2=\"37\" style=\"stroke:rgb(150,150,150);stroke-width:1\" /><text x=\"31.93417005383326%\" y=\"27\" font-size=\"13px\" style=\"stroke:#ffffff;stroke-width:8px;\" font-weight=\"bold\" fill=\"rgb(255,255,255)\" dominant-baseline=\"bottom\" text-anchor=\"middle\">0.163377</text><text x=\"31.93417005383326%\" y=\"27\" font-size=\"13px\" font-weight=\"bold\" fill=\"rgb(0,0,0)\" dominant-baseline=\"bottom\" text-anchor=\"middle\">0.163377</text><text x=\"31.93417005383326%\" y=\"10\" font-size=\"12px\" fill=\"rgb(120,120,120)\" dominant-baseline=\"bottom\" text-anchor=\"middle\">f<tspan baseline-shift=\"sub\" font-size=\"8px\">insect</tspan>(inputs)</text><rect x=\"22.393444309109135%\" width=\"9.540725744724124%\" y=\"40\" height=\"18\" style=\"fill:rgb(255.0, 0.0, 81.08083606031792); stroke-width:0; stroke:rgb(0,0,0)\" /><line x1=\"26.150176345718716%\" x2=\"31.93417005383326%\" y1=\"60\" y2=\"60\" id=\"_fb_hchvjdhpshbrwsudvxkk_ind_0\" style=\"stroke:rgb(255.0, 0.0, 81.08083606031792);stroke-width:2; opacity: 0\"/><text x=\"29.042173199775988%\" y=\"71\" font-size=\"12px\" id=\"_fs_hchvjdhpshbrwsudvxkk_ind_0\" fill=\"rgb(255.0, 0.0, 81.08083606031792)\" style=\"opacity: 0\" dominant-baseline=\"middle\" text-anchor=\"middle\">0.069</text><svg x=\"26.150176345718716%\" y=\"40\" height=\"20\" width=\"5.783993708114544%\">  <svg x=\"0\" y=\"0\" width=\"100%\" height=\"100%\">    <text x=\"50%\" y=\"9\" font-size=\"12px\" fill=\"rgb(255,255,255)\" dominant-baseline=\"middle\" text-anchor=\"middle\"></text>  </svg></svg><line x1=\"23.674203910521165%\" x2=\"26.150176345718716%\" y1=\"60\" y2=\"60\" id=\"_fb_hchvjdhpshbrwsudvxkk_ind_2\" style=\"stroke:rgb(255.0, 0.0, 81.08083606031792);stroke-width:2; opacity: 0\"/><text x=\"24.91219012811994%\" y=\"71\" font-size=\"12px\" id=\"_fs_hchvjdhpshbrwsudvxkk_ind_2\" fill=\"rgb(255.0, 0.0, 81.08083606031792)\" style=\"opacity: 0\" dominant-baseline=\"middle\" text-anchor=\"middle\">0.03</text><svg x=\"23.674203910521165%\" y=\"40\" height=\"20\" width=\"2.4759724351975514%\">  <svg x=\"0\" y=\"0\" width=\"100%\" height=\"100%\">    <text x=\"50%\" y=\"9\" font-size=\"12px\" fill=\"rgb(255,255,255)\" dominant-baseline=\"middle\" text-anchor=\"middle\">love</text>  </svg></svg><line x1=\"22.393444309109135%\" x2=\"23.674203910521165%\" y1=\"60\" y2=\"60\" id=\"_fb_hchvjdhpshbrwsudvxkk_ind_1\" style=\"stroke:rgb(255.0, 0.0, 81.08083606031792);stroke-width:2; opacity: 0\"/><text x=\"23.03382410981515%\" y=\"71\" font-size=\"12px\" id=\"_fs_hchvjdhpshbrwsudvxkk_ind_1\" fill=\"rgb(255.0, 0.0, 81.08083606031792)\" style=\"opacity: 0\" dominant-baseline=\"middle\" text-anchor=\"middle\">0.015</text><svg x=\"22.393444309109135%\" y=\"40\" height=\"20\" width=\"1.2807596014120293%\">  <svg x=\"0\" y=\"0\" width=\"100%\" height=\"100%\">    <text x=\"50%\" y=\"9\" font-size=\"12px\" fill=\"rgb(255,255,255)\" dominant-baseline=\"middle\" text-anchor=\"middle\">I</text>  </svg></svg><g transform=\"translate(0,0)\">  <svg x=\"26.150176345718716%\" y=\"40\" height=\"18\" overflow=\"visible\" width=\"30\">    <path d=\"M 0 -9 l 6 18 L 0 25\" fill=\"none\" style=\"stroke:rgb(255.0, 0.0, 81.08083606031792);stroke-width:2\" />  </svg></g><g transform=\"translate(2,0)\">  <svg x=\"26.150176345718716%\" y=\"40\" height=\"18\" overflow=\"visible\" width=\"30\">    <path d=\"M 0 -9 l 6 18 L 0 25\" fill=\"none\" style=\"stroke:rgb(255.0, 0.0, 81.08083606031792);stroke-width:2\" />  </svg></g><g transform=\"translate(4,0)\">  <svg x=\"26.150176345718716%\" y=\"40\" height=\"18\" overflow=\"visible\" width=\"30\">    <path d=\"M 0 -9 l 6 18 L 0 25\" fill=\"none\" style=\"stroke:rgb(255.0, 0.0, 81.08083606031792);stroke-width:2\" />  </svg></g><g transform=\"translate(6,0)\">  <svg x=\"26.150176345718716%\" y=\"40\" height=\"18\" overflow=\"visible\" width=\"30\">    <path d=\"M 0 -9 l 6 18 L 0 25\" fill=\"none\" style=\"stroke:rgb(255.0, 0.0, 81.08083606031792);stroke-width:2\" />  </svg></g><g transform=\"translate(-8,0)\">  <svg x=\"26.150176345718716%\" y=\"40\" height=\"18\" overflow=\"visible\" width=\"30\">    <path d=\"M 0 -9 l 6 18 L 0 25\" fill=\"none\" style=\"stroke:rgb(255.0, 0.0, 81.08083606031792);stroke-width:2\" />  </svg></g><g transform=\"translate(-6,0)\">  <svg x=\"26.150176345718716%\" y=\"40\" height=\"18\" overflow=\"visible\" width=\"30\">    <path d=\"M 0 -9 l 6 18 L 0 25\" fill=\"none\" style=\"stroke:rgb(255.0, 0.0, 81.08083606031792);stroke-width:2\" />  </svg></g><g transform=\"translate(-4,0)\">  <svg x=\"26.150176345718716%\" y=\"40\" height=\"18\" overflow=\"visible\" width=\"30\">    <path d=\"M 0 -9 l 6 18 L 0 25\" fill=\"none\" style=\"stroke:rgb(255.0, 0.0, 81.08083606031792);stroke-width:2\" />  </svg></g><g transform=\"translate(-2,0)\">  <svg x=\"26.150176345718716%\" y=\"40\" height=\"18\" overflow=\"visible\" width=\"30\">    <path d=\"M 0 -9 l 6 18 L 0 25\" fill=\"none\" style=\"stroke:rgb(255.0, 0.0, 81.08083606031792);stroke-width:2\" />  </svg></g><g transform=\"translate(0,0)\">  <svg x=\"23.674203910521165%\" y=\"40\" height=\"18\" overflow=\"visible\" width=\"30\">    <path d=\"M 0 -9 l 6 18 L 0 25\" fill=\"none\" style=\"stroke:rgb(255.0, 0.0, 81.08083606031792);stroke-width:2\" />  </svg></g><g transform=\"translate(2,0)\">  <svg x=\"23.674203910521165%\" y=\"40\" height=\"18\" overflow=\"visible\" width=\"30\">    <path d=\"M 0 -9 l 6 18 L 0 25\" fill=\"none\" style=\"stroke:rgb(255.0, 0.0, 81.08083606031792);stroke-width:2\" />  </svg></g><g transform=\"translate(4,0)\">  <svg x=\"23.674203910521165%\" y=\"40\" height=\"18\" overflow=\"visible\" width=\"30\">    <path d=\"M 0 -9 l 6 18 L 0 25\" fill=\"none\" style=\"stroke:rgb(255.0, 0.0, 81.08083606031792);stroke-width:2\" />  </svg></g><g transform=\"translate(6,0)\">  <svg x=\"23.674203910521165%\" y=\"40\" height=\"18\" overflow=\"visible\" width=\"30\">    <path d=\"M 0 -9 l 6 18 L 0 25\" fill=\"none\" style=\"stroke:rgb(255.0, 0.0, 81.08083606031792);stroke-width:2\" />  </svg></g><g transform=\"translate(-8,0)\">  <svg x=\"23.674203910521165%\" y=\"40\" height=\"18\" overflow=\"visible\" width=\"30\">    <path d=\"M 0 -9 l 6 18 L 0 25\" fill=\"none\" style=\"stroke:rgb(255.0, 0.0, 81.08083606031792);stroke-width:2\" />  </svg></g><g transform=\"translate(-6,0)\">  <svg x=\"23.674203910521165%\" y=\"40\" height=\"18\" overflow=\"visible\" width=\"30\">    <path d=\"M 0 -9 l 6 18 L 0 25\" fill=\"none\" style=\"stroke:rgb(255.0, 0.0, 81.08083606031792);stroke-width:2\" />  </svg></g><g transform=\"translate(-4,0)\">  <svg x=\"23.674203910521165%\" y=\"40\" height=\"18\" overflow=\"visible\" width=\"30\">    <path d=\"M 0 -9 l 6 18 L 0 25\" fill=\"none\" style=\"stroke:rgb(255.0, 0.0, 81.08083606031792);stroke-width:2\" />  </svg></g><g transform=\"translate(-2,0)\">  <svg x=\"23.674203910521165%\" y=\"40\" height=\"18\" overflow=\"visible\" width=\"30\">    <path d=\"M 0 -9 l 6 18 L 0 25\" fill=\"none\" style=\"stroke:rgb(255.0, 0.0, 81.08083606031792);stroke-width:2\" />  </svg></g><rect transform=\"translate(-8,0)\" x=\"31.93417005383326%\" y=\"40\" width=\"8\" height=\"18\" style=\"fill:rgb(255.0, 0.0, 81.08083606031792)\"/><g transform=\"translate(-11.5,0)\">  <svg x=\"22.393444309109135%\" y=\"40\" height=\"18\" overflow=\"visible\" width=\"30\">    <path d=\"M 10 -9 l 6 18 L 10 25 L 0 25 L 0 -9\" fill=\"#ffffff\" style=\"stroke:rgb(255,255,255);stroke-width:2\" />  </svg></g><g transform=\"translate(-1.5,0)\">  <svg x=\"31.93417005383326%\" y=\"40\" height=\"18\" overflow=\"visible\" width=\"30\">    <path d=\"M 0 -9 l 6 18 L 0 25\" fill=\"none\" style=\"stroke:rgb(255, 195, 213);stroke-width:2\" />  </svg></g><rect x=\"26.150176345718716%\" y=\"40\" height=\"20\" width=\"5.783993708114544%\"      onmouseover=\"document.getElementById('_tp_hchvjdhpshbrwsudvxkk_ind_0').style.textDecoration = 'underline';document.getElementById('_fs_hchvjdhpshbrwsudvxkk_ind_0').style.opacity = 1;document.getElementById('_fb_hchvjdhpshbrwsudvxkk_ind_0').style.opacity = 1;\"      onmouseout=\"document.getElementById('_tp_hchvjdhpshbrwsudvxkk_ind_0').style.textDecoration = 'none';document.getElementById('_fs_hchvjdhpshbrwsudvxkk_ind_0').style.opacity = 0;document.getElementById('_fb_hchvjdhpshbrwsudvxkk_ind_0').style.opacity = 0;\" style=\"fill:rgb(0,0,0,0)\" /><g transform=\"translate(-1.5,0)\">  <svg x=\"26.150176345718716%\" y=\"40\" height=\"18\" overflow=\"visible\" width=\"30\">    <path d=\"M 0 -9 l 6 18 L 0 25\" fill=\"none\" style=\"stroke:rgb(255, 195, 213);stroke-width:2\" />  </svg></g><rect x=\"23.674203910521165%\" y=\"40\" height=\"20\" width=\"2.4759724351975514%\"      onmouseover=\"document.getElementById('_tp_hchvjdhpshbrwsudvxkk_ind_2').style.textDecoration = 'underline';document.getElementById('_fs_hchvjdhpshbrwsudvxkk_ind_2').style.opacity = 1;document.getElementById('_fb_hchvjdhpshbrwsudvxkk_ind_2').style.opacity = 1;\"      onmouseout=\"document.getElementById('_tp_hchvjdhpshbrwsudvxkk_ind_2').style.textDecoration = 'none';document.getElementById('_fs_hchvjdhpshbrwsudvxkk_ind_2').style.opacity = 0;document.getElementById('_fb_hchvjdhpshbrwsudvxkk_ind_2').style.opacity = 0;\" style=\"fill:rgb(0,0,0,0)\" /><rect x=\"22.393444309109135%\" y=\"40\" height=\"20\" width=\"1.2807596014120293%\"      onmouseover=\"document.getElementById('_tp_hchvjdhpshbrwsudvxkk_ind_1').style.textDecoration = 'underline';document.getElementById('_fs_hchvjdhpshbrwsudvxkk_ind_1').style.opacity = 1;document.getElementById('_fb_hchvjdhpshbrwsudvxkk_ind_1').style.opacity = 1;\"      onmouseout=\"document.getElementById('_tp_hchvjdhpshbrwsudvxkk_ind_1').style.textDecoration = 'none';document.getElementById('_fs_hchvjdhpshbrwsudvxkk_ind_1').style.opacity = 0;document.getElementById('_fb_hchvjdhpshbrwsudvxkk_ind_1').style.opacity = 0;\" style=\"fill:rgb(0,0,0,0)\" /><rect x=\"31.93417005383326%\" width=\"11.871456428976746%\" y=\"40\" height=\"18\" style=\"fill:rgb(0.0, 138.56128015770727, 250.76166088685727); stroke-width:0; stroke:rgb(0,0,0)\" /><line x1=\"31.93417005383326%\" x2=\"39.90201458960446%\" y1=\"60\" y2=\"60\" id=\"_fb_hchvjdhpshbrwsudvxkk_ind_6\" style=\"stroke:rgb(0.0, 138.56128015770727, 250.76166088685727);stroke-width:2; opacity: 0\"/><text x=\"35.91809232171886%\" y=\"71\" font-size=\"12px\" fill=\"rgb(0.0, 138.56128015770727, 250.76166088685727)\" id=\"_fs_hchvjdhpshbrwsudvxkk_ind_6\" style=\"opacity: 0\" dominant-baseline=\"middle\" text-anchor=\"middle\">-0.096</text><svg x=\"31.93417005383326%\" y=\"40\" height=\"20\" width=\"7.967844535771203%\">  <svg x=\"0\" y=\"0\" width=\"100%\" height=\"100%\">    <text x=\"50%\" y=\"9\" font-size=\"12px\" fill=\"rgb(255,255,255)\" dominant-baseline=\"middle\" text-anchor=\"middle\"></text>  </svg></svg><line x1=\"39.90201458960446%\" x2=\"42.46463456268464%\" y1=\"60\" y2=\"60\" id=\"_fb_hchvjdhpshbrwsudvxkk_ind_3\" style=\"stroke:rgb(0.0, 138.56128015770727, 250.76166088685727);stroke-width:2; opacity: 0\"/><text x=\"41.18332457614455%\" y=\"71\" font-size=\"12px\" fill=\"rgb(0.0, 138.56128015770727, 250.76166088685727)\" id=\"_fs_hchvjdhpshbrwsudvxkk_ind_3\" style=\"opacity: 0\" dominant-baseline=\"middle\" text-anchor=\"middle\">-0.031</text><svg x=\"39.90201458960446%\" y=\"40\" height=\"20\" width=\"2.5626199730801744%\">  <svg x=\"0\" y=\"0\" width=\"100%\" height=\"100%\">    <text x=\"50%\" y=\"9\" font-size=\"12px\" fill=\"rgb(255,255,255)\" dominant-baseline=\"middle\" text-anchor=\"middle\">playing</text>  </svg></svg><line x1=\"42.46463456268464%\" x2=\"43.57900636091743%\" y1=\"60\" y2=\"60\" id=\"_fb_hchvjdhpshbrwsudvxkk_ind_5\" style=\"stroke:rgb(0.0, 138.56128015770727, 250.76166088685727);stroke-width:2; opacity: 0\"/><text x=\"43.021820461801035%\" y=\"71\" font-size=\"12px\" fill=\"rgb(0.0, 138.56128015770727, 250.76166088685727)\" id=\"_fs_hchvjdhpshbrwsudvxkk_ind_5\" style=\"opacity: 0\" dominant-baseline=\"middle\" text-anchor=\"middle\">-0.013</text><svg x=\"42.46463456268464%\" y=\"40\" height=\"20\" width=\"1.1143717982327956%\">  <svg x=\"0\" y=\"0\" width=\"100%\" height=\"100%\">    <text x=\"50%\" y=\"9\" font-size=\"12px\" fill=\"rgb(255,255,255)\" dominant-baseline=\"middle\" text-anchor=\"middle\">!</text>  </svg></svg><line x1=\"43.57900636091743%\" x2=\"43.805626482810005%\" y1=\"60\" y2=\"60\" id=\"_fb_hchvjdhpshbrwsudvxkk_ind_4\" style=\"stroke:rgb(0.0, 138.56128015770727, 250.76166088685727);stroke-width:2; opacity: 0\"/><text x=\"43.69231642186372%\" y=\"71\" font-size=\"12px\" fill=\"rgb(0.0, 138.56128015770727, 250.76166088685727)\" id=\"_fs_hchvjdhpshbrwsudvxkk_ind_4\" style=\"opacity: 0\" dominant-baseline=\"middle\" text-anchor=\"middle\">-0.003</text><svg x=\"43.57900636091743%\" y=\"40\" height=\"20\" width=\"0.22662012189257297%\">  <svg x=\"0\" y=\"0\" width=\"100%\" height=\"100%\">    <text x=\"50%\" y=\"9\" font-size=\"12px\" fill=\"rgb(255,255,255)\" dominant-baseline=\"middle\" text-anchor=\"middle\">cricket</text>  </svg></svg><g transform=\"translate(-8,0)\">  <svg x=\"39.90201458960446%\" y=\"40\" height=\"18\" overflow=\"visible\" width=\"30\">    <path d=\"M 8 -9 l -6 18 L 8 25\" fill=\"none\" style=\"stroke:rgb(0.0, 138.56128015770727, 250.76166088685727);stroke-width:2\" />  </svg></g><g transform=\"translate(-10,0)\">  <svg x=\"39.90201458960446%\" y=\"40\" height=\"18\" overflow=\"visible\" width=\"30\">    <path d=\"M 8 -9 l -6 18 L 8 25\" fill=\"none\" style=\"stroke:rgb(0.0, 138.56128015770727, 250.76166088685727);stroke-width:2\" />  </svg></g><g transform=\"translate(-12,0)\">  <svg x=\"39.90201458960446%\" y=\"40\" height=\"18\" overflow=\"visible\" width=\"30\">    <path d=\"M 8 -9 l -6 18 L 8 25\" fill=\"none\" style=\"stroke:rgb(0.0, 138.56128015770727, 250.76166088685727);stroke-width:2\" />  </svg></g><g transform=\"translate(-14,0)\">  <svg x=\"39.90201458960446%\" y=\"40\" height=\"18\" overflow=\"visible\" width=\"30\">    <path d=\"M 8 -9 l -6 18 L 8 25\" fill=\"none\" style=\"stroke:rgb(0.0, 138.56128015770727, 250.76166088685727);stroke-width:2\" />  </svg></g><g transform=\"translate(2,0)\">  <svg x=\"39.90201458960446%\" y=\"40\" height=\"18\" overflow=\"visible\" width=\"30\">    <path d=\"M 8 -9 l -6 18 L 8 25\" fill=\"none\" style=\"stroke:rgb(0.0, 138.56128015770727, 250.76166088685727);stroke-width:2\" />  </svg></g><g transform=\"translate(0,0)\">  <svg x=\"39.90201458960446%\" y=\"40\" height=\"18\" overflow=\"visible\" width=\"30\">    <path d=\"M 8 -9 l -6 18 L 8 25\" fill=\"none\" style=\"stroke:rgb(0.0, 138.56128015770727, 250.76166088685727);stroke-width:2\" />  </svg></g><g transform=\"translate(-2,0)\">  <svg x=\"39.90201458960446%\" y=\"40\" height=\"18\" overflow=\"visible\" width=\"30\">    <path d=\"M 8 -9 l -6 18 L 8 25\" fill=\"none\" style=\"stroke:rgb(0.0, 138.56128015770727, 250.76166088685727);stroke-width:2\" />  </svg></g><g transform=\"translate(-4,0)\">  <svg x=\"39.90201458960446%\" y=\"40\" height=\"18\" overflow=\"visible\" width=\"30\">    <path d=\"M 8 -9 l -6 18 L 8 25\" fill=\"none\" style=\"stroke:rgb(0.0, 138.56128015770727, 250.76166088685727);stroke-width:2\" />  </svg></g><g transform=\"translate(-8,0)\">  <svg x=\"42.46463456268464%\" y=\"40\" height=\"18\" overflow=\"visible\" width=\"30\">    <path d=\"M 8 -9 l -6 18 L 8 25\" fill=\"none\" style=\"stroke:rgb(0.0, 138.56128015770727, 250.76166088685727);stroke-width:2\" />  </svg></g><g transform=\"translate(-10,0)\">  <svg x=\"42.46463456268464%\" y=\"40\" height=\"18\" overflow=\"visible\" width=\"30\">    <path d=\"M 8 -9 l -6 18 L 8 25\" fill=\"none\" style=\"stroke:rgb(0.0, 138.56128015770727, 250.76166088685727);stroke-width:2\" />  </svg></g><g transform=\"translate(-12,0)\">  <svg x=\"42.46463456268464%\" y=\"40\" height=\"18\" overflow=\"visible\" width=\"30\">    <path d=\"M 8 -9 l -6 18 L 8 25\" fill=\"none\" style=\"stroke:rgb(0.0, 138.56128015770727, 250.76166088685727);stroke-width:2\" />  </svg></g><g transform=\"translate(-14,0)\">  <svg x=\"42.46463456268464%\" y=\"40\" height=\"18\" overflow=\"visible\" width=\"30\">    <path d=\"M 8 -9 l -6 18 L 8 25\" fill=\"none\" style=\"stroke:rgb(0.0, 138.56128015770727, 250.76166088685727);stroke-width:2\" />  </svg></g><g transform=\"translate(2,0)\">  <svg x=\"42.46463456268464%\" y=\"40\" height=\"18\" overflow=\"visible\" width=\"30\">    <path d=\"M 8 -9 l -6 18 L 8 25\" fill=\"none\" style=\"stroke:rgb(0.0, 138.56128015770727, 250.76166088685727);stroke-width:2\" />  </svg></g><g transform=\"translate(0,0)\">  <svg x=\"42.46463456268464%\" y=\"40\" height=\"18\" overflow=\"visible\" width=\"30\">    <path d=\"M 8 -9 l -6 18 L 8 25\" fill=\"none\" style=\"stroke:rgb(0.0, 138.56128015770727, 250.76166088685727);stroke-width:2\" />  </svg></g><g transform=\"translate(-2,0)\">  <svg x=\"42.46463456268464%\" y=\"40\" height=\"18\" overflow=\"visible\" width=\"30\">    <path d=\"M 8 -9 l -6 18 L 8 25\" fill=\"none\" style=\"stroke:rgb(0.0, 138.56128015770727, 250.76166088685727);stroke-width:2\" />  </svg></g><g transform=\"translate(-4,0)\">  <svg x=\"42.46463456268464%\" y=\"40\" height=\"18\" overflow=\"visible\" width=\"30\">    <path d=\"M 8 -9 l -6 18 L 8 25\" fill=\"none\" style=\"stroke:rgb(0.0, 138.56128015770727, 250.76166088685727);stroke-width:2\" />  </svg></g><g transform=\"translate(-8,0)\">  <svg x=\"43.57900636091743%\" y=\"40\" height=\"18\" overflow=\"visible\" width=\"30\">    <path d=\"M 8 -9 l -6 18 L 8 25\" fill=\"none\" style=\"stroke:rgb(0.0, 138.56128015770727, 250.76166088685727);stroke-width:2\" />  </svg></g><g transform=\"translate(-10,0)\">  <svg x=\"43.57900636091743%\" y=\"40\" height=\"18\" overflow=\"visible\" width=\"30\">    <path d=\"M 8 -9 l -6 18 L 8 25\" fill=\"none\" style=\"stroke:rgb(0.0, 138.56128015770727, 250.76166088685727);stroke-width:2\" />  </svg></g><g transform=\"translate(-12,0)\">  <svg x=\"43.57900636091743%\" y=\"40\" height=\"18\" overflow=\"visible\" width=\"30\">    <path d=\"M 8 -9 l -6 18 L 8 25\" fill=\"none\" style=\"stroke:rgb(0.0, 138.56128015770727, 250.76166088685727);stroke-width:2\" />  </svg></g><g transform=\"translate(-14,0)\">  <svg x=\"43.57900636091743%\" y=\"40\" height=\"18\" overflow=\"visible\" width=\"30\">    <path d=\"M 8 -9 l -6 18 L 8 25\" fill=\"none\" style=\"stroke:rgb(0.0, 138.56128015770727, 250.76166088685727);stroke-width:2\" />  </svg></g><g transform=\"translate(2,0)\">  <svg x=\"43.57900636091743%\" y=\"40\" height=\"18\" overflow=\"visible\" width=\"30\">    <path d=\"M 8 -9 l -6 18 L 8 25\" fill=\"none\" style=\"stroke:rgb(0.0, 138.56128015770727, 250.76166088685727);stroke-width:2\" />  </svg></g><g transform=\"translate(0,0)\">  <svg x=\"43.57900636091743%\" y=\"40\" height=\"18\" overflow=\"visible\" width=\"30\">    <path d=\"M 8 -9 l -6 18 L 8 25\" fill=\"none\" style=\"stroke:rgb(0.0, 138.56128015770727, 250.76166088685727);stroke-width:2\" />  </svg></g><g transform=\"translate(-2,0)\">  <svg x=\"43.57900636091743%\" y=\"40\" height=\"18\" overflow=\"visible\" width=\"30\">    <path d=\"M 8 -9 l -6 18 L 8 25\" fill=\"none\" style=\"stroke:rgb(0.0, 138.56128015770727, 250.76166088685727);stroke-width:2\" />  </svg></g><g transform=\"translate(-4,0)\">  <svg x=\"43.57900636091743%\" y=\"40\" height=\"18\" overflow=\"visible\" width=\"30\">    <path d=\"M 8 -9 l -6 18 L 8 25\" fill=\"none\" style=\"stroke:rgb(0.0, 138.56128015770727, 250.76166088685727);stroke-width:2\" />  </svg></g><rect transform=\"translate(0,0)\" x=\"31.93417005383326%\" y=\"40\" width=\"8\" height=\"18\" style=\"fill:rgb(0.0, 138.56128015770727, 250.76166088685727)\"/><g transform=\"translate(-6.0,0)\">  <svg x=\"43.805626482810005%\" y=\"40\" height=\"18\" overflow=\"visible\" width=\"30\">    <path d=\"M 8 -9 l -6 18 L 8 25 L 20 25 L 20 -9\" fill=\"#ffffff\" style=\"stroke:rgb(255,255,255);stroke-width:2\" />  </svg></g><g transform=\"translate(-6.0,0)\">  <svg x=\"39.90201458960446%\" y=\"40\" height=\"18\" overflow=\"visible\" width=\"30\">    <path d=\"M 8 -9 l -6 18 L 8 25\" fill=\"none\" style=\"stroke:rgb(208, 230, 250);stroke-width:2\" />  </svg></g><rect x=\"31.93417005383326%\" y=\"40\" height=\"20\" width=\"7.967844535771203%\"      onmouseover=\"document.getElementById('_tp_hchvjdhpshbrwsudvxkk_ind_6').style.textDecoration = 'underline';document.getElementById('_fs_hchvjdhpshbrwsudvxkk_ind_6').style.opacity = 1;document.getElementById('_fb_hchvjdhpshbrwsudvxkk_ind_6').style.opacity = 1;\"      onmouseout=\"document.getElementById('_tp_hchvjdhpshbrwsudvxkk_ind_6').style.textDecoration = 'none';document.getElementById('_fs_hchvjdhpshbrwsudvxkk_ind_6').style.opacity = 0;document.getElementById('_fb_hchvjdhpshbrwsudvxkk_ind_6').style.opacity = 0;\" style=\"fill:rgb(0,0,0,0)\" /><g transform=\"translate(-6.0,0)\">  <svg x=\"42.46463456268464%\" y=\"40\" height=\"18\" overflow=\"visible\" width=\"30\">    <path d=\"M 8 -9 l -6 18 L 8 25\" fill=\"none\" style=\"stroke:rgb(208, 230, 250);stroke-width:2\" />  </svg></g><rect x=\"39.90201458960446%\" y=\"40\" height=\"20\" width=\"2.5626199730801744%\"      onmouseover=\"document.getElementById('_tp_hchvjdhpshbrwsudvxkk_ind_3').style.textDecoration = 'underline';document.getElementById('_fs_hchvjdhpshbrwsudvxkk_ind_3').style.opacity = 1;document.getElementById('_fb_hchvjdhpshbrwsudvxkk_ind_3').style.opacity = 1;\"      onmouseout=\"document.getElementById('_tp_hchvjdhpshbrwsudvxkk_ind_3').style.textDecoration = 'none';document.getElementById('_fs_hchvjdhpshbrwsudvxkk_ind_3').style.opacity = 0;document.getElementById('_fb_hchvjdhpshbrwsudvxkk_ind_3').style.opacity = 0;\" style=\"fill:rgb(0,0,0,0)\" /><g transform=\"translate(-6.0,0)\">  <svg x=\"43.57900636091743%\" y=\"40\" height=\"18\" overflow=\"visible\" width=\"30\">    <path d=\"M 8 -9 l -6 18 L 8 25\" fill=\"none\" style=\"stroke:rgb(208, 230, 250);stroke-width:2\" />  </svg></g><rect x=\"42.46463456268464%\" y=\"40\" height=\"20\" width=\"1.1143717982327956%\"      onmouseover=\"document.getElementById('_tp_hchvjdhpshbrwsudvxkk_ind_5').style.textDecoration = 'underline';document.getElementById('_fs_hchvjdhpshbrwsudvxkk_ind_5').style.opacity = 1;document.getElementById('_fb_hchvjdhpshbrwsudvxkk_ind_5').style.opacity = 1;\"      onmouseout=\"document.getElementById('_tp_hchvjdhpshbrwsudvxkk_ind_5').style.textDecoration = 'none';document.getElementById('_fs_hchvjdhpshbrwsudvxkk_ind_5').style.opacity = 0;document.getElementById('_fb_hchvjdhpshbrwsudvxkk_ind_5').style.opacity = 0;\" style=\"fill:rgb(0,0,0,0)\" /><rect x=\"43.57900636091743%\" y=\"40\" height=\"20\" width=\"0.22662012189257297%\"      onmouseover=\"document.getElementById('_tp_hchvjdhpshbrwsudvxkk_ind_4').style.textDecoration = 'underline';document.getElementById('_fs_hchvjdhpshbrwsudvxkk_ind_4').style.opacity = 1;document.getElementById('_fb_hchvjdhpshbrwsudvxkk_ind_4').style.opacity = 1;\"      onmouseout=\"document.getElementById('_tp_hchvjdhpshbrwsudvxkk_ind_4').style.textDecoration = 'none';document.getElementById('_fs_hchvjdhpshbrwsudvxkk_ind_4').style.opacity = 0;document.getElementById('_fb_hchvjdhpshbrwsudvxkk_ind_4').style.opacity = 0;\" style=\"fill:rgb(0,0,0,0)\" /></svg><div align='center'><div style=\"color: rgb(120,120,120); font-size: 12px; margin-top: -15px;\">inputs</div><div style='display: inline; text-align: center;'\n",
       "    ><div style='display: none; color: #999; padding-top: 0px; font-size: 12px;'>0.069</div\n",
       "        ><div id='_tp_hchvjdhpshbrwsudvxkk_ind_0'\n",
       "            style='display: inline; background: rgba(255.0, 13.0, 87.0, 0.20384234501881549); border-radius: 3px; padding: 0px'\n",
       "            onclick=\"\n",
       "            if (this.previousSibling.style.display == 'none') {\n",
       "                this.previousSibling.style.display = 'block';\n",
       "                this.parentNode.style.display = 'inline-block';\n",
       "            } else {\n",
       "                this.previousSibling.style.display = 'none';\n",
       "                this.parentNode.style.display = 'inline';\n",
       "            }\"\n",
       "            onmouseover=\"document.getElementById('_fb_hchvjdhpshbrwsudvxkk_ind_0').style.opacity = 1; document.getElementById('_fs_hchvjdhpshbrwsudvxkk_ind_0').style.opacity = 1;\"\n",
       "            onmouseout=\"document.getElementById('_fb_hchvjdhpshbrwsudvxkk_ind_0').style.opacity = 0; document.getElementById('_fs_hchvjdhpshbrwsudvxkk_ind_0').style.opacity = 0;\"\n",
       "        ></div></div><div style='display: inline; text-align: center;'\n",
       "    ><div style='display: none; color: #999; padding-top: 0px; font-size: 12px;'>0.015</div\n",
       "        ><div id='_tp_hchvjdhpshbrwsudvxkk_ind_1'\n",
       "            style='display: inline; background: rgba(255.0, 13.0, 87.0, 0.03830461477520289); border-radius: 3px; padding: 0px'\n",
       "            onclick=\"\n",
       "            if (this.previousSibling.style.display == 'none') {\n",
       "                this.previousSibling.style.display = 'block';\n",
       "                this.parentNode.style.display = 'inline-block';\n",
       "            } else {\n",
       "                this.previousSibling.style.display = 'none';\n",
       "                this.parentNode.style.display = 'inline';\n",
       "            }\"\n",
       "            onmouseover=\"document.getElementById('_fb_hchvjdhpshbrwsudvxkk_ind_1').style.opacity = 1; document.getElementById('_fs_hchvjdhpshbrwsudvxkk_ind_1').style.opacity = 1;\"\n",
       "            onmouseout=\"document.getElementById('_fb_hchvjdhpshbrwsudvxkk_ind_1').style.opacity = 0; document.getElementById('_fs_hchvjdhpshbrwsudvxkk_ind_1').style.opacity = 0;\"\n",
       "        >I </div></div><div style='display: inline; text-align: center;'\n",
       "    ><div style='display: none; color: #999; padding-top: 0px; font-size: 12px;'>0.03</div\n",
       "        ><div id='_tp_hchvjdhpshbrwsudvxkk_ind_2'\n",
       "            style='display: inline; background: rgba(255.0, 13.0, 87.0, 0.08560110913052081); border-radius: 3px; padding: 0px'\n",
       "            onclick=\"\n",
       "            if (this.previousSibling.style.display == 'none') {\n",
       "                this.previousSibling.style.display = 'block';\n",
       "                this.parentNode.style.display = 'inline-block';\n",
       "            } else {\n",
       "                this.previousSibling.style.display = 'none';\n",
       "                this.parentNode.style.display = 'inline';\n",
       "            }\"\n",
       "            onmouseover=\"document.getElementById('_fb_hchvjdhpshbrwsudvxkk_ind_2').style.opacity = 1; document.getElementById('_fs_hchvjdhpshbrwsudvxkk_ind_2').style.opacity = 1;\"\n",
       "            onmouseout=\"document.getElementById('_fb_hchvjdhpshbrwsudvxkk_ind_2').style.opacity = 0; document.getElementById('_fs_hchvjdhpshbrwsudvxkk_ind_2').style.opacity = 0;\"\n",
       "        >love </div></div><div style='display: inline; text-align: center;'\n",
       "    ><div style='display: none; color: #999; padding-top: 0px; font-size: 12px;'>-0.031</div\n",
       "        ><div id='_tp_hchvjdhpshbrwsudvxkk_ind_3'\n",
       "            style='display: inline; background: rgba(30.0, 136.0, 229.0, 0.08560110913052085); border-radius: 3px; padding: 0px'\n",
       "            onclick=\"\n",
       "            if (this.previousSibling.style.display == 'none') {\n",
       "                this.previousSibling.style.display = 'block';\n",
       "                this.parentNode.style.display = 'inline-block';\n",
       "            } else {\n",
       "                this.previousSibling.style.display = 'none';\n",
       "                this.parentNode.style.display = 'inline';\n",
       "            }\"\n",
       "            onmouseover=\"document.getElementById('_fb_hchvjdhpshbrwsudvxkk_ind_3').style.opacity = 1; document.getElementById('_fs_hchvjdhpshbrwsudvxkk_ind_3').style.opacity = 1;\"\n",
       "            onmouseout=\"document.getElementById('_fb_hchvjdhpshbrwsudvxkk_ind_3').style.opacity = 0; document.getElementById('_fs_hchvjdhpshbrwsudvxkk_ind_3').style.opacity = 0;\"\n",
       "        >playing </div></div><div style='display: inline; text-align: center;'\n",
       "    ><div style='display: none; color: #999; padding-top: 0px; font-size: 12px;'>-0.003</div\n",
       "        ><div id='_tp_hchvjdhpshbrwsudvxkk_ind_4'\n",
       "            style='display: inline; background: rgba(30.0, 136.0, 229.0, 0.006773618538324436); border-radius: 3px; padding: 0px'\n",
       "            onclick=\"\n",
       "            if (this.previousSibling.style.display == 'none') {\n",
       "                this.previousSibling.style.display = 'block';\n",
       "                this.parentNode.style.display = 'inline-block';\n",
       "            } else {\n",
       "                this.previousSibling.style.display = 'none';\n",
       "                this.parentNode.style.display = 'inline';\n",
       "            }\"\n",
       "            onmouseover=\"document.getElementById('_fb_hchvjdhpshbrwsudvxkk_ind_4').style.opacity = 1; document.getElementById('_fs_hchvjdhpshbrwsudvxkk_ind_4').style.opacity = 1;\"\n",
       "            onmouseout=\"document.getElementById('_fb_hchvjdhpshbrwsudvxkk_ind_4').style.opacity = 0; document.getElementById('_fs_hchvjdhpshbrwsudvxkk_ind_4').style.opacity = 0;\"\n",
       "        >cricket</div></div><div style='display: inline; text-align: center;'\n",
       "    ><div style='display: none; color: #999; padding-top: 0px; font-size: 12px;'>-0.013</div\n",
       "        ><div id='_tp_hchvjdhpshbrwsudvxkk_ind_5'\n",
       "            style='display: inline; background: rgba(30.0, 136.0, 229.0, 0.03830461477520309); border-radius: 3px; padding: 0px'\n",
       "            onclick=\"\n",
       "            if (this.previousSibling.style.display == 'none') {\n",
       "                this.previousSibling.style.display = 'block';\n",
       "                this.parentNode.style.display = 'inline-block';\n",
       "            } else {\n",
       "                this.previousSibling.style.display = 'none';\n",
       "                this.parentNode.style.display = 'inline';\n",
       "            }\"\n",
       "            onmouseover=\"document.getElementById('_fb_hchvjdhpshbrwsudvxkk_ind_5').style.opacity = 1; document.getElementById('_fs_hchvjdhpshbrwsudvxkk_ind_5').style.opacity = 1;\"\n",
       "            onmouseout=\"document.getElementById('_fb_hchvjdhpshbrwsudvxkk_ind_5').style.opacity = 0; document.getElementById('_fs_hchvjdhpshbrwsudvxkk_ind_5').style.opacity = 0;\"\n",
       "        >!</div></div><div style='display: inline; text-align: center;'\n",
       "    ><div style='display: none; color: #999; padding-top: 0px; font-size: 12px;'>-0.096</div\n",
       "        ><div id='_tp_hchvjdhpshbrwsudvxkk_ind_6'\n",
       "            style='display: inline; background: rgba(30.0, 136.0, 229.0, 0.27478708655179246); border-radius: 3px; padding: 0px'\n",
       "            onclick=\"\n",
       "            if (this.previousSibling.style.display == 'none') {\n",
       "                this.previousSibling.style.display = 'block';\n",
       "                this.parentNode.style.display = 'inline-block';\n",
       "            } else {\n",
       "                this.previousSibling.style.display = 'none';\n",
       "                this.parentNode.style.display = 'inline';\n",
       "            }\"\n",
       "            onmouseover=\"document.getElementById('_fb_hchvjdhpshbrwsudvxkk_ind_6').style.opacity = 1; document.getElementById('_fs_hchvjdhpshbrwsudvxkk_ind_6').style.opacity = 1;\"\n",
       "            onmouseout=\"document.getElementById('_fb_hchvjdhpshbrwsudvxkk_ind_6').style.opacity = 0; document.getElementById('_fs_hchvjdhpshbrwsudvxkk_ind_6').style.opacity = 0;\"\n",
       "        ></div></div></div></div><div id='_tp_nlbmgvjcuvvfwzckawpn_output_0_zoom' style='display: none;'><svg width=\"100%\" height=\"80px\"><line x1=\"0\" y1=\"33\" x2=\"100%\" y2=\"33\" style=\"stroke:rgb(150,150,150);stroke-width:1\" /><line x1=\"50.85185528320791%\" y1=\"33\" x2=\"50.85185528320791%\" y2=\"37\" style=\"stroke:rgb(150,150,150);stroke-width:1\" /><text x=\"50.85185528320791%\" y=\"27\" font-size=\"12px\" fill=\"rgb(120,120,120)\" dominant-baseline=\"bottom\" text-anchor=\"middle\">0.18</text><line x1=\"37.88830671416557%\" y1=\"33\" x2=\"37.88830671416557%\" y2=\"37\" style=\"stroke:rgb(150,150,150);stroke-width:1\" /><text x=\"37.88830671416557%\" y=\"27\" font-size=\"12px\" fill=\"rgb(120,120,120)\" dominant-baseline=\"bottom\" text-anchor=\"middle\">0.14</text><line x1=\"24.924758145123242%\" y1=\"33\" x2=\"24.924758145123242%\" y2=\"37\" style=\"stroke:rgb(150,150,150);stroke-width:1\" /><text x=\"24.924758145123242%\" y=\"27\" font-size=\"12px\" fill=\"rgb(120,120,120)\" dominant-baseline=\"bottom\" text-anchor=\"middle\">0.1</text><line x1=\"11.96120957608091%\" y1=\"33\" x2=\"11.96120957608091%\" y2=\"37\" style=\"stroke:rgb(150,150,150);stroke-width:1\" /><text x=\"11.96120957608091%\" y=\"27\" font-size=\"12px\" fill=\"rgb(120,120,120)\" dominant-baseline=\"bottom\" text-anchor=\"middle\">0.06</text><line x1=\"63.81540385225024%\" y1=\"33\" x2=\"63.81540385225024%\" y2=\"37\" style=\"stroke:rgb(150,150,150);stroke-width:1\" /><text x=\"63.81540385225024%\" y=\"27\" font-size=\"12px\" fill=\"rgb(120,120,120)\" dominant-baseline=\"bottom\" text-anchor=\"middle\">0.22</text><line x1=\"76.77895242129259%\" y1=\"33\" x2=\"76.77895242129259%\" y2=\"37\" style=\"stroke:rgb(150,150,150);stroke-width:1\" /><text x=\"76.77895242129259%\" y=\"27\" font-size=\"12px\" fill=\"rgb(120,120,120)\" dominant-baseline=\"bottom\" text-anchor=\"middle\">0.26</text><line x1=\"89.7425009903349%\" y1=\"33\" x2=\"89.7425009903349%\" y2=\"37\" style=\"stroke:rgb(150,150,150);stroke-width:1\" /><text x=\"89.7425009903349%\" y=\"27\" font-size=\"12px\" fill=\"rgb(120,120,120)\" dominant-baseline=\"bottom\" text-anchor=\"middle\">0.3</text><line x1=\"54.53544341618871%\" y1=\"33\" x2=\"54.53544341618871%\" y2=\"37\" style=\"stroke:rgb(150,150,150);stroke-width:1\" /><text x=\"54.53544341618871%\" y=\"27\" font-size=\"13px\" style=\"stroke:#ffffff;stroke-width:8px;\" fill=\"rgb(255,255,255)\" dominant-baseline=\"bottom\" text-anchor=\"middle\">0.191366</text><text x=\"54.53544341618871%\" y=\"27\" font-size=\"12px\" fill=\"rgb(120,120,120)\" dominant-baseline=\"bottom\" text-anchor=\"middle\">0.191366</text><text x=\"54.53544341618871%\" y=\"10\" font-size=\"12px\" fill=\"rgb(120,120,120)\" dominant-baseline=\"bottom\" text-anchor=\"middle\">base value</text><line x1=\"45.46455334292415%\" y1=\"33\" x2=\"45.46455334292415%\" y2=\"37\" style=\"stroke:rgb(150,150,150);stroke-width:1\" /><text x=\"45.46455334292415%\" y=\"27\" font-size=\"13px\" style=\"stroke:#ffffff;stroke-width:8px;\" font-weight=\"bold\" fill=\"rgb(255,255,255)\" dominant-baseline=\"bottom\" text-anchor=\"middle\">0.163377</text><text x=\"45.46455334292415%\" y=\"27\" font-size=\"13px\" font-weight=\"bold\" fill=\"rgb(0,0,0)\" dominant-baseline=\"bottom\" text-anchor=\"middle\">0.163377</text><text x=\"45.46455334292415%\" y=\"10\" font-size=\"12px\" fill=\"rgb(120,120,120)\" dominant-baseline=\"bottom\" text-anchor=\"middle\">f<tspan baseline-shift=\"sub\" font-size=\"8px\">insect</tspan>(inputs)</text><rect x=\"8.333333063259404%\" width=\"37.13122027966474%\" y=\"40\" height=\"18\" style=\"fill:rgb(255.0, 0.0, 81.08083606031792); stroke-width:0; stroke:rgb(0,0,0)\" /><line x1=\"22.954028439621187%\" x2=\"45.46455334292415%\" y1=\"60\" y2=\"60\" id=\"_fb_qgxtnyzpfznggbfezsfq_ind_0\" style=\"stroke:rgb(255.0, 0.0, 81.08083606031792);stroke-width:2; opacity: 0\"/><text x=\"34.209290891272666%\" y=\"71\" font-size=\"12px\" id=\"_fs_qgxtnyzpfznggbfezsfq_ind_0\" fill=\"rgb(255.0, 0.0, 81.08083606031792)\" style=\"opacity: 0\" dominant-baseline=\"middle\" text-anchor=\"middle\">0.069</text><svg x=\"22.954028439621187%\" y=\"40\" height=\"20\" width=\"22.51052490330296%\">  <svg x=\"0\" y=\"0\" width=\"100%\" height=\"100%\">    <text x=\"50%\" y=\"9\" font-size=\"12px\" fill=\"rgb(255,255,255)\" dominant-baseline=\"middle\" text-anchor=\"middle\"></text>  </svg></svg><line x1=\"13.317877023305993%\" x2=\"22.954028439621187%\" y1=\"60\" y2=\"60\" id=\"_fb_qgxtnyzpfznggbfezsfq_ind_2\" style=\"stroke:rgb(255.0, 0.0, 81.08083606031792);stroke-width:2; opacity: 0\"/><text x=\"18.13595273146359%\" y=\"71\" font-size=\"12px\" id=\"_fs_qgxtnyzpfznggbfezsfq_ind_2\" fill=\"rgb(255.0, 0.0, 81.08083606031792)\" style=\"opacity: 0\" dominant-baseline=\"middle\" text-anchor=\"middle\">0.03</text><svg x=\"13.317877023305993%\" y=\"40\" height=\"20\" width=\"9.636151416315194%\">  <svg x=\"0\" y=\"0\" width=\"100%\" height=\"100%\">    <text x=\"50%\" y=\"9\" font-size=\"12px\" fill=\"rgb(255,255,255)\" dominant-baseline=\"middle\" text-anchor=\"middle\">love</text>  </svg></svg><line x1=\"8.333333063259404%\" x2=\"13.317877023305993%\" y1=\"60\" y2=\"60\" id=\"_fb_qgxtnyzpfznggbfezsfq_ind_1\" style=\"stroke:rgb(255.0, 0.0, 81.08083606031792);stroke-width:2; opacity: 0\"/><text x=\"10.8256050432827%\" y=\"71\" font-size=\"12px\" id=\"_fs_qgxtnyzpfznggbfezsfq_ind_1\" fill=\"rgb(255.0, 0.0, 81.08083606031792)\" style=\"opacity: 0\" dominant-baseline=\"middle\" text-anchor=\"middle\">0.015</text><svg x=\"8.333333063259404%\" y=\"40\" height=\"20\" width=\"4.984543960046588%\">  <svg x=\"0\" y=\"0\" width=\"100%\" height=\"100%\">    <text x=\"50%\" y=\"9\" font-size=\"12px\" fill=\"rgb(255,255,255)\" dominant-baseline=\"middle\" text-anchor=\"middle\">I</text>  </svg></svg><g transform=\"translate(0,0)\">  <svg x=\"22.954028439621187%\" y=\"40\" height=\"18\" overflow=\"visible\" width=\"30\">    <path d=\"M 0 -9 l 6 18 L 0 25\" fill=\"none\" style=\"stroke:rgb(255.0, 0.0, 81.08083606031792);stroke-width:2\" />  </svg></g><g transform=\"translate(2,0)\">  <svg x=\"22.954028439621187%\" y=\"40\" height=\"18\" overflow=\"visible\" width=\"30\">    <path d=\"M 0 -9 l 6 18 L 0 25\" fill=\"none\" style=\"stroke:rgb(255.0, 0.0, 81.08083606031792);stroke-width:2\" />  </svg></g><g transform=\"translate(4,0)\">  <svg x=\"22.954028439621187%\" y=\"40\" height=\"18\" overflow=\"visible\" width=\"30\">    <path d=\"M 0 -9 l 6 18 L 0 25\" fill=\"none\" style=\"stroke:rgb(255.0, 0.0, 81.08083606031792);stroke-width:2\" />  </svg></g><g transform=\"translate(6,0)\">  <svg x=\"22.954028439621187%\" y=\"40\" height=\"18\" overflow=\"visible\" width=\"30\">    <path d=\"M 0 -9 l 6 18 L 0 25\" fill=\"none\" style=\"stroke:rgb(255.0, 0.0, 81.08083606031792);stroke-width:2\" />  </svg></g><g transform=\"translate(-8,0)\">  <svg x=\"22.954028439621187%\" y=\"40\" height=\"18\" overflow=\"visible\" width=\"30\">    <path d=\"M 0 -9 l 6 18 L 0 25\" fill=\"none\" style=\"stroke:rgb(255.0, 0.0, 81.08083606031792);stroke-width:2\" />  </svg></g><g transform=\"translate(-6,0)\">  <svg x=\"22.954028439621187%\" y=\"40\" height=\"18\" overflow=\"visible\" width=\"30\">    <path d=\"M 0 -9 l 6 18 L 0 25\" fill=\"none\" style=\"stroke:rgb(255.0, 0.0, 81.08083606031792);stroke-width:2\" />  </svg></g><g transform=\"translate(-4,0)\">  <svg x=\"22.954028439621187%\" y=\"40\" height=\"18\" overflow=\"visible\" width=\"30\">    <path d=\"M 0 -9 l 6 18 L 0 25\" fill=\"none\" style=\"stroke:rgb(255.0, 0.0, 81.08083606031792);stroke-width:2\" />  </svg></g><g transform=\"translate(-2,0)\">  <svg x=\"22.954028439621187%\" y=\"40\" height=\"18\" overflow=\"visible\" width=\"30\">    <path d=\"M 0 -9 l 6 18 L 0 25\" fill=\"none\" style=\"stroke:rgb(255.0, 0.0, 81.08083606031792);stroke-width:2\" />  </svg></g><g transform=\"translate(0,0)\">  <svg x=\"13.317877023305993%\" y=\"40\" height=\"18\" overflow=\"visible\" width=\"30\">    <path d=\"M 0 -9 l 6 18 L 0 25\" fill=\"none\" style=\"stroke:rgb(255.0, 0.0, 81.08083606031792);stroke-width:2\" />  </svg></g><g transform=\"translate(2,0)\">  <svg x=\"13.317877023305993%\" y=\"40\" height=\"18\" overflow=\"visible\" width=\"30\">    <path d=\"M 0 -9 l 6 18 L 0 25\" fill=\"none\" style=\"stroke:rgb(255.0, 0.0, 81.08083606031792);stroke-width:2\" />  </svg></g><g transform=\"translate(4,0)\">  <svg x=\"13.317877023305993%\" y=\"40\" height=\"18\" overflow=\"visible\" width=\"30\">    <path d=\"M 0 -9 l 6 18 L 0 25\" fill=\"none\" style=\"stroke:rgb(255.0, 0.0, 81.08083606031792);stroke-width:2\" />  </svg></g><g transform=\"translate(6,0)\">  <svg x=\"13.317877023305993%\" y=\"40\" height=\"18\" overflow=\"visible\" width=\"30\">    <path d=\"M 0 -9 l 6 18 L 0 25\" fill=\"none\" style=\"stroke:rgb(255.0, 0.0, 81.08083606031792);stroke-width:2\" />  </svg></g><g transform=\"translate(-8,0)\">  <svg x=\"13.317877023305993%\" y=\"40\" height=\"18\" overflow=\"visible\" width=\"30\">    <path d=\"M 0 -9 l 6 18 L 0 25\" fill=\"none\" style=\"stroke:rgb(255.0, 0.0, 81.08083606031792);stroke-width:2\" />  </svg></g><g transform=\"translate(-6,0)\">  <svg x=\"13.317877023305993%\" y=\"40\" height=\"18\" overflow=\"visible\" width=\"30\">    <path d=\"M 0 -9 l 6 18 L 0 25\" fill=\"none\" style=\"stroke:rgb(255.0, 0.0, 81.08083606031792);stroke-width:2\" />  </svg></g><g transform=\"translate(-4,0)\">  <svg x=\"13.317877023305993%\" y=\"40\" height=\"18\" overflow=\"visible\" width=\"30\">    <path d=\"M 0 -9 l 6 18 L 0 25\" fill=\"none\" style=\"stroke:rgb(255.0, 0.0, 81.08083606031792);stroke-width:2\" />  </svg></g><g transform=\"translate(-2,0)\">  <svg x=\"13.317877023305993%\" y=\"40\" height=\"18\" overflow=\"visible\" width=\"30\">    <path d=\"M 0 -9 l 6 18 L 0 25\" fill=\"none\" style=\"stroke:rgb(255.0, 0.0, 81.08083606031792);stroke-width:2\" />  </svg></g><rect transform=\"translate(-8,0)\" x=\"45.46455334292415%\" y=\"40\" width=\"8\" height=\"18\" style=\"fill:rgb(255.0, 0.0, 81.08083606031792)\"/><g transform=\"translate(-11.5,0)\">  <svg x=\"8.333333063259404%\" y=\"40\" height=\"18\" overflow=\"visible\" width=\"30\">    <path d=\"M 10 -9 l 6 18 L 10 25 L 0 25 L 0 -9\" fill=\"#ffffff\" style=\"stroke:rgb(255,255,255);stroke-width:2\" />  </svg></g><g transform=\"translate(-1.5,0)\">  <svg x=\"45.46455334292415%\" y=\"40\" height=\"18\" overflow=\"visible\" width=\"30\">    <path d=\"M 0 -9 l 6 18 L 0 25\" fill=\"none\" style=\"stroke:rgb(255, 195, 213);stroke-width:2\" />  </svg></g><rect x=\"22.954028439621187%\" y=\"40\" height=\"20\" width=\"22.51052490330296%\"      onmouseover=\"document.getElementById('_tp_qgxtnyzpfznggbfezsfq_ind_0').style.textDecoration = 'underline';document.getElementById('_fs_qgxtnyzpfznggbfezsfq_ind_0').style.opacity = 1;document.getElementById('_fb_qgxtnyzpfznggbfezsfq_ind_0').style.opacity = 1;\"      onmouseout=\"document.getElementById('_tp_qgxtnyzpfznggbfezsfq_ind_0').style.textDecoration = 'none';document.getElementById('_fs_qgxtnyzpfznggbfezsfq_ind_0').style.opacity = 0;document.getElementById('_fb_qgxtnyzpfznggbfezsfq_ind_0').style.opacity = 0;\" style=\"fill:rgb(0,0,0,0)\" /><g transform=\"translate(-1.5,0)\">  <svg x=\"22.954028439621187%\" y=\"40\" height=\"18\" overflow=\"visible\" width=\"30\">    <path d=\"M 0 -9 l 6 18 L 0 25\" fill=\"none\" style=\"stroke:rgb(255, 195, 213);stroke-width:2\" />  </svg></g><rect x=\"13.317877023305993%\" y=\"40\" height=\"20\" width=\"9.636151416315194%\"      onmouseover=\"document.getElementById('_tp_qgxtnyzpfznggbfezsfq_ind_2').style.textDecoration = 'underline';document.getElementById('_fs_qgxtnyzpfznggbfezsfq_ind_2').style.opacity = 1;document.getElementById('_fb_qgxtnyzpfznggbfezsfq_ind_2').style.opacity = 1;\"      onmouseout=\"document.getElementById('_tp_qgxtnyzpfznggbfezsfq_ind_2').style.textDecoration = 'none';document.getElementById('_fs_qgxtnyzpfznggbfezsfq_ind_2').style.opacity = 0;document.getElementById('_fb_qgxtnyzpfznggbfezsfq_ind_2').style.opacity = 0;\" style=\"fill:rgb(0,0,0,0)\" /><rect x=\"8.333333063259404%\" y=\"40\" height=\"20\" width=\"4.984543960046588%\"      onmouseover=\"document.getElementById('_tp_qgxtnyzpfznggbfezsfq_ind_1').style.textDecoration = 'underline';document.getElementById('_fs_qgxtnyzpfznggbfezsfq_ind_1').style.opacity = 1;document.getElementById('_fb_qgxtnyzpfznggbfezsfq_ind_1').style.opacity = 1;\"      onmouseout=\"document.getElementById('_tp_qgxtnyzpfznggbfezsfq_ind_1').style.textDecoration = 'none';document.getElementById('_fs_qgxtnyzpfznggbfezsfq_ind_1').style.opacity = 0;document.getElementById('_fb_qgxtnyzpfznggbfezsfq_ind_1').style.opacity = 0;\" style=\"fill:rgb(0,0,0,0)\" /><rect x=\"45.46455334292415%\" width=\"46.20211035292931%\" y=\"40\" height=\"18\" style=\"fill:rgb(0.0, 138.56128015770727, 250.76166088685727); stroke-width:0; stroke:rgb(0,0,0)\" /><line x1=\"45.46455334292415%\" x2=\"76.4743316897598%\" y1=\"60\" y2=\"60\" id=\"_fb_qgxtnyzpfznggbfezsfq_ind_6\" style=\"stroke:rgb(0.0, 138.56128015770727, 250.76166088685727);stroke-width:2; opacity: 0\"/><text x=\"60.96944251634197%\" y=\"71\" font-size=\"12px\" fill=\"rgb(0.0, 138.56128015770727, 250.76166088685727)\" id=\"_fs_qgxtnyzpfznggbfezsfq_ind_6\" style=\"opacity: 0\" dominant-baseline=\"middle\" text-anchor=\"middle\">-0.096</text><svg x=\"45.46455334292415%\" y=\"40\" height=\"20\" width=\"31.009778346835645%\">  <svg x=\"0\" y=\"0\" width=\"100%\" height=\"100%\">    <text x=\"50%\" y=\"9\" font-size=\"12px\" fill=\"rgb(255,255,255)\" dominant-baseline=\"middle\" text-anchor=\"middle\"></text>  </svg></svg><line x1=\"76.4743316897598%\" x2=\"86.44770365951027%\" y1=\"60\" y2=\"60\" id=\"_fb_qgxtnyzpfznggbfezsfq_ind_3\" style=\"stroke:rgb(0.0, 138.56128015770727, 250.76166088685727);stroke-width:2; opacity: 0\"/><text x=\"81.46101767463503%\" y=\"71\" font-size=\"12px\" fill=\"rgb(0.0, 138.56128015770727, 250.76166088685727)\" id=\"_fs_qgxtnyzpfznggbfezsfq_ind_3\" style=\"opacity: 0\" dominant-baseline=\"middle\" text-anchor=\"middle\">-0.031</text><svg x=\"76.4743316897598%\" y=\"40\" height=\"20\" width=\"9.973371969750474%\">  <svg x=\"0\" y=\"0\" width=\"100%\" height=\"100%\">    <text x=\"50%\" y=\"9\" font-size=\"12px\" fill=\"rgb(255,255,255)\" dominant-baseline=\"middle\" text-anchor=\"middle\">playing</text>  </svg></svg><line x1=\"86.44770365951027%\" x2=\"90.78468868777287%\" y1=\"60\" y2=\"60\" id=\"_fb_qgxtnyzpfznggbfezsfq_ind_5\" style=\"stroke:rgb(0.0, 138.56128015770727, 250.76166088685727);stroke-width:2; opacity: 0\"/><text x=\"88.61619617364157%\" y=\"71\" font-size=\"12px\" fill=\"rgb(0.0, 138.56128015770727, 250.76166088685727)\" id=\"_fs_qgxtnyzpfznggbfezsfq_ind_5\" style=\"opacity: 0\" dominant-baseline=\"middle\" text-anchor=\"middle\">-0.013</text><svg x=\"86.44770365951027%\" y=\"40\" height=\"20\" width=\"4.336985028262603%\">  <svg x=\"0\" y=\"0\" width=\"100%\" height=\"100%\">    <text x=\"50%\" y=\"9\" font-size=\"12px\" fill=\"rgb(255,255,255)\" dominant-baseline=\"middle\" text-anchor=\"middle\">!</text>  </svg></svg><line x1=\"90.78468868777287%\" x2=\"91.66666369585344%\" y1=\"60\" y2=\"60\" id=\"_fb_qgxtnyzpfznggbfezsfq_ind_4\" style=\"stroke:rgb(0.0, 138.56128015770727, 250.76166088685727);stroke-width:2; opacity: 0\"/><text x=\"91.22567619181316%\" y=\"71\" font-size=\"12px\" fill=\"rgb(0.0, 138.56128015770727, 250.76166088685727)\" id=\"_fs_qgxtnyzpfznggbfezsfq_ind_4\" style=\"opacity: 0\" dominant-baseline=\"middle\" text-anchor=\"middle\">-0.003</text><svg x=\"90.78468868777287%\" y=\"40\" height=\"20\" width=\"0.8819750080805733%\">  <svg x=\"0\" y=\"0\" width=\"100%\" height=\"100%\">    <text x=\"50%\" y=\"9\" font-size=\"12px\" fill=\"rgb(255,255,255)\" dominant-baseline=\"middle\" text-anchor=\"middle\">cricket</text>  </svg></svg><g transform=\"translate(-8,0)\">  <svg x=\"76.4743316897598%\" y=\"40\" height=\"18\" overflow=\"visible\" width=\"30\">    <path d=\"M 8 -9 l -6 18 L 8 25\" fill=\"none\" style=\"stroke:rgb(0.0, 138.56128015770727, 250.76166088685727);stroke-width:2\" />  </svg></g><g transform=\"translate(-10,0)\">  <svg x=\"76.4743316897598%\" y=\"40\" height=\"18\" overflow=\"visible\" width=\"30\">    <path d=\"M 8 -9 l -6 18 L 8 25\" fill=\"none\" style=\"stroke:rgb(0.0, 138.56128015770727, 250.76166088685727);stroke-width:2\" />  </svg></g><g transform=\"translate(-12,0)\">  <svg x=\"76.4743316897598%\" y=\"40\" height=\"18\" overflow=\"visible\" width=\"30\">    <path d=\"M 8 -9 l -6 18 L 8 25\" fill=\"none\" style=\"stroke:rgb(0.0, 138.56128015770727, 250.76166088685727);stroke-width:2\" />  </svg></g><g transform=\"translate(-14,0)\">  <svg x=\"76.4743316897598%\" y=\"40\" height=\"18\" overflow=\"visible\" width=\"30\">    <path d=\"M 8 -9 l -6 18 L 8 25\" fill=\"none\" style=\"stroke:rgb(0.0, 138.56128015770727, 250.76166088685727);stroke-width:2\" />  </svg></g><g transform=\"translate(2,0)\">  <svg x=\"76.4743316897598%\" y=\"40\" height=\"18\" overflow=\"visible\" width=\"30\">    <path d=\"M 8 -9 l -6 18 L 8 25\" fill=\"none\" style=\"stroke:rgb(0.0, 138.56128015770727, 250.76166088685727);stroke-width:2\" />  </svg></g><g transform=\"translate(0,0)\">  <svg x=\"76.4743316897598%\" y=\"40\" height=\"18\" overflow=\"visible\" width=\"30\">    <path d=\"M 8 -9 l -6 18 L 8 25\" fill=\"none\" style=\"stroke:rgb(0.0, 138.56128015770727, 250.76166088685727);stroke-width:2\" />  </svg></g><g transform=\"translate(-2,0)\">  <svg x=\"76.4743316897598%\" y=\"40\" height=\"18\" overflow=\"visible\" width=\"30\">    <path d=\"M 8 -9 l -6 18 L 8 25\" fill=\"none\" style=\"stroke:rgb(0.0, 138.56128015770727, 250.76166088685727);stroke-width:2\" />  </svg></g><g transform=\"translate(-4,0)\">  <svg x=\"76.4743316897598%\" y=\"40\" height=\"18\" overflow=\"visible\" width=\"30\">    <path d=\"M 8 -9 l -6 18 L 8 25\" fill=\"none\" style=\"stroke:rgb(0.0, 138.56128015770727, 250.76166088685727);stroke-width:2\" />  </svg></g><g transform=\"translate(-8,0)\">  <svg x=\"86.44770365951027%\" y=\"40\" height=\"18\" overflow=\"visible\" width=\"30\">    <path d=\"M 8 -9 l -6 18 L 8 25\" fill=\"none\" style=\"stroke:rgb(0.0, 138.56128015770727, 250.76166088685727);stroke-width:2\" />  </svg></g><g transform=\"translate(-10,0)\">  <svg x=\"86.44770365951027%\" y=\"40\" height=\"18\" overflow=\"visible\" width=\"30\">    <path d=\"M 8 -9 l -6 18 L 8 25\" fill=\"none\" style=\"stroke:rgb(0.0, 138.56128015770727, 250.76166088685727);stroke-width:2\" />  </svg></g><g transform=\"translate(-12,0)\">  <svg x=\"86.44770365951027%\" y=\"40\" height=\"18\" overflow=\"visible\" width=\"30\">    <path d=\"M 8 -9 l -6 18 L 8 25\" fill=\"none\" style=\"stroke:rgb(0.0, 138.56128015770727, 250.76166088685727);stroke-width:2\" />  </svg></g><g transform=\"translate(-14,0)\">  <svg x=\"86.44770365951027%\" y=\"40\" height=\"18\" overflow=\"visible\" width=\"30\">    <path d=\"M 8 -9 l -6 18 L 8 25\" fill=\"none\" style=\"stroke:rgb(0.0, 138.56128015770727, 250.76166088685727);stroke-width:2\" />  </svg></g><g transform=\"translate(2,0)\">  <svg x=\"86.44770365951027%\" y=\"40\" height=\"18\" overflow=\"visible\" width=\"30\">    <path d=\"M 8 -9 l -6 18 L 8 25\" fill=\"none\" style=\"stroke:rgb(0.0, 138.56128015770727, 250.76166088685727);stroke-width:2\" />  </svg></g><g transform=\"translate(0,0)\">  <svg x=\"86.44770365951027%\" y=\"40\" height=\"18\" overflow=\"visible\" width=\"30\">    <path d=\"M 8 -9 l -6 18 L 8 25\" fill=\"none\" style=\"stroke:rgb(0.0, 138.56128015770727, 250.76166088685727);stroke-width:2\" />  </svg></g><g transform=\"translate(-2,0)\">  <svg x=\"86.44770365951027%\" y=\"40\" height=\"18\" overflow=\"visible\" width=\"30\">    <path d=\"M 8 -9 l -6 18 L 8 25\" fill=\"none\" style=\"stroke:rgb(0.0, 138.56128015770727, 250.76166088685727);stroke-width:2\" />  </svg></g><g transform=\"translate(-4,0)\">  <svg x=\"86.44770365951027%\" y=\"40\" height=\"18\" overflow=\"visible\" width=\"30\">    <path d=\"M 8 -9 l -6 18 L 8 25\" fill=\"none\" style=\"stroke:rgb(0.0, 138.56128015770727, 250.76166088685727);stroke-width:2\" />  </svg></g><g transform=\"translate(-8,0)\">  <svg x=\"90.78468868777287%\" y=\"40\" height=\"18\" overflow=\"visible\" width=\"30\">    <path d=\"M 8 -9 l -6 18 L 8 25\" fill=\"none\" style=\"stroke:rgb(0.0, 138.56128015770727, 250.76166088685727);stroke-width:2\" />  </svg></g><g transform=\"translate(-10,0)\">  <svg x=\"90.78468868777287%\" y=\"40\" height=\"18\" overflow=\"visible\" width=\"30\">    <path d=\"M 8 -9 l -6 18 L 8 25\" fill=\"none\" style=\"stroke:rgb(0.0, 138.56128015770727, 250.76166088685727);stroke-width:2\" />  </svg></g><g transform=\"translate(-12,0)\">  <svg x=\"90.78468868777287%\" y=\"40\" height=\"18\" overflow=\"visible\" width=\"30\">    <path d=\"M 8 -9 l -6 18 L 8 25\" fill=\"none\" style=\"stroke:rgb(0.0, 138.56128015770727, 250.76166088685727);stroke-width:2\" />  </svg></g><g transform=\"translate(-14,0)\">  <svg x=\"90.78468868777287%\" y=\"40\" height=\"18\" overflow=\"visible\" width=\"30\">    <path d=\"M 8 -9 l -6 18 L 8 25\" fill=\"none\" style=\"stroke:rgb(0.0, 138.56128015770727, 250.76166088685727);stroke-width:2\" />  </svg></g><g transform=\"translate(2,0)\">  <svg x=\"90.78468868777287%\" y=\"40\" height=\"18\" overflow=\"visible\" width=\"30\">    <path d=\"M 8 -9 l -6 18 L 8 25\" fill=\"none\" style=\"stroke:rgb(0.0, 138.56128015770727, 250.76166088685727);stroke-width:2\" />  </svg></g><g transform=\"translate(0,0)\">  <svg x=\"90.78468868777287%\" y=\"40\" height=\"18\" overflow=\"visible\" width=\"30\">    <path d=\"M 8 -9 l -6 18 L 8 25\" fill=\"none\" style=\"stroke:rgb(0.0, 138.56128015770727, 250.76166088685727);stroke-width:2\" />  </svg></g><g transform=\"translate(-2,0)\">  <svg x=\"90.78468868777287%\" y=\"40\" height=\"18\" overflow=\"visible\" width=\"30\">    <path d=\"M 8 -9 l -6 18 L 8 25\" fill=\"none\" style=\"stroke:rgb(0.0, 138.56128015770727, 250.76166088685727);stroke-width:2\" />  </svg></g><g transform=\"translate(-4,0)\">  <svg x=\"90.78468868777287%\" y=\"40\" height=\"18\" overflow=\"visible\" width=\"30\">    <path d=\"M 8 -9 l -6 18 L 8 25\" fill=\"none\" style=\"stroke:rgb(0.0, 138.56128015770727, 250.76166088685727);stroke-width:2\" />  </svg></g><rect transform=\"translate(0,0)\" x=\"45.46455334292415%\" y=\"40\" width=\"8\" height=\"18\" style=\"fill:rgb(0.0, 138.56128015770727, 250.76166088685727)\"/><g transform=\"translate(-6.0,0)\">  <svg x=\"91.66666369585344%\" y=\"40\" height=\"18\" overflow=\"visible\" width=\"30\">    <path d=\"M 8 -9 l -6 18 L 8 25 L 20 25 L 20 -9\" fill=\"#ffffff\" style=\"stroke:rgb(255,255,255);stroke-width:2\" />  </svg></g><g transform=\"translate(-6.0,0)\">  <svg x=\"76.4743316897598%\" y=\"40\" height=\"18\" overflow=\"visible\" width=\"30\">    <path d=\"M 8 -9 l -6 18 L 8 25\" fill=\"none\" style=\"stroke:rgb(208, 230, 250);stroke-width:2\" />  </svg></g><rect x=\"45.46455334292415%\" y=\"40\" height=\"20\" width=\"31.009778346835645%\"      onmouseover=\"document.getElementById('_tp_qgxtnyzpfznggbfezsfq_ind_6').style.textDecoration = 'underline';document.getElementById('_fs_qgxtnyzpfznggbfezsfq_ind_6').style.opacity = 1;document.getElementById('_fb_qgxtnyzpfznggbfezsfq_ind_6').style.opacity = 1;\"      onmouseout=\"document.getElementById('_tp_qgxtnyzpfznggbfezsfq_ind_6').style.textDecoration = 'none';document.getElementById('_fs_qgxtnyzpfznggbfezsfq_ind_6').style.opacity = 0;document.getElementById('_fb_qgxtnyzpfznggbfezsfq_ind_6').style.opacity = 0;\" style=\"fill:rgb(0,0,0,0)\" /><g transform=\"translate(-6.0,0)\">  <svg x=\"86.44770365951027%\" y=\"40\" height=\"18\" overflow=\"visible\" width=\"30\">    <path d=\"M 8 -9 l -6 18 L 8 25\" fill=\"none\" style=\"stroke:rgb(208, 230, 250);stroke-width:2\" />  </svg></g><rect x=\"76.4743316897598%\" y=\"40\" height=\"20\" width=\"9.973371969750474%\"      onmouseover=\"document.getElementById('_tp_qgxtnyzpfznggbfezsfq_ind_3').style.textDecoration = 'underline';document.getElementById('_fs_qgxtnyzpfznggbfezsfq_ind_3').style.opacity = 1;document.getElementById('_fb_qgxtnyzpfznggbfezsfq_ind_3').style.opacity = 1;\"      onmouseout=\"document.getElementById('_tp_qgxtnyzpfznggbfezsfq_ind_3').style.textDecoration = 'none';document.getElementById('_fs_qgxtnyzpfznggbfezsfq_ind_3').style.opacity = 0;document.getElementById('_fb_qgxtnyzpfznggbfezsfq_ind_3').style.opacity = 0;\" style=\"fill:rgb(0,0,0,0)\" /><g transform=\"translate(-6.0,0)\">  <svg x=\"90.78468868777287%\" y=\"40\" height=\"18\" overflow=\"visible\" width=\"30\">    <path d=\"M 8 -9 l -6 18 L 8 25\" fill=\"none\" style=\"stroke:rgb(208, 230, 250);stroke-width:2\" />  </svg></g><rect x=\"86.44770365951027%\" y=\"40\" height=\"20\" width=\"4.336985028262603%\"      onmouseover=\"document.getElementById('_tp_qgxtnyzpfznggbfezsfq_ind_5').style.textDecoration = 'underline';document.getElementById('_fs_qgxtnyzpfznggbfezsfq_ind_5').style.opacity = 1;document.getElementById('_fb_qgxtnyzpfznggbfezsfq_ind_5').style.opacity = 1;\"      onmouseout=\"document.getElementById('_tp_qgxtnyzpfznggbfezsfq_ind_5').style.textDecoration = 'none';document.getElementById('_fs_qgxtnyzpfznggbfezsfq_ind_5').style.opacity = 0;document.getElementById('_fb_qgxtnyzpfznggbfezsfq_ind_5').style.opacity = 0;\" style=\"fill:rgb(0,0,0,0)\" /><rect x=\"90.78468868777287%\" y=\"40\" height=\"20\" width=\"0.8819750080805733%\"      onmouseover=\"document.getElementById('_tp_qgxtnyzpfznggbfezsfq_ind_4').style.textDecoration = 'underline';document.getElementById('_fs_qgxtnyzpfznggbfezsfq_ind_4').style.opacity = 1;document.getElementById('_fb_qgxtnyzpfznggbfezsfq_ind_4').style.opacity = 1;\"      onmouseout=\"document.getElementById('_tp_qgxtnyzpfznggbfezsfq_ind_4').style.textDecoration = 'none';document.getElementById('_fs_qgxtnyzpfznggbfezsfq_ind_4').style.opacity = 0;document.getElementById('_fb_qgxtnyzpfznggbfezsfq_ind_4').style.opacity = 0;\" style=\"fill:rgb(0,0,0,0)\" /></svg><div align='center'><div style=\"color: rgb(120,120,120); font-size: 12px; margin-top: -15px;\">inputs</div><div style='display: inline; text-align: center;'\n",
       "    ><div style='display: none; color: #999; padding-top: 0px; font-size: 12px;'>0.069</div\n",
       "        ><div id='_tp_qgxtnyzpfznggbfezsfq_ind_0'\n",
       "            style='display: inline; background: rgba(255.0, 13.0, 87.0, 0.7241037829273124); border-radius: 3px; padding: 0px'\n",
       "            onclick=\"\n",
       "            if (this.previousSibling.style.display == 'none') {\n",
       "                this.previousSibling.style.display = 'block';\n",
       "                this.parentNode.style.display = 'inline-block';\n",
       "            } else {\n",
       "                this.previousSibling.style.display = 'none';\n",
       "                this.parentNode.style.display = 'inline';\n",
       "            }\"\n",
       "            onmouseover=\"document.getElementById('_fb_qgxtnyzpfznggbfezsfq_ind_0').style.opacity = 1; document.getElementById('_fs_qgxtnyzpfznggbfezsfq_ind_0').style.opacity = 1;\"\n",
       "            onmouseout=\"document.getElementById('_fb_qgxtnyzpfznggbfezsfq_ind_0').style.opacity = 0; document.getElementById('_fs_qgxtnyzpfznggbfezsfq_ind_0').style.opacity = 0;\"\n",
       "        ></div></div><div style='display: inline; text-align: center;'\n",
       "    ><div style='display: none; color: #999; padding-top: 0px; font-size: 12px;'>0.015</div\n",
       "        ><div id='_tp_qgxtnyzpfznggbfezsfq_ind_1'\n",
       "            style='display: inline; background: rgba(255.0, 13.0, 87.0, 0.15654585066349747); border-radius: 3px; padding: 0px'\n",
       "            onclick=\"\n",
       "            if (this.previousSibling.style.display == 'none') {\n",
       "                this.previousSibling.style.display = 'block';\n",
       "                this.parentNode.style.display = 'inline-block';\n",
       "            } else {\n",
       "                this.previousSibling.style.display = 'none';\n",
       "                this.parentNode.style.display = 'inline';\n",
       "            }\"\n",
       "            onmouseover=\"document.getElementById('_fb_qgxtnyzpfznggbfezsfq_ind_1').style.opacity = 1; document.getElementById('_fs_qgxtnyzpfznggbfezsfq_ind_1').style.opacity = 1;\"\n",
       "            onmouseout=\"document.getElementById('_fb_qgxtnyzpfznggbfezsfq_ind_1').style.opacity = 0; document.getElementById('_fs_qgxtnyzpfznggbfezsfq_ind_1').style.opacity = 0;\"\n",
       "        >I </div></div><div style='display: inline; text-align: center;'\n",
       "    ><div style='display: none; color: #999; padding-top: 0px; font-size: 12px;'>0.03</div\n",
       "        ><div id='_tp_qgxtnyzpfznggbfezsfq_ind_2'\n",
       "            style='display: inline; background: rgba(255.0, 13.0, 87.0, 0.306318082788671); border-radius: 3px; padding: 0px'\n",
       "            onclick=\"\n",
       "            if (this.previousSibling.style.display == 'none') {\n",
       "                this.previousSibling.style.display = 'block';\n",
       "                this.parentNode.style.display = 'inline-block';\n",
       "            } else {\n",
       "                this.previousSibling.style.display = 'none';\n",
       "                this.parentNode.style.display = 'inline';\n",
       "            }\"\n",
       "            onmouseover=\"document.getElementById('_fb_qgxtnyzpfznggbfezsfq_ind_2').style.opacity = 1; document.getElementById('_fs_qgxtnyzpfznggbfezsfq_ind_2').style.opacity = 1;\"\n",
       "            onmouseout=\"document.getElementById('_fb_qgxtnyzpfznggbfezsfq_ind_2').style.opacity = 0; document.getElementById('_fs_qgxtnyzpfznggbfezsfq_ind_2').style.opacity = 0;\"\n",
       "        >love </div></div><div style='display: inline; text-align: center;'\n",
       "    ><div style='display: none; color: #999; padding-top: 0px; font-size: 12px;'>-0.031</div\n",
       "        ><div id='_tp_qgxtnyzpfznggbfezsfq_ind_3'\n",
       "            style='display: inline; background: rgba(30.0, 136.0, 229.0, 0.3220835809071103); border-radius: 3px; padding: 0px'\n",
       "            onclick=\"\n",
       "            if (this.previousSibling.style.display == 'none') {\n",
       "                this.previousSibling.style.display = 'block';\n",
       "                this.parentNode.style.display = 'inline-block';\n",
       "            } else {\n",
       "                this.previousSibling.style.display = 'none';\n",
       "                this.parentNode.style.display = 'inline';\n",
       "            }\"\n",
       "            onmouseover=\"document.getElementById('_fb_qgxtnyzpfznggbfezsfq_ind_3').style.opacity = 1; document.getElementById('_fs_qgxtnyzpfznggbfezsfq_ind_3').style.opacity = 1;\"\n",
       "            onmouseout=\"document.getElementById('_fb_qgxtnyzpfznggbfezsfq_ind_3').style.opacity = 0; document.getElementById('_fs_qgxtnyzpfznggbfezsfq_ind_3').style.opacity = 0;\"\n",
       "        >playing </div></div><div style='display: inline; text-align: center;'\n",
       "    ><div style='display: none; color: #999; padding-top: 0px; font-size: 12px;'>-0.003</div\n",
       "        ><div id='_tp_qgxtnyzpfznggbfezsfq_ind_4'\n",
       "            style='display: inline; background: rgba(30.0, 136.0, 229.0, 0.022539116656763607); border-radius: 3px; padding: 0px'\n",
       "            onclick=\"\n",
       "            if (this.previousSibling.style.display == 'none') {\n",
       "                this.previousSibling.style.display = 'block';\n",
       "                this.parentNode.style.display = 'inline-block';\n",
       "            } else {\n",
       "                this.previousSibling.style.display = 'none';\n",
       "                this.parentNode.style.display = 'inline';\n",
       "            }\"\n",
       "            onmouseover=\"document.getElementById('_fb_qgxtnyzpfznggbfezsfq_ind_4').style.opacity = 1; document.getElementById('_fs_qgxtnyzpfznggbfezsfq_ind_4').style.opacity = 1;\"\n",
       "            onmouseout=\"document.getElementById('_fb_qgxtnyzpfznggbfezsfq_ind_4').style.opacity = 0; document.getElementById('_fs_qgxtnyzpfznggbfezsfq_ind_4').style.opacity = 0;\"\n",
       "        >cricket</div></div><div style='display: inline; text-align: center;'\n",
       "    ><div style='display: none; color: #999; padding-top: 0px; font-size: 12px;'>-0.013</div\n",
       "        ><div id='_tp_qgxtnyzpfznggbfezsfq_ind_5'\n",
       "            style='display: inline; background: rgba(30.0, 136.0, 229.0, 0.1328976034858387); border-radius: 3px; padding: 0px'\n",
       "            onclick=\"\n",
       "            if (this.previousSibling.style.display == 'none') {\n",
       "                this.previousSibling.style.display = 'block';\n",
       "                this.parentNode.style.display = 'inline-block';\n",
       "            } else {\n",
       "                this.previousSibling.style.display = 'none';\n",
       "                this.parentNode.style.display = 'inline';\n",
       "            }\"\n",
       "            onmouseover=\"document.getElementById('_fb_qgxtnyzpfznggbfezsfq_ind_5').style.opacity = 1; document.getElementById('_fs_qgxtnyzpfznggbfezsfq_ind_5').style.opacity = 1;\"\n",
       "            onmouseout=\"document.getElementById('_fb_qgxtnyzpfznggbfezsfq_ind_5').style.opacity = 0; document.getElementById('_fs_qgxtnyzpfznggbfezsfq_ind_5').style.opacity = 0;\"\n",
       "        >!</div></div><div style='display: inline; text-align: center;'\n",
       "    ><div style='display: none; color: #999; padding-top: 0px; font-size: 12px;'>-0.096</div\n",
       "        ><div id='_tp_qgxtnyzpfznggbfezsfq_ind_6'\n",
       "            style='display: inline; background: rgba(30.0, 136.0, 229.0, 1.0); border-radius: 3px; padding: 0px'\n",
       "            onclick=\"\n",
       "            if (this.previousSibling.style.display == 'none') {\n",
       "                this.previousSibling.style.display = 'block';\n",
       "                this.parentNode.style.display = 'inline-block';\n",
       "            } else {\n",
       "                this.previousSibling.style.display = 'none';\n",
       "                this.parentNode.style.display = 'inline';\n",
       "            }\"\n",
       "            onmouseover=\"document.getElementById('_fb_qgxtnyzpfznggbfezsfq_ind_6').style.opacity = 1; document.getElementById('_fs_qgxtnyzpfznggbfezsfq_ind_6').style.opacity = 1;\"\n",
       "            onmouseout=\"document.getElementById('_fb_qgxtnyzpfznggbfezsfq_ind_6').style.opacity = 0; document.getElementById('_fs_qgxtnyzpfznggbfezsfq_ind_6').style.opacity = 0;\"\n",
       "        ></div></div></div></div><div id='_tp_nlbmgvjcuvvfwzckawpn_output_1' style='display: none';><svg width=\"100%\" height=\"80px\"><line x1=\"0\" y1=\"33\" x2=\"100%\" y2=\"33\" style=\"stroke:rgb(150,150,150);stroke-width:1\" /><line x1=\"51.63855637541619%\" y1=\"33\" x2=\"51.63855637541619%\" y2=\"37\" style=\"stroke:rgb(150,150,150);stroke-width:1\" /><text x=\"51.63855637541619%\" y=\"27\" font-size=\"12px\" fill=\"rgb(120,120,120)\" dominant-baseline=\"bottom\" text-anchor=\"middle\">0.4</text><line x1=\"34.98388402097983%\" y1=\"33\" x2=\"34.98388402097983%\" y2=\"37\" style=\"stroke:rgb(150,150,150);stroke-width:1\" /><text x=\"34.98388402097983%\" y=\"27\" font-size=\"12px\" fill=\"rgb(120,120,120)\" dominant-baseline=\"bottom\" text-anchor=\"middle\">0.2</text><line x1=\"18.329211666543475%\" y1=\"33\" x2=\"18.329211666543475%\" y2=\"37\" style=\"stroke:rgb(150,150,150);stroke-width:1\" /><text x=\"18.329211666543475%\" y=\"27\" font-size=\"12px\" fill=\"rgb(120,120,120)\" dominant-baseline=\"bottom\" text-anchor=\"middle\">0</text><line x1=\"68.29322872985256%\" y1=\"33\" x2=\"68.29322872985256%\" y2=\"37\" style=\"stroke:rgb(150,150,150);stroke-width:1\" /><text x=\"68.29322872985256%\" y=\"27\" font-size=\"12px\" fill=\"rgb(120,120,120)\" dominant-baseline=\"bottom\" text-anchor=\"middle\">0.6</text><line x1=\"84.9479010842889%\" y1=\"33\" x2=\"84.9479010842889%\" y2=\"37\" style=\"stroke:rgb(150,150,150);stroke-width:1\" /><text x=\"84.9479010842889%\" y=\"27\" font-size=\"12px\" fill=\"rgb(120,120,120)\" dominant-baseline=\"bottom\" text-anchor=\"middle\">0.8</text><line x1=\"28.8639095165809%\" y1=\"33\" x2=\"28.8639095165809%\" y2=\"37\" style=\"stroke:rgb(150,150,150);stroke-width:1\" /><text x=\"28.8639095165809%\" y=\"27\" font-size=\"13px\" style=\"stroke:#ffffff;stroke-width:8px;\" fill=\"rgb(255,255,255)\" dominant-baseline=\"bottom\" text-anchor=\"middle\">0.126507</text><text x=\"28.8639095165809%\" y=\"27\" font-size=\"12px\" fill=\"rgb(120,120,120)\" dominant-baseline=\"bottom\" text-anchor=\"middle\">0.126507</text><text x=\"28.8639095165809%\" y=\"10\" font-size=\"12px\" fill=\"rgb(120,120,120)\" dominant-baseline=\"bottom\" text-anchor=\"middle\">base value</text><line x1=\"87.78688309900184%\" y1=\"33\" x2=\"87.78688309900184%\" y2=\"37\" style=\"stroke:rgb(150,150,150);stroke-width:1\" /><text x=\"87.78688309900184%\" y=\"27\" font-size=\"13px\" style=\"stroke:#ffffff;stroke-width:8px;\" font-weight=\"bold\" fill=\"rgb(255,255,255)\" dominant-baseline=\"bottom\" text-anchor=\"middle\">0.834092</text><text x=\"87.78688309900184%\" y=\"27\" font-size=\"13px\" font-weight=\"bold\" fill=\"rgb(0,0,0)\" dominant-baseline=\"bottom\" text-anchor=\"middle\">0.834092</text><text x=\"87.78688309900184%\" y=\"10\" font-size=\"12px\" fill=\"rgb(120,120,120)\" dominant-baseline=\"bottom\" text-anchor=\"middle\">f<tspan baseline-shift=\"sub\" font-size=\"8px\">sports</tspan>(inputs)</text><rect x=\"23.596560591562188%\" width=\"64.19032250743966%\" y=\"40\" height=\"18\" style=\"fill:rgb(255.0, 0.0, 81.08083606031792); stroke-width:0; stroke:rgb(0,0,0)\" /><line x1=\"66.46304099987866%\" x2=\"87.78688309900184%\" y1=\"60\" y2=\"60\" id=\"_fb_yukzgctmqhhjnbgkebdi_ind_0\" style=\"stroke:rgb(255.0, 0.0, 81.08083606031792);stroke-width:2; opacity: 0\"/><text x=\"77.12496204944026%\" y=\"71\" font-size=\"12px\" id=\"_fs_yukzgctmqhhjnbgkebdi_ind_0\" fill=\"rgb(255.0, 0.0, 81.08083606031792)\" style=\"opacity: 0\" dominant-baseline=\"middle\" text-anchor=\"middle\">0.256</text><svg x=\"66.46304099987866%\" y=\"40\" height=\"20\" width=\"21.323842099123183%\">  <svg x=\"0\" y=\"0\" width=\"100%\" height=\"100%\">    <text x=\"50%\" y=\"9\" font-size=\"12px\" fill=\"rgb(255,255,255)\" dominant-baseline=\"middle\" text-anchor=\"middle\"></text>  </svg></svg><line x1=\"51.194013254186295%\" x2=\"66.46304099987866%\" y1=\"60\" y2=\"60\" id=\"_fb_yukzgctmqhhjnbgkebdi_ind_5\" style=\"stroke:rgb(255.0, 0.0, 81.08083606031792);stroke-width:2; opacity: 0\"/><text x=\"58.82852712703247%\" y=\"71\" font-size=\"12px\" id=\"_fs_yukzgctmqhhjnbgkebdi_ind_5\" fill=\"rgb(255.0, 0.0, 81.08083606031792)\" style=\"opacity: 0\" dominant-baseline=\"middle\" text-anchor=\"middle\">0.183</text><svg x=\"51.194013254186295%\" y=\"40\" height=\"20\" width=\"15.269027745692362%\">  <svg x=\"0\" y=\"0\" width=\"100%\" height=\"100%\">    <text x=\"50%\" y=\"9\" font-size=\"12px\" fill=\"rgb(255,255,255)\" dominant-baseline=\"middle\" text-anchor=\"middle\">!</text>  </svg></svg><line x1=\"36.863607334891086%\" x2=\"51.194013254186295%\" y1=\"60\" y2=\"60\" id=\"_fb_yukzgctmqhhjnbgkebdi_ind_2\" style=\"stroke:rgb(255.0, 0.0, 81.08083606031792);stroke-width:2; opacity: 0\"/><text x=\"44.02881029453869%\" y=\"71\" font-size=\"12px\" id=\"_fs_yukzgctmqhhjnbgkebdi_ind_2\" fill=\"rgb(255.0, 0.0, 81.08083606031792)\" style=\"opacity: 0\" dominant-baseline=\"middle\" text-anchor=\"middle\">0.172</text><svg x=\"36.863607334891086%\" y=\"40\" height=\"20\" width=\"14.33040591929521%\">  <svg x=\"0\" y=\"0\" width=\"100%\" height=\"100%\">    <text x=\"50%\" y=\"9\" font-size=\"12px\" fill=\"rgb(255,255,255)\" dominant-baseline=\"middle\" text-anchor=\"middle\">love</text>  </svg></svg><line x1=\"28.883756763496528%\" x2=\"36.863607334891086%\" y1=\"60\" y2=\"60\" id=\"_fb_yukzgctmqhhjnbgkebdi_ind_1\" style=\"stroke:rgb(255.0, 0.0, 81.08083606031792);stroke-width:2; opacity: 0\"/><text x=\"32.8736820491938%\" y=\"71\" font-size=\"12px\" id=\"_fs_yukzgctmqhhjnbgkebdi_ind_1\" fill=\"rgb(255.0, 0.0, 81.08083606031792)\" style=\"opacity: 0\" dominant-baseline=\"middle\" text-anchor=\"middle\">0.096</text><svg x=\"28.883756763496528%\" y=\"40\" height=\"20\" width=\"7.979850571394557%\">  <svg x=\"0\" y=\"0\" width=\"100%\" height=\"100%\">    <text x=\"50%\" y=\"9\" font-size=\"12px\" fill=\"rgb(255,255,255)\" dominant-baseline=\"middle\" text-anchor=\"middle\">I</text>  </svg></svg><line x1=\"23.962860001410274%\" x2=\"28.883756763496528%\" y1=\"60\" y2=\"60\" id=\"_fb_yukzgctmqhhjnbgkebdi_ind_4\" style=\"stroke:rgb(255.0, 0.0, 81.08083606031792);stroke-width:2; opacity: 0\"/><text x=\"26.4233083824534%\" y=\"71\" font-size=\"12px\" id=\"_fs_yukzgctmqhhjnbgkebdi_ind_4\" fill=\"rgb(255.0, 0.0, 81.08083606031792)\" style=\"opacity: 0\" dominant-baseline=\"middle\" text-anchor=\"middle\">0.059</text><svg x=\"23.962860001410274%\" y=\"40\" height=\"20\" width=\"4.9208967620862545%\">  <svg x=\"0\" y=\"0\" width=\"100%\" height=\"100%\">    <text x=\"50%\" y=\"9\" font-size=\"12px\" fill=\"rgb(255,255,255)\" dominant-baseline=\"middle\" text-anchor=\"middle\">cricket</text>  </svg></svg><line x1=\"23.596560591562188%\" x2=\"23.962860001410274%\" y1=\"60\" y2=\"60\" id=\"_fb_yukzgctmqhhjnbgkebdi_ind_3\" style=\"stroke:rgb(255.0, 0.0, 81.08083606031792);stroke-width:2; opacity: 0\"/><text x=\"23.77971029648623%\" y=\"71\" font-size=\"12px\" id=\"_fs_yukzgctmqhhjnbgkebdi_ind_3\" fill=\"rgb(255.0, 0.0, 81.08083606031792)\" style=\"opacity: 0\" dominant-baseline=\"middle\" text-anchor=\"middle\">0.004</text><svg x=\"23.596560591562188%\" y=\"40\" height=\"20\" width=\"0.36629940984808584%\">  <svg x=\"0\" y=\"0\" width=\"100%\" height=\"100%\">    <text x=\"50%\" y=\"9\" font-size=\"12px\" fill=\"rgb(255,255,255)\" dominant-baseline=\"middle\" text-anchor=\"middle\">playing</text>  </svg></svg><g transform=\"translate(0,0)\">  <svg x=\"66.46304099987866%\" y=\"40\" height=\"18\" overflow=\"visible\" width=\"30\">    <path d=\"M 0 -9 l 6 18 L 0 25\" fill=\"none\" style=\"stroke:rgb(255.0, 0.0, 81.08083606031792);stroke-width:2\" />  </svg></g><g transform=\"translate(2,0)\">  <svg x=\"66.46304099987866%\" y=\"40\" height=\"18\" overflow=\"visible\" width=\"30\">    <path d=\"M 0 -9 l 6 18 L 0 25\" fill=\"none\" style=\"stroke:rgb(255.0, 0.0, 81.08083606031792);stroke-width:2\" />  </svg></g><g transform=\"translate(4,0)\">  <svg x=\"66.46304099987866%\" y=\"40\" height=\"18\" overflow=\"visible\" width=\"30\">    <path d=\"M 0 -9 l 6 18 L 0 25\" fill=\"none\" style=\"stroke:rgb(255.0, 0.0, 81.08083606031792);stroke-width:2\" />  </svg></g><g transform=\"translate(6,0)\">  <svg x=\"66.46304099987866%\" y=\"40\" height=\"18\" overflow=\"visible\" width=\"30\">    <path d=\"M 0 -9 l 6 18 L 0 25\" fill=\"none\" style=\"stroke:rgb(255.0, 0.0, 81.08083606031792);stroke-width:2\" />  </svg></g><g transform=\"translate(-8,0)\">  <svg x=\"66.46304099987866%\" y=\"40\" height=\"18\" overflow=\"visible\" width=\"30\">    <path d=\"M 0 -9 l 6 18 L 0 25\" fill=\"none\" style=\"stroke:rgb(255.0, 0.0, 81.08083606031792);stroke-width:2\" />  </svg></g><g transform=\"translate(-6,0)\">  <svg x=\"66.46304099987866%\" y=\"40\" height=\"18\" overflow=\"visible\" width=\"30\">    <path d=\"M 0 -9 l 6 18 L 0 25\" fill=\"none\" style=\"stroke:rgb(255.0, 0.0, 81.08083606031792);stroke-width:2\" />  </svg></g><g transform=\"translate(-4,0)\">  <svg x=\"66.46304099987866%\" y=\"40\" height=\"18\" overflow=\"visible\" width=\"30\">    <path d=\"M 0 -9 l 6 18 L 0 25\" fill=\"none\" style=\"stroke:rgb(255.0, 0.0, 81.08083606031792);stroke-width:2\" />  </svg></g><g transform=\"translate(-2,0)\">  <svg x=\"66.46304099987866%\" y=\"40\" height=\"18\" overflow=\"visible\" width=\"30\">    <path d=\"M 0 -9 l 6 18 L 0 25\" fill=\"none\" style=\"stroke:rgb(255.0, 0.0, 81.08083606031792);stroke-width:2\" />  </svg></g><g transform=\"translate(0,0)\">  <svg x=\"51.194013254186295%\" y=\"40\" height=\"18\" overflow=\"visible\" width=\"30\">    <path d=\"M 0 -9 l 6 18 L 0 25\" fill=\"none\" style=\"stroke:rgb(255.0, 0.0, 81.08083606031792);stroke-width:2\" />  </svg></g><g transform=\"translate(2,0)\">  <svg x=\"51.194013254186295%\" y=\"40\" height=\"18\" overflow=\"visible\" width=\"30\">    <path d=\"M 0 -9 l 6 18 L 0 25\" fill=\"none\" style=\"stroke:rgb(255.0, 0.0, 81.08083606031792);stroke-width:2\" />  </svg></g><g transform=\"translate(4,0)\">  <svg x=\"51.194013254186295%\" y=\"40\" height=\"18\" overflow=\"visible\" width=\"30\">    <path d=\"M 0 -9 l 6 18 L 0 25\" fill=\"none\" style=\"stroke:rgb(255.0, 0.0, 81.08083606031792);stroke-width:2\" />  </svg></g><g transform=\"translate(6,0)\">  <svg x=\"51.194013254186295%\" y=\"40\" height=\"18\" overflow=\"visible\" width=\"30\">    <path d=\"M 0 -9 l 6 18 L 0 25\" fill=\"none\" style=\"stroke:rgb(255.0, 0.0, 81.08083606031792);stroke-width:2\" />  </svg></g><g transform=\"translate(-8,0)\">  <svg x=\"51.194013254186295%\" y=\"40\" height=\"18\" overflow=\"visible\" width=\"30\">    <path d=\"M 0 -9 l 6 18 L 0 25\" fill=\"none\" style=\"stroke:rgb(255.0, 0.0, 81.08083606031792);stroke-width:2\" />  </svg></g><g transform=\"translate(-6,0)\">  <svg x=\"51.194013254186295%\" y=\"40\" height=\"18\" overflow=\"visible\" width=\"30\">    <path d=\"M 0 -9 l 6 18 L 0 25\" fill=\"none\" style=\"stroke:rgb(255.0, 0.0, 81.08083606031792);stroke-width:2\" />  </svg></g><g transform=\"translate(-4,0)\">  <svg x=\"51.194013254186295%\" y=\"40\" height=\"18\" overflow=\"visible\" width=\"30\">    <path d=\"M 0 -9 l 6 18 L 0 25\" fill=\"none\" style=\"stroke:rgb(255.0, 0.0, 81.08083606031792);stroke-width:2\" />  </svg></g><g transform=\"translate(-2,0)\">  <svg x=\"51.194013254186295%\" y=\"40\" height=\"18\" overflow=\"visible\" width=\"30\">    <path d=\"M 0 -9 l 6 18 L 0 25\" fill=\"none\" style=\"stroke:rgb(255.0, 0.0, 81.08083606031792);stroke-width:2\" />  </svg></g><g transform=\"translate(0,0)\">  <svg x=\"36.863607334891086%\" y=\"40\" height=\"18\" overflow=\"visible\" width=\"30\">    <path d=\"M 0 -9 l 6 18 L 0 25\" fill=\"none\" style=\"stroke:rgb(255.0, 0.0, 81.08083606031792);stroke-width:2\" />  </svg></g><g transform=\"translate(2,0)\">  <svg x=\"36.863607334891086%\" y=\"40\" height=\"18\" overflow=\"visible\" width=\"30\">    <path d=\"M 0 -9 l 6 18 L 0 25\" fill=\"none\" style=\"stroke:rgb(255.0, 0.0, 81.08083606031792);stroke-width:2\" />  </svg></g><g transform=\"translate(4,0)\">  <svg x=\"36.863607334891086%\" y=\"40\" height=\"18\" overflow=\"visible\" width=\"30\">    <path d=\"M 0 -9 l 6 18 L 0 25\" fill=\"none\" style=\"stroke:rgb(255.0, 0.0, 81.08083606031792);stroke-width:2\" />  </svg></g><g transform=\"translate(6,0)\">  <svg x=\"36.863607334891086%\" y=\"40\" height=\"18\" overflow=\"visible\" width=\"30\">    <path d=\"M 0 -9 l 6 18 L 0 25\" fill=\"none\" style=\"stroke:rgb(255.0, 0.0, 81.08083606031792);stroke-width:2\" />  </svg></g><g transform=\"translate(-8,0)\">  <svg x=\"36.863607334891086%\" y=\"40\" height=\"18\" overflow=\"visible\" width=\"30\">    <path d=\"M 0 -9 l 6 18 L 0 25\" fill=\"none\" style=\"stroke:rgb(255.0, 0.0, 81.08083606031792);stroke-width:2\" />  </svg></g><g transform=\"translate(-6,0)\">  <svg x=\"36.863607334891086%\" y=\"40\" height=\"18\" overflow=\"visible\" width=\"30\">    <path d=\"M 0 -9 l 6 18 L 0 25\" fill=\"none\" style=\"stroke:rgb(255.0, 0.0, 81.08083606031792);stroke-width:2\" />  </svg></g><g transform=\"translate(-4,0)\">  <svg x=\"36.863607334891086%\" y=\"40\" height=\"18\" overflow=\"visible\" width=\"30\">    <path d=\"M 0 -9 l 6 18 L 0 25\" fill=\"none\" style=\"stroke:rgb(255.0, 0.0, 81.08083606031792);stroke-width:2\" />  </svg></g><g transform=\"translate(-2,0)\">  <svg x=\"36.863607334891086%\" y=\"40\" height=\"18\" overflow=\"visible\" width=\"30\">    <path d=\"M 0 -9 l 6 18 L 0 25\" fill=\"none\" style=\"stroke:rgb(255.0, 0.0, 81.08083606031792);stroke-width:2\" />  </svg></g><g transform=\"translate(0,0)\">  <svg x=\"28.883756763496528%\" y=\"40\" height=\"18\" overflow=\"visible\" width=\"30\">    <path d=\"M 0 -9 l 6 18 L 0 25\" fill=\"none\" style=\"stroke:rgb(255.0, 0.0, 81.08083606031792);stroke-width:2\" />  </svg></g><g transform=\"translate(2,0)\">  <svg x=\"28.883756763496528%\" y=\"40\" height=\"18\" overflow=\"visible\" width=\"30\">    <path d=\"M 0 -9 l 6 18 L 0 25\" fill=\"none\" style=\"stroke:rgb(255.0, 0.0, 81.08083606031792);stroke-width:2\" />  </svg></g><g transform=\"translate(4,0)\">  <svg x=\"28.883756763496528%\" y=\"40\" height=\"18\" overflow=\"visible\" width=\"30\">    <path d=\"M 0 -9 l 6 18 L 0 25\" fill=\"none\" style=\"stroke:rgb(255.0, 0.0, 81.08083606031792);stroke-width:2\" />  </svg></g><g transform=\"translate(6,0)\">  <svg x=\"28.883756763496528%\" y=\"40\" height=\"18\" overflow=\"visible\" width=\"30\">    <path d=\"M 0 -9 l 6 18 L 0 25\" fill=\"none\" style=\"stroke:rgb(255.0, 0.0, 81.08083606031792);stroke-width:2\" />  </svg></g><g transform=\"translate(-8,0)\">  <svg x=\"28.883756763496528%\" y=\"40\" height=\"18\" overflow=\"visible\" width=\"30\">    <path d=\"M 0 -9 l 6 18 L 0 25\" fill=\"none\" style=\"stroke:rgb(255.0, 0.0, 81.08083606031792);stroke-width:2\" />  </svg></g><g transform=\"translate(-6,0)\">  <svg x=\"28.883756763496528%\" y=\"40\" height=\"18\" overflow=\"visible\" width=\"30\">    <path d=\"M 0 -9 l 6 18 L 0 25\" fill=\"none\" style=\"stroke:rgb(255.0, 0.0, 81.08083606031792);stroke-width:2\" />  </svg></g><g transform=\"translate(-4,0)\">  <svg x=\"28.883756763496528%\" y=\"40\" height=\"18\" overflow=\"visible\" width=\"30\">    <path d=\"M 0 -9 l 6 18 L 0 25\" fill=\"none\" style=\"stroke:rgb(255.0, 0.0, 81.08083606031792);stroke-width:2\" />  </svg></g><g transform=\"translate(-2,0)\">  <svg x=\"28.883756763496528%\" y=\"40\" height=\"18\" overflow=\"visible\" width=\"30\">    <path d=\"M 0 -9 l 6 18 L 0 25\" fill=\"none\" style=\"stroke:rgb(255.0, 0.0, 81.08083606031792);stroke-width:2\" />  </svg></g><g transform=\"translate(0,0)\">  <svg x=\"23.962860001410274%\" y=\"40\" height=\"18\" overflow=\"visible\" width=\"30\">    <path d=\"M 0 -9 l 6 18 L 0 25\" fill=\"none\" style=\"stroke:rgb(255.0, 0.0, 81.08083606031792);stroke-width:2\" />  </svg></g><g transform=\"translate(2,0)\">  <svg x=\"23.962860001410274%\" y=\"40\" height=\"18\" overflow=\"visible\" width=\"30\">    <path d=\"M 0 -9 l 6 18 L 0 25\" fill=\"none\" style=\"stroke:rgb(255.0, 0.0, 81.08083606031792);stroke-width:2\" />  </svg></g><g transform=\"translate(4,0)\">  <svg x=\"23.962860001410274%\" y=\"40\" height=\"18\" overflow=\"visible\" width=\"30\">    <path d=\"M 0 -9 l 6 18 L 0 25\" fill=\"none\" style=\"stroke:rgb(255.0, 0.0, 81.08083606031792);stroke-width:2\" />  </svg></g><g transform=\"translate(6,0)\">  <svg x=\"23.962860001410274%\" y=\"40\" height=\"18\" overflow=\"visible\" width=\"30\">    <path d=\"M 0 -9 l 6 18 L 0 25\" fill=\"none\" style=\"stroke:rgb(255.0, 0.0, 81.08083606031792);stroke-width:2\" />  </svg></g><g transform=\"translate(-8,0)\">  <svg x=\"23.962860001410274%\" y=\"40\" height=\"18\" overflow=\"visible\" width=\"30\">    <path d=\"M 0 -9 l 6 18 L 0 25\" fill=\"none\" style=\"stroke:rgb(255.0, 0.0, 81.08083606031792);stroke-width:2\" />  </svg></g><g transform=\"translate(-6,0)\">  <svg x=\"23.962860001410274%\" y=\"40\" height=\"18\" overflow=\"visible\" width=\"30\">    <path d=\"M 0 -9 l 6 18 L 0 25\" fill=\"none\" style=\"stroke:rgb(255.0, 0.0, 81.08083606031792);stroke-width:2\" />  </svg></g><g transform=\"translate(-4,0)\">  <svg x=\"23.962860001410274%\" y=\"40\" height=\"18\" overflow=\"visible\" width=\"30\">    <path d=\"M 0 -9 l 6 18 L 0 25\" fill=\"none\" style=\"stroke:rgb(255.0, 0.0, 81.08083606031792);stroke-width:2\" />  </svg></g><g transform=\"translate(-2,0)\">  <svg x=\"23.962860001410274%\" y=\"40\" height=\"18\" overflow=\"visible\" width=\"30\">    <path d=\"M 0 -9 l 6 18 L 0 25\" fill=\"none\" style=\"stroke:rgb(255.0, 0.0, 81.08083606031792);stroke-width:2\" />  </svg></g><rect transform=\"translate(-8,0)\" x=\"87.78688309900184%\" y=\"40\" width=\"8\" height=\"18\" style=\"fill:rgb(255.0, 0.0, 81.08083606031792)\"/><g transform=\"translate(-11.5,0)\">  <svg x=\"23.596560591562188%\" y=\"40\" height=\"18\" overflow=\"visible\" width=\"30\">    <path d=\"M 10 -9 l 6 18 L 10 25 L 0 25 L 0 -9\" fill=\"#ffffff\" style=\"stroke:rgb(255,255,255);stroke-width:2\" />  </svg></g><g transform=\"translate(-1.5,0)\">  <svg x=\"87.78688309900184%\" y=\"40\" height=\"18\" overflow=\"visible\" width=\"30\">    <path d=\"M 0 -9 l 6 18 L 0 25\" fill=\"none\" style=\"stroke:rgb(255, 195, 213);stroke-width:2\" />  </svg></g><rect x=\"66.46304099987866%\" y=\"40\" height=\"20\" width=\"21.323842099123183%\"      onmouseover=\"document.getElementById('_tp_yukzgctmqhhjnbgkebdi_ind_0').style.textDecoration = 'underline';document.getElementById('_fs_yukzgctmqhhjnbgkebdi_ind_0').style.opacity = 1;document.getElementById('_fb_yukzgctmqhhjnbgkebdi_ind_0').style.opacity = 1;\"      onmouseout=\"document.getElementById('_tp_yukzgctmqhhjnbgkebdi_ind_0').style.textDecoration = 'none';document.getElementById('_fs_yukzgctmqhhjnbgkebdi_ind_0').style.opacity = 0;document.getElementById('_fb_yukzgctmqhhjnbgkebdi_ind_0').style.opacity = 0;\" style=\"fill:rgb(0,0,0,0)\" /><g transform=\"translate(-1.5,0)\">  <svg x=\"66.46304099987866%\" y=\"40\" height=\"18\" overflow=\"visible\" width=\"30\">    <path d=\"M 0 -9 l 6 18 L 0 25\" fill=\"none\" style=\"stroke:rgb(255, 195, 213);stroke-width:2\" />  </svg></g><rect x=\"51.194013254186295%\" y=\"40\" height=\"20\" width=\"15.269027745692362%\"      onmouseover=\"document.getElementById('_tp_yukzgctmqhhjnbgkebdi_ind_5').style.textDecoration = 'underline';document.getElementById('_fs_yukzgctmqhhjnbgkebdi_ind_5').style.opacity = 1;document.getElementById('_fb_yukzgctmqhhjnbgkebdi_ind_5').style.opacity = 1;\"      onmouseout=\"document.getElementById('_tp_yukzgctmqhhjnbgkebdi_ind_5').style.textDecoration = 'none';document.getElementById('_fs_yukzgctmqhhjnbgkebdi_ind_5').style.opacity = 0;document.getElementById('_fb_yukzgctmqhhjnbgkebdi_ind_5').style.opacity = 0;\" style=\"fill:rgb(0,0,0,0)\" /><g transform=\"translate(-1.5,0)\">  <svg x=\"51.194013254186295%\" y=\"40\" height=\"18\" overflow=\"visible\" width=\"30\">    <path d=\"M 0 -9 l 6 18 L 0 25\" fill=\"none\" style=\"stroke:rgb(255, 195, 213);stroke-width:2\" />  </svg></g><rect x=\"36.863607334891086%\" y=\"40\" height=\"20\" width=\"14.33040591929521%\"      onmouseover=\"document.getElementById('_tp_yukzgctmqhhjnbgkebdi_ind_2').style.textDecoration = 'underline';document.getElementById('_fs_yukzgctmqhhjnbgkebdi_ind_2').style.opacity = 1;document.getElementById('_fb_yukzgctmqhhjnbgkebdi_ind_2').style.opacity = 1;\"      onmouseout=\"document.getElementById('_tp_yukzgctmqhhjnbgkebdi_ind_2').style.textDecoration = 'none';document.getElementById('_fs_yukzgctmqhhjnbgkebdi_ind_2').style.opacity = 0;document.getElementById('_fb_yukzgctmqhhjnbgkebdi_ind_2').style.opacity = 0;\" style=\"fill:rgb(0,0,0,0)\" /><g transform=\"translate(-1.5,0)\">  <svg x=\"36.863607334891086%\" y=\"40\" height=\"18\" overflow=\"visible\" width=\"30\">    <path d=\"M 0 -9 l 6 18 L 0 25\" fill=\"none\" style=\"stroke:rgb(255, 195, 213);stroke-width:2\" />  </svg></g><rect x=\"28.883756763496528%\" y=\"40\" height=\"20\" width=\"7.979850571394557%\"      onmouseover=\"document.getElementById('_tp_yukzgctmqhhjnbgkebdi_ind_1').style.textDecoration = 'underline';document.getElementById('_fs_yukzgctmqhhjnbgkebdi_ind_1').style.opacity = 1;document.getElementById('_fb_yukzgctmqhhjnbgkebdi_ind_1').style.opacity = 1;\"      onmouseout=\"document.getElementById('_tp_yukzgctmqhhjnbgkebdi_ind_1').style.textDecoration = 'none';document.getElementById('_fs_yukzgctmqhhjnbgkebdi_ind_1').style.opacity = 0;document.getElementById('_fb_yukzgctmqhhjnbgkebdi_ind_1').style.opacity = 0;\" style=\"fill:rgb(0,0,0,0)\" /><g transform=\"translate(-1.5,0)\">  <svg x=\"28.883756763496528%\" y=\"40\" height=\"18\" overflow=\"visible\" width=\"30\">    <path d=\"M 0 -9 l 6 18 L 0 25\" fill=\"none\" style=\"stroke:rgb(255, 195, 213);stroke-width:2\" />  </svg></g><rect x=\"23.962860001410274%\" y=\"40\" height=\"20\" width=\"4.9208967620862545%\"      onmouseover=\"document.getElementById('_tp_yukzgctmqhhjnbgkebdi_ind_4').style.textDecoration = 'underline';document.getElementById('_fs_yukzgctmqhhjnbgkebdi_ind_4').style.opacity = 1;document.getElementById('_fb_yukzgctmqhhjnbgkebdi_ind_4').style.opacity = 1;\"      onmouseout=\"document.getElementById('_tp_yukzgctmqhhjnbgkebdi_ind_4').style.textDecoration = 'none';document.getElementById('_fs_yukzgctmqhhjnbgkebdi_ind_4').style.opacity = 0;document.getElementById('_fb_yukzgctmqhhjnbgkebdi_ind_4').style.opacity = 0;\" style=\"fill:rgb(0,0,0,0)\" /><rect x=\"23.596560591562188%\" y=\"40\" height=\"20\" width=\"0.36629940984808584%\"      onmouseover=\"document.getElementById('_tp_yukzgctmqhhjnbgkebdi_ind_3').style.textDecoration = 'underline';document.getElementById('_fs_yukzgctmqhhjnbgkebdi_ind_3').style.opacity = 1;document.getElementById('_fb_yukzgctmqhhjnbgkebdi_ind_3').style.opacity = 1;\"      onmouseout=\"document.getElementById('_tp_yukzgctmqhhjnbgkebdi_ind_3').style.textDecoration = 'none';document.getElementById('_fs_yukzgctmqhhjnbgkebdi_ind_3').style.opacity = 0;document.getElementById('_fb_yukzgctmqhhjnbgkebdi_ind_3').style.opacity = 0;\" style=\"fill:rgb(0,0,0,0)\" /><rect x=\"87.78688309900184%\" width=\"5.267348925018712%\" y=\"40\" height=\"18\" style=\"fill:rgb(0.0, 138.56128015770727, 250.76166088685727); stroke-width:0; stroke:rgb(0,0,0)\" /><line x1=\"87.78688309900184%\" x2=\"93.05423202402055%\" y1=\"60\" y2=\"60\" id=\"_fb_yukzgctmqhhjnbgkebdi_ind_6\" style=\"stroke:rgb(0.0, 138.56128015770727, 250.76166088685727);stroke-width:2; opacity: 0\"/><text x=\"90.4205575615112%\" y=\"71\" font-size=\"12px\" fill=\"rgb(0.0, 138.56128015770727, 250.76166088685727)\" id=\"_fs_yukzgctmqhhjnbgkebdi_ind_6\" style=\"opacity: 0\" dominant-baseline=\"middle\" text-anchor=\"middle\">-0.063</text><svg x=\"87.78688309900184%\" y=\"40\" height=\"20\" width=\"5.267348925018709%\">  <svg x=\"0\" y=\"0\" width=\"100%\" height=\"100%\">    <text x=\"50%\" y=\"9\" font-size=\"12px\" fill=\"rgb(255,255,255)\" dominant-baseline=\"middle\" text-anchor=\"middle\"></text>  </svg></svg><rect transform=\"translate(0,0)\" x=\"87.78688309900184%\" y=\"40\" width=\"8\" height=\"18\" style=\"fill:rgb(0.0, 138.56128015770727, 250.76166088685727)\"/><g transform=\"translate(-6.0,0)\">  <svg x=\"93.05423202402055%\" y=\"40\" height=\"18\" overflow=\"visible\" width=\"30\">    <path d=\"M 8 -9 l -6 18 L 8 25 L 20 25 L 20 -9\" fill=\"#ffffff\" style=\"stroke:rgb(255,255,255);stroke-width:2\" />  </svg></g><rect x=\"87.78688309900184%\" y=\"40\" height=\"20\" width=\"5.267348925018709%\"      onmouseover=\"document.getElementById('_tp_yukzgctmqhhjnbgkebdi_ind_6').style.textDecoration = 'underline';document.getElementById('_fs_yukzgctmqhhjnbgkebdi_ind_6').style.opacity = 1;document.getElementById('_fb_yukzgctmqhhjnbgkebdi_ind_6').style.opacity = 1;\"      onmouseout=\"document.getElementById('_tp_yukzgctmqhhjnbgkebdi_ind_6').style.textDecoration = 'none';document.getElementById('_fs_yukzgctmqhhjnbgkebdi_ind_6').style.opacity = 0;document.getElementById('_fb_yukzgctmqhhjnbgkebdi_ind_6').style.opacity = 0;\" style=\"fill:rgb(0,0,0,0)\" /></svg><div align='center'><div style=\"color: rgb(120,120,120); font-size: 12px; margin-top: -15px;\">inputs</div><div style='display: inline; text-align: center;'\n",
       "    ><div style='display: none; color: #999; padding-top: 0px; font-size: 12px;'>0.256</div\n",
       "        ><div id='_tp_yukzgctmqhhjnbgkebdi_ind_0'\n",
       "            style='display: inline; background: rgba(255.0, 13.0, 87.0, 0.755634779164191); border-radius: 3px; padding: 0px'\n",
       "            onclick=\"\n",
       "            if (this.previousSibling.style.display == 'none') {\n",
       "                this.previousSibling.style.display = 'block';\n",
       "                this.parentNode.style.display = 'inline-block';\n",
       "            } else {\n",
       "                this.previousSibling.style.display = 'none';\n",
       "                this.parentNode.style.display = 'inline';\n",
       "            }\"\n",
       "            onmouseover=\"document.getElementById('_fb_yukzgctmqhhjnbgkebdi_ind_0').style.opacity = 1; document.getElementById('_fs_yukzgctmqhhjnbgkebdi_ind_0').style.opacity = 1;\"\n",
       "            onmouseout=\"document.getElementById('_fb_yukzgctmqhhjnbgkebdi_ind_0').style.opacity = 0; document.getElementById('_fs_yukzgctmqhhjnbgkebdi_ind_0').style.opacity = 0;\"\n",
       "        ></div></div><div style='display: inline; text-align: center;'\n",
       "    ><div style='display: none; color: #999; padding-top: 0px; font-size: 12px;'>0.096</div\n",
       "        ><div id='_tp_yukzgctmqhhjnbgkebdi_ind_1'\n",
       "            style='display: inline; background: rgba(255.0, 13.0, 87.0, 0.2747870865517925); border-radius: 3px; padding: 0px'\n",
       "            onclick=\"\n",
       "            if (this.previousSibling.style.display == 'none') {\n",
       "                this.previousSibling.style.display = 'block';\n",
       "                this.parentNode.style.display = 'inline-block';\n",
       "            } else {\n",
       "                this.previousSibling.style.display = 'none';\n",
       "                this.parentNode.style.display = 'inline';\n",
       "            }\"\n",
       "            onmouseover=\"document.getElementById('_fb_yukzgctmqhhjnbgkebdi_ind_1').style.opacity = 1; document.getElementById('_fs_yukzgctmqhhjnbgkebdi_ind_1').style.opacity = 1;\"\n",
       "            onmouseout=\"document.getElementById('_fb_yukzgctmqhhjnbgkebdi_ind_1').style.opacity = 0; document.getElementById('_fs_yukzgctmqhhjnbgkebdi_ind_1').style.opacity = 0;\"\n",
       "        >I </div></div><div style='display: inline; text-align: center;'\n",
       "    ><div style='display: none; color: #999; padding-top: 0px; font-size: 12px;'>0.172</div\n",
       "        ><div id='_tp_yukzgctmqhhjnbgkebdi_ind_2'\n",
       "            style='display: inline; background: rgba(255.0, 13.0, 87.0, 0.5033868092691621); border-radius: 3px; padding: 0px'\n",
       "            onclick=\"\n",
       "            if (this.previousSibling.style.display == 'none') {\n",
       "                this.previousSibling.style.display = 'block';\n",
       "                this.parentNode.style.display = 'inline-block';\n",
       "            } else {\n",
       "                this.previousSibling.style.display = 'none';\n",
       "                this.parentNode.style.display = 'inline';\n",
       "            }\"\n",
       "            onmouseover=\"document.getElementById('_fb_yukzgctmqhhjnbgkebdi_ind_2').style.opacity = 1; document.getElementById('_fs_yukzgctmqhhjnbgkebdi_ind_2').style.opacity = 1;\"\n",
       "            onmouseout=\"document.getElementById('_fb_yukzgctmqhhjnbgkebdi_ind_2').style.opacity = 0; document.getElementById('_fs_yukzgctmqhhjnbgkebdi_ind_2').style.opacity = 0;\"\n",
       "        >love </div></div><div style='display: inline; text-align: center;'\n",
       "    ><div style='display: none; color: #999; padding-top: 0px; font-size: 12px;'>0.004</div\n",
       "        ><div id='_tp_yukzgctmqhhjnbgkebdi_ind_3'\n",
       "            style='display: inline; background: rgba(255.0, 13.0, 87.0, 0.00677361853832443); border-radius: 3px; padding: 0px'\n",
       "            onclick=\"\n",
       "            if (this.previousSibling.style.display == 'none') {\n",
       "                this.previousSibling.style.display = 'block';\n",
       "                this.parentNode.style.display = 'inline-block';\n",
       "            } else {\n",
       "                this.previousSibling.style.display = 'none';\n",
       "                this.parentNode.style.display = 'inline';\n",
       "            }\"\n",
       "            onmouseover=\"document.getElementById('_fb_yukzgctmqhhjnbgkebdi_ind_3').style.opacity = 1; document.getElementById('_fs_yukzgctmqhhjnbgkebdi_ind_3').style.opacity = 1;\"\n",
       "            onmouseout=\"document.getElementById('_fb_yukzgctmqhhjnbgkebdi_ind_3').style.opacity = 0; document.getElementById('_fs_yukzgctmqhhjnbgkebdi_ind_3').style.opacity = 0;\"\n",
       "        >playing </div></div><div style='display: inline; text-align: center;'\n",
       "    ><div style='display: none; color: #999; padding-top: 0px; font-size: 12px;'>0.059</div\n",
       "        ><div id='_tp_yukzgctmqhhjnbgkebdi_ind_4'\n",
       "            style='display: inline; background: rgba(255.0, 13.0, 87.0, 0.17231134878193693); border-radius: 3px; padding: 0px'\n",
       "            onclick=\"\n",
       "            if (this.previousSibling.style.display == 'none') {\n",
       "                this.previousSibling.style.display = 'block';\n",
       "                this.parentNode.style.display = 'inline-block';\n",
       "            } else {\n",
       "                this.previousSibling.style.display = 'none';\n",
       "                this.parentNode.style.display = 'inline';\n",
       "            }\"\n",
       "            onmouseover=\"document.getElementById('_fb_yukzgctmqhhjnbgkebdi_ind_4').style.opacity = 1; document.getElementById('_fs_yukzgctmqhhjnbgkebdi_ind_4').style.opacity = 1;\"\n",
       "            onmouseout=\"document.getElementById('_fb_yukzgctmqhhjnbgkebdi_ind_4').style.opacity = 0; document.getElementById('_fs_yukzgctmqhhjnbgkebdi_ind_4').style.opacity = 0;\"\n",
       "        >cricket</div></div><div style='display: inline; text-align: center;'\n",
       "    ><div style='display: none; color: #999; padding-top: 0px; font-size: 12px;'>0.183</div\n",
       "        ><div id='_tp_yukzgctmqhhjnbgkebdi_ind_5'\n",
       "            style='display: inline; background: rgba(255.0, 13.0, 87.0, 0.5349178055060405); border-radius: 3px; padding: 0px'\n",
       "            onclick=\"\n",
       "            if (this.previousSibling.style.display == 'none') {\n",
       "                this.previousSibling.style.display = 'block';\n",
       "                this.parentNode.style.display = 'inline-block';\n",
       "            } else {\n",
       "                this.previousSibling.style.display = 'none';\n",
       "                this.parentNode.style.display = 'inline';\n",
       "            }\"\n",
       "            onmouseover=\"document.getElementById('_fb_yukzgctmqhhjnbgkebdi_ind_5').style.opacity = 1; document.getElementById('_fs_yukzgctmqhhjnbgkebdi_ind_5').style.opacity = 1;\"\n",
       "            onmouseout=\"document.getElementById('_fb_yukzgctmqhhjnbgkebdi_ind_5').style.opacity = 0; document.getElementById('_fs_yukzgctmqhhjnbgkebdi_ind_5').style.opacity = 0;\"\n",
       "        >!</div></div><div style='display: inline; text-align: center;'\n",
       "    ><div style='display: none; color: #999; padding-top: 0px; font-size: 12px;'>-0.063</div\n",
       "        ><div id='_tp_yukzgctmqhhjnbgkebdi_ind_6'\n",
       "            style='display: inline; background: rgba(30.0, 136.0, 229.0, 0.18019409784115656); border-radius: 3px; padding: 0px'\n",
       "            onclick=\"\n",
       "            if (this.previousSibling.style.display == 'none') {\n",
       "                this.previousSibling.style.display = 'block';\n",
       "                this.parentNode.style.display = 'inline-block';\n",
       "            } else {\n",
       "                this.previousSibling.style.display = 'none';\n",
       "                this.parentNode.style.display = 'inline';\n",
       "            }\"\n",
       "            onmouseover=\"document.getElementById('_fb_yukzgctmqhhjnbgkebdi_ind_6').style.opacity = 1; document.getElementById('_fs_yukzgctmqhhjnbgkebdi_ind_6').style.opacity = 1;\"\n",
       "            onmouseout=\"document.getElementById('_fb_yukzgctmqhhjnbgkebdi_ind_6').style.opacity = 0; document.getElementById('_fs_yukzgctmqhhjnbgkebdi_ind_6').style.opacity = 0;\"\n",
       "        ></div></div></div></div><div id='_tp_nlbmgvjcuvvfwzckawpn_output_1_zoom' style='display: none;'><svg width=\"100%\" height=\"80px\"><line x1=\"0\" y1=\"33\" x2=\"100%\" y2=\"33\" style=\"stroke:rgb(150,150,150);stroke-width:1\" /><line x1=\"51.96822009032436%\" y1=\"33\" x2=\"51.96822009032436%\" y2=\"37\" style=\"stroke:rgb(150,150,150);stroke-width:1\" /><text x=\"51.96822009032436%\" y=\"27\" font-size=\"12px\" fill=\"rgb(120,120,120)\" dominant-baseline=\"bottom\" text-anchor=\"middle\">0.5</text><line x1=\"41.97731973057767%\" y1=\"33\" x2=\"41.97731973057767%\" y2=\"37\" style=\"stroke:rgb(150,150,150);stroke-width:1\" /><text x=\"41.97731973057767%\" y=\"27\" font-size=\"12px\" fill=\"rgb(120,120,120)\" dominant-baseline=\"bottom\" text-anchor=\"middle\">0.4</text><line x1=\"31.986419370830976%\" y1=\"33\" x2=\"31.986419370830976%\" y2=\"37\" style=\"stroke:rgb(150,150,150);stroke-width:1\" /><text x=\"31.986419370830976%\" y=\"27\" font-size=\"12px\" fill=\"rgb(120,120,120)\" dominant-baseline=\"bottom\" text-anchor=\"middle\">0.3</text><line x1=\"21.995519011084276%\" y1=\"33\" x2=\"21.995519011084276%\" y2=\"37\" style=\"stroke:rgb(150,150,150);stroke-width:1\" /><text x=\"21.995519011084276%\" y=\"27\" font-size=\"12px\" fill=\"rgb(120,120,120)\" dominant-baseline=\"bottom\" text-anchor=\"middle\">0.2</text><line x1=\"12.004618651337582%\" y1=\"33\" x2=\"12.004618651337582%\" y2=\"37\" style=\"stroke:rgb(150,150,150);stroke-width:1\" /><text x=\"12.004618651337582%\" y=\"27\" font-size=\"12px\" fill=\"rgb(120,120,120)\" dominant-baseline=\"bottom\" text-anchor=\"middle\">0.1</text><line x1=\"61.95912045007107%\" y1=\"33\" x2=\"61.95912045007107%\" y2=\"37\" style=\"stroke:rgb(150,150,150);stroke-width:1\" /><text x=\"61.95912045007107%\" y=\"27\" font-size=\"12px\" fill=\"rgb(120,120,120)\" dominant-baseline=\"bottom\" text-anchor=\"middle\">0.6</text><line x1=\"71.95002080981774%\" y1=\"33\" x2=\"71.95002080981774%\" y2=\"37\" style=\"stroke:rgb(150,150,150);stroke-width:1\" /><text x=\"71.95002080981774%\" y=\"27\" font-size=\"12px\" fill=\"rgb(120,120,120)\" dominant-baseline=\"bottom\" text-anchor=\"middle\">0.7</text><line x1=\"81.94092116956445%\" y1=\"33\" x2=\"81.94092116956445%\" y2=\"37\" style=\"stroke:rgb(150,150,150);stroke-width:1\" /><text x=\"81.94092116956445%\" y=\"27\" font-size=\"12px\" fill=\"rgb(120,120,120)\" dominant-baseline=\"bottom\" text-anchor=\"middle\">0.8</text><line x1=\"91.93182152931116%\" y1=\"33\" x2=\"91.93182152931116%\" y2=\"37\" style=\"stroke:rgb(150,150,150);stroke-width:1\" /><text x=\"91.93182152931116%\" y=\"27\" font-size=\"12px\" fill=\"rgb(120,120,120)\" dominant-baseline=\"bottom\" text-anchor=\"middle\">0.9</text><line x1=\"14.652948208560776%\" y1=\"33\" x2=\"14.652948208560776%\" y2=\"37\" style=\"stroke:rgb(150,150,150);stroke-width:1\" /><text x=\"14.652948208560776%\" y=\"27\" font-size=\"13px\" style=\"stroke:#ffffff;stroke-width:8px;\" fill=\"rgb(255,255,255)\" dominant-baseline=\"bottom\" text-anchor=\"middle\">0.126507</text><text x=\"14.652948208560776%\" y=\"27\" font-size=\"12px\" fill=\"rgb(120,120,120)\" dominant-baseline=\"bottom\" text-anchor=\"middle\">0.126507</text><text x=\"14.652948208560776%\" y=\"10\" font-size=\"12px\" fill=\"rgb(120,120,120)\" dominant-baseline=\"bottom\" text-anchor=\"middle\">base value</text><line x1=\"85.34705079234921%\" y1=\"33\" x2=\"85.34705079234921%\" y2=\"37\" style=\"stroke:rgb(150,150,150);stroke-width:1\" /><text x=\"85.34705079234921%\" y=\"27\" font-size=\"13px\" style=\"stroke:#ffffff;stroke-width:8px;\" font-weight=\"bold\" fill=\"rgb(255,255,255)\" dominant-baseline=\"bottom\" text-anchor=\"middle\">0.834092</text><text x=\"85.34705079234921%\" y=\"27\" font-size=\"13px\" font-weight=\"bold\" fill=\"rgb(0,0,0)\" dominant-baseline=\"bottom\" text-anchor=\"middle\">0.834092</text><text x=\"85.34705079234921%\" y=\"10\" font-size=\"12px\" fill=\"rgb(120,120,120)\" dominant-baseline=\"bottom\" text-anchor=\"middle\">f<tspan baseline-shift=\"sub\" font-size=\"8px\">sports</tspan>(inputs)</text><rect x=\"8.333333250075833%\" width=\"77.01371754227337%\" y=\"40\" height=\"18\" style=\"fill:rgb(255.0, 0.0, 81.08083606031792); stroke-width:0; stroke:rgb(0,0,0)\" /><line x1=\"59.76331342839411%\" x2=\"85.34705079234921%\" y1=\"60\" y2=\"60\" id=\"_fb_yskuhqatnfqkhqysnguw_ind_0\" style=\"stroke:rgb(255.0, 0.0, 81.08083606031792);stroke-width:2; opacity: 0\"/><text x=\"72.55518211037166%\" y=\"71\" font-size=\"12px\" id=\"_fs_yskuhqatnfqkhqysnguw_ind_0\" fill=\"rgb(255.0, 0.0, 81.08083606031792)\" style=\"opacity: 0\" dominant-baseline=\"middle\" text-anchor=\"middle\">0.256</text><svg x=\"59.76331342839411%\" y=\"40\" height=\"20\" width=\"25.583737363955095%\">  <svg x=\"0\" y=\"0\" width=\"100%\" height=\"100%\">    <text x=\"50%\" y=\"9\" font-size=\"12px\" fill=\"rgb(255,255,255)\" dominant-baseline=\"middle\" text-anchor=\"middle\"></text>  </svg></svg><line x1=\"41.44396957690316%\" x2=\"59.76331342839411%\" y1=\"60\" y2=\"60\" id=\"_fb_yskuhqatnfqkhqysnguw_ind_5\" style=\"stroke:rgb(255.0, 0.0, 81.08083606031792);stroke-width:2; opacity: 0\"/><text x=\"50.603641502648635%\" y=\"71\" font-size=\"12px\" id=\"_fs_yskuhqatnfqkhqysnguw_ind_5\" fill=\"rgb(255.0, 0.0, 81.08083606031792)\" style=\"opacity: 0\" dominant-baseline=\"middle\" text-anchor=\"middle\">0.183</text><svg x=\"41.44396957690316%\" y=\"40\" height=\"20\" width=\"18.319343851490956%\">  <svg x=\"0\" y=\"0\" width=\"100%\" height=\"100%\">    <text x=\"50%\" y=\"9\" font-size=\"12px\" fill=\"rgb(255,255,255)\" dominant-baseline=\"middle\" text-anchor=\"middle\">!</text>  </svg></svg><line x1=\"24.250757413078745%\" x2=\"41.44396957690316%\" y1=\"60\" y2=\"60\" id=\"_fb_yskuhqatnfqkhqysnguw_ind_2\" style=\"stroke:rgb(255.0, 0.0, 81.08083606031792);stroke-width:2; opacity: 0\"/><text x=\"32.84736349499095%\" y=\"71\" font-size=\"12px\" id=\"_fs_yskuhqatnfqkhqysnguw_ind_2\" fill=\"rgb(255.0, 0.0, 81.08083606031792)\" style=\"opacity: 0\" dominant-baseline=\"middle\" text-anchor=\"middle\">0.172</text><svg x=\"24.250757413078745%\" y=\"40\" height=\"20\" width=\"17.193212163824413%\">  <svg x=\"0\" y=\"0\" width=\"100%\" height=\"100%\">    <text x=\"50%\" y=\"9\" font-size=\"12px\" fill=\"rgb(255,255,255)\" dominant-baseline=\"middle\" text-anchor=\"middle\">love</text>  </svg></svg><line x1=\"14.676760369152039%\" x2=\"24.250757413078745%\" y1=\"60\" y2=\"60\" id=\"_fb_yskuhqatnfqkhqysnguw_ind_1\" style=\"stroke:rgb(255.0, 0.0, 81.08083606031792);stroke-width:2; opacity: 0\"/><text x=\"19.46375889111539%\" y=\"71\" font-size=\"12px\" id=\"_fs_yskuhqatnfqkhqysnguw_ind_1\" fill=\"rgb(255.0, 0.0, 81.08083606031792)\" style=\"opacity: 0\" dominant-baseline=\"middle\" text-anchor=\"middle\">0.096</text><svg x=\"14.676760369152039%\" y=\"40\" height=\"20\" width=\"9.573997043926706%\">  <svg x=\"0\" y=\"0\" width=\"100%\" height=\"100%\">    <text x=\"50%\" y=\"9\" font-size=\"12px\" fill=\"rgb(255,255,255)\" dominant-baseline=\"middle\" text-anchor=\"middle\">I</text>  </svg></svg><line x1=\"8.772808831191231%\" x2=\"14.676760369152039%\" y1=\"60\" y2=\"60\" id=\"_fb_yskuhqatnfqkhqysnguw_ind_4\" style=\"stroke:rgb(255.0, 0.0, 81.08083606031792);stroke-width:2; opacity: 0\"/><text x=\"11.724784600171635%\" y=\"71\" font-size=\"12px\" id=\"_fs_yskuhqatnfqkhqysnguw_ind_4\" fill=\"rgb(255.0, 0.0, 81.08083606031792)\" style=\"opacity: 0\" dominant-baseline=\"middle\" text-anchor=\"middle\">0.059</text><svg x=\"8.772808831191231%\" y=\"40\" height=\"20\" width=\"5.903951537960808%\">  <svg x=\"0\" y=\"0\" width=\"100%\" height=\"100%\">    <text x=\"50%\" y=\"9\" font-size=\"12px\" fill=\"rgb(255,255,255)\" dominant-baseline=\"middle\" text-anchor=\"middle\">cricket</text>  </svg></svg><line x1=\"8.333333250075833%\" x2=\"8.772808831191231%\" y1=\"60\" y2=\"60\" id=\"_fb_yskuhqatnfqkhqysnguw_ind_3\" style=\"stroke:rgb(255.0, 0.0, 81.08083606031792);stroke-width:2; opacity: 0\"/><text x=\"8.553071040633533%\" y=\"71\" font-size=\"12px\" id=\"_fs_yskuhqatnfqkhqysnguw_ind_3\" fill=\"rgb(255.0, 0.0, 81.08083606031792)\" style=\"opacity: 0\" dominant-baseline=\"middle\" text-anchor=\"middle\">0.004</text><svg x=\"8.333333250075833%\" y=\"40\" height=\"20\" width=\"0.4394755811153974%\">  <svg x=\"0\" y=\"0\" width=\"100%\" height=\"100%\">    <text x=\"50%\" y=\"9\" font-size=\"12px\" fill=\"rgb(255,255,255)\" dominant-baseline=\"middle\" text-anchor=\"middle\">playing</text>  </svg></svg><g transform=\"translate(0,0)\">  <svg x=\"59.76331342839411%\" y=\"40\" height=\"18\" overflow=\"visible\" width=\"30\">    <path d=\"M 0 -9 l 6 18 L 0 25\" fill=\"none\" style=\"stroke:rgb(255.0, 0.0, 81.08083606031792);stroke-width:2\" />  </svg></g><g transform=\"translate(2,0)\">  <svg x=\"59.76331342839411%\" y=\"40\" height=\"18\" overflow=\"visible\" width=\"30\">    <path d=\"M 0 -9 l 6 18 L 0 25\" fill=\"none\" style=\"stroke:rgb(255.0, 0.0, 81.08083606031792);stroke-width:2\" />  </svg></g><g transform=\"translate(4,0)\">  <svg x=\"59.76331342839411%\" y=\"40\" height=\"18\" overflow=\"visible\" width=\"30\">    <path d=\"M 0 -9 l 6 18 L 0 25\" fill=\"none\" style=\"stroke:rgb(255.0, 0.0, 81.08083606031792);stroke-width:2\" />  </svg></g><g transform=\"translate(6,0)\">  <svg x=\"59.76331342839411%\" y=\"40\" height=\"18\" overflow=\"visible\" width=\"30\">    <path d=\"M 0 -9 l 6 18 L 0 25\" fill=\"none\" style=\"stroke:rgb(255.0, 0.0, 81.08083606031792);stroke-width:2\" />  </svg></g><g transform=\"translate(-8,0)\">  <svg x=\"59.76331342839411%\" y=\"40\" height=\"18\" overflow=\"visible\" width=\"30\">    <path d=\"M 0 -9 l 6 18 L 0 25\" fill=\"none\" style=\"stroke:rgb(255.0, 0.0, 81.08083606031792);stroke-width:2\" />  </svg></g><g transform=\"translate(-6,0)\">  <svg x=\"59.76331342839411%\" y=\"40\" height=\"18\" overflow=\"visible\" width=\"30\">    <path d=\"M 0 -9 l 6 18 L 0 25\" fill=\"none\" style=\"stroke:rgb(255.0, 0.0, 81.08083606031792);stroke-width:2\" />  </svg></g><g transform=\"translate(-4,0)\">  <svg x=\"59.76331342839411%\" y=\"40\" height=\"18\" overflow=\"visible\" width=\"30\">    <path d=\"M 0 -9 l 6 18 L 0 25\" fill=\"none\" style=\"stroke:rgb(255.0, 0.0, 81.08083606031792);stroke-width:2\" />  </svg></g><g transform=\"translate(-2,0)\">  <svg x=\"59.76331342839411%\" y=\"40\" height=\"18\" overflow=\"visible\" width=\"30\">    <path d=\"M 0 -9 l 6 18 L 0 25\" fill=\"none\" style=\"stroke:rgb(255.0, 0.0, 81.08083606031792);stroke-width:2\" />  </svg></g><g transform=\"translate(0,0)\">  <svg x=\"41.44396957690316%\" y=\"40\" height=\"18\" overflow=\"visible\" width=\"30\">    <path d=\"M 0 -9 l 6 18 L 0 25\" fill=\"none\" style=\"stroke:rgb(255.0, 0.0, 81.08083606031792);stroke-width:2\" />  </svg></g><g transform=\"translate(2,0)\">  <svg x=\"41.44396957690316%\" y=\"40\" height=\"18\" overflow=\"visible\" width=\"30\">    <path d=\"M 0 -9 l 6 18 L 0 25\" fill=\"none\" style=\"stroke:rgb(255.0, 0.0, 81.08083606031792);stroke-width:2\" />  </svg></g><g transform=\"translate(4,0)\">  <svg x=\"41.44396957690316%\" y=\"40\" height=\"18\" overflow=\"visible\" width=\"30\">    <path d=\"M 0 -9 l 6 18 L 0 25\" fill=\"none\" style=\"stroke:rgb(255.0, 0.0, 81.08083606031792);stroke-width:2\" />  </svg></g><g transform=\"translate(6,0)\">  <svg x=\"41.44396957690316%\" y=\"40\" height=\"18\" overflow=\"visible\" width=\"30\">    <path d=\"M 0 -9 l 6 18 L 0 25\" fill=\"none\" style=\"stroke:rgb(255.0, 0.0, 81.08083606031792);stroke-width:2\" />  </svg></g><g transform=\"translate(-8,0)\">  <svg x=\"41.44396957690316%\" y=\"40\" height=\"18\" overflow=\"visible\" width=\"30\">    <path d=\"M 0 -9 l 6 18 L 0 25\" fill=\"none\" style=\"stroke:rgb(255.0, 0.0, 81.08083606031792);stroke-width:2\" />  </svg></g><g transform=\"translate(-6,0)\">  <svg x=\"41.44396957690316%\" y=\"40\" height=\"18\" overflow=\"visible\" width=\"30\">    <path d=\"M 0 -9 l 6 18 L 0 25\" fill=\"none\" style=\"stroke:rgb(255.0, 0.0, 81.08083606031792);stroke-width:2\" />  </svg></g><g transform=\"translate(-4,0)\">  <svg x=\"41.44396957690316%\" y=\"40\" height=\"18\" overflow=\"visible\" width=\"30\">    <path d=\"M 0 -9 l 6 18 L 0 25\" fill=\"none\" style=\"stroke:rgb(255.0, 0.0, 81.08083606031792);stroke-width:2\" />  </svg></g><g transform=\"translate(-2,0)\">  <svg x=\"41.44396957690316%\" y=\"40\" height=\"18\" overflow=\"visible\" width=\"30\">    <path d=\"M 0 -9 l 6 18 L 0 25\" fill=\"none\" style=\"stroke:rgb(255.0, 0.0, 81.08083606031792);stroke-width:2\" />  </svg></g><g transform=\"translate(0,0)\">  <svg x=\"24.250757413078745%\" y=\"40\" height=\"18\" overflow=\"visible\" width=\"30\">    <path d=\"M 0 -9 l 6 18 L 0 25\" fill=\"none\" style=\"stroke:rgb(255.0, 0.0, 81.08083606031792);stroke-width:2\" />  </svg></g><g transform=\"translate(2,0)\">  <svg x=\"24.250757413078745%\" y=\"40\" height=\"18\" overflow=\"visible\" width=\"30\">    <path d=\"M 0 -9 l 6 18 L 0 25\" fill=\"none\" style=\"stroke:rgb(255.0, 0.0, 81.08083606031792);stroke-width:2\" />  </svg></g><g transform=\"translate(4,0)\">  <svg x=\"24.250757413078745%\" y=\"40\" height=\"18\" overflow=\"visible\" width=\"30\">    <path d=\"M 0 -9 l 6 18 L 0 25\" fill=\"none\" style=\"stroke:rgb(255.0, 0.0, 81.08083606031792);stroke-width:2\" />  </svg></g><g transform=\"translate(6,0)\">  <svg x=\"24.250757413078745%\" y=\"40\" height=\"18\" overflow=\"visible\" width=\"30\">    <path d=\"M 0 -9 l 6 18 L 0 25\" fill=\"none\" style=\"stroke:rgb(255.0, 0.0, 81.08083606031792);stroke-width:2\" />  </svg></g><g transform=\"translate(-8,0)\">  <svg x=\"24.250757413078745%\" y=\"40\" height=\"18\" overflow=\"visible\" width=\"30\">    <path d=\"M 0 -9 l 6 18 L 0 25\" fill=\"none\" style=\"stroke:rgb(255.0, 0.0, 81.08083606031792);stroke-width:2\" />  </svg></g><g transform=\"translate(-6,0)\">  <svg x=\"24.250757413078745%\" y=\"40\" height=\"18\" overflow=\"visible\" width=\"30\">    <path d=\"M 0 -9 l 6 18 L 0 25\" fill=\"none\" style=\"stroke:rgb(255.0, 0.0, 81.08083606031792);stroke-width:2\" />  </svg></g><g transform=\"translate(-4,0)\">  <svg x=\"24.250757413078745%\" y=\"40\" height=\"18\" overflow=\"visible\" width=\"30\">    <path d=\"M 0 -9 l 6 18 L 0 25\" fill=\"none\" style=\"stroke:rgb(255.0, 0.0, 81.08083606031792);stroke-width:2\" />  </svg></g><g transform=\"translate(-2,0)\">  <svg x=\"24.250757413078745%\" y=\"40\" height=\"18\" overflow=\"visible\" width=\"30\">    <path d=\"M 0 -9 l 6 18 L 0 25\" fill=\"none\" style=\"stroke:rgb(255.0, 0.0, 81.08083606031792);stroke-width:2\" />  </svg></g><g transform=\"translate(0,0)\">  <svg x=\"14.676760369152039%\" y=\"40\" height=\"18\" overflow=\"visible\" width=\"30\">    <path d=\"M 0 -9 l 6 18 L 0 25\" fill=\"none\" style=\"stroke:rgb(255.0, 0.0, 81.08083606031792);stroke-width:2\" />  </svg></g><g transform=\"translate(2,0)\">  <svg x=\"14.676760369152039%\" y=\"40\" height=\"18\" overflow=\"visible\" width=\"30\">    <path d=\"M 0 -9 l 6 18 L 0 25\" fill=\"none\" style=\"stroke:rgb(255.0, 0.0, 81.08083606031792);stroke-width:2\" />  </svg></g><g transform=\"translate(4,0)\">  <svg x=\"14.676760369152039%\" y=\"40\" height=\"18\" overflow=\"visible\" width=\"30\">    <path d=\"M 0 -9 l 6 18 L 0 25\" fill=\"none\" style=\"stroke:rgb(255.0, 0.0, 81.08083606031792);stroke-width:2\" />  </svg></g><g transform=\"translate(6,0)\">  <svg x=\"14.676760369152039%\" y=\"40\" height=\"18\" overflow=\"visible\" width=\"30\">    <path d=\"M 0 -9 l 6 18 L 0 25\" fill=\"none\" style=\"stroke:rgb(255.0, 0.0, 81.08083606031792);stroke-width:2\" />  </svg></g><g transform=\"translate(-8,0)\">  <svg x=\"14.676760369152039%\" y=\"40\" height=\"18\" overflow=\"visible\" width=\"30\">    <path d=\"M 0 -9 l 6 18 L 0 25\" fill=\"none\" style=\"stroke:rgb(255.0, 0.0, 81.08083606031792);stroke-width:2\" />  </svg></g><g transform=\"translate(-6,0)\">  <svg x=\"14.676760369152039%\" y=\"40\" height=\"18\" overflow=\"visible\" width=\"30\">    <path d=\"M 0 -9 l 6 18 L 0 25\" fill=\"none\" style=\"stroke:rgb(255.0, 0.0, 81.08083606031792);stroke-width:2\" />  </svg></g><g transform=\"translate(-4,0)\">  <svg x=\"14.676760369152039%\" y=\"40\" height=\"18\" overflow=\"visible\" width=\"30\">    <path d=\"M 0 -9 l 6 18 L 0 25\" fill=\"none\" style=\"stroke:rgb(255.0, 0.0, 81.08083606031792);stroke-width:2\" />  </svg></g><g transform=\"translate(-2,0)\">  <svg x=\"14.676760369152039%\" y=\"40\" height=\"18\" overflow=\"visible\" width=\"30\">    <path d=\"M 0 -9 l 6 18 L 0 25\" fill=\"none\" style=\"stroke:rgb(255.0, 0.0, 81.08083606031792);stroke-width:2\" />  </svg></g><g transform=\"translate(0,0)\">  <svg x=\"8.772808831191231%\" y=\"40\" height=\"18\" overflow=\"visible\" width=\"30\">    <path d=\"M 0 -9 l 6 18 L 0 25\" fill=\"none\" style=\"stroke:rgb(255.0, 0.0, 81.08083606031792);stroke-width:2\" />  </svg></g><g transform=\"translate(2,0)\">  <svg x=\"8.772808831191231%\" y=\"40\" height=\"18\" overflow=\"visible\" width=\"30\">    <path d=\"M 0 -9 l 6 18 L 0 25\" fill=\"none\" style=\"stroke:rgb(255.0, 0.0, 81.08083606031792);stroke-width:2\" />  </svg></g><g transform=\"translate(4,0)\">  <svg x=\"8.772808831191231%\" y=\"40\" height=\"18\" overflow=\"visible\" width=\"30\">    <path d=\"M 0 -9 l 6 18 L 0 25\" fill=\"none\" style=\"stroke:rgb(255.0, 0.0, 81.08083606031792);stroke-width:2\" />  </svg></g><g transform=\"translate(6,0)\">  <svg x=\"8.772808831191231%\" y=\"40\" height=\"18\" overflow=\"visible\" width=\"30\">    <path d=\"M 0 -9 l 6 18 L 0 25\" fill=\"none\" style=\"stroke:rgb(255.0, 0.0, 81.08083606031792);stroke-width:2\" />  </svg></g><g transform=\"translate(-8,0)\">  <svg x=\"8.772808831191231%\" y=\"40\" height=\"18\" overflow=\"visible\" width=\"30\">    <path d=\"M 0 -9 l 6 18 L 0 25\" fill=\"none\" style=\"stroke:rgb(255.0, 0.0, 81.08083606031792);stroke-width:2\" />  </svg></g><g transform=\"translate(-6,0)\">  <svg x=\"8.772808831191231%\" y=\"40\" height=\"18\" overflow=\"visible\" width=\"30\">    <path d=\"M 0 -9 l 6 18 L 0 25\" fill=\"none\" style=\"stroke:rgb(255.0, 0.0, 81.08083606031792);stroke-width:2\" />  </svg></g><g transform=\"translate(-4,0)\">  <svg x=\"8.772808831191231%\" y=\"40\" height=\"18\" overflow=\"visible\" width=\"30\">    <path d=\"M 0 -9 l 6 18 L 0 25\" fill=\"none\" style=\"stroke:rgb(255.0, 0.0, 81.08083606031792);stroke-width:2\" />  </svg></g><g transform=\"translate(-2,0)\">  <svg x=\"8.772808831191231%\" y=\"40\" height=\"18\" overflow=\"visible\" width=\"30\">    <path d=\"M 0 -9 l 6 18 L 0 25\" fill=\"none\" style=\"stroke:rgb(255.0, 0.0, 81.08083606031792);stroke-width:2\" />  </svg></g><rect transform=\"translate(-8,0)\" x=\"85.34705079234921%\" y=\"40\" width=\"8\" height=\"18\" style=\"fill:rgb(255.0, 0.0, 81.08083606031792)\"/><g transform=\"translate(-11.5,0)\">  <svg x=\"8.333333250075833%\" y=\"40\" height=\"18\" overflow=\"visible\" width=\"30\">    <path d=\"M 10 -9 l 6 18 L 10 25 L 0 25 L 0 -9\" fill=\"#ffffff\" style=\"stroke:rgb(255,255,255);stroke-width:2\" />  </svg></g><g transform=\"translate(-1.5,0)\">  <svg x=\"85.34705079234921%\" y=\"40\" height=\"18\" overflow=\"visible\" width=\"30\">    <path d=\"M 0 -9 l 6 18 L 0 25\" fill=\"none\" style=\"stroke:rgb(255, 195, 213);stroke-width:2\" />  </svg></g><rect x=\"59.76331342839411%\" y=\"40\" height=\"20\" width=\"25.583737363955095%\"      onmouseover=\"document.getElementById('_tp_yskuhqatnfqkhqysnguw_ind_0').style.textDecoration = 'underline';document.getElementById('_fs_yskuhqatnfqkhqysnguw_ind_0').style.opacity = 1;document.getElementById('_fb_yskuhqatnfqkhqysnguw_ind_0').style.opacity = 1;\"      onmouseout=\"document.getElementById('_tp_yskuhqatnfqkhqysnguw_ind_0').style.textDecoration = 'none';document.getElementById('_fs_yskuhqatnfqkhqysnguw_ind_0').style.opacity = 0;document.getElementById('_fb_yskuhqatnfqkhqysnguw_ind_0').style.opacity = 0;\" style=\"fill:rgb(0,0,0,0)\" /><g transform=\"translate(-1.5,0)\">  <svg x=\"59.76331342839411%\" y=\"40\" height=\"18\" overflow=\"visible\" width=\"30\">    <path d=\"M 0 -9 l 6 18 L 0 25\" fill=\"none\" style=\"stroke:rgb(255, 195, 213);stroke-width:2\" />  </svg></g><rect x=\"41.44396957690316%\" y=\"40\" height=\"20\" width=\"18.319343851490956%\"      onmouseover=\"document.getElementById('_tp_yskuhqatnfqkhqysnguw_ind_5').style.textDecoration = 'underline';document.getElementById('_fs_yskuhqatnfqkhqysnguw_ind_5').style.opacity = 1;document.getElementById('_fb_yskuhqatnfqkhqysnguw_ind_5').style.opacity = 1;\"      onmouseout=\"document.getElementById('_tp_yskuhqatnfqkhqysnguw_ind_5').style.textDecoration = 'none';document.getElementById('_fs_yskuhqatnfqkhqysnguw_ind_5').style.opacity = 0;document.getElementById('_fb_yskuhqatnfqkhqysnguw_ind_5').style.opacity = 0;\" style=\"fill:rgb(0,0,0,0)\" /><g transform=\"translate(-1.5,0)\">  <svg x=\"41.44396957690316%\" y=\"40\" height=\"18\" overflow=\"visible\" width=\"30\">    <path d=\"M 0 -9 l 6 18 L 0 25\" fill=\"none\" style=\"stroke:rgb(255, 195, 213);stroke-width:2\" />  </svg></g><rect x=\"24.250757413078745%\" y=\"40\" height=\"20\" width=\"17.193212163824413%\"      onmouseover=\"document.getElementById('_tp_yskuhqatnfqkhqysnguw_ind_2').style.textDecoration = 'underline';document.getElementById('_fs_yskuhqatnfqkhqysnguw_ind_2').style.opacity = 1;document.getElementById('_fb_yskuhqatnfqkhqysnguw_ind_2').style.opacity = 1;\"      onmouseout=\"document.getElementById('_tp_yskuhqatnfqkhqysnguw_ind_2').style.textDecoration = 'none';document.getElementById('_fs_yskuhqatnfqkhqysnguw_ind_2').style.opacity = 0;document.getElementById('_fb_yskuhqatnfqkhqysnguw_ind_2').style.opacity = 0;\" style=\"fill:rgb(0,0,0,0)\" /><g transform=\"translate(-1.5,0)\">  <svg x=\"24.250757413078745%\" y=\"40\" height=\"18\" overflow=\"visible\" width=\"30\">    <path d=\"M 0 -9 l 6 18 L 0 25\" fill=\"none\" style=\"stroke:rgb(255, 195, 213);stroke-width:2\" />  </svg></g><rect x=\"14.676760369152039%\" y=\"40\" height=\"20\" width=\"9.573997043926706%\"      onmouseover=\"document.getElementById('_tp_yskuhqatnfqkhqysnguw_ind_1').style.textDecoration = 'underline';document.getElementById('_fs_yskuhqatnfqkhqysnguw_ind_1').style.opacity = 1;document.getElementById('_fb_yskuhqatnfqkhqysnguw_ind_1').style.opacity = 1;\"      onmouseout=\"document.getElementById('_tp_yskuhqatnfqkhqysnguw_ind_1').style.textDecoration = 'none';document.getElementById('_fs_yskuhqatnfqkhqysnguw_ind_1').style.opacity = 0;document.getElementById('_fb_yskuhqatnfqkhqysnguw_ind_1').style.opacity = 0;\" style=\"fill:rgb(0,0,0,0)\" /><g transform=\"translate(-1.5,0)\">  <svg x=\"14.676760369152039%\" y=\"40\" height=\"18\" overflow=\"visible\" width=\"30\">    <path d=\"M 0 -9 l 6 18 L 0 25\" fill=\"none\" style=\"stroke:rgb(255, 195, 213);stroke-width:2\" />  </svg></g><rect x=\"8.772808831191231%\" y=\"40\" height=\"20\" width=\"5.903951537960808%\"      onmouseover=\"document.getElementById('_tp_yskuhqatnfqkhqysnguw_ind_4').style.textDecoration = 'underline';document.getElementById('_fs_yskuhqatnfqkhqysnguw_ind_4').style.opacity = 1;document.getElementById('_fb_yskuhqatnfqkhqysnguw_ind_4').style.opacity = 1;\"      onmouseout=\"document.getElementById('_tp_yskuhqatnfqkhqysnguw_ind_4').style.textDecoration = 'none';document.getElementById('_fs_yskuhqatnfqkhqysnguw_ind_4').style.opacity = 0;document.getElementById('_fb_yskuhqatnfqkhqysnguw_ind_4').style.opacity = 0;\" style=\"fill:rgb(0,0,0,0)\" /><rect x=\"8.333333250075833%\" y=\"40\" height=\"20\" width=\"0.4394755811153974%\"      onmouseover=\"document.getElementById('_tp_yskuhqatnfqkhqysnguw_ind_3').style.textDecoration = 'underline';document.getElementById('_fs_yskuhqatnfqkhqysnguw_ind_3').style.opacity = 1;document.getElementById('_fb_yskuhqatnfqkhqysnguw_ind_3').style.opacity = 1;\"      onmouseout=\"document.getElementById('_tp_yskuhqatnfqkhqysnguw_ind_3').style.textDecoration = 'none';document.getElementById('_fs_yskuhqatnfqkhqysnguw_ind_3').style.opacity = 0;document.getElementById('_fb_yskuhqatnfqkhqysnguw_ind_3').style.opacity = 0;\" style=\"fill:rgb(0,0,0,0)\" /><rect x=\"85.34705079234921%\" width=\"6.3196149584849435%\" y=\"40\" height=\"18\" style=\"fill:rgb(0.0, 138.56128015770727, 250.76166088685727); stroke-width:0; stroke:rgb(0,0,0)\" /><line x1=\"85.34705079234921%\" x2=\"91.66666575083414%\" y1=\"60\" y2=\"60\" id=\"_fb_yskuhqatnfqkhqysnguw_ind_6\" style=\"stroke:rgb(0.0, 138.56128015770727, 250.76166088685727);stroke-width:2; opacity: 0\"/><text x=\"88.50685827159168%\" y=\"71\" font-size=\"12px\" fill=\"rgb(0.0, 138.56128015770727, 250.76166088685727)\" id=\"_fs_yskuhqatnfqkhqysnguw_ind_6\" style=\"opacity: 0\" dominant-baseline=\"middle\" text-anchor=\"middle\">-0.063</text><svg x=\"85.34705079234921%\" y=\"40\" height=\"20\" width=\"6.319614958484934%\">  <svg x=\"0\" y=\"0\" width=\"100%\" height=\"100%\">    <text x=\"50%\" y=\"9\" font-size=\"12px\" fill=\"rgb(255,255,255)\" dominant-baseline=\"middle\" text-anchor=\"middle\"></text>  </svg></svg><rect transform=\"translate(0,0)\" x=\"85.34705079234921%\" y=\"40\" width=\"8\" height=\"18\" style=\"fill:rgb(0.0, 138.56128015770727, 250.76166088685727)\"/><g transform=\"translate(-6.0,0)\">  <svg x=\"91.66666575083414%\" y=\"40\" height=\"18\" overflow=\"visible\" width=\"30\">    <path d=\"M 8 -9 l -6 18 L 8 25 L 20 25 L 20 -9\" fill=\"#ffffff\" style=\"stroke:rgb(255,255,255);stroke-width:2\" />  </svg></g><rect x=\"85.34705079234921%\" y=\"40\" height=\"20\" width=\"6.319614958484934%\"      onmouseover=\"document.getElementById('_tp_yskuhqatnfqkhqysnguw_ind_6').style.textDecoration = 'underline';document.getElementById('_fs_yskuhqatnfqkhqysnguw_ind_6').style.opacity = 1;document.getElementById('_fb_yskuhqatnfqkhqysnguw_ind_6').style.opacity = 1;\"      onmouseout=\"document.getElementById('_tp_yskuhqatnfqkhqysnguw_ind_6').style.textDecoration = 'none';document.getElementById('_fs_yskuhqatnfqkhqysnguw_ind_6').style.opacity = 0;document.getElementById('_fb_yskuhqatnfqkhqysnguw_ind_6').style.opacity = 0;\" style=\"fill:rgb(0,0,0,0)\" /></svg><div align='center'><div style=\"color: rgb(120,120,120); font-size: 12px; margin-top: -15px;\">inputs</div><div style='display: inline; text-align: center;'\n",
       "    ><div style='display: none; color: #999; padding-top: 0px; font-size: 12px;'>0.256</div\n",
       "        ><div id='_tp_yskuhqatnfqkhqysnguw_ind_0'\n",
       "            style='display: inline; background: rgba(255.0, 13.0, 87.0, 1.0); border-radius: 3px; padding: 0px'\n",
       "            onclick=\"\n",
       "            if (this.previousSibling.style.display == 'none') {\n",
       "                this.previousSibling.style.display = 'block';\n",
       "                this.parentNode.style.display = 'inline-block';\n",
       "            } else {\n",
       "                this.previousSibling.style.display = 'none';\n",
       "                this.parentNode.style.display = 'inline';\n",
       "            }\"\n",
       "            onmouseover=\"document.getElementById('_fb_yskuhqatnfqkhqysnguw_ind_0').style.opacity = 1; document.getElementById('_fs_yskuhqatnfqkhqysnguw_ind_0').style.opacity = 1;\"\n",
       "            onmouseout=\"document.getElementById('_fb_yskuhqatnfqkhqysnguw_ind_0').style.opacity = 0; document.getElementById('_fs_yskuhqatnfqkhqysnguw_ind_0').style.opacity = 0;\"\n",
       "        ></div></div><div style='display: inline; text-align: center;'\n",
       "    ><div style='display: none; color: #999; padding-top: 0px; font-size: 12px;'>0.096</div\n",
       "        ><div id='_tp_yskuhqatnfqkhqysnguw_ind_1'\n",
       "            style='display: inline; background: rgba(255.0, 13.0, 87.0, 0.3693800752624282); border-radius: 3px; padding: 0px'\n",
       "            onclick=\"\n",
       "            if (this.previousSibling.style.display == 'none') {\n",
       "                this.previousSibling.style.display = 'block';\n",
       "                this.parentNode.style.display = 'inline-block';\n",
       "            } else {\n",
       "                this.previousSibling.style.display = 'none';\n",
       "                this.parentNode.style.display = 'inline';\n",
       "            }\"\n",
       "            onmouseover=\"document.getElementById('_fb_yskuhqatnfqkhqysnguw_ind_1').style.opacity = 1; document.getElementById('_fs_yskuhqatnfqkhqysnguw_ind_1').style.opacity = 1;\"\n",
       "            onmouseout=\"document.getElementById('_fb_yskuhqatnfqkhqysnguw_ind_1').style.opacity = 0; document.getElementById('_fs_yskuhqatnfqkhqysnguw_ind_1').style.opacity = 0;\"\n",
       "        >I </div></div><div style='display: inline; text-align: center;'\n",
       "    ><div style='display: none; color: #999; padding-top: 0px; font-size: 12px;'>0.172</div\n",
       "        ><div id='_tp_yskuhqatnfqkhqysnguw_ind_2'\n",
       "            style='display: inline; background: rgba(255.0, 13.0, 87.0, 0.6768072885719946); border-radius: 3px; padding: 0px'\n",
       "            onclick=\"\n",
       "            if (this.previousSibling.style.display == 'none') {\n",
       "                this.previousSibling.style.display = 'block';\n",
       "                this.parentNode.style.display = 'inline-block';\n",
       "            } else {\n",
       "                this.previousSibling.style.display = 'none';\n",
       "                this.parentNode.style.display = 'inline';\n",
       "            }\"\n",
       "            onmouseover=\"document.getElementById('_fb_yskuhqatnfqkhqysnguw_ind_2').style.opacity = 1; document.getElementById('_fs_yskuhqatnfqkhqysnguw_ind_2').style.opacity = 1;\"\n",
       "            onmouseout=\"document.getElementById('_fb_yskuhqatnfqkhqysnguw_ind_2').style.opacity = 0; document.getElementById('_fs_yskuhqatnfqkhqysnguw_ind_2').style.opacity = 0;\"\n",
       "        >love </div></div><div style='display: inline; text-align: center;'\n",
       "    ><div style='display: none; color: #999; padding-top: 0px; font-size: 12px;'>0.004</div\n",
       "        ><div id='_tp_yskuhqatnfqkhqysnguw_ind_3'\n",
       "            style='display: inline; background: rgba(255.0, 13.0, 87.0, 0.014656367597544035); border-radius: 3px; padding: 0px'\n",
       "            onclick=\"\n",
       "            if (this.previousSibling.style.display == 'none') {\n",
       "                this.previousSibling.style.display = 'block';\n",
       "                this.parentNode.style.display = 'inline-block';\n",
       "            } else {\n",
       "                this.previousSibling.style.display = 'none';\n",
       "                this.parentNode.style.display = 'inline';\n",
       "            }\"\n",
       "            onmouseover=\"document.getElementById('_fb_yskuhqatnfqkhqysnguw_ind_3').style.opacity = 1; document.getElementById('_fs_yskuhqatnfqkhqysnguw_ind_3').style.opacity = 1;\"\n",
       "            onmouseout=\"document.getElementById('_fb_yskuhqatnfqkhqysnguw_ind_3').style.opacity = 0; document.getElementById('_fs_yskuhqatnfqkhqysnguw_ind_3').style.opacity = 0;\"\n",
       "        >playing </div></div><div style='display: inline; text-align: center;'\n",
       "    ><div style='display: none; color: #999; padding-top: 0px; font-size: 12px;'>0.059</div\n",
       "        ><div id='_tp_yskuhqatnfqkhqysnguw_ind_4'\n",
       "            style='display: inline; background: rgba(255.0, 13.0, 87.0, 0.22749059219647458); border-radius: 3px; padding: 0px'\n",
       "            onclick=\"\n",
       "            if (this.previousSibling.style.display == 'none') {\n",
       "                this.previousSibling.style.display = 'block';\n",
       "                this.parentNode.style.display = 'inline-block';\n",
       "            } else {\n",
       "                this.previousSibling.style.display = 'none';\n",
       "                this.parentNode.style.display = 'inline';\n",
       "            }\"\n",
       "            onmouseover=\"document.getElementById('_fb_yskuhqatnfqkhqysnguw_ind_4').style.opacity = 1; document.getElementById('_fs_yskuhqatnfqkhqysnguw_ind_4').style.opacity = 1;\"\n",
       "            onmouseout=\"document.getElementById('_fb_yskuhqatnfqkhqysnguw_ind_4').style.opacity = 0; document.getElementById('_fs_yskuhqatnfqkhqysnguw_ind_4').style.opacity = 0;\"\n",
       "        >cricket</div></div><div style='display: inline; text-align: center;'\n",
       "    ><div style='display: none; color: #999; padding-top: 0px; font-size: 12px;'>0.183</div\n",
       "        ><div id='_tp_yskuhqatnfqkhqysnguw_ind_5'\n",
       "            style='display: inline; background: rgba(255.0, 13.0, 87.0, 0.7162210338680925); border-radius: 3px; padding: 0px'\n",
       "            onclick=\"\n",
       "            if (this.previousSibling.style.display == 'none') {\n",
       "                this.previousSibling.style.display = 'block';\n",
       "                this.parentNode.style.display = 'inline-block';\n",
       "            } else {\n",
       "                this.previousSibling.style.display = 'none';\n",
       "                this.parentNode.style.display = 'inline';\n",
       "            }\"\n",
       "            onmouseover=\"document.getElementById('_fb_yskuhqatnfqkhqysnguw_ind_5').style.opacity = 1; document.getElementById('_fs_yskuhqatnfqkhqysnguw_ind_5').style.opacity = 1;\"\n",
       "            onmouseout=\"document.getElementById('_fb_yskuhqatnfqkhqysnguw_ind_5').style.opacity = 0; document.getElementById('_fs_yskuhqatnfqkhqysnguw_ind_5').style.opacity = 0;\"\n",
       "        >!</div></div><div style='display: inline; text-align: center;'\n",
       "    ><div style='display: none; color: #999; padding-top: 0px; font-size: 12px;'>-0.063</div\n",
       "        ><div id='_tp_yskuhqatnfqkhqysnguw_ind_6'\n",
       "            style='display: inline; background: rgba(30.0, 136.0, 229.0, 0.2432560903149138); border-radius: 3px; padding: 0px'\n",
       "            onclick=\"\n",
       "            if (this.previousSibling.style.display == 'none') {\n",
       "                this.previousSibling.style.display = 'block';\n",
       "                this.parentNode.style.display = 'inline-block';\n",
       "            } else {\n",
       "                this.previousSibling.style.display = 'none';\n",
       "                this.parentNode.style.display = 'inline';\n",
       "            }\"\n",
       "            onmouseover=\"document.getElementById('_fb_yskuhqatnfqkhqysnguw_ind_6').style.opacity = 1; document.getElementById('_fs_yskuhqatnfqkhqysnguw_ind_6').style.opacity = 1;\"\n",
       "            onmouseout=\"document.getElementById('_fb_yskuhqatnfqkhqysnguw_ind_6').style.opacity = 0; document.getElementById('_fs_yskuhqatnfqkhqysnguw_ind_6').style.opacity = 0;\"\n",
       "        ></div></div></div></div><div id='_tp_nlbmgvjcuvvfwzckawpn_output_2' style='display: none';><svg width=\"100%\" height=\"80px\"><line x1=\"0\" y1=\"33\" x2=\"100%\" y2=\"33\" style=\"stroke:rgb(150,150,150);stroke-width:1\" /><line x1=\"51.63855637541619%\" y1=\"33\" x2=\"51.63855637541619%\" y2=\"37\" style=\"stroke:rgb(150,150,150);stroke-width:1\" /><text x=\"51.63855637541619%\" y=\"27\" font-size=\"12px\" fill=\"rgb(120,120,120)\" dominant-baseline=\"bottom\" text-anchor=\"middle\">0.4</text><line x1=\"34.98388402097983%\" y1=\"33\" x2=\"34.98388402097983%\" y2=\"37\" style=\"stroke:rgb(150,150,150);stroke-width:1\" /><text x=\"34.98388402097983%\" y=\"27\" font-size=\"12px\" fill=\"rgb(120,120,120)\" dominant-baseline=\"bottom\" text-anchor=\"middle\">0.2</text><line x1=\"18.329211666543475%\" y1=\"33\" x2=\"18.329211666543475%\" y2=\"37\" style=\"stroke:rgb(150,150,150);stroke-width:1\" /><text x=\"18.329211666543475%\" y=\"27\" font-size=\"12px\" fill=\"rgb(120,120,120)\" dominant-baseline=\"bottom\" text-anchor=\"middle\">0</text><line x1=\"68.29322872985256%\" y1=\"33\" x2=\"68.29322872985256%\" y2=\"37\" style=\"stroke:rgb(150,150,150);stroke-width:1\" /><text x=\"68.29322872985256%\" y=\"27\" font-size=\"12px\" fill=\"rgb(120,120,120)\" dominant-baseline=\"bottom\" text-anchor=\"middle\">0.6</text><line x1=\"84.9479010842889%\" y1=\"33\" x2=\"84.9479010842889%\" y2=\"37\" style=\"stroke:rgb(150,150,150);stroke-width:1\" /><text x=\"84.9479010842889%\" y=\"27\" font-size=\"12px\" fill=\"rgb(120,120,120)\" dominant-baseline=\"bottom\" text-anchor=\"middle\">0.8</text><line x1=\"75.13218527627564%\" y1=\"33\" x2=\"75.13218527627564%\" y2=\"37\" style=\"stroke:rgb(150,150,150);stroke-width:1\" /><text x=\"75.13218527627564%\" y=\"27\" font-size=\"13px\" style=\"stroke:#ffffff;stroke-width:8px;\" fill=\"rgb(255,255,255)\" dominant-baseline=\"bottom\" text-anchor=\"middle\">0.682127</text><text x=\"75.13218527627564%\" y=\"27\" font-size=\"12px\" fill=\"rgb(120,120,120)\" dominant-baseline=\"bottom\" text-anchor=\"middle\">0.682127</text><text x=\"75.13218527627564%\" y=\"10\" font-size=\"12px\" fill=\"rgb(120,120,120)\" dominant-baseline=\"bottom\" text-anchor=\"middle\">base value</text><line x1=\"18.53993950859593%\" y1=\"33\" x2=\"18.53993950859593%\" y2=\"37\" style=\"stroke:rgb(150,150,150);stroke-width:1\" /><text x=\"18.53993950859593%\" y=\"27\" font-size=\"13px\" style=\"stroke:#ffffff;stroke-width:8px;\" font-weight=\"bold\" fill=\"rgb(255,255,255)\" dominant-baseline=\"bottom\" text-anchor=\"middle\">0.00253056</text><text x=\"18.53993950859593%\" y=\"27\" font-size=\"13px\" font-weight=\"bold\" fill=\"rgb(0,0,0)\" dominant-baseline=\"bottom\" text-anchor=\"middle\">0.00253056</text><text x=\"18.53993950859593%\" y=\"10\" font-size=\"12px\" fill=\"rgb(120,120,120)\" dominant-baseline=\"bottom\" text-anchor=\"middle\">f<tspan baseline-shift=\"sub\" font-size=\"8px\">animal</tspan>(inputs)</text><rect x=\"7.806010398739297%\" width=\"10.733929109856632%\" y=\"40\" height=\"18\" style=\"fill:rgb(255.0, 0.0, 81.08083606031792); stroke-width:0; stroke:rgb(0,0,0)\" /><line x1=\"9.215679596246328%\" x2=\"18.53993950859593%\" y1=\"60\" y2=\"60\" id=\"_fb_zjgbiuvamjrbdlsrkxof_ind_0\" style=\"stroke:rgb(255.0, 0.0, 81.08083606031792);stroke-width:2; opacity: 0\"/><text x=\"13.877809552421128%\" y=\"71\" font-size=\"12px\" id=\"_fs_zjgbiuvamjrbdlsrkxof_ind_0\" fill=\"rgb(255.0, 0.0, 81.08083606031792)\" style=\"opacity: 0\" dominant-baseline=\"middle\" text-anchor=\"middle\">0.112</text><svg x=\"9.215679596246328%\" y=\"40\" height=\"20\" width=\"9.3242599123496%\">  <svg x=\"0\" y=\"0\" width=\"100%\" height=\"100%\">    <text x=\"50%\" y=\"9\" font-size=\"12px\" fill=\"rgb(255,255,255)\" dominant-baseline=\"middle\" text-anchor=\"middle\"></text>  </svg></svg><line x1=\"7.806010398739297%\" x2=\"9.215679596246328%\" y1=\"60\" y2=\"60\" id=\"_fb_zjgbiuvamjrbdlsrkxof_ind_2\" style=\"stroke:rgb(255.0, 0.0, 81.08083606031792);stroke-width:2; opacity: 0\"/><text x=\"8.510844997492812%\" y=\"71\" font-size=\"12px\" id=\"_fs_zjgbiuvamjrbdlsrkxof_ind_2\" fill=\"rgb(255.0, 0.0, 81.08083606031792)\" style=\"opacity: 0\" dominant-baseline=\"middle\" text-anchor=\"middle\">0.017</text><svg x=\"7.806010398739297%\" y=\"40\" height=\"20\" width=\"1.4096691975070312%\">  <svg x=\"0\" y=\"0\" width=\"100%\" height=\"100%\">    <text x=\"50%\" y=\"9\" font-size=\"12px\" fill=\"rgb(255,255,255)\" dominant-baseline=\"middle\" text-anchor=\"middle\">love</text>  </svg></svg><g transform=\"translate(0,0)\">  <svg x=\"9.215679596246328%\" y=\"40\" height=\"18\" overflow=\"visible\" width=\"30\">    <path d=\"M 0 -9 l 6 18 L 0 25\" fill=\"none\" style=\"stroke:rgb(255.0, 0.0, 81.08083606031792);stroke-width:2\" />  </svg></g><g transform=\"translate(2,0)\">  <svg x=\"9.215679596246328%\" y=\"40\" height=\"18\" overflow=\"visible\" width=\"30\">    <path d=\"M 0 -9 l 6 18 L 0 25\" fill=\"none\" style=\"stroke:rgb(255.0, 0.0, 81.08083606031792);stroke-width:2\" />  </svg></g><g transform=\"translate(4,0)\">  <svg x=\"9.215679596246328%\" y=\"40\" height=\"18\" overflow=\"visible\" width=\"30\">    <path d=\"M 0 -9 l 6 18 L 0 25\" fill=\"none\" style=\"stroke:rgb(255.0, 0.0, 81.08083606031792);stroke-width:2\" />  </svg></g><g transform=\"translate(6,0)\">  <svg x=\"9.215679596246328%\" y=\"40\" height=\"18\" overflow=\"visible\" width=\"30\">    <path d=\"M 0 -9 l 6 18 L 0 25\" fill=\"none\" style=\"stroke:rgb(255.0, 0.0, 81.08083606031792);stroke-width:2\" />  </svg></g><g transform=\"translate(-8,0)\">  <svg x=\"9.215679596246328%\" y=\"40\" height=\"18\" overflow=\"visible\" width=\"30\">    <path d=\"M 0 -9 l 6 18 L 0 25\" fill=\"none\" style=\"stroke:rgb(255.0, 0.0, 81.08083606031792);stroke-width:2\" />  </svg></g><g transform=\"translate(-6,0)\">  <svg x=\"9.215679596246328%\" y=\"40\" height=\"18\" overflow=\"visible\" width=\"30\">    <path d=\"M 0 -9 l 6 18 L 0 25\" fill=\"none\" style=\"stroke:rgb(255.0, 0.0, 81.08083606031792);stroke-width:2\" />  </svg></g><g transform=\"translate(-4,0)\">  <svg x=\"9.215679596246328%\" y=\"40\" height=\"18\" overflow=\"visible\" width=\"30\">    <path d=\"M 0 -9 l 6 18 L 0 25\" fill=\"none\" style=\"stroke:rgb(255.0, 0.0, 81.08083606031792);stroke-width:2\" />  </svg></g><g transform=\"translate(-2,0)\">  <svg x=\"9.215679596246328%\" y=\"40\" height=\"18\" overflow=\"visible\" width=\"30\">    <path d=\"M 0 -9 l 6 18 L 0 25\" fill=\"none\" style=\"stroke:rgb(255.0, 0.0, 81.08083606031792);stroke-width:2\" />  </svg></g><rect transform=\"translate(-8,0)\" x=\"18.53993950859593%\" y=\"40\" width=\"8\" height=\"18\" style=\"fill:rgb(255.0, 0.0, 81.08083606031792)\"/><g transform=\"translate(-11.5,0)\">  <svg x=\"7.806010398739297%\" y=\"40\" height=\"18\" overflow=\"visible\" width=\"30\">    <path d=\"M 10 -9 l 6 18 L 10 25 L 0 25 L 0 -9\" fill=\"#ffffff\" style=\"stroke:rgb(255,255,255);stroke-width:2\" />  </svg></g><g transform=\"translate(-1.5,0)\">  <svg x=\"18.53993950859593%\" y=\"40\" height=\"18\" overflow=\"visible\" width=\"30\">    <path d=\"M 0 -9 l 6 18 L 0 25\" fill=\"none\" style=\"stroke:rgb(255, 195, 213);stroke-width:2\" />  </svg></g><rect x=\"9.215679596246328%\" y=\"40\" height=\"20\" width=\"9.3242599123496%\"      onmouseover=\"document.getElementById('_tp_zjgbiuvamjrbdlsrkxof_ind_0').style.textDecoration = 'underline';document.getElementById('_fs_zjgbiuvamjrbdlsrkxof_ind_0').style.opacity = 1;document.getElementById('_fb_zjgbiuvamjrbdlsrkxof_ind_0').style.opacity = 1;\"      onmouseout=\"document.getElementById('_tp_zjgbiuvamjrbdlsrkxof_ind_0').style.textDecoration = 'none';document.getElementById('_fs_zjgbiuvamjrbdlsrkxof_ind_0').style.opacity = 0;document.getElementById('_fb_zjgbiuvamjrbdlsrkxof_ind_0').style.opacity = 0;\" style=\"fill:rgb(0,0,0,0)\" /><rect x=\"7.806010398739297%\" y=\"40\" height=\"20\" width=\"1.4096691975070312%\"      onmouseover=\"document.getElementById('_tp_zjgbiuvamjrbdlsrkxof_ind_2').style.textDecoration = 'underline';document.getElementById('_fs_zjgbiuvamjrbdlsrkxof_ind_2').style.opacity = 1;document.getElementById('_fb_zjgbiuvamjrbdlsrkxof_ind_2').style.opacity = 1;\"      onmouseout=\"document.getElementById('_tp_zjgbiuvamjrbdlsrkxof_ind_2').style.textDecoration = 'none';document.getElementById('_fs_zjgbiuvamjrbdlsrkxof_ind_2').style.opacity = 0;document.getElementById('_fb_zjgbiuvamjrbdlsrkxof_ind_2').style.opacity = 0;\" style=\"fill:rgb(0,0,0,0)\" /><rect x=\"18.53993950859593%\" width=\"67.32617487753633%\" y=\"40\" height=\"18\" style=\"fill:rgb(0.0, 138.56128015770727, 250.76166088685727); stroke-width:0; stroke:rgb(0,0,0)\" /><line x1=\"18.53993950859593%\" x2=\"46.94142631346201%\" y1=\"60\" y2=\"60\" id=\"_fb_zjgbiuvamjrbdlsrkxof_ind_6\" style=\"stroke:rgb(0.0, 138.56128015770727, 250.76166088685727);stroke-width:2; opacity: 0\"/><text x=\"32.74068291102897%\" y=\"71\" font-size=\"12px\" fill=\"rgb(0.0, 138.56128015770727, 250.76166088685727)\" id=\"_fs_zjgbiuvamjrbdlsrkxof_ind_6\" style=\"opacity: 0\" dominant-baseline=\"middle\" text-anchor=\"middle\">-0.341</text><svg x=\"18.53993950859593%\" y=\"40\" height=\"20\" width=\"28.40148680486608%\">  <svg x=\"0\" y=\"0\" width=\"100%\" height=\"100%\">    <text x=\"50%\" y=\"9\" font-size=\"12px\" fill=\"rgb(255,255,255)\" dominant-baseline=\"middle\" text-anchor=\"middle\"></text>  </svg></svg><line x1=\"46.94142631346201%\" x2=\"61.09608277471922%\" y1=\"60\" y2=\"60\" id=\"_fb_zjgbiuvamjrbdlsrkxof_ind_5\" style=\"stroke:rgb(0.0, 138.56128015770727, 250.76166088685727);stroke-width:2; opacity: 0\"/><text x=\"54.01875454409061%\" y=\"71\" font-size=\"12px\" fill=\"rgb(0.0, 138.56128015770727, 250.76166088685727)\" id=\"_fs_zjgbiuvamjrbdlsrkxof_ind_5\" style=\"opacity: 0\" dominant-baseline=\"middle\" text-anchor=\"middle\">-0.17</text><svg x=\"46.94142631346201%\" y=\"40\" height=\"20\" width=\"14.154656461257211%\">  <svg x=\"0\" y=\"0\" width=\"100%\" height=\"100%\">    <text x=\"50%\" y=\"9\" font-size=\"12px\" fill=\"rgb(255,255,255)\" dominant-baseline=\"middle\" text-anchor=\"middle\">!</text>  </svg></svg><line x1=\"61.09608277471922%\" x2=\"71.91122573121591%\" y1=\"60\" y2=\"60\" id=\"_fb_zjgbiuvamjrbdlsrkxof_ind_3\" style=\"stroke:rgb(0.0, 138.56128015770727, 250.76166088685727);stroke-width:2; opacity: 0\"/><text x=\"66.50365425296756%\" y=\"71\" font-size=\"12px\" fill=\"rgb(0.0, 138.56128015770727, 250.76166088685727)\" id=\"_fs_zjgbiuvamjrbdlsrkxof_ind_3\" style=\"opacity: 0\" dominant-baseline=\"middle\" text-anchor=\"middle\">-0.13</text><svg x=\"61.09608277471922%\" y=\"40\" height=\"20\" width=\"10.815142956496686%\">  <svg x=\"0\" y=\"0\" width=\"100%\" height=\"100%\">    <text x=\"50%\" y=\"9\" font-size=\"12px\" fill=\"rgb(255,255,255)\" dominant-baseline=\"middle\" text-anchor=\"middle\">playing</text>  </svg></svg><line x1=\"71.91122573121591%\" x2=\"81.81008866729854%\" y1=\"60\" y2=\"60\" id=\"_fb_zjgbiuvamjrbdlsrkxof_ind_4\" style=\"stroke:rgb(0.0, 138.56128015770727, 250.76166088685727);stroke-width:2; opacity: 0\"/><text x=\"76.86065719925722%\" y=\"71\" font-size=\"12px\" fill=\"rgb(0.0, 138.56128015770727, 250.76166088685727)\" id=\"_fs_zjgbiuvamjrbdlsrkxof_ind_4\" style=\"opacity: 0\" dominant-baseline=\"middle\" text-anchor=\"middle\">-0.119</text><svg x=\"71.91122573121591%\" y=\"40\" height=\"20\" width=\"9.898862936082637%\">  <svg x=\"0\" y=\"0\" width=\"100%\" height=\"100%\">    <text x=\"50%\" y=\"9\" font-size=\"12px\" fill=\"rgb(255,255,255)\" dominant-baseline=\"middle\" text-anchor=\"middle\">cricket</text>  </svg></svg><line x1=\"81.81008866729854%\" x2=\"85.86611438613227%\" y1=\"60\" y2=\"60\" id=\"_fb_zjgbiuvamjrbdlsrkxof_ind_1\" style=\"stroke:rgb(0.0, 138.56128015770727, 250.76166088685727);stroke-width:2; opacity: 0\"/><text x=\"83.8381015267154%\" y=\"71\" font-size=\"12px\" fill=\"rgb(0.0, 138.56128015770727, 250.76166088685727)\" id=\"_fs_zjgbiuvamjrbdlsrkxof_ind_1\" style=\"opacity: 0\" dominant-baseline=\"middle\" text-anchor=\"middle\">-0.049</text><svg x=\"81.81008866729854%\" y=\"40\" height=\"20\" width=\"4.056025718833723%\">  <svg x=\"0\" y=\"0\" width=\"100%\" height=\"100%\">    <text x=\"50%\" y=\"9\" font-size=\"12px\" fill=\"rgb(255,255,255)\" dominant-baseline=\"middle\" text-anchor=\"middle\">I</text>  </svg></svg><g transform=\"translate(-8,0)\">  <svg x=\"46.94142631346201%\" y=\"40\" height=\"18\" overflow=\"visible\" width=\"30\">    <path d=\"M 8 -9 l -6 18 L 8 25\" fill=\"none\" style=\"stroke:rgb(0.0, 138.56128015770727, 250.76166088685727);stroke-width:2\" />  </svg></g><g transform=\"translate(-10,0)\">  <svg x=\"46.94142631346201%\" y=\"40\" height=\"18\" overflow=\"visible\" width=\"30\">    <path d=\"M 8 -9 l -6 18 L 8 25\" fill=\"none\" style=\"stroke:rgb(0.0, 138.56128015770727, 250.76166088685727);stroke-width:2\" />  </svg></g><g transform=\"translate(-12,0)\">  <svg x=\"46.94142631346201%\" y=\"40\" height=\"18\" overflow=\"visible\" width=\"30\">    <path d=\"M 8 -9 l -6 18 L 8 25\" fill=\"none\" style=\"stroke:rgb(0.0, 138.56128015770727, 250.76166088685727);stroke-width:2\" />  </svg></g><g transform=\"translate(-14,0)\">  <svg x=\"46.94142631346201%\" y=\"40\" height=\"18\" overflow=\"visible\" width=\"30\">    <path d=\"M 8 -9 l -6 18 L 8 25\" fill=\"none\" style=\"stroke:rgb(0.0, 138.56128015770727, 250.76166088685727);stroke-width:2\" />  </svg></g><g transform=\"translate(2,0)\">  <svg x=\"46.94142631346201%\" y=\"40\" height=\"18\" overflow=\"visible\" width=\"30\">    <path d=\"M 8 -9 l -6 18 L 8 25\" fill=\"none\" style=\"stroke:rgb(0.0, 138.56128015770727, 250.76166088685727);stroke-width:2\" />  </svg></g><g transform=\"translate(0,0)\">  <svg x=\"46.94142631346201%\" y=\"40\" height=\"18\" overflow=\"visible\" width=\"30\">    <path d=\"M 8 -9 l -6 18 L 8 25\" fill=\"none\" style=\"stroke:rgb(0.0, 138.56128015770727, 250.76166088685727);stroke-width:2\" />  </svg></g><g transform=\"translate(-2,0)\">  <svg x=\"46.94142631346201%\" y=\"40\" height=\"18\" overflow=\"visible\" width=\"30\">    <path d=\"M 8 -9 l -6 18 L 8 25\" fill=\"none\" style=\"stroke:rgb(0.0, 138.56128015770727, 250.76166088685727);stroke-width:2\" />  </svg></g><g transform=\"translate(-4,0)\">  <svg x=\"46.94142631346201%\" y=\"40\" height=\"18\" overflow=\"visible\" width=\"30\">    <path d=\"M 8 -9 l -6 18 L 8 25\" fill=\"none\" style=\"stroke:rgb(0.0, 138.56128015770727, 250.76166088685727);stroke-width:2\" />  </svg></g><g transform=\"translate(-8,0)\">  <svg x=\"61.09608277471922%\" y=\"40\" height=\"18\" overflow=\"visible\" width=\"30\">    <path d=\"M 8 -9 l -6 18 L 8 25\" fill=\"none\" style=\"stroke:rgb(0.0, 138.56128015770727, 250.76166088685727);stroke-width:2\" />  </svg></g><g transform=\"translate(-10,0)\">  <svg x=\"61.09608277471922%\" y=\"40\" height=\"18\" overflow=\"visible\" width=\"30\">    <path d=\"M 8 -9 l -6 18 L 8 25\" fill=\"none\" style=\"stroke:rgb(0.0, 138.56128015770727, 250.76166088685727);stroke-width:2\" />  </svg></g><g transform=\"translate(-12,0)\">  <svg x=\"61.09608277471922%\" y=\"40\" height=\"18\" overflow=\"visible\" width=\"30\">    <path d=\"M 8 -9 l -6 18 L 8 25\" fill=\"none\" style=\"stroke:rgb(0.0, 138.56128015770727, 250.76166088685727);stroke-width:2\" />  </svg></g><g transform=\"translate(-14,0)\">  <svg x=\"61.09608277471922%\" y=\"40\" height=\"18\" overflow=\"visible\" width=\"30\">    <path d=\"M 8 -9 l -6 18 L 8 25\" fill=\"none\" style=\"stroke:rgb(0.0, 138.56128015770727, 250.76166088685727);stroke-width:2\" />  </svg></g><g transform=\"translate(2,0)\">  <svg x=\"61.09608277471922%\" y=\"40\" height=\"18\" overflow=\"visible\" width=\"30\">    <path d=\"M 8 -9 l -6 18 L 8 25\" fill=\"none\" style=\"stroke:rgb(0.0, 138.56128015770727, 250.76166088685727);stroke-width:2\" />  </svg></g><g transform=\"translate(0,0)\">  <svg x=\"61.09608277471922%\" y=\"40\" height=\"18\" overflow=\"visible\" width=\"30\">    <path d=\"M 8 -9 l -6 18 L 8 25\" fill=\"none\" style=\"stroke:rgb(0.0, 138.56128015770727, 250.76166088685727);stroke-width:2\" />  </svg></g><g transform=\"translate(-2,0)\">  <svg x=\"61.09608277471922%\" y=\"40\" height=\"18\" overflow=\"visible\" width=\"30\">    <path d=\"M 8 -9 l -6 18 L 8 25\" fill=\"none\" style=\"stroke:rgb(0.0, 138.56128015770727, 250.76166088685727);stroke-width:2\" />  </svg></g><g transform=\"translate(-4,0)\">  <svg x=\"61.09608277471922%\" y=\"40\" height=\"18\" overflow=\"visible\" width=\"30\">    <path d=\"M 8 -9 l -6 18 L 8 25\" fill=\"none\" style=\"stroke:rgb(0.0, 138.56128015770727, 250.76166088685727);stroke-width:2\" />  </svg></g><g transform=\"translate(-8,0)\">  <svg x=\"71.91122573121591%\" y=\"40\" height=\"18\" overflow=\"visible\" width=\"30\">    <path d=\"M 8 -9 l -6 18 L 8 25\" fill=\"none\" style=\"stroke:rgb(0.0, 138.56128015770727, 250.76166088685727);stroke-width:2\" />  </svg></g><g transform=\"translate(-10,0)\">  <svg x=\"71.91122573121591%\" y=\"40\" height=\"18\" overflow=\"visible\" width=\"30\">    <path d=\"M 8 -9 l -6 18 L 8 25\" fill=\"none\" style=\"stroke:rgb(0.0, 138.56128015770727, 250.76166088685727);stroke-width:2\" />  </svg></g><g transform=\"translate(-12,0)\">  <svg x=\"71.91122573121591%\" y=\"40\" height=\"18\" overflow=\"visible\" width=\"30\">    <path d=\"M 8 -9 l -6 18 L 8 25\" fill=\"none\" style=\"stroke:rgb(0.0, 138.56128015770727, 250.76166088685727);stroke-width:2\" />  </svg></g><g transform=\"translate(-14,0)\">  <svg x=\"71.91122573121591%\" y=\"40\" height=\"18\" overflow=\"visible\" width=\"30\">    <path d=\"M 8 -9 l -6 18 L 8 25\" fill=\"none\" style=\"stroke:rgb(0.0, 138.56128015770727, 250.76166088685727);stroke-width:2\" />  </svg></g><g transform=\"translate(2,0)\">  <svg x=\"71.91122573121591%\" y=\"40\" height=\"18\" overflow=\"visible\" width=\"30\">    <path d=\"M 8 -9 l -6 18 L 8 25\" fill=\"none\" style=\"stroke:rgb(0.0, 138.56128015770727, 250.76166088685727);stroke-width:2\" />  </svg></g><g transform=\"translate(0,0)\">  <svg x=\"71.91122573121591%\" y=\"40\" height=\"18\" overflow=\"visible\" width=\"30\">    <path d=\"M 8 -9 l -6 18 L 8 25\" fill=\"none\" style=\"stroke:rgb(0.0, 138.56128015770727, 250.76166088685727);stroke-width:2\" />  </svg></g><g transform=\"translate(-2,0)\">  <svg x=\"71.91122573121591%\" y=\"40\" height=\"18\" overflow=\"visible\" width=\"30\">    <path d=\"M 8 -9 l -6 18 L 8 25\" fill=\"none\" style=\"stroke:rgb(0.0, 138.56128015770727, 250.76166088685727);stroke-width:2\" />  </svg></g><g transform=\"translate(-4,0)\">  <svg x=\"71.91122573121591%\" y=\"40\" height=\"18\" overflow=\"visible\" width=\"30\">    <path d=\"M 8 -9 l -6 18 L 8 25\" fill=\"none\" style=\"stroke:rgb(0.0, 138.56128015770727, 250.76166088685727);stroke-width:2\" />  </svg></g><g transform=\"translate(-8,0)\">  <svg x=\"81.81008866729854%\" y=\"40\" height=\"18\" overflow=\"visible\" width=\"30\">    <path d=\"M 8 -9 l -6 18 L 8 25\" fill=\"none\" style=\"stroke:rgb(0.0, 138.56128015770727, 250.76166088685727);stroke-width:2\" />  </svg></g><g transform=\"translate(-10,0)\">  <svg x=\"81.81008866729854%\" y=\"40\" height=\"18\" overflow=\"visible\" width=\"30\">    <path d=\"M 8 -9 l -6 18 L 8 25\" fill=\"none\" style=\"stroke:rgb(0.0, 138.56128015770727, 250.76166088685727);stroke-width:2\" />  </svg></g><g transform=\"translate(-12,0)\">  <svg x=\"81.81008866729854%\" y=\"40\" height=\"18\" overflow=\"visible\" width=\"30\">    <path d=\"M 8 -9 l -6 18 L 8 25\" fill=\"none\" style=\"stroke:rgb(0.0, 138.56128015770727, 250.76166088685727);stroke-width:2\" />  </svg></g><g transform=\"translate(-14,0)\">  <svg x=\"81.81008866729854%\" y=\"40\" height=\"18\" overflow=\"visible\" width=\"30\">    <path d=\"M 8 -9 l -6 18 L 8 25\" fill=\"none\" style=\"stroke:rgb(0.0, 138.56128015770727, 250.76166088685727);stroke-width:2\" />  </svg></g><g transform=\"translate(2,0)\">  <svg x=\"81.81008866729854%\" y=\"40\" height=\"18\" overflow=\"visible\" width=\"30\">    <path d=\"M 8 -9 l -6 18 L 8 25\" fill=\"none\" style=\"stroke:rgb(0.0, 138.56128015770727, 250.76166088685727);stroke-width:2\" />  </svg></g><g transform=\"translate(0,0)\">  <svg x=\"81.81008866729854%\" y=\"40\" height=\"18\" overflow=\"visible\" width=\"30\">    <path d=\"M 8 -9 l -6 18 L 8 25\" fill=\"none\" style=\"stroke:rgb(0.0, 138.56128015770727, 250.76166088685727);stroke-width:2\" />  </svg></g><g transform=\"translate(-2,0)\">  <svg x=\"81.81008866729854%\" y=\"40\" height=\"18\" overflow=\"visible\" width=\"30\">    <path d=\"M 8 -9 l -6 18 L 8 25\" fill=\"none\" style=\"stroke:rgb(0.0, 138.56128015770727, 250.76166088685727);stroke-width:2\" />  </svg></g><g transform=\"translate(-4,0)\">  <svg x=\"81.81008866729854%\" y=\"40\" height=\"18\" overflow=\"visible\" width=\"30\">    <path d=\"M 8 -9 l -6 18 L 8 25\" fill=\"none\" style=\"stroke:rgb(0.0, 138.56128015770727, 250.76166088685727);stroke-width:2\" />  </svg></g><rect transform=\"translate(0,0)\" x=\"18.53993950859593%\" y=\"40\" width=\"8\" height=\"18\" style=\"fill:rgb(0.0, 138.56128015770727, 250.76166088685727)\"/><g transform=\"translate(-6.0,0)\">  <svg x=\"85.86611438613227%\" y=\"40\" height=\"18\" overflow=\"visible\" width=\"30\">    <path d=\"M 8 -9 l -6 18 L 8 25 L 20 25 L 20 -9\" fill=\"#ffffff\" style=\"stroke:rgb(255,255,255);stroke-width:2\" />  </svg></g><g transform=\"translate(-6.0,0)\">  <svg x=\"46.94142631346201%\" y=\"40\" height=\"18\" overflow=\"visible\" width=\"30\">    <path d=\"M 8 -9 l -6 18 L 8 25\" fill=\"none\" style=\"stroke:rgb(208, 230, 250);stroke-width:2\" />  </svg></g><rect x=\"18.53993950859593%\" y=\"40\" height=\"20\" width=\"28.40148680486608%\"      onmouseover=\"document.getElementById('_tp_zjgbiuvamjrbdlsrkxof_ind_6').style.textDecoration = 'underline';document.getElementById('_fs_zjgbiuvamjrbdlsrkxof_ind_6').style.opacity = 1;document.getElementById('_fb_zjgbiuvamjrbdlsrkxof_ind_6').style.opacity = 1;\"      onmouseout=\"document.getElementById('_tp_zjgbiuvamjrbdlsrkxof_ind_6').style.textDecoration = 'none';document.getElementById('_fs_zjgbiuvamjrbdlsrkxof_ind_6').style.opacity = 0;document.getElementById('_fb_zjgbiuvamjrbdlsrkxof_ind_6').style.opacity = 0;\" style=\"fill:rgb(0,0,0,0)\" /><g transform=\"translate(-6.0,0)\">  <svg x=\"61.09608277471922%\" y=\"40\" height=\"18\" overflow=\"visible\" width=\"30\">    <path d=\"M 8 -9 l -6 18 L 8 25\" fill=\"none\" style=\"stroke:rgb(208, 230, 250);stroke-width:2\" />  </svg></g><rect x=\"46.94142631346201%\" y=\"40\" height=\"20\" width=\"14.154656461257211%\"      onmouseover=\"document.getElementById('_tp_zjgbiuvamjrbdlsrkxof_ind_5').style.textDecoration = 'underline';document.getElementById('_fs_zjgbiuvamjrbdlsrkxof_ind_5').style.opacity = 1;document.getElementById('_fb_zjgbiuvamjrbdlsrkxof_ind_5').style.opacity = 1;\"      onmouseout=\"document.getElementById('_tp_zjgbiuvamjrbdlsrkxof_ind_5').style.textDecoration = 'none';document.getElementById('_fs_zjgbiuvamjrbdlsrkxof_ind_5').style.opacity = 0;document.getElementById('_fb_zjgbiuvamjrbdlsrkxof_ind_5').style.opacity = 0;\" style=\"fill:rgb(0,0,0,0)\" /><g transform=\"translate(-6.0,0)\">  <svg x=\"71.91122573121591%\" y=\"40\" height=\"18\" overflow=\"visible\" width=\"30\">    <path d=\"M 8 -9 l -6 18 L 8 25\" fill=\"none\" style=\"stroke:rgb(208, 230, 250);stroke-width:2\" />  </svg></g><rect x=\"61.09608277471922%\" y=\"40\" height=\"20\" width=\"10.815142956496686%\"      onmouseover=\"document.getElementById('_tp_zjgbiuvamjrbdlsrkxof_ind_3').style.textDecoration = 'underline';document.getElementById('_fs_zjgbiuvamjrbdlsrkxof_ind_3').style.opacity = 1;document.getElementById('_fb_zjgbiuvamjrbdlsrkxof_ind_3').style.opacity = 1;\"      onmouseout=\"document.getElementById('_tp_zjgbiuvamjrbdlsrkxof_ind_3').style.textDecoration = 'none';document.getElementById('_fs_zjgbiuvamjrbdlsrkxof_ind_3').style.opacity = 0;document.getElementById('_fb_zjgbiuvamjrbdlsrkxof_ind_3').style.opacity = 0;\" style=\"fill:rgb(0,0,0,0)\" /><g transform=\"translate(-6.0,0)\">  <svg x=\"81.81008866729854%\" y=\"40\" height=\"18\" overflow=\"visible\" width=\"30\">    <path d=\"M 8 -9 l -6 18 L 8 25\" fill=\"none\" style=\"stroke:rgb(208, 230, 250);stroke-width:2\" />  </svg></g><rect x=\"71.91122573121591%\" y=\"40\" height=\"20\" width=\"9.898862936082637%\"      onmouseover=\"document.getElementById('_tp_zjgbiuvamjrbdlsrkxof_ind_4').style.textDecoration = 'underline';document.getElementById('_fs_zjgbiuvamjrbdlsrkxof_ind_4').style.opacity = 1;document.getElementById('_fb_zjgbiuvamjrbdlsrkxof_ind_4').style.opacity = 1;\"      onmouseout=\"document.getElementById('_tp_zjgbiuvamjrbdlsrkxof_ind_4').style.textDecoration = 'none';document.getElementById('_fs_zjgbiuvamjrbdlsrkxof_ind_4').style.opacity = 0;document.getElementById('_fb_zjgbiuvamjrbdlsrkxof_ind_4').style.opacity = 0;\" style=\"fill:rgb(0,0,0,0)\" /><rect x=\"81.81008866729854%\" y=\"40\" height=\"20\" width=\"4.056025718833723%\"      onmouseover=\"document.getElementById('_tp_zjgbiuvamjrbdlsrkxof_ind_1').style.textDecoration = 'underline';document.getElementById('_fs_zjgbiuvamjrbdlsrkxof_ind_1').style.opacity = 1;document.getElementById('_fb_zjgbiuvamjrbdlsrkxof_ind_1').style.opacity = 1;\"      onmouseout=\"document.getElementById('_tp_zjgbiuvamjrbdlsrkxof_ind_1').style.textDecoration = 'none';document.getElementById('_fs_zjgbiuvamjrbdlsrkxof_ind_1').style.opacity = 0;document.getElementById('_fb_zjgbiuvamjrbdlsrkxof_ind_1').style.opacity = 0;\" style=\"fill:rgb(0,0,0,0)\" /></svg><div align='center'><div style=\"color: rgb(120,120,120); font-size: 12px; margin-top: -15px;\">inputs</div><div style='display: inline; text-align: center;'\n",
       "    ><div style='display: none; color: #999; padding-top: 0px; font-size: 12px;'>0.112</div\n",
       "        ><div id='_tp_zjgbiuvamjrbdlsrkxof_ind_0'\n",
       "            style='display: inline; background: rgba(255.0, 13.0, 87.0, 0.3299663299663301); border-radius: 3px; padding: 0px'\n",
       "            onclick=\"\n",
       "            if (this.previousSibling.style.display == 'none') {\n",
       "                this.previousSibling.style.display = 'block';\n",
       "                this.parentNode.style.display = 'inline-block';\n",
       "            } else {\n",
       "                this.previousSibling.style.display = 'none';\n",
       "                this.parentNode.style.display = 'inline';\n",
       "            }\"\n",
       "            onmouseover=\"document.getElementById('_fb_zjgbiuvamjrbdlsrkxof_ind_0').style.opacity = 1; document.getElementById('_fs_zjgbiuvamjrbdlsrkxof_ind_0').style.opacity = 1;\"\n",
       "            onmouseout=\"document.getElementById('_fb_zjgbiuvamjrbdlsrkxof_ind_0').style.opacity = 0; document.getElementById('_fs_zjgbiuvamjrbdlsrkxof_ind_0').style.opacity = 0;\"\n",
       "        ></div></div><div style='display: inline; text-align: center;'\n",
       "    ><div style='display: none; color: #999; padding-top: 0px; font-size: 12px;'>-0.049</div\n",
       "        ><div id='_tp_zjgbiuvamjrbdlsrkxof_ind_1'\n",
       "            style='display: inline; background: rgba(30.0, 136.0, 229.0, 0.14078035254505836); border-radius: 3px; padding: 0px'\n",
       "            onclick=\"\n",
       "            if (this.previousSibling.style.display == 'none') {\n",
       "                this.previousSibling.style.display = 'block';\n",
       "                this.parentNode.style.display = 'inline-block';\n",
       "            } else {\n",
       "                this.previousSibling.style.display = 'none';\n",
       "                this.parentNode.style.display = 'inline';\n",
       "            }\"\n",
       "            onmouseover=\"document.getElementById('_fb_zjgbiuvamjrbdlsrkxof_ind_1').style.opacity = 1; document.getElementById('_fs_zjgbiuvamjrbdlsrkxof_ind_1').style.opacity = 1;\"\n",
       "            onmouseout=\"document.getElementById('_fb_zjgbiuvamjrbdlsrkxof_ind_1').style.opacity = 0; document.getElementById('_fs_zjgbiuvamjrbdlsrkxof_ind_1').style.opacity = 0;\"\n",
       "        >I </div></div><div style='display: inline; text-align: center;'\n",
       "    ><div style='display: none; color: #999; padding-top: 0px; font-size: 12px;'>0.017</div\n",
       "        ><div id='_tp_zjgbiuvamjrbdlsrkxof_ind_2'\n",
       "            style='display: inline; background: rgba(255.0, 13.0, 87.0, 0.04618736383442265); border-radius: 3px; padding: 0px'\n",
       "            onclick=\"\n",
       "            if (this.previousSibling.style.display == 'none') {\n",
       "                this.previousSibling.style.display = 'block';\n",
       "                this.parentNode.style.display = 'inline-block';\n",
       "            } else {\n",
       "                this.previousSibling.style.display = 'none';\n",
       "                this.parentNode.style.display = 'inline';\n",
       "            }\"\n",
       "            onmouseover=\"document.getElementById('_fb_zjgbiuvamjrbdlsrkxof_ind_2').style.opacity = 1; document.getElementById('_fs_zjgbiuvamjrbdlsrkxof_ind_2').style.opacity = 1;\"\n",
       "            onmouseout=\"document.getElementById('_fb_zjgbiuvamjrbdlsrkxof_ind_2').style.opacity = 0; document.getElementById('_fs_zjgbiuvamjrbdlsrkxof_ind_2').style.opacity = 0;\"\n",
       "        >love </div></div><div style='display: inline; text-align: center;'\n",
       "    ><div style='display: none; color: #999; padding-top: 0px; font-size: 12px;'>-0.13</div\n",
       "        ><div id='_tp_zjgbiuvamjrbdlsrkxof_ind_3'\n",
       "            style='display: inline; background: rgba(30.0, 136.0, 229.0, 0.3772628243216478); border-radius: 3px; padding: 0px'\n",
       "            onclick=\"\n",
       "            if (this.previousSibling.style.display == 'none') {\n",
       "                this.previousSibling.style.display = 'block';\n",
       "                this.parentNode.style.display = 'inline-block';\n",
       "            } else {\n",
       "                this.previousSibling.style.display = 'none';\n",
       "                this.parentNode.style.display = 'inline';\n",
       "            }\"\n",
       "            onmouseover=\"document.getElementById('_fb_zjgbiuvamjrbdlsrkxof_ind_3').style.opacity = 1; document.getElementById('_fs_zjgbiuvamjrbdlsrkxof_ind_3').style.opacity = 1;\"\n",
       "            onmouseout=\"document.getElementById('_fb_zjgbiuvamjrbdlsrkxof_ind_3').style.opacity = 0; document.getElementById('_fs_zjgbiuvamjrbdlsrkxof_ind_3').style.opacity = 0;\"\n",
       "        >playing </div></div><div style='display: inline; text-align: center;'\n",
       "    ><div style='display: none; color: #999; padding-top: 0px; font-size: 12px;'>-0.119</div\n",
       "        ><div id='_tp_zjgbiuvamjrbdlsrkxof_ind_4'\n",
       "            style='display: inline; background: rgba(30.0, 136.0, 229.0, 0.34573182808476927); border-radius: 3px; padding: 0px'\n",
       "            onclick=\"\n",
       "            if (this.previousSibling.style.display == 'none') {\n",
       "                this.previousSibling.style.display = 'block';\n",
       "                this.parentNode.style.display = 'inline-block';\n",
       "            } else {\n",
       "                this.previousSibling.style.display = 'none';\n",
       "                this.parentNode.style.display = 'inline';\n",
       "            }\"\n",
       "            onmouseover=\"document.getElementById('_fb_zjgbiuvamjrbdlsrkxof_ind_4').style.opacity = 1; document.getElementById('_fs_zjgbiuvamjrbdlsrkxof_ind_4').style.opacity = 1;\"\n",
       "            onmouseout=\"document.getElementById('_fb_zjgbiuvamjrbdlsrkxof_ind_4').style.opacity = 0; document.getElementById('_fs_zjgbiuvamjrbdlsrkxof_ind_4').style.opacity = 0;\"\n",
       "        >cricket</div></div><div style='display: inline; text-align: center;'\n",
       "    ><div style='display: none; color: #999; padding-top: 0px; font-size: 12px;'>-0.17</div\n",
       "        ><div id='_tp_zjgbiuvamjrbdlsrkxof_ind_5'\n",
       "            style='display: inline; background: rgba(30.0, 136.0, 229.0, 0.4955040602099425); border-radius: 3px; padding: 0px'\n",
       "            onclick=\"\n",
       "            if (this.previousSibling.style.display == 'none') {\n",
       "                this.previousSibling.style.display = 'block';\n",
       "                this.parentNode.style.display = 'inline-block';\n",
       "            } else {\n",
       "                this.previousSibling.style.display = 'none';\n",
       "                this.parentNode.style.display = 'inline';\n",
       "            }\"\n",
       "            onmouseover=\"document.getElementById('_fb_zjgbiuvamjrbdlsrkxof_ind_5').style.opacity = 1; document.getElementById('_fs_zjgbiuvamjrbdlsrkxof_ind_5').style.opacity = 1;\"\n",
       "            onmouseout=\"document.getElementById('_fb_zjgbiuvamjrbdlsrkxof_ind_5').style.opacity = 0; document.getElementById('_fs_zjgbiuvamjrbdlsrkxof_ind_5').style.opacity = 0;\"\n",
       "        >!</div></div><div style='display: inline; text-align: center;'\n",
       "    ><div style='display: none; color: #999; padding-top: 0px; font-size: 12px;'>-0.341</div\n",
       "        ><div id='_tp_zjgbiuvamjrbdlsrkxof_ind_6'\n",
       "            style='display: inline; background: rgba(30.0, 136.0, 229.0, 1.0); border-radius: 3px; padding: 0px'\n",
       "            onclick=\"\n",
       "            if (this.previousSibling.style.display == 'none') {\n",
       "                this.previousSibling.style.display = 'block';\n",
       "                this.parentNode.style.display = 'inline-block';\n",
       "            } else {\n",
       "                this.previousSibling.style.display = 'none';\n",
       "                this.parentNode.style.display = 'inline';\n",
       "            }\"\n",
       "            onmouseover=\"document.getElementById('_fb_zjgbiuvamjrbdlsrkxof_ind_6').style.opacity = 1; document.getElementById('_fs_zjgbiuvamjrbdlsrkxof_ind_6').style.opacity = 1;\"\n",
       "            onmouseout=\"document.getElementById('_fb_zjgbiuvamjrbdlsrkxof_ind_6').style.opacity = 0; document.getElementById('_fs_zjgbiuvamjrbdlsrkxof_ind_6').style.opacity = 0;\"\n",
       "        ></div></div></div></div><div id='_tp_nlbmgvjcuvvfwzckawpn_output_2_zoom' style='display: none;'><svg width=\"100%\" height=\"80px\"><line x1=\"0\" y1=\"33\" x2=\"100%\" y2=\"33\" style=\"stroke:rgb(150,150,150);stroke-width:1\" /><line x1=\"46.237042143151605%\" y1=\"33\" x2=\"46.237042143151605%\" y2=\"37\" style=\"stroke:rgb(150,150,150);stroke-width:1\" /><text x=\"46.237042143151605%\" y=\"27\" font-size=\"12px\" fill=\"rgb(120,120,120)\" dominant-baseline=\"bottom\" text-anchor=\"middle\">0.3</text><line x1=\"28.457289367576493%\" y1=\"33\" x2=\"28.457289367576493%\" y2=\"37\" style=\"stroke:rgb(150,150,150);stroke-width:1\" /><text x=\"28.457289367576493%\" y=\"27\" font-size=\"12px\" fill=\"rgb(120,120,120)\" dominant-baseline=\"bottom\" text-anchor=\"middle\">0.1</text><line x1=\"10.677536592001383%\" y1=\"33\" x2=\"10.677536592001383%\" y2=\"37\" style=\"stroke:rgb(150,150,150);stroke-width:1\" /><text x=\"10.677536592001383%\" y=\"27\" font-size=\"12px\" fill=\"rgb(120,120,120)\" dominant-baseline=\"bottom\" text-anchor=\"middle\">-0.1</text><line x1=\"64.0167949187267%\" y1=\"33\" x2=\"64.0167949187267%\" y2=\"37\" style=\"stroke:rgb(150,150,150);stroke-width:1\" /><text x=\"64.0167949187267%\" y=\"27\" font-size=\"12px\" fill=\"rgb(120,120,120)\" dominant-baseline=\"bottom\" text-anchor=\"middle\">0.5</text><line x1=\"81.79654769430181%\" y1=\"33\" x2=\"81.79654769430181%\" y2=\"37\" style=\"stroke:rgb(150,150,150);stroke-width:1\" /><text x=\"81.79654769430181%\" y=\"27\" font-size=\"12px\" fill=\"rgb(120,120,120)\" dominant-baseline=\"bottom\" text-anchor=\"middle\">0.7</text><line x1=\"80.20762289839075%\" y1=\"33\" x2=\"80.20762289839075%\" y2=\"37\" style=\"stroke:rgb(150,150,150);stroke-width:1\" /><text x=\"80.20762289839075%\" y=\"27\" font-size=\"13px\" style=\"stroke:#ffffff;stroke-width:8px;\" fill=\"rgb(255,255,255)\" dominant-baseline=\"bottom\" text-anchor=\"middle\">0.682127</text><text x=\"80.20762289839075%\" y=\"27\" font-size=\"12px\" fill=\"rgb(120,120,120)\" dominant-baseline=\"bottom\" text-anchor=\"middle\">0.682127</text><text x=\"80.20762289839075%\" y=\"10\" font-size=\"12px\" fill=\"rgb(120,120,120)\" dominant-baseline=\"bottom\" text-anchor=\"middle\">base value</text><line x1=\"19.79237621262162%\" y1=\"33\" x2=\"19.79237621262162%\" y2=\"37\" style=\"stroke:rgb(150,150,150);stroke-width:1\" /><text x=\"19.79237621262162%\" y=\"27\" font-size=\"13px\" style=\"stroke:#ffffff;stroke-width:8px;\" font-weight=\"bold\" fill=\"rgb(255,255,255)\" dominant-baseline=\"bottom\" text-anchor=\"middle\">0.00253056</text><text x=\"19.79237621262162%\" y=\"27\" font-size=\"13px\" font-weight=\"bold\" fill=\"rgb(0,0,0)\" dominant-baseline=\"bottom\" text-anchor=\"middle\">0.00253056</text><text x=\"19.79237621262162%\" y=\"10\" font-size=\"12px\" fill=\"rgb(120,120,120)\" dominant-baseline=\"bottom\" text-anchor=\"middle\">f<tspan baseline-shift=\"sub\" font-size=\"8px\">animal</tspan>(inputs)</text><rect x=\"8.333333259251031%\" width=\"11.45904295337059%\" y=\"40\" height=\"18\" style=\"fill:rgb(255.0, 0.0, 81.08083606031792); stroke-width:0; stroke:rgb(0,0,0)\" /><line x1=\"9.838230461287079%\" x2=\"19.79237621262162%\" y1=\"60\" y2=\"60\" id=\"_fb_fyepinqdtbwonndlijjz_ind_0\" style=\"stroke:rgb(255.0, 0.0, 81.08083606031792);stroke-width:2; opacity: 0\"/><text x=\"14.815303336954349%\" y=\"71\" font-size=\"12px\" id=\"_fs_fyepinqdtbwonndlijjz_ind_0\" fill=\"rgb(255.0, 0.0, 81.08083606031792)\" style=\"opacity: 0\" dominant-baseline=\"middle\" text-anchor=\"middle\">0.112</text><svg x=\"9.838230461287079%\" y=\"40\" height=\"20\" width=\"9.95414575133454%\">  <svg x=\"0\" y=\"0\" width=\"100%\" height=\"100%\">    <text x=\"50%\" y=\"9\" font-size=\"12px\" fill=\"rgb(255,255,255)\" dominant-baseline=\"middle\" text-anchor=\"middle\"></text>  </svg></svg><line x1=\"8.333333259251031%\" x2=\"9.838230461287079%\" y1=\"60\" y2=\"60\" id=\"_fb_fyepinqdtbwonndlijjz_ind_2\" style=\"stroke:rgb(255.0, 0.0, 81.08083606031792);stroke-width:2; opacity: 0\"/><text x=\"9.085781860269055%\" y=\"71\" font-size=\"12px\" id=\"_fs_fyepinqdtbwonndlijjz_ind_2\" fill=\"rgb(255.0, 0.0, 81.08083606031792)\" style=\"opacity: 0\" dominant-baseline=\"middle\" text-anchor=\"middle\">0.017</text><svg x=\"8.333333259251031%\" y=\"40\" height=\"20\" width=\"1.504897202036048%\">  <svg x=\"0\" y=\"0\" width=\"100%\" height=\"100%\">    <text x=\"50%\" y=\"9\" font-size=\"12px\" fill=\"rgb(255,255,255)\" dominant-baseline=\"middle\" text-anchor=\"middle\">love</text>  </svg></svg><g transform=\"translate(0,0)\">  <svg x=\"9.838230461287079%\" y=\"40\" height=\"18\" overflow=\"visible\" width=\"30\">    <path d=\"M 0 -9 l 6 18 L 0 25\" fill=\"none\" style=\"stroke:rgb(255.0, 0.0, 81.08083606031792);stroke-width:2\" />  </svg></g><g transform=\"translate(2,0)\">  <svg x=\"9.838230461287079%\" y=\"40\" height=\"18\" overflow=\"visible\" width=\"30\">    <path d=\"M 0 -9 l 6 18 L 0 25\" fill=\"none\" style=\"stroke:rgb(255.0, 0.0, 81.08083606031792);stroke-width:2\" />  </svg></g><g transform=\"translate(4,0)\">  <svg x=\"9.838230461287079%\" y=\"40\" height=\"18\" overflow=\"visible\" width=\"30\">    <path d=\"M 0 -9 l 6 18 L 0 25\" fill=\"none\" style=\"stroke:rgb(255.0, 0.0, 81.08083606031792);stroke-width:2\" />  </svg></g><g transform=\"translate(6,0)\">  <svg x=\"9.838230461287079%\" y=\"40\" height=\"18\" overflow=\"visible\" width=\"30\">    <path d=\"M 0 -9 l 6 18 L 0 25\" fill=\"none\" style=\"stroke:rgb(255.0, 0.0, 81.08083606031792);stroke-width:2\" />  </svg></g><g transform=\"translate(-8,0)\">  <svg x=\"9.838230461287079%\" y=\"40\" height=\"18\" overflow=\"visible\" width=\"30\">    <path d=\"M 0 -9 l 6 18 L 0 25\" fill=\"none\" style=\"stroke:rgb(255.0, 0.0, 81.08083606031792);stroke-width:2\" />  </svg></g><g transform=\"translate(-6,0)\">  <svg x=\"9.838230461287079%\" y=\"40\" height=\"18\" overflow=\"visible\" width=\"30\">    <path d=\"M 0 -9 l 6 18 L 0 25\" fill=\"none\" style=\"stroke:rgb(255.0, 0.0, 81.08083606031792);stroke-width:2\" />  </svg></g><g transform=\"translate(-4,0)\">  <svg x=\"9.838230461287079%\" y=\"40\" height=\"18\" overflow=\"visible\" width=\"30\">    <path d=\"M 0 -9 l 6 18 L 0 25\" fill=\"none\" style=\"stroke:rgb(255.0, 0.0, 81.08083606031792);stroke-width:2\" />  </svg></g><g transform=\"translate(-2,0)\">  <svg x=\"9.838230461287079%\" y=\"40\" height=\"18\" overflow=\"visible\" width=\"30\">    <path d=\"M 0 -9 l 6 18 L 0 25\" fill=\"none\" style=\"stroke:rgb(255.0, 0.0, 81.08083606031792);stroke-width:2\" />  </svg></g><rect transform=\"translate(-8,0)\" x=\"19.79237621262162%\" y=\"40\" width=\"8\" height=\"18\" style=\"fill:rgb(255.0, 0.0, 81.08083606031792)\"/><g transform=\"translate(-11.5,0)\">  <svg x=\"8.333333259251031%\" y=\"40\" height=\"18\" overflow=\"visible\" width=\"30\">    <path d=\"M 10 -9 l 6 18 L 10 25 L 0 25 L 0 -9\" fill=\"#ffffff\" style=\"stroke:rgb(255,255,255);stroke-width:2\" />  </svg></g><g transform=\"translate(-1.5,0)\">  <svg x=\"19.79237621262162%\" y=\"40\" height=\"18\" overflow=\"visible\" width=\"30\">    <path d=\"M 0 -9 l 6 18 L 0 25\" fill=\"none\" style=\"stroke:rgb(255, 195, 213);stroke-width:2\" />  </svg></g><rect x=\"9.838230461287079%\" y=\"40\" height=\"20\" width=\"9.95414575133454%\"      onmouseover=\"document.getElementById('_tp_fyepinqdtbwonndlijjz_ind_0').style.textDecoration = 'underline';document.getElementById('_fs_fyepinqdtbwonndlijjz_ind_0').style.opacity = 1;document.getElementById('_fb_fyepinqdtbwonndlijjz_ind_0').style.opacity = 1;\"      onmouseout=\"document.getElementById('_tp_fyepinqdtbwonndlijjz_ind_0').style.textDecoration = 'none';document.getElementById('_fs_fyepinqdtbwonndlijjz_ind_0').style.opacity = 0;document.getElementById('_fb_fyepinqdtbwonndlijjz_ind_0').style.opacity = 0;\" style=\"fill:rgb(0,0,0,0)\" /><rect x=\"8.333333259251031%\" y=\"40\" height=\"20\" width=\"1.504897202036048%\"      onmouseover=\"document.getElementById('_tp_fyepinqdtbwonndlijjz_ind_2').style.textDecoration = 'underline';document.getElementById('_fs_fyepinqdtbwonndlijjz_ind_2').style.opacity = 1;document.getElementById('_fb_fyepinqdtbwonndlijjz_ind_2').style.opacity = 1;\"      onmouseout=\"document.getElementById('_tp_fyepinqdtbwonndlijjz_ind_2').style.textDecoration = 'none';document.getElementById('_fs_fyepinqdtbwonndlijjz_ind_2').style.opacity = 0;document.getElementById('_fb_fyepinqdtbwonndlijjz_ind_2').style.opacity = 0;\" style=\"fill:rgb(0,0,0,0)\" /><rect x=\"19.79237621262162%\" width=\"71.87428963913972%\" y=\"40\" height=\"18\" style=\"fill:rgb(0.0, 138.56128015770727, 250.76166088685727); stroke-width:0; stroke:rgb(0,0,0)\" /><line x1=\"19.79237621262162%\" x2=\"50.112481171922525%\" y1=\"60\" y2=\"60\" id=\"_fb_fyepinqdtbwonndlijjz_ind_6\" style=\"stroke:rgb(0.0, 138.56128015770727, 250.76166088685727);stroke-width:2; opacity: 0\"/><text x=\"34.95242869227207%\" y=\"71\" font-size=\"12px\" fill=\"rgb(0.0, 138.56128015770727, 250.76166088685727)\" id=\"_fs_fyepinqdtbwonndlijjz_ind_6\" style=\"opacity: 0\" dominant-baseline=\"middle\" text-anchor=\"middle\">-0.341</text><svg x=\"19.79237621262162%\" y=\"40\" height=\"20\" width=\"30.320104959300906%\">  <svg x=\"0\" y=\"0\" width=\"100%\" height=\"100%\">    <text x=\"50%\" y=\"9\" font-size=\"12px\" fill=\"rgb(255,255,255)\" dominant-baseline=\"middle\" text-anchor=\"middle\"></text>  </svg></svg><line x1=\"50.112481171922525%\" x2=\"65.22333337894976%\" y1=\"60\" y2=\"60\" id=\"_fb_fyepinqdtbwonndlijjz_ind_5\" style=\"stroke:rgb(0.0, 138.56128015770727, 250.76166088685727);stroke-width:2; opacity: 0\"/><text x=\"57.66790727543614%\" y=\"71\" font-size=\"12px\" fill=\"rgb(0.0, 138.56128015770727, 250.76166088685727)\" id=\"_fs_fyepinqdtbwonndlijjz_ind_5\" style=\"opacity: 0\" dominant-baseline=\"middle\" text-anchor=\"middle\">-0.17</text><svg x=\"50.112481171922525%\" y=\"40\" height=\"20\" width=\"15.110852207027236%\">  <svg x=\"0\" y=\"0\" width=\"100%\" height=\"100%\">    <text x=\"50%\" y=\"9\" font-size=\"12px\" fill=\"rgb(255,255,255)\" dominant-baseline=\"middle\" text-anchor=\"middle\">!</text>  </svg></svg><line x1=\"65.22333337894976%\" x2=\"76.76907645373277%\" y1=\"60\" y2=\"60\" id=\"_fb_fyepinqdtbwonndlijjz_ind_3\" style=\"stroke:rgb(0.0, 138.56128015770727, 250.76166088685727);stroke-width:2; opacity: 0\"/><text x=\"70.99620491634127%\" y=\"71\" font-size=\"12px\" fill=\"rgb(0.0, 138.56128015770727, 250.76166088685727)\" id=\"_fs_fyepinqdtbwonndlijjz_ind_3\" style=\"opacity: 0\" dominant-baseline=\"middle\" text-anchor=\"middle\">-0.13</text><svg x=\"65.22333337894976%\" y=\"40\" height=\"20\" width=\"11.545743074783005%\">  <svg x=\"0\" y=\"0\" width=\"100%\" height=\"100%\">    <text x=\"50%\" y=\"9\" font-size=\"12px\" fill=\"rgb(255,255,255)\" dominant-baseline=\"middle\" text-anchor=\"middle\">playing</text>  </svg></svg><line x1=\"76.76907645373277%\" x2=\"87.33664164008549%\" y1=\"60\" y2=\"60\" id=\"_fb_fyepinqdtbwonndlijjz_ind_4\" style=\"stroke:rgb(0.0, 138.56128015770727, 250.76166088685727);stroke-width:2; opacity: 0\"/><text x=\"82.05285904690913%\" y=\"71\" font-size=\"12px\" fill=\"rgb(0.0, 138.56128015770727, 250.76166088685727)\" id=\"_fs_fyepinqdtbwonndlijjz_ind_4\" style=\"opacity: 0\" dominant-baseline=\"middle\" text-anchor=\"middle\">-0.119</text><svg x=\"76.76907645373277%\" y=\"40\" height=\"20\" width=\"10.567565186352724%\">  <svg x=\"0\" y=\"0\" width=\"100%\" height=\"100%\">    <text x=\"50%\" y=\"9\" font-size=\"12px\" fill=\"rgb(255,255,255)\" dominant-baseline=\"middle\" text-anchor=\"middle\">cricket</text>  </svg></svg><line x1=\"87.33664164008549%\" x2=\"91.66666585176134%\" y1=\"60\" y2=\"60\" id=\"_fb_fyepinqdtbwonndlijjz_ind_1\" style=\"stroke:rgb(0.0, 138.56128015770727, 250.76166088685727);stroke-width:2; opacity: 0\"/><text x=\"89.50165374592342%\" y=\"71\" font-size=\"12px\" fill=\"rgb(0.0, 138.56128015770727, 250.76166088685727)\" id=\"_fs_fyepinqdtbwonndlijjz_ind_1\" style=\"opacity: 0\" dominant-baseline=\"middle\" text-anchor=\"middle\">-0.049</text><svg x=\"87.33664164008549%\" y=\"40\" height=\"20\" width=\"4.330024211675848%\">  <svg x=\"0\" y=\"0\" width=\"100%\" height=\"100%\">    <text x=\"50%\" y=\"9\" font-size=\"12px\" fill=\"rgb(255,255,255)\" dominant-baseline=\"middle\" text-anchor=\"middle\">I</text>  </svg></svg><g transform=\"translate(-8,0)\">  <svg x=\"50.112481171922525%\" y=\"40\" height=\"18\" overflow=\"visible\" width=\"30\">    <path d=\"M 8 -9 l -6 18 L 8 25\" fill=\"none\" style=\"stroke:rgb(0.0, 138.56128015770727, 250.76166088685727);stroke-width:2\" />  </svg></g><g transform=\"translate(-10,0)\">  <svg x=\"50.112481171922525%\" y=\"40\" height=\"18\" overflow=\"visible\" width=\"30\">    <path d=\"M 8 -9 l -6 18 L 8 25\" fill=\"none\" style=\"stroke:rgb(0.0, 138.56128015770727, 250.76166088685727);stroke-width:2\" />  </svg></g><g transform=\"translate(-12,0)\">  <svg x=\"50.112481171922525%\" y=\"40\" height=\"18\" overflow=\"visible\" width=\"30\">    <path d=\"M 8 -9 l -6 18 L 8 25\" fill=\"none\" style=\"stroke:rgb(0.0, 138.56128015770727, 250.76166088685727);stroke-width:2\" />  </svg></g><g transform=\"translate(-14,0)\">  <svg x=\"50.112481171922525%\" y=\"40\" height=\"18\" overflow=\"visible\" width=\"30\">    <path d=\"M 8 -9 l -6 18 L 8 25\" fill=\"none\" style=\"stroke:rgb(0.0, 138.56128015770727, 250.76166088685727);stroke-width:2\" />  </svg></g><g transform=\"translate(2,0)\">  <svg x=\"50.112481171922525%\" y=\"40\" height=\"18\" overflow=\"visible\" width=\"30\">    <path d=\"M 8 -9 l -6 18 L 8 25\" fill=\"none\" style=\"stroke:rgb(0.0, 138.56128015770727, 250.76166088685727);stroke-width:2\" />  </svg></g><g transform=\"translate(0,0)\">  <svg x=\"50.112481171922525%\" y=\"40\" height=\"18\" overflow=\"visible\" width=\"30\">    <path d=\"M 8 -9 l -6 18 L 8 25\" fill=\"none\" style=\"stroke:rgb(0.0, 138.56128015770727, 250.76166088685727);stroke-width:2\" />  </svg></g><g transform=\"translate(-2,0)\">  <svg x=\"50.112481171922525%\" y=\"40\" height=\"18\" overflow=\"visible\" width=\"30\">    <path d=\"M 8 -9 l -6 18 L 8 25\" fill=\"none\" style=\"stroke:rgb(0.0, 138.56128015770727, 250.76166088685727);stroke-width:2\" />  </svg></g><g transform=\"translate(-4,0)\">  <svg x=\"50.112481171922525%\" y=\"40\" height=\"18\" overflow=\"visible\" width=\"30\">    <path d=\"M 8 -9 l -6 18 L 8 25\" fill=\"none\" style=\"stroke:rgb(0.0, 138.56128015770727, 250.76166088685727);stroke-width:2\" />  </svg></g><g transform=\"translate(-8,0)\">  <svg x=\"65.22333337894976%\" y=\"40\" height=\"18\" overflow=\"visible\" width=\"30\">    <path d=\"M 8 -9 l -6 18 L 8 25\" fill=\"none\" style=\"stroke:rgb(0.0, 138.56128015770727, 250.76166088685727);stroke-width:2\" />  </svg></g><g transform=\"translate(-10,0)\">  <svg x=\"65.22333337894976%\" y=\"40\" height=\"18\" overflow=\"visible\" width=\"30\">    <path d=\"M 8 -9 l -6 18 L 8 25\" fill=\"none\" style=\"stroke:rgb(0.0, 138.56128015770727, 250.76166088685727);stroke-width:2\" />  </svg></g><g transform=\"translate(-12,0)\">  <svg x=\"65.22333337894976%\" y=\"40\" height=\"18\" overflow=\"visible\" width=\"30\">    <path d=\"M 8 -9 l -6 18 L 8 25\" fill=\"none\" style=\"stroke:rgb(0.0, 138.56128015770727, 250.76166088685727);stroke-width:2\" />  </svg></g><g transform=\"translate(-14,0)\">  <svg x=\"65.22333337894976%\" y=\"40\" height=\"18\" overflow=\"visible\" width=\"30\">    <path d=\"M 8 -9 l -6 18 L 8 25\" fill=\"none\" style=\"stroke:rgb(0.0, 138.56128015770727, 250.76166088685727);stroke-width:2\" />  </svg></g><g transform=\"translate(2,0)\">  <svg x=\"65.22333337894976%\" y=\"40\" height=\"18\" overflow=\"visible\" width=\"30\">    <path d=\"M 8 -9 l -6 18 L 8 25\" fill=\"none\" style=\"stroke:rgb(0.0, 138.56128015770727, 250.76166088685727);stroke-width:2\" />  </svg></g><g transform=\"translate(0,0)\">  <svg x=\"65.22333337894976%\" y=\"40\" height=\"18\" overflow=\"visible\" width=\"30\">    <path d=\"M 8 -9 l -6 18 L 8 25\" fill=\"none\" style=\"stroke:rgb(0.0, 138.56128015770727, 250.76166088685727);stroke-width:2\" />  </svg></g><g transform=\"translate(-2,0)\">  <svg x=\"65.22333337894976%\" y=\"40\" height=\"18\" overflow=\"visible\" width=\"30\">    <path d=\"M 8 -9 l -6 18 L 8 25\" fill=\"none\" style=\"stroke:rgb(0.0, 138.56128015770727, 250.76166088685727);stroke-width:2\" />  </svg></g><g transform=\"translate(-4,0)\">  <svg x=\"65.22333337894976%\" y=\"40\" height=\"18\" overflow=\"visible\" width=\"30\">    <path d=\"M 8 -9 l -6 18 L 8 25\" fill=\"none\" style=\"stroke:rgb(0.0, 138.56128015770727, 250.76166088685727);stroke-width:2\" />  </svg></g><g transform=\"translate(-8,0)\">  <svg x=\"76.76907645373277%\" y=\"40\" height=\"18\" overflow=\"visible\" width=\"30\">    <path d=\"M 8 -9 l -6 18 L 8 25\" fill=\"none\" style=\"stroke:rgb(0.0, 138.56128015770727, 250.76166088685727);stroke-width:2\" />  </svg></g><g transform=\"translate(-10,0)\">  <svg x=\"76.76907645373277%\" y=\"40\" height=\"18\" overflow=\"visible\" width=\"30\">    <path d=\"M 8 -9 l -6 18 L 8 25\" fill=\"none\" style=\"stroke:rgb(0.0, 138.56128015770727, 250.76166088685727);stroke-width:2\" />  </svg></g><g transform=\"translate(-12,0)\">  <svg x=\"76.76907645373277%\" y=\"40\" height=\"18\" overflow=\"visible\" width=\"30\">    <path d=\"M 8 -9 l -6 18 L 8 25\" fill=\"none\" style=\"stroke:rgb(0.0, 138.56128015770727, 250.76166088685727);stroke-width:2\" />  </svg></g><g transform=\"translate(-14,0)\">  <svg x=\"76.76907645373277%\" y=\"40\" height=\"18\" overflow=\"visible\" width=\"30\">    <path d=\"M 8 -9 l -6 18 L 8 25\" fill=\"none\" style=\"stroke:rgb(0.0, 138.56128015770727, 250.76166088685727);stroke-width:2\" />  </svg></g><g transform=\"translate(2,0)\">  <svg x=\"76.76907645373277%\" y=\"40\" height=\"18\" overflow=\"visible\" width=\"30\">    <path d=\"M 8 -9 l -6 18 L 8 25\" fill=\"none\" style=\"stroke:rgb(0.0, 138.56128015770727, 250.76166088685727);stroke-width:2\" />  </svg></g><g transform=\"translate(0,0)\">  <svg x=\"76.76907645373277%\" y=\"40\" height=\"18\" overflow=\"visible\" width=\"30\">    <path d=\"M 8 -9 l -6 18 L 8 25\" fill=\"none\" style=\"stroke:rgb(0.0, 138.56128015770727, 250.76166088685727);stroke-width:2\" />  </svg></g><g transform=\"translate(-2,0)\">  <svg x=\"76.76907645373277%\" y=\"40\" height=\"18\" overflow=\"visible\" width=\"30\">    <path d=\"M 8 -9 l -6 18 L 8 25\" fill=\"none\" style=\"stroke:rgb(0.0, 138.56128015770727, 250.76166088685727);stroke-width:2\" />  </svg></g><g transform=\"translate(-4,0)\">  <svg x=\"76.76907645373277%\" y=\"40\" height=\"18\" overflow=\"visible\" width=\"30\">    <path d=\"M 8 -9 l -6 18 L 8 25\" fill=\"none\" style=\"stroke:rgb(0.0, 138.56128015770727, 250.76166088685727);stroke-width:2\" />  </svg></g><g transform=\"translate(-8,0)\">  <svg x=\"87.33664164008549%\" y=\"40\" height=\"18\" overflow=\"visible\" width=\"30\">    <path d=\"M 8 -9 l -6 18 L 8 25\" fill=\"none\" style=\"stroke:rgb(0.0, 138.56128015770727, 250.76166088685727);stroke-width:2\" />  </svg></g><g transform=\"translate(-10,0)\">  <svg x=\"87.33664164008549%\" y=\"40\" height=\"18\" overflow=\"visible\" width=\"30\">    <path d=\"M 8 -9 l -6 18 L 8 25\" fill=\"none\" style=\"stroke:rgb(0.0, 138.56128015770727, 250.76166088685727);stroke-width:2\" />  </svg></g><g transform=\"translate(-12,0)\">  <svg x=\"87.33664164008549%\" y=\"40\" height=\"18\" overflow=\"visible\" width=\"30\">    <path d=\"M 8 -9 l -6 18 L 8 25\" fill=\"none\" style=\"stroke:rgb(0.0, 138.56128015770727, 250.76166088685727);stroke-width:2\" />  </svg></g><g transform=\"translate(-14,0)\">  <svg x=\"87.33664164008549%\" y=\"40\" height=\"18\" overflow=\"visible\" width=\"30\">    <path d=\"M 8 -9 l -6 18 L 8 25\" fill=\"none\" style=\"stroke:rgb(0.0, 138.56128015770727, 250.76166088685727);stroke-width:2\" />  </svg></g><g transform=\"translate(2,0)\">  <svg x=\"87.33664164008549%\" y=\"40\" height=\"18\" overflow=\"visible\" width=\"30\">    <path d=\"M 8 -9 l -6 18 L 8 25\" fill=\"none\" style=\"stroke:rgb(0.0, 138.56128015770727, 250.76166088685727);stroke-width:2\" />  </svg></g><g transform=\"translate(0,0)\">  <svg x=\"87.33664164008549%\" y=\"40\" height=\"18\" overflow=\"visible\" width=\"30\">    <path d=\"M 8 -9 l -6 18 L 8 25\" fill=\"none\" style=\"stroke:rgb(0.0, 138.56128015770727, 250.76166088685727);stroke-width:2\" />  </svg></g><g transform=\"translate(-2,0)\">  <svg x=\"87.33664164008549%\" y=\"40\" height=\"18\" overflow=\"visible\" width=\"30\">    <path d=\"M 8 -9 l -6 18 L 8 25\" fill=\"none\" style=\"stroke:rgb(0.0, 138.56128015770727, 250.76166088685727);stroke-width:2\" />  </svg></g><g transform=\"translate(-4,0)\">  <svg x=\"87.33664164008549%\" y=\"40\" height=\"18\" overflow=\"visible\" width=\"30\">    <path d=\"M 8 -9 l -6 18 L 8 25\" fill=\"none\" style=\"stroke:rgb(0.0, 138.56128015770727, 250.76166088685727);stroke-width:2\" />  </svg></g><rect transform=\"translate(0,0)\" x=\"19.79237621262162%\" y=\"40\" width=\"8\" height=\"18\" style=\"fill:rgb(0.0, 138.56128015770727, 250.76166088685727)\"/><g transform=\"translate(-6.0,0)\">  <svg x=\"91.66666585176134%\" y=\"40\" height=\"18\" overflow=\"visible\" width=\"30\">    <path d=\"M 8 -9 l -6 18 L 8 25 L 20 25 L 20 -9\" fill=\"#ffffff\" style=\"stroke:rgb(255,255,255);stroke-width:2\" />  </svg></g><g transform=\"translate(-6.0,0)\">  <svg x=\"50.112481171922525%\" y=\"40\" height=\"18\" overflow=\"visible\" width=\"30\">    <path d=\"M 8 -9 l -6 18 L 8 25\" fill=\"none\" style=\"stroke:rgb(208, 230, 250);stroke-width:2\" />  </svg></g><rect x=\"19.79237621262162%\" y=\"40\" height=\"20\" width=\"30.320104959300906%\"      onmouseover=\"document.getElementById('_tp_fyepinqdtbwonndlijjz_ind_6').style.textDecoration = 'underline';document.getElementById('_fs_fyepinqdtbwonndlijjz_ind_6').style.opacity = 1;document.getElementById('_fb_fyepinqdtbwonndlijjz_ind_6').style.opacity = 1;\"      onmouseout=\"document.getElementById('_tp_fyepinqdtbwonndlijjz_ind_6').style.textDecoration = 'none';document.getElementById('_fs_fyepinqdtbwonndlijjz_ind_6').style.opacity = 0;document.getElementById('_fb_fyepinqdtbwonndlijjz_ind_6').style.opacity = 0;\" style=\"fill:rgb(0,0,0,0)\" /><g transform=\"translate(-6.0,0)\">  <svg x=\"65.22333337894976%\" y=\"40\" height=\"18\" overflow=\"visible\" width=\"30\">    <path d=\"M 8 -9 l -6 18 L 8 25\" fill=\"none\" style=\"stroke:rgb(208, 230, 250);stroke-width:2\" />  </svg></g><rect x=\"50.112481171922525%\" y=\"40\" height=\"20\" width=\"15.110852207027236%\"      onmouseover=\"document.getElementById('_tp_fyepinqdtbwonndlijjz_ind_5').style.textDecoration = 'underline';document.getElementById('_fs_fyepinqdtbwonndlijjz_ind_5').style.opacity = 1;document.getElementById('_fb_fyepinqdtbwonndlijjz_ind_5').style.opacity = 1;\"      onmouseout=\"document.getElementById('_tp_fyepinqdtbwonndlijjz_ind_5').style.textDecoration = 'none';document.getElementById('_fs_fyepinqdtbwonndlijjz_ind_5').style.opacity = 0;document.getElementById('_fb_fyepinqdtbwonndlijjz_ind_5').style.opacity = 0;\" style=\"fill:rgb(0,0,0,0)\" /><g transform=\"translate(-6.0,0)\">  <svg x=\"76.76907645373277%\" y=\"40\" height=\"18\" overflow=\"visible\" width=\"30\">    <path d=\"M 8 -9 l -6 18 L 8 25\" fill=\"none\" style=\"stroke:rgb(208, 230, 250);stroke-width:2\" />  </svg></g><rect x=\"65.22333337894976%\" y=\"40\" height=\"20\" width=\"11.545743074783005%\"      onmouseover=\"document.getElementById('_tp_fyepinqdtbwonndlijjz_ind_3').style.textDecoration = 'underline';document.getElementById('_fs_fyepinqdtbwonndlijjz_ind_3').style.opacity = 1;document.getElementById('_fb_fyepinqdtbwonndlijjz_ind_3').style.opacity = 1;\"      onmouseout=\"document.getElementById('_tp_fyepinqdtbwonndlijjz_ind_3').style.textDecoration = 'none';document.getElementById('_fs_fyepinqdtbwonndlijjz_ind_3').style.opacity = 0;document.getElementById('_fb_fyepinqdtbwonndlijjz_ind_3').style.opacity = 0;\" style=\"fill:rgb(0,0,0,0)\" /><g transform=\"translate(-6.0,0)\">  <svg x=\"87.33664164008549%\" y=\"40\" height=\"18\" overflow=\"visible\" width=\"30\">    <path d=\"M 8 -9 l -6 18 L 8 25\" fill=\"none\" style=\"stroke:rgb(208, 230, 250);stroke-width:2\" />  </svg></g><rect x=\"76.76907645373277%\" y=\"40\" height=\"20\" width=\"10.567565186352724%\"      onmouseover=\"document.getElementById('_tp_fyepinqdtbwonndlijjz_ind_4').style.textDecoration = 'underline';document.getElementById('_fs_fyepinqdtbwonndlijjz_ind_4').style.opacity = 1;document.getElementById('_fb_fyepinqdtbwonndlijjz_ind_4').style.opacity = 1;\"      onmouseout=\"document.getElementById('_tp_fyepinqdtbwonndlijjz_ind_4').style.textDecoration = 'none';document.getElementById('_fs_fyepinqdtbwonndlijjz_ind_4').style.opacity = 0;document.getElementById('_fb_fyepinqdtbwonndlijjz_ind_4').style.opacity = 0;\" style=\"fill:rgb(0,0,0,0)\" /><rect x=\"87.33664164008549%\" y=\"40\" height=\"20\" width=\"4.330024211675848%\"      onmouseover=\"document.getElementById('_tp_fyepinqdtbwonndlijjz_ind_1').style.textDecoration = 'underline';document.getElementById('_fs_fyepinqdtbwonndlijjz_ind_1').style.opacity = 1;document.getElementById('_fb_fyepinqdtbwonndlijjz_ind_1').style.opacity = 1;\"      onmouseout=\"document.getElementById('_tp_fyepinqdtbwonndlijjz_ind_1').style.textDecoration = 'none';document.getElementById('_fs_fyepinqdtbwonndlijjz_ind_1').style.opacity = 0;document.getElementById('_fb_fyepinqdtbwonndlijjz_ind_1').style.opacity = 0;\" style=\"fill:rgb(0,0,0,0)\" /></svg><div align='center'><div style=\"color: rgb(120,120,120); font-size: 12px; margin-top: -15px;\">inputs</div><div style='display: inline; text-align: center;'\n",
       "    ><div style='display: none; color: #999; padding-top: 0px; font-size: 12px;'>0.112</div\n",
       "        ><div id='_tp_fyepinqdtbwonndlijjz_ind_0'\n",
       "            style='display: inline; background: rgba(255.0, 13.0, 87.0, 0.3299663299663301); border-radius: 3px; padding: 0px'\n",
       "            onclick=\"\n",
       "            if (this.previousSibling.style.display == 'none') {\n",
       "                this.previousSibling.style.display = 'block';\n",
       "                this.parentNode.style.display = 'inline-block';\n",
       "            } else {\n",
       "                this.previousSibling.style.display = 'none';\n",
       "                this.parentNode.style.display = 'inline';\n",
       "            }\"\n",
       "            onmouseover=\"document.getElementById('_fb_fyepinqdtbwonndlijjz_ind_0').style.opacity = 1; document.getElementById('_fs_fyepinqdtbwonndlijjz_ind_0').style.opacity = 1;\"\n",
       "            onmouseout=\"document.getElementById('_fb_fyepinqdtbwonndlijjz_ind_0').style.opacity = 0; document.getElementById('_fs_fyepinqdtbwonndlijjz_ind_0').style.opacity = 0;\"\n",
       "        ></div></div><div style='display: inline; text-align: center;'\n",
       "    ><div style='display: none; color: #999; padding-top: 0px; font-size: 12px;'>-0.049</div\n",
       "        ><div id='_tp_fyepinqdtbwonndlijjz_ind_1'\n",
       "            style='display: inline; background: rgba(30.0, 136.0, 229.0, 0.14078035254505836); border-radius: 3px; padding: 0px'\n",
       "            onclick=\"\n",
       "            if (this.previousSibling.style.display == 'none') {\n",
       "                this.previousSibling.style.display = 'block';\n",
       "                this.parentNode.style.display = 'inline-block';\n",
       "            } else {\n",
       "                this.previousSibling.style.display = 'none';\n",
       "                this.parentNode.style.display = 'inline';\n",
       "            }\"\n",
       "            onmouseover=\"document.getElementById('_fb_fyepinqdtbwonndlijjz_ind_1').style.opacity = 1; document.getElementById('_fs_fyepinqdtbwonndlijjz_ind_1').style.opacity = 1;\"\n",
       "            onmouseout=\"document.getElementById('_fb_fyepinqdtbwonndlijjz_ind_1').style.opacity = 0; document.getElementById('_fs_fyepinqdtbwonndlijjz_ind_1').style.opacity = 0;\"\n",
       "        >I </div></div><div style='display: inline; text-align: center;'\n",
       "    ><div style='display: none; color: #999; padding-top: 0px; font-size: 12px;'>0.017</div\n",
       "        ><div id='_tp_fyepinqdtbwonndlijjz_ind_2'\n",
       "            style='display: inline; background: rgba(255.0, 13.0, 87.0, 0.04618736383442265); border-radius: 3px; padding: 0px'\n",
       "            onclick=\"\n",
       "            if (this.previousSibling.style.display == 'none') {\n",
       "                this.previousSibling.style.display = 'block';\n",
       "                this.parentNode.style.display = 'inline-block';\n",
       "            } else {\n",
       "                this.previousSibling.style.display = 'none';\n",
       "                this.parentNode.style.display = 'inline';\n",
       "            }\"\n",
       "            onmouseover=\"document.getElementById('_fb_fyepinqdtbwonndlijjz_ind_2').style.opacity = 1; document.getElementById('_fs_fyepinqdtbwonndlijjz_ind_2').style.opacity = 1;\"\n",
       "            onmouseout=\"document.getElementById('_fb_fyepinqdtbwonndlijjz_ind_2').style.opacity = 0; document.getElementById('_fs_fyepinqdtbwonndlijjz_ind_2').style.opacity = 0;\"\n",
       "        >love </div></div><div style='display: inline; text-align: center;'\n",
       "    ><div style='display: none; color: #999; padding-top: 0px; font-size: 12px;'>-0.13</div\n",
       "        ><div id='_tp_fyepinqdtbwonndlijjz_ind_3'\n",
       "            style='display: inline; background: rgba(30.0, 136.0, 229.0, 0.3772628243216478); border-radius: 3px; padding: 0px'\n",
       "            onclick=\"\n",
       "            if (this.previousSibling.style.display == 'none') {\n",
       "                this.previousSibling.style.display = 'block';\n",
       "                this.parentNode.style.display = 'inline-block';\n",
       "            } else {\n",
       "                this.previousSibling.style.display = 'none';\n",
       "                this.parentNode.style.display = 'inline';\n",
       "            }\"\n",
       "            onmouseover=\"document.getElementById('_fb_fyepinqdtbwonndlijjz_ind_3').style.opacity = 1; document.getElementById('_fs_fyepinqdtbwonndlijjz_ind_3').style.opacity = 1;\"\n",
       "            onmouseout=\"document.getElementById('_fb_fyepinqdtbwonndlijjz_ind_3').style.opacity = 0; document.getElementById('_fs_fyepinqdtbwonndlijjz_ind_3').style.opacity = 0;\"\n",
       "        >playing </div></div><div style='display: inline; text-align: center;'\n",
       "    ><div style='display: none; color: #999; padding-top: 0px; font-size: 12px;'>-0.119</div\n",
       "        ><div id='_tp_fyepinqdtbwonndlijjz_ind_4'\n",
       "            style='display: inline; background: rgba(30.0, 136.0, 229.0, 0.34573182808476927); border-radius: 3px; padding: 0px'\n",
       "            onclick=\"\n",
       "            if (this.previousSibling.style.display == 'none') {\n",
       "                this.previousSibling.style.display = 'block';\n",
       "                this.parentNode.style.display = 'inline-block';\n",
       "            } else {\n",
       "                this.previousSibling.style.display = 'none';\n",
       "                this.parentNode.style.display = 'inline';\n",
       "            }\"\n",
       "            onmouseover=\"document.getElementById('_fb_fyepinqdtbwonndlijjz_ind_4').style.opacity = 1; document.getElementById('_fs_fyepinqdtbwonndlijjz_ind_4').style.opacity = 1;\"\n",
       "            onmouseout=\"document.getElementById('_fb_fyepinqdtbwonndlijjz_ind_4').style.opacity = 0; document.getElementById('_fs_fyepinqdtbwonndlijjz_ind_4').style.opacity = 0;\"\n",
       "        >cricket</div></div><div style='display: inline; text-align: center;'\n",
       "    ><div style='display: none; color: #999; padding-top: 0px; font-size: 12px;'>-0.17</div\n",
       "        ><div id='_tp_fyepinqdtbwonndlijjz_ind_5'\n",
       "            style='display: inline; background: rgba(30.0, 136.0, 229.0, 0.4955040602099425); border-radius: 3px; padding: 0px'\n",
       "            onclick=\"\n",
       "            if (this.previousSibling.style.display == 'none') {\n",
       "                this.previousSibling.style.display = 'block';\n",
       "                this.parentNode.style.display = 'inline-block';\n",
       "            } else {\n",
       "                this.previousSibling.style.display = 'none';\n",
       "                this.parentNode.style.display = 'inline';\n",
       "            }\"\n",
       "            onmouseover=\"document.getElementById('_fb_fyepinqdtbwonndlijjz_ind_5').style.opacity = 1; document.getElementById('_fs_fyepinqdtbwonndlijjz_ind_5').style.opacity = 1;\"\n",
       "            onmouseout=\"document.getElementById('_fb_fyepinqdtbwonndlijjz_ind_5').style.opacity = 0; document.getElementById('_fs_fyepinqdtbwonndlijjz_ind_5').style.opacity = 0;\"\n",
       "        >!</div></div><div style='display: inline; text-align: center;'\n",
       "    ><div style='display: none; color: #999; padding-top: 0px; font-size: 12px;'>-0.341</div\n",
       "        ><div id='_tp_fyepinqdtbwonndlijjz_ind_6'\n",
       "            style='display: inline; background: rgba(30.0, 136.0, 229.0, 1.0); border-radius: 3px; padding: 0px'\n",
       "            onclick=\"\n",
       "            if (this.previousSibling.style.display == 'none') {\n",
       "                this.previousSibling.style.display = 'block';\n",
       "                this.parentNode.style.display = 'inline-block';\n",
       "            } else {\n",
       "                this.previousSibling.style.display = 'none';\n",
       "                this.parentNode.style.display = 'inline';\n",
       "            }\"\n",
       "            onmouseover=\"document.getElementById('_fb_fyepinqdtbwonndlijjz_ind_6').style.opacity = 1; document.getElementById('_fs_fyepinqdtbwonndlijjz_ind_6').style.opacity = 1;\"\n",
       "            onmouseout=\"document.getElementById('_fb_fyepinqdtbwonndlijjz_ind_6').style.opacity = 0; document.getElementById('_fs_fyepinqdtbwonndlijjz_ind_6').style.opacity = 0;\"\n",
       "        ></div></div></div></div></div>"
      ],
      "text/plain": [
       "<IPython.core.display.HTML object>"
      ]
     },
     "metadata": {},
     "output_type": "display_data"
    },
    {
     "data": {
      "image/png": "[encoded data removed]",
      "text/plain": [
       "<Figure size 576x360 with 1 Axes>"
      ]
     },
     "metadata": {},
     "output_type": "display_data"
    }
   ],
   "source": [
    "import entry_point\n",
    "entry_point.entry_point(pipe, text)"
   ]
  },
  {
   "cell_type": "code",
   "execution_count": null,
   "metadata": {},
   "outputs": [],
   "source": []
  }
 ],
 "metadata": {
  "kernelspec": {
   "display_name": "explainable-ai-tooling",
   "language": "python",
   "name": "explainable-ai-tooling"
  },
  "language_info": {
   "codemirror_mode": {
    "name": "ipython",
    "version": 3
   },
   "file_extension": ".py",
   "mimetype": "text/x-python",
   "name": "python",
   "nbconvert_exporter": "python",
   "pygments_lexer": "ipython3",
   "version": "3.10.4"
  },
  "vscode": {
   "interpreter": {
    "hash": "5f116785276e6c3ad7d08e849fd53d61348b7787ff6ff002b8f1b3c8ab5c4540"
   }
  },
  "widgets": {
   "application/vnd.jupyter.widget-state+json": {
    "state": {
     "00330b72ddef456698217895b922bfab": {
      "model_module": "@jupyter-widgets/controls",
      "model_module_version": "1.5.0",
      "model_name": "HTMLModel",
      "state": {
       "layout": "IPY_MODEL_449b9240a0494605b528c39f4cac29e9",
       "style": "IPY_MODEL_2c6fd9c99ee4430497a6cfa57ab68f8b",
       "value": "Downloading: 100%"
      }
     },
     "06f207f4aea149b089a71cc85ff8d6fe": {
      "model_module": "@jupyter-widgets/controls",
      "model_module_version": "1.5.0",
      "model_name": "DescriptionStyleModel",
      "state": {
       "description_width": ""
      }
     },
     "0b7c5a0b07f441048d5e929177921db3": {
      "model_module": "@jupyter-widgets/controls",
      "model_module_version": "1.5.0",
      "model_name": "HTMLModel",
      "state": {
       "layout": "IPY_MODEL_203866393a8b4fc7aa6190397c3a2f15",
       "style": "IPY_MODEL_fa59eb4405ff4937a291a5bf665d43a2",
       "value": "Downloading: 100%"
      }
     },
     "0f63ad2f78ca410ea7e49ec6ee6ea6e6": {
      "model_module": "@jupyter-widgets/base",
      "model_module_version": "1.2.0",
      "model_name": "LayoutModel",
      "state": {}
     },
     "0f75c3792f5b4d2b8bfb1be41dd7265d": {
      "model_module": "@jupyter-widgets/controls",
      "model_module_version": "1.5.0",
      "model_name": "HBoxModel",
      "state": {
       "children": [
        "IPY_MODEL_585e7b1006624e27b76d5a7e120f457e",
        "IPY_MODEL_1833323a3f3e434f829eca2140ef44b9",
        "IPY_MODEL_2cc705becb014e348e704a77edd8570a"
       ],
       "layout": "IPY_MODEL_76f30f4088ff4076a5006d241c55b082"
      }
     },
     "10595c49efc54165a4435850a7a20c3b": {
      "model_module": "@jupyter-widgets/controls",
      "model_module_version": "1.5.0",
      "model_name": "FloatProgressModel",
      "state": {
       "layout": "IPY_MODEL_52e1153279104779b1b4be6725bf9740",
       "max": 42,
       "style": "IPY_MODEL_3ab3444c3dae41e5bac9d668de528804",
       "value": 42
      }
     },
     "1117a5f066df414fad562f6674e7848c": {
      "model_module": "@jupyter-widgets/base",
      "model_module_version": "1.2.0",
      "model_name": "LayoutModel",
      "state": {}
     },
     "175ad685f2844206bcf91cac201560f2": {
      "model_module": "@jupyter-widgets/controls",
      "model_module_version": "1.5.0",
      "model_name": "HTMLModel",
      "state": {
       "layout": "IPY_MODEL_b2fb633f21d3437f9f00753554a6113c",
       "style": "IPY_MODEL_4f7072d34eb74f24b3a0f10b64af981e",
       "value": "Downloading: 100%"
      }
     },
     "1833323a3f3e434f829eca2140ef44b9": {
      "model_module": "@jupyter-widgets/controls",
      "model_module_version": "1.5.0",
      "model_name": "FloatProgressModel",
      "state": {
       "bar_style": "success",
       "layout": "IPY_MODEL_20b762ecc56840df8e4e276571c564d3",
       "max": 456318,
       "style": "IPY_MODEL_41b16fa38f954b68b70c31a33289d352",
       "value": 456318
      }
     },
     "19587fb6b8044fbf9a4a2acfe31a377c": {
      "model_module": "@jupyter-widgets/base",
      "model_module_version": "1.2.0",
      "model_name": "LayoutModel",
      "state": {}
     },
     "19a3e35c50a648cfa96d30f7c9bfdc61": {
      "model_module": "@jupyter-widgets/base",
      "model_module_version": "1.2.0",
      "model_name": "LayoutModel",
      "state": {}
     },
     "1d39252c6137485dac59ca98073f6096": {
      "model_module": "@jupyter-widgets/base",
      "model_module_version": "1.2.0",
      "model_name": "LayoutModel",
      "state": {}
     },
     "203866393a8b4fc7aa6190397c3a2f15": {
      "model_module": "@jupyter-widgets/base",
      "model_module_version": "1.2.0",
      "model_name": "LayoutModel",
      "state": {}
     },
     "20b762ecc56840df8e4e276571c564d3": {
      "model_module": "@jupyter-widgets/base",
      "model_module_version": "1.2.0",
      "model_name": "LayoutModel",
      "state": {}
     },
     "228d98c7bafa498e95277f676cac544a": {
      "model_module": "@jupyter-widgets/controls",
      "model_module_version": "1.5.0",
      "model_name": "DescriptionStyleModel",
      "state": {
       "description_width": ""
      }
     },
     "23fb0fdc24fe4754bc654b616ccb8054": {
      "model_module": "@jupyter-widgets/base",
      "model_module_version": "1.2.0",
      "model_name": "LayoutModel",
      "state": {}
     },
     "2c6fd9c99ee4430497a6cfa57ab68f8b": {
      "model_module": "@jupyter-widgets/controls",
      "model_module_version": "1.5.0",
      "model_name": "DescriptionStyleModel",
      "state": {
       "description_width": ""
      }
     },
     "2cc705becb014e348e704a77edd8570a": {
      "model_module": "@jupyter-widgets/controls",
      "model_module_version": "1.5.0",
      "model_name": "HTMLModel",
      "state": {
       "layout": "IPY_MODEL_23fb0fdc24fe4754bc654b616ccb8054",
       "style": "IPY_MODEL_36054cff2e164a75b3f7e6aa58e95c50",
       "value": " 446k/446k [00:00&lt;00:00, 849kB/s]"
      }
     },
     "2d12d39c685241508d82efd394025cc1": {
      "model_module": "@jupyter-widgets/base",
      "model_module_version": "1.2.0",
      "model_name": "LayoutModel",
      "state": {}
     },
     "3154cb7b775847a79345ea3e37c89607": {
      "model_module": "@jupyter-widgets/controls",
      "model_module_version": "1.5.0",
      "model_name": "DescriptionStyleModel",
      "state": {
       "description_width": ""
      }
     },
     "336d36d17a4d4b5e9536346f10bc603b": {
      "model_module": "@jupyter-widgets/controls",
      "model_module_version": "1.5.0",
      "model_name": "HTMLModel",
      "state": {
       "layout": "IPY_MODEL_77f4b248a4874426843c09bbff1394f3",
       "style": "IPY_MODEL_b6571b30919147508345bf354e10efb4",
       "value": " 878k/878k [00:00&lt;00:00, 1.65MB/s]"
      }
     },
     "3491bb815d82497f8244ed322080a55a": {
      "model_module": "@jupyter-widgets/controls",
      "model_module_version": "1.5.0",
      "model_name": "DescriptionStyleModel",
      "state": {
       "description_width": ""
      }
     },
     "36054cff2e164a75b3f7e6aa58e95c50": {
      "model_module": "@jupyter-widgets/controls",
      "model_module_version": "1.5.0",
      "model_name": "DescriptionStyleModel",
      "state": {
       "description_width": ""
      }
     },
     "3ab3444c3dae41e5bac9d668de528804": {
      "model_module": "@jupyter-widgets/controls",
      "model_module_version": "1.5.0",
      "model_name": "ProgressStyleModel",
      "state": {
       "description_width": ""
      }
     },
     "41b16fa38f954b68b70c31a33289d352": {
      "model_module": "@jupyter-widgets/controls",
      "model_module_version": "1.5.0",
      "model_name": "ProgressStyleModel",
      "state": {
       "description_width": ""
      }
     },
     "449b9240a0494605b528c39f4cac29e9": {
      "model_module": "@jupyter-widgets/base",
      "model_module_version": "1.2.0",
      "model_name": "LayoutModel",
      "state": {}
     },
     "47345a95fef5488ca9b33827e2b37bd3": {
      "model_module": "@jupyter-widgets/base",
      "model_module_version": "1.2.0",
      "model_name": "LayoutModel",
      "state": {}
     },
     "487b2122806d492fab48839f5db08f07": {
      "model_module": "@jupyter-widgets/controls",
      "model_module_version": "1.5.0",
      "model_name": "HBoxModel",
      "state": {
       "children": [
        "IPY_MODEL_0b7c5a0b07f441048d5e929177921db3",
        "IPY_MODEL_f2ecbe415cd04119943b318ebeb1647e",
        "IPY_MODEL_83dcf4ac87b3402fba5ec9b86b3b5cc7"
       ],
       "layout": "IPY_MODEL_1117a5f066df414fad562f6674e7848c"
      }
     },
     "4f7072d34eb74f24b3a0f10b64af981e": {
      "model_module": "@jupyter-widgets/controls",
      "model_module_version": "1.5.0",
      "model_name": "DescriptionStyleModel",
      "state": {
       "description_width": ""
      }
     },
     "52e1153279104779b1b4be6725bf9740": {
      "model_module": "@jupyter-widgets/base",
      "model_module_version": "1.2.0",
      "model_name": "LayoutModel",
      "state": {}
     },
     "585e7b1006624e27b76d5a7e120f457e": {
      "model_module": "@jupyter-widgets/controls",
      "model_module_version": "1.5.0",
      "model_name": "HTMLModel",
      "state": {
       "layout": "IPY_MODEL_19587fb6b8044fbf9a4a2acfe31a377c",
       "style": "IPY_MODEL_3491bb815d82497f8244ed322080a55a",
       "value": "Downloading: 100%"
      }
     },
     "5e137dc6da974a49ad2f3b65523d79f7": {
      "model_module": "@jupyter-widgets/controls",
      "model_module_version": "1.5.0",
      "model_name": "ProgressStyleModel",
      "state": {
       "description_width": ""
      }
     },
     "5faacb4c66f24ddfb6b947a71bdb5a71": {
      "model_module": "@jupyter-widgets/base",
      "model_module_version": "1.2.0",
      "model_name": "LayoutModel",
      "state": {}
     },
     "6e87f1d5cf1a45628117eec124fc6477": {
      "model_module": "@jupyter-widgets/base",
      "model_module_version": "1.2.0",
      "model_name": "LayoutModel",
      "state": {}
     },
     "76f30f4088ff4076a5006d241c55b082": {
      "model_module": "@jupyter-widgets/base",
      "model_module_version": "1.2.0",
      "model_name": "LayoutModel",
      "state": {}
     },
     "77f4b248a4874426843c09bbff1394f3": {
      "model_module": "@jupyter-widgets/base",
      "model_module_version": "1.2.0",
      "model_name": "LayoutModel",
      "state": {}
     },
     "7d84f590904b4a39b187c5969bf62386": {
      "model_module": "@jupyter-widgets/base",
      "model_module_version": "1.2.0",
      "model_name": "LayoutModel",
      "state": {}
     },
     "83dcf4ac87b3402fba5ec9b86b3b5cc7": {
      "model_module": "@jupyter-widgets/controls",
      "model_module_version": "1.5.0",
      "model_name": "HTMLModel",
      "state": {
       "layout": "IPY_MODEL_2d12d39c685241508d82efd394025cc1",
       "style": "IPY_MODEL_ccdd474d65e44afb8c6b855a0bf12800",
       "value": " 26.0/26.0 [00:00&lt;00:00, 1.01kB/s]"
      }
     },
     "852680bc3fe14d88be781f4ab3741397": {
      "model_module": "@jupyter-widgets/controls",
      "model_module_version": "1.5.0",
      "model_name": "DescriptionStyleModel",
      "state": {
       "description_width": ""
      }
     },
     "8929f9e6b25a4a16886a0c326440fb0e": {
      "model_module": "@jupyter-widgets/controls",
      "model_module_version": "1.5.0",
      "model_name": "FloatProgressModel",
      "state": {
       "bar_style": "success",
       "layout": "IPY_MODEL_9db2d5e3b6bc4418aa6ff1132ab6fae7",
       "max": 898822,
       "style": "IPY_MODEL_a58e029d3a3f4976993b241b38e59c8f",
       "value": 898822
      }
     },
     "9656c0ab5f3e4b03a4914e5032af42b0": {
      "model_module": "@jupyter-widgets/base",
      "model_module_version": "1.2.0",
      "model_name": "LayoutModel",
      "state": {}
     },
     "9db2d5e3b6bc4418aa6ff1132ab6fae7": {
      "model_module": "@jupyter-widgets/base",
      "model_module_version": "1.2.0",
      "model_name": "LayoutModel",
      "state": {}
     },
     "a117a08434ac41ac9f2251bf3d26939a": {
      "model_module": "@jupyter-widgets/controls",
      "model_module_version": "1.5.0",
      "model_name": "HTMLModel",
      "state": {
       "layout": "IPY_MODEL_b7aa361b747e4f3fa05d481123d77648",
       "style": "IPY_MODEL_d16f41fa385342ca980aa17f5bd539f6",
       "value": "Downloading: 100%"
      }
     },
     "a58e029d3a3f4976993b241b38e59c8f": {
      "model_module": "@jupyter-widgets/controls",
      "model_module_version": "1.5.0",
      "model_name": "ProgressStyleModel",
      "state": {
       "description_width": ""
      }
     },
     "a946c956fb274330b5c1d24b106251bc": {
      "model_module": "@jupyter-widgets/base",
      "model_module_version": "1.2.0",
      "model_name": "LayoutModel",
      "state": {}
     },
     "b2fb633f21d3437f9f00753554a6113c": {
      "model_module": "@jupyter-widgets/base",
      "model_module_version": "1.2.0",
      "model_name": "LayoutModel",
      "state": {}
     },
     "b6571b30919147508345bf354e10efb4": {
      "model_module": "@jupyter-widgets/controls",
      "model_module_version": "1.5.0",
      "model_name": "DescriptionStyleModel",
      "state": {
       "description_width": ""
      }
     },
     "b6a8dcb2f1a54d4787d26004b74b9057": {
      "model_module": "@jupyter-widgets/base",
      "model_module_version": "1.2.0",
      "model_name": "LayoutModel",
      "state": {}
     },
     "b7aa361b747e4f3fa05d481123d77648": {
      "model_module": "@jupyter-widgets/base",
      "model_module_version": "1.2.0",
      "model_name": "LayoutModel",
      "state": {}
     },
     "bbf53e74708e45b48188b38f3c991372": {
      "model_module": "@jupyter-widgets/controls",
      "model_module_version": "1.5.0",
      "model_name": "ProgressStyleModel",
      "state": {
       "description_width": ""
      }
     },
     "cacbaf8508a241b6bfa3e0a3b85e31bd": {
      "model_module": "@jupyter-widgets/controls",
      "model_module_version": "1.5.0",
      "model_name": "HBoxModel",
      "state": {
       "children": [
        "IPY_MODEL_175ad685f2844206bcf91cac201560f2",
        "IPY_MODEL_d426b26b8b464061bd29d5ea280fa80c",
        "IPY_MODEL_d2a589714faf4983bf7d4f5a910f27b3"
       ],
       "layout": "IPY_MODEL_6e87f1d5cf1a45628117eec124fc6477"
      }
     },
     "cbbe142134004c6ab0c673edf68968d0": {
      "model_module": "@jupyter-widgets/controls",
      "model_module_version": "1.5.0",
      "model_name": "HBoxModel",
      "state": {
       "children": [
        "IPY_MODEL_00330b72ddef456698217895b922bfab",
        "IPY_MODEL_cdcbda2159b449809b866d806b9dc67e",
        "IPY_MODEL_d11a1e74d1da4108aed6b24675d465f1"
       ],
       "layout": "IPY_MODEL_0f63ad2f78ca410ea7e49ec6ee6ea6e6"
      }
     },
     "ccdd474d65e44afb8c6b855a0bf12800": {
      "model_module": "@jupyter-widgets/controls",
      "model_module_version": "1.5.0",
      "model_name": "DescriptionStyleModel",
      "state": {
       "description_width": ""
      }
     },
     "cdcbda2159b449809b866d806b9dc67e": {
      "model_module": "@jupyter-widgets/controls",
      "model_module_version": "1.5.0",
      "model_name": "FloatProgressModel",
      "state": {
       "bar_style": "success",
       "layout": "IPY_MODEL_7d84f590904b4a39b187c5969bf62386",
       "max": 772,
       "style": "IPY_MODEL_5e137dc6da974a49ad2f3b65523d79f7",
       "value": 772
      }
     },
     "d11a1e74d1da4108aed6b24675d465f1": {
      "model_module": "@jupyter-widgets/controls",
      "model_module_version": "1.5.0",
      "model_name": "HTMLModel",
      "state": {
       "layout": "IPY_MODEL_19a3e35c50a648cfa96d30f7c9bfdc61",
       "style": "IPY_MODEL_06f207f4aea149b089a71cc85ff8d6fe",
       "value": " 772/772 [00:00&lt;00:00, 34.8kB/s]"
      }
     },
     "d16f41fa385342ca980aa17f5bd539f6": {
      "model_module": "@jupyter-widgets/controls",
      "model_module_version": "1.5.0",
      "model_name": "DescriptionStyleModel",
      "state": {
       "description_width": ""
      }
     },
     "d2a589714faf4983bf7d4f5a910f27b3": {
      "model_module": "@jupyter-widgets/controls",
      "model_module_version": "1.5.0",
      "model_name": "HTMLModel",
      "state": {
       "layout": "IPY_MODEL_f0f1bb6fbc644705a64e64a5744d1cfa",
       "style": "IPY_MODEL_3154cb7b775847a79345ea3e37c89607",
       "value": " 977M/977M [02:00&lt;00:00, 9.22MB/s]"
      }
     },
     "d426b26b8b464061bd29d5ea280fa80c": {
      "model_module": "@jupyter-widgets/controls",
      "model_module_version": "1.5.0",
      "model_name": "FloatProgressModel",
      "state": {
       "bar_style": "success",
       "layout": "IPY_MODEL_a946c956fb274330b5c1d24b106251bc",
       "max": 1024804435,
       "style": "IPY_MODEL_bbf53e74708e45b48188b38f3c991372",
       "value": 1024804435
      }
     },
     "d648564560af430caeec60542886c971": {
      "model_module": "@jupyter-widgets/controls",
      "model_module_version": "1.5.0",
      "model_name": "HTMLModel",
      "state": {
       "layout": "IPY_MODEL_b6a8dcb2f1a54d4787d26004b74b9057",
       "style": "IPY_MODEL_228d98c7bafa498e95277f676cac544a",
       "value": " 84/? [00:08&lt;00:00,  6.43it/s]"
      }
     },
     "dbbeee41eb1c4f619203be74f228a0c5": {
      "model_module": "@jupyter-widgets/controls",
      "model_module_version": "1.5.0",
      "model_name": "ProgressStyleModel",
      "state": {
       "description_width": ""
      }
     },
     "deea6d8d76dc4fedb5930ebbd26ebafc": {
      "model_module": "@jupyter-widgets/controls",
      "model_module_version": "1.5.0",
      "model_name": "HBoxModel",
      "state": {
       "children": [
        "IPY_MODEL_a117a08434ac41ac9f2251bf3d26939a",
        "IPY_MODEL_8929f9e6b25a4a16886a0c326440fb0e",
        "IPY_MODEL_336d36d17a4d4b5e9536346f10bc603b"
       ],
       "layout": "IPY_MODEL_9656c0ab5f3e4b03a4914e5032af42b0"
      }
     },
     "f0f1bb6fbc644705a64e64a5744d1cfa": {
      "model_module": "@jupyter-widgets/base",
      "model_module_version": "1.2.0",
      "model_name": "LayoutModel",
      "state": {}
     },
     "f2ecbe415cd04119943b318ebeb1647e": {
      "model_module": "@jupyter-widgets/controls",
      "model_module_version": "1.5.0",
      "model_name": "FloatProgressModel",
      "state": {
       "bar_style": "success",
       "layout": "IPY_MODEL_5faacb4c66f24ddfb6b947a71bdb5a71",
       "max": 26,
       "style": "IPY_MODEL_dbbeee41eb1c4f619203be74f228a0c5",
       "value": 26
      }
     },
     "fa59eb4405ff4937a291a5bf665d43a2": {
      "model_module": "@jupyter-widgets/controls",
      "model_module_version": "1.5.0",
      "model_name": "DescriptionStyleModel",
      "state": {
       "description_width": ""
      }
     },
     "ff5c5ad28d794af5a7f5aaf3619a2384": {
      "model_module": "@jupyter-widgets/controls",
      "model_module_version": "1.5.0",
      "model_name": "HTMLModel",
      "state": {
       "layout": "IPY_MODEL_1d39252c6137485dac59ca98073f6096",
       "style": "IPY_MODEL_852680bc3fe14d88be781f4ab3741397"
      }
     }
    },
    "version_major": 2,
    "version_minor": 0
   }
  }
 },
 "nbformat": 4,
 "nbformat_minor": 4
}
