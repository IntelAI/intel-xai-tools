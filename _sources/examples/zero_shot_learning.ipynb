{
 "cells": [
  {
   "cell_type": "markdown",
   "metadata": {},
   "source": [
    "# Explaining zero shot learning\n",
    "\n",
    "\n",
    "see [Explaining transformer models using SHAP](https://github.com/PacktPublishing/Applied-Machine-Learning-Explainability-Techniques/blob/main/Chapter07/Explaining_Transformers.ipynb)"
   ]
  },
  {
   "cell_type": "code",
   "execution_count": 1,
   "metadata": {},
   "outputs": [
    {
     "name": "stdout",
     "output_type": "stream",
     "text": [
      "Hugging Face transformer version used: 4.20.1\n"
     ]
    }
   ],
   "source": [
    "import warnings\n",
    "warnings.filterwarnings('ignore')\n",
    "\n",
    "# add zero_shot_learning.pkz to path which includes a shap entry_point. See zero_shot_learning.yaml\n",
    "# to create the zero_shot_learning.pkz run 'explainer export zero_shot_learning'\n",
    "from explainer.explainers import zero_shot_learning\n",
    "\n",
    "import transformers\n",
    "print(f\"Hugging Face transformer version used: {transformers.__version__}\")\n",
    "from transformers import AutoModelForSequenceClassification, AutoTokenizer, ZeroShotClassificationPipeline\n",
    "from typing import Union, List"
   ]
  },
  {
   "cell_type": "code",
   "execution_count": 2,
   "metadata": {},
   "outputs": [],
   "source": [
    "# Loading the hugging face model and tokenizer\n",
    "model = AutoModelForSequenceClassification.from_pretrained(\"valhalla/distilbart-mnli-12-3\")\n",
    "tokenizer = AutoTokenizer.from_pretrained(\"valhalla/distilbart-mnli-12-3\")"
   ]
  },
  {
   "cell_type": "code",
   "execution_count": 3,
   "metadata": {},
   "outputs": [],
   "source": [
    "# Create a custom pipeline that only requires the text parameter \n",
    "# for the __call__ method and provides a method to set the labels\n",
    "class ZeroShotModelPipeline(ZeroShotClassificationPipeline):\n",
    "    # Overwrite the __call__ method\n",
    "    def __call__(self, *args):\n",
    "        out = super().__call__(args[0], self.set_labels)[0]\n",
    "\n",
    "        return [[{\"label\":x[0], \"score\": x[1]}  for x in zip(out[\"labels\"], out[\"scores\"])]]\n",
    "\n",
    "    def set_labels(self, labels: Union[str,List[str]]):\n",
    "        self.set_labels = labels"
   ]
  },
  {
   "cell_type": "code",
   "execution_count": 4,
   "metadata": {},
   "outputs": [],
   "source": [
    "text = [\"I love playing cricket!\"]\n",
    "labels = [\"insect\",\"sports\", \"animal\"]"
   ]
  },
  {
   "cell_type": "code",
   "execution_count": 5,
   "metadata": {},
   "outputs": [],
   "source": [
    "# Assign the labels for the classification model\n",
    "model.config.label2id.update({v:k for k,v in enumerate(labels)})\n",
    "model.config.id2label.update({k:v for k,v in enumerate(labels)})\n"
   ]
  },
  {
   "cell_type": "code",
   "execution_count": 6,
   "metadata": {},
   "outputs": [],
   "source": [
    "pipe = ZeroShotModelPipeline(model=model, tokenizer=tokenizer, return_all_scores=True)\n",
    "pipe.set_labels(labels)"
   ]
  },
  {
   "cell_type": "code",
   "execution_count": 7,
   "metadata": {},
   "outputs": [
    {
     "name": "stdout",
     "output_type": "stream",
     "text": [
      "Shap version used: 0.40.0\n"
     ]
    },
    {
     "data": {
      "application/vnd.jupyter.widget-view+json": {
       "model_id": "aafa204ec9be4cf5807646977950890a",
       "version_major": 2,
       "version_minor": 0
      },
      "text/plain": [
       "  0%|          | 0/42 [00:00<?, ?it/s]"
      ]
     },
     "metadata": {},
     "output_type": "display_data"
    },
    {
     "name": "stderr",
     "output_type": "stream",
     "text": [
      "Partition explainer: 2it [00:16, 16.74s/it]               \n"
     ]
    },
    {
     "name": "stdout",
     "output_type": "stream",
     "text": [
      "Model predictions are: [[{'label': 'sports', 'score': 0.8340923190116882}, {'label': 'insect', 'score': 0.1633770763874054}, {'label': 'animal', 'score': 0.0025305552408099174}]]\n"
     ]
    },
    {
     "data": {
      "text/html": [
       "\n",
       "<br>\n",
       "<hr style=\"height: 1px; background-color: #fff; border: none; margin-top: 18px; margin-bottom: 18px; border-top: 1px dashed #ccc;\"\">\n",
       "<div align=\"center\" style=\"margin-top: -35px;\"><div style=\"display: inline-block; background: #fff; padding: 5px; color: #999; font-family: monospace\">[0]</div>\n",
       "</div>\n",
       "            "
      ],
      "text/plain": [
       "<IPython.core.display.HTML object>"
      ]
     },
     "metadata": {},
     "output_type": "display_data"
    },
    {
     "data": {
      "text/html": [
       "<div align='center'>\n",
       "<script>\n",
       "    document._hover_yijyrxhfyoeyusubhaij = '_tp_yijyrxhfyoeyusubhaij_output_0';\n",
       "    document._zoom_yijyrxhfyoeyusubhaij = undefined;\n",
       "    function _output_onclick_yijyrxhfyoeyusubhaij(i) {\n",
       "        var next_id = undefined;\n",
       "        \n",
       "        if (document._zoom_yijyrxhfyoeyusubhaij !== undefined) {\n",
       "            document.getElementById(document._zoom_yijyrxhfyoeyusubhaij+ '_zoom').style.display = 'none';\n",
       "            \n",
       "            if (document._zoom_yijyrxhfyoeyusubhaij === '_tp_yijyrxhfyoeyusubhaij_output_' + i) {\n",
       "                document.getElementById(document._zoom_yijyrxhfyoeyusubhaij).style.display = 'block';\n",
       "                document.getElementById(document._zoom_yijyrxhfyoeyusubhaij+'_name').style.borderBottom = '3px solid #000000';\n",
       "            } else {\n",
       "                document.getElementById(document._zoom_yijyrxhfyoeyusubhaij).style.display = 'none';\n",
       "                document.getElementById(document._zoom_yijyrxhfyoeyusubhaij+'_name').style.borderBottom = 'none';\n",
       "            }\n",
       "        }\n",
       "        if (document._zoom_yijyrxhfyoeyusubhaij !== '_tp_yijyrxhfyoeyusubhaij_output_' + i) {\n",
       "            next_id = '_tp_yijyrxhfyoeyusubhaij_output_' + i;\n",
       "            document.getElementById(next_id).style.display = 'none';\n",
       "            document.getElementById(next_id + '_zoom').style.display = 'block';\n",
       "            document.getElementById(next_id+'_name').style.borderBottom = '3px solid #000000';\n",
       "        }\n",
       "        document._zoom_yijyrxhfyoeyusubhaij = next_id;\n",
       "    }\n",
       "    function _output_onmouseover_yijyrxhfyoeyusubhaij(i, el) {\n",
       "        if (document._zoom_yijyrxhfyoeyusubhaij !== undefined) { return; }\n",
       "        if (document._hover_yijyrxhfyoeyusubhaij !== undefined) {\n",
       "            document.getElementById(document._hover_yijyrxhfyoeyusubhaij + '_name').style.borderBottom = 'none';\n",
       "            document.getElementById(document._hover_yijyrxhfyoeyusubhaij).style.display = 'none';\n",
       "        }\n",
       "        document.getElementById('_tp_yijyrxhfyoeyusubhaij_output_' + i).style.display = 'block';\n",
       "        el.style.borderBottom = '3px solid #000000';\n",
       "        document._hover_yijyrxhfyoeyusubhaij = '_tp_yijyrxhfyoeyusubhaij_output_' + i;\n",
       "    }\n",
       "</script>\n",
       "<div style=\"color: rgb(120,120,120); font-size: 12px;\">outputs</div>\n",
       "<div style=\"display: inline; border-bottom: 3px solid #000000; background: rgba(255.0, 13.0, 87.0, 0.1959595959595959); border-radius: 3px; padding: 0px\" id=\"_tp_yijyrxhfyoeyusubhaij_output_0_name\"\n",
       "    onclick=\"_output_onclick_yijyrxhfyoeyusubhaij(0)\"\n",
       "    onmouseover=\"_output_onmouseover_yijyrxhfyoeyusubhaij(0, this);\">insect</div>\n",
       "<div style=\"display: inline; border-bottom: none; background: rgba(255.0, 13.0, 87.0, 1.0); border-radius: 3px; padding: 0px\" id=\"_tp_yijyrxhfyoeyusubhaij_output_1_name\"\n",
       "    onclick=\"_output_onclick_yijyrxhfyoeyusubhaij(1)\"\n",
       "    onmouseover=\"_output_onmouseover_yijyrxhfyoeyusubhaij(1, this);\">sports</div>\n",
       "<div style=\"display: inline; border-bottom: none; background: rgba(230.2941176470614, 26.505882352939775, 102.59215686274348, 0.0); border-radius: 3px; padding: 0px\" id=\"_tp_yijyrxhfyoeyusubhaij_output_2_name\"\n",
       "    onclick=\"_output_onclick_yijyrxhfyoeyusubhaij(2)\"\n",
       "    onmouseover=\"_output_onmouseover_yijyrxhfyoeyusubhaij(2, this);\">animal</div><br><br><div id='_tp_yijyrxhfyoeyusubhaij_output_0' style='display: block';><svg width=\"100%\" height=\"80px\"><line x1=\"0\" y1=\"33\" x2=\"100%\" y2=\"33\" style=\"stroke:rgb(150,150,150);stroke-width:1\" /><line x1=\"51.29793124381455%\" y1=\"33\" x2=\"51.29793124381455%\" y2=\"37\" style=\"stroke:rgb(150,150,150);stroke-width:1\" /><text x=\"51.29793124381455%\" y=\"27\" font-size=\"12px\" fill=\"rgb(120,120,120)\" dominant-baseline=\"bottom\" text-anchor=\"middle\">0.4</text><line x1=\"34.6177131170876%\" y1=\"33\" x2=\"34.6177131170876%\" y2=\"37\" style=\"stroke:rgb(150,150,150);stroke-width:1\" /><text x=\"34.6177131170876%\" y=\"27\" font-size=\"12px\" fill=\"rgb(120,120,120)\" dominant-baseline=\"bottom\" text-anchor=\"middle\">0.2</text><line x1=\"17.937494990360644%\" y1=\"33\" x2=\"17.937494990360644%\" y2=\"37\" style=\"stroke:rgb(150,150,150);stroke-width:1\" /><text x=\"17.937494990360644%\" y=\"27\" font-size=\"12px\" fill=\"rgb(120,120,120)\" dominant-baseline=\"bottom\" text-anchor=\"middle\">0</text><line x1=\"67.97814937054153%\" y1=\"33\" x2=\"67.97814937054153%\" y2=\"37\" style=\"stroke:rgb(150,150,150);stroke-width:1\" /><text x=\"67.97814937054153%\" y=\"27\" font-size=\"12px\" fill=\"rgb(120,120,120)\" dominant-baseline=\"bottom\" text-anchor=\"middle\">0.6</text><line x1=\"84.65836749726849%\" y1=\"33\" x2=\"84.65836749726849%\" y2=\"37\" style=\"stroke:rgb(150,150,150);stroke-width:1\" /><text x=\"84.65836749726849%\" y=\"27\" font-size=\"12px\" fill=\"rgb(120,120,120)\" dominant-baseline=\"bottom\" text-anchor=\"middle\">0.8</text><line x1=\"33.89762702155137%\" y1=\"33\" x2=\"33.89762702155137%\" y2=\"37\" style=\"stroke:rgb(150,150,150);stroke-width:1\" /><text x=\"33.89762702155137%\" y=\"27\" font-size=\"13px\" style=\"stroke:#ffffff;stroke-width:8px;\" fill=\"rgb(255,255,255)\" dominant-baseline=\"bottom\" text-anchor=\"middle\">0.191366</text><text x=\"33.89762702155137%\" y=\"27\" font-size=\"12px\" fill=\"rgb(120,120,120)\" dominant-baseline=\"bottom\" text-anchor=\"middle\">0.191366</text><text x=\"33.89762702155137%\" y=\"10\" font-size=\"12px\" fill=\"rgb(120,120,120)\" dominant-baseline=\"bottom\" text-anchor=\"middle\">base value</text><line x1=\"31.563321345604912%\" y1=\"33\" x2=\"31.563321345604912%\" y2=\"37\" style=\"stroke:rgb(150,150,150);stroke-width:1\" /><text x=\"31.563321345604912%\" y=\"27\" font-size=\"13px\" style=\"stroke:#ffffff;stroke-width:8px;\" font-weight=\"bold\" fill=\"rgb(255,255,255)\" dominant-baseline=\"bottom\" text-anchor=\"middle\">0.163377</text><text x=\"31.563321345604912%\" y=\"27\" font-size=\"13px\" font-weight=\"bold\" fill=\"rgb(0,0,0)\" dominant-baseline=\"bottom\" text-anchor=\"middle\">0.163377</text><text x=\"31.563321345604912%\" y=\"10\" font-size=\"12px\" fill=\"rgb(120,120,120)\" dominant-baseline=\"bottom\" text-anchor=\"middle\">f<tspan baseline-shift=\"sub\" font-size=\"8px\">insect</tspan>(inputs)</text><rect x=\"22.552702833131%\" width=\"9.010618512473915%\" y=\"40\" height=\"18\" style=\"fill:rgb(255.0, 0.0, 81.08083606031792); stroke-width:0; stroke:rgb(0,0,0)\" /><line x1=\"25.79718079983538%\" x2=\"31.563321345604912%\" y1=\"60\" y2=\"60\" id=\"_fb_djyomznbtzxsvaahijjw_ind_0\" style=\"stroke:rgb(255.0, 0.0, 81.08083606031792);stroke-width:2; opacity: 0\"/><text x=\"28.680251072720147%\" y=\"71\" font-size=\"12px\" id=\"_fs_djyomznbtzxsvaahijjw_ind_0\" fill=\"rgb(255.0, 0.0, 81.08083606031792)\" style=\"opacity: 0\" dominant-baseline=\"middle\" text-anchor=\"middle\">0.069</text><svg x=\"25.79718079983538%\" y=\"40\" height=\"20\" width=\"5.766140545769531%\">  <svg x=\"0\" y=\"0\" width=\"100%\" height=\"100%\">    <text x=\"50%\" y=\"9\" font-size=\"12px\" fill=\"rgb(255,255,255)\" dominant-baseline=\"middle\" text-anchor=\"middle\"></text>  </svg></svg><line x1=\"23.862151870066743%\" x2=\"25.79718079983538%\" y1=\"60\" y2=\"60\" id=\"_fb_djyomznbtzxsvaahijjw_ind_2\" style=\"stroke:rgb(255.0, 0.0, 81.08083606031792);stroke-width:2; opacity: 0\"/><text x=\"24.829666334951064%\" y=\"71\" font-size=\"12px\" id=\"_fs_djyomznbtzxsvaahijjw_ind_2\" fill=\"rgb(255.0, 0.0, 81.08083606031792)\" style=\"opacity: 0\" dominant-baseline=\"middle\" text-anchor=\"middle\">0.023</text><svg x=\"23.862151870066743%\" y=\"40\" height=\"20\" width=\"1.935028929768638%\">  <svg x=\"0\" y=\"0\" width=\"100%\" height=\"100%\">    <text x=\"50%\" y=\"9\" font-size=\"12px\" fill=\"rgb(255,255,255)\" dominant-baseline=\"middle\" text-anchor=\"middle\">love</text>  </svg></svg><line x1=\"22.552702833131%\" x2=\"23.862151870066743%\" y1=\"60\" y2=\"60\" id=\"_fb_djyomznbtzxsvaahijjw_ind_1\" style=\"stroke:rgb(255.0, 0.0, 81.08083606031792);stroke-width:2; opacity: 0\"/><text x=\"23.207427351598874%\" y=\"71\" font-size=\"12px\" id=\"_fs_djyomznbtzxsvaahijjw_ind_1\" fill=\"rgb(255.0, 0.0, 81.08083606031792)\" style=\"opacity: 0\" dominant-baseline=\"middle\" text-anchor=\"middle\">0.016</text><svg x=\"22.552702833131%\" y=\"40\" height=\"20\" width=\"1.3094490369357423%\">  <svg x=\"0\" y=\"0\" width=\"100%\" height=\"100%\">    <text x=\"50%\" y=\"9\" font-size=\"12px\" fill=\"rgb(255,255,255)\" dominant-baseline=\"middle\" text-anchor=\"middle\">I</text>  </svg></svg><g transform=\"translate(0,0)\">  <svg x=\"25.79718079983538%\" y=\"40\" height=\"18\" overflow=\"visible\" width=\"30\">    <path d=\"M 0 -9 l 6 18 L 0 25\" fill=\"none\" style=\"stroke:rgb(255.0, 0.0, 81.08083606031792);stroke-width:2\" />  </svg></g><g transform=\"translate(2,0)\">  <svg x=\"25.79718079983538%\" y=\"40\" height=\"18\" overflow=\"visible\" width=\"30\">    <path d=\"M 0 -9 l 6 18 L 0 25\" fill=\"none\" style=\"stroke:rgb(255.0, 0.0, 81.08083606031792);stroke-width:2\" />  </svg></g><g transform=\"translate(4,0)\">  <svg x=\"25.79718079983538%\" y=\"40\" height=\"18\" overflow=\"visible\" width=\"30\">    <path d=\"M 0 -9 l 6 18 L 0 25\" fill=\"none\" style=\"stroke:rgb(255.0, 0.0, 81.08083606031792);stroke-width:2\" />  </svg></g><g transform=\"translate(6,0)\">  <svg x=\"25.79718079983538%\" y=\"40\" height=\"18\" overflow=\"visible\" width=\"30\">    <path d=\"M 0 -9 l 6 18 L 0 25\" fill=\"none\" style=\"stroke:rgb(255.0, 0.0, 81.08083606031792);stroke-width:2\" />  </svg></g><g transform=\"translate(-8,0)\">  <svg x=\"25.79718079983538%\" y=\"40\" height=\"18\" overflow=\"visible\" width=\"30\">    <path d=\"M 0 -9 l 6 18 L 0 25\" fill=\"none\" style=\"stroke:rgb(255.0, 0.0, 81.08083606031792);stroke-width:2\" />  </svg></g><g transform=\"translate(-6,0)\">  <svg x=\"25.79718079983538%\" y=\"40\" height=\"18\" overflow=\"visible\" width=\"30\">    <path d=\"M 0 -9 l 6 18 L 0 25\" fill=\"none\" style=\"stroke:rgb(255.0, 0.0, 81.08083606031792);stroke-width:2\" />  </svg></g><g transform=\"translate(-4,0)\">  <svg x=\"25.79718079983538%\" y=\"40\" height=\"18\" overflow=\"visible\" width=\"30\">    <path d=\"M 0 -9 l 6 18 L 0 25\" fill=\"none\" style=\"stroke:rgb(255.0, 0.0, 81.08083606031792);stroke-width:2\" />  </svg></g><g transform=\"translate(-2,0)\">  <svg x=\"25.79718079983538%\" y=\"40\" height=\"18\" overflow=\"visible\" width=\"30\">    <path d=\"M 0 -9 l 6 18 L 0 25\" fill=\"none\" style=\"stroke:rgb(255.0, 0.0, 81.08083606031792);stroke-width:2\" />  </svg></g><g transform=\"translate(0,0)\">  <svg x=\"23.862151870066743%\" y=\"40\" height=\"18\" overflow=\"visible\" width=\"30\">    <path d=\"M 0 -9 l 6 18 L 0 25\" fill=\"none\" style=\"stroke:rgb(255.0, 0.0, 81.08083606031792);stroke-width:2\" />  </svg></g><g transform=\"translate(2,0)\">  <svg x=\"23.862151870066743%\" y=\"40\" height=\"18\" overflow=\"visible\" width=\"30\">    <path d=\"M 0 -9 l 6 18 L 0 25\" fill=\"none\" style=\"stroke:rgb(255.0, 0.0, 81.08083606031792);stroke-width:2\" />  </svg></g><g transform=\"translate(4,0)\">  <svg x=\"23.862151870066743%\" y=\"40\" height=\"18\" overflow=\"visible\" width=\"30\">    <path d=\"M 0 -9 l 6 18 L 0 25\" fill=\"none\" style=\"stroke:rgb(255.0, 0.0, 81.08083606031792);stroke-width:2\" />  </svg></g><g transform=\"translate(6,0)\">  <svg x=\"23.862151870066743%\" y=\"40\" height=\"18\" overflow=\"visible\" width=\"30\">    <path d=\"M 0 -9 l 6 18 L 0 25\" fill=\"none\" style=\"stroke:rgb(255.0, 0.0, 81.08083606031792);stroke-width:2\" />  </svg></g><g transform=\"translate(-8,0)\">  <svg x=\"23.862151870066743%\" y=\"40\" height=\"18\" overflow=\"visible\" width=\"30\">    <path d=\"M 0 -9 l 6 18 L 0 25\" fill=\"none\" style=\"stroke:rgb(255.0, 0.0, 81.08083606031792);stroke-width:2\" />  </svg></g><g transform=\"translate(-6,0)\">  <svg x=\"23.862151870066743%\" y=\"40\" height=\"18\" overflow=\"visible\" width=\"30\">    <path d=\"M 0 -9 l 6 18 L 0 25\" fill=\"none\" style=\"stroke:rgb(255.0, 0.0, 81.08083606031792);stroke-width:2\" />  </svg></g><g transform=\"translate(-4,0)\">  <svg x=\"23.862151870066743%\" y=\"40\" height=\"18\" overflow=\"visible\" width=\"30\">    <path d=\"M 0 -9 l 6 18 L 0 25\" fill=\"none\" style=\"stroke:rgb(255.0, 0.0, 81.08083606031792);stroke-width:2\" />  </svg></g><g transform=\"translate(-2,0)\">  <svg x=\"23.862151870066743%\" y=\"40\" height=\"18\" overflow=\"visible\" width=\"30\">    <path d=\"M 0 -9 l 6 18 L 0 25\" fill=\"none\" style=\"stroke:rgb(255.0, 0.0, 81.08083606031792);stroke-width:2\" />  </svg></g><rect transform=\"translate(-8,0)\" x=\"31.563321345604912%\" y=\"40\" width=\"8\" height=\"18\" style=\"fill:rgb(255.0, 0.0, 81.08083606031792)\"/><g transform=\"translate(-11.5,0)\">  <svg x=\"22.552702833131%\" y=\"40\" height=\"18\" overflow=\"visible\" width=\"30\">    <path d=\"M 10 -9 l 6 18 L 10 25 L 0 25 L 0 -9\" fill=\"#ffffff\" style=\"stroke:rgb(255,255,255);stroke-width:2\" />  </svg></g><g transform=\"translate(-1.5,0)\">  <svg x=\"31.563321345604912%\" y=\"40\" height=\"18\" overflow=\"visible\" width=\"30\">    <path d=\"M 0 -9 l 6 18 L 0 25\" fill=\"none\" style=\"stroke:rgb(255, 195, 213);stroke-width:2\" />  </svg></g><rect x=\"25.79718079983538%\" y=\"40\" height=\"20\" width=\"5.766140545769531%\"      onmouseover=\"document.getElementById('_tp_djyomznbtzxsvaahijjw_ind_0').style.textDecoration = 'underline';document.getElementById('_fs_djyomznbtzxsvaahijjw_ind_0').style.opacity = 1;document.getElementById('_fb_djyomznbtzxsvaahijjw_ind_0').style.opacity = 1;\"      onmouseout=\"document.getElementById('_tp_djyomznbtzxsvaahijjw_ind_0').style.textDecoration = 'none';document.getElementById('_fs_djyomznbtzxsvaahijjw_ind_0').style.opacity = 0;document.getElementById('_fb_djyomznbtzxsvaahijjw_ind_0').style.opacity = 0;\" style=\"fill:rgb(0,0,0,0)\" /><g transform=\"translate(-1.5,0)\">  <svg x=\"25.79718079983538%\" y=\"40\" height=\"18\" overflow=\"visible\" width=\"30\">    <path d=\"M 0 -9 l 6 18 L 0 25\" fill=\"none\" style=\"stroke:rgb(255, 195, 213);stroke-width:2\" />  </svg></g><rect x=\"23.862151870066743%\" y=\"40\" height=\"20\" width=\"1.935028929768638%\"      onmouseover=\"document.getElementById('_tp_djyomznbtzxsvaahijjw_ind_2').style.textDecoration = 'underline';document.getElementById('_fs_djyomznbtzxsvaahijjw_ind_2').style.opacity = 1;document.getElementById('_fb_djyomznbtzxsvaahijjw_ind_2').style.opacity = 1;\"      onmouseout=\"document.getElementById('_tp_djyomznbtzxsvaahijjw_ind_2').style.textDecoration = 'none';document.getElementById('_fs_djyomznbtzxsvaahijjw_ind_2').style.opacity = 0;document.getElementById('_fb_djyomznbtzxsvaahijjw_ind_2').style.opacity = 0;\" style=\"fill:rgb(0,0,0,0)\" /><rect x=\"22.552702833131%\" y=\"40\" height=\"20\" width=\"1.3094490369357423%\"      onmouseover=\"document.getElementById('_tp_djyomznbtzxsvaahijjw_ind_1').style.textDecoration = 'underline';document.getElementById('_fs_djyomznbtzxsvaahijjw_ind_1').style.opacity = 1;document.getElementById('_fb_djyomznbtzxsvaahijjw_ind_1').style.opacity = 1;\"      onmouseout=\"document.getElementById('_tp_djyomznbtzxsvaahijjw_ind_1').style.textDecoration = 'none';document.getElementById('_fs_djyomznbtzxsvaahijjw_ind_1').style.opacity = 0;document.getElementById('_fb_djyomznbtzxsvaahijjw_ind_1').style.opacity = 0;\" style=\"fill:rgb(0,0,0,0)\" /><rect x=\"31.563321345604912%\" width=\"11.34492418842037%\" y=\"40\" height=\"18\" style=\"fill:rgb(0.0, 138.56128015770727, 250.76166088685727); stroke-width:0; stroke:rgb(0,0,0)\" /><line x1=\"31.563321345604912%\" x2=\"39.543387361200274%\" y1=\"60\" y2=\"60\" id=\"_fb_djyomznbtzxsvaahijjw_ind_6\" style=\"stroke:rgb(0.0, 138.56128015770727, 250.76166088685727);stroke-width:2; opacity: 0\"/><text x=\"35.5533543534026%\" y=\"71\" font-size=\"12px\" fill=\"rgb(0.0, 138.56128015770727, 250.76166088685727)\" id=\"_fs_djyomznbtzxsvaahijjw_ind_6\" style=\"opacity: 0\" dominant-baseline=\"middle\" text-anchor=\"middle\">-0.096</text><svg x=\"31.563321345604912%\" y=\"40\" height=\"20\" width=\"7.980066015595362%\">  <svg x=\"0\" y=\"0\" width=\"100%\" height=\"100%\">    <text x=\"50%\" y=\"9\" font-size=\"12px\" fill=\"rgb(255,255,255)\" dominant-baseline=\"middle\" text-anchor=\"middle\"></text>  </svg></svg><line x1=\"39.543387361200274%\" x2=\"41.54741583844726%\" y1=\"60\" y2=\"60\" id=\"_fb_djyomznbtzxsvaahijjw_ind_3\" style=\"stroke:rgb(0.0, 138.56128015770727, 250.76166088685727);stroke-width:2; opacity: 0\"/><text x=\"40.54540159982376%\" y=\"71\" font-size=\"12px\" fill=\"rgb(0.0, 138.56128015770727, 250.76166088685727)\" id=\"_fs_djyomznbtzxsvaahijjw_ind_3\" style=\"opacity: 0\" dominant-baseline=\"middle\" text-anchor=\"middle\">-0.024</text><svg x=\"39.543387361200274%\" y=\"40\" height=\"20\" width=\"2.004028477246983%\">  <svg x=\"0\" y=\"0\" width=\"100%\" height=\"100%\">    <text x=\"50%\" y=\"9\" font-size=\"12px\" fill=\"rgb(255,255,255)\" dominant-baseline=\"middle\" text-anchor=\"middle\">playing</text>  </svg></svg><line x1=\"41.54741583844726%\" x2=\"42.66349691607019%\" y1=\"60\" y2=\"60\" id=\"_fb_djyomznbtzxsvaahijjw_ind_5\" style=\"stroke:rgb(0.0, 138.56128015770727, 250.76166088685727);stroke-width:2; opacity: 0\"/><text x=\"42.10545637725872%\" y=\"71\" font-size=\"12px\" fill=\"rgb(0.0, 138.56128015770727, 250.76166088685727)\" id=\"_fs_djyomznbtzxsvaahijjw_ind_5\" style=\"opacity: 0\" dominant-baseline=\"middle\" text-anchor=\"middle\">-0.013</text><svg x=\"41.54741583844726%\" y=\"40\" height=\"20\" width=\"1.1160810776229297%\">  <svg x=\"0\" y=\"0\" width=\"100%\" height=\"100%\">    <text x=\"50%\" y=\"9\" font-size=\"12px\" fill=\"rgb(255,255,255)\" dominant-baseline=\"middle\" text-anchor=\"middle\">!</text>  </svg></svg><line x1=\"42.66349691607019%\" x2=\"42.90824553402529%\" y1=\"60\" y2=\"60\" id=\"_fb_djyomznbtzxsvaahijjw_ind_4\" style=\"stroke:rgb(0.0, 138.56128015770727, 250.76166088685727);stroke-width:2; opacity: 0\"/><text x=\"42.78587122504774%\" y=\"71\" font-size=\"12px\" fill=\"rgb(0.0, 138.56128015770727, 250.76166088685727)\" id=\"_fs_djyomznbtzxsvaahijjw_ind_4\" style=\"opacity: 0\" dominant-baseline=\"middle\" text-anchor=\"middle\">-0.003</text><svg x=\"42.66349691607019%\" y=\"40\" height=\"20\" width=\"0.2447486179551035%\">  <svg x=\"0\" y=\"0\" width=\"100%\" height=\"100%\">    <text x=\"50%\" y=\"9\" font-size=\"12px\" fill=\"rgb(255,255,255)\" dominant-baseline=\"middle\" text-anchor=\"middle\">cricket</text>  </svg></svg><g transform=\"translate(-8,0)\">  <svg x=\"39.543387361200274%\" y=\"40\" height=\"18\" overflow=\"visible\" width=\"30\">    <path d=\"M 8 -9 l -6 18 L 8 25\" fill=\"none\" style=\"stroke:rgb(0.0, 138.56128015770727, 250.76166088685727);stroke-width:2\" />  </svg></g><g transform=\"translate(-10,0)\">  <svg x=\"39.543387361200274%\" y=\"40\" height=\"18\" overflow=\"visible\" width=\"30\">    <path d=\"M 8 -9 l -6 18 L 8 25\" fill=\"none\" style=\"stroke:rgb(0.0, 138.56128015770727, 250.76166088685727);stroke-width:2\" />  </svg></g><g transform=\"translate(-12,0)\">  <svg x=\"39.543387361200274%\" y=\"40\" height=\"18\" overflow=\"visible\" width=\"30\">    <path d=\"M 8 -9 l -6 18 L 8 25\" fill=\"none\" style=\"stroke:rgb(0.0, 138.56128015770727, 250.76166088685727);stroke-width:2\" />  </svg></g><g transform=\"translate(-14,0)\">  <svg x=\"39.543387361200274%\" y=\"40\" height=\"18\" overflow=\"visible\" width=\"30\">    <path d=\"M 8 -9 l -6 18 L 8 25\" fill=\"none\" style=\"stroke:rgb(0.0, 138.56128015770727, 250.76166088685727);stroke-width:2\" />  </svg></g><g transform=\"translate(2,0)\">  <svg x=\"39.543387361200274%\" y=\"40\" height=\"18\" overflow=\"visible\" width=\"30\">    <path d=\"M 8 -9 l -6 18 L 8 25\" fill=\"none\" style=\"stroke:rgb(0.0, 138.56128015770727, 250.76166088685727);stroke-width:2\" />  </svg></g><g transform=\"translate(0,0)\">  <svg x=\"39.543387361200274%\" y=\"40\" height=\"18\" overflow=\"visible\" width=\"30\">    <path d=\"M 8 -9 l -6 18 L 8 25\" fill=\"none\" style=\"stroke:rgb(0.0, 138.56128015770727, 250.76166088685727);stroke-width:2\" />  </svg></g><g transform=\"translate(-2,0)\">  <svg x=\"39.543387361200274%\" y=\"40\" height=\"18\" overflow=\"visible\" width=\"30\">    <path d=\"M 8 -9 l -6 18 L 8 25\" fill=\"none\" style=\"stroke:rgb(0.0, 138.56128015770727, 250.76166088685727);stroke-width:2\" />  </svg></g><g transform=\"translate(-4,0)\">  <svg x=\"39.543387361200274%\" y=\"40\" height=\"18\" overflow=\"visible\" width=\"30\">    <path d=\"M 8 -9 l -6 18 L 8 25\" fill=\"none\" style=\"stroke:rgb(0.0, 138.56128015770727, 250.76166088685727);stroke-width:2\" />  </svg></g><g transform=\"translate(-8,0)\">  <svg x=\"41.54741583844726%\" y=\"40\" height=\"18\" overflow=\"visible\" width=\"30\">    <path d=\"M 8 -9 l -6 18 L 8 25\" fill=\"none\" style=\"stroke:rgb(0.0, 138.56128015770727, 250.76166088685727);stroke-width:2\" />  </svg></g><g transform=\"translate(-10,0)\">  <svg x=\"41.54741583844726%\" y=\"40\" height=\"18\" overflow=\"visible\" width=\"30\">    <path d=\"M 8 -9 l -6 18 L 8 25\" fill=\"none\" style=\"stroke:rgb(0.0, 138.56128015770727, 250.76166088685727);stroke-width:2\" />  </svg></g><g transform=\"translate(-12,0)\">  <svg x=\"41.54741583844726%\" y=\"40\" height=\"18\" overflow=\"visible\" width=\"30\">    <path d=\"M 8 -9 l -6 18 L 8 25\" fill=\"none\" style=\"stroke:rgb(0.0, 138.56128015770727, 250.76166088685727);stroke-width:2\" />  </svg></g><g transform=\"translate(-14,0)\">  <svg x=\"41.54741583844726%\" y=\"40\" height=\"18\" overflow=\"visible\" width=\"30\">    <path d=\"M 8 -9 l -6 18 L 8 25\" fill=\"none\" style=\"stroke:rgb(0.0, 138.56128015770727, 250.76166088685727);stroke-width:2\" />  </svg></g><g transform=\"translate(2,0)\">  <svg x=\"41.54741583844726%\" y=\"40\" height=\"18\" overflow=\"visible\" width=\"30\">    <path d=\"M 8 -9 l -6 18 L 8 25\" fill=\"none\" style=\"stroke:rgb(0.0, 138.56128015770727, 250.76166088685727);stroke-width:2\" />  </svg></g><g transform=\"translate(0,0)\">  <svg x=\"41.54741583844726%\" y=\"40\" height=\"18\" overflow=\"visible\" width=\"30\">    <path d=\"M 8 -9 l -6 18 L 8 25\" fill=\"none\" style=\"stroke:rgb(0.0, 138.56128015770727, 250.76166088685727);stroke-width:2\" />  </svg></g><g transform=\"translate(-2,0)\">  <svg x=\"41.54741583844726%\" y=\"40\" height=\"18\" overflow=\"visible\" width=\"30\">    <path d=\"M 8 -9 l -6 18 L 8 25\" fill=\"none\" style=\"stroke:rgb(0.0, 138.56128015770727, 250.76166088685727);stroke-width:2\" />  </svg></g><g transform=\"translate(-4,0)\">  <svg x=\"41.54741583844726%\" y=\"40\" height=\"18\" overflow=\"visible\" width=\"30\">    <path d=\"M 8 -9 l -6 18 L 8 25\" fill=\"none\" style=\"stroke:rgb(0.0, 138.56128015770727, 250.76166088685727);stroke-width:2\" />  </svg></g><g transform=\"translate(-8,0)\">  <svg x=\"42.66349691607019%\" y=\"40\" height=\"18\" overflow=\"visible\" width=\"30\">    <path d=\"M 8 -9 l -6 18 L 8 25\" fill=\"none\" style=\"stroke:rgb(0.0, 138.56128015770727, 250.76166088685727);stroke-width:2\" />  </svg></g><g transform=\"translate(-10,0)\">  <svg x=\"42.66349691607019%\" y=\"40\" height=\"18\" overflow=\"visible\" width=\"30\">    <path d=\"M 8 -9 l -6 18 L 8 25\" fill=\"none\" style=\"stroke:rgb(0.0, 138.56128015770727, 250.76166088685727);stroke-width:2\" />  </svg></g><g transform=\"translate(-12,0)\">  <svg x=\"42.66349691607019%\" y=\"40\" height=\"18\" overflow=\"visible\" width=\"30\">    <path d=\"M 8 -9 l -6 18 L 8 25\" fill=\"none\" style=\"stroke:rgb(0.0, 138.56128015770727, 250.76166088685727);stroke-width:2\" />  </svg></g><g transform=\"translate(-14,0)\">  <svg x=\"42.66349691607019%\" y=\"40\" height=\"18\" overflow=\"visible\" width=\"30\">    <path d=\"M 8 -9 l -6 18 L 8 25\" fill=\"none\" style=\"stroke:rgb(0.0, 138.56128015770727, 250.76166088685727);stroke-width:2\" />  </svg></g><g transform=\"translate(2,0)\">  <svg x=\"42.66349691607019%\" y=\"40\" height=\"18\" overflow=\"visible\" width=\"30\">    <path d=\"M 8 -9 l -6 18 L 8 25\" fill=\"none\" style=\"stroke:rgb(0.0, 138.56128015770727, 250.76166088685727);stroke-width:2\" />  </svg></g><g transform=\"translate(0,0)\">  <svg x=\"42.66349691607019%\" y=\"40\" height=\"18\" overflow=\"visible\" width=\"30\">    <path d=\"M 8 -9 l -6 18 L 8 25\" fill=\"none\" style=\"stroke:rgb(0.0, 138.56128015770727, 250.76166088685727);stroke-width:2\" />  </svg></g><g transform=\"translate(-2,0)\">  <svg x=\"42.66349691607019%\" y=\"40\" height=\"18\" overflow=\"visible\" width=\"30\">    <path d=\"M 8 -9 l -6 18 L 8 25\" fill=\"none\" style=\"stroke:rgb(0.0, 138.56128015770727, 250.76166088685727);stroke-width:2\" />  </svg></g><g transform=\"translate(-4,0)\">  <svg x=\"42.66349691607019%\" y=\"40\" height=\"18\" overflow=\"visible\" width=\"30\">    <path d=\"M 8 -9 l -6 18 L 8 25\" fill=\"none\" style=\"stroke:rgb(0.0, 138.56128015770727, 250.76166088685727);stroke-width:2\" />  </svg></g><rect transform=\"translate(0,0)\" x=\"31.563321345604912%\" y=\"40\" width=\"8\" height=\"18\" style=\"fill:rgb(0.0, 138.56128015770727, 250.76166088685727)\"/><g transform=\"translate(-6.0,0)\">  <svg x=\"42.90824553402529%\" y=\"40\" height=\"18\" overflow=\"visible\" width=\"30\">    <path d=\"M 8 -9 l -6 18 L 8 25 L 20 25 L 20 -9\" fill=\"#ffffff\" style=\"stroke:rgb(255,255,255);stroke-width:2\" />  </svg></g><g transform=\"translate(-6.0,0)\">  <svg x=\"39.543387361200274%\" y=\"40\" height=\"18\" overflow=\"visible\" width=\"30\">    <path d=\"M 8 -9 l -6 18 L 8 25\" fill=\"none\" style=\"stroke:rgb(208, 230, 250);stroke-width:2\" />  </svg></g><rect x=\"31.563321345604912%\" y=\"40\" height=\"20\" width=\"7.980066015595362%\"      onmouseover=\"document.getElementById('_tp_djyomznbtzxsvaahijjw_ind_6').style.textDecoration = 'underline';document.getElementById('_fs_djyomznbtzxsvaahijjw_ind_6').style.opacity = 1;document.getElementById('_fb_djyomznbtzxsvaahijjw_ind_6').style.opacity = 1;\"      onmouseout=\"document.getElementById('_tp_djyomznbtzxsvaahijjw_ind_6').style.textDecoration = 'none';document.getElementById('_fs_djyomznbtzxsvaahijjw_ind_6').style.opacity = 0;document.getElementById('_fb_djyomznbtzxsvaahijjw_ind_6').style.opacity = 0;\" style=\"fill:rgb(0,0,0,0)\" /><g transform=\"translate(-6.0,0)\">  <svg x=\"41.54741583844726%\" y=\"40\" height=\"18\" overflow=\"visible\" width=\"30\">    <path d=\"M 8 -9 l -6 18 L 8 25\" fill=\"none\" style=\"stroke:rgb(208, 230, 250);stroke-width:2\" />  </svg></g><rect x=\"39.543387361200274%\" y=\"40\" height=\"20\" width=\"2.004028477246983%\"      onmouseover=\"document.getElementById('_tp_djyomznbtzxsvaahijjw_ind_3').style.textDecoration = 'underline';document.getElementById('_fs_djyomznbtzxsvaahijjw_ind_3').style.opacity = 1;document.getElementById('_fb_djyomznbtzxsvaahijjw_ind_3').style.opacity = 1;\"      onmouseout=\"document.getElementById('_tp_djyomznbtzxsvaahijjw_ind_3').style.textDecoration = 'none';document.getElementById('_fs_djyomznbtzxsvaahijjw_ind_3').style.opacity = 0;document.getElementById('_fb_djyomznbtzxsvaahijjw_ind_3').style.opacity = 0;\" style=\"fill:rgb(0,0,0,0)\" /><g transform=\"translate(-6.0,0)\">  <svg x=\"42.66349691607019%\" y=\"40\" height=\"18\" overflow=\"visible\" width=\"30\">    <path d=\"M 8 -9 l -6 18 L 8 25\" fill=\"none\" style=\"stroke:rgb(208, 230, 250);stroke-width:2\" />  </svg></g><rect x=\"41.54741583844726%\" y=\"40\" height=\"20\" width=\"1.1160810776229297%\"      onmouseover=\"document.getElementById('_tp_djyomznbtzxsvaahijjw_ind_5').style.textDecoration = 'underline';document.getElementById('_fs_djyomznbtzxsvaahijjw_ind_5').style.opacity = 1;document.getElementById('_fb_djyomznbtzxsvaahijjw_ind_5').style.opacity = 1;\"      onmouseout=\"document.getElementById('_tp_djyomznbtzxsvaahijjw_ind_5').style.textDecoration = 'none';document.getElementById('_fs_djyomznbtzxsvaahijjw_ind_5').style.opacity = 0;document.getElementById('_fb_djyomznbtzxsvaahijjw_ind_5').style.opacity = 0;\" style=\"fill:rgb(0,0,0,0)\" /><rect x=\"42.66349691607019%\" y=\"40\" height=\"20\" width=\"0.2447486179551035%\"      onmouseover=\"document.getElementById('_tp_djyomznbtzxsvaahijjw_ind_4').style.textDecoration = 'underline';document.getElementById('_fs_djyomznbtzxsvaahijjw_ind_4').style.opacity = 1;document.getElementById('_fb_djyomznbtzxsvaahijjw_ind_4').style.opacity = 1;\"      onmouseout=\"document.getElementById('_tp_djyomznbtzxsvaahijjw_ind_4').style.textDecoration = 'none';document.getElementById('_fs_djyomznbtzxsvaahijjw_ind_4').style.opacity = 0;document.getElementById('_fb_djyomznbtzxsvaahijjw_ind_4').style.opacity = 0;\" style=\"fill:rgb(0,0,0,0)\" /></svg><div align='center'><div style=\"color: rgb(120,120,120); font-size: 12px; margin-top: -15px;\">inputs</div><div style='display: inline; text-align: center;'\n",
       "    ><div style='display: none; color: #999; padding-top: 0px; font-size: 12px;'>0.069</div\n",
       "        ><div id='_tp_djyomznbtzxsvaahijjw_ind_0'\n",
       "            style='display: inline; background: rgba(255.0, 13.0, 87.0, 0.1959595959595959); border-radius: 3px; padding: 0px'\n",
       "            onclick=\"\n",
       "            if (this.previousSibling.style.display == 'none') {\n",
       "                this.previousSibling.style.display = 'block';\n",
       "                this.parentNode.style.display = 'inline-block';\n",
       "            } else {\n",
       "                this.previousSibling.style.display = 'none';\n",
       "                this.parentNode.style.display = 'inline';\n",
       "            }\"\n",
       "            onmouseover=\"document.getElementById('_fb_djyomznbtzxsvaahijjw_ind_0').style.opacity = 1; document.getElementById('_fs_djyomznbtzxsvaahijjw_ind_0').style.opacity = 1;\"\n",
       "            onmouseout=\"document.getElementById('_fb_djyomznbtzxsvaahijjw_ind_0').style.opacity = 0; document.getElementById('_fs_djyomznbtzxsvaahijjw_ind_0').style.opacity = 0;\"\n",
       "        ></div></div><div style='display: inline; text-align: center;'\n",
       "    ><div style='display: none; color: #999; padding-top: 0px; font-size: 12px;'>0.016</div\n",
       "        ><div id='_tp_djyomznbtzxsvaahijjw_ind_1'\n",
       "            style='display: inline; background: rgba(255.0, 13.0, 87.0, 0.03830461477520289); border-radius: 3px; padding: 0px'\n",
       "            onclick=\"\n",
       "            if (this.previousSibling.style.display == 'none') {\n",
       "                this.previousSibling.style.display = 'block';\n",
       "                this.parentNode.style.display = 'inline-block';\n",
       "            } else {\n",
       "                this.previousSibling.style.display = 'none';\n",
       "                this.parentNode.style.display = 'inline';\n",
       "            }\"\n",
       "            onmouseover=\"document.getElementById('_fb_djyomznbtzxsvaahijjw_ind_1').style.opacity = 1; document.getElementById('_fs_djyomznbtzxsvaahijjw_ind_1').style.opacity = 1;\"\n",
       "            onmouseout=\"document.getElementById('_fb_djyomznbtzxsvaahijjw_ind_1').style.opacity = 0; document.getElementById('_fs_djyomznbtzxsvaahijjw_ind_1').style.opacity = 0;\"\n",
       "        >I </div></div><div style='display: inline; text-align: center;'\n",
       "    ><div style='display: none; color: #999; padding-top: 0px; font-size: 12px;'>0.023</div\n",
       "        ><div id='_tp_djyomznbtzxsvaahijjw_ind_2'\n",
       "            style='display: inline; background: rgba(255.0, 13.0, 87.0, 0.06195286195286207); border-radius: 3px; padding: 0px'\n",
       "            onclick=\"\n",
       "            if (this.previousSibling.style.display == 'none') {\n",
       "                this.previousSibling.style.display = 'block';\n",
       "                this.parentNode.style.display = 'inline-block';\n",
       "            } else {\n",
       "                this.previousSibling.style.display = 'none';\n",
       "                this.parentNode.style.display = 'inline';\n",
       "            }\"\n",
       "            onmouseover=\"document.getElementById('_fb_djyomznbtzxsvaahijjw_ind_2').style.opacity = 1; document.getElementById('_fs_djyomznbtzxsvaahijjw_ind_2').style.opacity = 1;\"\n",
       "            onmouseout=\"document.getElementById('_fb_djyomznbtzxsvaahijjw_ind_2').style.opacity = 0; document.getElementById('_fs_djyomznbtzxsvaahijjw_ind_2').style.opacity = 0;\"\n",
       "        >love </div></div><div style='display: inline; text-align: center;'\n",
       "    ><div style='display: none; color: #999; padding-top: 0px; font-size: 12px;'>-0.024</div\n",
       "        ><div id='_tp_djyomznbtzxsvaahijjw_ind_3'\n",
       "            style='display: inline; background: rgba(30.0, 136.0, 229.0, 0.06983561101208147); border-radius: 3px; padding: 0px'\n",
       "            onclick=\"\n",
       "            if (this.previousSibling.style.display == 'none') {\n",
       "                this.previousSibling.style.display = 'block';\n",
       "                this.parentNode.style.display = 'inline-block';\n",
       "            } else {\n",
       "                this.previousSibling.style.display = 'none';\n",
       "                this.parentNode.style.display = 'inline';\n",
       "            }\"\n",
       "            onmouseover=\"document.getElementById('_fb_djyomznbtzxsvaahijjw_ind_3').style.opacity = 1; document.getElementById('_fs_djyomznbtzxsvaahijjw_ind_3').style.opacity = 1;\"\n",
       "            onmouseout=\"document.getElementById('_fb_djyomznbtzxsvaahijjw_ind_3').style.opacity = 0; document.getElementById('_fs_djyomznbtzxsvaahijjw_ind_3').style.opacity = 0;\"\n",
       "        >playing </div></div><div style='display: inline; text-align: center;'\n",
       "    ><div style='display: none; color: #999; padding-top: 0px; font-size: 12px;'>-0.003</div\n",
       "        ><div id='_tp_djyomznbtzxsvaahijjw_ind_4'\n",
       "            style='display: inline; background: rgba(30.0, 136.0, 229.0, 0.006773618538324436); border-radius: 3px; padding: 0px'\n",
       "            onclick=\"\n",
       "            if (this.previousSibling.style.display == 'none') {\n",
       "                this.previousSibling.style.display = 'block';\n",
       "                this.parentNode.style.display = 'inline-block';\n",
       "            } else {\n",
       "                this.previousSibling.style.display = 'none';\n",
       "                this.parentNode.style.display = 'inline';\n",
       "            }\"\n",
       "            onmouseover=\"document.getElementById('_fb_djyomznbtzxsvaahijjw_ind_4').style.opacity = 1; document.getElementById('_fs_djyomznbtzxsvaahijjw_ind_4').style.opacity = 1;\"\n",
       "            onmouseout=\"document.getElementById('_fb_djyomznbtzxsvaahijjw_ind_4').style.opacity = 0; document.getElementById('_fs_djyomznbtzxsvaahijjw_ind_4').style.opacity = 0;\"\n",
       "        >cricket</div></div><div style='display: inline; text-align: center;'\n",
       "    ><div style='display: none; color: #999; padding-top: 0px; font-size: 12px;'>-0.013</div\n",
       "        ><div id='_tp_djyomznbtzxsvaahijjw_ind_5'\n",
       "            style='display: inline; background: rgba(30.0, 136.0, 229.0, 0.03830461477520309); border-radius: 3px; padding: 0px'\n",
       "            onclick=\"\n",
       "            if (this.previousSibling.style.display == 'none') {\n",
       "                this.previousSibling.style.display = 'block';\n",
       "                this.parentNode.style.display = 'inline-block';\n",
       "            } else {\n",
       "                this.previousSibling.style.display = 'none';\n",
       "                this.parentNode.style.display = 'inline';\n",
       "            }\"\n",
       "            onmouseover=\"document.getElementById('_fb_djyomznbtzxsvaahijjw_ind_5').style.opacity = 1; document.getElementById('_fs_djyomznbtzxsvaahijjw_ind_5').style.opacity = 1;\"\n",
       "            onmouseout=\"document.getElementById('_fb_djyomznbtzxsvaahijjw_ind_5').style.opacity = 0; document.getElementById('_fs_djyomznbtzxsvaahijjw_ind_5').style.opacity = 0;\"\n",
       "        >!</div></div><div style='display: inline; text-align: center;'\n",
       "    ><div style='display: none; color: #999; padding-top: 0px; font-size: 12px;'>-0.096</div\n",
       "        ><div id='_tp_djyomznbtzxsvaahijjw_ind_6'\n",
       "            style='display: inline; background: rgba(30.0, 136.0, 229.0, 0.27478708655179246); border-radius: 3px; padding: 0px'\n",
       "            onclick=\"\n",
       "            if (this.previousSibling.style.display == 'none') {\n",
       "                this.previousSibling.style.display = 'block';\n",
       "                this.parentNode.style.display = 'inline-block';\n",
       "            } else {\n",
       "                this.previousSibling.style.display = 'none';\n",
       "                this.parentNode.style.display = 'inline';\n",
       "            }\"\n",
       "            onmouseover=\"document.getElementById('_fb_djyomznbtzxsvaahijjw_ind_6').style.opacity = 1; document.getElementById('_fs_djyomznbtzxsvaahijjw_ind_6').style.opacity = 1;\"\n",
       "            onmouseout=\"document.getElementById('_fb_djyomznbtzxsvaahijjw_ind_6').style.opacity = 0; document.getElementById('_fs_djyomznbtzxsvaahijjw_ind_6').style.opacity = 0;\"\n",
       "        ></div></div></div></div><div id='_tp_yijyrxhfyoeyusubhaij_output_0_zoom' style='display: none;'><svg width=\"100%\" height=\"80px\"><line x1=\"0\" y1=\"33\" x2=\"100%\" y2=\"33\" style=\"stroke:rgb(150,150,150);stroke-width:1\" /><line x1=\"50.8974488323552%\" y1=\"33\" x2=\"50.8974488323552%\" y2=\"37\" style=\"stroke:rgb(150,150,150);stroke-width:1\" /><text x=\"50.8974488323552%\" y=\"27\" font-size=\"12px\" fill=\"rgb(120,120,120)\" dominant-baseline=\"bottom\" text-anchor=\"middle\">0.18</text><line x1=\"37.24005683655132%\" y1=\"33\" x2=\"37.24005683655132%\" y2=\"37\" style=\"stroke:rgb(150,150,150);stroke-width:1\" /><text x=\"37.24005683655132%\" y=\"27\" font-size=\"12px\" fill=\"rgb(120,120,120)\" dominant-baseline=\"bottom\" text-anchor=\"middle\">0.14</text><line x1=\"23.582664840747437%\" y1=\"33\" x2=\"23.582664840747437%\" y2=\"37\" style=\"stroke:rgb(150,150,150);stroke-width:1\" /><text x=\"23.582664840747437%\" y=\"27\" font-size=\"12px\" fill=\"rgb(120,120,120)\" dominant-baseline=\"bottom\" text-anchor=\"middle\">0.1</text><line x1=\"9.925272844943558%\" y1=\"33\" x2=\"9.925272844943558%\" y2=\"37\" style=\"stroke:rgb(150,150,150);stroke-width:1\" /><text x=\"9.925272844943558%\" y=\"27\" font-size=\"12px\" fill=\"rgb(120,120,120)\" dominant-baseline=\"bottom\" text-anchor=\"middle\">0.06</text><line x1=\"64.55484082815909%\" y1=\"33\" x2=\"64.55484082815909%\" y2=\"37\" style=\"stroke:rgb(150,150,150);stroke-width:1\" /><text x=\"64.55484082815909%\" y=\"27\" font-size=\"12px\" fill=\"rgb(120,120,120)\" dominant-baseline=\"bottom\" text-anchor=\"middle\">0.22</text><line x1=\"78.21223282396296%\" y1=\"33\" x2=\"78.21223282396296%\" y2=\"37\" style=\"stroke:rgb(150,150,150);stroke-width:1\" /><text x=\"78.21223282396296%\" y=\"27\" font-size=\"12px\" fill=\"rgb(120,120,120)\" dominant-baseline=\"bottom\" text-anchor=\"middle\">0.26</text><line x1=\"91.86962481976684%\" y1=\"33\" x2=\"91.86962481976684%\" y2=\"37\" style=\"stroke:rgb(150,150,150);stroke-width:1\" /><text x=\"91.86962481976684%\" y=\"27\" font-size=\"12px\" fill=\"rgb(120,120,120)\" dominant-baseline=\"bottom\" text-anchor=\"middle\">0.3</text><line x1=\"54.77819235063452%\" y1=\"33\" x2=\"54.77819235063452%\" y2=\"37\" style=\"stroke:rgb(150,150,150);stroke-width:1\" /><text x=\"54.77819235063452%\" y=\"27\" font-size=\"13px\" style=\"stroke:#ffffff;stroke-width:8px;\" fill=\"rgb(255,255,255)\" dominant-baseline=\"bottom\" text-anchor=\"middle\">0.191366</text><text x=\"54.77819235063452%\" y=\"27\" font-size=\"12px\" fill=\"rgb(120,120,120)\" dominant-baseline=\"bottom\" text-anchor=\"middle\">0.191366</text><text x=\"54.77819235063452%\" y=\"10\" font-size=\"12px\" fill=\"rgb(120,120,120)\" dominant-baseline=\"bottom\" text-anchor=\"middle\">base value</text><line x1=\"45.22180423501748%\" y1=\"33\" x2=\"45.22180423501748%\" y2=\"37\" style=\"stroke:rgb(150,150,150);stroke-width:1\" /><text x=\"45.22180423501748%\" y=\"27\" font-size=\"13px\" style=\"stroke:#ffffff;stroke-width:8px;\" font-weight=\"bold\" fill=\"rgb(255,255,255)\" dominant-baseline=\"bottom\" text-anchor=\"middle\">0.163377</text><text x=\"45.22180423501748%\" y=\"27\" font-size=\"13px\" font-weight=\"bold\" fill=\"rgb(0,0,0)\" dominant-baseline=\"bottom\" text-anchor=\"middle\">0.163377</text><text x=\"45.22180423501748%\" y=\"10\" font-size=\"12px\" fill=\"rgb(120,120,120)\" dominant-baseline=\"bottom\" text-anchor=\"middle\">f<tspan baseline-shift=\"sub\" font-size=\"8px\">insect</tspan>(inputs)</text><rect x=\"8.333333048804334%\" width=\"36.888471186213145%\" y=\"40\" height=\"18\" style=\"fill:rgb(255.0, 0.0, 81.08083606031792); stroke-width:0; stroke:rgb(0,0,0)\" /><line x1=\"21.615865410305698%\" x2=\"45.22180423501748%\" y1=\"60\" y2=\"60\" id=\"_fb_swlqpznuxoxqnovcedlr_ind_0\" style=\"stroke:rgb(255.0, 0.0, 81.08083606031792);stroke-width:2; opacity: 0\"/><text x=\"33.41883482266159%\" y=\"71\" font-size=\"12px\" id=\"_fs_swlqpznuxoxqnovcedlr_ind_0\" fill=\"rgb(255.0, 0.0, 81.08083606031792)\" style=\"opacity: 0\" dominant-baseline=\"middle\" text-anchor=\"middle\">0.069</text><svg x=\"21.615865410305698%\" y=\"40\" height=\"20\" width=\"23.60593882471178%\">  <svg x=\"0\" y=\"0\" width=\"100%\" height=\"100%\">    <text x=\"50%\" y=\"9\" font-size=\"12px\" fill=\"rgb(255,255,255)\" dominant-baseline=\"middle\" text-anchor=\"middle\"></text>  </svg></svg><line x1=\"13.6940719372557%\" x2=\"21.615865410305698%\" y1=\"60\" y2=\"60\" id=\"_fb_swlqpznuxoxqnovcedlr_ind_2\" style=\"stroke:rgb(255.0, 0.0, 81.08083606031792);stroke-width:2; opacity: 0\"/><text x=\"17.6549686737807%\" y=\"71\" font-size=\"12px\" id=\"_fs_swlqpznuxoxqnovcedlr_ind_2\" fill=\"rgb(255.0, 0.0, 81.08083606031792)\" style=\"opacity: 0\" dominant-baseline=\"middle\" text-anchor=\"middle\">0.023</text><svg x=\"13.6940719372557%\" y=\"40\" height=\"20\" width=\"7.921793473049998%\">  <svg x=\"0\" y=\"0\" width=\"100%\" height=\"100%\">    <text x=\"50%\" y=\"9\" font-size=\"12px\" fill=\"rgb(255,255,255)\" dominant-baseline=\"middle\" text-anchor=\"middle\">love</text>  </svg></svg><line x1=\"8.333333048804334%\" x2=\"13.6940719372557%\" y1=\"60\" y2=\"60\" id=\"_fb_swlqpznuxoxqnovcedlr_ind_1\" style=\"stroke:rgb(255.0, 0.0, 81.08083606031792);stroke-width:2; opacity: 0\"/><text x=\"11.013702493030017%\" y=\"71\" font-size=\"12px\" id=\"_fs_swlqpznuxoxqnovcedlr_ind_1\" fill=\"rgb(255.0, 0.0, 81.08083606031792)\" style=\"opacity: 0\" dominant-baseline=\"middle\" text-anchor=\"middle\">0.016</text><svg x=\"8.333333048804334%\" y=\"40\" height=\"20\" width=\"5.360738888451365%\">  <svg x=\"0\" y=\"0\" width=\"100%\" height=\"100%\">    <text x=\"50%\" y=\"9\" font-size=\"12px\" fill=\"rgb(255,255,255)\" dominant-baseline=\"middle\" text-anchor=\"middle\">I</text>  </svg></svg><g transform=\"translate(0,0)\">  <svg x=\"21.615865410305698%\" y=\"40\" height=\"18\" overflow=\"visible\" width=\"30\">    <path d=\"M 0 -9 l 6 18 L 0 25\" fill=\"none\" style=\"stroke:rgb(255.0, 0.0, 81.08083606031792);stroke-width:2\" />  </svg></g><g transform=\"translate(2,0)\">  <svg x=\"21.615865410305698%\" y=\"40\" height=\"18\" overflow=\"visible\" width=\"30\">    <path d=\"M 0 -9 l 6 18 L 0 25\" fill=\"none\" style=\"stroke:rgb(255.0, 0.0, 81.08083606031792);stroke-width:2\" />  </svg></g><g transform=\"translate(4,0)\">  <svg x=\"21.615865410305698%\" y=\"40\" height=\"18\" overflow=\"visible\" width=\"30\">    <path d=\"M 0 -9 l 6 18 L 0 25\" fill=\"none\" style=\"stroke:rgb(255.0, 0.0, 81.08083606031792);stroke-width:2\" />  </svg></g><g transform=\"translate(6,0)\">  <svg x=\"21.615865410305698%\" y=\"40\" height=\"18\" overflow=\"visible\" width=\"30\">    <path d=\"M 0 -9 l 6 18 L 0 25\" fill=\"none\" style=\"stroke:rgb(255.0, 0.0, 81.08083606031792);stroke-width:2\" />  </svg></g><g transform=\"translate(-8,0)\">  <svg x=\"21.615865410305698%\" y=\"40\" height=\"18\" overflow=\"visible\" width=\"30\">    <path d=\"M 0 -9 l 6 18 L 0 25\" fill=\"none\" style=\"stroke:rgb(255.0, 0.0, 81.08083606031792);stroke-width:2\" />  </svg></g><g transform=\"translate(-6,0)\">  <svg x=\"21.615865410305698%\" y=\"40\" height=\"18\" overflow=\"visible\" width=\"30\">    <path d=\"M 0 -9 l 6 18 L 0 25\" fill=\"none\" style=\"stroke:rgb(255.0, 0.0, 81.08083606031792);stroke-width:2\" />  </svg></g><g transform=\"translate(-4,0)\">  <svg x=\"21.615865410305698%\" y=\"40\" height=\"18\" overflow=\"visible\" width=\"30\">    <path d=\"M 0 -9 l 6 18 L 0 25\" fill=\"none\" style=\"stroke:rgb(255.0, 0.0, 81.08083606031792);stroke-width:2\" />  </svg></g><g transform=\"translate(-2,0)\">  <svg x=\"21.615865410305698%\" y=\"40\" height=\"18\" overflow=\"visible\" width=\"30\">    <path d=\"M 0 -9 l 6 18 L 0 25\" fill=\"none\" style=\"stroke:rgb(255.0, 0.0, 81.08083606031792);stroke-width:2\" />  </svg></g><g transform=\"translate(0,0)\">  <svg x=\"13.6940719372557%\" y=\"40\" height=\"18\" overflow=\"visible\" width=\"30\">    <path d=\"M 0 -9 l 6 18 L 0 25\" fill=\"none\" style=\"stroke:rgb(255.0, 0.0, 81.08083606031792);stroke-width:2\" />  </svg></g><g transform=\"translate(2,0)\">  <svg x=\"13.6940719372557%\" y=\"40\" height=\"18\" overflow=\"visible\" width=\"30\">    <path d=\"M 0 -9 l 6 18 L 0 25\" fill=\"none\" style=\"stroke:rgb(255.0, 0.0, 81.08083606031792);stroke-width:2\" />  </svg></g><g transform=\"translate(4,0)\">  <svg x=\"13.6940719372557%\" y=\"40\" height=\"18\" overflow=\"visible\" width=\"30\">    <path d=\"M 0 -9 l 6 18 L 0 25\" fill=\"none\" style=\"stroke:rgb(255.0, 0.0, 81.08083606031792);stroke-width:2\" />  </svg></g><g transform=\"translate(6,0)\">  <svg x=\"13.6940719372557%\" y=\"40\" height=\"18\" overflow=\"visible\" width=\"30\">    <path d=\"M 0 -9 l 6 18 L 0 25\" fill=\"none\" style=\"stroke:rgb(255.0, 0.0, 81.08083606031792);stroke-width:2\" />  </svg></g><g transform=\"translate(-8,0)\">  <svg x=\"13.6940719372557%\" y=\"40\" height=\"18\" overflow=\"visible\" width=\"30\">    <path d=\"M 0 -9 l 6 18 L 0 25\" fill=\"none\" style=\"stroke:rgb(255.0, 0.0, 81.08083606031792);stroke-width:2\" />  </svg></g><g transform=\"translate(-6,0)\">  <svg x=\"13.6940719372557%\" y=\"40\" height=\"18\" overflow=\"visible\" width=\"30\">    <path d=\"M 0 -9 l 6 18 L 0 25\" fill=\"none\" style=\"stroke:rgb(255.0, 0.0, 81.08083606031792);stroke-width:2\" />  </svg></g><g transform=\"translate(-4,0)\">  <svg x=\"13.6940719372557%\" y=\"40\" height=\"18\" overflow=\"visible\" width=\"30\">    <path d=\"M 0 -9 l 6 18 L 0 25\" fill=\"none\" style=\"stroke:rgb(255.0, 0.0, 81.08083606031792);stroke-width:2\" />  </svg></g><g transform=\"translate(-2,0)\">  <svg x=\"13.6940719372557%\" y=\"40\" height=\"18\" overflow=\"visible\" width=\"30\">    <path d=\"M 0 -9 l 6 18 L 0 25\" fill=\"none\" style=\"stroke:rgb(255.0, 0.0, 81.08083606031792);stroke-width:2\" />  </svg></g><rect transform=\"translate(-8,0)\" x=\"45.22180423501748%\" y=\"40\" width=\"8\" height=\"18\" style=\"fill:rgb(255.0, 0.0, 81.08083606031792)\"/><g transform=\"translate(-11.5,0)\">  <svg x=\"8.333333048804334%\" y=\"40\" height=\"18\" overflow=\"visible\" width=\"30\">    <path d=\"M 10 -9 l 6 18 L 10 25 L 0 25 L 0 -9\" fill=\"#ffffff\" style=\"stroke:rgb(255,255,255);stroke-width:2\" />  </svg></g><g transform=\"translate(-1.5,0)\">  <svg x=\"45.22180423501748%\" y=\"40\" height=\"18\" overflow=\"visible\" width=\"30\">    <path d=\"M 0 -9 l 6 18 L 0 25\" fill=\"none\" style=\"stroke:rgb(255, 195, 213);stroke-width:2\" />  </svg></g><rect x=\"21.615865410305698%\" y=\"40\" height=\"20\" width=\"23.60593882471178%\"      onmouseover=\"document.getElementById('_tp_swlqpznuxoxqnovcedlr_ind_0').style.textDecoration = 'underline';document.getElementById('_fs_swlqpznuxoxqnovcedlr_ind_0').style.opacity = 1;document.getElementById('_fb_swlqpznuxoxqnovcedlr_ind_0').style.opacity = 1;\"      onmouseout=\"document.getElementById('_tp_swlqpznuxoxqnovcedlr_ind_0').style.textDecoration = 'none';document.getElementById('_fs_swlqpznuxoxqnovcedlr_ind_0').style.opacity = 0;document.getElementById('_fb_swlqpznuxoxqnovcedlr_ind_0').style.opacity = 0;\" style=\"fill:rgb(0,0,0,0)\" /><g transform=\"translate(-1.5,0)\">  <svg x=\"21.615865410305698%\" y=\"40\" height=\"18\" overflow=\"visible\" width=\"30\">    <path d=\"M 0 -9 l 6 18 L 0 25\" fill=\"none\" style=\"stroke:rgb(255, 195, 213);stroke-width:2\" />  </svg></g><rect x=\"13.6940719372557%\" y=\"40\" height=\"20\" width=\"7.921793473049998%\"      onmouseover=\"document.getElementById('_tp_swlqpznuxoxqnovcedlr_ind_2').style.textDecoration = 'underline';document.getElementById('_fs_swlqpznuxoxqnovcedlr_ind_2').style.opacity = 1;document.getElementById('_fb_swlqpznuxoxqnovcedlr_ind_2').style.opacity = 1;\"      onmouseout=\"document.getElementById('_tp_swlqpznuxoxqnovcedlr_ind_2').style.textDecoration = 'none';document.getElementById('_fs_swlqpznuxoxqnovcedlr_ind_2').style.opacity = 0;document.getElementById('_fb_swlqpznuxoxqnovcedlr_ind_2').style.opacity = 0;\" style=\"fill:rgb(0,0,0,0)\" /><rect x=\"8.333333048804334%\" y=\"40\" height=\"20\" width=\"5.360738888451365%\"      onmouseover=\"document.getElementById('_tp_swlqpznuxoxqnovcedlr_ind_1').style.textDecoration = 'underline';document.getElementById('_fs_swlqpznuxoxqnovcedlr_ind_1').style.opacity = 1;document.getElementById('_fb_swlqpznuxoxqnovcedlr_ind_1').style.opacity = 1;\"      onmouseout=\"document.getElementById('_tp_swlqpznuxoxqnovcedlr_ind_1').style.textDecoration = 'none';document.getElementById('_fs_swlqpznuxoxqnovcedlr_ind_1').style.opacity = 0;document.getElementById('_fb_swlqpznuxoxqnovcedlr_ind_1').style.opacity = 0;\" style=\"fill:rgb(0,0,0,0)\" /><rect x=\"45.22180423501748%\" width=\"46.44485930183019%\" y=\"40\" height=\"18\" style=\"fill:rgb(0.0, 138.56128015770727, 250.76166088685727); stroke-width:0; stroke:rgb(0,0,0)\" /><line x1=\"45.22180423501748%\" x2=\"77.89130798471588%\" y1=\"60\" y2=\"60\" id=\"_fb_swlqpznuxoxqnovcedlr_ind_6\" style=\"stroke:rgb(0.0, 138.56128015770727, 250.76166088685727);stroke-width:2; opacity: 0\"/><text x=\"61.556556109866676%\" y=\"71\" font-size=\"12px\" fill=\"rgb(0.0, 138.56128015770727, 250.76166088685727)\" id=\"_fs_swlqpznuxoxqnovcedlr_ind_6\" style=\"opacity: 0\" dominant-baseline=\"middle\" text-anchor=\"middle\">-0.096</text><svg x=\"45.22180423501748%\" y=\"40\" height=\"20\" width=\"32.6695037496984%\">  <svg x=\"0\" y=\"0\" width=\"100%\" height=\"100%\">    <text x=\"50%\" y=\"9\" font-size=\"12px\" fill=\"rgb(255,255,255)\" dominant-baseline=\"middle\" text-anchor=\"middle\"></text>  </svg></svg><line x1=\"77.89130798471588%\" x2=\"86.09557793987341%\" y1=\"60\" y2=\"60\" id=\"_fb_swlqpznuxoxqnovcedlr_ind_3\" style=\"stroke:rgb(0.0, 138.56128015770727, 250.76166088685727);stroke-width:2; opacity: 0\"/><text x=\"81.99344296229464%\" y=\"71\" font-size=\"12px\" fill=\"rgb(0.0, 138.56128015770727, 250.76166088685727)\" id=\"_fs_swlqpznuxoxqnovcedlr_ind_3\" style=\"opacity: 0\" dominant-baseline=\"middle\" text-anchor=\"middle\">-0.024</text><svg x=\"77.89130798471588%\" y=\"40\" height=\"20\" width=\"8.204269955157528%\">  <svg x=\"0\" y=\"0\" width=\"100%\" height=\"100%\">    <text x=\"50%\" y=\"9\" font-size=\"12px\" fill=\"rgb(255,255,255)\" dominant-baseline=\"middle\" text-anchor=\"middle\">playing</text>  </svg></svg><line x1=\"86.09557793987341%\" x2=\"90.66468988445037%\" y1=\"60\" y2=\"60\" id=\"_fb_swlqpznuxoxqnovcedlr_ind_5\" style=\"stroke:rgb(0.0, 138.56128015770727, 250.76166088685727);stroke-width:2; opacity: 0\"/><text x=\"88.38013391216188%\" y=\"71\" font-size=\"12px\" fill=\"rgb(0.0, 138.56128015770727, 250.76166088685727)\" id=\"_fs_swlqpznuxoxqnovcedlr_ind_5\" style=\"opacity: 0\" dominant-baseline=\"middle\" text-anchor=\"middle\">-0.013</text><svg x=\"86.09557793987341%\" y=\"40\" height=\"20\" width=\"4.56911194457696%\">  <svg x=\"0\" y=\"0\" width=\"100%\" height=\"100%\">    <text x=\"50%\" y=\"9\" font-size=\"12px\" fill=\"rgb(255,255,255)\" dominant-baseline=\"middle\" text-anchor=\"middle\">!</text>  </svg></svg><line x1=\"90.66468988445037%\" x2=\"91.66666353684766%\" y1=\"60\" y2=\"60\" id=\"_fb_swlqpznuxoxqnovcedlr_ind_4\" style=\"stroke:rgb(0.0, 138.56128015770727, 250.76166088685727);stroke-width:2; opacity: 0\"/><text x=\"91.16567671064902%\" y=\"71\" font-size=\"12px\" fill=\"rgb(0.0, 138.56128015770727, 250.76166088685727)\" id=\"_fs_swlqpznuxoxqnovcedlr_ind_4\" style=\"opacity: 0\" dominant-baseline=\"middle\" text-anchor=\"middle\">-0.003</text><svg x=\"90.66468988445037%\" y=\"40\" height=\"20\" width=\"1.0019736523972966%\">  <svg x=\"0\" y=\"0\" width=\"100%\" height=\"100%\">    <text x=\"50%\" y=\"9\" font-size=\"12px\" fill=\"rgb(255,255,255)\" dominant-baseline=\"middle\" text-anchor=\"middle\">cricket</text>  </svg></svg><g transform=\"translate(-8,0)\">  <svg x=\"77.89130798471588%\" y=\"40\" height=\"18\" overflow=\"visible\" width=\"30\">    <path d=\"M 8 -9 l -6 18 L 8 25\" fill=\"none\" style=\"stroke:rgb(0.0, 138.56128015770727, 250.76166088685727);stroke-width:2\" />  </svg></g><g transform=\"translate(-10,0)\">  <svg x=\"77.89130798471588%\" y=\"40\" height=\"18\" overflow=\"visible\" width=\"30\">    <path d=\"M 8 -9 l -6 18 L 8 25\" fill=\"none\" style=\"stroke:rgb(0.0, 138.56128015770727, 250.76166088685727);stroke-width:2\" />  </svg></g><g transform=\"translate(-12,0)\">  <svg x=\"77.89130798471588%\" y=\"40\" height=\"18\" overflow=\"visible\" width=\"30\">    <path d=\"M 8 -9 l -6 18 L 8 25\" fill=\"none\" style=\"stroke:rgb(0.0, 138.56128015770727, 250.76166088685727);stroke-width:2\" />  </svg></g><g transform=\"translate(-14,0)\">  <svg x=\"77.89130798471588%\" y=\"40\" height=\"18\" overflow=\"visible\" width=\"30\">    <path d=\"M 8 -9 l -6 18 L 8 25\" fill=\"none\" style=\"stroke:rgb(0.0, 138.56128015770727, 250.76166088685727);stroke-width:2\" />  </svg></g><g transform=\"translate(2,0)\">  <svg x=\"77.89130798471588%\" y=\"40\" height=\"18\" overflow=\"visible\" width=\"30\">    <path d=\"M 8 -9 l -6 18 L 8 25\" fill=\"none\" style=\"stroke:rgb(0.0, 138.56128015770727, 250.76166088685727);stroke-width:2\" />  </svg></g><g transform=\"translate(0,0)\">  <svg x=\"77.89130798471588%\" y=\"40\" height=\"18\" overflow=\"visible\" width=\"30\">    <path d=\"M 8 -9 l -6 18 L 8 25\" fill=\"none\" style=\"stroke:rgb(0.0, 138.56128015770727, 250.76166088685727);stroke-width:2\" />  </svg></g><g transform=\"translate(-2,0)\">  <svg x=\"77.89130798471588%\" y=\"40\" height=\"18\" overflow=\"visible\" width=\"30\">    <path d=\"M 8 -9 l -6 18 L 8 25\" fill=\"none\" style=\"stroke:rgb(0.0, 138.56128015770727, 250.76166088685727);stroke-width:2\" />  </svg></g><g transform=\"translate(-4,0)\">  <svg x=\"77.89130798471588%\" y=\"40\" height=\"18\" overflow=\"visible\" width=\"30\">    <path d=\"M 8 -9 l -6 18 L 8 25\" fill=\"none\" style=\"stroke:rgb(0.0, 138.56128015770727, 250.76166088685727);stroke-width:2\" />  </svg></g><g transform=\"translate(-8,0)\">  <svg x=\"86.09557793987341%\" y=\"40\" height=\"18\" overflow=\"visible\" width=\"30\">    <path d=\"M 8 -9 l -6 18 L 8 25\" fill=\"none\" style=\"stroke:rgb(0.0, 138.56128015770727, 250.76166088685727);stroke-width:2\" />  </svg></g><g transform=\"translate(-10,0)\">  <svg x=\"86.09557793987341%\" y=\"40\" height=\"18\" overflow=\"visible\" width=\"30\">    <path d=\"M 8 -9 l -6 18 L 8 25\" fill=\"none\" style=\"stroke:rgb(0.0, 138.56128015770727, 250.76166088685727);stroke-width:2\" />  </svg></g><g transform=\"translate(-12,0)\">  <svg x=\"86.09557793987341%\" y=\"40\" height=\"18\" overflow=\"visible\" width=\"30\">    <path d=\"M 8 -9 l -6 18 L 8 25\" fill=\"none\" style=\"stroke:rgb(0.0, 138.56128015770727, 250.76166088685727);stroke-width:2\" />  </svg></g><g transform=\"translate(-14,0)\">  <svg x=\"86.09557793987341%\" y=\"40\" height=\"18\" overflow=\"visible\" width=\"30\">    <path d=\"M 8 -9 l -6 18 L 8 25\" fill=\"none\" style=\"stroke:rgb(0.0, 138.56128015770727, 250.76166088685727);stroke-width:2\" />  </svg></g><g transform=\"translate(2,0)\">  <svg x=\"86.09557793987341%\" y=\"40\" height=\"18\" overflow=\"visible\" width=\"30\">    <path d=\"M 8 -9 l -6 18 L 8 25\" fill=\"none\" style=\"stroke:rgb(0.0, 138.56128015770727, 250.76166088685727);stroke-width:2\" />  </svg></g><g transform=\"translate(0,0)\">  <svg x=\"86.09557793987341%\" y=\"40\" height=\"18\" overflow=\"visible\" width=\"30\">    <path d=\"M 8 -9 l -6 18 L 8 25\" fill=\"none\" style=\"stroke:rgb(0.0, 138.56128015770727, 250.76166088685727);stroke-width:2\" />  </svg></g><g transform=\"translate(-2,0)\">  <svg x=\"86.09557793987341%\" y=\"40\" height=\"18\" overflow=\"visible\" width=\"30\">    <path d=\"M 8 -9 l -6 18 L 8 25\" fill=\"none\" style=\"stroke:rgb(0.0, 138.56128015770727, 250.76166088685727);stroke-width:2\" />  </svg></g><g transform=\"translate(-4,0)\">  <svg x=\"86.09557793987341%\" y=\"40\" height=\"18\" overflow=\"visible\" width=\"30\">    <path d=\"M 8 -9 l -6 18 L 8 25\" fill=\"none\" style=\"stroke:rgb(0.0, 138.56128015770727, 250.76166088685727);stroke-width:2\" />  </svg></g><g transform=\"translate(-8,0)\">  <svg x=\"90.66468988445037%\" y=\"40\" height=\"18\" overflow=\"visible\" width=\"30\">    <path d=\"M 8 -9 l -6 18 L 8 25\" fill=\"none\" style=\"stroke:rgb(0.0, 138.56128015770727, 250.76166088685727);stroke-width:2\" />  </svg></g><g transform=\"translate(-10,0)\">  <svg x=\"90.66468988445037%\" y=\"40\" height=\"18\" overflow=\"visible\" width=\"30\">    <path d=\"M 8 -9 l -6 18 L 8 25\" fill=\"none\" style=\"stroke:rgb(0.0, 138.56128015770727, 250.76166088685727);stroke-width:2\" />  </svg></g><g transform=\"translate(-12,0)\">  <svg x=\"90.66468988445037%\" y=\"40\" height=\"18\" overflow=\"visible\" width=\"30\">    <path d=\"M 8 -9 l -6 18 L 8 25\" fill=\"none\" style=\"stroke:rgb(0.0, 138.56128015770727, 250.76166088685727);stroke-width:2\" />  </svg></g><g transform=\"translate(-14,0)\">  <svg x=\"90.66468988445037%\" y=\"40\" height=\"18\" overflow=\"visible\" width=\"30\">    <path d=\"M 8 -9 l -6 18 L 8 25\" fill=\"none\" style=\"stroke:rgb(0.0, 138.56128015770727, 250.76166088685727);stroke-width:2\" />  </svg></g><g transform=\"translate(2,0)\">  <svg x=\"90.66468988445037%\" y=\"40\" height=\"18\" overflow=\"visible\" width=\"30\">    <path d=\"M 8 -9 l -6 18 L 8 25\" fill=\"none\" style=\"stroke:rgb(0.0, 138.56128015770727, 250.76166088685727);stroke-width:2\" />  </svg></g><g transform=\"translate(0,0)\">  <svg x=\"90.66468988445037%\" y=\"40\" height=\"18\" overflow=\"visible\" width=\"30\">    <path d=\"M 8 -9 l -6 18 L 8 25\" fill=\"none\" style=\"stroke:rgb(0.0, 138.56128015770727, 250.76166088685727);stroke-width:2\" />  </svg></g><g transform=\"translate(-2,0)\">  <svg x=\"90.66468988445037%\" y=\"40\" height=\"18\" overflow=\"visible\" width=\"30\">    <path d=\"M 8 -9 l -6 18 L 8 25\" fill=\"none\" style=\"stroke:rgb(0.0, 138.56128015770727, 250.76166088685727);stroke-width:2\" />  </svg></g><g transform=\"translate(-4,0)\">  <svg x=\"90.66468988445037%\" y=\"40\" height=\"18\" overflow=\"visible\" width=\"30\">    <path d=\"M 8 -9 l -6 18 L 8 25\" fill=\"none\" style=\"stroke:rgb(0.0, 138.56128015770727, 250.76166088685727);stroke-width:2\" />  </svg></g><rect transform=\"translate(0,0)\" x=\"45.22180423501748%\" y=\"40\" width=\"8\" height=\"18\" style=\"fill:rgb(0.0, 138.56128015770727, 250.76166088685727)\"/><g transform=\"translate(-6.0,0)\">  <svg x=\"91.66666353684766%\" y=\"40\" height=\"18\" overflow=\"visible\" width=\"30\">    <path d=\"M 8 -9 l -6 18 L 8 25 L 20 25 L 20 -9\" fill=\"#ffffff\" style=\"stroke:rgb(255,255,255);stroke-width:2\" />  </svg></g><g transform=\"translate(-6.0,0)\">  <svg x=\"77.89130798471588%\" y=\"40\" height=\"18\" overflow=\"visible\" width=\"30\">    <path d=\"M 8 -9 l -6 18 L 8 25\" fill=\"none\" style=\"stroke:rgb(208, 230, 250);stroke-width:2\" />  </svg></g><rect x=\"45.22180423501748%\" y=\"40\" height=\"20\" width=\"32.6695037496984%\"      onmouseover=\"document.getElementById('_tp_swlqpznuxoxqnovcedlr_ind_6').style.textDecoration = 'underline';document.getElementById('_fs_swlqpznuxoxqnovcedlr_ind_6').style.opacity = 1;document.getElementById('_fb_swlqpznuxoxqnovcedlr_ind_6').style.opacity = 1;\"      onmouseout=\"document.getElementById('_tp_swlqpznuxoxqnovcedlr_ind_6').style.textDecoration = 'none';document.getElementById('_fs_swlqpznuxoxqnovcedlr_ind_6').style.opacity = 0;document.getElementById('_fb_swlqpznuxoxqnovcedlr_ind_6').style.opacity = 0;\" style=\"fill:rgb(0,0,0,0)\" /><g transform=\"translate(-6.0,0)\">  <svg x=\"86.09557793987341%\" y=\"40\" height=\"18\" overflow=\"visible\" width=\"30\">    <path d=\"M 8 -9 l -6 18 L 8 25\" fill=\"none\" style=\"stroke:rgb(208, 230, 250);stroke-width:2\" />  </svg></g><rect x=\"77.89130798471588%\" y=\"40\" height=\"20\" width=\"8.204269955157528%\"      onmouseover=\"document.getElementById('_tp_swlqpznuxoxqnovcedlr_ind_3').style.textDecoration = 'underline';document.getElementById('_fs_swlqpznuxoxqnovcedlr_ind_3').style.opacity = 1;document.getElementById('_fb_swlqpznuxoxqnovcedlr_ind_3').style.opacity = 1;\"      onmouseout=\"document.getElementById('_tp_swlqpznuxoxqnovcedlr_ind_3').style.textDecoration = 'none';document.getElementById('_fs_swlqpznuxoxqnovcedlr_ind_3').style.opacity = 0;document.getElementById('_fb_swlqpznuxoxqnovcedlr_ind_3').style.opacity = 0;\" style=\"fill:rgb(0,0,0,0)\" /><g transform=\"translate(-6.0,0)\">  <svg x=\"90.66468988445037%\" y=\"40\" height=\"18\" overflow=\"visible\" width=\"30\">    <path d=\"M 8 -9 l -6 18 L 8 25\" fill=\"none\" style=\"stroke:rgb(208, 230, 250);stroke-width:2\" />  </svg></g><rect x=\"86.09557793987341%\" y=\"40\" height=\"20\" width=\"4.56911194457696%\"      onmouseover=\"document.getElementById('_tp_swlqpznuxoxqnovcedlr_ind_5').style.textDecoration = 'underline';document.getElementById('_fs_swlqpznuxoxqnovcedlr_ind_5').style.opacity = 1;document.getElementById('_fb_swlqpznuxoxqnovcedlr_ind_5').style.opacity = 1;\"      onmouseout=\"document.getElementById('_tp_swlqpznuxoxqnovcedlr_ind_5').style.textDecoration = 'none';document.getElementById('_fs_swlqpznuxoxqnovcedlr_ind_5').style.opacity = 0;document.getElementById('_fb_swlqpznuxoxqnovcedlr_ind_5').style.opacity = 0;\" style=\"fill:rgb(0,0,0,0)\" /><rect x=\"90.66468988445037%\" y=\"40\" height=\"20\" width=\"1.0019736523972966%\"      onmouseover=\"document.getElementById('_tp_swlqpznuxoxqnovcedlr_ind_4').style.textDecoration = 'underline';document.getElementById('_fs_swlqpznuxoxqnovcedlr_ind_4').style.opacity = 1;document.getElementById('_fb_swlqpznuxoxqnovcedlr_ind_4').style.opacity = 1;\"      onmouseout=\"document.getElementById('_tp_swlqpznuxoxqnovcedlr_ind_4').style.textDecoration = 'none';document.getElementById('_fs_swlqpznuxoxqnovcedlr_ind_4').style.opacity = 0;document.getElementById('_fb_swlqpznuxoxqnovcedlr_ind_4').style.opacity = 0;\" style=\"fill:rgb(0,0,0,0)\" /></svg><div align='center'><div style=\"color: rgb(120,120,120); font-size: 12px; margin-top: -15px;\">inputs</div><div style='display: inline; text-align: center;'\n",
       "    ><div style='display: none; color: #999; padding-top: 0px; font-size: 12px;'>0.069</div\n",
       "        ><div id='_tp_swlqpznuxoxqnovcedlr_ind_0'\n",
       "            style='display: inline; background: rgba(255.0, 13.0, 87.0, 0.7241037829273124); border-radius: 3px; padding: 0px'\n",
       "            onclick=\"\n",
       "            if (this.previousSibling.style.display == 'none') {\n",
       "                this.previousSibling.style.display = 'block';\n",
       "                this.parentNode.style.display = 'inline-block';\n",
       "            } else {\n",
       "                this.previousSibling.style.display = 'none';\n",
       "                this.parentNode.style.display = 'inline';\n",
       "            }\"\n",
       "            onmouseover=\"document.getElementById('_fb_swlqpznuxoxqnovcedlr_ind_0').style.opacity = 1; document.getElementById('_fs_swlqpznuxoxqnovcedlr_ind_0').style.opacity = 1;\"\n",
       "            onmouseout=\"document.getElementById('_fb_swlqpznuxoxqnovcedlr_ind_0').style.opacity = 0; document.getElementById('_fs_swlqpznuxoxqnovcedlr_ind_0').style.opacity = 0;\"\n",
       "        ></div></div><div style='display: inline; text-align: center;'\n",
       "    ><div style='display: none; color: #999; padding-top: 0px; font-size: 12px;'>0.016</div\n",
       "        ><div id='_tp_swlqpznuxoxqnovcedlr_ind_1'\n",
       "            style='display: inline; background: rgba(255.0, 13.0, 87.0, 0.16442859972271742); border-radius: 3px; padding: 0px'\n",
       "            onclick=\"\n",
       "            if (this.previousSibling.style.display == 'none') {\n",
       "                this.previousSibling.style.display = 'block';\n",
       "                this.parentNode.style.display = 'inline-block';\n",
       "            } else {\n",
       "                this.previousSibling.style.display = 'none';\n",
       "                this.parentNode.style.display = 'inline';\n",
       "            }\"\n",
       "            onmouseover=\"document.getElementById('_fb_swlqpznuxoxqnovcedlr_ind_1').style.opacity = 1; document.getElementById('_fs_swlqpznuxoxqnovcedlr_ind_1').style.opacity = 1;\"\n",
       "            onmouseout=\"document.getElementById('_fb_swlqpznuxoxqnovcedlr_ind_1').style.opacity = 0; document.getElementById('_fs_swlqpznuxoxqnovcedlr_ind_1').style.opacity = 0;\"\n",
       "        >I </div></div><div style='display: inline; text-align: center;'\n",
       "    ><div style='display: none; color: #999; padding-top: 0px; font-size: 12px;'>0.023</div\n",
       "        ><div id='_tp_swlqpznuxoxqnovcedlr_ind_2'\n",
       "            style='display: inline; background: rgba(255.0, 13.0, 87.0, 0.24325609031491383); border-radius: 3px; padding: 0px'\n",
       "            onclick=\"\n",
       "            if (this.previousSibling.style.display == 'none') {\n",
       "                this.previousSibling.style.display = 'block';\n",
       "                this.parentNode.style.display = 'inline-block';\n",
       "            } else {\n",
       "                this.previousSibling.style.display = 'none';\n",
       "                this.parentNode.style.display = 'inline';\n",
       "            }\"\n",
       "            onmouseover=\"document.getElementById('_fb_swlqpznuxoxqnovcedlr_ind_2').style.opacity = 1; document.getElementById('_fs_swlqpznuxoxqnovcedlr_ind_2').style.opacity = 1;\"\n",
       "            onmouseout=\"document.getElementById('_fb_swlqpznuxoxqnovcedlr_ind_2').style.opacity = 0; document.getElementById('_fs_swlqpznuxoxqnovcedlr_ind_2').style.opacity = 0;\"\n",
       "        >love </div></div><div style='display: inline; text-align: center;'\n",
       "    ><div style='display: none; color: #999; padding-top: 0px; font-size: 12px;'>-0.024</div\n",
       "        ><div id='_tp_swlqpznuxoxqnovcedlr_ind_3'\n",
       "            style='display: inline; background: rgba(30.0, 136.0, 229.0, 0.25113883937413345); border-radius: 3px; padding: 0px'\n",
       "            onclick=\"\n",
       "            if (this.previousSibling.style.display == 'none') {\n",
       "                this.previousSibling.style.display = 'block';\n",
       "                this.parentNode.style.display = 'inline-block';\n",
       "            } else {\n",
       "                this.previousSibling.style.display = 'none';\n",
       "                this.parentNode.style.display = 'inline';\n",
       "            }\"\n",
       "            onmouseover=\"document.getElementById('_fb_swlqpznuxoxqnovcedlr_ind_3').style.opacity = 1; document.getElementById('_fs_swlqpznuxoxqnovcedlr_ind_3').style.opacity = 1;\"\n",
       "            onmouseout=\"document.getElementById('_fb_swlqpznuxoxqnovcedlr_ind_3').style.opacity = 0; document.getElementById('_fs_swlqpznuxoxqnovcedlr_ind_3').style.opacity = 0;\"\n",
       "        >playing </div></div><div style='display: inline; text-align: center;'\n",
       "    ><div style='display: none; color: #999; padding-top: 0px; font-size: 12px;'>-0.003</div\n",
       "        ><div id='_tp_swlqpznuxoxqnovcedlr_ind_4'\n",
       "            style='display: inline; background: rgba(30.0, 136.0, 229.0, 0.022539116656763607); border-radius: 3px; padding: 0px'\n",
       "            onclick=\"\n",
       "            if (this.previousSibling.style.display == 'none') {\n",
       "                this.previousSibling.style.display = 'block';\n",
       "                this.parentNode.style.display = 'inline-block';\n",
       "            } else {\n",
       "                this.previousSibling.style.display = 'none';\n",
       "                this.parentNode.style.display = 'inline';\n",
       "            }\"\n",
       "            onmouseover=\"document.getElementById('_fb_swlqpznuxoxqnovcedlr_ind_4').style.opacity = 1; document.getElementById('_fs_swlqpznuxoxqnovcedlr_ind_4').style.opacity = 1;\"\n",
       "            onmouseout=\"document.getElementById('_fb_swlqpznuxoxqnovcedlr_ind_4').style.opacity = 0; document.getElementById('_fs_swlqpznuxoxqnovcedlr_ind_4').style.opacity = 0;\"\n",
       "        >cricket</div></div><div style='display: inline; text-align: center;'\n",
       "    ><div style='display: none; color: #999; padding-top: 0px; font-size: 12px;'>-0.013</div\n",
       "        ><div id='_tp_swlqpznuxoxqnovcedlr_ind_5'\n",
       "            style='display: inline; background: rgba(30.0, 136.0, 229.0, 0.1328976034858387); border-radius: 3px; padding: 0px'\n",
       "            onclick=\"\n",
       "            if (this.previousSibling.style.display == 'none') {\n",
       "                this.previousSibling.style.display = 'block';\n",
       "                this.parentNode.style.display = 'inline-block';\n",
       "            } else {\n",
       "                this.previousSibling.style.display = 'none';\n",
       "                this.parentNode.style.display = 'inline';\n",
       "            }\"\n",
       "            onmouseover=\"document.getElementById('_fb_swlqpznuxoxqnovcedlr_ind_5').style.opacity = 1; document.getElementById('_fs_swlqpznuxoxqnovcedlr_ind_5').style.opacity = 1;\"\n",
       "            onmouseout=\"document.getElementById('_fb_swlqpznuxoxqnovcedlr_ind_5').style.opacity = 0; document.getElementById('_fs_swlqpznuxoxqnovcedlr_ind_5').style.opacity = 0;\"\n",
       "        >!</div></div><div style='display: inline; text-align: center;'\n",
       "    ><div style='display: none; color: #999; padding-top: 0px; font-size: 12px;'>-0.096</div\n",
       "        ><div id='_tp_swlqpznuxoxqnovcedlr_ind_6'\n",
       "            style='display: inline; background: rgba(30.0, 136.0, 229.0, 1.0); border-radius: 3px; padding: 0px'\n",
       "            onclick=\"\n",
       "            if (this.previousSibling.style.display == 'none') {\n",
       "                this.previousSibling.style.display = 'block';\n",
       "                this.parentNode.style.display = 'inline-block';\n",
       "            } else {\n",
       "                this.previousSibling.style.display = 'none';\n",
       "                this.parentNode.style.display = 'inline';\n",
       "            }\"\n",
       "            onmouseover=\"document.getElementById('_fb_swlqpznuxoxqnovcedlr_ind_6').style.opacity = 1; document.getElementById('_fs_swlqpznuxoxqnovcedlr_ind_6').style.opacity = 1;\"\n",
       "            onmouseout=\"document.getElementById('_fb_swlqpznuxoxqnovcedlr_ind_6').style.opacity = 0; document.getElementById('_fs_swlqpznuxoxqnovcedlr_ind_6').style.opacity = 0;\"\n",
       "        ></div></div></div></div><div id='_tp_yijyrxhfyoeyusubhaij_output_1' style='display: none';><svg width=\"100%\" height=\"80px\"><line x1=\"0\" y1=\"33\" x2=\"100%\" y2=\"33\" style=\"stroke:rgb(150,150,150);stroke-width:1\" /><line x1=\"51.29793124381455%\" y1=\"33\" x2=\"51.29793124381455%\" y2=\"37\" style=\"stroke:rgb(150,150,150);stroke-width:1\" /><text x=\"51.29793124381455%\" y=\"27\" font-size=\"12px\" fill=\"rgb(120,120,120)\" dominant-baseline=\"bottom\" text-anchor=\"middle\">0.4</text><line x1=\"34.6177131170876%\" y1=\"33\" x2=\"34.6177131170876%\" y2=\"37\" style=\"stroke:rgb(150,150,150);stroke-width:1\" /><text x=\"34.6177131170876%\" y=\"27\" font-size=\"12px\" fill=\"rgb(120,120,120)\" dominant-baseline=\"bottom\" text-anchor=\"middle\">0.2</text><line x1=\"17.937494990360644%\" y1=\"33\" x2=\"17.937494990360644%\" y2=\"37\" style=\"stroke:rgb(150,150,150);stroke-width:1\" /><text x=\"17.937494990360644%\" y=\"27\" font-size=\"12px\" fill=\"rgb(120,120,120)\" dominant-baseline=\"bottom\" text-anchor=\"middle\">0</text><line x1=\"67.97814937054153%\" y1=\"33\" x2=\"67.97814937054153%\" y2=\"37\" style=\"stroke:rgb(150,150,150);stroke-width:1\" /><text x=\"67.97814937054153%\" y=\"27\" font-size=\"12px\" fill=\"rgb(120,120,120)\" dominant-baseline=\"bottom\" text-anchor=\"middle\">0.6</text><line x1=\"84.65836749726849%\" y1=\"33\" x2=\"84.65836749726849%\" y2=\"37\" style=\"stroke:rgb(150,150,150);stroke-width:1\" /><text x=\"84.65836749726849%\" y=\"27\" font-size=\"12px\" fill=\"rgb(120,120,120)\" dominant-baseline=\"bottom\" text-anchor=\"middle\">0.8</text><line x1=\"28.488351488656054%\" y1=\"33\" x2=\"28.488351488656054%\" y2=\"37\" style=\"stroke:rgb(150,150,150);stroke-width:1\" /><text x=\"28.488351488656054%\" y=\"27\" font-size=\"13px\" style=\"stroke:#ffffff;stroke-width:8px;\" fill=\"rgb(255,255,255)\" dominant-baseline=\"bottom\" text-anchor=\"middle\">0.126507</text><text x=\"28.488351488656054%\" y=\"27\" font-size=\"12px\" fill=\"rgb(120,120,120)\" dominant-baseline=\"bottom\" text-anchor=\"middle\">0.126507</text><text x=\"28.488351488656054%\" y=\"10\" font-size=\"12px\" fill=\"rgb(120,120,120)\" dominant-baseline=\"bottom\" text-anchor=\"middle\">base value</text><line x1=\"87.50170408507307%\" y1=\"33\" x2=\"87.50170408507307%\" y2=\"37\" style=\"stroke:rgb(150,150,150);stroke-width:1\" /><text x=\"87.50170408507307%\" y=\"27\" font-size=\"13px\" style=\"stroke:#ffffff;stroke-width:8px;\" font-weight=\"bold\" fill=\"rgb(255,255,255)\" dominant-baseline=\"bottom\" text-anchor=\"middle\">0.834092</text><text x=\"87.50170408507307%\" y=\"27\" font-size=\"13px\" font-weight=\"bold\" fill=\"rgb(0,0,0)\" dominant-baseline=\"bottom\" text-anchor=\"middle\">0.834092</text><text x=\"87.50170408507307%\" y=\"10\" font-size=\"12px\" fill=\"rgb(120,120,120)\" dominant-baseline=\"bottom\" text-anchor=\"middle\">f<tspan baseline-shift=\"sub\" font-size=\"8px\">sports</tspan>(inputs)</text><rect x=\"22.990884970927457%\" width=\"64.51081911414562%\" y=\"40\" height=\"18\" style=\"fill:rgb(255.0, 0.0, 81.08083606031792); stroke-width:0; stroke:rgb(0,0,0)\" /><line x1=\"65.69307510994189%\" x2=\"87.50170408507307%\" y1=\"60\" y2=\"60\" id=\"_fb_dznvfzxcolmukkwwqaoz_ind_0\" style=\"stroke:rgb(255.0, 0.0, 81.08083606031792);stroke-width:2; opacity: 0\"/><text x=\"76.59738959750749%\" y=\"71\" font-size=\"12px\" id=\"_fs_dznvfzxcolmukkwwqaoz_ind_0\" fill=\"rgb(255.0, 0.0, 81.08083606031792)\" style=\"opacity: 0\" dominant-baseline=\"middle\" text-anchor=\"middle\">0.261</text><svg x=\"65.69307510994189%\" y=\"40\" height=\"20\" width=\"21.808628975131185%\">  <svg x=\"0\" y=\"0\" width=\"100%\" height=\"100%\">    <text x=\"50%\" y=\"9\" font-size=\"12px\" fill=\"rgb(255,255,255)\" dominant-baseline=\"middle\" text-anchor=\"middle\"></text>  </svg></svg><line x1=\"50.40062696319995%\" x2=\"65.69307510994189%\" y1=\"60\" y2=\"60\" id=\"_fb_dznvfzxcolmukkwwqaoz_ind_5\" style=\"stroke:rgb(255.0, 0.0, 81.08083606031792);stroke-width:2; opacity: 0\"/><text x=\"58.046851036570914%\" y=\"71\" font-size=\"12px\" id=\"_fs_dznvfzxcolmukkwwqaoz_ind_5\" fill=\"rgb(255.0, 0.0, 81.08083606031792)\" style=\"opacity: 0\" dominant-baseline=\"middle\" text-anchor=\"middle\">0.183</text><svg x=\"50.40062696319995%\" y=\"40\" height=\"20\" width=\"15.29244814674194%\">  <svg x=\"0\" y=\"0\" width=\"100%\" height=\"100%\">    <text x=\"50%\" y=\"9\" font-size=\"12px\" fill=\"rgb(255,255,255)\" dominant-baseline=\"middle\" text-anchor=\"middle\">!</text>  </svg></svg><line x1=\"35.578994315824474%\" x2=\"50.40062696319995%\" y1=\"60\" y2=\"60\" id=\"_fb_dznvfzxcolmukkwwqaoz_ind_2\" style=\"stroke:rgb(255.0, 0.0, 81.08083606031792);stroke-width:2; opacity: 0\"/><text x=\"42.989810639512214%\" y=\"71\" font-size=\"12px\" id=\"_fs_dznvfzxcolmukkwwqaoz_ind_2\" fill=\"rgb(255.0, 0.0, 81.08083606031792)\" style=\"opacity: 0\" dominant-baseline=\"middle\" text-anchor=\"middle\">0.178</text><svg x=\"35.578994315824474%\" y=\"40\" height=\"20\" width=\"14.821632647375473%\">  <svg x=\"0\" y=\"0\" width=\"100%\" height=\"100%\">    <text x=\"50%\" y=\"9\" font-size=\"12px\" fill=\"rgb(255,255,255)\" dominant-baseline=\"middle\" text-anchor=\"middle\">love</text>  </svg></svg><line x1=\"28.038983145981273%\" x2=\"35.578994315824474%\" y1=\"60\" y2=\"60\" id=\"_fb_dznvfzxcolmukkwwqaoz_ind_1\" style=\"stroke:rgb(255.0, 0.0, 81.08083606031792);stroke-width:2; opacity: 0\"/><text x=\"31.808988730902875%\" y=\"71\" font-size=\"12px\" id=\"_fs_dznvfzxcolmukkwwqaoz_ind_1\" fill=\"rgb(255.0, 0.0, 81.08083606031792)\" style=\"opacity: 0\" dominant-baseline=\"middle\" text-anchor=\"middle\">0.09</text><svg x=\"28.038983145981273%\" y=\"40\" height=\"20\" width=\"7.540011169843201%\">  <svg x=\"0\" y=\"0\" width=\"100%\" height=\"100%\">    <text x=\"50%\" y=\"9\" font-size=\"12px\" fill=\"rgb(255,255,255)\" dominant-baseline=\"middle\" text-anchor=\"middle\">I</text>  </svg></svg><line x1=\"22.990884970927457%\" x2=\"28.038983145981273%\" y1=\"60\" y2=\"60\" id=\"_fb_dznvfzxcolmukkwwqaoz_ind_3\" style=\"stroke:rgb(255.0, 0.0, 81.08083606031792);stroke-width:2; opacity: 0\"/><text x=\"25.514934058454365%\" y=\"71\" font-size=\"12px\" id=\"_fs_dznvfzxcolmukkwwqaoz_ind_3\" fill=\"rgb(255.0, 0.0, 81.08083606031792)\" style=\"opacity: 0\" dominant-baseline=\"middle\" text-anchor=\"middle\">0.061</text><svg x=\"22.990884970927457%\" y=\"40\" height=\"20\" width=\"5.048098175053816%\">  <svg x=\"0\" y=\"0\" width=\"100%\" height=\"100%\">    <text x=\"50%\" y=\"9\" font-size=\"12px\" fill=\"rgb(255,255,255)\" dominant-baseline=\"middle\" text-anchor=\"middle\">playing</text>  </svg></svg><g transform=\"translate(0,0)\">  <svg x=\"65.69307510994189%\" y=\"40\" height=\"18\" overflow=\"visible\" width=\"30\">    <path d=\"M 0 -9 l 6 18 L 0 25\" fill=\"none\" style=\"stroke:rgb(255.0, 0.0, 81.08083606031792);stroke-width:2\" />  </svg></g><g transform=\"translate(2,0)\">  <svg x=\"65.69307510994189%\" y=\"40\" height=\"18\" overflow=\"visible\" width=\"30\">    <path d=\"M 0 -9 l 6 18 L 0 25\" fill=\"none\" style=\"stroke:rgb(255.0, 0.0, 81.08083606031792);stroke-width:2\" />  </svg></g><g transform=\"translate(4,0)\">  <svg x=\"65.69307510994189%\" y=\"40\" height=\"18\" overflow=\"visible\" width=\"30\">    <path d=\"M 0 -9 l 6 18 L 0 25\" fill=\"none\" style=\"stroke:rgb(255.0, 0.0, 81.08083606031792);stroke-width:2\" />  </svg></g><g transform=\"translate(6,0)\">  <svg x=\"65.69307510994189%\" y=\"40\" height=\"18\" overflow=\"visible\" width=\"30\">    <path d=\"M 0 -9 l 6 18 L 0 25\" fill=\"none\" style=\"stroke:rgb(255.0, 0.0, 81.08083606031792);stroke-width:2\" />  </svg></g><g transform=\"translate(-8,0)\">  <svg x=\"65.69307510994189%\" y=\"40\" height=\"18\" overflow=\"visible\" width=\"30\">    <path d=\"M 0 -9 l 6 18 L 0 25\" fill=\"none\" style=\"stroke:rgb(255.0, 0.0, 81.08083606031792);stroke-width:2\" />  </svg></g><g transform=\"translate(-6,0)\">  <svg x=\"65.69307510994189%\" y=\"40\" height=\"18\" overflow=\"visible\" width=\"30\">    <path d=\"M 0 -9 l 6 18 L 0 25\" fill=\"none\" style=\"stroke:rgb(255.0, 0.0, 81.08083606031792);stroke-width:2\" />  </svg></g><g transform=\"translate(-4,0)\">  <svg x=\"65.69307510994189%\" y=\"40\" height=\"18\" overflow=\"visible\" width=\"30\">    <path d=\"M 0 -9 l 6 18 L 0 25\" fill=\"none\" style=\"stroke:rgb(255.0, 0.0, 81.08083606031792);stroke-width:2\" />  </svg></g><g transform=\"translate(-2,0)\">  <svg x=\"65.69307510994189%\" y=\"40\" height=\"18\" overflow=\"visible\" width=\"30\">    <path d=\"M 0 -9 l 6 18 L 0 25\" fill=\"none\" style=\"stroke:rgb(255.0, 0.0, 81.08083606031792);stroke-width:2\" />  </svg></g><g transform=\"translate(0,0)\">  <svg x=\"50.40062696319995%\" y=\"40\" height=\"18\" overflow=\"visible\" width=\"30\">    <path d=\"M 0 -9 l 6 18 L 0 25\" fill=\"none\" style=\"stroke:rgb(255.0, 0.0, 81.08083606031792);stroke-width:2\" />  </svg></g><g transform=\"translate(2,0)\">  <svg x=\"50.40062696319995%\" y=\"40\" height=\"18\" overflow=\"visible\" width=\"30\">    <path d=\"M 0 -9 l 6 18 L 0 25\" fill=\"none\" style=\"stroke:rgb(255.0, 0.0, 81.08083606031792);stroke-width:2\" />  </svg></g><g transform=\"translate(4,0)\">  <svg x=\"50.40062696319995%\" y=\"40\" height=\"18\" overflow=\"visible\" width=\"30\">    <path d=\"M 0 -9 l 6 18 L 0 25\" fill=\"none\" style=\"stroke:rgb(255.0, 0.0, 81.08083606031792);stroke-width:2\" />  </svg></g><g transform=\"translate(6,0)\">  <svg x=\"50.40062696319995%\" y=\"40\" height=\"18\" overflow=\"visible\" width=\"30\">    <path d=\"M 0 -9 l 6 18 L 0 25\" fill=\"none\" style=\"stroke:rgb(255.0, 0.0, 81.08083606031792);stroke-width:2\" />  </svg></g><g transform=\"translate(-8,0)\">  <svg x=\"50.40062696319995%\" y=\"40\" height=\"18\" overflow=\"visible\" width=\"30\">    <path d=\"M 0 -9 l 6 18 L 0 25\" fill=\"none\" style=\"stroke:rgb(255.0, 0.0, 81.08083606031792);stroke-width:2\" />  </svg></g><g transform=\"translate(-6,0)\">  <svg x=\"50.40062696319995%\" y=\"40\" height=\"18\" overflow=\"visible\" width=\"30\">    <path d=\"M 0 -9 l 6 18 L 0 25\" fill=\"none\" style=\"stroke:rgb(255.0, 0.0, 81.08083606031792);stroke-width:2\" />  </svg></g><g transform=\"translate(-4,0)\">  <svg x=\"50.40062696319995%\" y=\"40\" height=\"18\" overflow=\"visible\" width=\"30\">    <path d=\"M 0 -9 l 6 18 L 0 25\" fill=\"none\" style=\"stroke:rgb(255.0, 0.0, 81.08083606031792);stroke-width:2\" />  </svg></g><g transform=\"translate(-2,0)\">  <svg x=\"50.40062696319995%\" y=\"40\" height=\"18\" overflow=\"visible\" width=\"30\">    <path d=\"M 0 -9 l 6 18 L 0 25\" fill=\"none\" style=\"stroke:rgb(255.0, 0.0, 81.08083606031792);stroke-width:2\" />  </svg></g><g transform=\"translate(0,0)\">  <svg x=\"35.578994315824474%\" y=\"40\" height=\"18\" overflow=\"visible\" width=\"30\">    <path d=\"M 0 -9 l 6 18 L 0 25\" fill=\"none\" style=\"stroke:rgb(255.0, 0.0, 81.08083606031792);stroke-width:2\" />  </svg></g><g transform=\"translate(2,0)\">  <svg x=\"35.578994315824474%\" y=\"40\" height=\"18\" overflow=\"visible\" width=\"30\">    <path d=\"M 0 -9 l 6 18 L 0 25\" fill=\"none\" style=\"stroke:rgb(255.0, 0.0, 81.08083606031792);stroke-width:2\" />  </svg></g><g transform=\"translate(4,0)\">  <svg x=\"35.578994315824474%\" y=\"40\" height=\"18\" overflow=\"visible\" width=\"30\">    <path d=\"M 0 -9 l 6 18 L 0 25\" fill=\"none\" style=\"stroke:rgb(255.0, 0.0, 81.08083606031792);stroke-width:2\" />  </svg></g><g transform=\"translate(6,0)\">  <svg x=\"35.578994315824474%\" y=\"40\" height=\"18\" overflow=\"visible\" width=\"30\">    <path d=\"M 0 -9 l 6 18 L 0 25\" fill=\"none\" style=\"stroke:rgb(255.0, 0.0, 81.08083606031792);stroke-width:2\" />  </svg></g><g transform=\"translate(-8,0)\">  <svg x=\"35.578994315824474%\" y=\"40\" height=\"18\" overflow=\"visible\" width=\"30\">    <path d=\"M 0 -9 l 6 18 L 0 25\" fill=\"none\" style=\"stroke:rgb(255.0, 0.0, 81.08083606031792);stroke-width:2\" />  </svg></g><g transform=\"translate(-6,0)\">  <svg x=\"35.578994315824474%\" y=\"40\" height=\"18\" overflow=\"visible\" width=\"30\">    <path d=\"M 0 -9 l 6 18 L 0 25\" fill=\"none\" style=\"stroke:rgb(255.0, 0.0, 81.08083606031792);stroke-width:2\" />  </svg></g><g transform=\"translate(-4,0)\">  <svg x=\"35.578994315824474%\" y=\"40\" height=\"18\" overflow=\"visible\" width=\"30\">    <path d=\"M 0 -9 l 6 18 L 0 25\" fill=\"none\" style=\"stroke:rgb(255.0, 0.0, 81.08083606031792);stroke-width:2\" />  </svg></g><g transform=\"translate(-2,0)\">  <svg x=\"35.578994315824474%\" y=\"40\" height=\"18\" overflow=\"visible\" width=\"30\">    <path d=\"M 0 -9 l 6 18 L 0 25\" fill=\"none\" style=\"stroke:rgb(255.0, 0.0, 81.08083606031792);stroke-width:2\" />  </svg></g><g transform=\"translate(0,0)\">  <svg x=\"28.038983145981273%\" y=\"40\" height=\"18\" overflow=\"visible\" width=\"30\">    <path d=\"M 0 -9 l 6 18 L 0 25\" fill=\"none\" style=\"stroke:rgb(255.0, 0.0, 81.08083606031792);stroke-width:2\" />  </svg></g><g transform=\"translate(2,0)\">  <svg x=\"28.038983145981273%\" y=\"40\" height=\"18\" overflow=\"visible\" width=\"30\">    <path d=\"M 0 -9 l 6 18 L 0 25\" fill=\"none\" style=\"stroke:rgb(255.0, 0.0, 81.08083606031792);stroke-width:2\" />  </svg></g><g transform=\"translate(4,0)\">  <svg x=\"28.038983145981273%\" y=\"40\" height=\"18\" overflow=\"visible\" width=\"30\">    <path d=\"M 0 -9 l 6 18 L 0 25\" fill=\"none\" style=\"stroke:rgb(255.0, 0.0, 81.08083606031792);stroke-width:2\" />  </svg></g><g transform=\"translate(6,0)\">  <svg x=\"28.038983145981273%\" y=\"40\" height=\"18\" overflow=\"visible\" width=\"30\">    <path d=\"M 0 -9 l 6 18 L 0 25\" fill=\"none\" style=\"stroke:rgb(255.0, 0.0, 81.08083606031792);stroke-width:2\" />  </svg></g><g transform=\"translate(-8,0)\">  <svg x=\"28.038983145981273%\" y=\"40\" height=\"18\" overflow=\"visible\" width=\"30\">    <path d=\"M 0 -9 l 6 18 L 0 25\" fill=\"none\" style=\"stroke:rgb(255.0, 0.0, 81.08083606031792);stroke-width:2\" />  </svg></g><g transform=\"translate(-6,0)\">  <svg x=\"28.038983145981273%\" y=\"40\" height=\"18\" overflow=\"visible\" width=\"30\">    <path d=\"M 0 -9 l 6 18 L 0 25\" fill=\"none\" style=\"stroke:rgb(255.0, 0.0, 81.08083606031792);stroke-width:2\" />  </svg></g><g transform=\"translate(-4,0)\">  <svg x=\"28.038983145981273%\" y=\"40\" height=\"18\" overflow=\"visible\" width=\"30\">    <path d=\"M 0 -9 l 6 18 L 0 25\" fill=\"none\" style=\"stroke:rgb(255.0, 0.0, 81.08083606031792);stroke-width:2\" />  </svg></g><g transform=\"translate(-2,0)\">  <svg x=\"28.038983145981273%\" y=\"40\" height=\"18\" overflow=\"visible\" width=\"30\">    <path d=\"M 0 -9 l 6 18 L 0 25\" fill=\"none\" style=\"stroke:rgb(255.0, 0.0, 81.08083606031792);stroke-width:2\" />  </svg></g><rect transform=\"translate(-8,0)\" x=\"87.50170408507307%\" y=\"40\" width=\"8\" height=\"18\" style=\"fill:rgb(255.0, 0.0, 81.08083606031792)\"/><g transform=\"translate(-11.5,0)\">  <svg x=\"22.990884970927457%\" y=\"40\" height=\"18\" overflow=\"visible\" width=\"30\">    <path d=\"M 10 -9 l 6 18 L 10 25 L 0 25 L 0 -9\" fill=\"#ffffff\" style=\"stroke:rgb(255,255,255);stroke-width:2\" />  </svg></g><g transform=\"translate(-1.5,0)\">  <svg x=\"87.50170408507307%\" y=\"40\" height=\"18\" overflow=\"visible\" width=\"30\">    <path d=\"M 0 -9 l 6 18 L 0 25\" fill=\"none\" style=\"stroke:rgb(255, 195, 213);stroke-width:2\" />  </svg></g><rect x=\"65.69307510994189%\" y=\"40\" height=\"20\" width=\"21.808628975131185%\"      onmouseover=\"document.getElementById('_tp_dznvfzxcolmukkwwqaoz_ind_0').style.textDecoration = 'underline';document.getElementById('_fs_dznvfzxcolmukkwwqaoz_ind_0').style.opacity = 1;document.getElementById('_fb_dznvfzxcolmukkwwqaoz_ind_0').style.opacity = 1;\"      onmouseout=\"document.getElementById('_tp_dznvfzxcolmukkwwqaoz_ind_0').style.textDecoration = 'none';document.getElementById('_fs_dznvfzxcolmukkwwqaoz_ind_0').style.opacity = 0;document.getElementById('_fb_dznvfzxcolmukkwwqaoz_ind_0').style.opacity = 0;\" style=\"fill:rgb(0,0,0,0)\" /><g transform=\"translate(-1.5,0)\">  <svg x=\"65.69307510994189%\" y=\"40\" height=\"18\" overflow=\"visible\" width=\"30\">    <path d=\"M 0 -9 l 6 18 L 0 25\" fill=\"none\" style=\"stroke:rgb(255, 195, 213);stroke-width:2\" />  </svg></g><rect x=\"50.40062696319995%\" y=\"40\" height=\"20\" width=\"15.29244814674194%\"      onmouseover=\"document.getElementById('_tp_dznvfzxcolmukkwwqaoz_ind_5').style.textDecoration = 'underline';document.getElementById('_fs_dznvfzxcolmukkwwqaoz_ind_5').style.opacity = 1;document.getElementById('_fb_dznvfzxcolmukkwwqaoz_ind_5').style.opacity = 1;\"      onmouseout=\"document.getElementById('_tp_dznvfzxcolmukkwwqaoz_ind_5').style.textDecoration = 'none';document.getElementById('_fs_dznvfzxcolmukkwwqaoz_ind_5').style.opacity = 0;document.getElementById('_fb_dznvfzxcolmukkwwqaoz_ind_5').style.opacity = 0;\" style=\"fill:rgb(0,0,0,0)\" /><g transform=\"translate(-1.5,0)\">  <svg x=\"50.40062696319995%\" y=\"40\" height=\"18\" overflow=\"visible\" width=\"30\">    <path d=\"M 0 -9 l 6 18 L 0 25\" fill=\"none\" style=\"stroke:rgb(255, 195, 213);stroke-width:2\" />  </svg></g><rect x=\"35.578994315824474%\" y=\"40\" height=\"20\" width=\"14.821632647375473%\"      onmouseover=\"document.getElementById('_tp_dznvfzxcolmukkwwqaoz_ind_2').style.textDecoration = 'underline';document.getElementById('_fs_dznvfzxcolmukkwwqaoz_ind_2').style.opacity = 1;document.getElementById('_fb_dznvfzxcolmukkwwqaoz_ind_2').style.opacity = 1;\"      onmouseout=\"document.getElementById('_tp_dznvfzxcolmukkwwqaoz_ind_2').style.textDecoration = 'none';document.getElementById('_fs_dznvfzxcolmukkwwqaoz_ind_2').style.opacity = 0;document.getElementById('_fb_dznvfzxcolmukkwwqaoz_ind_2').style.opacity = 0;\" style=\"fill:rgb(0,0,0,0)\" /><g transform=\"translate(-1.5,0)\">  <svg x=\"35.578994315824474%\" y=\"40\" height=\"18\" overflow=\"visible\" width=\"30\">    <path d=\"M 0 -9 l 6 18 L 0 25\" fill=\"none\" style=\"stroke:rgb(255, 195, 213);stroke-width:2\" />  </svg></g><rect x=\"28.038983145981273%\" y=\"40\" height=\"20\" width=\"7.540011169843201%\"      onmouseover=\"document.getElementById('_tp_dznvfzxcolmukkwwqaoz_ind_1').style.textDecoration = 'underline';document.getElementById('_fs_dznvfzxcolmukkwwqaoz_ind_1').style.opacity = 1;document.getElementById('_fb_dznvfzxcolmukkwwqaoz_ind_1').style.opacity = 1;\"      onmouseout=\"document.getElementById('_tp_dznvfzxcolmukkwwqaoz_ind_1').style.textDecoration = 'none';document.getElementById('_fs_dznvfzxcolmukkwwqaoz_ind_1').style.opacity = 0;document.getElementById('_fb_dznvfzxcolmukkwwqaoz_ind_1').style.opacity = 0;\" style=\"fill:rgb(0,0,0,0)\" /><rect x=\"22.990884970927457%\" y=\"40\" height=\"20\" width=\"5.048098175053816%\"      onmouseover=\"document.getElementById('_tp_dznvfzxcolmukkwwqaoz_ind_3').style.textDecoration = 'underline';document.getElementById('_fs_dznvfzxcolmukkwwqaoz_ind_3').style.opacity = 1;document.getElementById('_fb_dznvfzxcolmukkwwqaoz_ind_3').style.opacity = 1;\"      onmouseout=\"document.getElementById('_tp_dznvfzxcolmukkwwqaoz_ind_3').style.textDecoration = 'none';document.getElementById('_fs_dznvfzxcolmukkwwqaoz_ind_3').style.opacity = 0;document.getElementById('_fb_dznvfzxcolmukkwwqaoz_ind_3').style.opacity = 0;\" style=\"fill:rgb(0,0,0,0)\" /><rect x=\"87.50170408507307%\" width=\"5.497466517728598%\" y=\"40\" height=\"18\" style=\"fill:rgb(0.0, 138.56128015770727, 250.76166088685727); stroke-width:0; stroke:rgb(0,0,0)\" /><line x1=\"87.50170408507307%\" x2=\"92.77713233422078%\" y1=\"60\" y2=\"60\" id=\"_fb_dznvfzxcolmukkwwqaoz_ind_6\" style=\"stroke:rgb(0.0, 138.56128015770727, 250.76166088685727);stroke-width:2; opacity: 0\"/><text x=\"90.13941820964692%\" y=\"71\" font-size=\"12px\" fill=\"rgb(0.0, 138.56128015770727, 250.76166088685727)\" id=\"_fs_dznvfzxcolmukkwwqaoz_ind_6\" style=\"opacity: 0\" dominant-baseline=\"middle\" text-anchor=\"middle\">-0.063</text><svg x=\"87.50170408507307%\" y=\"40\" height=\"20\" width=\"5.2754282491477085%\">  <svg x=\"0\" y=\"0\" width=\"100%\" height=\"100%\">    <text x=\"50%\" y=\"9\" font-size=\"12px\" fill=\"rgb(255,255,255)\" dominant-baseline=\"middle\" text-anchor=\"middle\"></text>  </svg></svg><line x1=\"92.77713233422078%\" x2=\"92.99917060280167%\" y1=\"60\" y2=\"60\" id=\"_fb_dznvfzxcolmukkwwqaoz_ind_4\" style=\"stroke:rgb(0.0, 138.56128015770727, 250.76166088685727);stroke-width:2; opacity: 0\"/><text x=\"92.88815146851123%\" y=\"71\" font-size=\"12px\" fill=\"rgb(0.0, 138.56128015770727, 250.76166088685727)\" id=\"_fs_dznvfzxcolmukkwwqaoz_ind_4\" style=\"opacity: 0\" dominant-baseline=\"middle\" text-anchor=\"middle\">-0.003</text><svg x=\"92.77713233422078%\" y=\"40\" height=\"20\" width=\"0.2220382685808886%\">  <svg x=\"0\" y=\"0\" width=\"100%\" height=\"100%\">    <text x=\"50%\" y=\"9\" font-size=\"12px\" fill=\"rgb(255,255,255)\" dominant-baseline=\"middle\" text-anchor=\"middle\">cricket</text>  </svg></svg><g transform=\"translate(-8,0)\">  <svg x=\"92.77713233422078%\" y=\"40\" height=\"18\" overflow=\"visible\" width=\"30\">    <path d=\"M 8 -9 l -6 18 L 8 25\" fill=\"none\" style=\"stroke:rgb(0.0, 138.56128015770727, 250.76166088685727);stroke-width:2\" />  </svg></g><g transform=\"translate(-10,0)\">  <svg x=\"92.77713233422078%\" y=\"40\" height=\"18\" overflow=\"visible\" width=\"30\">    <path d=\"M 8 -9 l -6 18 L 8 25\" fill=\"none\" style=\"stroke:rgb(0.0, 138.56128015770727, 250.76166088685727);stroke-width:2\" />  </svg></g><g transform=\"translate(-12,0)\">  <svg x=\"92.77713233422078%\" y=\"40\" height=\"18\" overflow=\"visible\" width=\"30\">    <path d=\"M 8 -9 l -6 18 L 8 25\" fill=\"none\" style=\"stroke:rgb(0.0, 138.56128015770727, 250.76166088685727);stroke-width:2\" />  </svg></g><g transform=\"translate(-14,0)\">  <svg x=\"92.77713233422078%\" y=\"40\" height=\"18\" overflow=\"visible\" width=\"30\">    <path d=\"M 8 -9 l -6 18 L 8 25\" fill=\"none\" style=\"stroke:rgb(0.0, 138.56128015770727, 250.76166088685727);stroke-width:2\" />  </svg></g><g transform=\"translate(2,0)\">  <svg x=\"92.77713233422078%\" y=\"40\" height=\"18\" overflow=\"visible\" width=\"30\">    <path d=\"M 8 -9 l -6 18 L 8 25\" fill=\"none\" style=\"stroke:rgb(0.0, 138.56128015770727, 250.76166088685727);stroke-width:2\" />  </svg></g><g transform=\"translate(0,0)\">  <svg x=\"92.77713233422078%\" y=\"40\" height=\"18\" overflow=\"visible\" width=\"30\">    <path d=\"M 8 -9 l -6 18 L 8 25\" fill=\"none\" style=\"stroke:rgb(0.0, 138.56128015770727, 250.76166088685727);stroke-width:2\" />  </svg></g><g transform=\"translate(-2,0)\">  <svg x=\"92.77713233422078%\" y=\"40\" height=\"18\" overflow=\"visible\" width=\"30\">    <path d=\"M 8 -9 l -6 18 L 8 25\" fill=\"none\" style=\"stroke:rgb(0.0, 138.56128015770727, 250.76166088685727);stroke-width:2\" />  </svg></g><g transform=\"translate(-4,0)\">  <svg x=\"92.77713233422078%\" y=\"40\" height=\"18\" overflow=\"visible\" width=\"30\">    <path d=\"M 8 -9 l -6 18 L 8 25\" fill=\"none\" style=\"stroke:rgb(0.0, 138.56128015770727, 250.76166088685727);stroke-width:2\" />  </svg></g><rect transform=\"translate(0,0)\" x=\"87.50170408507307%\" y=\"40\" width=\"8\" height=\"18\" style=\"fill:rgb(0.0, 138.56128015770727, 250.76166088685727)\"/><g transform=\"translate(-6.0,0)\">  <svg x=\"92.99917060280167%\" y=\"40\" height=\"18\" overflow=\"visible\" width=\"30\">    <path d=\"M 8 -9 l -6 18 L 8 25 L 20 25 L 20 -9\" fill=\"#ffffff\" style=\"stroke:rgb(255,255,255);stroke-width:2\" />  </svg></g><g transform=\"translate(-6.0,0)\">  <svg x=\"92.77713233422078%\" y=\"40\" height=\"18\" overflow=\"visible\" width=\"30\">    <path d=\"M 8 -9 l -6 18 L 8 25\" fill=\"none\" style=\"stroke:rgb(208, 230, 250);stroke-width:2\" />  </svg></g><rect x=\"87.50170408507307%\" y=\"40\" height=\"20\" width=\"5.2754282491477085%\"      onmouseover=\"document.getElementById('_tp_dznvfzxcolmukkwwqaoz_ind_6').style.textDecoration = 'underline';document.getElementById('_fs_dznvfzxcolmukkwwqaoz_ind_6').style.opacity = 1;document.getElementById('_fb_dznvfzxcolmukkwwqaoz_ind_6').style.opacity = 1;\"      onmouseout=\"document.getElementById('_tp_dznvfzxcolmukkwwqaoz_ind_6').style.textDecoration = 'none';document.getElementById('_fs_dznvfzxcolmukkwwqaoz_ind_6').style.opacity = 0;document.getElementById('_fb_dznvfzxcolmukkwwqaoz_ind_6').style.opacity = 0;\" style=\"fill:rgb(0,0,0,0)\" /><rect x=\"92.77713233422078%\" y=\"40\" height=\"20\" width=\"0.2220382685808886%\"      onmouseover=\"document.getElementById('_tp_dznvfzxcolmukkwwqaoz_ind_4').style.textDecoration = 'underline';document.getElementById('_fs_dznvfzxcolmukkwwqaoz_ind_4').style.opacity = 1;document.getElementById('_fb_dznvfzxcolmukkwwqaoz_ind_4').style.opacity = 1;\"      onmouseout=\"document.getElementById('_tp_dznvfzxcolmukkwwqaoz_ind_4').style.textDecoration = 'none';document.getElementById('_fs_dznvfzxcolmukkwwqaoz_ind_4').style.opacity = 0;document.getElementById('_fb_dznvfzxcolmukkwwqaoz_ind_4').style.opacity = 0;\" style=\"fill:rgb(0,0,0,0)\" /></svg><div align='center'><div style=\"color: rgb(120,120,120); font-size: 12px; margin-top: -15px;\">inputs</div><div style='display: inline; text-align: center;'\n",
       "    ><div style='display: none; color: #999; padding-top: 0px; font-size: 12px;'>0.261</div\n",
       "        ><div id='_tp_dznvfzxcolmukkwwqaoz_ind_0'\n",
       "            style='display: inline; background: rgba(255.0, 13.0, 87.0, 0.7714002772826303); border-radius: 3px; padding: 0px'\n",
       "            onclick=\"\n",
       "            if (this.previousSibling.style.display == 'none') {\n",
       "                this.previousSibling.style.display = 'block';\n",
       "                this.parentNode.style.display = 'inline-block';\n",
       "            } else {\n",
       "                this.previousSibling.style.display = 'none';\n",
       "                this.parentNode.style.display = 'inline';\n",
       "            }\"\n",
       "            onmouseover=\"document.getElementById('_fb_dznvfzxcolmukkwwqaoz_ind_0').style.opacity = 1; document.getElementById('_fs_dznvfzxcolmukkwwqaoz_ind_0').style.opacity = 1;\"\n",
       "            onmouseout=\"document.getElementById('_fb_dznvfzxcolmukkwwqaoz_ind_0').style.opacity = 0; document.getElementById('_fs_dznvfzxcolmukkwwqaoz_ind_0').style.opacity = 0;\"\n",
       "        ></div></div><div style='display: inline; text-align: center;'\n",
       "    ><div style='display: none; color: #999; padding-top: 0px; font-size: 12px;'>0.09</div\n",
       "        ><div id='_tp_dznvfzxcolmukkwwqaoz_ind_1'\n",
       "            style='display: inline; background: rgba(255.0, 13.0, 87.0, 0.2590215884333532); border-radius: 3px; padding: 0px'\n",
       "            onclick=\"\n",
       "            if (this.previousSibling.style.display == 'none') {\n",
       "                this.previousSibling.style.display = 'block';\n",
       "                this.parentNode.style.display = 'inline-block';\n",
       "            } else {\n",
       "                this.previousSibling.style.display = 'none';\n",
       "                this.parentNode.style.display = 'inline';\n",
       "            }\"\n",
       "            onmouseover=\"document.getElementById('_fb_dznvfzxcolmukkwwqaoz_ind_1').style.opacity = 1; document.getElementById('_fs_dznvfzxcolmukkwwqaoz_ind_1').style.opacity = 1;\"\n",
       "            onmouseout=\"document.getElementById('_fb_dznvfzxcolmukkwwqaoz_ind_1').style.opacity = 0; document.getElementById('_fs_dznvfzxcolmukkwwqaoz_ind_1').style.opacity = 0;\"\n",
       "        >I </div></div><div style='display: inline; text-align: center;'\n",
       "    ><div style='display: none; color: #999; padding-top: 0px; font-size: 12px;'>0.178</div\n",
       "        ><div id='_tp_dznvfzxcolmukkwwqaoz_ind_2'\n",
       "            style='display: inline; background: rgba(255.0, 13.0, 87.0, 0.5191523073876015); border-radius: 3px; padding: 0px'\n",
       "            onclick=\"\n",
       "            if (this.previousSibling.style.display == 'none') {\n",
       "                this.previousSibling.style.display = 'block';\n",
       "                this.parentNode.style.display = 'inline-block';\n",
       "            } else {\n",
       "                this.previousSibling.style.display = 'none';\n",
       "                this.parentNode.style.display = 'inline';\n",
       "            }\"\n",
       "            onmouseover=\"document.getElementById('_fb_dznvfzxcolmukkwwqaoz_ind_2').style.opacity = 1; document.getElementById('_fs_dznvfzxcolmukkwwqaoz_ind_2').style.opacity = 1;\"\n",
       "            onmouseout=\"document.getElementById('_fb_dznvfzxcolmukkwwqaoz_ind_2').style.opacity = 0; document.getElementById('_fs_dznvfzxcolmukkwwqaoz_ind_2').style.opacity = 0;\"\n",
       "        >love </div></div><div style='display: inline; text-align: center;'\n",
       "    ><div style='display: none; color: #999; padding-top: 0px; font-size: 12px;'>0.061</div\n",
       "        ><div id='_tp_dznvfzxcolmukkwwqaoz_ind_3'\n",
       "            style='display: inline; background: rgba(255.0, 13.0, 87.0, 0.17231134878193693); border-radius: 3px; padding: 0px'\n",
       "            onclick=\"\n",
       "            if (this.previousSibling.style.display == 'none') {\n",
       "                this.previousSibling.style.display = 'block';\n",
       "                this.parentNode.style.display = 'inline-block';\n",
       "            } else {\n",
       "                this.previousSibling.style.display = 'none';\n",
       "                this.parentNode.style.display = 'inline';\n",
       "            }\"\n",
       "            onmouseover=\"document.getElementById('_fb_dznvfzxcolmukkwwqaoz_ind_3').style.opacity = 1; document.getElementById('_fs_dznvfzxcolmukkwwqaoz_ind_3').style.opacity = 1;\"\n",
       "            onmouseout=\"document.getElementById('_fb_dznvfzxcolmukkwwqaoz_ind_3').style.opacity = 0; document.getElementById('_fs_dznvfzxcolmukkwwqaoz_ind_3').style.opacity = 0;\"\n",
       "        >playing </div></div><div style='display: inline; text-align: center;'\n",
       "    ><div style='display: none; color: #999; padding-top: 0px; font-size: 12px;'>-0.003</div\n",
       "        ><div id='_tp_dznvfzxcolmukkwwqaoz_ind_4'\n",
       "            style='display: inline; background: rgba(54.70588235294111, 122.49411764705886, 213.40784313725496, 0.0); border-radius: 3px; padding: 0px'\n",
       "            onclick=\"\n",
       "            if (this.previousSibling.style.display == 'none') {\n",
       "                this.previousSibling.style.display = 'block';\n",
       "                this.parentNode.style.display = 'inline-block';\n",
       "            } else {\n",
       "                this.previousSibling.style.display = 'none';\n",
       "                this.parentNode.style.display = 'inline';\n",
       "            }\"\n",
       "            onmouseover=\"document.getElementById('_fb_dznvfzxcolmukkwwqaoz_ind_4').style.opacity = 1; document.getElementById('_fs_dznvfzxcolmukkwwqaoz_ind_4').style.opacity = 1;\"\n",
       "            onmouseout=\"document.getElementById('_fb_dznvfzxcolmukkwwqaoz_ind_4').style.opacity = 0; document.getElementById('_fs_dznvfzxcolmukkwwqaoz_ind_4').style.opacity = 0;\"\n",
       "        >cricket</div></div><div style='display: inline; text-align: center;'\n",
       "    ><div style='display: none; color: #999; padding-top: 0px; font-size: 12px;'>0.183</div\n",
       "        ><div id='_tp_dznvfzxcolmukkwwqaoz_ind_5'\n",
       "            style='display: inline; background: rgba(255.0, 13.0, 87.0, 0.5349178055060405); border-radius: 3px; padding: 0px'\n",
       "            onclick=\"\n",
       "            if (this.previousSibling.style.display == 'none') {\n",
       "                this.previousSibling.style.display = 'block';\n",
       "                this.parentNode.style.display = 'inline-block';\n",
       "            } else {\n",
       "                this.previousSibling.style.display = 'none';\n",
       "                this.parentNode.style.display = 'inline';\n",
       "            }\"\n",
       "            onmouseover=\"document.getElementById('_fb_dznvfzxcolmukkwwqaoz_ind_5').style.opacity = 1; document.getElementById('_fs_dznvfzxcolmukkwwqaoz_ind_5').style.opacity = 1;\"\n",
       "            onmouseout=\"document.getElementById('_fb_dznvfzxcolmukkwwqaoz_ind_5').style.opacity = 0; document.getElementById('_fs_dznvfzxcolmukkwwqaoz_ind_5').style.opacity = 0;\"\n",
       "        >!</div></div><div style='display: inline; text-align: center;'\n",
       "    ><div style='display: none; color: #999; padding-top: 0px; font-size: 12px;'>-0.063</div\n",
       "        ><div id='_tp_dznvfzxcolmukkwwqaoz_ind_6'\n",
       "            style='display: inline; background: rgba(30.0, 136.0, 229.0, 0.18019409784115656); border-radius: 3px; padding: 0px'\n",
       "            onclick=\"\n",
       "            if (this.previousSibling.style.display == 'none') {\n",
       "                this.previousSibling.style.display = 'block';\n",
       "                this.parentNode.style.display = 'inline-block';\n",
       "            } else {\n",
       "                this.previousSibling.style.display = 'none';\n",
       "                this.parentNode.style.display = 'inline';\n",
       "            }\"\n",
       "            onmouseover=\"document.getElementById('_fb_dznvfzxcolmukkwwqaoz_ind_6').style.opacity = 1; document.getElementById('_fs_dznvfzxcolmukkwwqaoz_ind_6').style.opacity = 1;\"\n",
       "            onmouseout=\"document.getElementById('_fb_dznvfzxcolmukkwwqaoz_ind_6').style.opacity = 0; document.getElementById('_fs_dznvfzxcolmukkwwqaoz_ind_6').style.opacity = 0;\"\n",
       "        ></div></div></div></div><div id='_tp_yijyrxhfyoeyusubhaij_output_1_zoom' style='display: none;'><svg width=\"100%\" height=\"80px\"><line x1=\"0\" y1=\"33\" x2=\"100%\" y2=\"33\" style=\"stroke:rgb(150,150,150);stroke-width:1\" /><line x1=\"51.95573527734091%\" y1=\"33\" x2=\"51.95573527734091%\" y2=\"37\" style=\"stroke:rgb(150,150,150);stroke-width:1\" /><text x=\"51.95573527734091%\" y=\"27\" font-size=\"12px\" fill=\"rgb(120,120,120)\" dominant-baseline=\"bottom\" text-anchor=\"middle\">0.5</text><line x1=\"42.02820919323593%\" y1=\"33\" x2=\"42.02820919323593%\" y2=\"37\" style=\"stroke:rgb(150,150,150);stroke-width:1\" /><text x=\"42.02820919323593%\" y=\"27\" font-size=\"12px\" fill=\"rgb(120,120,120)\" dominant-baseline=\"bottom\" text-anchor=\"middle\">0.4</text><line x1=\"32.10068310913096%\" y1=\"33\" x2=\"32.10068310913096%\" y2=\"37\" style=\"stroke:rgb(150,150,150);stroke-width:1\" /><text x=\"32.10068310913096%\" y=\"27\" font-size=\"12px\" fill=\"rgb(120,120,120)\" dominant-baseline=\"bottom\" text-anchor=\"middle\">0.3</text><line x1=\"22.173157025025986%\" y1=\"33\" x2=\"22.173157025025986%\" y2=\"37\" style=\"stroke:rgb(150,150,150);stroke-width:1\" /><text x=\"22.173157025025986%\" y=\"27\" font-size=\"12px\" fill=\"rgb(120,120,120)\" dominant-baseline=\"bottom\" text-anchor=\"middle\">0.2</text><line x1=\"12.245630940921023%\" y1=\"33\" x2=\"12.245630940921023%\" y2=\"37\" style=\"stroke:rgb(150,150,150);stroke-width:1\" /><text x=\"12.245630940921023%\" y=\"27\" font-size=\"12px\" fill=\"rgb(120,120,120)\" dominant-baseline=\"bottom\" text-anchor=\"middle\">0.1</text><line x1=\"61.88326136144587%\" y1=\"33\" x2=\"61.88326136144587%\" y2=\"37\" style=\"stroke:rgb(150,150,150);stroke-width:1\" /><text x=\"61.88326136144587%\" y=\"27\" font-size=\"12px\" fill=\"rgb(120,120,120)\" dominant-baseline=\"bottom\" text-anchor=\"middle\">0.6</text><line x1=\"71.81078744555083%\" y1=\"33\" x2=\"71.81078744555083%\" y2=\"37\" style=\"stroke:rgb(150,150,150);stroke-width:1\" /><text x=\"71.81078744555083%\" y=\"27\" font-size=\"12px\" fill=\"rgb(120,120,120)\" dominant-baseline=\"bottom\" text-anchor=\"middle\">0.7</text><line x1=\"81.73831352965581%\" y1=\"33\" x2=\"81.73831352965581%\" y2=\"37\" style=\"stroke:rgb(150,150,150);stroke-width:1\" /><text x=\"81.73831352965581%\" y=\"27\" font-size=\"12px\" fill=\"rgb(120,120,120)\" dominant-baseline=\"bottom\" text-anchor=\"middle\">0.8</text><line x1=\"91.66583961376077%\" y1=\"33\" x2=\"91.66583961376077%\" y2=\"37\" style=\"stroke:rgb(150,150,150);stroke-width:1\" /><text x=\"91.66583961376077%\" y=\"27\" font-size=\"12px\" fill=\"rgb(120,120,120)\" dominant-baseline=\"bottom\" text-anchor=\"middle\">0.9</text><line x1=\"14.877161615029957%\" y1=\"33\" x2=\"14.877161615029957%\" y2=\"37\" style=\"stroke:rgb(150,150,150);stroke-width:1\" /><text x=\"14.877161615029957%\" y=\"27\" font-size=\"13px\" style=\"stroke:#ffffff;stroke-width:8px;\" fill=\"rgb(255,255,255)\" dominant-baseline=\"bottom\" text-anchor=\"middle\">0.126507</text><text x=\"14.877161615029957%\" y=\"27\" font-size=\"12px\" fill=\"rgb(120,120,120)\" dominant-baseline=\"bottom\" text-anchor=\"middle\">0.126507</text><text x=\"14.877161615029957%\" y=\"10\" font-size=\"12px\" fill=\"rgb(120,120,120)\" dominant-baseline=\"bottom\" text-anchor=\"middle\">base value</text><line x1=\"85.12283739221743%\" y1=\"33\" x2=\"85.12283739221743%\" y2=\"37\" style=\"stroke:rgb(150,150,150);stroke-width:1\" /><text x=\"85.12283739221743%\" y=\"27\" font-size=\"13px\" style=\"stroke:#ffffff;stroke-width:8px;\" font-weight=\"bold\" fill=\"rgb(255,255,255)\" dominant-baseline=\"bottom\" text-anchor=\"middle\">0.834092</text><text x=\"85.12283739221743%\" y=\"27\" font-size=\"13px\" font-weight=\"bold\" fill=\"rgb(0,0,0)\" dominant-baseline=\"bottom\" text-anchor=\"middle\">0.834092</text><text x=\"85.12283739221743%\" y=\"10\" font-size=\"12px\" fill=\"rgb(120,120,120)\" dominant-baseline=\"bottom\" text-anchor=\"middle\">f<tspan baseline-shift=\"sub\" font-size=\"8px\">sports</tspan>(inputs)</text><rect x=\"8.33333325060395%\" width=\"76.78950414161348%\" y=\"40\" height=\"18\" style=\"fill:rgb(255.0, 0.0, 81.08083606031792); stroke-width:0; stroke:rgb(0,0,0)\" /><line x1=\"59.16325684425423%\" x2=\"85.12283739221743%\" y1=\"60\" y2=\"60\" id=\"_fb_mvqvgbziiczypbnqdpyi_ind_0\" style=\"stroke:rgb(255.0, 0.0, 81.08083606031792);stroke-width:2; opacity: 0\"/><text x=\"72.14304711823583%\" y=\"71\" font-size=\"12px\" id=\"_fs_mvqvgbziiczypbnqdpyi_ind_0\" fill=\"rgb(255.0, 0.0, 81.08083606031792)\" style=\"opacity: 0\" dominant-baseline=\"middle\" text-anchor=\"middle\">0.261</text><svg x=\"59.16325684425423%\" y=\"40\" height=\"20\" width=\"25.959580547963206%\">  <svg x=\"0\" y=\"0\" width=\"100%\" height=\"100%\">    <text x=\"50%\" y=\"9\" font-size=\"12px\" fill=\"rgb(255,255,255)\" dominant-baseline=\"middle\" text-anchor=\"middle\"></text>  </svg></svg><line x1=\"40.96011624822735%\" x2=\"59.16325684425423%\" y1=\"60\" y2=\"60\" id=\"_fb_mvqvgbziiczypbnqdpyi_ind_5\" style=\"stroke:rgb(255.0, 0.0, 81.08083606031792);stroke-width:2; opacity: 0\"/><text x=\"50.06168654624079%\" y=\"71\" font-size=\"12px\" id=\"_fs_mvqvgbziiczypbnqdpyi_ind_5\" fill=\"rgb(255.0, 0.0, 81.08083606031792)\" style=\"opacity: 0\" dominant-baseline=\"middle\" text-anchor=\"middle\">0.183</text><svg x=\"40.96011624822735%\" y=\"40\" height=\"20\" width=\"18.203140596026877%\">  <svg x=\"0\" y=\"0\" width=\"100%\" height=\"100%\">    <text x=\"50%\" y=\"9\" font-size=\"12px\" fill=\"rgb(255,255,255)\" dominant-baseline=\"middle\" text-anchor=\"middle\">!</text>  </svg></svg><line x1=\"23.317403952987796%\" x2=\"40.96011624822735%\" y1=\"60\" y2=\"60\" id=\"_fb_mvqvgbziiczypbnqdpyi_ind_2\" style=\"stroke:rgb(255.0, 0.0, 81.08083606031792);stroke-width:2; opacity: 0\"/><text x=\"32.13876010060757%\" y=\"71\" font-size=\"12px\" id=\"_fs_mvqvgbziiczypbnqdpyi_ind_2\" fill=\"rgb(255.0, 0.0, 81.08083606031792)\" style=\"opacity: 0\" dominant-baseline=\"middle\" text-anchor=\"middle\">0.178</text><svg x=\"23.317403952987796%\" y=\"40\" height=\"20\" width=\"17.642712295239555%\">  <svg x=\"0\" y=\"0\" width=\"100%\" height=\"100%\">    <text x=\"50%\" y=\"9\" font-size=\"12px\" fill=\"rgb(255,255,255)\" dominant-baseline=\"middle\" text-anchor=\"middle\">love</text>  </svg></svg><line x1=\"14.34226262157773%\" x2=\"23.317403952987796%\" y1=\"60\" y2=\"60\" id=\"_fb_mvqvgbziiczypbnqdpyi_ind_1\" style=\"stroke:rgb(255.0, 0.0, 81.08083606031792);stroke-width:2; opacity: 0\"/><text x=\"18.829833287282764%\" y=\"71\" font-size=\"12px\" id=\"_fs_mvqvgbziiczypbnqdpyi_ind_1\" fill=\"rgb(255.0, 0.0, 81.08083606031792)\" style=\"opacity: 0\" dominant-baseline=\"middle\" text-anchor=\"middle\">0.09</text><svg x=\"14.34226262157773%\" y=\"40\" height=\"20\" width=\"8.975141331410066%\">  <svg x=\"0\" y=\"0\" width=\"100%\" height=\"100%\">    <text x=\"50%\" y=\"9\" font-size=\"12px\" fill=\"rgb(255,255,255)\" dominant-baseline=\"middle\" text-anchor=\"middle\">I</text>  </svg></svg><line x1=\"8.33333325060395%\" x2=\"14.34226262157773%\" y1=\"60\" y2=\"60\" id=\"_fb_mvqvgbziiczypbnqdpyi_ind_3\" style=\"stroke:rgb(255.0, 0.0, 81.08083606031792);stroke-width:2; opacity: 0\"/><text x=\"11.33779793609084%\" y=\"71\" font-size=\"12px\" id=\"_fs_mvqvgbziiczypbnqdpyi_ind_3\" fill=\"rgb(255.0, 0.0, 81.08083606031792)\" style=\"opacity: 0\" dominant-baseline=\"middle\" text-anchor=\"middle\">0.061</text><svg x=\"8.33333325060395%\" y=\"40\" height=\"20\" width=\"6.00892937097378%\">  <svg x=\"0\" y=\"0\" width=\"100%\" height=\"100%\">    <text x=\"50%\" y=\"9\" font-size=\"12px\" fill=\"rgb(255,255,255)\" dominant-baseline=\"middle\" text-anchor=\"middle\">playing</text>  </svg></svg><g transform=\"translate(0,0)\">  <svg x=\"59.16325684425423%\" y=\"40\" height=\"18\" overflow=\"visible\" width=\"30\">    <path d=\"M 0 -9 l 6 18 L 0 25\" fill=\"none\" style=\"stroke:rgb(255.0, 0.0, 81.08083606031792);stroke-width:2\" />  </svg></g><g transform=\"translate(2,0)\">  <svg x=\"59.16325684425423%\" y=\"40\" height=\"18\" overflow=\"visible\" width=\"30\">    <path d=\"M 0 -9 l 6 18 L 0 25\" fill=\"none\" style=\"stroke:rgb(255.0, 0.0, 81.08083606031792);stroke-width:2\" />  </svg></g><g transform=\"translate(4,0)\">  <svg x=\"59.16325684425423%\" y=\"40\" height=\"18\" overflow=\"visible\" width=\"30\">    <path d=\"M 0 -9 l 6 18 L 0 25\" fill=\"none\" style=\"stroke:rgb(255.0, 0.0, 81.08083606031792);stroke-width:2\" />  </svg></g><g transform=\"translate(6,0)\">  <svg x=\"59.16325684425423%\" y=\"40\" height=\"18\" overflow=\"visible\" width=\"30\">    <path d=\"M 0 -9 l 6 18 L 0 25\" fill=\"none\" style=\"stroke:rgb(255.0, 0.0, 81.08083606031792);stroke-width:2\" />  </svg></g><g transform=\"translate(-8,0)\">  <svg x=\"59.16325684425423%\" y=\"40\" height=\"18\" overflow=\"visible\" width=\"30\">    <path d=\"M 0 -9 l 6 18 L 0 25\" fill=\"none\" style=\"stroke:rgb(255.0, 0.0, 81.08083606031792);stroke-width:2\" />  </svg></g><g transform=\"translate(-6,0)\">  <svg x=\"59.16325684425423%\" y=\"40\" height=\"18\" overflow=\"visible\" width=\"30\">    <path d=\"M 0 -9 l 6 18 L 0 25\" fill=\"none\" style=\"stroke:rgb(255.0, 0.0, 81.08083606031792);stroke-width:2\" />  </svg></g><g transform=\"translate(-4,0)\">  <svg x=\"59.16325684425423%\" y=\"40\" height=\"18\" overflow=\"visible\" width=\"30\">    <path d=\"M 0 -9 l 6 18 L 0 25\" fill=\"none\" style=\"stroke:rgb(255.0, 0.0, 81.08083606031792);stroke-width:2\" />  </svg></g><g transform=\"translate(-2,0)\">  <svg x=\"59.16325684425423%\" y=\"40\" height=\"18\" overflow=\"visible\" width=\"30\">    <path d=\"M 0 -9 l 6 18 L 0 25\" fill=\"none\" style=\"stroke:rgb(255.0, 0.0, 81.08083606031792);stroke-width:2\" />  </svg></g><g transform=\"translate(0,0)\">  <svg x=\"40.96011624822735%\" y=\"40\" height=\"18\" overflow=\"visible\" width=\"30\">    <path d=\"M 0 -9 l 6 18 L 0 25\" fill=\"none\" style=\"stroke:rgb(255.0, 0.0, 81.08083606031792);stroke-width:2\" />  </svg></g><g transform=\"translate(2,0)\">  <svg x=\"40.96011624822735%\" y=\"40\" height=\"18\" overflow=\"visible\" width=\"30\">    <path d=\"M 0 -9 l 6 18 L 0 25\" fill=\"none\" style=\"stroke:rgb(255.0, 0.0, 81.08083606031792);stroke-width:2\" />  </svg></g><g transform=\"translate(4,0)\">  <svg x=\"40.96011624822735%\" y=\"40\" height=\"18\" overflow=\"visible\" width=\"30\">    <path d=\"M 0 -9 l 6 18 L 0 25\" fill=\"none\" style=\"stroke:rgb(255.0, 0.0, 81.08083606031792);stroke-width:2\" />  </svg></g><g transform=\"translate(6,0)\">  <svg x=\"40.96011624822735%\" y=\"40\" height=\"18\" overflow=\"visible\" width=\"30\">    <path d=\"M 0 -9 l 6 18 L 0 25\" fill=\"none\" style=\"stroke:rgb(255.0, 0.0, 81.08083606031792);stroke-width:2\" />  </svg></g><g transform=\"translate(-8,0)\">  <svg x=\"40.96011624822735%\" y=\"40\" height=\"18\" overflow=\"visible\" width=\"30\">    <path d=\"M 0 -9 l 6 18 L 0 25\" fill=\"none\" style=\"stroke:rgb(255.0, 0.0, 81.08083606031792);stroke-width:2\" />  </svg></g><g transform=\"translate(-6,0)\">  <svg x=\"40.96011624822735%\" y=\"40\" height=\"18\" overflow=\"visible\" width=\"30\">    <path d=\"M 0 -9 l 6 18 L 0 25\" fill=\"none\" style=\"stroke:rgb(255.0, 0.0, 81.08083606031792);stroke-width:2\" />  </svg></g><g transform=\"translate(-4,0)\">  <svg x=\"40.96011624822735%\" y=\"40\" height=\"18\" overflow=\"visible\" width=\"30\">    <path d=\"M 0 -9 l 6 18 L 0 25\" fill=\"none\" style=\"stroke:rgb(255.0, 0.0, 81.08083606031792);stroke-width:2\" />  </svg></g><g transform=\"translate(-2,0)\">  <svg x=\"40.96011624822735%\" y=\"40\" height=\"18\" overflow=\"visible\" width=\"30\">    <path d=\"M 0 -9 l 6 18 L 0 25\" fill=\"none\" style=\"stroke:rgb(255.0, 0.0, 81.08083606031792);stroke-width:2\" />  </svg></g><g transform=\"translate(0,0)\">  <svg x=\"23.317403952987796%\" y=\"40\" height=\"18\" overflow=\"visible\" width=\"30\">    <path d=\"M 0 -9 l 6 18 L 0 25\" fill=\"none\" style=\"stroke:rgb(255.0, 0.0, 81.08083606031792);stroke-width:2\" />  </svg></g><g transform=\"translate(2,0)\">  <svg x=\"23.317403952987796%\" y=\"40\" height=\"18\" overflow=\"visible\" width=\"30\">    <path d=\"M 0 -9 l 6 18 L 0 25\" fill=\"none\" style=\"stroke:rgb(255.0, 0.0, 81.08083606031792);stroke-width:2\" />  </svg></g><g transform=\"translate(4,0)\">  <svg x=\"23.317403952987796%\" y=\"40\" height=\"18\" overflow=\"visible\" width=\"30\">    <path d=\"M 0 -9 l 6 18 L 0 25\" fill=\"none\" style=\"stroke:rgb(255.0, 0.0, 81.08083606031792);stroke-width:2\" />  </svg></g><g transform=\"translate(6,0)\">  <svg x=\"23.317403952987796%\" y=\"40\" height=\"18\" overflow=\"visible\" width=\"30\">    <path d=\"M 0 -9 l 6 18 L 0 25\" fill=\"none\" style=\"stroke:rgb(255.0, 0.0, 81.08083606031792);stroke-width:2\" />  </svg></g><g transform=\"translate(-8,0)\">  <svg x=\"23.317403952987796%\" y=\"40\" height=\"18\" overflow=\"visible\" width=\"30\">    <path d=\"M 0 -9 l 6 18 L 0 25\" fill=\"none\" style=\"stroke:rgb(255.0, 0.0, 81.08083606031792);stroke-width:2\" />  </svg></g><g transform=\"translate(-6,0)\">  <svg x=\"23.317403952987796%\" y=\"40\" height=\"18\" overflow=\"visible\" width=\"30\">    <path d=\"M 0 -9 l 6 18 L 0 25\" fill=\"none\" style=\"stroke:rgb(255.0, 0.0, 81.08083606031792);stroke-width:2\" />  </svg></g><g transform=\"translate(-4,0)\">  <svg x=\"23.317403952987796%\" y=\"40\" height=\"18\" overflow=\"visible\" width=\"30\">    <path d=\"M 0 -9 l 6 18 L 0 25\" fill=\"none\" style=\"stroke:rgb(255.0, 0.0, 81.08083606031792);stroke-width:2\" />  </svg></g><g transform=\"translate(-2,0)\">  <svg x=\"23.317403952987796%\" y=\"40\" height=\"18\" overflow=\"visible\" width=\"30\">    <path d=\"M 0 -9 l 6 18 L 0 25\" fill=\"none\" style=\"stroke:rgb(255.0, 0.0, 81.08083606031792);stroke-width:2\" />  </svg></g><g transform=\"translate(0,0)\">  <svg x=\"14.34226262157773%\" y=\"40\" height=\"18\" overflow=\"visible\" width=\"30\">    <path d=\"M 0 -9 l 6 18 L 0 25\" fill=\"none\" style=\"stroke:rgb(255.0, 0.0, 81.08083606031792);stroke-width:2\" />  </svg></g><g transform=\"translate(2,0)\">  <svg x=\"14.34226262157773%\" y=\"40\" height=\"18\" overflow=\"visible\" width=\"30\">    <path d=\"M 0 -9 l 6 18 L 0 25\" fill=\"none\" style=\"stroke:rgb(255.0, 0.0, 81.08083606031792);stroke-width:2\" />  </svg></g><g transform=\"translate(4,0)\">  <svg x=\"14.34226262157773%\" y=\"40\" height=\"18\" overflow=\"visible\" width=\"30\">    <path d=\"M 0 -9 l 6 18 L 0 25\" fill=\"none\" style=\"stroke:rgb(255.0, 0.0, 81.08083606031792);stroke-width:2\" />  </svg></g><g transform=\"translate(6,0)\">  <svg x=\"14.34226262157773%\" y=\"40\" height=\"18\" overflow=\"visible\" width=\"30\">    <path d=\"M 0 -9 l 6 18 L 0 25\" fill=\"none\" style=\"stroke:rgb(255.0, 0.0, 81.08083606031792);stroke-width:2\" />  </svg></g><g transform=\"translate(-8,0)\">  <svg x=\"14.34226262157773%\" y=\"40\" height=\"18\" overflow=\"visible\" width=\"30\">    <path d=\"M 0 -9 l 6 18 L 0 25\" fill=\"none\" style=\"stroke:rgb(255.0, 0.0, 81.08083606031792);stroke-width:2\" />  </svg></g><g transform=\"translate(-6,0)\">  <svg x=\"14.34226262157773%\" y=\"40\" height=\"18\" overflow=\"visible\" width=\"30\">    <path d=\"M 0 -9 l 6 18 L 0 25\" fill=\"none\" style=\"stroke:rgb(255.0, 0.0, 81.08083606031792);stroke-width:2\" />  </svg></g><g transform=\"translate(-4,0)\">  <svg x=\"14.34226262157773%\" y=\"40\" height=\"18\" overflow=\"visible\" width=\"30\">    <path d=\"M 0 -9 l 6 18 L 0 25\" fill=\"none\" style=\"stroke:rgb(255.0, 0.0, 81.08083606031792);stroke-width:2\" />  </svg></g><g transform=\"translate(-2,0)\">  <svg x=\"14.34226262157773%\" y=\"40\" height=\"18\" overflow=\"visible\" width=\"30\">    <path d=\"M 0 -9 l 6 18 L 0 25\" fill=\"none\" style=\"stroke:rgb(255.0, 0.0, 81.08083606031792);stroke-width:2\" />  </svg></g><rect transform=\"translate(-8,0)\" x=\"85.12283739221743%\" y=\"40\" width=\"8\" height=\"18\" style=\"fill:rgb(255.0, 0.0, 81.08083606031792)\"/><g transform=\"translate(-11.5,0)\">  <svg x=\"8.33333325060395%\" y=\"40\" height=\"18\" overflow=\"visible\" width=\"30\">    <path d=\"M 10 -9 l 6 18 L 10 25 L 0 25 L 0 -9\" fill=\"#ffffff\" style=\"stroke:rgb(255,255,255);stroke-width:2\" />  </svg></g><g transform=\"translate(-1.5,0)\">  <svg x=\"85.12283739221743%\" y=\"40\" height=\"18\" overflow=\"visible\" width=\"30\">    <path d=\"M 0 -9 l 6 18 L 0 25\" fill=\"none\" style=\"stroke:rgb(255, 195, 213);stroke-width:2\" />  </svg></g><rect x=\"59.16325684425423%\" y=\"40\" height=\"20\" width=\"25.959580547963206%\"      onmouseover=\"document.getElementById('_tp_mvqvgbziiczypbnqdpyi_ind_0').style.textDecoration = 'underline';document.getElementById('_fs_mvqvgbziiczypbnqdpyi_ind_0').style.opacity = 1;document.getElementById('_fb_mvqvgbziiczypbnqdpyi_ind_0').style.opacity = 1;\"      onmouseout=\"document.getElementById('_tp_mvqvgbziiczypbnqdpyi_ind_0').style.textDecoration = 'none';document.getElementById('_fs_mvqvgbziiczypbnqdpyi_ind_0').style.opacity = 0;document.getElementById('_fb_mvqvgbziiczypbnqdpyi_ind_0').style.opacity = 0;\" style=\"fill:rgb(0,0,0,0)\" /><g transform=\"translate(-1.5,0)\">  <svg x=\"59.16325684425423%\" y=\"40\" height=\"18\" overflow=\"visible\" width=\"30\">    <path d=\"M 0 -9 l 6 18 L 0 25\" fill=\"none\" style=\"stroke:rgb(255, 195, 213);stroke-width:2\" />  </svg></g><rect x=\"40.96011624822735%\" y=\"40\" height=\"20\" width=\"18.203140596026877%\"      onmouseover=\"document.getElementById('_tp_mvqvgbziiczypbnqdpyi_ind_5').style.textDecoration = 'underline';document.getElementById('_fs_mvqvgbziiczypbnqdpyi_ind_5').style.opacity = 1;document.getElementById('_fb_mvqvgbziiczypbnqdpyi_ind_5').style.opacity = 1;\"      onmouseout=\"document.getElementById('_tp_mvqvgbziiczypbnqdpyi_ind_5').style.textDecoration = 'none';document.getElementById('_fs_mvqvgbziiczypbnqdpyi_ind_5').style.opacity = 0;document.getElementById('_fb_mvqvgbziiczypbnqdpyi_ind_5').style.opacity = 0;\" style=\"fill:rgb(0,0,0,0)\" /><g transform=\"translate(-1.5,0)\">  <svg x=\"40.96011624822735%\" y=\"40\" height=\"18\" overflow=\"visible\" width=\"30\">    <path d=\"M 0 -9 l 6 18 L 0 25\" fill=\"none\" style=\"stroke:rgb(255, 195, 213);stroke-width:2\" />  </svg></g><rect x=\"23.317403952987796%\" y=\"40\" height=\"20\" width=\"17.642712295239555%\"      onmouseover=\"document.getElementById('_tp_mvqvgbziiczypbnqdpyi_ind_2').style.textDecoration = 'underline';document.getElementById('_fs_mvqvgbziiczypbnqdpyi_ind_2').style.opacity = 1;document.getElementById('_fb_mvqvgbziiczypbnqdpyi_ind_2').style.opacity = 1;\"      onmouseout=\"document.getElementById('_tp_mvqvgbziiczypbnqdpyi_ind_2').style.textDecoration = 'none';document.getElementById('_fs_mvqvgbziiczypbnqdpyi_ind_2').style.opacity = 0;document.getElementById('_fb_mvqvgbziiczypbnqdpyi_ind_2').style.opacity = 0;\" style=\"fill:rgb(0,0,0,0)\" /><g transform=\"translate(-1.5,0)\">  <svg x=\"23.317403952987796%\" y=\"40\" height=\"18\" overflow=\"visible\" width=\"30\">    <path d=\"M 0 -9 l 6 18 L 0 25\" fill=\"none\" style=\"stroke:rgb(255, 195, 213);stroke-width:2\" />  </svg></g><rect x=\"14.34226262157773%\" y=\"40\" height=\"20\" width=\"8.975141331410066%\"      onmouseover=\"document.getElementById('_tp_mvqvgbziiczypbnqdpyi_ind_1').style.textDecoration = 'underline';document.getElementById('_fs_mvqvgbziiczypbnqdpyi_ind_1').style.opacity = 1;document.getElementById('_fb_mvqvgbziiczypbnqdpyi_ind_1').style.opacity = 1;\"      onmouseout=\"document.getElementById('_tp_mvqvgbziiczypbnqdpyi_ind_1').style.textDecoration = 'none';document.getElementById('_fs_mvqvgbziiczypbnqdpyi_ind_1').style.opacity = 0;document.getElementById('_fb_mvqvgbziiczypbnqdpyi_ind_1').style.opacity = 0;\" style=\"fill:rgb(0,0,0,0)\" /><rect x=\"8.33333325060395%\" y=\"40\" height=\"20\" width=\"6.00892937097378%\"      onmouseover=\"document.getElementById('_tp_mvqvgbziiczypbnqdpyi_ind_3').style.textDecoration = 'underline';document.getElementById('_fs_mvqvgbziiczypbnqdpyi_ind_3').style.opacity = 1;document.getElementById('_fb_mvqvgbziiczypbnqdpyi_ind_3').style.opacity = 1;\"      onmouseout=\"document.getElementById('_tp_mvqvgbziiczypbnqdpyi_ind_3').style.textDecoration = 'none';document.getElementById('_fs_mvqvgbziiczypbnqdpyi_ind_3').style.opacity = 0;document.getElementById('_fb_mvqvgbziiczypbnqdpyi_ind_3').style.opacity = 0;\" style=\"fill:rgb(0,0,0,0)\" /><rect x=\"85.12283739221743%\" width=\"6.543828364426009%\" y=\"40\" height=\"18\" style=\"fill:rgb(0.0, 138.56128015770727, 250.76166088685727); stroke-width:0; stroke:rgb(0,0,0)\" /><line x1=\"85.12283739221743%\" x2=\"91.40236577132438%\" y1=\"60\" y2=\"60\" id=\"_fb_mvqvgbziiczypbnqdpyi_ind_6\" style=\"stroke:rgb(0.0, 138.56128015770727, 250.76166088685727);stroke-width:2; opacity: 0\"/><text x=\"88.26260158177091%\" y=\"71\" font-size=\"12px\" fill=\"rgb(0.0, 138.56128015770727, 250.76166088685727)\" id=\"_fs_mvqvgbziiczypbnqdpyi_ind_6\" style=\"opacity: 0\" dominant-baseline=\"middle\" text-anchor=\"middle\">-0.063</text><svg x=\"85.12283739221743%\" y=\"40\" height=\"20\" width=\"6.279528379106949%\">  <svg x=\"0\" y=\"0\" width=\"100%\" height=\"100%\">    <text x=\"50%\" y=\"9\" font-size=\"12px\" fill=\"rgb(255,255,255)\" dominant-baseline=\"middle\" text-anchor=\"middle\"></text>  </svg></svg><line x1=\"91.40236577132438%\" x2=\"91.66666575664344%\" y1=\"60\" y2=\"60\" id=\"_fb_mvqvgbziiczypbnqdpyi_ind_4\" style=\"stroke:rgb(0.0, 138.56128015770727, 250.76166088685727);stroke-width:2; opacity: 0\"/><text x=\"91.5345157639839%\" y=\"71\" font-size=\"12px\" fill=\"rgb(0.0, 138.56128015770727, 250.76166088685727)\" id=\"_fs_mvqvgbziiczypbnqdpyi_ind_4\" style=\"opacity: 0\" dominant-baseline=\"middle\" text-anchor=\"middle\">-0.003</text><svg x=\"91.40236577132438%\" y=\"40\" height=\"20\" width=\"0.26429998531905596%\">  <svg x=\"0\" y=\"0\" width=\"100%\" height=\"100%\">    <text x=\"50%\" y=\"9\" font-size=\"12px\" fill=\"rgb(255,255,255)\" dominant-baseline=\"middle\" text-anchor=\"middle\">cricket</text>  </svg></svg><g transform=\"translate(-8,0)\">  <svg x=\"91.40236577132438%\" y=\"40\" height=\"18\" overflow=\"visible\" width=\"30\">    <path d=\"M 8 -9 l -6 18 L 8 25\" fill=\"none\" style=\"stroke:rgb(0.0, 138.56128015770727, 250.76166088685727);stroke-width:2\" />  </svg></g><g transform=\"translate(-10,0)\">  <svg x=\"91.40236577132438%\" y=\"40\" height=\"18\" overflow=\"visible\" width=\"30\">    <path d=\"M 8 -9 l -6 18 L 8 25\" fill=\"none\" style=\"stroke:rgb(0.0, 138.56128015770727, 250.76166088685727);stroke-width:2\" />  </svg></g><g transform=\"translate(-12,0)\">  <svg x=\"91.40236577132438%\" y=\"40\" height=\"18\" overflow=\"visible\" width=\"30\">    <path d=\"M 8 -9 l -6 18 L 8 25\" fill=\"none\" style=\"stroke:rgb(0.0, 138.56128015770727, 250.76166088685727);stroke-width:2\" />  </svg></g><g transform=\"translate(-14,0)\">  <svg x=\"91.40236577132438%\" y=\"40\" height=\"18\" overflow=\"visible\" width=\"30\">    <path d=\"M 8 -9 l -6 18 L 8 25\" fill=\"none\" style=\"stroke:rgb(0.0, 138.56128015770727, 250.76166088685727);stroke-width:2\" />  </svg></g><g transform=\"translate(2,0)\">  <svg x=\"91.40236577132438%\" y=\"40\" height=\"18\" overflow=\"visible\" width=\"30\">    <path d=\"M 8 -9 l -6 18 L 8 25\" fill=\"none\" style=\"stroke:rgb(0.0, 138.56128015770727, 250.76166088685727);stroke-width:2\" />  </svg></g><g transform=\"translate(0,0)\">  <svg x=\"91.40236577132438%\" y=\"40\" height=\"18\" overflow=\"visible\" width=\"30\">    <path d=\"M 8 -9 l -6 18 L 8 25\" fill=\"none\" style=\"stroke:rgb(0.0, 138.56128015770727, 250.76166088685727);stroke-width:2\" />  </svg></g><g transform=\"translate(-2,0)\">  <svg x=\"91.40236577132438%\" y=\"40\" height=\"18\" overflow=\"visible\" width=\"30\">    <path d=\"M 8 -9 l -6 18 L 8 25\" fill=\"none\" style=\"stroke:rgb(0.0, 138.56128015770727, 250.76166088685727);stroke-width:2\" />  </svg></g><g transform=\"translate(-4,0)\">  <svg x=\"91.40236577132438%\" y=\"40\" height=\"18\" overflow=\"visible\" width=\"30\">    <path d=\"M 8 -9 l -6 18 L 8 25\" fill=\"none\" style=\"stroke:rgb(0.0, 138.56128015770727, 250.76166088685727);stroke-width:2\" />  </svg></g><rect transform=\"translate(0,0)\" x=\"85.12283739221743%\" y=\"40\" width=\"8\" height=\"18\" style=\"fill:rgb(0.0, 138.56128015770727, 250.76166088685727)\"/><g transform=\"translate(-6.0,0)\">  <svg x=\"91.66666575664344%\" y=\"40\" height=\"18\" overflow=\"visible\" width=\"30\">    <path d=\"M 8 -9 l -6 18 L 8 25 L 20 25 L 20 -9\" fill=\"#ffffff\" style=\"stroke:rgb(255,255,255);stroke-width:2\" />  </svg></g><g transform=\"translate(-6.0,0)\">  <svg x=\"91.40236577132438%\" y=\"40\" height=\"18\" overflow=\"visible\" width=\"30\">    <path d=\"M 8 -9 l -6 18 L 8 25\" fill=\"none\" style=\"stroke:rgb(208, 230, 250);stroke-width:2\" />  </svg></g><rect x=\"85.12283739221743%\" y=\"40\" height=\"20\" width=\"6.279528379106949%\"      onmouseover=\"document.getElementById('_tp_mvqvgbziiczypbnqdpyi_ind_6').style.textDecoration = 'underline';document.getElementById('_fs_mvqvgbziiczypbnqdpyi_ind_6').style.opacity = 1;document.getElementById('_fb_mvqvgbziiczypbnqdpyi_ind_6').style.opacity = 1;\"      onmouseout=\"document.getElementById('_tp_mvqvgbziiczypbnqdpyi_ind_6').style.textDecoration = 'none';document.getElementById('_fs_mvqvgbziiczypbnqdpyi_ind_6').style.opacity = 0;document.getElementById('_fb_mvqvgbziiczypbnqdpyi_ind_6').style.opacity = 0;\" style=\"fill:rgb(0,0,0,0)\" /><rect x=\"91.40236577132438%\" y=\"40\" height=\"20\" width=\"0.26429998531905596%\"      onmouseover=\"document.getElementById('_tp_mvqvgbziiczypbnqdpyi_ind_4').style.textDecoration = 'underline';document.getElementById('_fs_mvqvgbziiczypbnqdpyi_ind_4').style.opacity = 1;document.getElementById('_fb_mvqvgbziiczypbnqdpyi_ind_4').style.opacity = 1;\"      onmouseout=\"document.getElementById('_tp_mvqvgbziiczypbnqdpyi_ind_4').style.textDecoration = 'none';document.getElementById('_fs_mvqvgbziiczypbnqdpyi_ind_4').style.opacity = 0;document.getElementById('_fb_mvqvgbziiczypbnqdpyi_ind_4').style.opacity = 0;\" style=\"fill:rgb(0,0,0,0)\" /></svg><div align='center'><div style=\"color: rgb(120,120,120); font-size: 12px; margin-top: -15px;\">inputs</div><div style='display: inline; text-align: center;'\n",
       "    ><div style='display: none; color: #999; padding-top: 0px; font-size: 12px;'>0.261</div\n",
       "        ><div id='_tp_mvqvgbziiczypbnqdpyi_ind_0'\n",
       "            style='display: inline; background: rgba(255.0, 13.0, 87.0, 1.0); border-radius: 3px; padding: 0px'\n",
       "            onclick=\"\n",
       "            if (this.previousSibling.style.display == 'none') {\n",
       "                this.previousSibling.style.display = 'block';\n",
       "                this.parentNode.style.display = 'inline-block';\n",
       "            } else {\n",
       "                this.previousSibling.style.display = 'none';\n",
       "                this.parentNode.style.display = 'inline';\n",
       "            }\"\n",
       "            onmouseover=\"document.getElementById('_fb_mvqvgbziiczypbnqdpyi_ind_0').style.opacity = 1; document.getElementById('_fs_mvqvgbziiczypbnqdpyi_ind_0').style.opacity = 1;\"\n",
       "            onmouseout=\"document.getElementById('_fb_mvqvgbziiczypbnqdpyi_ind_0').style.opacity = 0; document.getElementById('_fs_mvqvgbziiczypbnqdpyi_ind_0').style.opacity = 0;\"\n",
       "        ></div></div><div style='display: inline; text-align: center;'\n",
       "    ><div style='display: none; color: #999; padding-top: 0px; font-size: 12px;'>0.09</div\n",
       "        ><div id='_tp_mvqvgbziiczypbnqdpyi_ind_1'\n",
       "            style='display: inline; background: rgba(255.0, 13.0, 87.0, 0.3457318280847692); border-radius: 3px; padding: 0px'\n",
       "            onclick=\"\n",
       "            if (this.previousSibling.style.display == 'none') {\n",
       "                this.previousSibling.style.display = 'block';\n",
       "                this.parentNode.style.display = 'inline-block';\n",
       "            } else {\n",
       "                this.previousSibling.style.display = 'none';\n",
       "                this.parentNode.style.display = 'inline';\n",
       "            }\"\n",
       "            onmouseover=\"document.getElementById('_fb_mvqvgbziiczypbnqdpyi_ind_1').style.opacity = 1; document.getElementById('_fs_mvqvgbziiczypbnqdpyi_ind_1').style.opacity = 1;\"\n",
       "            onmouseout=\"document.getElementById('_fb_mvqvgbziiczypbnqdpyi_ind_1').style.opacity = 0; document.getElementById('_fs_mvqvgbziiczypbnqdpyi_ind_1').style.opacity = 0;\"\n",
       "        >I </div></div><div style='display: inline; text-align: center;'\n",
       "    ><div style='display: none; color: #999; padding-top: 0px; font-size: 12px;'>0.178</div\n",
       "        ><div id='_tp_mvqvgbziiczypbnqdpyi_ind_2'\n",
       "            style='display: inline; background: rgba(255.0, 13.0, 87.0, 0.6768072885719946); border-radius: 3px; padding: 0px'\n",
       "            onclick=\"\n",
       "            if (this.previousSibling.style.display == 'none') {\n",
       "                this.previousSibling.style.display = 'block';\n",
       "                this.parentNode.style.display = 'inline-block';\n",
       "            } else {\n",
       "                this.previousSibling.style.display = 'none';\n",
       "                this.parentNode.style.display = 'inline';\n",
       "            }\"\n",
       "            onmouseover=\"document.getElementById('_fb_mvqvgbziiczypbnqdpyi_ind_2').style.opacity = 1; document.getElementById('_fs_mvqvgbziiczypbnqdpyi_ind_2').style.opacity = 1;\"\n",
       "            onmouseout=\"document.getElementById('_fb_mvqvgbziiczypbnqdpyi_ind_2').style.opacity = 0; document.getElementById('_fs_mvqvgbziiczypbnqdpyi_ind_2').style.opacity = 0;\"\n",
       "        >love </div></div><div style='display: inline; text-align: center;'\n",
       "    ><div style='display: none; color: #999; padding-top: 0px; font-size: 12px;'>0.061</div\n",
       "        ><div id='_tp_mvqvgbziiczypbnqdpyi_ind_3'\n",
       "            style='display: inline; background: rgba(255.0, 13.0, 87.0, 0.22749059219647458); border-radius: 3px; padding: 0px'\n",
       "            onclick=\"\n",
       "            if (this.previousSibling.style.display == 'none') {\n",
       "                this.previousSibling.style.display = 'block';\n",
       "                this.parentNode.style.display = 'inline-block';\n",
       "            } else {\n",
       "                this.previousSibling.style.display = 'none';\n",
       "                this.parentNode.style.display = 'inline';\n",
       "            }\"\n",
       "            onmouseover=\"document.getElementById('_fb_mvqvgbziiczypbnqdpyi_ind_3').style.opacity = 1; document.getElementById('_fs_mvqvgbziiczypbnqdpyi_ind_3').style.opacity = 1;\"\n",
       "            onmouseout=\"document.getElementById('_fb_mvqvgbziiczypbnqdpyi_ind_3').style.opacity = 0; document.getElementById('_fs_mvqvgbziiczypbnqdpyi_ind_3').style.opacity = 0;\"\n",
       "        >playing </div></div><div style='display: inline; text-align: center;'\n",
       "    ><div style='display: none; color: #999; padding-top: 0px; font-size: 12px;'>-0.003</div\n",
       "        ><div id='_tp_mvqvgbziiczypbnqdpyi_ind_4'\n",
       "            style='display: inline; background: rgba(30.0, 136.0, 229.0, 0.006773618538324436); border-radius: 3px; padding: 0px'\n",
       "            onclick=\"\n",
       "            if (this.previousSibling.style.display == 'none') {\n",
       "                this.previousSibling.style.display = 'block';\n",
       "                this.parentNode.style.display = 'inline-block';\n",
       "            } else {\n",
       "                this.previousSibling.style.display = 'none';\n",
       "                this.parentNode.style.display = 'inline';\n",
       "            }\"\n",
       "            onmouseover=\"document.getElementById('_fb_mvqvgbziiczypbnqdpyi_ind_4').style.opacity = 1; document.getElementById('_fs_mvqvgbziiczypbnqdpyi_ind_4').style.opacity = 1;\"\n",
       "            onmouseout=\"document.getElementById('_fb_mvqvgbziiczypbnqdpyi_ind_4').style.opacity = 0; document.getElementById('_fs_mvqvgbziiczypbnqdpyi_ind_4').style.opacity = 0;\"\n",
       "        >cricket</div></div><div style='display: inline; text-align: center;'\n",
       "    ><div style='display: none; color: #999; padding-top: 0px; font-size: 12px;'>0.183</div\n",
       "        ><div id='_tp_mvqvgbziiczypbnqdpyi_ind_5'\n",
       "            style='display: inline; background: rgba(255.0, 13.0, 87.0, 0.7004555357496535); border-radius: 3px; padding: 0px'\n",
       "            onclick=\"\n",
       "            if (this.previousSibling.style.display == 'none') {\n",
       "                this.previousSibling.style.display = 'block';\n",
       "                this.parentNode.style.display = 'inline-block';\n",
       "            } else {\n",
       "                this.previousSibling.style.display = 'none';\n",
       "                this.parentNode.style.display = 'inline';\n",
       "            }\"\n",
       "            onmouseover=\"document.getElementById('_fb_mvqvgbziiczypbnqdpyi_ind_5').style.opacity = 1; document.getElementById('_fs_mvqvgbziiczypbnqdpyi_ind_5').style.opacity = 1;\"\n",
       "            onmouseout=\"document.getElementById('_fb_mvqvgbziiczypbnqdpyi_ind_5').style.opacity = 0; document.getElementById('_fs_mvqvgbziiczypbnqdpyi_ind_5').style.opacity = 0;\"\n",
       "        >!</div></div><div style='display: inline; text-align: center;'\n",
       "    ><div style='display: none; color: #999; padding-top: 0px; font-size: 12px;'>-0.063</div\n",
       "        ><div id='_tp_mvqvgbziiczypbnqdpyi_ind_6'\n",
       "            style='display: inline; background: rgba(30.0, 136.0, 229.0, 0.23537334125569417); border-radius: 3px; padding: 0px'\n",
       "            onclick=\"\n",
       "            if (this.previousSibling.style.display == 'none') {\n",
       "                this.previousSibling.style.display = 'block';\n",
       "                this.parentNode.style.display = 'inline-block';\n",
       "            } else {\n",
       "                this.previousSibling.style.display = 'none';\n",
       "                this.parentNode.style.display = 'inline';\n",
       "            }\"\n",
       "            onmouseover=\"document.getElementById('_fb_mvqvgbziiczypbnqdpyi_ind_6').style.opacity = 1; document.getElementById('_fs_mvqvgbziiczypbnqdpyi_ind_6').style.opacity = 1;\"\n",
       "            onmouseout=\"document.getElementById('_fb_mvqvgbziiczypbnqdpyi_ind_6').style.opacity = 0; document.getElementById('_fs_mvqvgbziiczypbnqdpyi_ind_6').style.opacity = 0;\"\n",
       "        ></div></div></div></div><div id='_tp_yijyrxhfyoeyusubhaij_output_2' style='display: none';><svg width=\"100%\" height=\"80px\"><line x1=\"0\" y1=\"33\" x2=\"100%\" y2=\"33\" style=\"stroke:rgb(150,150,150);stroke-width:1\" /><line x1=\"51.29793124381455%\" y1=\"33\" x2=\"51.29793124381455%\" y2=\"37\" style=\"stroke:rgb(150,150,150);stroke-width:1\" /><text x=\"51.29793124381455%\" y=\"27\" font-size=\"12px\" fill=\"rgb(120,120,120)\" dominant-baseline=\"bottom\" text-anchor=\"middle\">0.4</text><line x1=\"34.6177131170876%\" y1=\"33\" x2=\"34.6177131170876%\" y2=\"37\" style=\"stroke:rgb(150,150,150);stroke-width:1\" /><text x=\"34.6177131170876%\" y=\"27\" font-size=\"12px\" fill=\"rgb(120,120,120)\" dominant-baseline=\"bottom\" text-anchor=\"middle\">0.2</text><line x1=\"17.937494990360644%\" y1=\"33\" x2=\"17.937494990360644%\" y2=\"37\" style=\"stroke:rgb(150,150,150);stroke-width:1\" /><text x=\"17.937494990360644%\" y=\"27\" font-size=\"12px\" fill=\"rgb(120,120,120)\" dominant-baseline=\"bottom\" text-anchor=\"middle\">0</text><line x1=\"67.97814937054153%\" y1=\"33\" x2=\"67.97814937054153%\" y2=\"37\" style=\"stroke:rgb(150,150,150);stroke-width:1\" /><text x=\"67.97814937054153%\" y=\"27\" font-size=\"12px\" fill=\"rgb(120,120,120)\" dominant-baseline=\"bottom\" text-anchor=\"middle\">0.6</text><line x1=\"84.65836749726849%\" y1=\"33\" x2=\"84.65836749726849%\" y2=\"37\" style=\"stroke:rgb(150,150,150);stroke-width:1\" /><text x=\"84.65836749726849%\" y=\"27\" font-size=\"12px\" fill=\"rgb(120,120,120)\" dominant-baseline=\"bottom\" text-anchor=\"middle\">0.8</text><line x1=\"74.82759585173619%\" y1=\"33\" x2=\"74.82759585173619%\" y2=\"37\" style=\"stroke:rgb(150,150,150);stroke-width:1\" /><text x=\"74.82759585173619%\" y=\"27\" font-size=\"13px\" style=\"stroke:#ffffff;stroke-width:8px;\" fill=\"rgb(255,255,255)\" dominant-baseline=\"bottom\" text-anchor=\"middle\">0.682127</text><text x=\"74.82759585173619%\" y=\"27\" font-size=\"12px\" fill=\"rgb(120,120,120)\" dominant-baseline=\"bottom\" text-anchor=\"middle\">0.682127</text><text x=\"74.82759585173619%\" y=\"10\" font-size=\"12px\" fill=\"rgb(120,120,120)\" dominant-baseline=\"bottom\" text-anchor=\"middle\">base value</text><line x1=\"18.14854605735285%\" y1=\"33\" x2=\"18.14854605735285%\" y2=\"37\" style=\"stroke:rgb(150,150,150);stroke-width:1\" /><text x=\"18.14854605735285%\" y=\"27\" font-size=\"13px\" style=\"stroke:#ffffff;stroke-width:8px;\" font-weight=\"bold\" fill=\"rgb(255,255,255)\" dominant-baseline=\"bottom\" text-anchor=\"middle\">0.00253056</text><text x=\"18.14854605735285%\" y=\"27\" font-size=\"13px\" font-weight=\"bold\" fill=\"rgb(0,0,0)\" dominant-baseline=\"bottom\" text-anchor=\"middle\">0.00253056</text><text x=\"18.14854605735285%\" y=\"10\" font-size=\"12px\" fill=\"rgb(120,120,120)\" dominant-baseline=\"bottom\" text-anchor=\"middle\">f<tspan baseline-shift=\"sub\" font-size=\"8px\">animal</tspan>(inputs)</text><rect x=\"7.748011825757419%\" width=\"10.40053423159543%\" y=\"40\" height=\"18\" style=\"fill:rgb(255.0, 0.0, 81.08083606031792); stroke-width:0; stroke:rgb(0,0,0)\" /><line x1=\"9.235338544975612%\" x2=\"18.14854605735285%\" y1=\"60\" y2=\"60\" id=\"_fb_ewlsxyqzonlokgvtjkhq_ind_0\" style=\"stroke:rgb(255.0, 0.0, 81.08083606031792);stroke-width:2; opacity: 0\"/><text x=\"13.69194230116423%\" y=\"71\" font-size=\"12px\" id=\"_fs_ewlsxyqzonlokgvtjkhq_ind_0\" fill=\"rgb(255.0, 0.0, 81.08083606031792)\" style=\"opacity: 0\" dominant-baseline=\"middle\" text-anchor=\"middle\">0.107</text><svg x=\"9.235338544975612%\" y=\"40\" height=\"20\" width=\"8.913207512377237%\">  <svg x=\"0\" y=\"0\" width=\"100%\" height=\"100%\">    <text x=\"50%\" y=\"9\" font-size=\"12px\" fill=\"rgb(255,255,255)\" dominant-baseline=\"middle\" text-anchor=\"middle\"></text>  </svg></svg><line x1=\"7.748011825757419%\" x2=\"9.235338544975612%\" y1=\"60\" y2=\"60\" id=\"_fb_ewlsxyqzonlokgvtjkhq_ind_2\" style=\"stroke:rgb(255.0, 0.0, 81.08083606031792);stroke-width:2; opacity: 0\"/><text x=\"8.491675185366516%\" y=\"71\" font-size=\"12px\" id=\"_fs_ewlsxyqzonlokgvtjkhq_ind_2\" fill=\"rgb(255.0, 0.0, 81.08083606031792)\" style=\"opacity: 0\" dominant-baseline=\"middle\" text-anchor=\"middle\">0.018</text><svg x=\"7.748011825757419%\" y=\"40\" height=\"20\" width=\"1.487326719218193%\">  <svg x=\"0\" y=\"0\" width=\"100%\" height=\"100%\">    <text x=\"50%\" y=\"9\" font-size=\"12px\" fill=\"rgb(255,255,255)\" dominant-baseline=\"middle\" text-anchor=\"middle\">love</text>  </svg></svg><g transform=\"translate(0,0)\">  <svg x=\"9.235338544975612%\" y=\"40\" height=\"18\" overflow=\"visible\" width=\"30\">    <path d=\"M 0 -9 l 6 18 L 0 25\" fill=\"none\" style=\"stroke:rgb(255.0, 0.0, 81.08083606031792);stroke-width:2\" />  </svg></g><g transform=\"translate(2,0)\">  <svg x=\"9.235338544975612%\" y=\"40\" height=\"18\" overflow=\"visible\" width=\"30\">    <path d=\"M 0 -9 l 6 18 L 0 25\" fill=\"none\" style=\"stroke:rgb(255.0, 0.0, 81.08083606031792);stroke-width:2\" />  </svg></g><g transform=\"translate(4,0)\">  <svg x=\"9.235338544975612%\" y=\"40\" height=\"18\" overflow=\"visible\" width=\"30\">    <path d=\"M 0 -9 l 6 18 L 0 25\" fill=\"none\" style=\"stroke:rgb(255.0, 0.0, 81.08083606031792);stroke-width:2\" />  </svg></g><g transform=\"translate(6,0)\">  <svg x=\"9.235338544975612%\" y=\"40\" height=\"18\" overflow=\"visible\" width=\"30\">    <path d=\"M 0 -9 l 6 18 L 0 25\" fill=\"none\" style=\"stroke:rgb(255.0, 0.0, 81.08083606031792);stroke-width:2\" />  </svg></g><g transform=\"translate(-8,0)\">  <svg x=\"9.235338544975612%\" y=\"40\" height=\"18\" overflow=\"visible\" width=\"30\">    <path d=\"M 0 -9 l 6 18 L 0 25\" fill=\"none\" style=\"stroke:rgb(255.0, 0.0, 81.08083606031792);stroke-width:2\" />  </svg></g><g transform=\"translate(-6,0)\">  <svg x=\"9.235338544975612%\" y=\"40\" height=\"18\" overflow=\"visible\" width=\"30\">    <path d=\"M 0 -9 l 6 18 L 0 25\" fill=\"none\" style=\"stroke:rgb(255.0, 0.0, 81.08083606031792);stroke-width:2\" />  </svg></g><g transform=\"translate(-4,0)\">  <svg x=\"9.235338544975612%\" y=\"40\" height=\"18\" overflow=\"visible\" width=\"30\">    <path d=\"M 0 -9 l 6 18 L 0 25\" fill=\"none\" style=\"stroke:rgb(255.0, 0.0, 81.08083606031792);stroke-width:2\" />  </svg></g><g transform=\"translate(-2,0)\">  <svg x=\"9.235338544975612%\" y=\"40\" height=\"18\" overflow=\"visible\" width=\"30\">    <path d=\"M 0 -9 l 6 18 L 0 25\" fill=\"none\" style=\"stroke:rgb(255.0, 0.0, 81.08083606031792);stroke-width:2\" />  </svg></g><rect transform=\"translate(-8,0)\" x=\"18.14854605735285%\" y=\"40\" width=\"8\" height=\"18\" style=\"fill:rgb(255.0, 0.0, 81.08083606031792)\"/><g transform=\"translate(-11.5,0)\">  <svg x=\"7.748011825757419%\" y=\"40\" height=\"18\" overflow=\"visible\" width=\"30\">    <path d=\"M 10 -9 l 6 18 L 10 25 L 0 25 L 0 -9\" fill=\"#ffffff\" style=\"stroke:rgb(255,255,255);stroke-width:2\" />  </svg></g><g transform=\"translate(-1.5,0)\">  <svg x=\"18.14854605735285%\" y=\"40\" height=\"18\" overflow=\"visible\" width=\"30\">    <path d=\"M 0 -9 l 6 18 L 0 25\" fill=\"none\" style=\"stroke:rgb(255, 195, 213);stroke-width:2\" />  </svg></g><rect x=\"9.235338544975612%\" y=\"40\" height=\"20\" width=\"8.913207512377237%\"      onmouseover=\"document.getElementById('_tp_ewlsxyqzonlokgvtjkhq_ind_0').style.textDecoration = 'underline';document.getElementById('_fs_ewlsxyqzonlokgvtjkhq_ind_0').style.opacity = 1;document.getElementById('_fb_ewlsxyqzonlokgvtjkhq_ind_0').style.opacity = 1;\"      onmouseout=\"document.getElementById('_tp_ewlsxyqzonlokgvtjkhq_ind_0').style.textDecoration = 'none';document.getElementById('_fs_ewlsxyqzonlokgvtjkhq_ind_0').style.opacity = 0;document.getElementById('_fb_ewlsxyqzonlokgvtjkhq_ind_0').style.opacity = 0;\" style=\"fill:rgb(0,0,0,0)\" /><rect x=\"7.748011825757419%\" y=\"40\" height=\"20\" width=\"1.487326719218193%\"      onmouseover=\"document.getElementById('_tp_ewlsxyqzonlokgvtjkhq_ind_2').style.textDecoration = 'underline';document.getElementById('_fs_ewlsxyqzonlokgvtjkhq_ind_2').style.opacity = 1;document.getElementById('_fb_ewlsxyqzonlokgvtjkhq_ind_2').style.opacity = 1;\"      onmouseout=\"document.getElementById('_tp_ewlsxyqzonlokgvtjkhq_ind_2').style.textDecoration = 'none';document.getElementById('_fs_ewlsxyqzonlokgvtjkhq_ind_2').style.opacity = 0;document.getElementById('_fb_ewlsxyqzonlokgvtjkhq_ind_2').style.opacity = 0;\" style=\"fill:rgb(0,0,0,0)\" /><rect x=\"18.14854605735285%\" width=\"67.07958402597878%\" y=\"40\" height=\"18\" style=\"fill:rgb(0.0, 138.56128015770727, 250.76166088685727); stroke-width:0; stroke:rgb(0,0,0)\" /><line x1=\"18.14854605735285%\" x2=\"46.59359648804063%\" y1=\"60\" y2=\"60\" id=\"_fb_ewlsxyqzonlokgvtjkhq_ind_6\" style=\"stroke:rgb(0.0, 138.56128015770727, 250.76166088685727);stroke-width:2; opacity: 0\"/><text x=\"32.37107127269674%\" y=\"71\" font-size=\"12px\" fill=\"rgb(0.0, 138.56128015770727, 250.76166088685727)\" id=\"_fs_ewlsxyqzonlokgvtjkhq_ind_6\" style=\"opacity: 0\" dominant-baseline=\"middle\" text-anchor=\"middle\">-0.341</text><svg x=\"18.14854605735285%\" y=\"40\" height=\"20\" width=\"28.445050430687782%\">  <svg x=\"0\" y=\"0\" width=\"100%\" height=\"100%\">    <text x=\"50%\" y=\"9\" font-size=\"12px\" fill=\"rgb(255,255,255)\" dominant-baseline=\"middle\" text-anchor=\"middle\"></text>  </svg></svg><line x1=\"46.59359648804063%\" x2=\"60.769964071745385%\" y1=\"60\" y2=\"60\" id=\"_fb_ewlsxyqzonlokgvtjkhq_ind_5\" style=\"stroke:rgb(0.0, 138.56128015770727, 250.76166088685727);stroke-width:2; opacity: 0\"/><text x=\"53.681780279893005%\" y=\"71\" font-size=\"12px\" fill=\"rgb(0.0, 138.56128015770727, 250.76166088685727)\" id=\"_fs_ewlsxyqzonlokgvtjkhq_ind_5\" style=\"opacity: 0\" dominant-baseline=\"middle\" text-anchor=\"middle\">-0.17</text><svg x=\"46.59359648804063%\" y=\"40\" height=\"20\" width=\"14.176367583704753%\">  <svg x=\"0\" y=\"0\" width=\"100%\" height=\"100%\">    <text x=\"50%\" y=\"9\" font-size=\"12px\" fill=\"rgb(255,255,255)\" dominant-baseline=\"middle\" text-anchor=\"middle\">!</text>  </svg></svg><line x1=\"60.769964071745385%\" x2=\"71.63288681564111%\" y1=\"60\" y2=\"60\" id=\"_fb_ewlsxyqzonlokgvtjkhq_ind_3\" style=\"stroke:rgb(0.0, 138.56128015770727, 250.76166088685727);stroke-width:2; opacity: 0\"/><text x=\"66.20142544369325%\" y=\"71\" font-size=\"12px\" fill=\"rgb(0.0, 138.56128015770727, 250.76166088685727)\" id=\"_fs_ewlsxyqzonlokgvtjkhq_ind_3\" style=\"opacity: 0\" dominant-baseline=\"middle\" text-anchor=\"middle\">-0.13</text><svg x=\"60.769964071745385%\" y=\"40\" height=\"20\" width=\"10.86292274389573%\">  <svg x=\"0\" y=\"0\" width=\"100%\" height=\"100%\">    <text x=\"50%\" y=\"9\" font-size=\"12px\" fill=\"rgb(255,255,255)\" dominant-baseline=\"middle\" text-anchor=\"middle\">playing</text>  </svg></svg><line x1=\"71.63288681564111%\" x2=\"81.59123744646851%\" y1=\"60\" y2=\"60\" id=\"_fb_ewlsxyqzonlokgvtjkhq_ind_4\" style=\"stroke:rgb(0.0, 138.56128015770727, 250.76166088685727);stroke-width:2; opacity: 0\"/><text x=\"76.61206213105481%\" y=\"71\" font-size=\"12px\" fill=\"rgb(0.0, 138.56128015770727, 250.76166088685727)\" id=\"_fs_ewlsxyqzonlokgvtjkhq_ind_4\" style=\"opacity: 0\" dominant-baseline=\"middle\" text-anchor=\"middle\">-0.119</text><svg x=\"71.63288681564111%\" y=\"40\" height=\"20\" width=\"9.958350630827397%\">  <svg x=\"0\" y=\"0\" width=\"100%\" height=\"100%\">    <text x=\"50%\" y=\"9\" font-size=\"12px\" fill=\"rgb(255,255,255)\" dominant-baseline=\"middle\" text-anchor=\"middle\">cricket</text>  </svg></svg><line x1=\"81.59123744646851%\" x2=\"85.22813008333162%\" y1=\"60\" y2=\"60\" id=\"_fb_ewlsxyqzonlokgvtjkhq_ind_1\" style=\"stroke:rgb(0.0, 138.56128015770727, 250.76166088685727);stroke-width:2; opacity: 0\"/><text x=\"83.40968376490007%\" y=\"71\" font-size=\"12px\" fill=\"rgb(0.0, 138.56128015770727, 250.76166088685727)\" id=\"_fs_ewlsxyqzonlokgvtjkhq_ind_1\" style=\"opacity: 0\" dominant-baseline=\"middle\" text-anchor=\"middle\">-0.044</text><svg x=\"81.59123744646851%\" y=\"40\" height=\"20\" width=\"3.6368926368631094%\">  <svg x=\"0\" y=\"0\" width=\"100%\" height=\"100%\">    <text x=\"50%\" y=\"9\" font-size=\"12px\" fill=\"rgb(255,255,255)\" dominant-baseline=\"middle\" text-anchor=\"middle\">I</text>  </svg></svg><g transform=\"translate(-8,0)\">  <svg x=\"46.59359648804063%\" y=\"40\" height=\"18\" overflow=\"visible\" width=\"30\">    <path d=\"M 8 -9 l -6 18 L 8 25\" fill=\"none\" style=\"stroke:rgb(0.0, 138.56128015770727, 250.76166088685727);stroke-width:2\" />  </svg></g><g transform=\"translate(-10,0)\">  <svg x=\"46.59359648804063%\" y=\"40\" height=\"18\" overflow=\"visible\" width=\"30\">    <path d=\"M 8 -9 l -6 18 L 8 25\" fill=\"none\" style=\"stroke:rgb(0.0, 138.56128015770727, 250.76166088685727);stroke-width:2\" />  </svg></g><g transform=\"translate(-12,0)\">  <svg x=\"46.59359648804063%\" y=\"40\" height=\"18\" overflow=\"visible\" width=\"30\">    <path d=\"M 8 -9 l -6 18 L 8 25\" fill=\"none\" style=\"stroke:rgb(0.0, 138.56128015770727, 250.76166088685727);stroke-width:2\" />  </svg></g><g transform=\"translate(-14,0)\">  <svg x=\"46.59359648804063%\" y=\"40\" height=\"18\" overflow=\"visible\" width=\"30\">    <path d=\"M 8 -9 l -6 18 L 8 25\" fill=\"none\" style=\"stroke:rgb(0.0, 138.56128015770727, 250.76166088685727);stroke-width:2\" />  </svg></g><g transform=\"translate(2,0)\">  <svg x=\"46.59359648804063%\" y=\"40\" height=\"18\" overflow=\"visible\" width=\"30\">    <path d=\"M 8 -9 l -6 18 L 8 25\" fill=\"none\" style=\"stroke:rgb(0.0, 138.56128015770727, 250.76166088685727);stroke-width:2\" />  </svg></g><g transform=\"translate(0,0)\">  <svg x=\"46.59359648804063%\" y=\"40\" height=\"18\" overflow=\"visible\" width=\"30\">    <path d=\"M 8 -9 l -6 18 L 8 25\" fill=\"none\" style=\"stroke:rgb(0.0, 138.56128015770727, 250.76166088685727);stroke-width:2\" />  </svg></g><g transform=\"translate(-2,0)\">  <svg x=\"46.59359648804063%\" y=\"40\" height=\"18\" overflow=\"visible\" width=\"30\">    <path d=\"M 8 -9 l -6 18 L 8 25\" fill=\"none\" style=\"stroke:rgb(0.0, 138.56128015770727, 250.76166088685727);stroke-width:2\" />  </svg></g><g transform=\"translate(-4,0)\">  <svg x=\"46.59359648804063%\" y=\"40\" height=\"18\" overflow=\"visible\" width=\"30\">    <path d=\"M 8 -9 l -6 18 L 8 25\" fill=\"none\" style=\"stroke:rgb(0.0, 138.56128015770727, 250.76166088685727);stroke-width:2\" />  </svg></g><g transform=\"translate(-8,0)\">  <svg x=\"60.769964071745385%\" y=\"40\" height=\"18\" overflow=\"visible\" width=\"30\">    <path d=\"M 8 -9 l -6 18 L 8 25\" fill=\"none\" style=\"stroke:rgb(0.0, 138.56128015770727, 250.76166088685727);stroke-width:2\" />  </svg></g><g transform=\"translate(-10,0)\">  <svg x=\"60.769964071745385%\" y=\"40\" height=\"18\" overflow=\"visible\" width=\"30\">    <path d=\"M 8 -9 l -6 18 L 8 25\" fill=\"none\" style=\"stroke:rgb(0.0, 138.56128015770727, 250.76166088685727);stroke-width:2\" />  </svg></g><g transform=\"translate(-12,0)\">  <svg x=\"60.769964071745385%\" y=\"40\" height=\"18\" overflow=\"visible\" width=\"30\">    <path d=\"M 8 -9 l -6 18 L 8 25\" fill=\"none\" style=\"stroke:rgb(0.0, 138.56128015770727, 250.76166088685727);stroke-width:2\" />  </svg></g><g transform=\"translate(-14,0)\">  <svg x=\"60.769964071745385%\" y=\"40\" height=\"18\" overflow=\"visible\" width=\"30\">    <path d=\"M 8 -9 l -6 18 L 8 25\" fill=\"none\" style=\"stroke:rgb(0.0, 138.56128015770727, 250.76166088685727);stroke-width:2\" />  </svg></g><g transform=\"translate(2,0)\">  <svg x=\"60.769964071745385%\" y=\"40\" height=\"18\" overflow=\"visible\" width=\"30\">    <path d=\"M 8 -9 l -6 18 L 8 25\" fill=\"none\" style=\"stroke:rgb(0.0, 138.56128015770727, 250.76166088685727);stroke-width:2\" />  </svg></g><g transform=\"translate(0,0)\">  <svg x=\"60.769964071745385%\" y=\"40\" height=\"18\" overflow=\"visible\" width=\"30\">    <path d=\"M 8 -9 l -6 18 L 8 25\" fill=\"none\" style=\"stroke:rgb(0.0, 138.56128015770727, 250.76166088685727);stroke-width:2\" />  </svg></g><g transform=\"translate(-2,0)\">  <svg x=\"60.769964071745385%\" y=\"40\" height=\"18\" overflow=\"visible\" width=\"30\">    <path d=\"M 8 -9 l -6 18 L 8 25\" fill=\"none\" style=\"stroke:rgb(0.0, 138.56128015770727, 250.76166088685727);stroke-width:2\" />  </svg></g><g transform=\"translate(-4,0)\">  <svg x=\"60.769964071745385%\" y=\"40\" height=\"18\" overflow=\"visible\" width=\"30\">    <path d=\"M 8 -9 l -6 18 L 8 25\" fill=\"none\" style=\"stroke:rgb(0.0, 138.56128015770727, 250.76166088685727);stroke-width:2\" />  </svg></g><g transform=\"translate(-8,0)\">  <svg x=\"71.63288681564111%\" y=\"40\" height=\"18\" overflow=\"visible\" width=\"30\">    <path d=\"M 8 -9 l -6 18 L 8 25\" fill=\"none\" style=\"stroke:rgb(0.0, 138.56128015770727, 250.76166088685727);stroke-width:2\" />  </svg></g><g transform=\"translate(-10,0)\">  <svg x=\"71.63288681564111%\" y=\"40\" height=\"18\" overflow=\"visible\" width=\"30\">    <path d=\"M 8 -9 l -6 18 L 8 25\" fill=\"none\" style=\"stroke:rgb(0.0, 138.56128015770727, 250.76166088685727);stroke-width:2\" />  </svg></g><g transform=\"translate(-12,0)\">  <svg x=\"71.63288681564111%\" y=\"40\" height=\"18\" overflow=\"visible\" width=\"30\">    <path d=\"M 8 -9 l -6 18 L 8 25\" fill=\"none\" style=\"stroke:rgb(0.0, 138.56128015770727, 250.76166088685727);stroke-width:2\" />  </svg></g><g transform=\"translate(-14,0)\">  <svg x=\"71.63288681564111%\" y=\"40\" height=\"18\" overflow=\"visible\" width=\"30\">    <path d=\"M 8 -9 l -6 18 L 8 25\" fill=\"none\" style=\"stroke:rgb(0.0, 138.56128015770727, 250.76166088685727);stroke-width:2\" />  </svg></g><g transform=\"translate(2,0)\">  <svg x=\"71.63288681564111%\" y=\"40\" height=\"18\" overflow=\"visible\" width=\"30\">    <path d=\"M 8 -9 l -6 18 L 8 25\" fill=\"none\" style=\"stroke:rgb(0.0, 138.56128015770727, 250.76166088685727);stroke-width:2\" />  </svg></g><g transform=\"translate(0,0)\">  <svg x=\"71.63288681564111%\" y=\"40\" height=\"18\" overflow=\"visible\" width=\"30\">    <path d=\"M 8 -9 l -6 18 L 8 25\" fill=\"none\" style=\"stroke:rgb(0.0, 138.56128015770727, 250.76166088685727);stroke-width:2\" />  </svg></g><g transform=\"translate(-2,0)\">  <svg x=\"71.63288681564111%\" y=\"40\" height=\"18\" overflow=\"visible\" width=\"30\">    <path d=\"M 8 -9 l -6 18 L 8 25\" fill=\"none\" style=\"stroke:rgb(0.0, 138.56128015770727, 250.76166088685727);stroke-width:2\" />  </svg></g><g transform=\"translate(-4,0)\">  <svg x=\"71.63288681564111%\" y=\"40\" height=\"18\" overflow=\"visible\" width=\"30\">    <path d=\"M 8 -9 l -6 18 L 8 25\" fill=\"none\" style=\"stroke:rgb(0.0, 138.56128015770727, 250.76166088685727);stroke-width:2\" />  </svg></g><g transform=\"translate(-8,0)\">  <svg x=\"81.59123744646851%\" y=\"40\" height=\"18\" overflow=\"visible\" width=\"30\">    <path d=\"M 8 -9 l -6 18 L 8 25\" fill=\"none\" style=\"stroke:rgb(0.0, 138.56128015770727, 250.76166088685727);stroke-width:2\" />  </svg></g><g transform=\"translate(-10,0)\">  <svg x=\"81.59123744646851%\" y=\"40\" height=\"18\" overflow=\"visible\" width=\"30\">    <path d=\"M 8 -9 l -6 18 L 8 25\" fill=\"none\" style=\"stroke:rgb(0.0, 138.56128015770727, 250.76166088685727);stroke-width:2\" />  </svg></g><g transform=\"translate(-12,0)\">  <svg x=\"81.59123744646851%\" y=\"40\" height=\"18\" overflow=\"visible\" width=\"30\">    <path d=\"M 8 -9 l -6 18 L 8 25\" fill=\"none\" style=\"stroke:rgb(0.0, 138.56128015770727, 250.76166088685727);stroke-width:2\" />  </svg></g><g transform=\"translate(-14,0)\">  <svg x=\"81.59123744646851%\" y=\"40\" height=\"18\" overflow=\"visible\" width=\"30\">    <path d=\"M 8 -9 l -6 18 L 8 25\" fill=\"none\" style=\"stroke:rgb(0.0, 138.56128015770727, 250.76166088685727);stroke-width:2\" />  </svg></g><g transform=\"translate(2,0)\">  <svg x=\"81.59123744646851%\" y=\"40\" height=\"18\" overflow=\"visible\" width=\"30\">    <path d=\"M 8 -9 l -6 18 L 8 25\" fill=\"none\" style=\"stroke:rgb(0.0, 138.56128015770727, 250.76166088685727);stroke-width:2\" />  </svg></g><g transform=\"translate(0,0)\">  <svg x=\"81.59123744646851%\" y=\"40\" height=\"18\" overflow=\"visible\" width=\"30\">    <path d=\"M 8 -9 l -6 18 L 8 25\" fill=\"none\" style=\"stroke:rgb(0.0, 138.56128015770727, 250.76166088685727);stroke-width:2\" />  </svg></g><g transform=\"translate(-2,0)\">  <svg x=\"81.59123744646851%\" y=\"40\" height=\"18\" overflow=\"visible\" width=\"30\">    <path d=\"M 8 -9 l -6 18 L 8 25\" fill=\"none\" style=\"stroke:rgb(0.0, 138.56128015770727, 250.76166088685727);stroke-width:2\" />  </svg></g><g transform=\"translate(-4,0)\">  <svg x=\"81.59123744646851%\" y=\"40\" height=\"18\" overflow=\"visible\" width=\"30\">    <path d=\"M 8 -9 l -6 18 L 8 25\" fill=\"none\" style=\"stroke:rgb(0.0, 138.56128015770727, 250.76166088685727);stroke-width:2\" />  </svg></g><rect transform=\"translate(0,0)\" x=\"18.14854605735285%\" y=\"40\" width=\"8\" height=\"18\" style=\"fill:rgb(0.0, 138.56128015770727, 250.76166088685727)\"/><g transform=\"translate(-6.0,0)\">  <svg x=\"85.22813008333162%\" y=\"40\" height=\"18\" overflow=\"visible\" width=\"30\">    <path d=\"M 8 -9 l -6 18 L 8 25 L 20 25 L 20 -9\" fill=\"#ffffff\" style=\"stroke:rgb(255,255,255);stroke-width:2\" />  </svg></g><g transform=\"translate(-6.0,0)\">  <svg x=\"46.59359648804063%\" y=\"40\" height=\"18\" overflow=\"visible\" width=\"30\">    <path d=\"M 8 -9 l -6 18 L 8 25\" fill=\"none\" style=\"stroke:rgb(208, 230, 250);stroke-width:2\" />  </svg></g><rect x=\"18.14854605735285%\" y=\"40\" height=\"20\" width=\"28.445050430687782%\"      onmouseover=\"document.getElementById('_tp_ewlsxyqzonlokgvtjkhq_ind_6').style.textDecoration = 'underline';document.getElementById('_fs_ewlsxyqzonlokgvtjkhq_ind_6').style.opacity = 1;document.getElementById('_fb_ewlsxyqzonlokgvtjkhq_ind_6').style.opacity = 1;\"      onmouseout=\"document.getElementById('_tp_ewlsxyqzonlokgvtjkhq_ind_6').style.textDecoration = 'none';document.getElementById('_fs_ewlsxyqzonlokgvtjkhq_ind_6').style.opacity = 0;document.getElementById('_fb_ewlsxyqzonlokgvtjkhq_ind_6').style.opacity = 0;\" style=\"fill:rgb(0,0,0,0)\" /><g transform=\"translate(-6.0,0)\">  <svg x=\"60.769964071745385%\" y=\"40\" height=\"18\" overflow=\"visible\" width=\"30\">    <path d=\"M 8 -9 l -6 18 L 8 25\" fill=\"none\" style=\"stroke:rgb(208, 230, 250);stroke-width:2\" />  </svg></g><rect x=\"46.59359648804063%\" y=\"40\" height=\"20\" width=\"14.176367583704753%\"      onmouseover=\"document.getElementById('_tp_ewlsxyqzonlokgvtjkhq_ind_5').style.textDecoration = 'underline';document.getElementById('_fs_ewlsxyqzonlokgvtjkhq_ind_5').style.opacity = 1;document.getElementById('_fb_ewlsxyqzonlokgvtjkhq_ind_5').style.opacity = 1;\"      onmouseout=\"document.getElementById('_tp_ewlsxyqzonlokgvtjkhq_ind_5').style.textDecoration = 'none';document.getElementById('_fs_ewlsxyqzonlokgvtjkhq_ind_5').style.opacity = 0;document.getElementById('_fb_ewlsxyqzonlokgvtjkhq_ind_5').style.opacity = 0;\" style=\"fill:rgb(0,0,0,0)\" /><g transform=\"translate(-6.0,0)\">  <svg x=\"71.63288681564111%\" y=\"40\" height=\"18\" overflow=\"visible\" width=\"30\">    <path d=\"M 8 -9 l -6 18 L 8 25\" fill=\"none\" style=\"stroke:rgb(208, 230, 250);stroke-width:2\" />  </svg></g><rect x=\"60.769964071745385%\" y=\"40\" height=\"20\" width=\"10.86292274389573%\"      onmouseover=\"document.getElementById('_tp_ewlsxyqzonlokgvtjkhq_ind_3').style.textDecoration = 'underline';document.getElementById('_fs_ewlsxyqzonlokgvtjkhq_ind_3').style.opacity = 1;document.getElementById('_fb_ewlsxyqzonlokgvtjkhq_ind_3').style.opacity = 1;\"      onmouseout=\"document.getElementById('_tp_ewlsxyqzonlokgvtjkhq_ind_3').style.textDecoration = 'none';document.getElementById('_fs_ewlsxyqzonlokgvtjkhq_ind_3').style.opacity = 0;document.getElementById('_fb_ewlsxyqzonlokgvtjkhq_ind_3').style.opacity = 0;\" style=\"fill:rgb(0,0,0,0)\" /><g transform=\"translate(-6.0,0)\">  <svg x=\"81.59123744646851%\" y=\"40\" height=\"18\" overflow=\"visible\" width=\"30\">    <path d=\"M 8 -9 l -6 18 L 8 25\" fill=\"none\" style=\"stroke:rgb(208, 230, 250);stroke-width:2\" />  </svg></g><rect x=\"71.63288681564111%\" y=\"40\" height=\"20\" width=\"9.958350630827397%\"      onmouseover=\"document.getElementById('_tp_ewlsxyqzonlokgvtjkhq_ind_4').style.textDecoration = 'underline';document.getElementById('_fs_ewlsxyqzonlokgvtjkhq_ind_4').style.opacity = 1;document.getElementById('_fb_ewlsxyqzonlokgvtjkhq_ind_4').style.opacity = 1;\"      onmouseout=\"document.getElementById('_tp_ewlsxyqzonlokgvtjkhq_ind_4').style.textDecoration = 'none';document.getElementById('_fs_ewlsxyqzonlokgvtjkhq_ind_4').style.opacity = 0;document.getElementById('_fb_ewlsxyqzonlokgvtjkhq_ind_4').style.opacity = 0;\" style=\"fill:rgb(0,0,0,0)\" /><rect x=\"81.59123744646851%\" y=\"40\" height=\"20\" width=\"3.6368926368631094%\"      onmouseover=\"document.getElementById('_tp_ewlsxyqzonlokgvtjkhq_ind_1').style.textDecoration = 'underline';document.getElementById('_fs_ewlsxyqzonlokgvtjkhq_ind_1').style.opacity = 1;document.getElementById('_fb_ewlsxyqzonlokgvtjkhq_ind_1').style.opacity = 1;\"      onmouseout=\"document.getElementById('_tp_ewlsxyqzonlokgvtjkhq_ind_1').style.textDecoration = 'none';document.getElementById('_fs_ewlsxyqzonlokgvtjkhq_ind_1').style.opacity = 0;document.getElementById('_fb_ewlsxyqzonlokgvtjkhq_ind_1').style.opacity = 0;\" style=\"fill:rgb(0,0,0,0)\" /></svg><div align='center'><div style=\"color: rgb(120,120,120); font-size: 12px; margin-top: -15px;\">inputs</div><div style='display: inline; text-align: center;'\n",
       "    ><div style='display: none; color: #999; padding-top: 0px; font-size: 12px;'>0.107</div\n",
       "        ><div id='_tp_ewlsxyqzonlokgvtjkhq_ind_0'\n",
       "            style='display: inline; background: rgba(255.0, 13.0, 87.0, 0.3142008318478907); border-radius: 3px; padding: 0px'\n",
       "            onclick=\"\n",
       "            if (this.previousSibling.style.display == 'none') {\n",
       "                this.previousSibling.style.display = 'block';\n",
       "                this.parentNode.style.display = 'inline-block';\n",
       "            } else {\n",
       "                this.previousSibling.style.display = 'none';\n",
       "                this.parentNode.style.display = 'inline';\n",
       "            }\"\n",
       "            onmouseover=\"document.getElementById('_fb_ewlsxyqzonlokgvtjkhq_ind_0').style.opacity = 1; document.getElementById('_fs_ewlsxyqzonlokgvtjkhq_ind_0').style.opacity = 1;\"\n",
       "            onmouseout=\"document.getElementById('_fb_ewlsxyqzonlokgvtjkhq_ind_0').style.opacity = 0; document.getElementById('_fs_ewlsxyqzonlokgvtjkhq_ind_0').style.opacity = 0;\"\n",
       "        ></div></div><div style='display: inline; text-align: center;'\n",
       "    ><div style='display: none; color: #999; padding-top: 0px; font-size: 12px;'>-0.044</div\n",
       "        ><div id='_tp_ewlsxyqzonlokgvtjkhq_ind_1'\n",
       "            style='display: inline; background: rgba(30.0, 136.0, 229.0, 0.12501485442661905); border-radius: 3px; padding: 0px'\n",
       "            onclick=\"\n",
       "            if (this.previousSibling.style.display == 'none') {\n",
       "                this.previousSibling.style.display = 'block';\n",
       "                this.parentNode.style.display = 'inline-block';\n",
       "            } else {\n",
       "                this.previousSibling.style.display = 'none';\n",
       "                this.parentNode.style.display = 'inline';\n",
       "            }\"\n",
       "            onmouseover=\"document.getElementById('_fb_ewlsxyqzonlokgvtjkhq_ind_1').style.opacity = 1; document.getElementById('_fs_ewlsxyqzonlokgvtjkhq_ind_1').style.opacity = 1;\"\n",
       "            onmouseout=\"document.getElementById('_fb_ewlsxyqzonlokgvtjkhq_ind_1').style.opacity = 0; document.getElementById('_fs_ewlsxyqzonlokgvtjkhq_ind_1').style.opacity = 0;\"\n",
       "        >I </div></div><div style='display: inline; text-align: center;'\n",
       "    ><div style='display: none; color: #999; padding-top: 0px; font-size: 12px;'>0.018</div\n",
       "        ><div id='_tp_ewlsxyqzonlokgvtjkhq_ind_2'\n",
       "            style='display: inline; background: rgba(255.0, 13.0, 87.0, 0.04618736383442265); border-radius: 3px; padding: 0px'\n",
       "            onclick=\"\n",
       "            if (this.previousSibling.style.display == 'none') {\n",
       "                this.previousSibling.style.display = 'block';\n",
       "                this.parentNode.style.display = 'inline-block';\n",
       "            } else {\n",
       "                this.previousSibling.style.display = 'none';\n",
       "                this.parentNode.style.display = 'inline';\n",
       "            }\"\n",
       "            onmouseover=\"document.getElementById('_fb_ewlsxyqzonlokgvtjkhq_ind_2').style.opacity = 1; document.getElementById('_fs_ewlsxyqzonlokgvtjkhq_ind_2').style.opacity = 1;\"\n",
       "            onmouseout=\"document.getElementById('_fb_ewlsxyqzonlokgvtjkhq_ind_2').style.opacity = 0; document.getElementById('_fs_ewlsxyqzonlokgvtjkhq_ind_2').style.opacity = 0;\"\n",
       "        >love </div></div><div style='display: inline; text-align: center;'\n",
       "    ><div style='display: none; color: #999; padding-top: 0px; font-size: 12px;'>-0.13</div\n",
       "        ><div id='_tp_ewlsxyqzonlokgvtjkhq_ind_3'\n",
       "            style='display: inline; background: rgba(30.0, 136.0, 229.0, 0.3772628243216478); border-radius: 3px; padding: 0px'\n",
       "            onclick=\"\n",
       "            if (this.previousSibling.style.display == 'none') {\n",
       "                this.previousSibling.style.display = 'block';\n",
       "                this.parentNode.style.display = 'inline-block';\n",
       "            } else {\n",
       "                this.previousSibling.style.display = 'none';\n",
       "                this.parentNode.style.display = 'inline';\n",
       "            }\"\n",
       "            onmouseover=\"document.getElementById('_fb_ewlsxyqzonlokgvtjkhq_ind_3').style.opacity = 1; document.getElementById('_fs_ewlsxyqzonlokgvtjkhq_ind_3').style.opacity = 1;\"\n",
       "            onmouseout=\"document.getElementById('_fb_ewlsxyqzonlokgvtjkhq_ind_3').style.opacity = 0; document.getElementById('_fs_ewlsxyqzonlokgvtjkhq_ind_3').style.opacity = 0;\"\n",
       "        >playing </div></div><div style='display: inline; text-align: center;'\n",
       "    ><div style='display: none; color: #999; padding-top: 0px; font-size: 12px;'>-0.119</div\n",
       "        ><div id='_tp_ewlsxyqzonlokgvtjkhq_ind_4'\n",
       "            style='display: inline; background: rgba(30.0, 136.0, 229.0, 0.34573182808476927); border-radius: 3px; padding: 0px'\n",
       "            onclick=\"\n",
       "            if (this.previousSibling.style.display == 'none') {\n",
       "                this.previousSibling.style.display = 'block';\n",
       "                this.parentNode.style.display = 'inline-block';\n",
       "            } else {\n",
       "                this.previousSibling.style.display = 'none';\n",
       "                this.parentNode.style.display = 'inline';\n",
       "            }\"\n",
       "            onmouseover=\"document.getElementById('_fb_ewlsxyqzonlokgvtjkhq_ind_4').style.opacity = 1; document.getElementById('_fs_ewlsxyqzonlokgvtjkhq_ind_4').style.opacity = 1;\"\n",
       "            onmouseout=\"document.getElementById('_fb_ewlsxyqzonlokgvtjkhq_ind_4').style.opacity = 0; document.getElementById('_fs_ewlsxyqzonlokgvtjkhq_ind_4').style.opacity = 0;\"\n",
       "        >cricket</div></div><div style='display: inline; text-align: center;'\n",
       "    ><div style='display: none; color: #999; padding-top: 0px; font-size: 12px;'>-0.17</div\n",
       "        ><div id='_tp_ewlsxyqzonlokgvtjkhq_ind_5'\n",
       "            style='display: inline; background: rgba(30.0, 136.0, 229.0, 0.4955040602099425); border-radius: 3px; padding: 0px'\n",
       "            onclick=\"\n",
       "            if (this.previousSibling.style.display == 'none') {\n",
       "                this.previousSibling.style.display = 'block';\n",
       "                this.parentNode.style.display = 'inline-block';\n",
       "            } else {\n",
       "                this.previousSibling.style.display = 'none';\n",
       "                this.parentNode.style.display = 'inline';\n",
       "            }\"\n",
       "            onmouseover=\"document.getElementById('_fb_ewlsxyqzonlokgvtjkhq_ind_5').style.opacity = 1; document.getElementById('_fs_ewlsxyqzonlokgvtjkhq_ind_5').style.opacity = 1;\"\n",
       "            onmouseout=\"document.getElementById('_fb_ewlsxyqzonlokgvtjkhq_ind_5').style.opacity = 0; document.getElementById('_fs_ewlsxyqzonlokgvtjkhq_ind_5').style.opacity = 0;\"\n",
       "        >!</div></div><div style='display: inline; text-align: center;'\n",
       "    ><div style='display: none; color: #999; padding-top: 0px; font-size: 12px;'>-0.341</div\n",
       "        ><div id='_tp_ewlsxyqzonlokgvtjkhq_ind_6'\n",
       "            style='display: inline; background: rgba(30.0, 136.0, 229.0, 1.0); border-radius: 3px; padding: 0px'\n",
       "            onclick=\"\n",
       "            if (this.previousSibling.style.display == 'none') {\n",
       "                this.previousSibling.style.display = 'block';\n",
       "                this.parentNode.style.display = 'inline-block';\n",
       "            } else {\n",
       "                this.previousSibling.style.display = 'none';\n",
       "                this.parentNode.style.display = 'inline';\n",
       "            }\"\n",
       "            onmouseover=\"document.getElementById('_fb_ewlsxyqzonlokgvtjkhq_ind_6').style.opacity = 1; document.getElementById('_fs_ewlsxyqzonlokgvtjkhq_ind_6').style.opacity = 1;\"\n",
       "            onmouseout=\"document.getElementById('_fb_ewlsxyqzonlokgvtjkhq_ind_6').style.opacity = 0; document.getElementById('_fs_ewlsxyqzonlokgvtjkhq_ind_6').style.opacity = 0;\"\n",
       "        ></div></div></div></div><div id='_tp_yijyrxhfyoeyusubhaij_output_2_zoom' style='display: none;'><svg width=\"100%\" height=\"80px\"><line x1=\"0\" y1=\"33\" x2=\"100%\" y2=\"33\" style=\"stroke:rgb(150,150,150);stroke-width:1\" /><line x1=\"46.20305909995294%\" y1=\"33\" x2=\"46.20305909995294%\" y2=\"37\" style=\"stroke:rgb(150,150,150);stroke-width:1\" /><text x=\"46.20305909995294%\" y=\"27\" font-size=\"12px\" fill=\"rgb(120,120,120)\" dominant-baseline=\"bottom\" text-anchor=\"middle\">0.3</text><line x1=\"28.262738460048947%\" y1=\"33\" x2=\"28.262738460048947%\" y2=\"37\" style=\"stroke:rgb(150,150,150);stroke-width:1\" /><text x=\"28.262738460048947%\" y=\"27\" font-size=\"12px\" fill=\"rgb(120,120,120)\" dominant-baseline=\"bottom\" text-anchor=\"middle\">0.1</text><line x1=\"10.322417820144956%\" y1=\"33\" x2=\"10.322417820144956%\" y2=\"37\" style=\"stroke:rgb(150,150,150);stroke-width:1\" /><text x=\"10.322417820144956%\" y=\"27\" font-size=\"12px\" fill=\"rgb(120,120,120)\" dominant-baseline=\"bottom\" text-anchor=\"middle\">-0.1</text><line x1=\"64.14337973985693%\" y1=\"33\" x2=\"64.14337973985693%\" y2=\"37\" style=\"stroke:rgb(150,150,150);stroke-width:1\" /><text x=\"64.14337973985693%\" y=\"27\" font-size=\"12px\" fill=\"rgb(120,120,120)\" dominant-baseline=\"bottom\" text-anchor=\"middle\">0.5</text><line x1=\"82.08370037976093%\" y1=\"33\" x2=\"82.08370037976093%\" y2=\"37\" style=\"stroke:rgb(150,150,150);stroke-width:1\" /><text x=\"82.08370037976093%\" y=\"27\" font-size=\"12px\" fill=\"rgb(120,120,120)\" dominant-baseline=\"bottom\" text-anchor=\"middle\">0.7</text><line x1=\"80.48042610080141%\" y1=\"33\" x2=\"80.48042610080141%\" y2=\"37\" style=\"stroke:rgb(150,150,150);stroke-width:1\" /><text x=\"80.48042610080141%\" y=\"27\" font-size=\"13px\" style=\"stroke:#ffffff;stroke-width:8px;\" fill=\"rgb(255,255,255)\" dominant-baseline=\"bottom\" text-anchor=\"middle\">0.682127</text><text x=\"80.48042610080141%\" y=\"27\" font-size=\"12px\" fill=\"rgb(120,120,120)\" dominant-baseline=\"bottom\" text-anchor=\"middle\">0.682127</text><text x=\"80.48042610080141%\" y=\"10\" font-size=\"12px\" fill=\"rgb(120,120,120)\" dominant-baseline=\"bottom\" text-anchor=\"middle\">base value</text><line x1=\"19.51957300218255%\" y1=\"33\" x2=\"19.51957300218255%\" y2=\"37\" style=\"stroke:rgb(150,150,150);stroke-width:1\" /><text x=\"19.51957300218255%\" y=\"27\" font-size=\"13px\" style=\"stroke:#ffffff;stroke-width:8px;\" font-weight=\"bold\" fill=\"rgb(255,255,255)\" dominant-baseline=\"bottom\" text-anchor=\"middle\">0.00253056</text><text x=\"19.51957300218255%\" y=\"27\" font-size=\"13px\" font-weight=\"bold\" fill=\"rgb(0,0,0)\" dominant-baseline=\"bottom\" text-anchor=\"middle\">0.00253056</text><text x=\"19.51957300218255%\" y=\"10\" font-size=\"12px\" fill=\"rgb(120,120,120)\" dominant-baseline=\"bottom\" text-anchor=\"middle\">f<tspan baseline-shift=\"sub\" font-size=\"8px\">animal</tspan>(inputs)</text><rect x=\"8.333333258581996%\" width=\"11.186239743600554%\" y=\"40\" height=\"18\" style=\"fill:rgb(255.0, 0.0, 81.08083606031792); stroke-width:0; stroke:rgb(0,0,0)\" /><line x1=\"9.933019667737286%\" x2=\"19.51957300218255%\" y1=\"60\" y2=\"60\" id=\"_fb_peyyahfwlwukivbeudcm_ind_0\" style=\"stroke:rgb(255.0, 0.0, 81.08083606031792);stroke-width:2; opacity: 0\"/><text x=\"14.726296334959919%\" y=\"71\" font-size=\"12px\" id=\"_fs_peyyahfwlwukivbeudcm_ind_0\" fill=\"rgb(255.0, 0.0, 81.08083606031792)\" style=\"opacity: 0\" dominant-baseline=\"middle\" text-anchor=\"middle\">0.107</text><svg x=\"9.933019667737286%\" y=\"40\" height=\"20\" width=\"9.586553334445265%\">  <svg x=\"0\" y=\"0\" width=\"100%\" height=\"100%\">    <text x=\"50%\" y=\"9\" font-size=\"12px\" fill=\"rgb(255,255,255)\" dominant-baseline=\"middle\" text-anchor=\"middle\"></text>  </svg></svg><line x1=\"8.333333258581996%\" x2=\"9.933019667737286%\" y1=\"60\" y2=\"60\" id=\"_fb_peyyahfwlwukivbeudcm_ind_2\" style=\"stroke:rgb(255.0, 0.0, 81.08083606031792);stroke-width:2; opacity: 0\"/><text x=\"9.133176463159641%\" y=\"71\" font-size=\"12px\" id=\"_fs_peyyahfwlwukivbeudcm_ind_2\" fill=\"rgb(255.0, 0.0, 81.08083606031792)\" style=\"opacity: 0\" dominant-baseline=\"middle\" text-anchor=\"middle\">0.018</text><svg x=\"8.333333258581996%\" y=\"40\" height=\"20\" width=\"1.5996864091552894%\">  <svg x=\"0\" y=\"0\" width=\"100%\" height=\"100%\">    <text x=\"50%\" y=\"9\" font-size=\"12px\" fill=\"rgb(255,255,255)\" dominant-baseline=\"middle\" text-anchor=\"middle\">love</text>  </svg></svg><g transform=\"translate(0,0)\">  <svg x=\"9.933019667737286%\" y=\"40\" height=\"18\" overflow=\"visible\" width=\"30\">    <path d=\"M 0 -9 l 6 18 L 0 25\" fill=\"none\" style=\"stroke:rgb(255.0, 0.0, 81.08083606031792);stroke-width:2\" />  </svg></g><g transform=\"translate(2,0)\">  <svg x=\"9.933019667737286%\" y=\"40\" height=\"18\" overflow=\"visible\" width=\"30\">    <path d=\"M 0 -9 l 6 18 L 0 25\" fill=\"none\" style=\"stroke:rgb(255.0, 0.0, 81.08083606031792);stroke-width:2\" />  </svg></g><g transform=\"translate(4,0)\">  <svg x=\"9.933019667737286%\" y=\"40\" height=\"18\" overflow=\"visible\" width=\"30\">    <path d=\"M 0 -9 l 6 18 L 0 25\" fill=\"none\" style=\"stroke:rgb(255.0, 0.0, 81.08083606031792);stroke-width:2\" />  </svg></g><g transform=\"translate(6,0)\">  <svg x=\"9.933019667737286%\" y=\"40\" height=\"18\" overflow=\"visible\" width=\"30\">    <path d=\"M 0 -9 l 6 18 L 0 25\" fill=\"none\" style=\"stroke:rgb(255.0, 0.0, 81.08083606031792);stroke-width:2\" />  </svg></g><g transform=\"translate(-8,0)\">  <svg x=\"9.933019667737286%\" y=\"40\" height=\"18\" overflow=\"visible\" width=\"30\">    <path d=\"M 0 -9 l 6 18 L 0 25\" fill=\"none\" style=\"stroke:rgb(255.0, 0.0, 81.08083606031792);stroke-width:2\" />  </svg></g><g transform=\"translate(-6,0)\">  <svg x=\"9.933019667737286%\" y=\"40\" height=\"18\" overflow=\"visible\" width=\"30\">    <path d=\"M 0 -9 l 6 18 L 0 25\" fill=\"none\" style=\"stroke:rgb(255.0, 0.0, 81.08083606031792);stroke-width:2\" />  </svg></g><g transform=\"translate(-4,0)\">  <svg x=\"9.933019667737286%\" y=\"40\" height=\"18\" overflow=\"visible\" width=\"30\">    <path d=\"M 0 -9 l 6 18 L 0 25\" fill=\"none\" style=\"stroke:rgb(255.0, 0.0, 81.08083606031792);stroke-width:2\" />  </svg></g><g transform=\"translate(-2,0)\">  <svg x=\"9.933019667737286%\" y=\"40\" height=\"18\" overflow=\"visible\" width=\"30\">    <path d=\"M 0 -9 l 6 18 L 0 25\" fill=\"none\" style=\"stroke:rgb(255.0, 0.0, 81.08083606031792);stroke-width:2\" />  </svg></g><rect transform=\"translate(-8,0)\" x=\"19.51957300218255%\" y=\"40\" width=\"8\" height=\"18\" style=\"fill:rgb(255.0, 0.0, 81.08083606031792)\"/><g transform=\"translate(-11.5,0)\">  <svg x=\"8.333333258581996%\" y=\"40\" height=\"18\" overflow=\"visible\" width=\"30\">    <path d=\"M 10 -9 l 6 18 L 10 25 L 0 25 L 0 -9\" fill=\"#ffffff\" style=\"stroke:rgb(255,255,255);stroke-width:2\" />  </svg></g><g transform=\"translate(-1.5,0)\">  <svg x=\"19.51957300218255%\" y=\"40\" height=\"18\" overflow=\"visible\" width=\"30\">    <path d=\"M 0 -9 l 6 18 L 0 25\" fill=\"none\" style=\"stroke:rgb(255, 195, 213);stroke-width:2\" />  </svg></g><rect x=\"9.933019667737286%\" y=\"40\" height=\"20\" width=\"9.586553334445265%\"      onmouseover=\"document.getElementById('_tp_peyyahfwlwukivbeudcm_ind_0').style.textDecoration = 'underline';document.getElementById('_fs_peyyahfwlwukivbeudcm_ind_0').style.opacity = 1;document.getElementById('_fb_peyyahfwlwukivbeudcm_ind_0').style.opacity = 1;\"      onmouseout=\"document.getElementById('_tp_peyyahfwlwukivbeudcm_ind_0').style.textDecoration = 'none';document.getElementById('_fs_peyyahfwlwukivbeudcm_ind_0').style.opacity = 0;document.getElementById('_fb_peyyahfwlwukivbeudcm_ind_0').style.opacity = 0;\" style=\"fill:rgb(0,0,0,0)\" /><rect x=\"8.333333258581996%\" y=\"40\" height=\"20\" width=\"1.5996864091552894%\"      onmouseover=\"document.getElementById('_tp_peyyahfwlwukivbeudcm_ind_2').style.textDecoration = 'underline';document.getElementById('_fs_peyyahfwlwukivbeudcm_ind_2').style.opacity = 1;document.getElementById('_fb_peyyahfwlwukivbeudcm_ind_2').style.opacity = 1;\"      onmouseout=\"document.getElementById('_tp_peyyahfwlwukivbeudcm_ind_2').style.textDecoration = 'none';document.getElementById('_fs_peyyahfwlwukivbeudcm_ind_2').style.opacity = 0;document.getElementById('_fb_peyyahfwlwukivbeudcm_ind_2').style.opacity = 0;\" style=\"fill:rgb(0,0,0,0)\" /><rect x=\"19.51957300218255%\" width=\"72.14709284221942%\" y=\"40\" height=\"18\" style=\"fill:rgb(0.0, 138.56128015770727, 250.76166088685727); stroke-width:0; stroke:rgb(0,0,0)\" /><line x1=\"19.51957300218255%\" x2=\"50.11349698253479%\" y1=\"60\" y2=\"60\" id=\"_fb_peyyahfwlwukivbeudcm_ind_6\" style=\"stroke:rgb(0.0, 138.56128015770727, 250.76166088685727);stroke-width:2; opacity: 0\"/><text x=\"34.81653499235867%\" y=\"71\" font-size=\"12px\" fill=\"rgb(0.0, 138.56128015770727, 250.76166088685727)\" id=\"_fs_peyyahfwlwukivbeudcm_ind_6\" style=\"opacity: 0\" dominant-baseline=\"middle\" text-anchor=\"middle\">-0.341</text><svg x=\"19.51957300218255%\" y=\"40\" height=\"20\" width=\"30.59392398035224%\">  <svg x=\"0\" y=\"0\" width=\"100%\" height=\"100%\">    <text x=\"50%\" y=\"9\" font-size=\"12px\" fill=\"rgb(255,255,255)\" dominant-baseline=\"middle\" text-anchor=\"middle\"></text>  </svg></svg><line x1=\"50.11349698253479%\" x2=\"65.36081437542246%\" y1=\"60\" y2=\"60\" id=\"_fb_peyyahfwlwukivbeudcm_ind_5\" style=\"stroke:rgb(0.0, 138.56128015770727, 250.76166088685727);stroke-width:2; opacity: 0\"/><text x=\"57.737155678978624%\" y=\"71\" font-size=\"12px\" fill=\"rgb(0.0, 138.56128015770727, 250.76166088685727)\" id=\"_fs_peyyahfwlwukivbeudcm_ind_5\" style=\"opacity: 0\" dominant-baseline=\"middle\" text-anchor=\"middle\">-0.17</text><svg x=\"50.11349698253479%\" y=\"40\" height=\"20\" width=\"15.247317392887673%\">  <svg x=\"0\" y=\"0\" width=\"100%\" height=\"100%\">    <text x=\"50%\" y=\"9\" font-size=\"12px\" fill=\"rgb(255,255,255)\" dominant-baseline=\"middle\" text-anchor=\"middle\">!</text>  </svg></svg><line x1=\"65.36081437542246%\" x2=\"77.04437364493398%\" y1=\"60\" y2=\"60\" id=\"_fb_peyyahfwlwukivbeudcm_ind_3\" style=\"stroke:rgb(0.0, 138.56128015770727, 250.76166088685727);stroke-width:2; opacity: 0\"/><text x=\"71.20259401017822%\" y=\"71\" font-size=\"12px\" fill=\"rgb(0.0, 138.56128015770727, 250.76166088685727)\" id=\"_fs_peyyahfwlwukivbeudcm_ind_3\" style=\"opacity: 0\" dominant-baseline=\"middle\" text-anchor=\"middle\">-0.13</text><svg x=\"65.36081437542246%\" y=\"40\" height=\"20\" width=\"11.68355926951152%\">  <svg x=\"0\" y=\"0\" width=\"100%\" height=\"100%\">    <text x=\"50%\" y=\"9\" font-size=\"12px\" fill=\"rgb(255,255,255)\" dominant-baseline=\"middle\" text-anchor=\"middle\">playing</text>  </svg></svg><line x1=\"77.04437364493398%\" x2=\"87.75502514866766%\" y1=\"60\" y2=\"60\" id=\"_fb_peyyahfwlwukivbeudcm_ind_4\" style=\"stroke:rgb(0.0, 138.56128015770727, 250.76166088685727);stroke-width:2; opacity: 0\"/><text x=\"82.39969939680083%\" y=\"71\" font-size=\"12px\" fill=\"rgb(0.0, 138.56128015770727, 250.76166088685727)\" id=\"_fs_peyyahfwlwukivbeudcm_ind_4\" style=\"opacity: 0\" dominant-baseline=\"middle\" text-anchor=\"middle\">-0.119</text><svg x=\"77.04437364493398%\" y=\"40\" height=\"20\" width=\"10.710651503733672%\">  <svg x=\"0\" y=\"0\" width=\"100%\" height=\"100%\">    <text x=\"50%\" y=\"9\" font-size=\"12px\" fill=\"rgb(255,255,255)\" dominant-baseline=\"middle\" text-anchor=\"middle\">cricket</text>  </svg></svg><line x1=\"87.75502514866766%\" x2=\"91.66666584440196%\" y1=\"60\" y2=\"60\" id=\"_fb_peyyahfwlwukivbeudcm_ind_1\" style=\"stroke:rgb(0.0, 138.56128015770727, 250.76166088685727);stroke-width:2; opacity: 0\"/><text x=\"89.7108454965348%\" y=\"71\" font-size=\"12px\" fill=\"rgb(0.0, 138.56128015770727, 250.76166088685727)\" id=\"_fs_peyyahfwlwukivbeudcm_ind_1\" style=\"opacity: 0\" dominant-baseline=\"middle\" text-anchor=\"middle\">-0.044</text><svg x=\"87.75502514866766%\" y=\"40\" height=\"20\" width=\"3.911640695734306%\">  <svg x=\"0\" y=\"0\" width=\"100%\" height=\"100%\">    <text x=\"50%\" y=\"9\" font-size=\"12px\" fill=\"rgb(255,255,255)\" dominant-baseline=\"middle\" text-anchor=\"middle\">I</text>  </svg></svg><g transform=\"translate(-8,0)\">  <svg x=\"50.11349698253479%\" y=\"40\" height=\"18\" overflow=\"visible\" width=\"30\">    <path d=\"M 8 -9 l -6 18 L 8 25\" fill=\"none\" style=\"stroke:rgb(0.0, 138.56128015770727, 250.76166088685727);stroke-width:2\" />  </svg></g><g transform=\"translate(-10,0)\">  <svg x=\"50.11349698253479%\" y=\"40\" height=\"18\" overflow=\"visible\" width=\"30\">    <path d=\"M 8 -9 l -6 18 L 8 25\" fill=\"none\" style=\"stroke:rgb(0.0, 138.56128015770727, 250.76166088685727);stroke-width:2\" />  </svg></g><g transform=\"translate(-12,0)\">  <svg x=\"50.11349698253479%\" y=\"40\" height=\"18\" overflow=\"visible\" width=\"30\">    <path d=\"M 8 -9 l -6 18 L 8 25\" fill=\"none\" style=\"stroke:rgb(0.0, 138.56128015770727, 250.76166088685727);stroke-width:2\" />  </svg></g><g transform=\"translate(-14,0)\">  <svg x=\"50.11349698253479%\" y=\"40\" height=\"18\" overflow=\"visible\" width=\"30\">    <path d=\"M 8 -9 l -6 18 L 8 25\" fill=\"none\" style=\"stroke:rgb(0.0, 138.56128015770727, 250.76166088685727);stroke-width:2\" />  </svg></g><g transform=\"translate(2,0)\">  <svg x=\"50.11349698253479%\" y=\"40\" height=\"18\" overflow=\"visible\" width=\"30\">    <path d=\"M 8 -9 l -6 18 L 8 25\" fill=\"none\" style=\"stroke:rgb(0.0, 138.56128015770727, 250.76166088685727);stroke-width:2\" />  </svg></g><g transform=\"translate(0,0)\">  <svg x=\"50.11349698253479%\" y=\"40\" height=\"18\" overflow=\"visible\" width=\"30\">    <path d=\"M 8 -9 l -6 18 L 8 25\" fill=\"none\" style=\"stroke:rgb(0.0, 138.56128015770727, 250.76166088685727);stroke-width:2\" />  </svg></g><g transform=\"translate(-2,0)\">  <svg x=\"50.11349698253479%\" y=\"40\" height=\"18\" overflow=\"visible\" width=\"30\">    <path d=\"M 8 -9 l -6 18 L 8 25\" fill=\"none\" style=\"stroke:rgb(0.0, 138.56128015770727, 250.76166088685727);stroke-width:2\" />  </svg></g><g transform=\"translate(-4,0)\">  <svg x=\"50.11349698253479%\" y=\"40\" height=\"18\" overflow=\"visible\" width=\"30\">    <path d=\"M 8 -9 l -6 18 L 8 25\" fill=\"none\" style=\"stroke:rgb(0.0, 138.56128015770727, 250.76166088685727);stroke-width:2\" />  </svg></g><g transform=\"translate(-8,0)\">  <svg x=\"65.36081437542246%\" y=\"40\" height=\"18\" overflow=\"visible\" width=\"30\">    <path d=\"M 8 -9 l -6 18 L 8 25\" fill=\"none\" style=\"stroke:rgb(0.0, 138.56128015770727, 250.76166088685727);stroke-width:2\" />  </svg></g><g transform=\"translate(-10,0)\">  <svg x=\"65.36081437542246%\" y=\"40\" height=\"18\" overflow=\"visible\" width=\"30\">    <path d=\"M 8 -9 l -6 18 L 8 25\" fill=\"none\" style=\"stroke:rgb(0.0, 138.56128015770727, 250.76166088685727);stroke-width:2\" />  </svg></g><g transform=\"translate(-12,0)\">  <svg x=\"65.36081437542246%\" y=\"40\" height=\"18\" overflow=\"visible\" width=\"30\">    <path d=\"M 8 -9 l -6 18 L 8 25\" fill=\"none\" style=\"stroke:rgb(0.0, 138.56128015770727, 250.76166088685727);stroke-width:2\" />  </svg></g><g transform=\"translate(-14,0)\">  <svg x=\"65.36081437542246%\" y=\"40\" height=\"18\" overflow=\"visible\" width=\"30\">    <path d=\"M 8 -9 l -6 18 L 8 25\" fill=\"none\" style=\"stroke:rgb(0.0, 138.56128015770727, 250.76166088685727);stroke-width:2\" />  </svg></g><g transform=\"translate(2,0)\">  <svg x=\"65.36081437542246%\" y=\"40\" height=\"18\" overflow=\"visible\" width=\"30\">    <path d=\"M 8 -9 l -6 18 L 8 25\" fill=\"none\" style=\"stroke:rgb(0.0, 138.56128015770727, 250.76166088685727);stroke-width:2\" />  </svg></g><g transform=\"translate(0,0)\">  <svg x=\"65.36081437542246%\" y=\"40\" height=\"18\" overflow=\"visible\" width=\"30\">    <path d=\"M 8 -9 l -6 18 L 8 25\" fill=\"none\" style=\"stroke:rgb(0.0, 138.56128015770727, 250.76166088685727);stroke-width:2\" />  </svg></g><g transform=\"translate(-2,0)\">  <svg x=\"65.36081437542246%\" y=\"40\" height=\"18\" overflow=\"visible\" width=\"30\">    <path d=\"M 8 -9 l -6 18 L 8 25\" fill=\"none\" style=\"stroke:rgb(0.0, 138.56128015770727, 250.76166088685727);stroke-width:2\" />  </svg></g><g transform=\"translate(-4,0)\">  <svg x=\"65.36081437542246%\" y=\"40\" height=\"18\" overflow=\"visible\" width=\"30\">    <path d=\"M 8 -9 l -6 18 L 8 25\" fill=\"none\" style=\"stroke:rgb(0.0, 138.56128015770727, 250.76166088685727);stroke-width:2\" />  </svg></g><g transform=\"translate(-8,0)\">  <svg x=\"77.04437364493398%\" y=\"40\" height=\"18\" overflow=\"visible\" width=\"30\">    <path d=\"M 8 -9 l -6 18 L 8 25\" fill=\"none\" style=\"stroke:rgb(0.0, 138.56128015770727, 250.76166088685727);stroke-width:2\" />  </svg></g><g transform=\"translate(-10,0)\">  <svg x=\"77.04437364493398%\" y=\"40\" height=\"18\" overflow=\"visible\" width=\"30\">    <path d=\"M 8 -9 l -6 18 L 8 25\" fill=\"none\" style=\"stroke:rgb(0.0, 138.56128015770727, 250.76166088685727);stroke-width:2\" />  </svg></g><g transform=\"translate(-12,0)\">  <svg x=\"77.04437364493398%\" y=\"40\" height=\"18\" overflow=\"visible\" width=\"30\">    <path d=\"M 8 -9 l -6 18 L 8 25\" fill=\"none\" style=\"stroke:rgb(0.0, 138.56128015770727, 250.76166088685727);stroke-width:2\" />  </svg></g><g transform=\"translate(-14,0)\">  <svg x=\"77.04437364493398%\" y=\"40\" height=\"18\" overflow=\"visible\" width=\"30\">    <path d=\"M 8 -9 l -6 18 L 8 25\" fill=\"none\" style=\"stroke:rgb(0.0, 138.56128015770727, 250.76166088685727);stroke-width:2\" />  </svg></g><g transform=\"translate(2,0)\">  <svg x=\"77.04437364493398%\" y=\"40\" height=\"18\" overflow=\"visible\" width=\"30\">    <path d=\"M 8 -9 l -6 18 L 8 25\" fill=\"none\" style=\"stroke:rgb(0.0, 138.56128015770727, 250.76166088685727);stroke-width:2\" />  </svg></g><g transform=\"translate(0,0)\">  <svg x=\"77.04437364493398%\" y=\"40\" height=\"18\" overflow=\"visible\" width=\"30\">    <path d=\"M 8 -9 l -6 18 L 8 25\" fill=\"none\" style=\"stroke:rgb(0.0, 138.56128015770727, 250.76166088685727);stroke-width:2\" />  </svg></g><g transform=\"translate(-2,0)\">  <svg x=\"77.04437364493398%\" y=\"40\" height=\"18\" overflow=\"visible\" width=\"30\">    <path d=\"M 8 -9 l -6 18 L 8 25\" fill=\"none\" style=\"stroke:rgb(0.0, 138.56128015770727, 250.76166088685727);stroke-width:2\" />  </svg></g><g transform=\"translate(-4,0)\">  <svg x=\"77.04437364493398%\" y=\"40\" height=\"18\" overflow=\"visible\" width=\"30\">    <path d=\"M 8 -9 l -6 18 L 8 25\" fill=\"none\" style=\"stroke:rgb(0.0, 138.56128015770727, 250.76166088685727);stroke-width:2\" />  </svg></g><g transform=\"translate(-8,0)\">  <svg x=\"87.75502514866766%\" y=\"40\" height=\"18\" overflow=\"visible\" width=\"30\">    <path d=\"M 8 -9 l -6 18 L 8 25\" fill=\"none\" style=\"stroke:rgb(0.0, 138.56128015770727, 250.76166088685727);stroke-width:2\" />  </svg></g><g transform=\"translate(-10,0)\">  <svg x=\"87.75502514866766%\" y=\"40\" height=\"18\" overflow=\"visible\" width=\"30\">    <path d=\"M 8 -9 l -6 18 L 8 25\" fill=\"none\" style=\"stroke:rgb(0.0, 138.56128015770727, 250.76166088685727);stroke-width:2\" />  </svg></g><g transform=\"translate(-12,0)\">  <svg x=\"87.75502514866766%\" y=\"40\" height=\"18\" overflow=\"visible\" width=\"30\">    <path d=\"M 8 -9 l -6 18 L 8 25\" fill=\"none\" style=\"stroke:rgb(0.0, 138.56128015770727, 250.76166088685727);stroke-width:2\" />  </svg></g><g transform=\"translate(-14,0)\">  <svg x=\"87.75502514866766%\" y=\"40\" height=\"18\" overflow=\"visible\" width=\"30\">    <path d=\"M 8 -9 l -6 18 L 8 25\" fill=\"none\" style=\"stroke:rgb(0.0, 138.56128015770727, 250.76166088685727);stroke-width:2\" />  </svg></g><g transform=\"translate(2,0)\">  <svg x=\"87.75502514866766%\" y=\"40\" height=\"18\" overflow=\"visible\" width=\"30\">    <path d=\"M 8 -9 l -6 18 L 8 25\" fill=\"none\" style=\"stroke:rgb(0.0, 138.56128015770727, 250.76166088685727);stroke-width:2\" />  </svg></g><g transform=\"translate(0,0)\">  <svg x=\"87.75502514866766%\" y=\"40\" height=\"18\" overflow=\"visible\" width=\"30\">    <path d=\"M 8 -9 l -6 18 L 8 25\" fill=\"none\" style=\"stroke:rgb(0.0, 138.56128015770727, 250.76166088685727);stroke-width:2\" />  </svg></g><g transform=\"translate(-2,0)\">  <svg x=\"87.75502514866766%\" y=\"40\" height=\"18\" overflow=\"visible\" width=\"30\">    <path d=\"M 8 -9 l -6 18 L 8 25\" fill=\"none\" style=\"stroke:rgb(0.0, 138.56128015770727, 250.76166088685727);stroke-width:2\" />  </svg></g><g transform=\"translate(-4,0)\">  <svg x=\"87.75502514866766%\" y=\"40\" height=\"18\" overflow=\"visible\" width=\"30\">    <path d=\"M 8 -9 l -6 18 L 8 25\" fill=\"none\" style=\"stroke:rgb(0.0, 138.56128015770727, 250.76166088685727);stroke-width:2\" />  </svg></g><rect transform=\"translate(0,0)\" x=\"19.51957300218255%\" y=\"40\" width=\"8\" height=\"18\" style=\"fill:rgb(0.0, 138.56128015770727, 250.76166088685727)\"/><g transform=\"translate(-6.0,0)\">  <svg x=\"91.66666584440196%\" y=\"40\" height=\"18\" overflow=\"visible\" width=\"30\">    <path d=\"M 8 -9 l -6 18 L 8 25 L 20 25 L 20 -9\" fill=\"#ffffff\" style=\"stroke:rgb(255,255,255);stroke-width:2\" />  </svg></g><g transform=\"translate(-6.0,0)\">  <svg x=\"50.11349698253479%\" y=\"40\" height=\"18\" overflow=\"visible\" width=\"30\">    <path d=\"M 8 -9 l -6 18 L 8 25\" fill=\"none\" style=\"stroke:rgb(208, 230, 250);stroke-width:2\" />  </svg></g><rect x=\"19.51957300218255%\" y=\"40\" height=\"20\" width=\"30.59392398035224%\"      onmouseover=\"document.getElementById('_tp_peyyahfwlwukivbeudcm_ind_6').style.textDecoration = 'underline';document.getElementById('_fs_peyyahfwlwukivbeudcm_ind_6').style.opacity = 1;document.getElementById('_fb_peyyahfwlwukivbeudcm_ind_6').style.opacity = 1;\"      onmouseout=\"document.getElementById('_tp_peyyahfwlwukivbeudcm_ind_6').style.textDecoration = 'none';document.getElementById('_fs_peyyahfwlwukivbeudcm_ind_6').style.opacity = 0;document.getElementById('_fb_peyyahfwlwukivbeudcm_ind_6').style.opacity = 0;\" style=\"fill:rgb(0,0,0,0)\" /><g transform=\"translate(-6.0,0)\">  <svg x=\"65.36081437542246%\" y=\"40\" height=\"18\" overflow=\"visible\" width=\"30\">    <path d=\"M 8 -9 l -6 18 L 8 25\" fill=\"none\" style=\"stroke:rgb(208, 230, 250);stroke-width:2\" />  </svg></g><rect x=\"50.11349698253479%\" y=\"40\" height=\"20\" width=\"15.247317392887673%\"      onmouseover=\"document.getElementById('_tp_peyyahfwlwukivbeudcm_ind_5').style.textDecoration = 'underline';document.getElementById('_fs_peyyahfwlwukivbeudcm_ind_5').style.opacity = 1;document.getElementById('_fb_peyyahfwlwukivbeudcm_ind_5').style.opacity = 1;\"      onmouseout=\"document.getElementById('_tp_peyyahfwlwukivbeudcm_ind_5').style.textDecoration = 'none';document.getElementById('_fs_peyyahfwlwukivbeudcm_ind_5').style.opacity = 0;document.getElementById('_fb_peyyahfwlwukivbeudcm_ind_5').style.opacity = 0;\" style=\"fill:rgb(0,0,0,0)\" /><g transform=\"translate(-6.0,0)\">  <svg x=\"77.04437364493398%\" y=\"40\" height=\"18\" overflow=\"visible\" width=\"30\">    <path d=\"M 8 -9 l -6 18 L 8 25\" fill=\"none\" style=\"stroke:rgb(208, 230, 250);stroke-width:2\" />  </svg></g><rect x=\"65.36081437542246%\" y=\"40\" height=\"20\" width=\"11.68355926951152%\"      onmouseover=\"document.getElementById('_tp_peyyahfwlwukivbeudcm_ind_3').style.textDecoration = 'underline';document.getElementById('_fs_peyyahfwlwukivbeudcm_ind_3').style.opacity = 1;document.getElementById('_fb_peyyahfwlwukivbeudcm_ind_3').style.opacity = 1;\"      onmouseout=\"document.getElementById('_tp_peyyahfwlwukivbeudcm_ind_3').style.textDecoration = 'none';document.getElementById('_fs_peyyahfwlwukivbeudcm_ind_3').style.opacity = 0;document.getElementById('_fb_peyyahfwlwukivbeudcm_ind_3').style.opacity = 0;\" style=\"fill:rgb(0,0,0,0)\" /><g transform=\"translate(-6.0,0)\">  <svg x=\"87.75502514866766%\" y=\"40\" height=\"18\" overflow=\"visible\" width=\"30\">    <path d=\"M 8 -9 l -6 18 L 8 25\" fill=\"none\" style=\"stroke:rgb(208, 230, 250);stroke-width:2\" />  </svg></g><rect x=\"77.04437364493398%\" y=\"40\" height=\"20\" width=\"10.710651503733672%\"      onmouseover=\"document.getElementById('_tp_peyyahfwlwukivbeudcm_ind_4').style.textDecoration = 'underline';document.getElementById('_fs_peyyahfwlwukivbeudcm_ind_4').style.opacity = 1;document.getElementById('_fb_peyyahfwlwukivbeudcm_ind_4').style.opacity = 1;\"      onmouseout=\"document.getElementById('_tp_peyyahfwlwukivbeudcm_ind_4').style.textDecoration = 'none';document.getElementById('_fs_peyyahfwlwukivbeudcm_ind_4').style.opacity = 0;document.getElementById('_fb_peyyahfwlwukivbeudcm_ind_4').style.opacity = 0;\" style=\"fill:rgb(0,0,0,0)\" /><rect x=\"87.75502514866766%\" y=\"40\" height=\"20\" width=\"3.911640695734306%\"      onmouseover=\"document.getElementById('_tp_peyyahfwlwukivbeudcm_ind_1').style.textDecoration = 'underline';document.getElementById('_fs_peyyahfwlwukivbeudcm_ind_1').style.opacity = 1;document.getElementById('_fb_peyyahfwlwukivbeudcm_ind_1').style.opacity = 1;\"      onmouseout=\"document.getElementById('_tp_peyyahfwlwukivbeudcm_ind_1').style.textDecoration = 'none';document.getElementById('_fs_peyyahfwlwukivbeudcm_ind_1').style.opacity = 0;document.getElementById('_fb_peyyahfwlwukivbeudcm_ind_1').style.opacity = 0;\" style=\"fill:rgb(0,0,0,0)\" /></svg><div align='center'><div style=\"color: rgb(120,120,120); font-size: 12px; margin-top: -15px;\">inputs</div><div style='display: inline; text-align: center;'\n",
       "    ><div style='display: none; color: #999; padding-top: 0px; font-size: 12px;'>0.107</div\n",
       "        ><div id='_tp_peyyahfwlwukivbeudcm_ind_0'\n",
       "            style='display: inline; background: rgba(255.0, 13.0, 87.0, 0.3142008318478907); border-radius: 3px; padding: 0px'\n",
       "            onclick=\"\n",
       "            if (this.previousSibling.style.display == 'none') {\n",
       "                this.previousSibling.style.display = 'block';\n",
       "                this.parentNode.style.display = 'inline-block';\n",
       "            } else {\n",
       "                this.previousSibling.style.display = 'none';\n",
       "                this.parentNode.style.display = 'inline';\n",
       "            }\"\n",
       "            onmouseover=\"document.getElementById('_fb_peyyahfwlwukivbeudcm_ind_0').style.opacity = 1; document.getElementById('_fs_peyyahfwlwukivbeudcm_ind_0').style.opacity = 1;\"\n",
       "            onmouseout=\"document.getElementById('_fb_peyyahfwlwukivbeudcm_ind_0').style.opacity = 0; document.getElementById('_fs_peyyahfwlwukivbeudcm_ind_0').style.opacity = 0;\"\n",
       "        ></div></div><div style='display: inline; text-align: center;'\n",
       "    ><div style='display: none; color: #999; padding-top: 0px; font-size: 12px;'>-0.044</div\n",
       "        ><div id='_tp_peyyahfwlwukivbeudcm_ind_1'\n",
       "            style='display: inline; background: rgba(30.0, 136.0, 229.0, 0.12501485442661905); border-radius: 3px; padding: 0px'\n",
       "            onclick=\"\n",
       "            if (this.previousSibling.style.display == 'none') {\n",
       "                this.previousSibling.style.display = 'block';\n",
       "                this.parentNode.style.display = 'inline-block';\n",
       "            } else {\n",
       "                this.previousSibling.style.display = 'none';\n",
       "                this.parentNode.style.display = 'inline';\n",
       "            }\"\n",
       "            onmouseover=\"document.getElementById('_fb_peyyahfwlwukivbeudcm_ind_1').style.opacity = 1; document.getElementById('_fs_peyyahfwlwukivbeudcm_ind_1').style.opacity = 1;\"\n",
       "            onmouseout=\"document.getElementById('_fb_peyyahfwlwukivbeudcm_ind_1').style.opacity = 0; document.getElementById('_fs_peyyahfwlwukivbeudcm_ind_1').style.opacity = 0;\"\n",
       "        >I </div></div><div style='display: inline; text-align: center;'\n",
       "    ><div style='display: none; color: #999; padding-top: 0px; font-size: 12px;'>0.018</div\n",
       "        ><div id='_tp_peyyahfwlwukivbeudcm_ind_2'\n",
       "            style='display: inline; background: rgba(255.0, 13.0, 87.0, 0.04618736383442265); border-radius: 3px; padding: 0px'\n",
       "            onclick=\"\n",
       "            if (this.previousSibling.style.display == 'none') {\n",
       "                this.previousSibling.style.display = 'block';\n",
       "                this.parentNode.style.display = 'inline-block';\n",
       "            } else {\n",
       "                this.previousSibling.style.display = 'none';\n",
       "                this.parentNode.style.display = 'inline';\n",
       "            }\"\n",
       "            onmouseover=\"document.getElementById('_fb_peyyahfwlwukivbeudcm_ind_2').style.opacity = 1; document.getElementById('_fs_peyyahfwlwukivbeudcm_ind_2').style.opacity = 1;\"\n",
       "            onmouseout=\"document.getElementById('_fb_peyyahfwlwukivbeudcm_ind_2').style.opacity = 0; document.getElementById('_fs_peyyahfwlwukivbeudcm_ind_2').style.opacity = 0;\"\n",
       "        >love </div></div><div style='display: inline; text-align: center;'\n",
       "    ><div style='display: none; color: #999; padding-top: 0px; font-size: 12px;'>-0.13</div\n",
       "        ><div id='_tp_peyyahfwlwukivbeudcm_ind_3'\n",
       "            style='display: inline; background: rgba(30.0, 136.0, 229.0, 0.3772628243216478); border-radius: 3px; padding: 0px'\n",
       "            onclick=\"\n",
       "            if (this.previousSibling.style.display == 'none') {\n",
       "                this.previousSibling.style.display = 'block';\n",
       "                this.parentNode.style.display = 'inline-block';\n",
       "            } else {\n",
       "                this.previousSibling.style.display = 'none';\n",
       "                this.parentNode.style.display = 'inline';\n",
       "            }\"\n",
       "            onmouseover=\"document.getElementById('_fb_peyyahfwlwukivbeudcm_ind_3').style.opacity = 1; document.getElementById('_fs_peyyahfwlwukivbeudcm_ind_3').style.opacity = 1;\"\n",
       "            onmouseout=\"document.getElementById('_fb_peyyahfwlwukivbeudcm_ind_3').style.opacity = 0; document.getElementById('_fs_peyyahfwlwukivbeudcm_ind_3').style.opacity = 0;\"\n",
       "        >playing </div></div><div style='display: inline; text-align: center;'\n",
       "    ><div style='display: none; color: #999; padding-top: 0px; font-size: 12px;'>-0.119</div\n",
       "        ><div id='_tp_peyyahfwlwukivbeudcm_ind_4'\n",
       "            style='display: inline; background: rgba(30.0, 136.0, 229.0, 0.34573182808476927); border-radius: 3px; padding: 0px'\n",
       "            onclick=\"\n",
       "            if (this.previousSibling.style.display == 'none') {\n",
       "                this.previousSibling.style.display = 'block';\n",
       "                this.parentNode.style.display = 'inline-block';\n",
       "            } else {\n",
       "                this.previousSibling.style.display = 'none';\n",
       "                this.parentNode.style.display = 'inline';\n",
       "            }\"\n",
       "            onmouseover=\"document.getElementById('_fb_peyyahfwlwukivbeudcm_ind_4').style.opacity = 1; document.getElementById('_fs_peyyahfwlwukivbeudcm_ind_4').style.opacity = 1;\"\n",
       "            onmouseout=\"document.getElementById('_fb_peyyahfwlwukivbeudcm_ind_4').style.opacity = 0; document.getElementById('_fs_peyyahfwlwukivbeudcm_ind_4').style.opacity = 0;\"\n",
       "        >cricket</div></div><div style='display: inline; text-align: center;'\n",
       "    ><div style='display: none; color: #999; padding-top: 0px; font-size: 12px;'>-0.17</div\n",
       "        ><div id='_tp_peyyahfwlwukivbeudcm_ind_5'\n",
       "            style='display: inline; background: rgba(30.0, 136.0, 229.0, 0.4955040602099425); border-radius: 3px; padding: 0px'\n",
       "            onclick=\"\n",
       "            if (this.previousSibling.style.display == 'none') {\n",
       "                this.previousSibling.style.display = 'block';\n",
       "                this.parentNode.style.display = 'inline-block';\n",
       "            } else {\n",
       "                this.previousSibling.style.display = 'none';\n",
       "                this.parentNode.style.display = 'inline';\n",
       "            }\"\n",
       "            onmouseover=\"document.getElementById('_fb_peyyahfwlwukivbeudcm_ind_5').style.opacity = 1; document.getElementById('_fs_peyyahfwlwukivbeudcm_ind_5').style.opacity = 1;\"\n",
       "            onmouseout=\"document.getElementById('_fb_peyyahfwlwukivbeudcm_ind_5').style.opacity = 0; document.getElementById('_fs_peyyahfwlwukivbeudcm_ind_5').style.opacity = 0;\"\n",
       "        >!</div></div><div style='display: inline; text-align: center;'\n",
       "    ><div style='display: none; color: #999; padding-top: 0px; font-size: 12px;'>-0.341</div\n",
       "        ><div id='_tp_peyyahfwlwukivbeudcm_ind_6'\n",
       "            style='display: inline; background: rgba(30.0, 136.0, 229.0, 1.0); border-radius: 3px; padding: 0px'\n",
       "            onclick=\"\n",
       "            if (this.previousSibling.style.display == 'none') {\n",
       "                this.previousSibling.style.display = 'block';\n",
       "                this.parentNode.style.display = 'inline-block';\n",
       "            } else {\n",
       "                this.previousSibling.style.display = 'none';\n",
       "                this.parentNode.style.display = 'inline';\n",
       "            }\"\n",
       "            onmouseover=\"document.getElementById('_fb_peyyahfwlwukivbeudcm_ind_6').style.opacity = 1; document.getElementById('_fs_peyyahfwlwukivbeudcm_ind_6').style.opacity = 1;\"\n",
       "            onmouseout=\"document.getElementById('_fb_peyyahfwlwukivbeudcm_ind_6').style.opacity = 0; document.getElementById('_fs_peyyahfwlwukivbeudcm_ind_6').style.opacity = 0;\"\n",
       "        ></div></div></div></div></div>"
      ],
      "text/plain": [
       "<IPython.core.display.HTML object>"
      ]
     },
     "metadata": {},
     "output_type": "display_data"
    },
    {
     "data": {
      "image/png": "[encoded data removed]",
      "text/plain": [
       "<Figure size 576x360 with 1 Axes>"
      ]
     },
     "metadata": {},
     "output_type": "display_data"
    }
   ],
   "source": [
    "import entry_point\n",
    "entry_point.entry_point(pipe, text)"
   ]
  },
  {
   "cell_type": "code",
   "execution_count": null,
   "metadata": {},
   "outputs": [],
   "source": []
  }
 ],
 "metadata": {
  "kernelspec": {
   "display_name": "Python 3.10.4 ('explainable-ai-tooling': conda)",
   "language": "python",
   "name": "python3"
  },
  "language_info": {
   "codemirror_mode": {
    "name": "ipython",
    "version": 3
   },
   "file_extension": ".py",
   "mimetype": "text/x-python",
   "name": "python",
   "nbconvert_exporter": "python",
   "pygments_lexer": "ipython3",
   "version": "3.10.4"
  },
  "vscode": {
   "interpreter": {
    "hash": "47de4e6fcdf76d9f7e9823221d58331110ca8a86e4fcaa17b27f269bc08adee8"
   }
  },
  "widgets": {
   "application/vnd.jupyter.widget-state+json": {
    "state": {
     "00330b72ddef456698217895b922bfab": {
      "model_module": "@jupyter-widgets/controls",
      "model_module_version": "1.5.0",
      "model_name": "HTMLModel",
      "state": {
       "layout": "IPY_MODEL_449b9240a0494605b528c39f4cac29e9",
       "style": "IPY_MODEL_2c6fd9c99ee4430497a6cfa57ab68f8b",
       "value": "Downloading: 100%"
      }
     },
     "06f207f4aea149b089a71cc85ff8d6fe": {
      "model_module": "@jupyter-widgets/controls",
      "model_module_version": "1.5.0",
      "model_name": "DescriptionStyleModel",
      "state": {
       "description_width": ""
      }
     },
     "0b7c5a0b07f441048d5e929177921db3": {
      "model_module": "@jupyter-widgets/controls",
      "model_module_version": "1.5.0",
      "model_name": "HTMLModel",
      "state": {
       "layout": "IPY_MODEL_203866393a8b4fc7aa6190397c3a2f15",
       "style": "IPY_MODEL_fa59eb4405ff4937a291a5bf665d43a2",
       "value": "Downloading: 100%"
      }
     },
     "0f63ad2f78ca410ea7e49ec6ee6ea6e6": {
      "model_module": "@jupyter-widgets/base",
      "model_module_version": "1.2.0",
      "model_name": "LayoutModel",
      "state": {}
     },
     "0f75c3792f5b4d2b8bfb1be41dd7265d": {
      "model_module": "@jupyter-widgets/controls",
      "model_module_version": "1.5.0",
      "model_name": "HBoxModel",
      "state": {
       "children": [
        "IPY_MODEL_585e7b1006624e27b76d5a7e120f457e",
        "IPY_MODEL_1833323a3f3e434f829eca2140ef44b9",
        "IPY_MODEL_2cc705becb014e348e704a77edd8570a"
       ],
       "layout": "IPY_MODEL_76f30f4088ff4076a5006d241c55b082"
      }
     },
     "10595c49efc54165a4435850a7a20c3b": {
      "model_module": "@jupyter-widgets/controls",
      "model_module_version": "1.5.0",
      "model_name": "FloatProgressModel",
      "state": {
       "layout": "IPY_MODEL_52e1153279104779b1b4be6725bf9740",
       "max": 42,
       "style": "IPY_MODEL_3ab3444c3dae41e5bac9d668de528804",
       "value": 42
      }
     },
     "1117a5f066df414fad562f6674e7848c": {
      "model_module": "@jupyter-widgets/base",
      "model_module_version": "1.2.0",
      "model_name": "LayoutModel",
      "state": {}
     },
     "175ad685f2844206bcf91cac201560f2": {
      "model_module": "@jupyter-widgets/controls",
      "model_module_version": "1.5.0",
      "model_name": "HTMLModel",
      "state": {
       "layout": "IPY_MODEL_b2fb633f21d3437f9f00753554a6113c",
       "style": "IPY_MODEL_4f7072d34eb74f24b3a0f10b64af981e",
       "value": "Downloading: 100%"
      }
     },
     "1833323a3f3e434f829eca2140ef44b9": {
      "model_module": "@jupyter-widgets/controls",
      "model_module_version": "1.5.0",
      "model_name": "FloatProgressModel",
      "state": {
       "bar_style": "success",
       "layout": "IPY_MODEL_20b762ecc56840df8e4e276571c564d3",
       "max": 456318,
       "style": "IPY_MODEL_41b16fa38f954b68b70c31a33289d352",
       "value": 456318
      }
     },
     "19587fb6b8044fbf9a4a2acfe31a377c": {
      "model_module": "@jupyter-widgets/base",
      "model_module_version": "1.2.0",
      "model_name": "LayoutModel",
      "state": {}
     },
     "19a3e35c50a648cfa96d30f7c9bfdc61": {
      "model_module": "@jupyter-widgets/base",
      "model_module_version": "1.2.0",
      "model_name": "LayoutModel",
      "state": {}
     },
     "1d39252c6137485dac59ca98073f6096": {
      "model_module": "@jupyter-widgets/base",
      "model_module_version": "1.2.0",
      "model_name": "LayoutModel",
      "state": {}
     },
     "203866393a8b4fc7aa6190397c3a2f15": {
      "model_module": "@jupyter-widgets/base",
      "model_module_version": "1.2.0",
      "model_name": "LayoutModel",
      "state": {}
     },
     "20b762ecc56840df8e4e276571c564d3": {
      "model_module": "@jupyter-widgets/base",
      "model_module_version": "1.2.0",
      "model_name": "LayoutModel",
      "state": {}
     },
     "228d98c7bafa498e95277f676cac544a": {
      "model_module": "@jupyter-widgets/controls",
      "model_module_version": "1.5.0",
      "model_name": "DescriptionStyleModel",
      "state": {
       "description_width": ""
      }
     },
     "23fb0fdc24fe4754bc654b616ccb8054": {
      "model_module": "@jupyter-widgets/base",
      "model_module_version": "1.2.0",
      "model_name": "LayoutModel",
      "state": {}
     },
     "2c6fd9c99ee4430497a6cfa57ab68f8b": {
      "model_module": "@jupyter-widgets/controls",
      "model_module_version": "1.5.0",
      "model_name": "DescriptionStyleModel",
      "state": {
       "description_width": ""
      }
     },
     "2cc705becb014e348e704a77edd8570a": {
      "model_module": "@jupyter-widgets/controls",
      "model_module_version": "1.5.0",
      "model_name": "HTMLModel",
      "state": {
       "layout": "IPY_MODEL_23fb0fdc24fe4754bc654b616ccb8054",
       "style": "IPY_MODEL_36054cff2e164a75b3f7e6aa58e95c50",
       "value": " 446k/446k [00:00&lt;00:00, 849kB/s]"
      }
     },
     "2d12d39c685241508d82efd394025cc1": {
      "model_module": "@jupyter-widgets/base",
      "model_module_version": "1.2.0",
      "model_name": "LayoutModel",
      "state": {}
     },
     "3154cb7b775847a79345ea3e37c89607": {
      "model_module": "@jupyter-widgets/controls",
      "model_module_version": "1.5.0",
      "model_name": "DescriptionStyleModel",
      "state": {
       "description_width": ""
      }
     },
     "336d36d17a4d4b5e9536346f10bc603b": {
      "model_module": "@jupyter-widgets/controls",
      "model_module_version": "1.5.0",
      "model_name": "HTMLModel",
      "state": {
       "layout": "IPY_MODEL_77f4b248a4874426843c09bbff1394f3",
       "style": "IPY_MODEL_b6571b30919147508345bf354e10efb4",
       "value": " 878k/878k [00:00&lt;00:00, 1.65MB/s]"
      }
     },
     "3491bb815d82497f8244ed322080a55a": {
      "model_module": "@jupyter-widgets/controls",
      "model_module_version": "1.5.0",
      "model_name": "DescriptionStyleModel",
      "state": {
       "description_width": ""
      }
     },
     "36054cff2e164a75b3f7e6aa58e95c50": {
      "model_module": "@jupyter-widgets/controls",
      "model_module_version": "1.5.0",
      "model_name": "DescriptionStyleModel",
      "state": {
       "description_width": ""
      }
     },
     "3ab3444c3dae41e5bac9d668de528804": {
      "model_module": "@jupyter-widgets/controls",
      "model_module_version": "1.5.0",
      "model_name": "ProgressStyleModel",
      "state": {
       "description_width": ""
      }
     },
     "41b16fa38f954b68b70c31a33289d352": {
      "model_module": "@jupyter-widgets/controls",
      "model_module_version": "1.5.0",
      "model_name": "ProgressStyleModel",
      "state": {
       "description_width": ""
      }
     },
     "449b9240a0494605b528c39f4cac29e9": {
      "model_module": "@jupyter-widgets/base",
      "model_module_version": "1.2.0",
      "model_name": "LayoutModel",
      "state": {}
     },
     "47345a95fef5488ca9b33827e2b37bd3": {
      "model_module": "@jupyter-widgets/base",
      "model_module_version": "1.2.0",
      "model_name": "LayoutModel",
      "state": {}
     },
     "487b2122806d492fab48839f5db08f07": {
      "model_module": "@jupyter-widgets/controls",
      "model_module_version": "1.5.0",
      "model_name": "HBoxModel",
      "state": {
       "children": [
        "IPY_MODEL_0b7c5a0b07f441048d5e929177921db3",
        "IPY_MODEL_f2ecbe415cd04119943b318ebeb1647e",
        "IPY_MODEL_83dcf4ac87b3402fba5ec9b86b3b5cc7"
       ],
       "layout": "IPY_MODEL_1117a5f066df414fad562f6674e7848c"
      }
     },
     "4f7072d34eb74f24b3a0f10b64af981e": {
      "model_module": "@jupyter-widgets/controls",
      "model_module_version": "1.5.0",
      "model_name": "DescriptionStyleModel",
      "state": {
       "description_width": ""
      }
     },
     "52e1153279104779b1b4be6725bf9740": {
      "model_module": "@jupyter-widgets/base",
      "model_module_version": "1.2.0",
      "model_name": "LayoutModel",
      "state": {}
     },
     "585e7b1006624e27b76d5a7e120f457e": {
      "model_module": "@jupyter-widgets/controls",
      "model_module_version": "1.5.0",
      "model_name": "HTMLModel",
      "state": {
       "layout": "IPY_MODEL_19587fb6b8044fbf9a4a2acfe31a377c",
       "style": "IPY_MODEL_3491bb815d82497f8244ed322080a55a",
       "value": "Downloading: 100%"
      }
     },
     "5e137dc6da974a49ad2f3b65523d79f7": {
      "model_module": "@jupyter-widgets/controls",
      "model_module_version": "1.5.0",
      "model_name": "ProgressStyleModel",
      "state": {
       "description_width": ""
      }
     },
     "5faacb4c66f24ddfb6b947a71bdb5a71": {
      "model_module": "@jupyter-widgets/base",
      "model_module_version": "1.2.0",
      "model_name": "LayoutModel",
      "state": {}
     },
     "6e87f1d5cf1a45628117eec124fc6477": {
      "model_module": "@jupyter-widgets/base",
      "model_module_version": "1.2.0",
      "model_name": "LayoutModel",
      "state": {}
     },
     "76f30f4088ff4076a5006d241c55b082": {
      "model_module": "@jupyter-widgets/base",
      "model_module_version": "1.2.0",
      "model_name": "LayoutModel",
      "state": {}
     },
     "77f4b248a4874426843c09bbff1394f3": {
      "model_module": "@jupyter-widgets/base",
      "model_module_version": "1.2.0",
      "model_name": "LayoutModel",
      "state": {}
     },
     "7d84f590904b4a39b187c5969bf62386": {
      "model_module": "@jupyter-widgets/base",
      "model_module_version": "1.2.0",
      "model_name": "LayoutModel",
      "state": {}
     },
     "83dcf4ac87b3402fba5ec9b86b3b5cc7": {
      "model_module": "@jupyter-widgets/controls",
      "model_module_version": "1.5.0",
      "model_name": "HTMLModel",
      "state": {
       "layout": "IPY_MODEL_2d12d39c685241508d82efd394025cc1",
       "style": "IPY_MODEL_ccdd474d65e44afb8c6b855a0bf12800",
       "value": " 26.0/26.0 [00:00&lt;00:00, 1.01kB/s]"
      }
     },
     "852680bc3fe14d88be781f4ab3741397": {
      "model_module": "@jupyter-widgets/controls",
      "model_module_version": "1.5.0",
      "model_name": "DescriptionStyleModel",
      "state": {
       "description_width": ""
      }
     },
     "8929f9e6b25a4a16886a0c326440fb0e": {
      "model_module": "@jupyter-widgets/controls",
      "model_module_version": "1.5.0",
      "model_name": "FloatProgressModel",
      "state": {
       "bar_style": "success",
       "layout": "IPY_MODEL_9db2d5e3b6bc4418aa6ff1132ab6fae7",
       "max": 898822,
       "style": "IPY_MODEL_a58e029d3a3f4976993b241b38e59c8f",
       "value": 898822
      }
     },
     "9656c0ab5f3e4b03a4914e5032af42b0": {
      "model_module": "@jupyter-widgets/base",
      "model_module_version": "1.2.0",
      "model_name": "LayoutModel",
      "state": {}
     },
     "9db2d5e3b6bc4418aa6ff1132ab6fae7": {
      "model_module": "@jupyter-widgets/base",
      "model_module_version": "1.2.0",
      "model_name": "LayoutModel",
      "state": {}
     },
     "a117a08434ac41ac9f2251bf3d26939a": {
      "model_module": "@jupyter-widgets/controls",
      "model_module_version": "1.5.0",
      "model_name": "HTMLModel",
      "state": {
       "layout": "IPY_MODEL_b7aa361b747e4f3fa05d481123d77648",
       "style": "IPY_MODEL_d16f41fa385342ca980aa17f5bd539f6",
       "value": "Downloading: 100%"
      }
     },
     "a58e029d3a3f4976993b241b38e59c8f": {
      "model_module": "@jupyter-widgets/controls",
      "model_module_version": "1.5.0",
      "model_name": "ProgressStyleModel",
      "state": {
       "description_width": ""
      }
     },
     "a946c956fb274330b5c1d24b106251bc": {
      "model_module": "@jupyter-widgets/base",
      "model_module_version": "1.2.0",
      "model_name": "LayoutModel",
      "state": {}
     },
     "b2fb633f21d3437f9f00753554a6113c": {
      "model_module": "@jupyter-widgets/base",
      "model_module_version": "1.2.0",
      "model_name": "LayoutModel",
      "state": {}
     },
     "b6571b30919147508345bf354e10efb4": {
      "model_module": "@jupyter-widgets/controls",
      "model_module_version": "1.5.0",
      "model_name": "DescriptionStyleModel",
      "state": {
       "description_width": ""
      }
     },
     "b6a8dcb2f1a54d4787d26004b74b9057": {
      "model_module": "@jupyter-widgets/base",
      "model_module_version": "1.2.0",
      "model_name": "LayoutModel",
      "state": {}
     },
     "b7aa361b747e4f3fa05d481123d77648": {
      "model_module": "@jupyter-widgets/base",
      "model_module_version": "1.2.0",
      "model_name": "LayoutModel",
      "state": {}
     },
     "bbf53e74708e45b48188b38f3c991372": {
      "model_module": "@jupyter-widgets/controls",
      "model_module_version": "1.5.0",
      "model_name": "ProgressStyleModel",
      "state": {
       "description_width": ""
      }
     },
     "cacbaf8508a241b6bfa3e0a3b85e31bd": {
      "model_module": "@jupyter-widgets/controls",
      "model_module_version": "1.5.0",
      "model_name": "HBoxModel",
      "state": {
       "children": [
        "IPY_MODEL_175ad685f2844206bcf91cac201560f2",
        "IPY_MODEL_d426b26b8b464061bd29d5ea280fa80c",
        "IPY_MODEL_d2a589714faf4983bf7d4f5a910f27b3"
       ],
       "layout": "IPY_MODEL_6e87f1d5cf1a45628117eec124fc6477"
      }
     },
     "cbbe142134004c6ab0c673edf68968d0": {
      "model_module": "@jupyter-widgets/controls",
      "model_module_version": "1.5.0",
      "model_name": "HBoxModel",
      "state": {
       "children": [
        "IPY_MODEL_00330b72ddef456698217895b922bfab",
        "IPY_MODEL_cdcbda2159b449809b866d806b9dc67e",
        "IPY_MODEL_d11a1e74d1da4108aed6b24675d465f1"
       ],
       "layout": "IPY_MODEL_0f63ad2f78ca410ea7e49ec6ee6ea6e6"
      }
     },
     "ccdd474d65e44afb8c6b855a0bf12800": {
      "model_module": "@jupyter-widgets/controls",
      "model_module_version": "1.5.0",
      "model_name": "DescriptionStyleModel",
      "state": {
       "description_width": ""
      }
     },
     "cdcbda2159b449809b866d806b9dc67e": {
      "model_module": "@jupyter-widgets/controls",
      "model_module_version": "1.5.0",
      "model_name": "FloatProgressModel",
      "state": {
       "bar_style": "success",
       "layout": "IPY_MODEL_7d84f590904b4a39b187c5969bf62386",
       "max": 772,
       "style": "IPY_MODEL_5e137dc6da974a49ad2f3b65523d79f7",
       "value": 772
      }
     },
     "d11a1e74d1da4108aed6b24675d465f1": {
      "model_module": "@jupyter-widgets/controls",
      "model_module_version": "1.5.0",
      "model_name": "HTMLModel",
      "state": {
       "layout": "IPY_MODEL_19a3e35c50a648cfa96d30f7c9bfdc61",
       "style": "IPY_MODEL_06f207f4aea149b089a71cc85ff8d6fe",
       "value": " 772/772 [00:00&lt;00:00, 34.8kB/s]"
      }
     },
     "d16f41fa385342ca980aa17f5bd539f6": {
      "model_module": "@jupyter-widgets/controls",
      "model_module_version": "1.5.0",
      "model_name": "DescriptionStyleModel",
      "state": {
       "description_width": ""
      }
     },
     "d2a589714faf4983bf7d4f5a910f27b3": {
      "model_module": "@jupyter-widgets/controls",
      "model_module_version": "1.5.0",
      "model_name": "HTMLModel",
      "state": {
       "layout": "IPY_MODEL_f0f1bb6fbc644705a64e64a5744d1cfa",
       "style": "IPY_MODEL_3154cb7b775847a79345ea3e37c89607",
       "value": " 977M/977M [02:00&lt;00:00, 9.22MB/s]"
      }
     },
     "d426b26b8b464061bd29d5ea280fa80c": {
      "model_module": "@jupyter-widgets/controls",
      "model_module_version": "1.5.0",
      "model_name": "FloatProgressModel",
      "state": {
       "bar_style": "success",
       "layout": "IPY_MODEL_a946c956fb274330b5c1d24b106251bc",
       "max": 1024804435,
       "style": "IPY_MODEL_bbf53e74708e45b48188b38f3c991372",
       "value": 1024804435
      }
     },
     "d648564560af430caeec60542886c971": {
      "model_module": "@jupyter-widgets/controls",
      "model_module_version": "1.5.0",
      "model_name": "HTMLModel",
      "state": {
       "layout": "IPY_MODEL_b6a8dcb2f1a54d4787d26004b74b9057",
       "style": "IPY_MODEL_228d98c7bafa498e95277f676cac544a",
       "value": " 84/? [00:08&lt;00:00,  6.43it/s]"
      }
     },
     "dbbeee41eb1c4f619203be74f228a0c5": {
      "model_module": "@jupyter-widgets/controls",
      "model_module_version": "1.5.0",
      "model_name": "ProgressStyleModel",
      "state": {
       "description_width": ""
      }
     },
     "deea6d8d76dc4fedb5930ebbd26ebafc": {
      "model_module": "@jupyter-widgets/controls",
      "model_module_version": "1.5.0",
      "model_name": "HBoxModel",
      "state": {
       "children": [
        "IPY_MODEL_a117a08434ac41ac9f2251bf3d26939a",
        "IPY_MODEL_8929f9e6b25a4a16886a0c326440fb0e",
        "IPY_MODEL_336d36d17a4d4b5e9536346f10bc603b"
       ],
       "layout": "IPY_MODEL_9656c0ab5f3e4b03a4914e5032af42b0"
      }
     },
     "f0f1bb6fbc644705a64e64a5744d1cfa": {
      "model_module": "@jupyter-widgets/base",
      "model_module_version": "1.2.0",
      "model_name": "LayoutModel",
      "state": {}
     },
     "f2ecbe415cd04119943b318ebeb1647e": {
      "model_module": "@jupyter-widgets/controls",
      "model_module_version": "1.5.0",
      "model_name": "FloatProgressModel",
      "state": {
       "bar_style": "success",
       "layout": "IPY_MODEL_5faacb4c66f24ddfb6b947a71bdb5a71",
       "max": 26,
       "style": "IPY_MODEL_dbbeee41eb1c4f619203be74f228a0c5",
       "value": 26
      }
     },
     "fa59eb4405ff4937a291a5bf665d43a2": {
      "model_module": "@jupyter-widgets/controls",
      "model_module_version": "1.5.0",
      "model_name": "DescriptionStyleModel",
      "state": {
       "description_width": ""
      }
     },
     "ff5c5ad28d794af5a7f5aaf3619a2384": {
      "model_module": "@jupyter-widgets/controls",
      "model_module_version": "1.5.0",
      "model_name": "HTMLModel",
      "state": {
       "layout": "IPY_MODEL_1d39252c6137485dac59ca98073f6096",
       "style": "IPY_MODEL_852680bc3fe14d88be781f4ab3741397"
      }
     }
    },
    "version_major": 2,
    "version_minor": 0
   }
  }
 },
 "nbformat": 4,
 "nbformat_minor": 4
}
