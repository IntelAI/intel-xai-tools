{
 "cells": [
  {
   "cell_type": "markdown",
   "metadata": {},
   "source": [
    "# Explaining zero shot learning\n",
    "\n",
    "\n",
    "see [Explaining transformer models using SHAP](https://github.com/PacktPublishing/Applied-Machine-Learning-Explainability-Techniques/blob/main/Chapter07/Explaining_Transformers.ipynb)"
   ]
  },
  {
   "cell_type": "code",
   "execution_count": 1,
   "metadata": {},
   "outputs": [
    {
     "name": "stdout",
     "output_type": "stream",
     "text": [
      "Hugging Face transformer version used: 4.20.1\n"
     ]
    }
   ],
   "source": [
    "import warnings\n",
    "warnings.filterwarnings('ignore')\n",
    "\n",
    "# add zero_shot_learning.pkz to path which includes a shap entry_point. See zero_shot_learning.yaml\n",
    "# to create the zero_shot_learning.pkz run 'explainer export zero_shot_learning'\n",
    "from explainer.explainers import zero_shot_learning\n",
    "\n",
    "import transformers\n",
    "print(f\"Hugging Face transformer version used: {transformers.__version__}\")\n",
    "from transformers import AutoModelForSequenceClassification, AutoTokenizer, ZeroShotClassificationPipeline\n",
    "from typing import Union, List"
   ]
  },
  {
   "cell_type": "code",
   "execution_count": 2,
   "metadata": {},
   "outputs": [],
   "source": [
    "# Loading the hugging face model and tokenizer\n",
    "model = AutoModelForSequenceClassification.from_pretrained(\"valhalla/distilbart-mnli-12-3\")\n",
    "tokenizer = AutoTokenizer.from_pretrained(\"valhalla/distilbart-mnli-12-3\")"
   ]
  },
  {
   "cell_type": "code",
   "execution_count": 3,
   "metadata": {},
   "outputs": [],
   "source": [
    "# Create a custom pipeline that only requires the text parameter \n",
    "# for the __call__ method and provides a method to set the labels\n",
    "class ZeroShotModelPipeline(ZeroShotClassificationPipeline):\n",
    "    # Overwrite the __call__ method\n",
    "    def __call__(self, *args):\n",
    "        out = super().__call__(args[0], self.set_labels)[0]\n",
    "\n",
    "        return [[{\"label\":x[0], \"score\": x[1]}  for x in zip(out[\"labels\"], out[\"scores\"])]]\n",
    "\n",
    "    def set_labels(self, labels: Union[str,List[str]]):\n",
    "        self.set_labels = labels"
   ]
  },
  {
   "cell_type": "code",
   "execution_count": 4,
   "metadata": {},
   "outputs": [],
   "source": [
    "text = [\"I love playing cricket!\"]\n",
    "labels = [\"insect\",\"sports\", \"animal\"]"
   ]
  },
  {
   "cell_type": "code",
   "execution_count": 5,
   "metadata": {},
   "outputs": [],
   "source": [
    "# Assign the labels for the classification model\n",
    "model.config.label2id.update({v:k for k,v in enumerate(labels)})\n",
    "model.config.id2label.update({k:v for k,v in enumerate(labels)})\n"
   ]
  },
  {
   "cell_type": "code",
   "execution_count": 6,
   "metadata": {},
   "outputs": [],
   "source": [
    "pipe = ZeroShotModelPipeline(model=model, tokenizer=tokenizer, return_all_scores=True)\n",
    "pipe.set_labels(labels)"
   ]
  },
  {
   "cell_type": "code",
   "execution_count": 7,
   "metadata": {},
   "outputs": [
    {
     "name": "stdout",
     "output_type": "stream",
     "text": [
      "Shap version used: 0.40.0\n"
     ]
    },
    {
     "data": {
      "application/vnd.jupyter.widget-view+json": {
       "model_id": "4ce6daf10aac4f03a0802de71184d00c",
       "version_major": 2,
       "version_minor": 0
      },
      "text/plain": [
       "  0%|          | 0/42 [00:00<?, ?it/s]"
      ]
     },
     "metadata": {},
     "output_type": "display_data"
    },
    {
     "name": "stderr",
     "output_type": "stream",
     "text": [
      "Partition explainer: 2it [00:18, 18.28s/it]               \n"
     ]
    },
    {
     "name": "stdout",
     "output_type": "stream",
     "text": [
      "Model predictions are: [[{'label': 'sports', 'score': 0.8340923190116882}, {'label': 'insect', 'score': 0.1633770763874054}, {'label': 'animal', 'score': 0.0025305552408099174}]]\n"
     ]
    },
    {
     "data": {
      "text/html": [
       "\n",
       "<br>\n",
       "<hr style=\"height: 1px; background-color: #fff; border: none; margin-top: 18px; margin-bottom: 18px; border-top: 1px dashed #ccc;\"\">\n",
       "<div align=\"center\" style=\"margin-top: -35px;\"><div style=\"display: inline-block; background: #fff; padding: 5px; color: #999; font-family: monospace\">[0]</div>\n",
       "</div>\n",
       "            "
      ],
      "text/plain": [
       "<IPython.core.display.HTML object>"
      ]
     },
     "metadata": {},
     "output_type": "display_data"
    },
    {
     "data": {
      "text/html": [
       "<div align='center'>\n",
       "<script>\n",
       "    document._hover_szfavpcfcpvrrnoqkiiw = '_tp_szfavpcfcpvrrnoqkiiw_output_0';\n",
       "    document._zoom_szfavpcfcpvrrnoqkiiw = undefined;\n",
       "    function _output_onclick_szfavpcfcpvrrnoqkiiw(i) {\n",
       "        var next_id = undefined;\n",
       "        \n",
       "        if (document._zoom_szfavpcfcpvrrnoqkiiw !== undefined) {\n",
       "            document.getElementById(document._zoom_szfavpcfcpvrrnoqkiiw+ '_zoom').style.display = 'none';\n",
       "            \n",
       "            if (document._zoom_szfavpcfcpvrrnoqkiiw === '_tp_szfavpcfcpvrrnoqkiiw_output_' + i) {\n",
       "                document.getElementById(document._zoom_szfavpcfcpvrrnoqkiiw).style.display = 'block';\n",
       "                document.getElementById(document._zoom_szfavpcfcpvrrnoqkiiw+'_name').style.borderBottom = '3px solid #000000';\n",
       "            } else {\n",
       "                document.getElementById(document._zoom_szfavpcfcpvrrnoqkiiw).style.display = 'none';\n",
       "                document.getElementById(document._zoom_szfavpcfcpvrrnoqkiiw+'_name').style.borderBottom = 'none';\n",
       "            }\n",
       "        }\n",
       "        if (document._zoom_szfavpcfcpvrrnoqkiiw !== '_tp_szfavpcfcpvrrnoqkiiw_output_' + i) {\n",
       "            next_id = '_tp_szfavpcfcpvrrnoqkiiw_output_' + i;\n",
       "            document.getElementById(next_id).style.display = 'none';\n",
       "            document.getElementById(next_id + '_zoom').style.display = 'block';\n",
       "            document.getElementById(next_id+'_name').style.borderBottom = '3px solid #000000';\n",
       "        }\n",
       "        document._zoom_szfavpcfcpvrrnoqkiiw = next_id;\n",
       "    }\n",
       "    function _output_onmouseover_szfavpcfcpvrrnoqkiiw(i, el) {\n",
       "        if (document._zoom_szfavpcfcpvrrnoqkiiw !== undefined) { return; }\n",
       "        if (document._hover_szfavpcfcpvrrnoqkiiw !== undefined) {\n",
       "            document.getElementById(document._hover_szfavpcfcpvrrnoqkiiw + '_name').style.borderBottom = 'none';\n",
       "            document.getElementById(document._hover_szfavpcfcpvrrnoqkiiw).style.display = 'none';\n",
       "        }\n",
       "        document.getElementById('_tp_szfavpcfcpvrrnoqkiiw_output_' + i).style.display = 'block';\n",
       "        el.style.borderBottom = '3px solid #000000';\n",
       "        document._hover_szfavpcfcpvrrnoqkiiw = '_tp_szfavpcfcpvrrnoqkiiw_output_' + i;\n",
       "    }\n",
       "</script>\n",
       "<div style=\"color: rgb(120,120,120); font-size: 12px;\">outputs</div>\n",
       "<div style=\"display: inline; border-bottom: 3px solid #000000; background: rgba(255.0, 13.0, 87.0, 0.1959595959595959); border-radius: 3px; padding: 0px\" id=\"_tp_szfavpcfcpvrrnoqkiiw_output_0_name\"\n",
       "    onclick=\"_output_onclick_szfavpcfcpvrrnoqkiiw(0)\"\n",
       "    onmouseover=\"_output_onmouseover_szfavpcfcpvrrnoqkiiw(0, this);\">insect</div>\n",
       "<div style=\"display: inline; border-bottom: none; background: rgba(255.0, 13.0, 87.0, 1.0); border-radius: 3px; padding: 0px\" id=\"_tp_szfavpcfcpvrrnoqkiiw_output_1_name\"\n",
       "    onclick=\"_output_onclick_szfavpcfcpvrrnoqkiiw(1)\"\n",
       "    onmouseover=\"_output_onmouseover_szfavpcfcpvrrnoqkiiw(1, this);\">sports</div>\n",
       "<div style=\"display: inline; border-bottom: none; background: rgba(230.2941176470614, 26.505882352939775, 102.59215686274348, 0.0); border-radius: 3px; padding: 0px\" id=\"_tp_szfavpcfcpvrrnoqkiiw_output_2_name\"\n",
       "    onclick=\"_output_onclick_szfavpcfcpvrrnoqkiiw(2)\"\n",
       "    onmouseover=\"_output_onmouseover_szfavpcfcpvrrnoqkiiw(2, this);\">animal</div><br><br><div id='_tp_szfavpcfcpvrrnoqkiiw_output_0' style='display: block';><svg width=\"100%\" height=\"80px\"><line x1=\"0\" y1=\"33\" x2=\"100%\" y2=\"33\" style=\"stroke:rgb(150,150,150);stroke-width:1\" /><line x1=\"51.009200835312164%\" y1=\"33\" x2=\"51.009200835312164%\" y2=\"37\" style=\"stroke:rgb(150,150,150);stroke-width:1\" /><text x=\"51.009200835312164%\" y=\"27\" font-size=\"12px\" fill=\"rgb(120,120,120)\" dominant-baseline=\"bottom\" text-anchor=\"middle\">0.4</text><line x1=\"34.13779156135272%\" y1=\"33\" x2=\"34.13779156135272%\" y2=\"37\" style=\"stroke:rgb(150,150,150);stroke-width:1\" /><text x=\"34.13779156135272%\" y=\"27\" font-size=\"12px\" fill=\"rgb(120,120,120)\" dominant-baseline=\"bottom\" text-anchor=\"middle\">0.2</text><line x1=\"17.266382287393277%\" y1=\"33\" x2=\"17.266382287393277%\" y2=\"37\" style=\"stroke:rgb(150,150,150);stroke-width:1\" /><text x=\"17.266382287393277%\" y=\"27\" font-size=\"12px\" fill=\"rgb(120,120,120)\" dominant-baseline=\"bottom\" text-anchor=\"middle\">0</text><line x1=\"67.88061010927161%\" y1=\"33\" x2=\"67.88061010927161%\" y2=\"37\" style=\"stroke:rgb(150,150,150);stroke-width:1\" /><text x=\"67.88061010927161%\" y=\"27\" font-size=\"12px\" fill=\"rgb(120,120,120)\" dominant-baseline=\"bottom\" text-anchor=\"middle\">0.6</text><line x1=\"84.75201938323106%\" y1=\"33\" x2=\"84.75201938323106%\" y2=\"37\" style=\"stroke:rgb(150,150,150);stroke-width:1\" /><text x=\"84.75201938323106%\" y=\"27\" font-size=\"12px\" fill=\"rgb(120,120,120)\" dominant-baseline=\"bottom\" text-anchor=\"middle\">0.8</text><line x1=\"33.409451731622745%\" y1=\"33\" x2=\"33.409451731622745%\" y2=\"37\" style=\"stroke:rgb(150,150,150);stroke-width:1\" /><text x=\"33.409451731622745%\" y=\"27\" font-size=\"13px\" style=\"stroke:#ffffff;stroke-width:8px;\" fill=\"rgb(255,255,255)\" dominant-baseline=\"bottom\" text-anchor=\"middle\">0.191366</text><text x=\"33.409451731622745%\" y=\"27\" font-size=\"12px\" fill=\"rgb(120,120,120)\" dominant-baseline=\"bottom\" text-anchor=\"middle\">0.191366</text><text x=\"33.409451731622745%\" y=\"10\" font-size=\"12px\" fill=\"rgb(120,120,120)\" dominant-baseline=\"bottom\" text-anchor=\"middle\">base value</text><line x1=\"31.04838989596754%\" y1=\"33\" x2=\"31.04838989596754%\" y2=\"37\" style=\"stroke:rgb(150,150,150);stroke-width:1\" /><text x=\"31.04838989596754%\" y=\"27\" font-size=\"13px\" style=\"stroke:#ffffff;stroke-width:8px;\" font-weight=\"bold\" fill=\"rgb(255,255,255)\" dominant-baseline=\"bottom\" text-anchor=\"middle\">0.163377</text><text x=\"31.04838989596754%\" y=\"27\" font-size=\"13px\" font-weight=\"bold\" fill=\"rgb(0,0,0)\" dominant-baseline=\"bottom\" text-anchor=\"middle\">0.163377</text><text x=\"31.04838989596754%\" y=\"10\" font-size=\"12px\" fill=\"rgb(120,120,120)\" dominant-baseline=\"bottom\" text-anchor=\"middle\">f<tspan baseline-shift=\"sub\" font-size=\"8px\">insect</tspan>(inputs)</text><rect x=\"21.778817104213584%\" width=\"9.269572791753955%\" y=\"40\" height=\"18\" style=\"fill:rgb(255.0, 0.0, 81.08083606031792); stroke-width:0; stroke:rgb(0,0,0)\" /><line x1=\"25.189125720073196%\" x2=\"31.04838989596754%\" y1=\"60\" y2=\"60\" id=\"_fb_zggfyhgwacefgfuuxzup_ind_0\" style=\"stroke:rgb(255.0, 0.0, 81.08083606031792);stroke-width:2; opacity: 0\"/><text x=\"28.11875780802037%\" y=\"71\" font-size=\"12px\" id=\"_fs_zggfyhgwacefgfuuxzup_ind_0\" fill=\"rgb(255.0, 0.0, 81.08083606031792)\" style=\"opacity: 0\" dominant-baseline=\"middle\" text-anchor=\"middle\">0.069</text><svg x=\"25.189125720073196%\" y=\"40\" height=\"20\" width=\"5.859264175894342%\">  <svg x=\"0\" y=\"0\" width=\"100%\" height=\"100%\">    <text x=\"50%\" y=\"9\" font-size=\"12px\" fill=\"rgb(255,255,255)\" dominant-baseline=\"middle\" text-anchor=\"middle\"></text>  </svg></svg><line x1=\"23.076243973810307%\" x2=\"25.189125720073196%\" y1=\"60\" y2=\"60\" id=\"_fb_zggfyhgwacefgfuuxzup_ind_2\" style=\"stroke:rgb(255.0, 0.0, 81.08083606031792);stroke-width:2; opacity: 0\"/><text x=\"24.13268484694175%\" y=\"71\" font-size=\"12px\" id=\"_fs_zggfyhgwacefgfuuxzup_ind_2\" fill=\"rgb(255.0, 0.0, 81.08083606031792)\" style=\"opacity: 0\" dominant-baseline=\"middle\" text-anchor=\"middle\">0.025</text><svg x=\"23.076243973810307%\" y=\"40\" height=\"20\" width=\"2.1128817462628895%\">  <svg x=\"0\" y=\"0\" width=\"100%\" height=\"100%\">    <text x=\"50%\" y=\"9\" font-size=\"12px\" fill=\"rgb(255,255,255)\" dominant-baseline=\"middle\" text-anchor=\"middle\">love</text>  </svg></svg><line x1=\"21.778817104213584%\" x2=\"23.076243973810307%\" y1=\"60\" y2=\"60\" id=\"_fb_zggfyhgwacefgfuuxzup_ind_1\" style=\"stroke:rgb(255.0, 0.0, 81.08083606031792);stroke-width:2; opacity: 0\"/><text x=\"22.427530539011947%\" y=\"71\" font-size=\"12px\" id=\"_fs_zggfyhgwacefgfuuxzup_ind_1\" fill=\"rgb(255.0, 0.0, 81.08083606031792)\" style=\"opacity: 0\" dominant-baseline=\"middle\" text-anchor=\"middle\">0.015</text><svg x=\"21.778817104213584%\" y=\"40\" height=\"20\" width=\"1.2974268695967233%\">  <svg x=\"0\" y=\"0\" width=\"100%\" height=\"100%\">    <text x=\"50%\" y=\"9\" font-size=\"12px\" fill=\"rgb(255,255,255)\" dominant-baseline=\"middle\" text-anchor=\"middle\">I</text>  </svg></svg><g transform=\"translate(0,0)\">  <svg x=\"25.189125720073196%\" y=\"40\" height=\"18\" overflow=\"visible\" width=\"30\">    <path d=\"M 0 -9 l 6 18 L 0 25\" fill=\"none\" style=\"stroke:rgb(255.0, 0.0, 81.08083606031792);stroke-width:2\" />  </svg></g><g transform=\"translate(2,0)\">  <svg x=\"25.189125720073196%\" y=\"40\" height=\"18\" overflow=\"visible\" width=\"30\">    <path d=\"M 0 -9 l 6 18 L 0 25\" fill=\"none\" style=\"stroke:rgb(255.0, 0.0, 81.08083606031792);stroke-width:2\" />  </svg></g><g transform=\"translate(4,0)\">  <svg x=\"25.189125720073196%\" y=\"40\" height=\"18\" overflow=\"visible\" width=\"30\">    <path d=\"M 0 -9 l 6 18 L 0 25\" fill=\"none\" style=\"stroke:rgb(255.0, 0.0, 81.08083606031792);stroke-width:2\" />  </svg></g><g transform=\"translate(6,0)\">  <svg x=\"25.189125720073196%\" y=\"40\" height=\"18\" overflow=\"visible\" width=\"30\">    <path d=\"M 0 -9 l 6 18 L 0 25\" fill=\"none\" style=\"stroke:rgb(255.0, 0.0, 81.08083606031792);stroke-width:2\" />  </svg></g><g transform=\"translate(-8,0)\">  <svg x=\"25.189125720073196%\" y=\"40\" height=\"18\" overflow=\"visible\" width=\"30\">    <path d=\"M 0 -9 l 6 18 L 0 25\" fill=\"none\" style=\"stroke:rgb(255.0, 0.0, 81.08083606031792);stroke-width:2\" />  </svg></g><g transform=\"translate(-6,0)\">  <svg x=\"25.189125720073196%\" y=\"40\" height=\"18\" overflow=\"visible\" width=\"30\">    <path d=\"M 0 -9 l 6 18 L 0 25\" fill=\"none\" style=\"stroke:rgb(255.0, 0.0, 81.08083606031792);stroke-width:2\" />  </svg></g><g transform=\"translate(-4,0)\">  <svg x=\"25.189125720073196%\" y=\"40\" height=\"18\" overflow=\"visible\" width=\"30\">    <path d=\"M 0 -9 l 6 18 L 0 25\" fill=\"none\" style=\"stroke:rgb(255.0, 0.0, 81.08083606031792);stroke-width:2\" />  </svg></g><g transform=\"translate(-2,0)\">  <svg x=\"25.189125720073196%\" y=\"40\" height=\"18\" overflow=\"visible\" width=\"30\">    <path d=\"M 0 -9 l 6 18 L 0 25\" fill=\"none\" style=\"stroke:rgb(255.0, 0.0, 81.08083606031792);stroke-width:2\" />  </svg></g><g transform=\"translate(0,0)\">  <svg x=\"23.076243973810307%\" y=\"40\" height=\"18\" overflow=\"visible\" width=\"30\">    <path d=\"M 0 -9 l 6 18 L 0 25\" fill=\"none\" style=\"stroke:rgb(255.0, 0.0, 81.08083606031792);stroke-width:2\" />  </svg></g><g transform=\"translate(2,0)\">  <svg x=\"23.076243973810307%\" y=\"40\" height=\"18\" overflow=\"visible\" width=\"30\">    <path d=\"M 0 -9 l 6 18 L 0 25\" fill=\"none\" style=\"stroke:rgb(255.0, 0.0, 81.08083606031792);stroke-width:2\" />  </svg></g><g transform=\"translate(4,0)\">  <svg x=\"23.076243973810307%\" y=\"40\" height=\"18\" overflow=\"visible\" width=\"30\">    <path d=\"M 0 -9 l 6 18 L 0 25\" fill=\"none\" style=\"stroke:rgb(255.0, 0.0, 81.08083606031792);stroke-width:2\" />  </svg></g><g transform=\"translate(6,0)\">  <svg x=\"23.076243973810307%\" y=\"40\" height=\"18\" overflow=\"visible\" width=\"30\">    <path d=\"M 0 -9 l 6 18 L 0 25\" fill=\"none\" style=\"stroke:rgb(255.0, 0.0, 81.08083606031792);stroke-width:2\" />  </svg></g><g transform=\"translate(-8,0)\">  <svg x=\"23.076243973810307%\" y=\"40\" height=\"18\" overflow=\"visible\" width=\"30\">    <path d=\"M 0 -9 l 6 18 L 0 25\" fill=\"none\" style=\"stroke:rgb(255.0, 0.0, 81.08083606031792);stroke-width:2\" />  </svg></g><g transform=\"translate(-6,0)\">  <svg x=\"23.076243973810307%\" y=\"40\" height=\"18\" overflow=\"visible\" width=\"30\">    <path d=\"M 0 -9 l 6 18 L 0 25\" fill=\"none\" style=\"stroke:rgb(255.0, 0.0, 81.08083606031792);stroke-width:2\" />  </svg></g><g transform=\"translate(-4,0)\">  <svg x=\"23.076243973810307%\" y=\"40\" height=\"18\" overflow=\"visible\" width=\"30\">    <path d=\"M 0 -9 l 6 18 L 0 25\" fill=\"none\" style=\"stroke:rgb(255.0, 0.0, 81.08083606031792);stroke-width:2\" />  </svg></g><g transform=\"translate(-2,0)\">  <svg x=\"23.076243973810307%\" y=\"40\" height=\"18\" overflow=\"visible\" width=\"30\">    <path d=\"M 0 -9 l 6 18 L 0 25\" fill=\"none\" style=\"stroke:rgb(255.0, 0.0, 81.08083606031792);stroke-width:2\" />  </svg></g><rect transform=\"translate(-8,0)\" x=\"31.04838989596754%\" y=\"40\" width=\"8\" height=\"18\" style=\"fill:rgb(255.0, 0.0, 81.08083606031792)\"/><g transform=\"translate(-11.5,0)\">  <svg x=\"21.778817104213584%\" y=\"40\" height=\"18\" overflow=\"visible\" width=\"30\">    <path d=\"M 10 -9 l 6 18 L 10 25 L 0 25 L 0 -9\" fill=\"#ffffff\" style=\"stroke:rgb(255,255,255);stroke-width:2\" />  </svg></g><g transform=\"translate(-1.5,0)\">  <svg x=\"31.04838989596754%\" y=\"40\" height=\"18\" overflow=\"visible\" width=\"30\">    <path d=\"M 0 -9 l 6 18 L 0 25\" fill=\"none\" style=\"stroke:rgb(255, 195, 213);stroke-width:2\" />  </svg></g><rect x=\"25.189125720073196%\" y=\"40\" height=\"20\" width=\"5.859264175894342%\"      onmouseover=\"document.getElementById('_tp_zggfyhgwacefgfuuxzup_ind_0').style.textDecoration = 'underline';document.getElementById('_fs_zggfyhgwacefgfuuxzup_ind_0').style.opacity = 1;document.getElementById('_fb_zggfyhgwacefgfuuxzup_ind_0').style.opacity = 1;\"      onmouseout=\"document.getElementById('_tp_zggfyhgwacefgfuuxzup_ind_0').style.textDecoration = 'none';document.getElementById('_fs_zggfyhgwacefgfuuxzup_ind_0').style.opacity = 0;document.getElementById('_fb_zggfyhgwacefgfuuxzup_ind_0').style.opacity = 0;\" style=\"fill:rgb(0,0,0,0)\" /><g transform=\"translate(-1.5,0)\">  <svg x=\"25.189125720073196%\" y=\"40\" height=\"18\" overflow=\"visible\" width=\"30\">    <path d=\"M 0 -9 l 6 18 L 0 25\" fill=\"none\" style=\"stroke:rgb(255, 195, 213);stroke-width:2\" />  </svg></g><rect x=\"23.076243973810307%\" y=\"40\" height=\"20\" width=\"2.1128817462628895%\"      onmouseover=\"document.getElementById('_tp_zggfyhgwacefgfuuxzup_ind_2').style.textDecoration = 'underline';document.getElementById('_fs_zggfyhgwacefgfuuxzup_ind_2').style.opacity = 1;document.getElementById('_fb_zggfyhgwacefgfuuxzup_ind_2').style.opacity = 1;\"      onmouseout=\"document.getElementById('_tp_zggfyhgwacefgfuuxzup_ind_2').style.textDecoration = 'none';document.getElementById('_fs_zggfyhgwacefgfuuxzup_ind_2').style.opacity = 0;document.getElementById('_fb_zggfyhgwacefgfuuxzup_ind_2').style.opacity = 0;\" style=\"fill:rgb(0,0,0,0)\" /><rect x=\"21.778817104213584%\" y=\"40\" height=\"20\" width=\"1.2974268695967233%\"      onmouseover=\"document.getElementById('_tp_zggfyhgwacefgfuuxzup_ind_1').style.textDecoration = 'underline';document.getElementById('_fs_zggfyhgwacefgfuuxzup_ind_1').style.opacity = 1;document.getElementById('_fb_zggfyhgwacefgfuuxzup_ind_1').style.opacity = 1;\"      onmouseout=\"document.getElementById('_tp_zggfyhgwacefgfuuxzup_ind_1').style.textDecoration = 'none';document.getElementById('_fs_zggfyhgwacefgfuuxzup_ind_1').style.opacity = 0;document.getElementById('_fb_zggfyhgwacefgfuuxzup_ind_1').style.opacity = 0;\" style=\"fill:rgb(0,0,0,0)\" /><rect x=\"31.04838989596754%\" width=\"11.630634627409162%\" y=\"40\" height=\"18\" style=\"fill:rgb(0.0, 138.56128015770727, 250.76166088685727); stroke-width:0; stroke:rgb(0,0,0)\" /><line x1=\"31.04838989596754%\" x2=\"39.11992461808227%\" y1=\"60\" y2=\"60\" id=\"_fb_zggfyhgwacefgfuuxzup_ind_6\" style=\"stroke:rgb(0.0, 138.56128015770727, 250.76166088685727);stroke-width:2; opacity: 0\"/><text x=\"35.084157257024906%\" y=\"71\" font-size=\"12px\" fill=\"rgb(0.0, 138.56128015770727, 250.76166088685727)\" id=\"_fs_zggfyhgwacefgfuuxzup_ind_6\" style=\"opacity: 0\" dominant-baseline=\"middle\" text-anchor=\"middle\">-0.096</text><svg x=\"31.04838989596754%\" y=\"40\" height=\"20\" width=\"8.071534722114734%\">  <svg x=\"0\" y=\"0\" width=\"100%\" height=\"100%\">    <text x=\"50%\" y=\"9\" font-size=\"12px\" fill=\"rgb(255,255,255)\" dominant-baseline=\"middle\" text-anchor=\"middle\"></text>  </svg></svg><line x1=\"39.11992461808227%\" x2=\"41.249684432687395%\" y1=\"60\" y2=\"60\" id=\"_fb_zggfyhgwacefgfuuxzup_ind_3\" style=\"stroke:rgb(0.0, 138.56128015770727, 250.76166088685727);stroke-width:2; opacity: 0\"/><text x=\"40.184804525384834%\" y=\"71\" font-size=\"12px\" fill=\"rgb(0.0, 138.56128015770727, 250.76166088685727)\" id=\"_fs_zggfyhgwacefgfuuxzup_ind_3\" style=\"opacity: 0\" dominant-baseline=\"middle\" text-anchor=\"middle\">-0.025</text><svg x=\"39.11992461808227%\" y=\"40\" height=\"20\" width=\"2.129759814605123%\">  <svg x=\"0\" y=\"0\" width=\"100%\" height=\"100%\">    <text x=\"50%\" y=\"9\" font-size=\"12px\" fill=\"rgb(255,255,255)\" dominant-baseline=\"middle\" text-anchor=\"middle\">playing</text>  </svg></svg><line x1=\"41.249684432687395%\" x2=\"42.37855819803263%\" y1=\"60\" y2=\"60\" id=\"_fb_zggfyhgwacefgfuuxzup_ind_5\" style=\"stroke:rgb(0.0, 138.56128015770727, 250.76166088685727);stroke-width:2; opacity: 0\"/><text x=\"41.81412131536001%\" y=\"71\" font-size=\"12px\" fill=\"rgb(0.0, 138.56128015770727, 250.76166088685727)\" id=\"_fs_zggfyhgwacefgfuuxzup_ind_5\" style=\"opacity: 0\" dominant-baseline=\"middle\" text-anchor=\"middle\">-0.013</text><svg x=\"41.249684432687395%\" y=\"40\" height=\"20\" width=\"1.128873765345233%\">  <svg x=\"0\" y=\"0\" width=\"100%\" height=\"100%\">    <text x=\"50%\" y=\"9\" font-size=\"12px\" fill=\"rgb(255,255,255)\" dominant-baseline=\"middle\" text-anchor=\"middle\">!</text>  </svg></svg><line x1=\"42.37855819803263%\" x2=\"42.6790245233767%\" y1=\"60\" y2=\"60\" id=\"_fb_zggfyhgwacefgfuuxzup_ind_4\" style=\"stroke:rgb(0.0, 138.56128015770727, 250.76166088685727);stroke-width:2; opacity: 0\"/><text x=\"42.52879136070466%\" y=\"71\" font-size=\"12px\" fill=\"rgb(0.0, 138.56128015770727, 250.76166088685727)\" id=\"_fs_zggfyhgwacefgfuuxzup_ind_4\" style=\"opacity: 0\" dominant-baseline=\"middle\" text-anchor=\"middle\">-0.004</text><svg x=\"42.37855819803263%\" y=\"40\" height=\"20\" width=\"0.30046632534406825%\">  <svg x=\"0\" y=\"0\" width=\"100%\" height=\"100%\">    <text x=\"50%\" y=\"9\" font-size=\"12px\" fill=\"rgb(255,255,255)\" dominant-baseline=\"middle\" text-anchor=\"middle\">cricket</text>  </svg></svg><g transform=\"translate(-8,0)\">  <svg x=\"39.11992461808227%\" y=\"40\" height=\"18\" overflow=\"visible\" width=\"30\">    <path d=\"M 8 -9 l -6 18 L 8 25\" fill=\"none\" style=\"stroke:rgb(0.0, 138.56128015770727, 250.76166088685727);stroke-width:2\" />  </svg></g><g transform=\"translate(-10,0)\">  <svg x=\"39.11992461808227%\" y=\"40\" height=\"18\" overflow=\"visible\" width=\"30\">    <path d=\"M 8 -9 l -6 18 L 8 25\" fill=\"none\" style=\"stroke:rgb(0.0, 138.56128015770727, 250.76166088685727);stroke-width:2\" />  </svg></g><g transform=\"translate(-12,0)\">  <svg x=\"39.11992461808227%\" y=\"40\" height=\"18\" overflow=\"visible\" width=\"30\">    <path d=\"M 8 -9 l -6 18 L 8 25\" fill=\"none\" style=\"stroke:rgb(0.0, 138.56128015770727, 250.76166088685727);stroke-width:2\" />  </svg></g><g transform=\"translate(-14,0)\">  <svg x=\"39.11992461808227%\" y=\"40\" height=\"18\" overflow=\"visible\" width=\"30\">    <path d=\"M 8 -9 l -6 18 L 8 25\" fill=\"none\" style=\"stroke:rgb(0.0, 138.56128015770727, 250.76166088685727);stroke-width:2\" />  </svg></g><g transform=\"translate(2,0)\">  <svg x=\"39.11992461808227%\" y=\"40\" height=\"18\" overflow=\"visible\" width=\"30\">    <path d=\"M 8 -9 l -6 18 L 8 25\" fill=\"none\" style=\"stroke:rgb(0.0, 138.56128015770727, 250.76166088685727);stroke-width:2\" />  </svg></g><g transform=\"translate(0,0)\">  <svg x=\"39.11992461808227%\" y=\"40\" height=\"18\" overflow=\"visible\" width=\"30\">    <path d=\"M 8 -9 l -6 18 L 8 25\" fill=\"none\" style=\"stroke:rgb(0.0, 138.56128015770727, 250.76166088685727);stroke-width:2\" />  </svg></g><g transform=\"translate(-2,0)\">  <svg x=\"39.11992461808227%\" y=\"40\" height=\"18\" overflow=\"visible\" width=\"30\">    <path d=\"M 8 -9 l -6 18 L 8 25\" fill=\"none\" style=\"stroke:rgb(0.0, 138.56128015770727, 250.76166088685727);stroke-width:2\" />  </svg></g><g transform=\"translate(-4,0)\">  <svg x=\"39.11992461808227%\" y=\"40\" height=\"18\" overflow=\"visible\" width=\"30\">    <path d=\"M 8 -9 l -6 18 L 8 25\" fill=\"none\" style=\"stroke:rgb(0.0, 138.56128015770727, 250.76166088685727);stroke-width:2\" />  </svg></g><g transform=\"translate(-8,0)\">  <svg x=\"41.249684432687395%\" y=\"40\" height=\"18\" overflow=\"visible\" width=\"30\">    <path d=\"M 8 -9 l -6 18 L 8 25\" fill=\"none\" style=\"stroke:rgb(0.0, 138.56128015770727, 250.76166088685727);stroke-width:2\" />  </svg></g><g transform=\"translate(-10,0)\">  <svg x=\"41.249684432687395%\" y=\"40\" height=\"18\" overflow=\"visible\" width=\"30\">    <path d=\"M 8 -9 l -6 18 L 8 25\" fill=\"none\" style=\"stroke:rgb(0.0, 138.56128015770727, 250.76166088685727);stroke-width:2\" />  </svg></g><g transform=\"translate(-12,0)\">  <svg x=\"41.249684432687395%\" y=\"40\" height=\"18\" overflow=\"visible\" width=\"30\">    <path d=\"M 8 -9 l -6 18 L 8 25\" fill=\"none\" style=\"stroke:rgb(0.0, 138.56128015770727, 250.76166088685727);stroke-width:2\" />  </svg></g><g transform=\"translate(-14,0)\">  <svg x=\"41.249684432687395%\" y=\"40\" height=\"18\" overflow=\"visible\" width=\"30\">    <path d=\"M 8 -9 l -6 18 L 8 25\" fill=\"none\" style=\"stroke:rgb(0.0, 138.56128015770727, 250.76166088685727);stroke-width:2\" />  </svg></g><g transform=\"translate(2,0)\">  <svg x=\"41.249684432687395%\" y=\"40\" height=\"18\" overflow=\"visible\" width=\"30\">    <path d=\"M 8 -9 l -6 18 L 8 25\" fill=\"none\" style=\"stroke:rgb(0.0, 138.56128015770727, 250.76166088685727);stroke-width:2\" />  </svg></g><g transform=\"translate(0,0)\">  <svg x=\"41.249684432687395%\" y=\"40\" height=\"18\" overflow=\"visible\" width=\"30\">    <path d=\"M 8 -9 l -6 18 L 8 25\" fill=\"none\" style=\"stroke:rgb(0.0, 138.56128015770727, 250.76166088685727);stroke-width:2\" />  </svg></g><g transform=\"translate(-2,0)\">  <svg x=\"41.249684432687395%\" y=\"40\" height=\"18\" overflow=\"visible\" width=\"30\">    <path d=\"M 8 -9 l -6 18 L 8 25\" fill=\"none\" style=\"stroke:rgb(0.0, 138.56128015770727, 250.76166088685727);stroke-width:2\" />  </svg></g><g transform=\"translate(-4,0)\">  <svg x=\"41.249684432687395%\" y=\"40\" height=\"18\" overflow=\"visible\" width=\"30\">    <path d=\"M 8 -9 l -6 18 L 8 25\" fill=\"none\" style=\"stroke:rgb(0.0, 138.56128015770727, 250.76166088685727);stroke-width:2\" />  </svg></g><g transform=\"translate(-8,0)\">  <svg x=\"42.37855819803263%\" y=\"40\" height=\"18\" overflow=\"visible\" width=\"30\">    <path d=\"M 8 -9 l -6 18 L 8 25\" fill=\"none\" style=\"stroke:rgb(0.0, 138.56128015770727, 250.76166088685727);stroke-width:2\" />  </svg></g><g transform=\"translate(-10,0)\">  <svg x=\"42.37855819803263%\" y=\"40\" height=\"18\" overflow=\"visible\" width=\"30\">    <path d=\"M 8 -9 l -6 18 L 8 25\" fill=\"none\" style=\"stroke:rgb(0.0, 138.56128015770727, 250.76166088685727);stroke-width:2\" />  </svg></g><g transform=\"translate(-12,0)\">  <svg x=\"42.37855819803263%\" y=\"40\" height=\"18\" overflow=\"visible\" width=\"30\">    <path d=\"M 8 -9 l -6 18 L 8 25\" fill=\"none\" style=\"stroke:rgb(0.0, 138.56128015770727, 250.76166088685727);stroke-width:2\" />  </svg></g><g transform=\"translate(-14,0)\">  <svg x=\"42.37855819803263%\" y=\"40\" height=\"18\" overflow=\"visible\" width=\"30\">    <path d=\"M 8 -9 l -6 18 L 8 25\" fill=\"none\" style=\"stroke:rgb(0.0, 138.56128015770727, 250.76166088685727);stroke-width:2\" />  </svg></g><g transform=\"translate(2,0)\">  <svg x=\"42.37855819803263%\" y=\"40\" height=\"18\" overflow=\"visible\" width=\"30\">    <path d=\"M 8 -9 l -6 18 L 8 25\" fill=\"none\" style=\"stroke:rgb(0.0, 138.56128015770727, 250.76166088685727);stroke-width:2\" />  </svg></g><g transform=\"translate(0,0)\">  <svg x=\"42.37855819803263%\" y=\"40\" height=\"18\" overflow=\"visible\" width=\"30\">    <path d=\"M 8 -9 l -6 18 L 8 25\" fill=\"none\" style=\"stroke:rgb(0.0, 138.56128015770727, 250.76166088685727);stroke-width:2\" />  </svg></g><g transform=\"translate(-2,0)\">  <svg x=\"42.37855819803263%\" y=\"40\" height=\"18\" overflow=\"visible\" width=\"30\">    <path d=\"M 8 -9 l -6 18 L 8 25\" fill=\"none\" style=\"stroke:rgb(0.0, 138.56128015770727, 250.76166088685727);stroke-width:2\" />  </svg></g><g transform=\"translate(-4,0)\">  <svg x=\"42.37855819803263%\" y=\"40\" height=\"18\" overflow=\"visible\" width=\"30\">    <path d=\"M 8 -9 l -6 18 L 8 25\" fill=\"none\" style=\"stroke:rgb(0.0, 138.56128015770727, 250.76166088685727);stroke-width:2\" />  </svg></g><rect transform=\"translate(0,0)\" x=\"31.04838989596754%\" y=\"40\" width=\"8\" height=\"18\" style=\"fill:rgb(0.0, 138.56128015770727, 250.76166088685727)\"/><g transform=\"translate(-6.0,0)\">  <svg x=\"42.6790245233767%\" y=\"40\" height=\"18\" overflow=\"visible\" width=\"30\">    <path d=\"M 8 -9 l -6 18 L 8 25 L 20 25 L 20 -9\" fill=\"#ffffff\" style=\"stroke:rgb(255,255,255);stroke-width:2\" />  </svg></g><g transform=\"translate(-6.0,0)\">  <svg x=\"39.11992461808227%\" y=\"40\" height=\"18\" overflow=\"visible\" width=\"30\">    <path d=\"M 8 -9 l -6 18 L 8 25\" fill=\"none\" style=\"stroke:rgb(208, 230, 250);stroke-width:2\" />  </svg></g><rect x=\"31.04838989596754%\" y=\"40\" height=\"20\" width=\"8.071534722114734%\"      onmouseover=\"document.getElementById('_tp_zggfyhgwacefgfuuxzup_ind_6').style.textDecoration = 'underline';document.getElementById('_fs_zggfyhgwacefgfuuxzup_ind_6').style.opacity = 1;document.getElementById('_fb_zggfyhgwacefgfuuxzup_ind_6').style.opacity = 1;\"      onmouseout=\"document.getElementById('_tp_zggfyhgwacefgfuuxzup_ind_6').style.textDecoration = 'none';document.getElementById('_fs_zggfyhgwacefgfuuxzup_ind_6').style.opacity = 0;document.getElementById('_fb_zggfyhgwacefgfuuxzup_ind_6').style.opacity = 0;\" style=\"fill:rgb(0,0,0,0)\" /><g transform=\"translate(-6.0,0)\">  <svg x=\"41.249684432687395%\" y=\"40\" height=\"18\" overflow=\"visible\" width=\"30\">    <path d=\"M 8 -9 l -6 18 L 8 25\" fill=\"none\" style=\"stroke:rgb(208, 230, 250);stroke-width:2\" />  </svg></g><rect x=\"39.11992461808227%\" y=\"40\" height=\"20\" width=\"2.129759814605123%\"      onmouseover=\"document.getElementById('_tp_zggfyhgwacefgfuuxzup_ind_3').style.textDecoration = 'underline';document.getElementById('_fs_zggfyhgwacefgfuuxzup_ind_3').style.opacity = 1;document.getElementById('_fb_zggfyhgwacefgfuuxzup_ind_3').style.opacity = 1;\"      onmouseout=\"document.getElementById('_tp_zggfyhgwacefgfuuxzup_ind_3').style.textDecoration = 'none';document.getElementById('_fs_zggfyhgwacefgfuuxzup_ind_3').style.opacity = 0;document.getElementById('_fb_zggfyhgwacefgfuuxzup_ind_3').style.opacity = 0;\" style=\"fill:rgb(0,0,0,0)\" /><g transform=\"translate(-6.0,0)\">  <svg x=\"42.37855819803263%\" y=\"40\" height=\"18\" overflow=\"visible\" width=\"30\">    <path d=\"M 8 -9 l -6 18 L 8 25\" fill=\"none\" style=\"stroke:rgb(208, 230, 250);stroke-width:2\" />  </svg></g><rect x=\"41.249684432687395%\" y=\"40\" height=\"20\" width=\"1.128873765345233%\"      onmouseover=\"document.getElementById('_tp_zggfyhgwacefgfuuxzup_ind_5').style.textDecoration = 'underline';document.getElementById('_fs_zggfyhgwacefgfuuxzup_ind_5').style.opacity = 1;document.getElementById('_fb_zggfyhgwacefgfuuxzup_ind_5').style.opacity = 1;\"      onmouseout=\"document.getElementById('_tp_zggfyhgwacefgfuuxzup_ind_5').style.textDecoration = 'none';document.getElementById('_fs_zggfyhgwacefgfuuxzup_ind_5').style.opacity = 0;document.getElementById('_fb_zggfyhgwacefgfuuxzup_ind_5').style.opacity = 0;\" style=\"fill:rgb(0,0,0,0)\" /><rect x=\"42.37855819803263%\" y=\"40\" height=\"20\" width=\"0.30046632534406825%\"      onmouseover=\"document.getElementById('_tp_zggfyhgwacefgfuuxzup_ind_4').style.textDecoration = 'underline';document.getElementById('_fs_zggfyhgwacefgfuuxzup_ind_4').style.opacity = 1;document.getElementById('_fb_zggfyhgwacefgfuuxzup_ind_4').style.opacity = 1;\"      onmouseout=\"document.getElementById('_tp_zggfyhgwacefgfuuxzup_ind_4').style.textDecoration = 'none';document.getElementById('_fs_zggfyhgwacefgfuuxzup_ind_4').style.opacity = 0;document.getElementById('_fb_zggfyhgwacefgfuuxzup_ind_4').style.opacity = 0;\" style=\"fill:rgb(0,0,0,0)\" /></svg><div align='center'><div style=\"color: rgb(120,120,120); font-size: 12px; margin-top: -15px;\">inputs</div><div style='display: inline; text-align: center;'\n",
       "    ><div style='display: none; color: #999; padding-top: 0px; font-size: 12px;'>0.069</div\n",
       "        ><div id='_tp_zggfyhgwacefgfuuxzup_ind_0'\n",
       "            style='display: inline; background: rgba(255.0, 13.0, 87.0, 0.20384234501881549); border-radius: 3px; padding: 0px'\n",
       "            onclick=\"\n",
       "            if (this.previousSibling.style.display == 'none') {\n",
       "                this.previousSibling.style.display = 'block';\n",
       "                this.parentNode.style.display = 'inline-block';\n",
       "            } else {\n",
       "                this.previousSibling.style.display = 'none';\n",
       "                this.parentNode.style.display = 'inline';\n",
       "            }\"\n",
       "            onmouseover=\"document.getElementById('_fb_zggfyhgwacefgfuuxzup_ind_0').style.opacity = 1; document.getElementById('_fs_zggfyhgwacefgfuuxzup_ind_0').style.opacity = 1;\"\n",
       "            onmouseout=\"document.getElementById('_fb_zggfyhgwacefgfuuxzup_ind_0').style.opacity = 0; document.getElementById('_fs_zggfyhgwacefgfuuxzup_ind_0').style.opacity = 0;\"\n",
       "        ></div></div><div style='display: inline; text-align: center;'\n",
       "    ><div style='display: none; color: #999; padding-top: 0px; font-size: 12px;'>0.015</div\n",
       "        ><div id='_tp_zggfyhgwacefgfuuxzup_ind_1'\n",
       "            style='display: inline; background: rgba(255.0, 13.0, 87.0, 0.03830461477520289); border-radius: 3px; padding: 0px'\n",
       "            onclick=\"\n",
       "            if (this.previousSibling.style.display == 'none') {\n",
       "                this.previousSibling.style.display = 'block';\n",
       "                this.parentNode.style.display = 'inline-block';\n",
       "            } else {\n",
       "                this.previousSibling.style.display = 'none';\n",
       "                this.parentNode.style.display = 'inline';\n",
       "            }\"\n",
       "            onmouseover=\"document.getElementById('_fb_zggfyhgwacefgfuuxzup_ind_1').style.opacity = 1; document.getElementById('_fs_zggfyhgwacefgfuuxzup_ind_1').style.opacity = 1;\"\n",
       "            onmouseout=\"document.getElementById('_fb_zggfyhgwacefgfuuxzup_ind_1').style.opacity = 0; document.getElementById('_fs_zggfyhgwacefgfuuxzup_ind_1').style.opacity = 0;\"\n",
       "        >I </div></div><div style='display: inline; text-align: center;'\n",
       "    ><div style='display: none; color: #999; padding-top: 0px; font-size: 12px;'>0.025</div\n",
       "        ><div id='_tp_zggfyhgwacefgfuuxzup_ind_2'\n",
       "            style='display: inline; background: rgba(255.0, 13.0, 87.0, 0.06983561101208159); border-radius: 3px; padding: 0px'\n",
       "            onclick=\"\n",
       "            if (this.previousSibling.style.display == 'none') {\n",
       "                this.previousSibling.style.display = 'block';\n",
       "                this.parentNode.style.display = 'inline-block';\n",
       "            } else {\n",
       "                this.previousSibling.style.display = 'none';\n",
       "                this.parentNode.style.display = 'inline';\n",
       "            }\"\n",
       "            onmouseover=\"document.getElementById('_fb_zggfyhgwacefgfuuxzup_ind_2').style.opacity = 1; document.getElementById('_fs_zggfyhgwacefgfuuxzup_ind_2').style.opacity = 1;\"\n",
       "            onmouseout=\"document.getElementById('_fb_zggfyhgwacefgfuuxzup_ind_2').style.opacity = 0; document.getElementById('_fs_zggfyhgwacefgfuuxzup_ind_2').style.opacity = 0;\"\n",
       "        >love </div></div><div style='display: inline; text-align: center;'\n",
       "    ><div style='display: none; color: #999; padding-top: 0px; font-size: 12px;'>-0.025</div\n",
       "        ><div id='_tp_zggfyhgwacefgfuuxzup_ind_3'\n",
       "            style='display: inline; background: rgba(30.0, 136.0, 229.0, 0.06983561101208147); border-radius: 3px; padding: 0px'\n",
       "            onclick=\"\n",
       "            if (this.previousSibling.style.display == 'none') {\n",
       "                this.previousSibling.style.display = 'block';\n",
       "                this.parentNode.style.display = 'inline-block';\n",
       "            } else {\n",
       "                this.previousSibling.style.display = 'none';\n",
       "                this.parentNode.style.display = 'inline';\n",
       "            }\"\n",
       "            onmouseover=\"document.getElementById('_fb_zggfyhgwacefgfuuxzup_ind_3').style.opacity = 1; document.getElementById('_fs_zggfyhgwacefgfuuxzup_ind_3').style.opacity = 1;\"\n",
       "            onmouseout=\"document.getElementById('_fb_zggfyhgwacefgfuuxzup_ind_3').style.opacity = 0; document.getElementById('_fs_zggfyhgwacefgfuuxzup_ind_3').style.opacity = 0;\"\n",
       "        >playing </div></div><div style='display: inline; text-align: center;'\n",
       "    ><div style='display: none; color: #999; padding-top: 0px; font-size: 12px;'>-0.004</div\n",
       "        ><div id='_tp_zggfyhgwacefgfuuxzup_ind_4'\n",
       "            style='display: inline; background: rgba(30.0, 136.0, 229.0, 0.006773618538324436); border-radius: 3px; padding: 0px'\n",
       "            onclick=\"\n",
       "            if (this.previousSibling.style.display == 'none') {\n",
       "                this.previousSibling.style.display = 'block';\n",
       "                this.parentNode.style.display = 'inline-block';\n",
       "            } else {\n",
       "                this.previousSibling.style.display = 'none';\n",
       "                this.parentNode.style.display = 'inline';\n",
       "            }\"\n",
       "            onmouseover=\"document.getElementById('_fb_zggfyhgwacefgfuuxzup_ind_4').style.opacity = 1; document.getElementById('_fs_zggfyhgwacefgfuuxzup_ind_4').style.opacity = 1;\"\n",
       "            onmouseout=\"document.getElementById('_fb_zggfyhgwacefgfuuxzup_ind_4').style.opacity = 0; document.getElementById('_fs_zggfyhgwacefgfuuxzup_ind_4').style.opacity = 0;\"\n",
       "        >cricket</div></div><div style='display: inline; text-align: center;'\n",
       "    ><div style='display: none; color: #999; padding-top: 0px; font-size: 12px;'>-0.013</div\n",
       "        ><div id='_tp_zggfyhgwacefgfuuxzup_ind_5'\n",
       "            style='display: inline; background: rgba(30.0, 136.0, 229.0, 0.03830461477520309); border-radius: 3px; padding: 0px'\n",
       "            onclick=\"\n",
       "            if (this.previousSibling.style.display == 'none') {\n",
       "                this.previousSibling.style.display = 'block';\n",
       "                this.parentNode.style.display = 'inline-block';\n",
       "            } else {\n",
       "                this.previousSibling.style.display = 'none';\n",
       "                this.parentNode.style.display = 'inline';\n",
       "            }\"\n",
       "            onmouseover=\"document.getElementById('_fb_zggfyhgwacefgfuuxzup_ind_5').style.opacity = 1; document.getElementById('_fs_zggfyhgwacefgfuuxzup_ind_5').style.opacity = 1;\"\n",
       "            onmouseout=\"document.getElementById('_fb_zggfyhgwacefgfuuxzup_ind_5').style.opacity = 0; document.getElementById('_fs_zggfyhgwacefgfuuxzup_ind_5').style.opacity = 0;\"\n",
       "        >!</div></div><div style='display: inline; text-align: center;'\n",
       "    ><div style='display: none; color: #999; padding-top: 0px; font-size: 12px;'>-0.096</div\n",
       "        ><div id='_tp_zggfyhgwacefgfuuxzup_ind_6'\n",
       "            style='display: inline; background: rgba(30.0, 136.0, 229.0, 0.27478708655179246); border-radius: 3px; padding: 0px'\n",
       "            onclick=\"\n",
       "            if (this.previousSibling.style.display == 'none') {\n",
       "                this.previousSibling.style.display = 'block';\n",
       "                this.parentNode.style.display = 'inline-block';\n",
       "            } else {\n",
       "                this.previousSibling.style.display = 'none';\n",
       "                this.parentNode.style.display = 'inline';\n",
       "            }\"\n",
       "            onmouseover=\"document.getElementById('_fb_zggfyhgwacefgfuuxzup_ind_6').style.opacity = 1; document.getElementById('_fs_zggfyhgwacefgfuuxzup_ind_6').style.opacity = 1;\"\n",
       "            onmouseout=\"document.getElementById('_fb_zggfyhgwacefgfuuxzup_ind_6').style.opacity = 0; document.getElementById('_fs_zggfyhgwacefgfuuxzup_ind_6').style.opacity = 0;\"\n",
       "        ></div></div></div></div><div id='_tp_szfavpcfcpvrrnoqkiiw_output_0_zoom' style='display: none;'><svg width=\"100%\" height=\"80px\"><line x1=\"0\" y1=\"33\" x2=\"100%\" y2=\"33\" style=\"stroke:rgb(150,150,150);stroke-width:1\" /><line x1=\"50.88407970660962%\" y1=\"33\" x2=\"50.88407970660962%\" y2=\"37\" style=\"stroke:rgb(150,150,150);stroke-width:1\" /><text x=\"50.88407970660962%\" y=\"27\" font-size=\"12px\" fill=\"rgb(120,120,120)\" dominant-baseline=\"bottom\" text-anchor=\"middle\">0.18</text><line x1=\"37.430139299760725%\" y1=\"33\" x2=\"37.430139299760725%\" y2=\"37\" style=\"stroke:rgb(150,150,150);stroke-width:1\" /><text x=\"37.430139299760725%\" y=\"27\" font-size=\"12px\" fill=\"rgb(120,120,120)\" dominant-baseline=\"bottom\" text-anchor=\"middle\">0.14</text><line x1=\"23.97619889291183%\" y1=\"33\" x2=\"23.97619889291183%\" y2=\"37\" style=\"stroke:rgb(150,150,150);stroke-width:1\" /><text x=\"23.97619889291183%\" y=\"27\" font-size=\"12px\" fill=\"rgb(120,120,120)\" dominant-baseline=\"bottom\" text-anchor=\"middle\">0.1</text><line x1=\"10.522258486062938%\" y1=\"33\" x2=\"10.522258486062938%\" y2=\"37\" style=\"stroke:rgb(150,150,150);stroke-width:1\" /><text x=\"10.522258486062938%\" y=\"27\" font-size=\"12px\" fill=\"rgb(120,120,120)\" dominant-baseline=\"bottom\" text-anchor=\"middle\">0.06</text><line x1=\"64.33802011345851%\" y1=\"33\" x2=\"64.33802011345851%\" y2=\"37\" style=\"stroke:rgb(150,150,150);stroke-width:1\" /><text x=\"64.33802011345851%\" y=\"27\" font-size=\"12px\" fill=\"rgb(120,120,120)\" dominant-baseline=\"bottom\" text-anchor=\"middle\">0.22</text><line x1=\"77.79196052030741%\" y1=\"33\" x2=\"77.79196052030741%\" y2=\"37\" style=\"stroke:rgb(150,150,150);stroke-width:1\" /><text x=\"77.79196052030741%\" y=\"27\" font-size=\"12px\" fill=\"rgb(120,120,120)\" dominant-baseline=\"bottom\" text-anchor=\"middle\">0.26</text><line x1=\"91.24590092715631%\" y1=\"33\" x2=\"91.24590092715631%\" y2=\"37\" style=\"stroke:rgb(150,150,150);stroke-width:1\" /><text x=\"91.24590092715631%\" y=\"27\" font-size=\"12px\" fill=\"rgb(120,120,120)\" dominant-baseline=\"bottom\" text-anchor=\"middle\">0.3</text><line x1=\"54.70701252169149%\" y1=\"33\" x2=\"54.70701252169149%\" y2=\"37\" style=\"stroke:rgb(150,150,150);stroke-width:1\" /><text x=\"54.70701252169149%\" y=\"27\" font-size=\"13px\" style=\"stroke:#ffffff;stroke-width:8px;\" fill=\"rgb(255,255,255)\" dominant-baseline=\"bottom\" text-anchor=\"middle\">0.191366</text><text x=\"54.70701252169149%\" y=\"27\" font-size=\"12px\" fill=\"rgb(120,120,120)\" dominant-baseline=\"bottom\" text-anchor=\"middle\">0.191366</text><text x=\"54.70701252169149%\" y=\"10\" font-size=\"12px\" fill=\"rgb(120,120,120)\" dominant-baseline=\"bottom\" text-anchor=\"middle\">base value</text><line x1=\"45.2929841148234%\" y1=\"33\" x2=\"45.2929841148234%\" y2=\"37\" style=\"stroke:rgb(150,150,150);stroke-width:1\" /><text x=\"45.2929841148234%\" y=\"27\" font-size=\"13px\" style=\"stroke:#ffffff;stroke-width:8px;\" font-weight=\"bold\" fill=\"rgb(255,255,255)\" dominant-baseline=\"bottom\" text-anchor=\"middle\">0.163377</text><text x=\"45.2929841148234%\" y=\"27\" font-size=\"13px\" font-weight=\"bold\" fill=\"rgb(0,0,0)\" dominant-baseline=\"bottom\" text-anchor=\"middle\">0.163377</text><text x=\"45.2929841148234%\" y=\"10\" font-size=\"12px\" fill=\"rgb(120,120,120)\" dominant-baseline=\"bottom\" text-anchor=\"middle\">f<tspan baseline-shift=\"sub\" font-size=\"8px\">insect</tspan>(inputs)</text><rect x=\"8.333333053042907%\" width=\"36.95965106178049%\" y=\"40\" height=\"18\" style=\"fill:rgb(255.0, 0.0, 81.08083606031792); stroke-width:0; stroke:rgb(0,0,0)\" /><line x1=\"21.93091940214426%\" x2=\"45.2929841148234%\" y1=\"60\" y2=\"60\" id=\"_fb_gzdryoiavurfsnfhbnil_ind_0\" style=\"stroke:rgb(255.0, 0.0, 81.08083606031792);stroke-width:2; opacity: 0\"/><text x=\"33.611951758483826%\" y=\"71\" font-size=\"12px\" id=\"_fs_gzdryoiavurfsnfhbnil_ind_0\" fill=\"rgb(255.0, 0.0, 81.08083606031792)\" style=\"opacity: 0\" dominant-baseline=\"middle\" text-anchor=\"middle\">0.069</text><svg x=\"21.93091940214426%\" y=\"40\" height=\"20\" width=\"23.36206471267914%\">  <svg x=\"0\" y=\"0\" width=\"100%\" height=\"100%\">    <text x=\"50%\" y=\"9\" font-size=\"12px\" fill=\"rgb(255,255,255)\" dominant-baseline=\"middle\" text-anchor=\"middle\"></text>  </svg></svg><line x1=\"13.506434926856421%\" x2=\"21.93091940214426%\" y1=\"60\" y2=\"60\" id=\"_fb_gzdryoiavurfsnfhbnil_ind_2\" style=\"stroke:rgb(255.0, 0.0, 81.08083606031792);stroke-width:2; opacity: 0\"/><text x=\"17.718677164500342%\" y=\"71\" font-size=\"12px\" id=\"_fs_gzdryoiavurfsnfhbnil_ind_2\" fill=\"rgb(255.0, 0.0, 81.08083606031792)\" style=\"opacity: 0\" dominant-baseline=\"middle\" text-anchor=\"middle\">0.025</text><svg x=\"13.506434926856421%\" y=\"40\" height=\"20\" width=\"8.424484475287837%\">  <svg x=\"0\" y=\"0\" width=\"100%\" height=\"100%\">    <text x=\"50%\" y=\"9\" font-size=\"12px\" fill=\"rgb(255,255,255)\" dominant-baseline=\"middle\" text-anchor=\"middle\">love</text>  </svg></svg><line x1=\"8.333333053042907%\" x2=\"13.506434926856421%\" y1=\"60\" y2=\"60\" id=\"_fb_gzdryoiavurfsnfhbnil_ind_1\" style=\"stroke:rgb(255.0, 0.0, 81.08083606031792);stroke-width:2; opacity: 0\"/><text x=\"10.919883989949664%\" y=\"71\" font-size=\"12px\" id=\"_fs_gzdryoiavurfsnfhbnil_ind_1\" fill=\"rgb(255.0, 0.0, 81.08083606031792)\" style=\"opacity: 0\" dominant-baseline=\"middle\" text-anchor=\"middle\">0.015</text><svg x=\"8.333333053042907%\" y=\"40\" height=\"20\" width=\"5.173101873813515%\">  <svg x=\"0\" y=\"0\" width=\"100%\" height=\"100%\">    <text x=\"50%\" y=\"9\" font-size=\"12px\" fill=\"rgb(255,255,255)\" dominant-baseline=\"middle\" text-anchor=\"middle\">I</text>  </svg></svg><g transform=\"translate(0,0)\">  <svg x=\"21.93091940214426%\" y=\"40\" height=\"18\" overflow=\"visible\" width=\"30\">    <path d=\"M 0 -9 l 6 18 L 0 25\" fill=\"none\" style=\"stroke:rgb(255.0, 0.0, 81.08083606031792);stroke-width:2\" />  </svg></g><g transform=\"translate(2,0)\">  <svg x=\"21.93091940214426%\" y=\"40\" height=\"18\" overflow=\"visible\" width=\"30\">    <path d=\"M 0 -9 l 6 18 L 0 25\" fill=\"none\" style=\"stroke:rgb(255.0, 0.0, 81.08083606031792);stroke-width:2\" />  </svg></g><g transform=\"translate(4,0)\">  <svg x=\"21.93091940214426%\" y=\"40\" height=\"18\" overflow=\"visible\" width=\"30\">    <path d=\"M 0 -9 l 6 18 L 0 25\" fill=\"none\" style=\"stroke:rgb(255.0, 0.0, 81.08083606031792);stroke-width:2\" />  </svg></g><g transform=\"translate(6,0)\">  <svg x=\"21.93091940214426%\" y=\"40\" height=\"18\" overflow=\"visible\" width=\"30\">    <path d=\"M 0 -9 l 6 18 L 0 25\" fill=\"none\" style=\"stroke:rgb(255.0, 0.0, 81.08083606031792);stroke-width:2\" />  </svg></g><g transform=\"translate(-8,0)\">  <svg x=\"21.93091940214426%\" y=\"40\" height=\"18\" overflow=\"visible\" width=\"30\">    <path d=\"M 0 -9 l 6 18 L 0 25\" fill=\"none\" style=\"stroke:rgb(255.0, 0.0, 81.08083606031792);stroke-width:2\" />  </svg></g><g transform=\"translate(-6,0)\">  <svg x=\"21.93091940214426%\" y=\"40\" height=\"18\" overflow=\"visible\" width=\"30\">    <path d=\"M 0 -9 l 6 18 L 0 25\" fill=\"none\" style=\"stroke:rgb(255.0, 0.0, 81.08083606031792);stroke-width:2\" />  </svg></g><g transform=\"translate(-4,0)\">  <svg x=\"21.93091940214426%\" y=\"40\" height=\"18\" overflow=\"visible\" width=\"30\">    <path d=\"M 0 -9 l 6 18 L 0 25\" fill=\"none\" style=\"stroke:rgb(255.0, 0.0, 81.08083606031792);stroke-width:2\" />  </svg></g><g transform=\"translate(-2,0)\">  <svg x=\"21.93091940214426%\" y=\"40\" height=\"18\" overflow=\"visible\" width=\"30\">    <path d=\"M 0 -9 l 6 18 L 0 25\" fill=\"none\" style=\"stroke:rgb(255.0, 0.0, 81.08083606031792);stroke-width:2\" />  </svg></g><g transform=\"translate(0,0)\">  <svg x=\"13.506434926856421%\" y=\"40\" height=\"18\" overflow=\"visible\" width=\"30\">    <path d=\"M 0 -9 l 6 18 L 0 25\" fill=\"none\" style=\"stroke:rgb(255.0, 0.0, 81.08083606031792);stroke-width:2\" />  </svg></g><g transform=\"translate(2,0)\">  <svg x=\"13.506434926856421%\" y=\"40\" height=\"18\" overflow=\"visible\" width=\"30\">    <path d=\"M 0 -9 l 6 18 L 0 25\" fill=\"none\" style=\"stroke:rgb(255.0, 0.0, 81.08083606031792);stroke-width:2\" />  </svg></g><g transform=\"translate(4,0)\">  <svg x=\"13.506434926856421%\" y=\"40\" height=\"18\" overflow=\"visible\" width=\"30\">    <path d=\"M 0 -9 l 6 18 L 0 25\" fill=\"none\" style=\"stroke:rgb(255.0, 0.0, 81.08083606031792);stroke-width:2\" />  </svg></g><g transform=\"translate(6,0)\">  <svg x=\"13.506434926856421%\" y=\"40\" height=\"18\" overflow=\"visible\" width=\"30\">    <path d=\"M 0 -9 l 6 18 L 0 25\" fill=\"none\" style=\"stroke:rgb(255.0, 0.0, 81.08083606031792);stroke-width:2\" />  </svg></g><g transform=\"translate(-8,0)\">  <svg x=\"13.506434926856421%\" y=\"40\" height=\"18\" overflow=\"visible\" width=\"30\">    <path d=\"M 0 -9 l 6 18 L 0 25\" fill=\"none\" style=\"stroke:rgb(255.0, 0.0, 81.08083606031792);stroke-width:2\" />  </svg></g><g transform=\"translate(-6,0)\">  <svg x=\"13.506434926856421%\" y=\"40\" height=\"18\" overflow=\"visible\" width=\"30\">    <path d=\"M 0 -9 l 6 18 L 0 25\" fill=\"none\" style=\"stroke:rgb(255.0, 0.0, 81.08083606031792);stroke-width:2\" />  </svg></g><g transform=\"translate(-4,0)\">  <svg x=\"13.506434926856421%\" y=\"40\" height=\"18\" overflow=\"visible\" width=\"30\">    <path d=\"M 0 -9 l 6 18 L 0 25\" fill=\"none\" style=\"stroke:rgb(255.0, 0.0, 81.08083606031792);stroke-width:2\" />  </svg></g><g transform=\"translate(-2,0)\">  <svg x=\"13.506434926856421%\" y=\"40\" height=\"18\" overflow=\"visible\" width=\"30\">    <path d=\"M 0 -9 l 6 18 L 0 25\" fill=\"none\" style=\"stroke:rgb(255.0, 0.0, 81.08083606031792);stroke-width:2\" />  </svg></g><rect transform=\"translate(-8,0)\" x=\"45.2929841148234%\" y=\"40\" width=\"8\" height=\"18\" style=\"fill:rgb(255.0, 0.0, 81.08083606031792)\"/><g transform=\"translate(-11.5,0)\">  <svg x=\"8.333333053042907%\" y=\"40\" height=\"18\" overflow=\"visible\" width=\"30\">    <path d=\"M 10 -9 l 6 18 L 10 25 L 0 25 L 0 -9\" fill=\"#ffffff\" style=\"stroke:rgb(255,255,255);stroke-width:2\" />  </svg></g><g transform=\"translate(-1.5,0)\">  <svg x=\"45.2929841148234%\" y=\"40\" height=\"18\" overflow=\"visible\" width=\"30\">    <path d=\"M 0 -9 l 6 18 L 0 25\" fill=\"none\" style=\"stroke:rgb(255, 195, 213);stroke-width:2\" />  </svg></g><rect x=\"21.93091940214426%\" y=\"40\" height=\"20\" width=\"23.36206471267914%\"      onmouseover=\"document.getElementById('_tp_gzdryoiavurfsnfhbnil_ind_0').style.textDecoration = 'underline';document.getElementById('_fs_gzdryoiavurfsnfhbnil_ind_0').style.opacity = 1;document.getElementById('_fb_gzdryoiavurfsnfhbnil_ind_0').style.opacity = 1;\"      onmouseout=\"document.getElementById('_tp_gzdryoiavurfsnfhbnil_ind_0').style.textDecoration = 'none';document.getElementById('_fs_gzdryoiavurfsnfhbnil_ind_0').style.opacity = 0;document.getElementById('_fb_gzdryoiavurfsnfhbnil_ind_0').style.opacity = 0;\" style=\"fill:rgb(0,0,0,0)\" /><g transform=\"translate(-1.5,0)\">  <svg x=\"21.93091940214426%\" y=\"40\" height=\"18\" overflow=\"visible\" width=\"30\">    <path d=\"M 0 -9 l 6 18 L 0 25\" fill=\"none\" style=\"stroke:rgb(255, 195, 213);stroke-width:2\" />  </svg></g><rect x=\"13.506434926856421%\" y=\"40\" height=\"20\" width=\"8.424484475287837%\"      onmouseover=\"document.getElementById('_tp_gzdryoiavurfsnfhbnil_ind_2').style.textDecoration = 'underline';document.getElementById('_fs_gzdryoiavurfsnfhbnil_ind_2').style.opacity = 1;document.getElementById('_fb_gzdryoiavurfsnfhbnil_ind_2').style.opacity = 1;\"      onmouseout=\"document.getElementById('_tp_gzdryoiavurfsnfhbnil_ind_2').style.textDecoration = 'none';document.getElementById('_fs_gzdryoiavurfsnfhbnil_ind_2').style.opacity = 0;document.getElementById('_fb_gzdryoiavurfsnfhbnil_ind_2').style.opacity = 0;\" style=\"fill:rgb(0,0,0,0)\" /><rect x=\"8.333333053042907%\" y=\"40\" height=\"20\" width=\"5.173101873813515%\"      onmouseover=\"document.getElementById('_tp_gzdryoiavurfsnfhbnil_ind_1').style.textDecoration = 'underline';document.getElementById('_fs_gzdryoiavurfsnfhbnil_ind_1').style.opacity = 1;document.getElementById('_fb_gzdryoiavurfsnfhbnil_ind_1').style.opacity = 1;\"      onmouseout=\"document.getElementById('_tp_gzdryoiavurfsnfhbnil_ind_1').style.textDecoration = 'none';document.getElementById('_fs_gzdryoiavurfsnfhbnil_ind_1').style.opacity = 0;document.getElementById('_fb_gzdryoiavurfsnfhbnil_ind_1').style.opacity = 0;\" style=\"fill:rgb(0,0,0,0)\" /><rect x=\"45.2929841148234%\" width=\"46.37367946864858%\" y=\"40\" height=\"18\" style=\"fill:rgb(0.0, 138.56128015770727, 250.76166088685727); stroke-width:0; stroke:rgb(0,0,0)\" /><line x1=\"45.2929841148234%\" x2=\"77.47581643777434%\" y1=\"60\" y2=\"60\" id=\"_fb_gzdryoiavurfsnfhbnil_ind_6\" style=\"stroke:rgb(0.0, 138.56128015770727, 250.76166088685727);stroke-width:2; opacity: 0\"/><text x=\"61.38440027629887%\" y=\"71\" font-size=\"12px\" fill=\"rgb(0.0, 138.56128015770727, 250.76166088685727)\" id=\"_fs_gzdryoiavurfsnfhbnil_ind_6\" style=\"opacity: 0\" dominant-baseline=\"middle\" text-anchor=\"middle\">-0.096</text><svg x=\"45.2929841148234%\" y=\"40\" height=\"20\" width=\"32.182832322950944%\">  <svg x=\"0\" y=\"0\" width=\"100%\" height=\"100%\">    <text x=\"50%\" y=\"9\" font-size=\"12px\" fill=\"rgb(255,255,255)\" dominant-baseline=\"middle\" text-anchor=\"middle\"></text>  </svg></svg><line x1=\"77.47581643777434%\" x2=\"85.96759716614098%\" y1=\"60\" y2=\"60\" id=\"_fb_gzdryoiavurfsnfhbnil_ind_3\" style=\"stroke:rgb(0.0, 138.56128015770727, 250.76166088685727);stroke-width:2; opacity: 0\"/><text x=\"81.72170680195765%\" y=\"71\" font-size=\"12px\" fill=\"rgb(0.0, 138.56128015770727, 250.76166088685727)\" id=\"_fs_gzdryoiavurfsnfhbnil_ind_3\" style=\"opacity: 0\" dominant-baseline=\"middle\" text-anchor=\"middle\">-0.025</text><svg x=\"77.47581643777434%\" y=\"40\" height=\"20\" width=\"8.491780728366635%\">  <svg x=\"0\" y=\"0\" width=\"100%\" height=\"100%\">    <text x=\"50%\" y=\"9\" font-size=\"12px\" fill=\"rgb(255,255,255)\" dominant-baseline=\"middle\" text-anchor=\"middle\">playing</text>  </svg></svg><line x1=\"85.96759716614098%\" x2=\"90.46864391309288%\" y1=\"60\" y2=\"60\" id=\"_fb_gzdryoiavurfsnfhbnil_ind_5\" style=\"stroke:rgb(0.0, 138.56128015770727, 250.76166088685727);stroke-width:2; opacity: 0\"/><text x=\"88.21812053961693%\" y=\"71\" font-size=\"12px\" fill=\"rgb(0.0, 138.56128015770727, 250.76166088685727)\" id=\"_fs_gzdryoiavurfsnfhbnil_ind_5\" style=\"opacity: 0\" dominant-baseline=\"middle\" text-anchor=\"middle\">-0.013</text><svg x=\"85.96759716614098%\" y=\"40\" height=\"20\" width=\"4.5010467469519%\">  <svg x=\"0\" y=\"0\" width=\"100%\" height=\"100%\">    <text x=\"50%\" y=\"9\" font-size=\"12px\" fill=\"rgb(255,255,255)\" dominant-baseline=\"middle\" text-anchor=\"middle\">!</text>  </svg></svg><line x1=\"90.46864391309288%\" x2=\"91.66666358347199%\" y1=\"60\" y2=\"60\" id=\"_fb_gzdryoiavurfsnfhbnil_ind_4\" style=\"stroke:rgb(0.0, 138.56128015770727, 250.76166088685727);stroke-width:2; opacity: 0\"/><text x=\"91.06765374828242%\" y=\"71\" font-size=\"12px\" fill=\"rgb(0.0, 138.56128015770727, 250.76166088685727)\" id=\"_fs_gzdryoiavurfsnfhbnil_ind_4\" style=\"opacity: 0\" dominant-baseline=\"middle\" text-anchor=\"middle\">-0.004</text><svg x=\"90.46864391309288%\" y=\"40\" height=\"20\" width=\"1.1980196703791108%\">  <svg x=\"0\" y=\"0\" width=\"100%\" height=\"100%\">    <text x=\"50%\" y=\"9\" font-size=\"12px\" fill=\"rgb(255,255,255)\" dominant-baseline=\"middle\" text-anchor=\"middle\">cricket</text>  </svg></svg><g transform=\"translate(-8,0)\">  <svg x=\"77.47581643777434%\" y=\"40\" height=\"18\" overflow=\"visible\" width=\"30\">    <path d=\"M 8 -9 l -6 18 L 8 25\" fill=\"none\" style=\"stroke:rgb(0.0, 138.56128015770727, 250.76166088685727);stroke-width:2\" />  </svg></g><g transform=\"translate(-10,0)\">  <svg x=\"77.47581643777434%\" y=\"40\" height=\"18\" overflow=\"visible\" width=\"30\">    <path d=\"M 8 -9 l -6 18 L 8 25\" fill=\"none\" style=\"stroke:rgb(0.0, 138.56128015770727, 250.76166088685727);stroke-width:2\" />  </svg></g><g transform=\"translate(-12,0)\">  <svg x=\"77.47581643777434%\" y=\"40\" height=\"18\" overflow=\"visible\" width=\"30\">    <path d=\"M 8 -9 l -6 18 L 8 25\" fill=\"none\" style=\"stroke:rgb(0.0, 138.56128015770727, 250.76166088685727);stroke-width:2\" />  </svg></g><g transform=\"translate(-14,0)\">  <svg x=\"77.47581643777434%\" y=\"40\" height=\"18\" overflow=\"visible\" width=\"30\">    <path d=\"M 8 -9 l -6 18 L 8 25\" fill=\"none\" style=\"stroke:rgb(0.0, 138.56128015770727, 250.76166088685727);stroke-width:2\" />  </svg></g><g transform=\"translate(2,0)\">  <svg x=\"77.47581643777434%\" y=\"40\" height=\"18\" overflow=\"visible\" width=\"30\">    <path d=\"M 8 -9 l -6 18 L 8 25\" fill=\"none\" style=\"stroke:rgb(0.0, 138.56128015770727, 250.76166088685727);stroke-width:2\" />  </svg></g><g transform=\"translate(0,0)\">  <svg x=\"77.47581643777434%\" y=\"40\" height=\"18\" overflow=\"visible\" width=\"30\">    <path d=\"M 8 -9 l -6 18 L 8 25\" fill=\"none\" style=\"stroke:rgb(0.0, 138.56128015770727, 250.76166088685727);stroke-width:2\" />  </svg></g><g transform=\"translate(-2,0)\">  <svg x=\"77.47581643777434%\" y=\"40\" height=\"18\" overflow=\"visible\" width=\"30\">    <path d=\"M 8 -9 l -6 18 L 8 25\" fill=\"none\" style=\"stroke:rgb(0.0, 138.56128015770727, 250.76166088685727);stroke-width:2\" />  </svg></g><g transform=\"translate(-4,0)\">  <svg x=\"77.47581643777434%\" y=\"40\" height=\"18\" overflow=\"visible\" width=\"30\">    <path d=\"M 8 -9 l -6 18 L 8 25\" fill=\"none\" style=\"stroke:rgb(0.0, 138.56128015770727, 250.76166088685727);stroke-width:2\" />  </svg></g><g transform=\"translate(-8,0)\">  <svg x=\"85.96759716614098%\" y=\"40\" height=\"18\" overflow=\"visible\" width=\"30\">    <path d=\"M 8 -9 l -6 18 L 8 25\" fill=\"none\" style=\"stroke:rgb(0.0, 138.56128015770727, 250.76166088685727);stroke-width:2\" />  </svg></g><g transform=\"translate(-10,0)\">  <svg x=\"85.96759716614098%\" y=\"40\" height=\"18\" overflow=\"visible\" width=\"30\">    <path d=\"M 8 -9 l -6 18 L 8 25\" fill=\"none\" style=\"stroke:rgb(0.0, 138.56128015770727, 250.76166088685727);stroke-width:2\" />  </svg></g><g transform=\"translate(-12,0)\">  <svg x=\"85.96759716614098%\" y=\"40\" height=\"18\" overflow=\"visible\" width=\"30\">    <path d=\"M 8 -9 l -6 18 L 8 25\" fill=\"none\" style=\"stroke:rgb(0.0, 138.56128015770727, 250.76166088685727);stroke-width:2\" />  </svg></g><g transform=\"translate(-14,0)\">  <svg x=\"85.96759716614098%\" y=\"40\" height=\"18\" overflow=\"visible\" width=\"30\">    <path d=\"M 8 -9 l -6 18 L 8 25\" fill=\"none\" style=\"stroke:rgb(0.0, 138.56128015770727, 250.76166088685727);stroke-width:2\" />  </svg></g><g transform=\"translate(2,0)\">  <svg x=\"85.96759716614098%\" y=\"40\" height=\"18\" overflow=\"visible\" width=\"30\">    <path d=\"M 8 -9 l -6 18 L 8 25\" fill=\"none\" style=\"stroke:rgb(0.0, 138.56128015770727, 250.76166088685727);stroke-width:2\" />  </svg></g><g transform=\"translate(0,0)\">  <svg x=\"85.96759716614098%\" y=\"40\" height=\"18\" overflow=\"visible\" width=\"30\">    <path d=\"M 8 -9 l -6 18 L 8 25\" fill=\"none\" style=\"stroke:rgb(0.0, 138.56128015770727, 250.76166088685727);stroke-width:2\" />  </svg></g><g transform=\"translate(-2,0)\">  <svg x=\"85.96759716614098%\" y=\"40\" height=\"18\" overflow=\"visible\" width=\"30\">    <path d=\"M 8 -9 l -6 18 L 8 25\" fill=\"none\" style=\"stroke:rgb(0.0, 138.56128015770727, 250.76166088685727);stroke-width:2\" />  </svg></g><g transform=\"translate(-4,0)\">  <svg x=\"85.96759716614098%\" y=\"40\" height=\"18\" overflow=\"visible\" width=\"30\">    <path d=\"M 8 -9 l -6 18 L 8 25\" fill=\"none\" style=\"stroke:rgb(0.0, 138.56128015770727, 250.76166088685727);stroke-width:2\" />  </svg></g><g transform=\"translate(-8,0)\">  <svg x=\"90.46864391309288%\" y=\"40\" height=\"18\" overflow=\"visible\" width=\"30\">    <path d=\"M 8 -9 l -6 18 L 8 25\" fill=\"none\" style=\"stroke:rgb(0.0, 138.56128015770727, 250.76166088685727);stroke-width:2\" />  </svg></g><g transform=\"translate(-10,0)\">  <svg x=\"90.46864391309288%\" y=\"40\" height=\"18\" overflow=\"visible\" width=\"30\">    <path d=\"M 8 -9 l -6 18 L 8 25\" fill=\"none\" style=\"stroke:rgb(0.0, 138.56128015770727, 250.76166088685727);stroke-width:2\" />  </svg></g><g transform=\"translate(-12,0)\">  <svg x=\"90.46864391309288%\" y=\"40\" height=\"18\" overflow=\"visible\" width=\"30\">    <path d=\"M 8 -9 l -6 18 L 8 25\" fill=\"none\" style=\"stroke:rgb(0.0, 138.56128015770727, 250.76166088685727);stroke-width:2\" />  </svg></g><g transform=\"translate(-14,0)\">  <svg x=\"90.46864391309288%\" y=\"40\" height=\"18\" overflow=\"visible\" width=\"30\">    <path d=\"M 8 -9 l -6 18 L 8 25\" fill=\"none\" style=\"stroke:rgb(0.0, 138.56128015770727, 250.76166088685727);stroke-width:2\" />  </svg></g><g transform=\"translate(2,0)\">  <svg x=\"90.46864391309288%\" y=\"40\" height=\"18\" overflow=\"visible\" width=\"30\">    <path d=\"M 8 -9 l -6 18 L 8 25\" fill=\"none\" style=\"stroke:rgb(0.0, 138.56128015770727, 250.76166088685727);stroke-width:2\" />  </svg></g><g transform=\"translate(0,0)\">  <svg x=\"90.46864391309288%\" y=\"40\" height=\"18\" overflow=\"visible\" width=\"30\">    <path d=\"M 8 -9 l -6 18 L 8 25\" fill=\"none\" style=\"stroke:rgb(0.0, 138.56128015770727, 250.76166088685727);stroke-width:2\" />  </svg></g><g transform=\"translate(-2,0)\">  <svg x=\"90.46864391309288%\" y=\"40\" height=\"18\" overflow=\"visible\" width=\"30\">    <path d=\"M 8 -9 l -6 18 L 8 25\" fill=\"none\" style=\"stroke:rgb(0.0, 138.56128015770727, 250.76166088685727);stroke-width:2\" />  </svg></g><g transform=\"translate(-4,0)\">  <svg x=\"90.46864391309288%\" y=\"40\" height=\"18\" overflow=\"visible\" width=\"30\">    <path d=\"M 8 -9 l -6 18 L 8 25\" fill=\"none\" style=\"stroke:rgb(0.0, 138.56128015770727, 250.76166088685727);stroke-width:2\" />  </svg></g><rect transform=\"translate(0,0)\" x=\"45.2929841148234%\" y=\"40\" width=\"8\" height=\"18\" style=\"fill:rgb(0.0, 138.56128015770727, 250.76166088685727)\"/><g transform=\"translate(-6.0,0)\">  <svg x=\"91.66666358347199%\" y=\"40\" height=\"18\" overflow=\"visible\" width=\"30\">    <path d=\"M 8 -9 l -6 18 L 8 25 L 20 25 L 20 -9\" fill=\"#ffffff\" style=\"stroke:rgb(255,255,255);stroke-width:2\" />  </svg></g><g transform=\"translate(-6.0,0)\">  <svg x=\"77.47581643777434%\" y=\"40\" height=\"18\" overflow=\"visible\" width=\"30\">    <path d=\"M 8 -9 l -6 18 L 8 25\" fill=\"none\" style=\"stroke:rgb(208, 230, 250);stroke-width:2\" />  </svg></g><rect x=\"45.2929841148234%\" y=\"40\" height=\"20\" width=\"32.182832322950944%\"      onmouseover=\"document.getElementById('_tp_gzdryoiavurfsnfhbnil_ind_6').style.textDecoration = 'underline';document.getElementById('_fs_gzdryoiavurfsnfhbnil_ind_6').style.opacity = 1;document.getElementById('_fb_gzdryoiavurfsnfhbnil_ind_6').style.opacity = 1;\"      onmouseout=\"document.getElementById('_tp_gzdryoiavurfsnfhbnil_ind_6').style.textDecoration = 'none';document.getElementById('_fs_gzdryoiavurfsnfhbnil_ind_6').style.opacity = 0;document.getElementById('_fb_gzdryoiavurfsnfhbnil_ind_6').style.opacity = 0;\" style=\"fill:rgb(0,0,0,0)\" /><g transform=\"translate(-6.0,0)\">  <svg x=\"85.96759716614098%\" y=\"40\" height=\"18\" overflow=\"visible\" width=\"30\">    <path d=\"M 8 -9 l -6 18 L 8 25\" fill=\"none\" style=\"stroke:rgb(208, 230, 250);stroke-width:2\" />  </svg></g><rect x=\"77.47581643777434%\" y=\"40\" height=\"20\" width=\"8.491780728366635%\"      onmouseover=\"document.getElementById('_tp_gzdryoiavurfsnfhbnil_ind_3').style.textDecoration = 'underline';document.getElementById('_fs_gzdryoiavurfsnfhbnil_ind_3').style.opacity = 1;document.getElementById('_fb_gzdryoiavurfsnfhbnil_ind_3').style.opacity = 1;\"      onmouseout=\"document.getElementById('_tp_gzdryoiavurfsnfhbnil_ind_3').style.textDecoration = 'none';document.getElementById('_fs_gzdryoiavurfsnfhbnil_ind_3').style.opacity = 0;document.getElementById('_fb_gzdryoiavurfsnfhbnil_ind_3').style.opacity = 0;\" style=\"fill:rgb(0,0,0,0)\" /><g transform=\"translate(-6.0,0)\">  <svg x=\"90.46864391309288%\" y=\"40\" height=\"18\" overflow=\"visible\" width=\"30\">    <path d=\"M 8 -9 l -6 18 L 8 25\" fill=\"none\" style=\"stroke:rgb(208, 230, 250);stroke-width:2\" />  </svg></g><rect x=\"85.96759716614098%\" y=\"40\" height=\"20\" width=\"4.5010467469519%\"      onmouseover=\"document.getElementById('_tp_gzdryoiavurfsnfhbnil_ind_5').style.textDecoration = 'underline';document.getElementById('_fs_gzdryoiavurfsnfhbnil_ind_5').style.opacity = 1;document.getElementById('_fb_gzdryoiavurfsnfhbnil_ind_5').style.opacity = 1;\"      onmouseout=\"document.getElementById('_tp_gzdryoiavurfsnfhbnil_ind_5').style.textDecoration = 'none';document.getElementById('_fs_gzdryoiavurfsnfhbnil_ind_5').style.opacity = 0;document.getElementById('_fb_gzdryoiavurfsnfhbnil_ind_5').style.opacity = 0;\" style=\"fill:rgb(0,0,0,0)\" /><rect x=\"90.46864391309288%\" y=\"40\" height=\"20\" width=\"1.1980196703791108%\"      onmouseover=\"document.getElementById('_tp_gzdryoiavurfsnfhbnil_ind_4').style.textDecoration = 'underline';document.getElementById('_fs_gzdryoiavurfsnfhbnil_ind_4').style.opacity = 1;document.getElementById('_fb_gzdryoiavurfsnfhbnil_ind_4').style.opacity = 1;\"      onmouseout=\"document.getElementById('_tp_gzdryoiavurfsnfhbnil_ind_4').style.textDecoration = 'none';document.getElementById('_fs_gzdryoiavurfsnfhbnil_ind_4').style.opacity = 0;document.getElementById('_fb_gzdryoiavurfsnfhbnil_ind_4').style.opacity = 0;\" style=\"fill:rgb(0,0,0,0)\" /></svg><div align='center'><div style=\"color: rgb(120,120,120); font-size: 12px; margin-top: -15px;\">inputs</div><div style='display: inline; text-align: center;'\n",
       "    ><div style='display: none; color: #999; padding-top: 0px; font-size: 12px;'>0.069</div\n",
       "        ><div id='_tp_gzdryoiavurfsnfhbnil_ind_0'\n",
       "            style='display: inline; background: rgba(255.0, 13.0, 87.0, 0.7241037829273124); border-radius: 3px; padding: 0px'\n",
       "            onclick=\"\n",
       "            if (this.previousSibling.style.display == 'none') {\n",
       "                this.previousSibling.style.display = 'block';\n",
       "                this.parentNode.style.display = 'inline-block';\n",
       "            } else {\n",
       "                this.previousSibling.style.display = 'none';\n",
       "                this.parentNode.style.display = 'inline';\n",
       "            }\"\n",
       "            onmouseover=\"document.getElementById('_fb_gzdryoiavurfsnfhbnil_ind_0').style.opacity = 1; document.getElementById('_fs_gzdryoiavurfsnfhbnil_ind_0').style.opacity = 1;\"\n",
       "            onmouseout=\"document.getElementById('_fb_gzdryoiavurfsnfhbnil_ind_0').style.opacity = 0; document.getElementById('_fs_gzdryoiavurfsnfhbnil_ind_0').style.opacity = 0;\"\n",
       "        ></div></div><div style='display: inline; text-align: center;'\n",
       "    ><div style='display: none; color: #999; padding-top: 0px; font-size: 12px;'>0.015</div\n",
       "        ><div id='_tp_gzdryoiavurfsnfhbnil_ind_1'\n",
       "            style='display: inline; background: rgba(255.0, 13.0, 87.0, 0.15654585066349747); border-radius: 3px; padding: 0px'\n",
       "            onclick=\"\n",
       "            if (this.previousSibling.style.display == 'none') {\n",
       "                this.previousSibling.style.display = 'block';\n",
       "                this.parentNode.style.display = 'inline-block';\n",
       "            } else {\n",
       "                this.previousSibling.style.display = 'none';\n",
       "                this.parentNode.style.display = 'inline';\n",
       "            }\"\n",
       "            onmouseover=\"document.getElementById('_fb_gzdryoiavurfsnfhbnil_ind_1').style.opacity = 1; document.getElementById('_fs_gzdryoiavurfsnfhbnil_ind_1').style.opacity = 1;\"\n",
       "            onmouseout=\"document.getElementById('_fb_gzdryoiavurfsnfhbnil_ind_1').style.opacity = 0; document.getElementById('_fs_gzdryoiavurfsnfhbnil_ind_1').style.opacity = 0;\"\n",
       "        >I </div></div><div style='display: inline; text-align: center;'\n",
       "    ><div style='display: none; color: #999; padding-top: 0px; font-size: 12px;'>0.025</div\n",
       "        ><div id='_tp_gzdryoiavurfsnfhbnil_ind_2'\n",
       "            style='display: inline; background: rgba(255.0, 13.0, 87.0, 0.2590215884333532); border-radius: 3px; padding: 0px'\n",
       "            onclick=\"\n",
       "            if (this.previousSibling.style.display == 'none') {\n",
       "                this.previousSibling.style.display = 'block';\n",
       "                this.parentNode.style.display = 'inline-block';\n",
       "            } else {\n",
       "                this.previousSibling.style.display = 'none';\n",
       "                this.parentNode.style.display = 'inline';\n",
       "            }\"\n",
       "            onmouseover=\"document.getElementById('_fb_gzdryoiavurfsnfhbnil_ind_2').style.opacity = 1; document.getElementById('_fs_gzdryoiavurfsnfhbnil_ind_2').style.opacity = 1;\"\n",
       "            onmouseout=\"document.getElementById('_fb_gzdryoiavurfsnfhbnil_ind_2').style.opacity = 0; document.getElementById('_fs_gzdryoiavurfsnfhbnil_ind_2').style.opacity = 0;\"\n",
       "        >love </div></div><div style='display: inline; text-align: center;'\n",
       "    ><div style='display: none; color: #999; padding-top: 0px; font-size: 12px;'>-0.025</div\n",
       "        ><div id='_tp_gzdryoiavurfsnfhbnil_ind_3'\n",
       "            style='display: inline; background: rgba(30.0, 136.0, 229.0, 0.25902158843335304); border-radius: 3px; padding: 0px'\n",
       "            onclick=\"\n",
       "            if (this.previousSibling.style.display == 'none') {\n",
       "                this.previousSibling.style.display = 'block';\n",
       "                this.parentNode.style.display = 'inline-block';\n",
       "            } else {\n",
       "                this.previousSibling.style.display = 'none';\n",
       "                this.parentNode.style.display = 'inline';\n",
       "            }\"\n",
       "            onmouseover=\"document.getElementById('_fb_gzdryoiavurfsnfhbnil_ind_3').style.opacity = 1; document.getElementById('_fs_gzdryoiavurfsnfhbnil_ind_3').style.opacity = 1;\"\n",
       "            onmouseout=\"document.getElementById('_fb_gzdryoiavurfsnfhbnil_ind_3').style.opacity = 0; document.getElementById('_fs_gzdryoiavurfsnfhbnil_ind_3').style.opacity = 0;\"\n",
       "        >playing </div></div><div style='display: inline; text-align: center;'\n",
       "    ><div style='display: none; color: #999; padding-top: 0px; font-size: 12px;'>-0.004</div\n",
       "        ><div id='_tp_gzdryoiavurfsnfhbnil_ind_4'\n",
       "            style='display: inline; background: rgba(30.0, 136.0, 229.0, 0.03042186571598325); border-radius: 3px; padding: 0px'\n",
       "            onclick=\"\n",
       "            if (this.previousSibling.style.display == 'none') {\n",
       "                this.previousSibling.style.display = 'block';\n",
       "                this.parentNode.style.display = 'inline-block';\n",
       "            } else {\n",
       "                this.previousSibling.style.display = 'none';\n",
       "                this.parentNode.style.display = 'inline';\n",
       "            }\"\n",
       "            onmouseover=\"document.getElementById('_fb_gzdryoiavurfsnfhbnil_ind_4').style.opacity = 1; document.getElementById('_fs_gzdryoiavurfsnfhbnil_ind_4').style.opacity = 1;\"\n",
       "            onmouseout=\"document.getElementById('_fb_gzdryoiavurfsnfhbnil_ind_4').style.opacity = 0; document.getElementById('_fs_gzdryoiavurfsnfhbnil_ind_4').style.opacity = 0;\"\n",
       "        >cricket</div></div><div style='display: inline; text-align: center;'\n",
       "    ><div style='display: none; color: #999; padding-top: 0px; font-size: 12px;'>-0.013</div\n",
       "        ><div id='_tp_gzdryoiavurfsnfhbnil_ind_5'\n",
       "            style='display: inline; background: rgba(30.0, 136.0, 229.0, 0.1328976034858387); border-radius: 3px; padding: 0px'\n",
       "            onclick=\"\n",
       "            if (this.previousSibling.style.display == 'none') {\n",
       "                this.previousSibling.style.display = 'block';\n",
       "                this.parentNode.style.display = 'inline-block';\n",
       "            } else {\n",
       "                this.previousSibling.style.display = 'none';\n",
       "                this.parentNode.style.display = 'inline';\n",
       "            }\"\n",
       "            onmouseover=\"document.getElementById('_fb_gzdryoiavurfsnfhbnil_ind_5').style.opacity = 1; document.getElementById('_fs_gzdryoiavurfsnfhbnil_ind_5').style.opacity = 1;\"\n",
       "            onmouseout=\"document.getElementById('_fb_gzdryoiavurfsnfhbnil_ind_5').style.opacity = 0; document.getElementById('_fs_gzdryoiavurfsnfhbnil_ind_5').style.opacity = 0;\"\n",
       "        >!</div></div><div style='display: inline; text-align: center;'\n",
       "    ><div style='display: none; color: #999; padding-top: 0px; font-size: 12px;'>-0.096</div\n",
       "        ><div id='_tp_gzdryoiavurfsnfhbnil_ind_6'\n",
       "            style='display: inline; background: rgba(30.0, 136.0, 229.0, 1.0); border-radius: 3px; padding: 0px'\n",
       "            onclick=\"\n",
       "            if (this.previousSibling.style.display == 'none') {\n",
       "                this.previousSibling.style.display = 'block';\n",
       "                this.parentNode.style.display = 'inline-block';\n",
       "            } else {\n",
       "                this.previousSibling.style.display = 'none';\n",
       "                this.parentNode.style.display = 'inline';\n",
       "            }\"\n",
       "            onmouseover=\"document.getElementById('_fb_gzdryoiavurfsnfhbnil_ind_6').style.opacity = 1; document.getElementById('_fs_gzdryoiavurfsnfhbnil_ind_6').style.opacity = 1;\"\n",
       "            onmouseout=\"document.getElementById('_fb_gzdryoiavurfsnfhbnil_ind_6').style.opacity = 0; document.getElementById('_fs_gzdryoiavurfsnfhbnil_ind_6').style.opacity = 0;\"\n",
       "        ></div></div></div></div><div id='_tp_szfavpcfcpvrrnoqkiiw_output_1' style='display: none';><svg width=\"100%\" height=\"80px\"><line x1=\"0\" y1=\"33\" x2=\"100%\" y2=\"33\" style=\"stroke:rgb(150,150,150);stroke-width:1\" /><line x1=\"51.009200835312164%\" y1=\"33\" x2=\"51.009200835312164%\" y2=\"37\" style=\"stroke:rgb(150,150,150);stroke-width:1\" /><text x=\"51.009200835312164%\" y=\"27\" font-size=\"12px\" fill=\"rgb(120,120,120)\" dominant-baseline=\"bottom\" text-anchor=\"middle\">0.4</text><line x1=\"34.13779156135272%\" y1=\"33\" x2=\"34.13779156135272%\" y2=\"37\" style=\"stroke:rgb(150,150,150);stroke-width:1\" /><text x=\"34.13779156135272%\" y=\"27\" font-size=\"12px\" fill=\"rgb(120,120,120)\" dominant-baseline=\"bottom\" text-anchor=\"middle\">0.2</text><line x1=\"17.266382287393277%\" y1=\"33\" x2=\"17.266382287393277%\" y2=\"37\" style=\"stroke:rgb(150,150,150);stroke-width:1\" /><text x=\"17.266382287393277%\" y=\"27\" font-size=\"12px\" fill=\"rgb(120,120,120)\" dominant-baseline=\"bottom\" text-anchor=\"middle\">0</text><line x1=\"67.88061010927161%\" y1=\"33\" x2=\"67.88061010927161%\" y2=\"37\" style=\"stroke:rgb(150,150,150);stroke-width:1\" /><text x=\"67.88061010927161%\" y=\"27\" font-size=\"12px\" fill=\"rgb(120,120,120)\" dominant-baseline=\"bottom\" text-anchor=\"middle\">0.6</text><line x1=\"84.75201938323106%\" y1=\"33\" x2=\"84.75201938323106%\" y2=\"37\" style=\"stroke:rgb(150,150,150);stroke-width:1\" /><text x=\"84.75201938323106%\" y=\"27\" font-size=\"12px\" fill=\"rgb(120,120,120)\" dominant-baseline=\"bottom\" text-anchor=\"middle\">0.8</text><line x1=\"27.93817427603232%\" y1=\"33\" x2=\"27.93817427603232%\" y2=\"37\" style=\"stroke:rgb(150,150,150);stroke-width:1\" /><text x=\"27.93817427603232%\" y=\"27\" font-size=\"13px\" style=\"stroke:#ffffff;stroke-width:8px;\" fill=\"rgb(255,255,255)\" dominant-baseline=\"bottom\" text-anchor=\"middle\">0.126507</text><text x=\"27.93817427603232%\" y=\"27\" font-size=\"12px\" fill=\"rgb(120,120,120)\" dominant-baseline=\"bottom\" text-anchor=\"middle\">0.126507</text><text x=\"27.93817427603232%\" y=\"10\" font-size=\"12px\" fill=\"rgb(120,120,120)\" dominant-baseline=\"bottom\" text-anchor=\"middle\">base value</text><line x1=\"87.62794671895395%\" y1=\"33\" x2=\"87.62794671895395%\" y2=\"37\" style=\"stroke:rgb(150,150,150);stroke-width:1\" /><text x=\"87.62794671895395%\" y=\"27\" font-size=\"13px\" style=\"stroke:#ffffff;stroke-width:8px;\" font-weight=\"bold\" fill=\"rgb(255,255,255)\" dominant-baseline=\"bottom\" text-anchor=\"middle\">0.834092</text><text x=\"87.62794671895395%\" y=\"27\" font-size=\"13px\" font-weight=\"bold\" fill=\"rgb(0,0,0)\" dominant-baseline=\"bottom\" text-anchor=\"middle\">0.834092</text><text x=\"87.62794671895395%\" y=\"10\" font-size=\"12px\" fill=\"rgb(120,120,120)\" dominant-baseline=\"bottom\" text-anchor=\"middle\">f<tspan baseline-shift=\"sub\" font-size=\"8px\">sports</tspan>(inputs)</text><rect x=\"22.6022782817128%\" width=\"65.02566843724115%\" y=\"40\" height=\"18\" style=\"fill:rgb(255.0, 0.0, 81.08083606031792); stroke-width:0; stroke:rgb(0,0,0)\" /><line x1=\"66.02660508392849%\" x2=\"87.62794671895395%\" y1=\"60\" y2=\"60\" id=\"_fb_hrfcneupiocyloyluekp_ind_0\" style=\"stroke:rgb(255.0, 0.0, 81.08083606031792);stroke-width:2; opacity: 0\"/><text x=\"76.82727590144123%\" y=\"71\" font-size=\"12px\" id=\"_fs_hrfcneupiocyloyluekp_ind_0\" fill=\"rgb(255.0, 0.0, 81.08083606031792)\" style=\"opacity: 0\" dominant-baseline=\"middle\" text-anchor=\"middle\">0.256</text><svg x=\"66.02660508392849%\" y=\"40\" height=\"20\" width=\"21.601341635025463%\">  <svg x=\"0\" y=\"0\" width=\"100%\" height=\"100%\">    <text x=\"50%\" y=\"9\" font-size=\"12px\" fill=\"rgb(255,255,255)\" dominant-baseline=\"middle\" text-anchor=\"middle\"></text>  </svg></svg><line x1=\"50.02993270276521%\" x2=\"66.02660508392849%\" y1=\"60\" y2=\"60\" id=\"_fb_hrfcneupiocyloyluekp_ind_2\" style=\"stroke:rgb(255.0, 0.0, 81.08083606031792);stroke-width:2; opacity: 0\"/><text x=\"58.02826889334685%\" y=\"71\" font-size=\"12px\" id=\"_fs_hrfcneupiocyloyluekp_ind_2\" fill=\"rgb(255.0, 0.0, 81.08083606031792)\" style=\"opacity: 0\" dominant-baseline=\"middle\" text-anchor=\"middle\">0.19</text><svg x=\"50.02993270276521%\" y=\"40\" height=\"20\" width=\"15.996672381163279%\">  <svg x=\"0\" y=\"0\" width=\"100%\" height=\"100%\">    <text x=\"50%\" y=\"9\" font-size=\"12px\" fill=\"rgb(255,255,255)\" dominant-baseline=\"middle\" text-anchor=\"middle\">love</text>  </svg></svg><line x1=\"34.56220023522148%\" x2=\"50.02993270276521%\" y1=\"60\" y2=\"60\" id=\"_fb_hrfcneupiocyloyluekp_ind_5\" style=\"stroke:rgb(255.0, 0.0, 81.08083606031792);stroke-width:2; opacity: 0\"/><text x=\"42.296066468993345%\" y=\"71\" font-size=\"12px\" id=\"_fs_hrfcneupiocyloyluekp_ind_5\" fill=\"rgb(255.0, 0.0, 81.08083606031792)\" style=\"opacity: 0\" dominant-baseline=\"middle\" text-anchor=\"middle\">0.183</text><svg x=\"34.56220023522148%\" y=\"40\" height=\"20\" width=\"15.467732467543726%\">  <svg x=\"0\" y=\"0\" width=\"100%\" height=\"100%\">    <text x=\"50%\" y=\"9\" font-size=\"12px\" fill=\"rgb(255,255,255)\" dominant-baseline=\"middle\" text-anchor=\"middle\">!</text>  </svg></svg><line x1=\"26.478503235972223%\" x2=\"34.56220023522148%\" y1=\"60\" y2=\"60\" id=\"_fb_hrfcneupiocyloyluekp_ind_1\" style=\"stroke:rgb(255.0, 0.0, 81.08083606031792);stroke-width:2; opacity: 0\"/><text x=\"30.520351735596854%\" y=\"71\" font-size=\"12px\" id=\"_fs_hrfcneupiocyloyluekp_ind_1\" fill=\"rgb(255.0, 0.0, 81.08083606031792)\" style=\"opacity: 0\" dominant-baseline=\"middle\" text-anchor=\"middle\">0.096</text><svg x=\"26.478503235972223%\" y=\"40\" height=\"20\" width=\"8.083696999249259%\">  <svg x=\"0\" y=\"0\" width=\"100%\" height=\"100%\">    <text x=\"50%\" y=\"9\" font-size=\"12px\" fill=\"rgb(255,255,255)\" dominant-baseline=\"middle\" text-anchor=\"middle\">I</text>  </svg></svg><line x1=\"22.635700110546413%\" x2=\"26.478503235972223%\" y1=\"60\" y2=\"60\" id=\"_fb_hrfcneupiocyloyluekp_ind_3\" style=\"stroke:rgb(255.0, 0.0, 81.08083606031792);stroke-width:2; opacity: 0\"/><text x=\"24.557101673259318%\" y=\"71\" font-size=\"12px\" id=\"_fs_hrfcneupiocyloyluekp_ind_3\" fill=\"rgb(255.0, 0.0, 81.08083606031792)\" style=\"opacity: 0\" dominant-baseline=\"middle\" text-anchor=\"middle\">0.046</text><svg x=\"22.635700110546413%\" y=\"40\" height=\"20\" width=\"3.84280312542581%\">  <svg x=\"0\" y=\"0\" width=\"100%\" height=\"100%\">    <text x=\"50%\" y=\"9\" font-size=\"12px\" fill=\"rgb(255,255,255)\" dominant-baseline=\"middle\" text-anchor=\"middle\">playing</text>  </svg></svg><line x1=\"22.6022782817128%\" x2=\"22.635700110546413%\" y1=\"60\" y2=\"60\" id=\"_fb_hrfcneupiocyloyluekp_ind_4\" style=\"stroke:rgb(255.0, 0.0, 81.08083606031792);stroke-width:2; opacity: 0\"/><text x=\"22.618989196129604%\" y=\"71\" font-size=\"12px\" id=\"_fs_hrfcneupiocyloyluekp_ind_4\" fill=\"rgb(255.0, 0.0, 81.08083606031792)\" style=\"opacity: 0\" dominant-baseline=\"middle\" text-anchor=\"middle\">0.0</text><svg x=\"22.6022782817128%\" y=\"40\" height=\"20\" width=\"0.03342182883361389%\">  <svg x=\"0\" y=\"0\" width=\"100%\" height=\"100%\">    <text x=\"50%\" y=\"9\" font-size=\"12px\" fill=\"rgb(255,255,255)\" dominant-baseline=\"middle\" text-anchor=\"middle\">cricket</text>  </svg></svg><g transform=\"translate(0,0)\">  <svg x=\"66.02660508392849%\" y=\"40\" height=\"18\" overflow=\"visible\" width=\"30\">    <path d=\"M 0 -9 l 6 18 L 0 25\" fill=\"none\" style=\"stroke:rgb(255.0, 0.0, 81.08083606031792);stroke-width:2\" />  </svg></g><g transform=\"translate(2,0)\">  <svg x=\"66.02660508392849%\" y=\"40\" height=\"18\" overflow=\"visible\" width=\"30\">    <path d=\"M 0 -9 l 6 18 L 0 25\" fill=\"none\" style=\"stroke:rgb(255.0, 0.0, 81.08083606031792);stroke-width:2\" />  </svg></g><g transform=\"translate(4,0)\">  <svg x=\"66.02660508392849%\" y=\"40\" height=\"18\" overflow=\"visible\" width=\"30\">    <path d=\"M 0 -9 l 6 18 L 0 25\" fill=\"none\" style=\"stroke:rgb(255.0, 0.0, 81.08083606031792);stroke-width:2\" />  </svg></g><g transform=\"translate(6,0)\">  <svg x=\"66.02660508392849%\" y=\"40\" height=\"18\" overflow=\"visible\" width=\"30\">    <path d=\"M 0 -9 l 6 18 L 0 25\" fill=\"none\" style=\"stroke:rgb(255.0, 0.0, 81.08083606031792);stroke-width:2\" />  </svg></g><g transform=\"translate(-8,0)\">  <svg x=\"66.02660508392849%\" y=\"40\" height=\"18\" overflow=\"visible\" width=\"30\">    <path d=\"M 0 -9 l 6 18 L 0 25\" fill=\"none\" style=\"stroke:rgb(255.0, 0.0, 81.08083606031792);stroke-width:2\" />  </svg></g><g transform=\"translate(-6,0)\">  <svg x=\"66.02660508392849%\" y=\"40\" height=\"18\" overflow=\"visible\" width=\"30\">    <path d=\"M 0 -9 l 6 18 L 0 25\" fill=\"none\" style=\"stroke:rgb(255.0, 0.0, 81.08083606031792);stroke-width:2\" />  </svg></g><g transform=\"translate(-4,0)\">  <svg x=\"66.02660508392849%\" y=\"40\" height=\"18\" overflow=\"visible\" width=\"30\">    <path d=\"M 0 -9 l 6 18 L 0 25\" fill=\"none\" style=\"stroke:rgb(255.0, 0.0, 81.08083606031792);stroke-width:2\" />  </svg></g><g transform=\"translate(-2,0)\">  <svg x=\"66.02660508392849%\" y=\"40\" height=\"18\" overflow=\"visible\" width=\"30\">    <path d=\"M 0 -9 l 6 18 L 0 25\" fill=\"none\" style=\"stroke:rgb(255.0, 0.0, 81.08083606031792);stroke-width:2\" />  </svg></g><g transform=\"translate(0,0)\">  <svg x=\"50.02993270276521%\" y=\"40\" height=\"18\" overflow=\"visible\" width=\"30\">    <path d=\"M 0 -9 l 6 18 L 0 25\" fill=\"none\" style=\"stroke:rgb(255.0, 0.0, 81.08083606031792);stroke-width:2\" />  </svg></g><g transform=\"translate(2,0)\">  <svg x=\"50.02993270276521%\" y=\"40\" height=\"18\" overflow=\"visible\" width=\"30\">    <path d=\"M 0 -9 l 6 18 L 0 25\" fill=\"none\" style=\"stroke:rgb(255.0, 0.0, 81.08083606031792);stroke-width:2\" />  </svg></g><g transform=\"translate(4,0)\">  <svg x=\"50.02993270276521%\" y=\"40\" height=\"18\" overflow=\"visible\" width=\"30\">    <path d=\"M 0 -9 l 6 18 L 0 25\" fill=\"none\" style=\"stroke:rgb(255.0, 0.0, 81.08083606031792);stroke-width:2\" />  </svg></g><g transform=\"translate(6,0)\">  <svg x=\"50.02993270276521%\" y=\"40\" height=\"18\" overflow=\"visible\" width=\"30\">    <path d=\"M 0 -9 l 6 18 L 0 25\" fill=\"none\" style=\"stroke:rgb(255.0, 0.0, 81.08083606031792);stroke-width:2\" />  </svg></g><g transform=\"translate(-8,0)\">  <svg x=\"50.02993270276521%\" y=\"40\" height=\"18\" overflow=\"visible\" width=\"30\">    <path d=\"M 0 -9 l 6 18 L 0 25\" fill=\"none\" style=\"stroke:rgb(255.0, 0.0, 81.08083606031792);stroke-width:2\" />  </svg></g><g transform=\"translate(-6,0)\">  <svg x=\"50.02993270276521%\" y=\"40\" height=\"18\" overflow=\"visible\" width=\"30\">    <path d=\"M 0 -9 l 6 18 L 0 25\" fill=\"none\" style=\"stroke:rgb(255.0, 0.0, 81.08083606031792);stroke-width:2\" />  </svg></g><g transform=\"translate(-4,0)\">  <svg x=\"50.02993270276521%\" y=\"40\" height=\"18\" overflow=\"visible\" width=\"30\">    <path d=\"M 0 -9 l 6 18 L 0 25\" fill=\"none\" style=\"stroke:rgb(255.0, 0.0, 81.08083606031792);stroke-width:2\" />  </svg></g><g transform=\"translate(-2,0)\">  <svg x=\"50.02993270276521%\" y=\"40\" height=\"18\" overflow=\"visible\" width=\"30\">    <path d=\"M 0 -9 l 6 18 L 0 25\" fill=\"none\" style=\"stroke:rgb(255.0, 0.0, 81.08083606031792);stroke-width:2\" />  </svg></g><g transform=\"translate(0,0)\">  <svg x=\"34.56220023522148%\" y=\"40\" height=\"18\" overflow=\"visible\" width=\"30\">    <path d=\"M 0 -9 l 6 18 L 0 25\" fill=\"none\" style=\"stroke:rgb(255.0, 0.0, 81.08083606031792);stroke-width:2\" />  </svg></g><g transform=\"translate(2,0)\">  <svg x=\"34.56220023522148%\" y=\"40\" height=\"18\" overflow=\"visible\" width=\"30\">    <path d=\"M 0 -9 l 6 18 L 0 25\" fill=\"none\" style=\"stroke:rgb(255.0, 0.0, 81.08083606031792);stroke-width:2\" />  </svg></g><g transform=\"translate(4,0)\">  <svg x=\"34.56220023522148%\" y=\"40\" height=\"18\" overflow=\"visible\" width=\"30\">    <path d=\"M 0 -9 l 6 18 L 0 25\" fill=\"none\" style=\"stroke:rgb(255.0, 0.0, 81.08083606031792);stroke-width:2\" />  </svg></g><g transform=\"translate(6,0)\">  <svg x=\"34.56220023522148%\" y=\"40\" height=\"18\" overflow=\"visible\" width=\"30\">    <path d=\"M 0 -9 l 6 18 L 0 25\" fill=\"none\" style=\"stroke:rgb(255.0, 0.0, 81.08083606031792);stroke-width:2\" />  </svg></g><g transform=\"translate(-8,0)\">  <svg x=\"34.56220023522148%\" y=\"40\" height=\"18\" overflow=\"visible\" width=\"30\">    <path d=\"M 0 -9 l 6 18 L 0 25\" fill=\"none\" style=\"stroke:rgb(255.0, 0.0, 81.08083606031792);stroke-width:2\" />  </svg></g><g transform=\"translate(-6,0)\">  <svg x=\"34.56220023522148%\" y=\"40\" height=\"18\" overflow=\"visible\" width=\"30\">    <path d=\"M 0 -9 l 6 18 L 0 25\" fill=\"none\" style=\"stroke:rgb(255.0, 0.0, 81.08083606031792);stroke-width:2\" />  </svg></g><g transform=\"translate(-4,0)\">  <svg x=\"34.56220023522148%\" y=\"40\" height=\"18\" overflow=\"visible\" width=\"30\">    <path d=\"M 0 -9 l 6 18 L 0 25\" fill=\"none\" style=\"stroke:rgb(255.0, 0.0, 81.08083606031792);stroke-width:2\" />  </svg></g><g transform=\"translate(-2,0)\">  <svg x=\"34.56220023522148%\" y=\"40\" height=\"18\" overflow=\"visible\" width=\"30\">    <path d=\"M 0 -9 l 6 18 L 0 25\" fill=\"none\" style=\"stroke:rgb(255.0, 0.0, 81.08083606031792);stroke-width:2\" />  </svg></g><g transform=\"translate(0,0)\">  <svg x=\"26.478503235972223%\" y=\"40\" height=\"18\" overflow=\"visible\" width=\"30\">    <path d=\"M 0 -9 l 6 18 L 0 25\" fill=\"none\" style=\"stroke:rgb(255.0, 0.0, 81.08083606031792);stroke-width:2\" />  </svg></g><g transform=\"translate(2,0)\">  <svg x=\"26.478503235972223%\" y=\"40\" height=\"18\" overflow=\"visible\" width=\"30\">    <path d=\"M 0 -9 l 6 18 L 0 25\" fill=\"none\" style=\"stroke:rgb(255.0, 0.0, 81.08083606031792);stroke-width:2\" />  </svg></g><g transform=\"translate(4,0)\">  <svg x=\"26.478503235972223%\" y=\"40\" height=\"18\" overflow=\"visible\" width=\"30\">    <path d=\"M 0 -9 l 6 18 L 0 25\" fill=\"none\" style=\"stroke:rgb(255.0, 0.0, 81.08083606031792);stroke-width:2\" />  </svg></g><g transform=\"translate(6,0)\">  <svg x=\"26.478503235972223%\" y=\"40\" height=\"18\" overflow=\"visible\" width=\"30\">    <path d=\"M 0 -9 l 6 18 L 0 25\" fill=\"none\" style=\"stroke:rgb(255.0, 0.0, 81.08083606031792);stroke-width:2\" />  </svg></g><g transform=\"translate(-8,0)\">  <svg x=\"26.478503235972223%\" y=\"40\" height=\"18\" overflow=\"visible\" width=\"30\">    <path d=\"M 0 -9 l 6 18 L 0 25\" fill=\"none\" style=\"stroke:rgb(255.0, 0.0, 81.08083606031792);stroke-width:2\" />  </svg></g><g transform=\"translate(-6,0)\">  <svg x=\"26.478503235972223%\" y=\"40\" height=\"18\" overflow=\"visible\" width=\"30\">    <path d=\"M 0 -9 l 6 18 L 0 25\" fill=\"none\" style=\"stroke:rgb(255.0, 0.0, 81.08083606031792);stroke-width:2\" />  </svg></g><g transform=\"translate(-4,0)\">  <svg x=\"26.478503235972223%\" y=\"40\" height=\"18\" overflow=\"visible\" width=\"30\">    <path d=\"M 0 -9 l 6 18 L 0 25\" fill=\"none\" style=\"stroke:rgb(255.0, 0.0, 81.08083606031792);stroke-width:2\" />  </svg></g><g transform=\"translate(-2,0)\">  <svg x=\"26.478503235972223%\" y=\"40\" height=\"18\" overflow=\"visible\" width=\"30\">    <path d=\"M 0 -9 l 6 18 L 0 25\" fill=\"none\" style=\"stroke:rgb(255.0, 0.0, 81.08083606031792);stroke-width:2\" />  </svg></g><g transform=\"translate(0,0)\">  <svg x=\"22.635700110546413%\" y=\"40\" height=\"18\" overflow=\"visible\" width=\"30\">    <path d=\"M 0 -9 l 6 18 L 0 25\" fill=\"none\" style=\"stroke:rgb(255.0, 0.0, 81.08083606031792);stroke-width:2\" />  </svg></g><g transform=\"translate(2,0)\">  <svg x=\"22.635700110546413%\" y=\"40\" height=\"18\" overflow=\"visible\" width=\"30\">    <path d=\"M 0 -9 l 6 18 L 0 25\" fill=\"none\" style=\"stroke:rgb(255.0, 0.0, 81.08083606031792);stroke-width:2\" />  </svg></g><g transform=\"translate(4,0)\">  <svg x=\"22.635700110546413%\" y=\"40\" height=\"18\" overflow=\"visible\" width=\"30\">    <path d=\"M 0 -9 l 6 18 L 0 25\" fill=\"none\" style=\"stroke:rgb(255.0, 0.0, 81.08083606031792);stroke-width:2\" />  </svg></g><g transform=\"translate(6,0)\">  <svg x=\"22.635700110546413%\" y=\"40\" height=\"18\" overflow=\"visible\" width=\"30\">    <path d=\"M 0 -9 l 6 18 L 0 25\" fill=\"none\" style=\"stroke:rgb(255.0, 0.0, 81.08083606031792);stroke-width:2\" />  </svg></g><g transform=\"translate(-8,0)\">  <svg x=\"22.635700110546413%\" y=\"40\" height=\"18\" overflow=\"visible\" width=\"30\">    <path d=\"M 0 -9 l 6 18 L 0 25\" fill=\"none\" style=\"stroke:rgb(255.0, 0.0, 81.08083606031792);stroke-width:2\" />  </svg></g><g transform=\"translate(-6,0)\">  <svg x=\"22.635700110546413%\" y=\"40\" height=\"18\" overflow=\"visible\" width=\"30\">    <path d=\"M 0 -9 l 6 18 L 0 25\" fill=\"none\" style=\"stroke:rgb(255.0, 0.0, 81.08083606031792);stroke-width:2\" />  </svg></g><g transform=\"translate(-4,0)\">  <svg x=\"22.635700110546413%\" y=\"40\" height=\"18\" overflow=\"visible\" width=\"30\">    <path d=\"M 0 -9 l 6 18 L 0 25\" fill=\"none\" style=\"stroke:rgb(255.0, 0.0, 81.08083606031792);stroke-width:2\" />  </svg></g><g transform=\"translate(-2,0)\">  <svg x=\"22.635700110546413%\" y=\"40\" height=\"18\" overflow=\"visible\" width=\"30\">    <path d=\"M 0 -9 l 6 18 L 0 25\" fill=\"none\" style=\"stroke:rgb(255.0, 0.0, 81.08083606031792);stroke-width:2\" />  </svg></g><rect transform=\"translate(-8,0)\" x=\"87.62794671895395%\" y=\"40\" width=\"8\" height=\"18\" style=\"fill:rgb(255.0, 0.0, 81.08083606031792)\"/><g transform=\"translate(-11.5,0)\">  <svg x=\"22.6022782817128%\" y=\"40\" height=\"18\" overflow=\"visible\" width=\"30\">    <path d=\"M 10 -9 l 6 18 L 10 25 L 0 25 L 0 -9\" fill=\"#ffffff\" style=\"stroke:rgb(255,255,255);stroke-width:2\" />  </svg></g><g transform=\"translate(-1.5,0)\">  <svg x=\"87.62794671895395%\" y=\"40\" height=\"18\" overflow=\"visible\" width=\"30\">    <path d=\"M 0 -9 l 6 18 L 0 25\" fill=\"none\" style=\"stroke:rgb(255, 195, 213);stroke-width:2\" />  </svg></g><rect x=\"66.02660508392849%\" y=\"40\" height=\"20\" width=\"21.601341635025463%\"      onmouseover=\"document.getElementById('_tp_hrfcneupiocyloyluekp_ind_0').style.textDecoration = 'underline';document.getElementById('_fs_hrfcneupiocyloyluekp_ind_0').style.opacity = 1;document.getElementById('_fb_hrfcneupiocyloyluekp_ind_0').style.opacity = 1;\"      onmouseout=\"document.getElementById('_tp_hrfcneupiocyloyluekp_ind_0').style.textDecoration = 'none';document.getElementById('_fs_hrfcneupiocyloyluekp_ind_0').style.opacity = 0;document.getElementById('_fb_hrfcneupiocyloyluekp_ind_0').style.opacity = 0;\" style=\"fill:rgb(0,0,0,0)\" /><g transform=\"translate(-1.5,0)\">  <svg x=\"66.02660508392849%\" y=\"40\" height=\"18\" overflow=\"visible\" width=\"30\">    <path d=\"M 0 -9 l 6 18 L 0 25\" fill=\"none\" style=\"stroke:rgb(255, 195, 213);stroke-width:2\" />  </svg></g><rect x=\"50.02993270276521%\" y=\"40\" height=\"20\" width=\"15.996672381163279%\"      onmouseover=\"document.getElementById('_tp_hrfcneupiocyloyluekp_ind_2').style.textDecoration = 'underline';document.getElementById('_fs_hrfcneupiocyloyluekp_ind_2').style.opacity = 1;document.getElementById('_fb_hrfcneupiocyloyluekp_ind_2').style.opacity = 1;\"      onmouseout=\"document.getElementById('_tp_hrfcneupiocyloyluekp_ind_2').style.textDecoration = 'none';document.getElementById('_fs_hrfcneupiocyloyluekp_ind_2').style.opacity = 0;document.getElementById('_fb_hrfcneupiocyloyluekp_ind_2').style.opacity = 0;\" style=\"fill:rgb(0,0,0,0)\" /><g transform=\"translate(-1.5,0)\">  <svg x=\"50.02993270276521%\" y=\"40\" height=\"18\" overflow=\"visible\" width=\"30\">    <path d=\"M 0 -9 l 6 18 L 0 25\" fill=\"none\" style=\"stroke:rgb(255, 195, 213);stroke-width:2\" />  </svg></g><rect x=\"34.56220023522148%\" y=\"40\" height=\"20\" width=\"15.467732467543726%\"      onmouseover=\"document.getElementById('_tp_hrfcneupiocyloyluekp_ind_5').style.textDecoration = 'underline';document.getElementById('_fs_hrfcneupiocyloyluekp_ind_5').style.opacity = 1;document.getElementById('_fb_hrfcneupiocyloyluekp_ind_5').style.opacity = 1;\"      onmouseout=\"document.getElementById('_tp_hrfcneupiocyloyluekp_ind_5').style.textDecoration = 'none';document.getElementById('_fs_hrfcneupiocyloyluekp_ind_5').style.opacity = 0;document.getElementById('_fb_hrfcneupiocyloyluekp_ind_5').style.opacity = 0;\" style=\"fill:rgb(0,0,0,0)\" /><g transform=\"translate(-1.5,0)\">  <svg x=\"34.56220023522148%\" y=\"40\" height=\"18\" overflow=\"visible\" width=\"30\">    <path d=\"M 0 -9 l 6 18 L 0 25\" fill=\"none\" style=\"stroke:rgb(255, 195, 213);stroke-width:2\" />  </svg></g><rect x=\"26.478503235972223%\" y=\"40\" height=\"20\" width=\"8.083696999249259%\"      onmouseover=\"document.getElementById('_tp_hrfcneupiocyloyluekp_ind_1').style.textDecoration = 'underline';document.getElementById('_fs_hrfcneupiocyloyluekp_ind_1').style.opacity = 1;document.getElementById('_fb_hrfcneupiocyloyluekp_ind_1').style.opacity = 1;\"      onmouseout=\"document.getElementById('_tp_hrfcneupiocyloyluekp_ind_1').style.textDecoration = 'none';document.getElementById('_fs_hrfcneupiocyloyluekp_ind_1').style.opacity = 0;document.getElementById('_fb_hrfcneupiocyloyluekp_ind_1').style.opacity = 0;\" style=\"fill:rgb(0,0,0,0)\" /><g transform=\"translate(-1.5,0)\">  <svg x=\"26.478503235972223%\" y=\"40\" height=\"18\" overflow=\"visible\" width=\"30\">    <path d=\"M 0 -9 l 6 18 L 0 25\" fill=\"none\" style=\"stroke:rgb(255, 195, 213);stroke-width:2\" />  </svg></g><rect x=\"22.635700110546413%\" y=\"40\" height=\"20\" width=\"3.84280312542581%\"      onmouseover=\"document.getElementById('_tp_hrfcneupiocyloyluekp_ind_3').style.textDecoration = 'underline';document.getElementById('_fs_hrfcneupiocyloyluekp_ind_3').style.opacity = 1;document.getElementById('_fb_hrfcneupiocyloyluekp_ind_3').style.opacity = 1;\"      onmouseout=\"document.getElementById('_tp_hrfcneupiocyloyluekp_ind_3').style.textDecoration = 'none';document.getElementById('_fs_hrfcneupiocyloyluekp_ind_3').style.opacity = 0;document.getElementById('_fb_hrfcneupiocyloyluekp_ind_3').style.opacity = 0;\" style=\"fill:rgb(0,0,0,0)\" /><rect x=\"22.6022782817128%\" y=\"40\" height=\"20\" width=\"0.03342182883361389%\"      onmouseover=\"document.getElementById('_tp_hrfcneupiocyloyluekp_ind_4').style.textDecoration = 'underline';document.getElementById('_fs_hrfcneupiocyloyluekp_ind_4').style.opacity = 1;document.getElementById('_fb_hrfcneupiocyloyluekp_ind_4').style.opacity = 1;\"      onmouseout=\"document.getElementById('_tp_hrfcneupiocyloyluekp_ind_4').style.textDecoration = 'none';document.getElementById('_fs_hrfcneupiocyloyluekp_ind_4').style.opacity = 0;document.getElementById('_fb_hrfcneupiocyloyluekp_ind_4').style.opacity = 0;\" style=\"fill:rgb(0,0,0,0)\" /><rect x=\"87.62794671895395%\" width=\"5.335895994319521%\" y=\"40\" height=\"18\" style=\"fill:rgb(0.0, 138.56128015770727, 250.76166088685727); stroke-width:0; stroke:rgb(0,0,0)\" /><line x1=\"87.62794671895395%\" x2=\"92.96384271327348%\" y1=\"60\" y2=\"60\" id=\"_fb_hrfcneupiocyloyluekp_ind_6\" style=\"stroke:rgb(0.0, 138.56128015770727, 250.76166088685727);stroke-width:2; opacity: 0\"/><text x=\"90.29589471611371%\" y=\"71\" font-size=\"12px\" fill=\"rgb(0.0, 138.56128015770727, 250.76166088685727)\" id=\"_fs_hrfcneupiocyloyluekp_ind_6\" style=\"opacity: 0\" dominant-baseline=\"middle\" text-anchor=\"middle\">-0.063</text><svg x=\"87.62794671895395%\" y=\"40\" height=\"20\" width=\"5.335895994319529%\">  <svg x=\"0\" y=\"0\" width=\"100%\" height=\"100%\">    <text x=\"50%\" y=\"9\" font-size=\"12px\" fill=\"rgb(255,255,255)\" dominant-baseline=\"middle\" text-anchor=\"middle\"></text>  </svg></svg><rect transform=\"translate(0,0)\" x=\"87.62794671895395%\" y=\"40\" width=\"8\" height=\"18\" style=\"fill:rgb(0.0, 138.56128015770727, 250.76166088685727)\"/><g transform=\"translate(-6.0,0)\">  <svg x=\"92.96384271327348%\" y=\"40\" height=\"18\" overflow=\"visible\" width=\"30\">    <path d=\"M 8 -9 l -6 18 L 8 25 L 20 25 L 20 -9\" fill=\"#ffffff\" style=\"stroke:rgb(255,255,255);stroke-width:2\" />  </svg></g><rect x=\"87.62794671895395%\" y=\"40\" height=\"20\" width=\"5.335895994319529%\"      onmouseover=\"document.getElementById('_tp_hrfcneupiocyloyluekp_ind_6').style.textDecoration = 'underline';document.getElementById('_fs_hrfcneupiocyloyluekp_ind_6').style.opacity = 1;document.getElementById('_fb_hrfcneupiocyloyluekp_ind_6').style.opacity = 1;\"      onmouseout=\"document.getElementById('_tp_hrfcneupiocyloyluekp_ind_6').style.textDecoration = 'none';document.getElementById('_fs_hrfcneupiocyloyluekp_ind_6').style.opacity = 0;document.getElementById('_fb_hrfcneupiocyloyluekp_ind_6').style.opacity = 0;\" style=\"fill:rgb(0,0,0,0)\" /></svg><div align='center'><div style=\"color: rgb(120,120,120); font-size: 12px; margin-top: -15px;\">inputs</div><div style='display: inline; text-align: center;'\n",
       "    ><div style='display: none; color: #999; padding-top: 0px; font-size: 12px;'>0.256</div\n",
       "        ><div id='_tp_hrfcneupiocyloyluekp_ind_0'\n",
       "            style='display: inline; background: rgba(255.0, 13.0, 87.0, 0.755634779164191); border-radius: 3px; padding: 0px'\n",
       "            onclick=\"\n",
       "            if (this.previousSibling.style.display == 'none') {\n",
       "                this.previousSibling.style.display = 'block';\n",
       "                this.parentNode.style.display = 'inline-block';\n",
       "            } else {\n",
       "                this.previousSibling.style.display = 'none';\n",
       "                this.parentNode.style.display = 'inline';\n",
       "            }\"\n",
       "            onmouseover=\"document.getElementById('_fb_hrfcneupiocyloyluekp_ind_0').style.opacity = 1; document.getElementById('_fs_hrfcneupiocyloyluekp_ind_0').style.opacity = 1;\"\n",
       "            onmouseout=\"document.getElementById('_fb_hrfcneupiocyloyluekp_ind_0').style.opacity = 0; document.getElementById('_fs_hrfcneupiocyloyluekp_ind_0').style.opacity = 0;\"\n",
       "        ></div></div><div style='display: inline; text-align: center;'\n",
       "    ><div style='display: none; color: #999; padding-top: 0px; font-size: 12px;'>0.096</div\n",
       "        ><div id='_tp_hrfcneupiocyloyluekp_ind_1'\n",
       "            style='display: inline; background: rgba(255.0, 13.0, 87.0, 0.2747870865517925); border-radius: 3px; padding: 0px'\n",
       "            onclick=\"\n",
       "            if (this.previousSibling.style.display == 'none') {\n",
       "                this.previousSibling.style.display = 'block';\n",
       "                this.parentNode.style.display = 'inline-block';\n",
       "            } else {\n",
       "                this.previousSibling.style.display = 'none';\n",
       "                this.parentNode.style.display = 'inline';\n",
       "            }\"\n",
       "            onmouseover=\"document.getElementById('_fb_hrfcneupiocyloyluekp_ind_1').style.opacity = 1; document.getElementById('_fs_hrfcneupiocyloyluekp_ind_1').style.opacity = 1;\"\n",
       "            onmouseout=\"document.getElementById('_fb_hrfcneupiocyloyluekp_ind_1').style.opacity = 0; document.getElementById('_fs_hrfcneupiocyloyluekp_ind_1').style.opacity = 0;\"\n",
       "        >I </div></div><div style='display: inline; text-align: center;'\n",
       "    ><div style='display: none; color: #999; padding-top: 0px; font-size: 12px;'>0.19</div\n",
       "        ><div id='_tp_hrfcneupiocyloyluekp_ind_2'\n",
       "            style='display: inline; background: rgba(255.0, 13.0, 87.0, 0.5585660526836996); border-radius: 3px; padding: 0px'\n",
       "            onclick=\"\n",
       "            if (this.previousSibling.style.display == 'none') {\n",
       "                this.previousSibling.style.display = 'block';\n",
       "                this.parentNode.style.display = 'inline-block';\n",
       "            } else {\n",
       "                this.previousSibling.style.display = 'none';\n",
       "                this.parentNode.style.display = 'inline';\n",
       "            }\"\n",
       "            onmouseover=\"document.getElementById('_fb_hrfcneupiocyloyluekp_ind_2').style.opacity = 1; document.getElementById('_fs_hrfcneupiocyloyluekp_ind_2').style.opacity = 1;\"\n",
       "            onmouseout=\"document.getElementById('_fb_hrfcneupiocyloyluekp_ind_2').style.opacity = 0; document.getElementById('_fs_hrfcneupiocyloyluekp_ind_2').style.opacity = 0;\"\n",
       "        >love </div></div><div style='display: inline; text-align: center;'\n",
       "    ><div style='display: none; color: #999; padding-top: 0px; font-size: 12px;'>0.046</div\n",
       "        ><div id='_tp_hrfcneupiocyloyluekp_ind_3'\n",
       "            style='display: inline; background: rgba(255.0, 13.0, 87.0, 0.13289760348583876); border-radius: 3px; padding: 0px'\n",
       "            onclick=\"\n",
       "            if (this.previousSibling.style.display == 'none') {\n",
       "                this.previousSibling.style.display = 'block';\n",
       "                this.parentNode.style.display = 'inline-block';\n",
       "            } else {\n",
       "                this.previousSibling.style.display = 'none';\n",
       "                this.parentNode.style.display = 'inline';\n",
       "            }\"\n",
       "            onmouseover=\"document.getElementById('_fb_hrfcneupiocyloyluekp_ind_3').style.opacity = 1; document.getElementById('_fs_hrfcneupiocyloyluekp_ind_3').style.opacity = 1;\"\n",
       "            onmouseout=\"document.getElementById('_fb_hrfcneupiocyloyluekp_ind_3').style.opacity = 0; document.getElementById('_fs_hrfcneupiocyloyluekp_ind_3').style.opacity = 0;\"\n",
       "        >playing </div></div><div style='display: inline; text-align: center;'\n",
       "    ><div style='display: none; color: #999; padding-top: 0px; font-size: 12px;'>0.0</div\n",
       "        ><div id='_tp_hrfcneupiocyloyluekp_ind_4'\n",
       "            style='display: inline; background: rgba(230.2941176470614, 26.505882352939775, 102.59215686274348, 0.0); border-radius: 3px; padding: 0px'\n",
       "            onclick=\"\n",
       "            if (this.previousSibling.style.display == 'none') {\n",
       "                this.previousSibling.style.display = 'block';\n",
       "                this.parentNode.style.display = 'inline-block';\n",
       "            } else {\n",
       "                this.previousSibling.style.display = 'none';\n",
       "                this.parentNode.style.display = 'inline';\n",
       "            }\"\n",
       "            onmouseover=\"document.getElementById('_fb_hrfcneupiocyloyluekp_ind_4').style.opacity = 1; document.getElementById('_fs_hrfcneupiocyloyluekp_ind_4').style.opacity = 1;\"\n",
       "            onmouseout=\"document.getElementById('_fb_hrfcneupiocyloyluekp_ind_4').style.opacity = 0; document.getElementById('_fs_hrfcneupiocyloyluekp_ind_4').style.opacity = 0;\"\n",
       "        >cricket</div></div><div style='display: inline; text-align: center;'\n",
       "    ><div style='display: none; color: #999; padding-top: 0px; font-size: 12px;'>0.183</div\n",
       "        ><div id='_tp_hrfcneupiocyloyluekp_ind_5'\n",
       "            style='display: inline; background: rgba(255.0, 13.0, 87.0, 0.5349178055060405); border-radius: 3px; padding: 0px'\n",
       "            onclick=\"\n",
       "            if (this.previousSibling.style.display == 'none') {\n",
       "                this.previousSibling.style.display = 'block';\n",
       "                this.parentNode.style.display = 'inline-block';\n",
       "            } else {\n",
       "                this.previousSibling.style.display = 'none';\n",
       "                this.parentNode.style.display = 'inline';\n",
       "            }\"\n",
       "            onmouseover=\"document.getElementById('_fb_hrfcneupiocyloyluekp_ind_5').style.opacity = 1; document.getElementById('_fs_hrfcneupiocyloyluekp_ind_5').style.opacity = 1;\"\n",
       "            onmouseout=\"document.getElementById('_fb_hrfcneupiocyloyluekp_ind_5').style.opacity = 0; document.getElementById('_fs_hrfcneupiocyloyluekp_ind_5').style.opacity = 0;\"\n",
       "        >!</div></div><div style='display: inline; text-align: center;'\n",
       "    ><div style='display: none; color: #999; padding-top: 0px; font-size: 12px;'>-0.063</div\n",
       "        ><div id='_tp_hrfcneupiocyloyluekp_ind_6'\n",
       "            style='display: inline; background: rgba(30.0, 136.0, 229.0, 0.18019409784115656); border-radius: 3px; padding: 0px'\n",
       "            onclick=\"\n",
       "            if (this.previousSibling.style.display == 'none') {\n",
       "                this.previousSibling.style.display = 'block';\n",
       "                this.parentNode.style.display = 'inline-block';\n",
       "            } else {\n",
       "                this.previousSibling.style.display = 'none';\n",
       "                this.parentNode.style.display = 'inline';\n",
       "            }\"\n",
       "            onmouseover=\"document.getElementById('_fb_hrfcneupiocyloyluekp_ind_6').style.opacity = 1; document.getElementById('_fs_hrfcneupiocyloyluekp_ind_6').style.opacity = 1;\"\n",
       "            onmouseout=\"document.getElementById('_fb_hrfcneupiocyloyluekp_ind_6').style.opacity = 0; document.getElementById('_fs_hrfcneupiocyloyluekp_ind_6').style.opacity = 0;\"\n",
       "        ></div></div></div></div><div id='_tp_szfavpcfcpvrrnoqkiiw_output_1_zoom' style='display: none;'><svg width=\"100%\" height=\"80px\"><line x1=\"0\" y1=\"33\" x2=\"100%\" y2=\"33\" style=\"stroke:rgb(150,150,150);stroke-width:1\" /><line x1=\"51.96822009032436%\" y1=\"33\" x2=\"51.96822009032436%\" y2=\"37\" style=\"stroke:rgb(150,150,150);stroke-width:1\" /><text x=\"51.96822009032436%\" y=\"27\" font-size=\"12px\" fill=\"rgb(120,120,120)\" dominant-baseline=\"bottom\" text-anchor=\"middle\">0.5</text><line x1=\"41.97731973057767%\" y1=\"33\" x2=\"41.97731973057767%\" y2=\"37\" style=\"stroke:rgb(150,150,150);stroke-width:1\" /><text x=\"41.97731973057767%\" y=\"27\" font-size=\"12px\" fill=\"rgb(120,120,120)\" dominant-baseline=\"bottom\" text-anchor=\"middle\">0.4</text><line x1=\"31.986419370830976%\" y1=\"33\" x2=\"31.986419370830976%\" y2=\"37\" style=\"stroke:rgb(150,150,150);stroke-width:1\" /><text x=\"31.986419370830976%\" y=\"27\" font-size=\"12px\" fill=\"rgb(120,120,120)\" dominant-baseline=\"bottom\" text-anchor=\"middle\">0.3</text><line x1=\"21.995519011084276%\" y1=\"33\" x2=\"21.995519011084276%\" y2=\"37\" style=\"stroke:rgb(150,150,150);stroke-width:1\" /><text x=\"21.995519011084276%\" y=\"27\" font-size=\"12px\" fill=\"rgb(120,120,120)\" dominant-baseline=\"bottom\" text-anchor=\"middle\">0.2</text><line x1=\"12.004618651337582%\" y1=\"33\" x2=\"12.004618651337582%\" y2=\"37\" style=\"stroke:rgb(150,150,150);stroke-width:1\" /><text x=\"12.004618651337582%\" y=\"27\" font-size=\"12px\" fill=\"rgb(120,120,120)\" dominant-baseline=\"bottom\" text-anchor=\"middle\">0.1</text><line x1=\"61.95912045007107%\" y1=\"33\" x2=\"61.95912045007107%\" y2=\"37\" style=\"stroke:rgb(150,150,150);stroke-width:1\" /><text x=\"61.95912045007107%\" y=\"27\" font-size=\"12px\" fill=\"rgb(120,120,120)\" dominant-baseline=\"bottom\" text-anchor=\"middle\">0.6</text><line x1=\"71.95002080981774%\" y1=\"33\" x2=\"71.95002080981774%\" y2=\"37\" style=\"stroke:rgb(150,150,150);stroke-width:1\" /><text x=\"71.95002080981774%\" y=\"27\" font-size=\"12px\" fill=\"rgb(120,120,120)\" dominant-baseline=\"bottom\" text-anchor=\"middle\">0.7</text><line x1=\"81.94092116956445%\" y1=\"33\" x2=\"81.94092116956445%\" y2=\"37\" style=\"stroke:rgb(150,150,150);stroke-width:1\" /><text x=\"81.94092116956445%\" y=\"27\" font-size=\"12px\" fill=\"rgb(120,120,120)\" dominant-baseline=\"bottom\" text-anchor=\"middle\">0.8</text><line x1=\"91.93182152931116%\" y1=\"33\" x2=\"91.93182152931116%\" y2=\"37\" style=\"stroke:rgb(150,150,150);stroke-width:1\" /><text x=\"91.93182152931116%\" y=\"27\" font-size=\"12px\" fill=\"rgb(120,120,120)\" dominant-baseline=\"bottom\" text-anchor=\"middle\">0.9</text><line x1=\"14.652948208560776%\" y1=\"33\" x2=\"14.652948208560776%\" y2=\"37\" style=\"stroke:rgb(150,150,150);stroke-width:1\" /><text x=\"14.652948208560776%\" y=\"27\" font-size=\"13px\" style=\"stroke:#ffffff;stroke-width:8px;\" fill=\"rgb(255,255,255)\" dominant-baseline=\"bottom\" text-anchor=\"middle\">0.126507</text><text x=\"14.652948208560776%\" y=\"27\" font-size=\"12px\" fill=\"rgb(120,120,120)\" dominant-baseline=\"bottom\" text-anchor=\"middle\">0.126507</text><text x=\"14.652948208560776%\" y=\"10\" font-size=\"12px\" fill=\"rgb(120,120,120)\" dominant-baseline=\"bottom\" text-anchor=\"middle\">base value</text><line x1=\"85.34705079234921%\" y1=\"33\" x2=\"85.34705079234921%\" y2=\"37\" style=\"stroke:rgb(150,150,150);stroke-width:1\" /><text x=\"85.34705079234921%\" y=\"27\" font-size=\"13px\" style=\"stroke:#ffffff;stroke-width:8px;\" font-weight=\"bold\" fill=\"rgb(255,255,255)\" dominant-baseline=\"bottom\" text-anchor=\"middle\">0.834092</text><text x=\"85.34705079234921%\" y=\"27\" font-size=\"13px\" font-weight=\"bold\" fill=\"rgb(0,0,0)\" dominant-baseline=\"bottom\" text-anchor=\"middle\">0.834092</text><text x=\"85.34705079234921%\" y=\"10\" font-size=\"12px\" fill=\"rgb(120,120,120)\" dominant-baseline=\"bottom\" text-anchor=\"middle\">f<tspan baseline-shift=\"sub\" font-size=\"8px\">sports</tspan>(inputs)</text><rect x=\"8.333333250075833%\" width=\"77.01371754227337%\" y=\"40\" height=\"18\" style=\"fill:rgb(255.0, 0.0, 81.08083606031792); stroke-width:0; stroke:rgb(0,0,0)\" /><line x1=\"59.76331342839411%\" x2=\"85.34705079234921%\" y1=\"60\" y2=\"60\" id=\"_fb_uagxreizcfavxjsaonwd_ind_0\" style=\"stroke:rgb(255.0, 0.0, 81.08083606031792);stroke-width:2; opacity: 0\"/><text x=\"72.55518211037166%\" y=\"71\" font-size=\"12px\" id=\"_fs_uagxreizcfavxjsaonwd_ind_0\" fill=\"rgb(255.0, 0.0, 81.08083606031792)\" style=\"opacity: 0\" dominant-baseline=\"middle\" text-anchor=\"middle\">0.256</text><svg x=\"59.76331342839411%\" y=\"40\" height=\"20\" width=\"25.583737363955095%\">  <svg x=\"0\" y=\"0\" width=\"100%\" height=\"100%\">    <text x=\"50%\" y=\"9\" font-size=\"12px\" fill=\"rgb(255,255,255)\" dominant-baseline=\"middle\" text-anchor=\"middle\"></text>  </svg></svg><line x1=\"40.817514976999334%\" x2=\"59.76331342839411%\" y1=\"60\" y2=\"60\" id=\"_fb_uagxreizcfavxjsaonwd_ind_2\" style=\"stroke:rgb(255.0, 0.0, 81.08083606031792);stroke-width:2; opacity: 0\"/><text x=\"50.290414202696724%\" y=\"71\" font-size=\"12px\" id=\"_fs_uagxreizcfavxjsaonwd_ind_2\" fill=\"rgb(255.0, 0.0, 81.08083606031792)\" style=\"opacity: 0\" dominant-baseline=\"middle\" text-anchor=\"middle\">0.19</text><svg x=\"40.817514976999334%\" y=\"40\" height=\"20\" width=\"18.94579845139478%\">  <svg x=\"0\" y=\"0\" width=\"100%\" height=\"100%\">    <text x=\"50%\" y=\"9\" font-size=\"12px\" fill=\"rgb(255,255,255)\" dominant-baseline=\"middle\" text-anchor=\"middle\">love</text>  </svg></svg><line x1=\"22.49817112550837%\" x2=\"40.817514976999334%\" y1=\"60\" y2=\"60\" id=\"_fb_uagxreizcfavxjsaonwd_ind_5\" style=\"stroke:rgb(255.0, 0.0, 81.08083606031792);stroke-width:2; opacity: 0\"/><text x=\"31.657843051253852%\" y=\"71\" font-size=\"12px\" id=\"_fs_uagxreizcfavxjsaonwd_ind_5\" fill=\"rgb(255.0, 0.0, 81.08083606031792)\" style=\"opacity: 0\" dominant-baseline=\"middle\" text-anchor=\"middle\">0.183</text><svg x=\"22.49817112550837%\" y=\"40\" height=\"20\" width=\"18.319343851490963%\">  <svg x=\"0\" y=\"0\" width=\"100%\" height=\"100%\">    <text x=\"50%\" y=\"9\" font-size=\"12px\" fill=\"rgb(255,255,255)\" dominant-baseline=\"middle\" text-anchor=\"middle\">!</text>  </svg></svg><line x1=\"12.924174081581668%\" x2=\"22.49817112550837%\" y1=\"60\" y2=\"60\" id=\"_fb_uagxreizcfavxjsaonwd_ind_1\" style=\"stroke:rgb(255.0, 0.0, 81.08083606031792);stroke-width:2; opacity: 0\"/><text x=\"17.71117260354502%\" y=\"71\" font-size=\"12px\" id=\"_fs_uagxreizcfavxjsaonwd_ind_1\" fill=\"rgb(255.0, 0.0, 81.08083606031792)\" style=\"opacity: 0\" dominant-baseline=\"middle\" text-anchor=\"middle\">0.096</text><svg x=\"12.924174081581668%\" y=\"40\" height=\"20\" width=\"9.573997043926703%\">  <svg x=\"0\" y=\"0\" width=\"100%\" height=\"100%\">    <text x=\"50%\" y=\"9\" font-size=\"12px\" fill=\"rgb(255,255,255)\" dominant-baseline=\"middle\" text-anchor=\"middle\">I</text>  </svg></svg><line x1=\"8.372916684547137%\" x2=\"12.924174081581668%\" y1=\"60\" y2=\"60\" id=\"_fb_uagxreizcfavxjsaonwd_ind_3\" style=\"stroke:rgb(255.0, 0.0, 81.08083606031792);stroke-width:2; opacity: 0\"/><text x=\"10.648545383064402%\" y=\"71\" font-size=\"12px\" id=\"_fs_uagxreizcfavxjsaonwd_ind_3\" fill=\"rgb(255.0, 0.0, 81.08083606031792)\" style=\"opacity: 0\" dominant-baseline=\"middle\" text-anchor=\"middle\">0.046</text><svg x=\"8.372916684547137%\" y=\"40\" height=\"20\" width=\"4.551257397034531%\">  <svg x=\"0\" y=\"0\" width=\"100%\" height=\"100%\">    <text x=\"50%\" y=\"9\" font-size=\"12px\" fill=\"rgb(255,255,255)\" dominant-baseline=\"middle\" text-anchor=\"middle\">playing</text>  </svg></svg><line x1=\"8.333333250075833%\" x2=\"8.372916684547137%\" y1=\"60\" y2=\"60\" id=\"_fb_uagxreizcfavxjsaonwd_ind_4\" style=\"stroke:rgb(255.0, 0.0, 81.08083606031792);stroke-width:2; opacity: 0\"/><text x=\"8.353124967311485%\" y=\"71\" font-size=\"12px\" id=\"_fs_uagxreizcfavxjsaonwd_ind_4\" fill=\"rgb(255.0, 0.0, 81.08083606031792)\" style=\"opacity: 0\" dominant-baseline=\"middle\" text-anchor=\"middle\">0.0</text><svg x=\"8.333333250075833%\" y=\"40\" height=\"20\" width=\"0.03958343447130375%\">  <svg x=\"0\" y=\"0\" width=\"100%\" height=\"100%\">    <text x=\"50%\" y=\"9\" font-size=\"12px\" fill=\"rgb(255,255,255)\" dominant-baseline=\"middle\" text-anchor=\"middle\">cricket</text>  </svg></svg><g transform=\"translate(0,0)\">  <svg x=\"59.76331342839411%\" y=\"40\" height=\"18\" overflow=\"visible\" width=\"30\">    <path d=\"M 0 -9 l 6 18 L 0 25\" fill=\"none\" style=\"stroke:rgb(255.0, 0.0, 81.08083606031792);stroke-width:2\" />  </svg></g><g transform=\"translate(2,0)\">  <svg x=\"59.76331342839411%\" y=\"40\" height=\"18\" overflow=\"visible\" width=\"30\">    <path d=\"M 0 -9 l 6 18 L 0 25\" fill=\"none\" style=\"stroke:rgb(255.0, 0.0, 81.08083606031792);stroke-width:2\" />  </svg></g><g transform=\"translate(4,0)\">  <svg x=\"59.76331342839411%\" y=\"40\" height=\"18\" overflow=\"visible\" width=\"30\">    <path d=\"M 0 -9 l 6 18 L 0 25\" fill=\"none\" style=\"stroke:rgb(255.0, 0.0, 81.08083606031792);stroke-width:2\" />  </svg></g><g transform=\"translate(6,0)\">  <svg x=\"59.76331342839411%\" y=\"40\" height=\"18\" overflow=\"visible\" width=\"30\">    <path d=\"M 0 -9 l 6 18 L 0 25\" fill=\"none\" style=\"stroke:rgb(255.0, 0.0, 81.08083606031792);stroke-width:2\" />  </svg></g><g transform=\"translate(-8,0)\">  <svg x=\"59.76331342839411%\" y=\"40\" height=\"18\" overflow=\"visible\" width=\"30\">    <path d=\"M 0 -9 l 6 18 L 0 25\" fill=\"none\" style=\"stroke:rgb(255.0, 0.0, 81.08083606031792);stroke-width:2\" />  </svg></g><g transform=\"translate(-6,0)\">  <svg x=\"59.76331342839411%\" y=\"40\" height=\"18\" overflow=\"visible\" width=\"30\">    <path d=\"M 0 -9 l 6 18 L 0 25\" fill=\"none\" style=\"stroke:rgb(255.0, 0.0, 81.08083606031792);stroke-width:2\" />  </svg></g><g transform=\"translate(-4,0)\">  <svg x=\"59.76331342839411%\" y=\"40\" height=\"18\" overflow=\"visible\" width=\"30\">    <path d=\"M 0 -9 l 6 18 L 0 25\" fill=\"none\" style=\"stroke:rgb(255.0, 0.0, 81.08083606031792);stroke-width:2\" />  </svg></g><g transform=\"translate(-2,0)\">  <svg x=\"59.76331342839411%\" y=\"40\" height=\"18\" overflow=\"visible\" width=\"30\">    <path d=\"M 0 -9 l 6 18 L 0 25\" fill=\"none\" style=\"stroke:rgb(255.0, 0.0, 81.08083606031792);stroke-width:2\" />  </svg></g><g transform=\"translate(0,0)\">  <svg x=\"40.817514976999334%\" y=\"40\" height=\"18\" overflow=\"visible\" width=\"30\">    <path d=\"M 0 -9 l 6 18 L 0 25\" fill=\"none\" style=\"stroke:rgb(255.0, 0.0, 81.08083606031792);stroke-width:2\" />  </svg></g><g transform=\"translate(2,0)\">  <svg x=\"40.817514976999334%\" y=\"40\" height=\"18\" overflow=\"visible\" width=\"30\">    <path d=\"M 0 -9 l 6 18 L 0 25\" fill=\"none\" style=\"stroke:rgb(255.0, 0.0, 81.08083606031792);stroke-width:2\" />  </svg></g><g transform=\"translate(4,0)\">  <svg x=\"40.817514976999334%\" y=\"40\" height=\"18\" overflow=\"visible\" width=\"30\">    <path d=\"M 0 -9 l 6 18 L 0 25\" fill=\"none\" style=\"stroke:rgb(255.0, 0.0, 81.08083606031792);stroke-width:2\" />  </svg></g><g transform=\"translate(6,0)\">  <svg x=\"40.817514976999334%\" y=\"40\" height=\"18\" overflow=\"visible\" width=\"30\">    <path d=\"M 0 -9 l 6 18 L 0 25\" fill=\"none\" style=\"stroke:rgb(255.0, 0.0, 81.08083606031792);stroke-width:2\" />  </svg></g><g transform=\"translate(-8,0)\">  <svg x=\"40.817514976999334%\" y=\"40\" height=\"18\" overflow=\"visible\" width=\"30\">    <path d=\"M 0 -9 l 6 18 L 0 25\" fill=\"none\" style=\"stroke:rgb(255.0, 0.0, 81.08083606031792);stroke-width:2\" />  </svg></g><g transform=\"translate(-6,0)\">  <svg x=\"40.817514976999334%\" y=\"40\" height=\"18\" overflow=\"visible\" width=\"30\">    <path d=\"M 0 -9 l 6 18 L 0 25\" fill=\"none\" style=\"stroke:rgb(255.0, 0.0, 81.08083606031792);stroke-width:2\" />  </svg></g><g transform=\"translate(-4,0)\">  <svg x=\"40.817514976999334%\" y=\"40\" height=\"18\" overflow=\"visible\" width=\"30\">    <path d=\"M 0 -9 l 6 18 L 0 25\" fill=\"none\" style=\"stroke:rgb(255.0, 0.0, 81.08083606031792);stroke-width:2\" />  </svg></g><g transform=\"translate(-2,0)\">  <svg x=\"40.817514976999334%\" y=\"40\" height=\"18\" overflow=\"visible\" width=\"30\">    <path d=\"M 0 -9 l 6 18 L 0 25\" fill=\"none\" style=\"stroke:rgb(255.0, 0.0, 81.08083606031792);stroke-width:2\" />  </svg></g><g transform=\"translate(0,0)\">  <svg x=\"22.49817112550837%\" y=\"40\" height=\"18\" overflow=\"visible\" width=\"30\">    <path d=\"M 0 -9 l 6 18 L 0 25\" fill=\"none\" style=\"stroke:rgb(255.0, 0.0, 81.08083606031792);stroke-width:2\" />  </svg></g><g transform=\"translate(2,0)\">  <svg x=\"22.49817112550837%\" y=\"40\" height=\"18\" overflow=\"visible\" width=\"30\">    <path d=\"M 0 -9 l 6 18 L 0 25\" fill=\"none\" style=\"stroke:rgb(255.0, 0.0, 81.08083606031792);stroke-width:2\" />  </svg></g><g transform=\"translate(4,0)\">  <svg x=\"22.49817112550837%\" y=\"40\" height=\"18\" overflow=\"visible\" width=\"30\">    <path d=\"M 0 -9 l 6 18 L 0 25\" fill=\"none\" style=\"stroke:rgb(255.0, 0.0, 81.08083606031792);stroke-width:2\" />  </svg></g><g transform=\"translate(6,0)\">  <svg x=\"22.49817112550837%\" y=\"40\" height=\"18\" overflow=\"visible\" width=\"30\">    <path d=\"M 0 -9 l 6 18 L 0 25\" fill=\"none\" style=\"stroke:rgb(255.0, 0.0, 81.08083606031792);stroke-width:2\" />  </svg></g><g transform=\"translate(-8,0)\">  <svg x=\"22.49817112550837%\" y=\"40\" height=\"18\" overflow=\"visible\" width=\"30\">    <path d=\"M 0 -9 l 6 18 L 0 25\" fill=\"none\" style=\"stroke:rgb(255.0, 0.0, 81.08083606031792);stroke-width:2\" />  </svg></g><g transform=\"translate(-6,0)\">  <svg x=\"22.49817112550837%\" y=\"40\" height=\"18\" overflow=\"visible\" width=\"30\">    <path d=\"M 0 -9 l 6 18 L 0 25\" fill=\"none\" style=\"stroke:rgb(255.0, 0.0, 81.08083606031792);stroke-width:2\" />  </svg></g><g transform=\"translate(-4,0)\">  <svg x=\"22.49817112550837%\" y=\"40\" height=\"18\" overflow=\"visible\" width=\"30\">    <path d=\"M 0 -9 l 6 18 L 0 25\" fill=\"none\" style=\"stroke:rgb(255.0, 0.0, 81.08083606031792);stroke-width:2\" />  </svg></g><g transform=\"translate(-2,0)\">  <svg x=\"22.49817112550837%\" y=\"40\" height=\"18\" overflow=\"visible\" width=\"30\">    <path d=\"M 0 -9 l 6 18 L 0 25\" fill=\"none\" style=\"stroke:rgb(255.0, 0.0, 81.08083606031792);stroke-width:2\" />  </svg></g><g transform=\"translate(0,0)\">  <svg x=\"12.924174081581668%\" y=\"40\" height=\"18\" overflow=\"visible\" width=\"30\">    <path d=\"M 0 -9 l 6 18 L 0 25\" fill=\"none\" style=\"stroke:rgb(255.0, 0.0, 81.08083606031792);stroke-width:2\" />  </svg></g><g transform=\"translate(2,0)\">  <svg x=\"12.924174081581668%\" y=\"40\" height=\"18\" overflow=\"visible\" width=\"30\">    <path d=\"M 0 -9 l 6 18 L 0 25\" fill=\"none\" style=\"stroke:rgb(255.0, 0.0, 81.08083606031792);stroke-width:2\" />  </svg></g><g transform=\"translate(4,0)\">  <svg x=\"12.924174081581668%\" y=\"40\" height=\"18\" overflow=\"visible\" width=\"30\">    <path d=\"M 0 -9 l 6 18 L 0 25\" fill=\"none\" style=\"stroke:rgb(255.0, 0.0, 81.08083606031792);stroke-width:2\" />  </svg></g><g transform=\"translate(6,0)\">  <svg x=\"12.924174081581668%\" y=\"40\" height=\"18\" overflow=\"visible\" width=\"30\">    <path d=\"M 0 -9 l 6 18 L 0 25\" fill=\"none\" style=\"stroke:rgb(255.0, 0.0, 81.08083606031792);stroke-width:2\" />  </svg></g><g transform=\"translate(-8,0)\">  <svg x=\"12.924174081581668%\" y=\"40\" height=\"18\" overflow=\"visible\" width=\"30\">    <path d=\"M 0 -9 l 6 18 L 0 25\" fill=\"none\" style=\"stroke:rgb(255.0, 0.0, 81.08083606031792);stroke-width:2\" />  </svg></g><g transform=\"translate(-6,0)\">  <svg x=\"12.924174081581668%\" y=\"40\" height=\"18\" overflow=\"visible\" width=\"30\">    <path d=\"M 0 -9 l 6 18 L 0 25\" fill=\"none\" style=\"stroke:rgb(255.0, 0.0, 81.08083606031792);stroke-width:2\" />  </svg></g><g transform=\"translate(-4,0)\">  <svg x=\"12.924174081581668%\" y=\"40\" height=\"18\" overflow=\"visible\" width=\"30\">    <path d=\"M 0 -9 l 6 18 L 0 25\" fill=\"none\" style=\"stroke:rgb(255.0, 0.0, 81.08083606031792);stroke-width:2\" />  </svg></g><g transform=\"translate(-2,0)\">  <svg x=\"12.924174081581668%\" y=\"40\" height=\"18\" overflow=\"visible\" width=\"30\">    <path d=\"M 0 -9 l 6 18 L 0 25\" fill=\"none\" style=\"stroke:rgb(255.0, 0.0, 81.08083606031792);stroke-width:2\" />  </svg></g><g transform=\"translate(0,0)\">  <svg x=\"8.372916684547137%\" y=\"40\" height=\"18\" overflow=\"visible\" width=\"30\">    <path d=\"M 0 -9 l 6 18 L 0 25\" fill=\"none\" style=\"stroke:rgb(255.0, 0.0, 81.08083606031792);stroke-width:2\" />  </svg></g><g transform=\"translate(2,0)\">  <svg x=\"8.372916684547137%\" y=\"40\" height=\"18\" overflow=\"visible\" width=\"30\">    <path d=\"M 0 -9 l 6 18 L 0 25\" fill=\"none\" style=\"stroke:rgb(255.0, 0.0, 81.08083606031792);stroke-width:2\" />  </svg></g><g transform=\"translate(4,0)\">  <svg x=\"8.372916684547137%\" y=\"40\" height=\"18\" overflow=\"visible\" width=\"30\">    <path d=\"M 0 -9 l 6 18 L 0 25\" fill=\"none\" style=\"stroke:rgb(255.0, 0.0, 81.08083606031792);stroke-width:2\" />  </svg></g><g transform=\"translate(6,0)\">  <svg x=\"8.372916684547137%\" y=\"40\" height=\"18\" overflow=\"visible\" width=\"30\">    <path d=\"M 0 -9 l 6 18 L 0 25\" fill=\"none\" style=\"stroke:rgb(255.0, 0.0, 81.08083606031792);stroke-width:2\" />  </svg></g><g transform=\"translate(-8,0)\">  <svg x=\"8.372916684547137%\" y=\"40\" height=\"18\" overflow=\"visible\" width=\"30\">    <path d=\"M 0 -9 l 6 18 L 0 25\" fill=\"none\" style=\"stroke:rgb(255.0, 0.0, 81.08083606031792);stroke-width:2\" />  </svg></g><g transform=\"translate(-6,0)\">  <svg x=\"8.372916684547137%\" y=\"40\" height=\"18\" overflow=\"visible\" width=\"30\">    <path d=\"M 0 -9 l 6 18 L 0 25\" fill=\"none\" style=\"stroke:rgb(255.0, 0.0, 81.08083606031792);stroke-width:2\" />  </svg></g><g transform=\"translate(-4,0)\">  <svg x=\"8.372916684547137%\" y=\"40\" height=\"18\" overflow=\"visible\" width=\"30\">    <path d=\"M 0 -9 l 6 18 L 0 25\" fill=\"none\" style=\"stroke:rgb(255.0, 0.0, 81.08083606031792);stroke-width:2\" />  </svg></g><g transform=\"translate(-2,0)\">  <svg x=\"8.372916684547137%\" y=\"40\" height=\"18\" overflow=\"visible\" width=\"30\">    <path d=\"M 0 -9 l 6 18 L 0 25\" fill=\"none\" style=\"stroke:rgb(255.0, 0.0, 81.08083606031792);stroke-width:2\" />  </svg></g><rect transform=\"translate(-8,0)\" x=\"85.34705079234921%\" y=\"40\" width=\"8\" height=\"18\" style=\"fill:rgb(255.0, 0.0, 81.08083606031792)\"/><g transform=\"translate(-11.5,0)\">  <svg x=\"8.333333250075833%\" y=\"40\" height=\"18\" overflow=\"visible\" width=\"30\">    <path d=\"M 10 -9 l 6 18 L 10 25 L 0 25 L 0 -9\" fill=\"#ffffff\" style=\"stroke:rgb(255,255,255);stroke-width:2\" />  </svg></g><g transform=\"translate(-1.5,0)\">  <svg x=\"85.34705079234921%\" y=\"40\" height=\"18\" overflow=\"visible\" width=\"30\">    <path d=\"M 0 -9 l 6 18 L 0 25\" fill=\"none\" style=\"stroke:rgb(255, 195, 213);stroke-width:2\" />  </svg></g><rect x=\"59.76331342839411%\" y=\"40\" height=\"20\" width=\"25.583737363955095%\"      onmouseover=\"document.getElementById('_tp_uagxreizcfavxjsaonwd_ind_0').style.textDecoration = 'underline';document.getElementById('_fs_uagxreizcfavxjsaonwd_ind_0').style.opacity = 1;document.getElementById('_fb_uagxreizcfavxjsaonwd_ind_0').style.opacity = 1;\"      onmouseout=\"document.getElementById('_tp_uagxreizcfavxjsaonwd_ind_0').style.textDecoration = 'none';document.getElementById('_fs_uagxreizcfavxjsaonwd_ind_0').style.opacity = 0;document.getElementById('_fb_uagxreizcfavxjsaonwd_ind_0').style.opacity = 0;\" style=\"fill:rgb(0,0,0,0)\" /><g transform=\"translate(-1.5,0)\">  <svg x=\"59.76331342839411%\" y=\"40\" height=\"18\" overflow=\"visible\" width=\"30\">    <path d=\"M 0 -9 l 6 18 L 0 25\" fill=\"none\" style=\"stroke:rgb(255, 195, 213);stroke-width:2\" />  </svg></g><rect x=\"40.817514976999334%\" y=\"40\" height=\"20\" width=\"18.94579845139478%\"      onmouseover=\"document.getElementById('_tp_uagxreizcfavxjsaonwd_ind_2').style.textDecoration = 'underline';document.getElementById('_fs_uagxreizcfavxjsaonwd_ind_2').style.opacity = 1;document.getElementById('_fb_uagxreizcfavxjsaonwd_ind_2').style.opacity = 1;\"      onmouseout=\"document.getElementById('_tp_uagxreizcfavxjsaonwd_ind_2').style.textDecoration = 'none';document.getElementById('_fs_uagxreizcfavxjsaonwd_ind_2').style.opacity = 0;document.getElementById('_fb_uagxreizcfavxjsaonwd_ind_2').style.opacity = 0;\" style=\"fill:rgb(0,0,0,0)\" /><g transform=\"translate(-1.5,0)\">  <svg x=\"40.817514976999334%\" y=\"40\" height=\"18\" overflow=\"visible\" width=\"30\">    <path d=\"M 0 -9 l 6 18 L 0 25\" fill=\"none\" style=\"stroke:rgb(255, 195, 213);stroke-width:2\" />  </svg></g><rect x=\"22.49817112550837%\" y=\"40\" height=\"20\" width=\"18.319343851490963%\"      onmouseover=\"document.getElementById('_tp_uagxreizcfavxjsaonwd_ind_5').style.textDecoration = 'underline';document.getElementById('_fs_uagxreizcfavxjsaonwd_ind_5').style.opacity = 1;document.getElementById('_fb_uagxreizcfavxjsaonwd_ind_5').style.opacity = 1;\"      onmouseout=\"document.getElementById('_tp_uagxreizcfavxjsaonwd_ind_5').style.textDecoration = 'none';document.getElementById('_fs_uagxreizcfavxjsaonwd_ind_5').style.opacity = 0;document.getElementById('_fb_uagxreizcfavxjsaonwd_ind_5').style.opacity = 0;\" style=\"fill:rgb(0,0,0,0)\" /><g transform=\"translate(-1.5,0)\">  <svg x=\"22.49817112550837%\" y=\"40\" height=\"18\" overflow=\"visible\" width=\"30\">    <path d=\"M 0 -9 l 6 18 L 0 25\" fill=\"none\" style=\"stroke:rgb(255, 195, 213);stroke-width:2\" />  </svg></g><rect x=\"12.924174081581668%\" y=\"40\" height=\"20\" width=\"9.573997043926703%\"      onmouseover=\"document.getElementById('_tp_uagxreizcfavxjsaonwd_ind_1').style.textDecoration = 'underline';document.getElementById('_fs_uagxreizcfavxjsaonwd_ind_1').style.opacity = 1;document.getElementById('_fb_uagxreizcfavxjsaonwd_ind_1').style.opacity = 1;\"      onmouseout=\"document.getElementById('_tp_uagxreizcfavxjsaonwd_ind_1').style.textDecoration = 'none';document.getElementById('_fs_uagxreizcfavxjsaonwd_ind_1').style.opacity = 0;document.getElementById('_fb_uagxreizcfavxjsaonwd_ind_1').style.opacity = 0;\" style=\"fill:rgb(0,0,0,0)\" /><g transform=\"translate(-1.5,0)\">  <svg x=\"12.924174081581668%\" y=\"40\" height=\"18\" overflow=\"visible\" width=\"30\">    <path d=\"M 0 -9 l 6 18 L 0 25\" fill=\"none\" style=\"stroke:rgb(255, 195, 213);stroke-width:2\" />  </svg></g><rect x=\"8.372916684547137%\" y=\"40\" height=\"20\" width=\"4.551257397034531%\"      onmouseover=\"document.getElementById('_tp_uagxreizcfavxjsaonwd_ind_3').style.textDecoration = 'underline';document.getElementById('_fs_uagxreizcfavxjsaonwd_ind_3').style.opacity = 1;document.getElementById('_fb_uagxreizcfavxjsaonwd_ind_3').style.opacity = 1;\"      onmouseout=\"document.getElementById('_tp_uagxreizcfavxjsaonwd_ind_3').style.textDecoration = 'none';document.getElementById('_fs_uagxreizcfavxjsaonwd_ind_3').style.opacity = 0;document.getElementById('_fb_uagxreizcfavxjsaonwd_ind_3').style.opacity = 0;\" style=\"fill:rgb(0,0,0,0)\" /><rect x=\"8.333333250075833%\" y=\"40\" height=\"20\" width=\"0.03958343447130375%\"      onmouseover=\"document.getElementById('_tp_uagxreizcfavxjsaonwd_ind_4').style.textDecoration = 'underline';document.getElementById('_fs_uagxreizcfavxjsaonwd_ind_4').style.opacity = 1;document.getElementById('_fb_uagxreizcfavxjsaonwd_ind_4').style.opacity = 1;\"      onmouseout=\"document.getElementById('_tp_uagxreizcfavxjsaonwd_ind_4').style.textDecoration = 'none';document.getElementById('_fs_uagxreizcfavxjsaonwd_ind_4').style.opacity = 0;document.getElementById('_fb_uagxreizcfavxjsaonwd_ind_4').style.opacity = 0;\" style=\"fill:rgb(0,0,0,0)\" /><rect x=\"85.34705079234921%\" width=\"6.3196149584849435%\" y=\"40\" height=\"18\" style=\"fill:rgb(0.0, 138.56128015770727, 250.76166088685727); stroke-width:0; stroke:rgb(0,0,0)\" /><line x1=\"85.34705079234921%\" x2=\"91.66666575083414%\" y1=\"60\" y2=\"60\" id=\"_fb_uagxreizcfavxjsaonwd_ind_6\" style=\"stroke:rgb(0.0, 138.56128015770727, 250.76166088685727);stroke-width:2; opacity: 0\"/><text x=\"88.50685827159168%\" y=\"71\" font-size=\"12px\" fill=\"rgb(0.0, 138.56128015770727, 250.76166088685727)\" id=\"_fs_uagxreizcfavxjsaonwd_ind_6\" style=\"opacity: 0\" dominant-baseline=\"middle\" text-anchor=\"middle\">-0.063</text><svg x=\"85.34705079234921%\" y=\"40\" height=\"20\" width=\"6.319614958484934%\">  <svg x=\"0\" y=\"0\" width=\"100%\" height=\"100%\">    <text x=\"50%\" y=\"9\" font-size=\"12px\" fill=\"rgb(255,255,255)\" dominant-baseline=\"middle\" text-anchor=\"middle\"></text>  </svg></svg><rect transform=\"translate(0,0)\" x=\"85.34705079234921%\" y=\"40\" width=\"8\" height=\"18\" style=\"fill:rgb(0.0, 138.56128015770727, 250.76166088685727)\"/><g transform=\"translate(-6.0,0)\">  <svg x=\"91.66666575083414%\" y=\"40\" height=\"18\" overflow=\"visible\" width=\"30\">    <path d=\"M 8 -9 l -6 18 L 8 25 L 20 25 L 20 -9\" fill=\"#ffffff\" style=\"stroke:rgb(255,255,255);stroke-width:2\" />  </svg></g><rect x=\"85.34705079234921%\" y=\"40\" height=\"20\" width=\"6.319614958484934%\"      onmouseover=\"document.getElementById('_tp_uagxreizcfavxjsaonwd_ind_6').style.textDecoration = 'underline';document.getElementById('_fs_uagxreizcfavxjsaonwd_ind_6').style.opacity = 1;document.getElementById('_fb_uagxreizcfavxjsaonwd_ind_6').style.opacity = 1;\"      onmouseout=\"document.getElementById('_tp_uagxreizcfavxjsaonwd_ind_6').style.textDecoration = 'none';document.getElementById('_fs_uagxreizcfavxjsaonwd_ind_6').style.opacity = 0;document.getElementById('_fb_uagxreizcfavxjsaonwd_ind_6').style.opacity = 0;\" style=\"fill:rgb(0,0,0,0)\" /></svg><div align='center'><div style=\"color: rgb(120,120,120); font-size: 12px; margin-top: -15px;\">inputs</div><div style='display: inline; text-align: center;'\n",
       "    ><div style='display: none; color: #999; padding-top: 0px; font-size: 12px;'>0.256</div\n",
       "        ><div id='_tp_uagxreizcfavxjsaonwd_ind_0'\n",
       "            style='display: inline; background: rgba(255.0, 13.0, 87.0, 1.0); border-radius: 3px; padding: 0px'\n",
       "            onclick=\"\n",
       "            if (this.previousSibling.style.display == 'none') {\n",
       "                this.previousSibling.style.display = 'block';\n",
       "                this.parentNode.style.display = 'inline-block';\n",
       "            } else {\n",
       "                this.previousSibling.style.display = 'none';\n",
       "                this.parentNode.style.display = 'inline';\n",
       "            }\"\n",
       "            onmouseover=\"document.getElementById('_fb_uagxreizcfavxjsaonwd_ind_0').style.opacity = 1; document.getElementById('_fs_uagxreizcfavxjsaonwd_ind_0').style.opacity = 1;\"\n",
       "            onmouseout=\"document.getElementById('_fb_uagxreizcfavxjsaonwd_ind_0').style.opacity = 0; document.getElementById('_fs_uagxreizcfavxjsaonwd_ind_0').style.opacity = 0;\"\n",
       "        ></div></div><div style='display: inline; text-align: center;'\n",
       "    ><div style='display: none; color: #999; padding-top: 0px; font-size: 12px;'>0.096</div\n",
       "        ><div id='_tp_uagxreizcfavxjsaonwd_ind_1'\n",
       "            style='display: inline; background: rgba(255.0, 13.0, 87.0, 0.3693800752624282); border-radius: 3px; padding: 0px'\n",
       "            onclick=\"\n",
       "            if (this.previousSibling.style.display == 'none') {\n",
       "                this.previousSibling.style.display = 'block';\n",
       "                this.parentNode.style.display = 'inline-block';\n",
       "            } else {\n",
       "                this.previousSibling.style.display = 'none';\n",
       "                this.parentNode.style.display = 'inline';\n",
       "            }\"\n",
       "            onmouseover=\"document.getElementById('_fb_uagxreizcfavxjsaonwd_ind_1').style.opacity = 1; document.getElementById('_fs_uagxreizcfavxjsaonwd_ind_1').style.opacity = 1;\"\n",
       "            onmouseout=\"document.getElementById('_fb_uagxreizcfavxjsaonwd_ind_1').style.opacity = 0; document.getElementById('_fs_uagxreizcfavxjsaonwd_ind_1').style.opacity = 0;\"\n",
       "        >I </div></div><div style='display: inline; text-align: center;'\n",
       "    ><div style='display: none; color: #999; padding-top: 0px; font-size: 12px;'>0.19</div\n",
       "        ><div id='_tp_uagxreizcfavxjsaonwd_ind_2'\n",
       "            style='display: inline; background: rgba(255.0, 13.0, 87.0, 0.7398692810457518); border-radius: 3px; padding: 0px'\n",
       "            onclick=\"\n",
       "            if (this.previousSibling.style.display == 'none') {\n",
       "                this.previousSibling.style.display = 'block';\n",
       "                this.parentNode.style.display = 'inline-block';\n",
       "            } else {\n",
       "                this.previousSibling.style.display = 'none';\n",
       "                this.parentNode.style.display = 'inline';\n",
       "            }\"\n",
       "            onmouseover=\"document.getElementById('_fb_uagxreizcfavxjsaonwd_ind_2').style.opacity = 1; document.getElementById('_fs_uagxreizcfavxjsaonwd_ind_2').style.opacity = 1;\"\n",
       "            onmouseout=\"document.getElementById('_fb_uagxreizcfavxjsaonwd_ind_2').style.opacity = 0; document.getElementById('_fs_uagxreizcfavxjsaonwd_ind_2').style.opacity = 0;\"\n",
       "        >love </div></div><div style='display: inline; text-align: center;'\n",
       "    ><div style='display: none; color: #999; padding-top: 0px; font-size: 12px;'>0.046</div\n",
       "        ><div id='_tp_uagxreizcfavxjsaonwd_ind_3'\n",
       "            style='display: inline; background: rgba(255.0, 13.0, 87.0, 0.17231134878193693); border-radius: 3px; padding: 0px'\n",
       "            onclick=\"\n",
       "            if (this.previousSibling.style.display == 'none') {\n",
       "                this.previousSibling.style.display = 'block';\n",
       "                this.parentNode.style.display = 'inline-block';\n",
       "            } else {\n",
       "                this.previousSibling.style.display = 'none';\n",
       "                this.parentNode.style.display = 'inline';\n",
       "            }\"\n",
       "            onmouseover=\"document.getElementById('_fb_uagxreizcfavxjsaonwd_ind_3').style.opacity = 1; document.getElementById('_fs_uagxreizcfavxjsaonwd_ind_3').style.opacity = 1;\"\n",
       "            onmouseout=\"document.getElementById('_fb_uagxreizcfavxjsaonwd_ind_3').style.opacity = 0; document.getElementById('_fs_uagxreizcfavxjsaonwd_ind_3').style.opacity = 0;\"\n",
       "        >playing </div></div><div style='display: inline; text-align: center;'\n",
       "    ><div style='display: none; color: #999; padding-top: 0px; font-size: 12px;'>0.0</div\n",
       "        ><div id='_tp_uagxreizcfavxjsaonwd_ind_4'\n",
       "            style='display: inline; background: rgba(230.2941176470614, 26.505882352939775, 102.59215686274348, 0.0); border-radius: 3px; padding: 0px'\n",
       "            onclick=\"\n",
       "            if (this.previousSibling.style.display == 'none') {\n",
       "                this.previousSibling.style.display = 'block';\n",
       "                this.parentNode.style.display = 'inline-block';\n",
       "            } else {\n",
       "                this.previousSibling.style.display = 'none';\n",
       "                this.parentNode.style.display = 'inline';\n",
       "            }\"\n",
       "            onmouseover=\"document.getElementById('_fb_uagxreizcfavxjsaonwd_ind_4').style.opacity = 1; document.getElementById('_fs_uagxreizcfavxjsaonwd_ind_4').style.opacity = 1;\"\n",
       "            onmouseout=\"document.getElementById('_fb_uagxreizcfavxjsaonwd_ind_4').style.opacity = 0; document.getElementById('_fs_uagxreizcfavxjsaonwd_ind_4').style.opacity = 0;\"\n",
       "        >cricket</div></div><div style='display: inline; text-align: center;'\n",
       "    ><div style='display: none; color: #999; padding-top: 0px; font-size: 12px;'>0.183</div\n",
       "        ><div id='_tp_uagxreizcfavxjsaonwd_ind_5'\n",
       "            style='display: inline; background: rgba(255.0, 13.0, 87.0, 0.7162210338680925); border-radius: 3px; padding: 0px'\n",
       "            onclick=\"\n",
       "            if (this.previousSibling.style.display == 'none') {\n",
       "                this.previousSibling.style.display = 'block';\n",
       "                this.parentNode.style.display = 'inline-block';\n",
       "            } else {\n",
       "                this.previousSibling.style.display = 'none';\n",
       "                this.parentNode.style.display = 'inline';\n",
       "            }\"\n",
       "            onmouseover=\"document.getElementById('_fb_uagxreizcfavxjsaonwd_ind_5').style.opacity = 1; document.getElementById('_fs_uagxreizcfavxjsaonwd_ind_5').style.opacity = 1;\"\n",
       "            onmouseout=\"document.getElementById('_fb_uagxreizcfavxjsaonwd_ind_5').style.opacity = 0; document.getElementById('_fs_uagxreizcfavxjsaonwd_ind_5').style.opacity = 0;\"\n",
       "        >!</div></div><div style='display: inline; text-align: center;'\n",
       "    ><div style='display: none; color: #999; padding-top: 0px; font-size: 12px;'>-0.063</div\n",
       "        ><div id='_tp_uagxreizcfavxjsaonwd_ind_6'\n",
       "            style='display: inline; background: rgba(30.0, 136.0, 229.0, 0.2432560903149138); border-radius: 3px; padding: 0px'\n",
       "            onclick=\"\n",
       "            if (this.previousSibling.style.display == 'none') {\n",
       "                this.previousSibling.style.display = 'block';\n",
       "                this.parentNode.style.display = 'inline-block';\n",
       "            } else {\n",
       "                this.previousSibling.style.display = 'none';\n",
       "                this.parentNode.style.display = 'inline';\n",
       "            }\"\n",
       "            onmouseover=\"document.getElementById('_fb_uagxreizcfavxjsaonwd_ind_6').style.opacity = 1; document.getElementById('_fs_uagxreizcfavxjsaonwd_ind_6').style.opacity = 1;\"\n",
       "            onmouseout=\"document.getElementById('_fb_uagxreizcfavxjsaonwd_ind_6').style.opacity = 0; document.getElementById('_fs_uagxreizcfavxjsaonwd_ind_6').style.opacity = 0;\"\n",
       "        ></div></div></div></div><div id='_tp_szfavpcfcpvrrnoqkiiw_output_2' style='display: none';><svg width=\"100%\" height=\"80px\"><line x1=\"0\" y1=\"33\" x2=\"100%\" y2=\"33\" style=\"stroke:rgb(150,150,150);stroke-width:1\" /><line x1=\"51.009200835312164%\" y1=\"33\" x2=\"51.009200835312164%\" y2=\"37\" style=\"stroke:rgb(150,150,150);stroke-width:1\" /><text x=\"51.009200835312164%\" y=\"27\" font-size=\"12px\" fill=\"rgb(120,120,120)\" dominant-baseline=\"bottom\" text-anchor=\"middle\">0.4</text><line x1=\"34.13779156135272%\" y1=\"33\" x2=\"34.13779156135272%\" y2=\"37\" style=\"stroke:rgb(150,150,150);stroke-width:1\" /><text x=\"34.13779156135272%\" y=\"27\" font-size=\"12px\" fill=\"rgb(120,120,120)\" dominant-baseline=\"bottom\" text-anchor=\"middle\">0.2</text><line x1=\"17.266382287393277%\" y1=\"33\" x2=\"17.266382287393277%\" y2=\"37\" style=\"stroke:rgb(150,150,150);stroke-width:1\" /><text x=\"17.266382287393277%\" y=\"27\" font-size=\"12px\" fill=\"rgb(120,120,120)\" dominant-baseline=\"bottom\" text-anchor=\"middle\">0</text><line x1=\"67.88061010927161%\" y1=\"33\" x2=\"67.88061010927161%\" y2=\"37\" style=\"stroke:rgb(150,150,150);stroke-width:1\" /><text x=\"67.88061010927161%\" y=\"27\" font-size=\"12px\" fill=\"rgb(120,120,120)\" dominant-baseline=\"bottom\" text-anchor=\"middle\">0.6</text><line x1=\"84.75201938323106%\" y1=\"33\" x2=\"84.75201938323106%\" y2=\"37\" style=\"stroke:rgb(150,150,150);stroke-width:1\" /><text x=\"84.75201938323106%\" y=\"27\" font-size=\"12px\" fill=\"rgb(120,120,120)\" dominant-baseline=\"bottom\" text-anchor=\"middle\">0.8</text><line x1=\"74.80856596730405%\" y1=\"33\" x2=\"74.80856596730405%\" y2=\"37\" style=\"stroke:rgb(150,150,150);stroke-width:1\" /><text x=\"74.80856596730405%\" y=\"27\" font-size=\"13px\" style=\"stroke:#ffffff;stroke-width:8px;\" fill=\"rgb(255,255,255)\" dominant-baseline=\"bottom\" text-anchor=\"middle\">0.682127</text><text x=\"74.80856596730405%\" y=\"27\" font-size=\"12px\" fill=\"rgb(120,120,120)\" dominant-baseline=\"bottom\" text-anchor=\"middle\">0.682127</text><text x=\"74.80856596730405%\" y=\"10\" font-size=\"12px\" fill=\"rgb(120,120,120)\" dominant-baseline=\"bottom\" text-anchor=\"middle\">base value</text><line x1=\"17.479852453183614%\" y1=\"33\" x2=\"17.479852453183614%\" y2=\"37\" style=\"stroke:rgb(150,150,150);stroke-width:1\" /><text x=\"17.479852453183614%\" y=\"27\" font-size=\"13px\" style=\"stroke:#ffffff;stroke-width:8px;\" font-weight=\"bold\" fill=\"rgb(255,255,255)\" dominant-baseline=\"bottom\" text-anchor=\"middle\">0.00253056</text><text x=\"17.479852453183614%\" y=\"27\" font-size=\"13px\" font-weight=\"bold\" fill=\"rgb(0,0,0)\" dominant-baseline=\"bottom\" text-anchor=\"middle\">0.00253056</text><text x=\"17.479852453183614%\" y=\"10\" font-size=\"12px\" fill=\"rgb(120,120,120)\" dominant-baseline=\"bottom\" text-anchor=\"middle\">f<tspan baseline-shift=\"sub\" font-size=\"8px\">animal</tspan>(inputs)</text><rect x=\"7.690701535040638%\" width=\"9.789150918142976%\" y=\"40\" height=\"18\" style=\"fill:rgb(255.0, 0.0, 81.08083606031792); stroke-width:0; stroke:rgb(0,0,0)\" /><line x1=\"8.034250533784746%\" x2=\"17.479852453183614%\" y1=\"60\" y2=\"60\" id=\"_fb_slehojqrsalybqxgbvww_ind_0\" style=\"stroke:rgb(255.0, 0.0, 81.08083606031792);stroke-width:2; opacity: 0\"/><text x=\"12.75705149348418%\" y=\"71\" font-size=\"12px\" id=\"_fs_slehojqrsalybqxgbvww_ind_0\" fill=\"rgb(255.0, 0.0, 81.08083606031792)\" style=\"opacity: 0\" dominant-baseline=\"middle\" text-anchor=\"middle\">0.112</text><svg x=\"8.034250533784746%\" y=\"40\" height=\"20\" width=\"9.445601919398868%\">  <svg x=\"0\" y=\"0\" width=\"100%\" height=\"100%\">    <text x=\"50%\" y=\"9\" font-size=\"12px\" fill=\"rgb(255,255,255)\" dominant-baseline=\"middle\" text-anchor=\"middle\"></text>  </svg></svg><line x1=\"7.690701535040638%\" x2=\"8.034250533784746%\" y1=\"60\" y2=\"60\" id=\"_fb_slehojqrsalybqxgbvww_ind_2\" style=\"stroke:rgb(255.0, 0.0, 81.08083606031792);stroke-width:2; opacity: 0\"/><text x=\"7.862476034412692%\" y=\"71\" font-size=\"12px\" id=\"_fs_slehojqrsalybqxgbvww_ind_2\" fill=\"rgb(255.0, 0.0, 81.08083606031792)\" style=\"opacity: 0\" dominant-baseline=\"middle\" text-anchor=\"middle\">0.004</text><svg x=\"7.690701535040638%\" y=\"40\" height=\"20\" width=\"0.34354899874410805%\">  <svg x=\"0\" y=\"0\" width=\"100%\" height=\"100%\">    <text x=\"50%\" y=\"9\" font-size=\"12px\" fill=\"rgb(255,255,255)\" dominant-baseline=\"middle\" text-anchor=\"middle\">love</text>  </svg></svg><g transform=\"translate(0,0)\">  <svg x=\"8.034250533784746%\" y=\"40\" height=\"18\" overflow=\"visible\" width=\"30\">    <path d=\"M 0 -9 l 6 18 L 0 25\" fill=\"none\" style=\"stroke:rgb(255.0, 0.0, 81.08083606031792);stroke-width:2\" />  </svg></g><g transform=\"translate(2,0)\">  <svg x=\"8.034250533784746%\" y=\"40\" height=\"18\" overflow=\"visible\" width=\"30\">    <path d=\"M 0 -9 l 6 18 L 0 25\" fill=\"none\" style=\"stroke:rgb(255.0, 0.0, 81.08083606031792);stroke-width:2\" />  </svg></g><g transform=\"translate(4,0)\">  <svg x=\"8.034250533784746%\" y=\"40\" height=\"18\" overflow=\"visible\" width=\"30\">    <path d=\"M 0 -9 l 6 18 L 0 25\" fill=\"none\" style=\"stroke:rgb(255.0, 0.0, 81.08083606031792);stroke-width:2\" />  </svg></g><g transform=\"translate(6,0)\">  <svg x=\"8.034250533784746%\" y=\"40\" height=\"18\" overflow=\"visible\" width=\"30\">    <path d=\"M 0 -9 l 6 18 L 0 25\" fill=\"none\" style=\"stroke:rgb(255.0, 0.0, 81.08083606031792);stroke-width:2\" />  </svg></g><g transform=\"translate(-8,0)\">  <svg x=\"8.034250533784746%\" y=\"40\" height=\"18\" overflow=\"visible\" width=\"30\">    <path d=\"M 0 -9 l 6 18 L 0 25\" fill=\"none\" style=\"stroke:rgb(255.0, 0.0, 81.08083606031792);stroke-width:2\" />  </svg></g><g transform=\"translate(-6,0)\">  <svg x=\"8.034250533784746%\" y=\"40\" height=\"18\" overflow=\"visible\" width=\"30\">    <path d=\"M 0 -9 l 6 18 L 0 25\" fill=\"none\" style=\"stroke:rgb(255.0, 0.0, 81.08083606031792);stroke-width:2\" />  </svg></g><g transform=\"translate(-4,0)\">  <svg x=\"8.034250533784746%\" y=\"40\" height=\"18\" overflow=\"visible\" width=\"30\">    <path d=\"M 0 -9 l 6 18 L 0 25\" fill=\"none\" style=\"stroke:rgb(255.0, 0.0, 81.08083606031792);stroke-width:2\" />  </svg></g><g transform=\"translate(-2,0)\">  <svg x=\"8.034250533784746%\" y=\"40\" height=\"18\" overflow=\"visible\" width=\"30\">    <path d=\"M 0 -9 l 6 18 L 0 25\" fill=\"none\" style=\"stroke:rgb(255.0, 0.0, 81.08083606031792);stroke-width:2\" />  </svg></g><rect transform=\"translate(-8,0)\" x=\"17.479852453183614%\" y=\"40\" width=\"8\" height=\"18\" style=\"fill:rgb(255.0, 0.0, 81.08083606031792)\"/><g transform=\"translate(-11.5,0)\">  <svg x=\"7.690701535040638%\" y=\"40\" height=\"18\" overflow=\"visible\" width=\"30\">    <path d=\"M 10 -9 l 6 18 L 10 25 L 0 25 L 0 -9\" fill=\"#ffffff\" style=\"stroke:rgb(255,255,255);stroke-width:2\" />  </svg></g><g transform=\"translate(-1.5,0)\">  <svg x=\"17.479852453183614%\" y=\"40\" height=\"18\" overflow=\"visible\" width=\"30\">    <path d=\"M 0 -9 l 6 18 L 0 25\" fill=\"none\" style=\"stroke:rgb(255, 195, 213);stroke-width:2\" />  </svg></g><rect x=\"8.034250533784746%\" y=\"40\" height=\"20\" width=\"9.445601919398868%\"      onmouseover=\"document.getElementById('_tp_slehojqrsalybqxgbvww_ind_0').style.textDecoration = 'underline';document.getElementById('_fs_slehojqrsalybqxgbvww_ind_0').style.opacity = 1;document.getElementById('_fb_slehojqrsalybqxgbvww_ind_0').style.opacity = 1;\"      onmouseout=\"document.getElementById('_tp_slehojqrsalybqxgbvww_ind_0').style.textDecoration = 'none';document.getElementById('_fs_slehojqrsalybqxgbvww_ind_0').style.opacity = 0;document.getElementById('_fb_slehojqrsalybqxgbvww_ind_0').style.opacity = 0;\" style=\"fill:rgb(0,0,0,0)\" /><rect x=\"7.690701535040638%\" y=\"40\" height=\"20\" width=\"0.34354899874410805%\"      onmouseover=\"document.getElementById('_tp_slehojqrsalybqxgbvww_ind_2').style.textDecoration = 'underline';document.getElementById('_fs_slehojqrsalybqxgbvww_ind_2').style.opacity = 1;document.getElementById('_fb_slehojqrsalybqxgbvww_ind_2').style.opacity = 1;\"      onmouseout=\"document.getElementById('_tp_slehojqrsalybqxgbvww_ind_2').style.textDecoration = 'none';document.getElementById('_fs_slehojqrsalybqxgbvww_ind_2').style.opacity = 0;document.getElementById('_fb_slehojqrsalybqxgbvww_ind_2').style.opacity = 0;\" style=\"fill:rgb(0,0,0,0)\" /><rect x=\"17.479852453183614%\" width=\"67.1178644322634%\" y=\"40\" height=\"18\" style=\"fill:rgb(0.0, 138.56128015770727, 250.76166088685727); stroke-width:0; stroke:rgb(0,0,0)\" /><line x1=\"17.479852453183614%\" x2=\"46.250944293139%\" y1=\"60\" y2=\"60\" id=\"_fb_slehojqrsalybqxgbvww_ind_6\" style=\"stroke:rgb(0.0, 138.56128015770727, 250.76166088685727);stroke-width:2; opacity: 0\"/><text x=\"31.865398373161305%\" y=\"71\" font-size=\"12px\" fill=\"rgb(0.0, 138.56128015770727, 250.76166088685727)\" id=\"_fs_slehojqrsalybqxgbvww_ind_6\" style=\"opacity: 0\" dominant-baseline=\"middle\" text-anchor=\"middle\">-0.341</text><svg x=\"17.479852453183614%\" y=\"40\" height=\"20\" width=\"28.771091839955385%\">  <svg x=\"0\" y=\"0\" width=\"100%\" height=\"100%\">    <text x=\"50%\" y=\"9\" font-size=\"12px\" fill=\"rgb(255,255,255)\" dominant-baseline=\"middle\" text-anchor=\"middle\"></text>  </svg></svg><line x1=\"46.250944293139%\" x2=\"60.58980351582149%\" y1=\"60\" y2=\"60\" id=\"_fb_slehojqrsalybqxgbvww_ind_5\" style=\"stroke:rgb(0.0, 138.56128015770727, 250.76166088685727);stroke-width:2; opacity: 0\"/><text x=\"53.42037390448024%\" y=\"71\" font-size=\"12px\" fill=\"rgb(0.0, 138.56128015770727, 250.76166088685727)\" id=\"_fs_slehojqrsalybqxgbvww_ind_5\" style=\"opacity: 0\" dominant-baseline=\"middle\" text-anchor=\"middle\">-0.17</text><svg x=\"46.250944293139%\" y=\"40\" height=\"20\" width=\"14.338859222682487%\">  <svg x=\"0\" y=\"0\" width=\"100%\" height=\"100%\">    <text x=\"50%\" y=\"9\" font-size=\"12px\" fill=\"rgb(255,255,255)\" dominant-baseline=\"middle\" text-anchor=\"middle\">!</text>  </svg></svg><line x1=\"60.58980351582149%\" x2=\"70.86739107009852%\" y1=\"60\" y2=\"60\" id=\"_fb_slehojqrsalybqxgbvww_ind_4\" style=\"stroke:rgb(0.0, 138.56128015770727, 250.76166088685727);stroke-width:2; opacity: 0\"/><text x=\"65.72859729296%\" y=\"71\" font-size=\"12px\" fill=\"rgb(0.0, 138.56128015770727, 250.76166088685727)\" id=\"_fs_slehojqrsalybqxgbvww_ind_4\" style=\"opacity: 0\" dominant-baseline=\"middle\" text-anchor=\"middle\">-0.122</text><svg x=\"60.58980351582149%\" y=\"40\" height=\"20\" width=\"10.277587554277034%\">  <svg x=\"0\" y=\"0\" width=\"100%\" height=\"100%\">    <text x=\"50%\" y=\"9\" font-size=\"12px\" fill=\"rgb(255,255,255)\" dominant-baseline=\"middle\" text-anchor=\"middle\">cricket</text>  </svg></svg><line x1=\"70.86739107009852%\" x2=\"80.48890774937769%\" y1=\"60\" y2=\"60\" id=\"_fb_slehojqrsalybqxgbvww_ind_3\" style=\"stroke:rgb(0.0, 138.56128015770727, 250.76166088685727);stroke-width:2; opacity: 0\"/><text x=\"75.6781494097381%\" y=\"71\" font-size=\"12px\" fill=\"rgb(0.0, 138.56128015770727, 250.76166088685727)\" id=\"_fs_slehojqrsalybqxgbvww_ind_3\" style=\"opacity: 0\" dominant-baseline=\"middle\" text-anchor=\"middle\">-0.114</text><svg x=\"70.86739107009852%\" y=\"40\" height=\"20\" width=\"9.621516679279168%\">  <svg x=\"0\" y=\"0\" width=\"100%\" height=\"100%\">    <text x=\"50%\" y=\"9\" font-size=\"12px\" fill=\"rgb(255,255,255)\" dominant-baseline=\"middle\" text-anchor=\"middle\">playing</text>  </svg></svg><line x1=\"80.48890774937769%\" x2=\"84.59771688544701%\" y1=\"60\" y2=\"60\" id=\"_fb_slehojqrsalybqxgbvww_ind_1\" style=\"stroke:rgb(0.0, 138.56128015770727, 250.76166088685727);stroke-width:2; opacity: 0\"/><text x=\"82.54331231741236%\" y=\"71\" font-size=\"12px\" fill=\"rgb(0.0, 138.56128015770727, 250.76166088685727)\" id=\"_fs_slehojqrsalybqxgbvww_ind_1\" style=\"opacity: 0\" dominant-baseline=\"middle\" text-anchor=\"middle\">-0.049</text><svg x=\"80.48890774937769%\" y=\"40\" height=\"20\" width=\"4.1088091360693255%\">  <svg x=\"0\" y=\"0\" width=\"100%\" height=\"100%\">    <text x=\"50%\" y=\"9\" font-size=\"12px\" fill=\"rgb(255,255,255)\" dominant-baseline=\"middle\" text-anchor=\"middle\">I</text>  </svg></svg><g transform=\"translate(-8,0)\">  <svg x=\"46.250944293139%\" y=\"40\" height=\"18\" overflow=\"visible\" width=\"30\">    <path d=\"M 8 -9 l -6 18 L 8 25\" fill=\"none\" style=\"stroke:rgb(0.0, 138.56128015770727, 250.76166088685727);stroke-width:2\" />  </svg></g><g transform=\"translate(-10,0)\">  <svg x=\"46.250944293139%\" y=\"40\" height=\"18\" overflow=\"visible\" width=\"30\">    <path d=\"M 8 -9 l -6 18 L 8 25\" fill=\"none\" style=\"stroke:rgb(0.0, 138.56128015770727, 250.76166088685727);stroke-width:2\" />  </svg></g><g transform=\"translate(-12,0)\">  <svg x=\"46.250944293139%\" y=\"40\" height=\"18\" overflow=\"visible\" width=\"30\">    <path d=\"M 8 -9 l -6 18 L 8 25\" fill=\"none\" style=\"stroke:rgb(0.0, 138.56128015770727, 250.76166088685727);stroke-width:2\" />  </svg></g><g transform=\"translate(-14,0)\">  <svg x=\"46.250944293139%\" y=\"40\" height=\"18\" overflow=\"visible\" width=\"30\">    <path d=\"M 8 -9 l -6 18 L 8 25\" fill=\"none\" style=\"stroke:rgb(0.0, 138.56128015770727, 250.76166088685727);stroke-width:2\" />  </svg></g><g transform=\"translate(2,0)\">  <svg x=\"46.250944293139%\" y=\"40\" height=\"18\" overflow=\"visible\" width=\"30\">    <path d=\"M 8 -9 l -6 18 L 8 25\" fill=\"none\" style=\"stroke:rgb(0.0, 138.56128015770727, 250.76166088685727);stroke-width:2\" />  </svg></g><g transform=\"translate(0,0)\">  <svg x=\"46.250944293139%\" y=\"40\" height=\"18\" overflow=\"visible\" width=\"30\">    <path d=\"M 8 -9 l -6 18 L 8 25\" fill=\"none\" style=\"stroke:rgb(0.0, 138.56128015770727, 250.76166088685727);stroke-width:2\" />  </svg></g><g transform=\"translate(-2,0)\">  <svg x=\"46.250944293139%\" y=\"40\" height=\"18\" overflow=\"visible\" width=\"30\">    <path d=\"M 8 -9 l -6 18 L 8 25\" fill=\"none\" style=\"stroke:rgb(0.0, 138.56128015770727, 250.76166088685727);stroke-width:2\" />  </svg></g><g transform=\"translate(-4,0)\">  <svg x=\"46.250944293139%\" y=\"40\" height=\"18\" overflow=\"visible\" width=\"30\">    <path d=\"M 8 -9 l -6 18 L 8 25\" fill=\"none\" style=\"stroke:rgb(0.0, 138.56128015770727, 250.76166088685727);stroke-width:2\" />  </svg></g><g transform=\"translate(-8,0)\">  <svg x=\"60.58980351582149%\" y=\"40\" height=\"18\" overflow=\"visible\" width=\"30\">    <path d=\"M 8 -9 l -6 18 L 8 25\" fill=\"none\" style=\"stroke:rgb(0.0, 138.56128015770727, 250.76166088685727);stroke-width:2\" />  </svg></g><g transform=\"translate(-10,0)\">  <svg x=\"60.58980351582149%\" y=\"40\" height=\"18\" overflow=\"visible\" width=\"30\">    <path d=\"M 8 -9 l -6 18 L 8 25\" fill=\"none\" style=\"stroke:rgb(0.0, 138.56128015770727, 250.76166088685727);stroke-width:2\" />  </svg></g><g transform=\"translate(-12,0)\">  <svg x=\"60.58980351582149%\" y=\"40\" height=\"18\" overflow=\"visible\" width=\"30\">    <path d=\"M 8 -9 l -6 18 L 8 25\" fill=\"none\" style=\"stroke:rgb(0.0, 138.56128015770727, 250.76166088685727);stroke-width:2\" />  </svg></g><g transform=\"translate(-14,0)\">  <svg x=\"60.58980351582149%\" y=\"40\" height=\"18\" overflow=\"visible\" width=\"30\">    <path d=\"M 8 -9 l -6 18 L 8 25\" fill=\"none\" style=\"stroke:rgb(0.0, 138.56128015770727, 250.76166088685727);stroke-width:2\" />  </svg></g><g transform=\"translate(2,0)\">  <svg x=\"60.58980351582149%\" y=\"40\" height=\"18\" overflow=\"visible\" width=\"30\">    <path d=\"M 8 -9 l -6 18 L 8 25\" fill=\"none\" style=\"stroke:rgb(0.0, 138.56128015770727, 250.76166088685727);stroke-width:2\" />  </svg></g><g transform=\"translate(0,0)\">  <svg x=\"60.58980351582149%\" y=\"40\" height=\"18\" overflow=\"visible\" width=\"30\">    <path d=\"M 8 -9 l -6 18 L 8 25\" fill=\"none\" style=\"stroke:rgb(0.0, 138.56128015770727, 250.76166088685727);stroke-width:2\" />  </svg></g><g transform=\"translate(-2,0)\">  <svg x=\"60.58980351582149%\" y=\"40\" height=\"18\" overflow=\"visible\" width=\"30\">    <path d=\"M 8 -9 l -6 18 L 8 25\" fill=\"none\" style=\"stroke:rgb(0.0, 138.56128015770727, 250.76166088685727);stroke-width:2\" />  </svg></g><g transform=\"translate(-4,0)\">  <svg x=\"60.58980351582149%\" y=\"40\" height=\"18\" overflow=\"visible\" width=\"30\">    <path d=\"M 8 -9 l -6 18 L 8 25\" fill=\"none\" style=\"stroke:rgb(0.0, 138.56128015770727, 250.76166088685727);stroke-width:2\" />  </svg></g><g transform=\"translate(-8,0)\">  <svg x=\"70.86739107009852%\" y=\"40\" height=\"18\" overflow=\"visible\" width=\"30\">    <path d=\"M 8 -9 l -6 18 L 8 25\" fill=\"none\" style=\"stroke:rgb(0.0, 138.56128015770727, 250.76166088685727);stroke-width:2\" />  </svg></g><g transform=\"translate(-10,0)\">  <svg x=\"70.86739107009852%\" y=\"40\" height=\"18\" overflow=\"visible\" width=\"30\">    <path d=\"M 8 -9 l -6 18 L 8 25\" fill=\"none\" style=\"stroke:rgb(0.0, 138.56128015770727, 250.76166088685727);stroke-width:2\" />  </svg></g><g transform=\"translate(-12,0)\">  <svg x=\"70.86739107009852%\" y=\"40\" height=\"18\" overflow=\"visible\" width=\"30\">    <path d=\"M 8 -9 l -6 18 L 8 25\" fill=\"none\" style=\"stroke:rgb(0.0, 138.56128015770727, 250.76166088685727);stroke-width:2\" />  </svg></g><g transform=\"translate(-14,0)\">  <svg x=\"70.86739107009852%\" y=\"40\" height=\"18\" overflow=\"visible\" width=\"30\">    <path d=\"M 8 -9 l -6 18 L 8 25\" fill=\"none\" style=\"stroke:rgb(0.0, 138.56128015770727, 250.76166088685727);stroke-width:2\" />  </svg></g><g transform=\"translate(2,0)\">  <svg x=\"70.86739107009852%\" y=\"40\" height=\"18\" overflow=\"visible\" width=\"30\">    <path d=\"M 8 -9 l -6 18 L 8 25\" fill=\"none\" style=\"stroke:rgb(0.0, 138.56128015770727, 250.76166088685727);stroke-width:2\" />  </svg></g><g transform=\"translate(0,0)\">  <svg x=\"70.86739107009852%\" y=\"40\" height=\"18\" overflow=\"visible\" width=\"30\">    <path d=\"M 8 -9 l -6 18 L 8 25\" fill=\"none\" style=\"stroke:rgb(0.0, 138.56128015770727, 250.76166088685727);stroke-width:2\" />  </svg></g><g transform=\"translate(-2,0)\">  <svg x=\"70.86739107009852%\" y=\"40\" height=\"18\" overflow=\"visible\" width=\"30\">    <path d=\"M 8 -9 l -6 18 L 8 25\" fill=\"none\" style=\"stroke:rgb(0.0, 138.56128015770727, 250.76166088685727);stroke-width:2\" />  </svg></g><g transform=\"translate(-4,0)\">  <svg x=\"70.86739107009852%\" y=\"40\" height=\"18\" overflow=\"visible\" width=\"30\">    <path d=\"M 8 -9 l -6 18 L 8 25\" fill=\"none\" style=\"stroke:rgb(0.0, 138.56128015770727, 250.76166088685727);stroke-width:2\" />  </svg></g><g transform=\"translate(-8,0)\">  <svg x=\"80.48890774937769%\" y=\"40\" height=\"18\" overflow=\"visible\" width=\"30\">    <path d=\"M 8 -9 l -6 18 L 8 25\" fill=\"none\" style=\"stroke:rgb(0.0, 138.56128015770727, 250.76166088685727);stroke-width:2\" />  </svg></g><g transform=\"translate(-10,0)\">  <svg x=\"80.48890774937769%\" y=\"40\" height=\"18\" overflow=\"visible\" width=\"30\">    <path d=\"M 8 -9 l -6 18 L 8 25\" fill=\"none\" style=\"stroke:rgb(0.0, 138.56128015770727, 250.76166088685727);stroke-width:2\" />  </svg></g><g transform=\"translate(-12,0)\">  <svg x=\"80.48890774937769%\" y=\"40\" height=\"18\" overflow=\"visible\" width=\"30\">    <path d=\"M 8 -9 l -6 18 L 8 25\" fill=\"none\" style=\"stroke:rgb(0.0, 138.56128015770727, 250.76166088685727);stroke-width:2\" />  </svg></g><g transform=\"translate(-14,0)\">  <svg x=\"80.48890774937769%\" y=\"40\" height=\"18\" overflow=\"visible\" width=\"30\">    <path d=\"M 8 -9 l -6 18 L 8 25\" fill=\"none\" style=\"stroke:rgb(0.0, 138.56128015770727, 250.76166088685727);stroke-width:2\" />  </svg></g><g transform=\"translate(2,0)\">  <svg x=\"80.48890774937769%\" y=\"40\" height=\"18\" overflow=\"visible\" width=\"30\">    <path d=\"M 8 -9 l -6 18 L 8 25\" fill=\"none\" style=\"stroke:rgb(0.0, 138.56128015770727, 250.76166088685727);stroke-width:2\" />  </svg></g><g transform=\"translate(0,0)\">  <svg x=\"80.48890774937769%\" y=\"40\" height=\"18\" overflow=\"visible\" width=\"30\">    <path d=\"M 8 -9 l -6 18 L 8 25\" fill=\"none\" style=\"stroke:rgb(0.0, 138.56128015770727, 250.76166088685727);stroke-width:2\" />  </svg></g><g transform=\"translate(-2,0)\">  <svg x=\"80.48890774937769%\" y=\"40\" height=\"18\" overflow=\"visible\" width=\"30\">    <path d=\"M 8 -9 l -6 18 L 8 25\" fill=\"none\" style=\"stroke:rgb(0.0, 138.56128015770727, 250.76166088685727);stroke-width:2\" />  </svg></g><g transform=\"translate(-4,0)\">  <svg x=\"80.48890774937769%\" y=\"40\" height=\"18\" overflow=\"visible\" width=\"30\">    <path d=\"M 8 -9 l -6 18 L 8 25\" fill=\"none\" style=\"stroke:rgb(0.0, 138.56128015770727, 250.76166088685727);stroke-width:2\" />  </svg></g><rect transform=\"translate(0,0)\" x=\"17.479852453183614%\" y=\"40\" width=\"8\" height=\"18\" style=\"fill:rgb(0.0, 138.56128015770727, 250.76166088685727)\"/><g transform=\"translate(-6.0,0)\">  <svg x=\"84.59771688544701%\" y=\"40\" height=\"18\" overflow=\"visible\" width=\"30\">    <path d=\"M 8 -9 l -6 18 L 8 25 L 20 25 L 20 -9\" fill=\"#ffffff\" style=\"stroke:rgb(255,255,255);stroke-width:2\" />  </svg></g><g transform=\"translate(-6.0,0)\">  <svg x=\"46.250944293139%\" y=\"40\" height=\"18\" overflow=\"visible\" width=\"30\">    <path d=\"M 8 -9 l -6 18 L 8 25\" fill=\"none\" style=\"stroke:rgb(208, 230, 250);stroke-width:2\" />  </svg></g><rect x=\"17.479852453183614%\" y=\"40\" height=\"20\" width=\"28.771091839955385%\"      onmouseover=\"document.getElementById('_tp_slehojqrsalybqxgbvww_ind_6').style.textDecoration = 'underline';document.getElementById('_fs_slehojqrsalybqxgbvww_ind_6').style.opacity = 1;document.getElementById('_fb_slehojqrsalybqxgbvww_ind_6').style.opacity = 1;\"      onmouseout=\"document.getElementById('_tp_slehojqrsalybqxgbvww_ind_6').style.textDecoration = 'none';document.getElementById('_fs_slehojqrsalybqxgbvww_ind_6').style.opacity = 0;document.getElementById('_fb_slehojqrsalybqxgbvww_ind_6').style.opacity = 0;\" style=\"fill:rgb(0,0,0,0)\" /><g transform=\"translate(-6.0,0)\">  <svg x=\"60.58980351582149%\" y=\"40\" height=\"18\" overflow=\"visible\" width=\"30\">    <path d=\"M 8 -9 l -6 18 L 8 25\" fill=\"none\" style=\"stroke:rgb(208, 230, 250);stroke-width:2\" />  </svg></g><rect x=\"46.250944293139%\" y=\"40\" height=\"20\" width=\"14.338859222682487%\"      onmouseover=\"document.getElementById('_tp_slehojqrsalybqxgbvww_ind_5').style.textDecoration = 'underline';document.getElementById('_fs_slehojqrsalybqxgbvww_ind_5').style.opacity = 1;document.getElementById('_fb_slehojqrsalybqxgbvww_ind_5').style.opacity = 1;\"      onmouseout=\"document.getElementById('_tp_slehojqrsalybqxgbvww_ind_5').style.textDecoration = 'none';document.getElementById('_fs_slehojqrsalybqxgbvww_ind_5').style.opacity = 0;document.getElementById('_fb_slehojqrsalybqxgbvww_ind_5').style.opacity = 0;\" style=\"fill:rgb(0,0,0,0)\" /><g transform=\"translate(-6.0,0)\">  <svg x=\"70.86739107009852%\" y=\"40\" height=\"18\" overflow=\"visible\" width=\"30\">    <path d=\"M 8 -9 l -6 18 L 8 25\" fill=\"none\" style=\"stroke:rgb(208, 230, 250);stroke-width:2\" />  </svg></g><rect x=\"60.58980351582149%\" y=\"40\" height=\"20\" width=\"10.277587554277034%\"      onmouseover=\"document.getElementById('_tp_slehojqrsalybqxgbvww_ind_4').style.textDecoration = 'underline';document.getElementById('_fs_slehojqrsalybqxgbvww_ind_4').style.opacity = 1;document.getElementById('_fb_slehojqrsalybqxgbvww_ind_4').style.opacity = 1;\"      onmouseout=\"document.getElementById('_tp_slehojqrsalybqxgbvww_ind_4').style.textDecoration = 'none';document.getElementById('_fs_slehojqrsalybqxgbvww_ind_4').style.opacity = 0;document.getElementById('_fb_slehojqrsalybqxgbvww_ind_4').style.opacity = 0;\" style=\"fill:rgb(0,0,0,0)\" /><g transform=\"translate(-6.0,0)\">  <svg x=\"80.48890774937769%\" y=\"40\" height=\"18\" overflow=\"visible\" width=\"30\">    <path d=\"M 8 -9 l -6 18 L 8 25\" fill=\"none\" style=\"stroke:rgb(208, 230, 250);stroke-width:2\" />  </svg></g><rect x=\"70.86739107009852%\" y=\"40\" height=\"20\" width=\"9.621516679279168%\"      onmouseover=\"document.getElementById('_tp_slehojqrsalybqxgbvww_ind_3').style.textDecoration = 'underline';document.getElementById('_fs_slehojqrsalybqxgbvww_ind_3').style.opacity = 1;document.getElementById('_fb_slehojqrsalybqxgbvww_ind_3').style.opacity = 1;\"      onmouseout=\"document.getElementById('_tp_slehojqrsalybqxgbvww_ind_3').style.textDecoration = 'none';document.getElementById('_fs_slehojqrsalybqxgbvww_ind_3').style.opacity = 0;document.getElementById('_fb_slehojqrsalybqxgbvww_ind_3').style.opacity = 0;\" style=\"fill:rgb(0,0,0,0)\" /><rect x=\"80.48890774937769%\" y=\"40\" height=\"20\" width=\"4.1088091360693255%\"      onmouseover=\"document.getElementById('_tp_slehojqrsalybqxgbvww_ind_1').style.textDecoration = 'underline';document.getElementById('_fs_slehojqrsalybqxgbvww_ind_1').style.opacity = 1;document.getElementById('_fb_slehojqrsalybqxgbvww_ind_1').style.opacity = 1;\"      onmouseout=\"document.getElementById('_tp_slehojqrsalybqxgbvww_ind_1').style.textDecoration = 'none';document.getElementById('_fs_slehojqrsalybqxgbvww_ind_1').style.opacity = 0;document.getElementById('_fb_slehojqrsalybqxgbvww_ind_1').style.opacity = 0;\" style=\"fill:rgb(0,0,0,0)\" /></svg><div align='center'><div style=\"color: rgb(120,120,120); font-size: 12px; margin-top: -15px;\">inputs</div><div style='display: inline; text-align: center;'\n",
       "    ><div style='display: none; color: #999; padding-top: 0px; font-size: 12px;'>0.112</div\n",
       "        ><div id='_tp_slehojqrsalybqxgbvww_ind_0'\n",
       "            style='display: inline; background: rgba(255.0, 13.0, 87.0, 0.3299663299663301); border-radius: 3px; padding: 0px'\n",
       "            onclick=\"\n",
       "            if (this.previousSibling.style.display == 'none') {\n",
       "                this.previousSibling.style.display = 'block';\n",
       "                this.parentNode.style.display = 'inline-block';\n",
       "            } else {\n",
       "                this.previousSibling.style.display = 'none';\n",
       "                this.parentNode.style.display = 'inline';\n",
       "            }\"\n",
       "            onmouseover=\"document.getElementById('_fb_slehojqrsalybqxgbvww_ind_0').style.opacity = 1; document.getElementById('_fs_slehojqrsalybqxgbvww_ind_0').style.opacity = 1;\"\n",
       "            onmouseout=\"document.getElementById('_fb_slehojqrsalybqxgbvww_ind_0').style.opacity = 0; document.getElementById('_fs_slehojqrsalybqxgbvww_ind_0').style.opacity = 0;\"\n",
       "        ></div></div><div style='display: inline; text-align: center;'\n",
       "    ><div style='display: none; color: #999; padding-top: 0px; font-size: 12px;'>-0.049</div\n",
       "        ><div id='_tp_slehojqrsalybqxgbvww_ind_1'\n",
       "            style='display: inline; background: rgba(30.0, 136.0, 229.0, 0.14078035254505836); border-radius: 3px; padding: 0px'\n",
       "            onclick=\"\n",
       "            if (this.previousSibling.style.display == 'none') {\n",
       "                this.previousSibling.style.display = 'block';\n",
       "                this.parentNode.style.display = 'inline-block';\n",
       "            } else {\n",
       "                this.previousSibling.style.display = 'none';\n",
       "                this.parentNode.style.display = 'inline';\n",
       "            }\"\n",
       "            onmouseover=\"document.getElementById('_fb_slehojqrsalybqxgbvww_ind_1').style.opacity = 1; document.getElementById('_fs_slehojqrsalybqxgbvww_ind_1').style.opacity = 1;\"\n",
       "            onmouseout=\"document.getElementById('_fb_slehojqrsalybqxgbvww_ind_1').style.opacity = 0; document.getElementById('_fs_slehojqrsalybqxgbvww_ind_1').style.opacity = 0;\"\n",
       "        >I </div></div><div style='display: inline; text-align: center;'\n",
       "    ><div style='display: none; color: #999; padding-top: 0px; font-size: 12px;'>0.004</div\n",
       "        ><div id='_tp_slehojqrsalybqxgbvww_ind_2'\n",
       "            style='display: inline; background: rgba(255.0, 13.0, 87.0, 0.00677361853832443); border-radius: 3px; padding: 0px'\n",
       "            onclick=\"\n",
       "            if (this.previousSibling.style.display == 'none') {\n",
       "                this.previousSibling.style.display = 'block';\n",
       "                this.parentNode.style.display = 'inline-block';\n",
       "            } else {\n",
       "                this.previousSibling.style.display = 'none';\n",
       "                this.parentNode.style.display = 'inline';\n",
       "            }\"\n",
       "            onmouseover=\"document.getElementById('_fb_slehojqrsalybqxgbvww_ind_2').style.opacity = 1; document.getElementById('_fs_slehojqrsalybqxgbvww_ind_2').style.opacity = 1;\"\n",
       "            onmouseout=\"document.getElementById('_fb_slehojqrsalybqxgbvww_ind_2').style.opacity = 0; document.getElementById('_fs_slehojqrsalybqxgbvww_ind_2').style.opacity = 0;\"\n",
       "        >love </div></div><div style='display: inline; text-align: center;'\n",
       "    ><div style='display: none; color: #999; padding-top: 0px; font-size: 12px;'>-0.114</div\n",
       "        ><div id='_tp_slehojqrsalybqxgbvww_ind_3'\n",
       "            style='display: inline; background: rgba(30.0, 136.0, 229.0, 0.3299663299663299); border-radius: 3px; padding: 0px'\n",
       "            onclick=\"\n",
       "            if (this.previousSibling.style.display == 'none') {\n",
       "                this.previousSibling.style.display = 'block';\n",
       "                this.parentNode.style.display = 'inline-block';\n",
       "            } else {\n",
       "                this.previousSibling.style.display = 'none';\n",
       "                this.parentNode.style.display = 'inline';\n",
       "            }\"\n",
       "            onmouseover=\"document.getElementById('_fb_slehojqrsalybqxgbvww_ind_3').style.opacity = 1; document.getElementById('_fs_slehojqrsalybqxgbvww_ind_3').style.opacity = 1;\"\n",
       "            onmouseout=\"document.getElementById('_fb_slehojqrsalybqxgbvww_ind_3').style.opacity = 0; document.getElementById('_fs_slehojqrsalybqxgbvww_ind_3').style.opacity = 0;\"\n",
       "        >playing </div></div><div style='display: inline; text-align: center;'\n",
       "    ><div style='display: none; color: #999; padding-top: 0px; font-size: 12px;'>-0.122</div\n",
       "        ><div id='_tp_slehojqrsalybqxgbvww_ind_4'\n",
       "            style='display: inline; background: rgba(30.0, 136.0, 229.0, 0.35361457714398903); border-radius: 3px; padding: 0px'\n",
       "            onclick=\"\n",
       "            if (this.previousSibling.style.display == 'none') {\n",
       "                this.previousSibling.style.display = 'block';\n",
       "                this.parentNode.style.display = 'inline-block';\n",
       "            } else {\n",
       "                this.previousSibling.style.display = 'none';\n",
       "                this.parentNode.style.display = 'inline';\n",
       "            }\"\n",
       "            onmouseover=\"document.getElementById('_fb_slehojqrsalybqxgbvww_ind_4').style.opacity = 1; document.getElementById('_fs_slehojqrsalybqxgbvww_ind_4').style.opacity = 1;\"\n",
       "            onmouseout=\"document.getElementById('_fb_slehojqrsalybqxgbvww_ind_4').style.opacity = 0; document.getElementById('_fs_slehojqrsalybqxgbvww_ind_4').style.opacity = 0;\"\n",
       "        >cricket</div></div><div style='display: inline; text-align: center;'\n",
       "    ><div style='display: none; color: #999; padding-top: 0px; font-size: 12px;'>-0.17</div\n",
       "        ><div id='_tp_slehojqrsalybqxgbvww_ind_5'\n",
       "            style='display: inline; background: rgba(30.0, 136.0, 229.0, 0.4955040602099425); border-radius: 3px; padding: 0px'\n",
       "            onclick=\"\n",
       "            if (this.previousSibling.style.display == 'none') {\n",
       "                this.previousSibling.style.display = 'block';\n",
       "                this.parentNode.style.display = 'inline-block';\n",
       "            } else {\n",
       "                this.previousSibling.style.display = 'none';\n",
       "                this.parentNode.style.display = 'inline';\n",
       "            }\"\n",
       "            onmouseover=\"document.getElementById('_fb_slehojqrsalybqxgbvww_ind_5').style.opacity = 1; document.getElementById('_fs_slehojqrsalybqxgbvww_ind_5').style.opacity = 1;\"\n",
       "            onmouseout=\"document.getElementById('_fb_slehojqrsalybqxgbvww_ind_5').style.opacity = 0; document.getElementById('_fs_slehojqrsalybqxgbvww_ind_5').style.opacity = 0;\"\n",
       "        >!</div></div><div style='display: inline; text-align: center;'\n",
       "    ><div style='display: none; color: #999; padding-top: 0px; font-size: 12px;'>-0.341</div\n",
       "        ><div id='_tp_slehojqrsalybqxgbvww_ind_6'\n",
       "            style='display: inline; background: rgba(30.0, 136.0, 229.0, 1.0); border-radius: 3px; padding: 0px'\n",
       "            onclick=\"\n",
       "            if (this.previousSibling.style.display == 'none') {\n",
       "                this.previousSibling.style.display = 'block';\n",
       "                this.parentNode.style.display = 'inline-block';\n",
       "            } else {\n",
       "                this.previousSibling.style.display = 'none';\n",
       "                this.parentNode.style.display = 'inline';\n",
       "            }\"\n",
       "            onmouseover=\"document.getElementById('_fb_slehojqrsalybqxgbvww_ind_6').style.opacity = 1; document.getElementById('_fs_slehojqrsalybqxgbvww_ind_6').style.opacity = 1;\"\n",
       "            onmouseout=\"document.getElementById('_fb_slehojqrsalybqxgbvww_ind_6').style.opacity = 0; document.getElementById('_fs_slehojqrsalybqxgbvww_ind_6').style.opacity = 0;\"\n",
       "        ></div></div></div></div><div id='_tp_szfavpcfcpvrrnoqkiiw_output_2_zoom' style='display: none;'><svg width=\"100%\" height=\"80px\"><line x1=\"0\" y1=\"33\" x2=\"100%\" y2=\"33\" style=\"stroke:rgb(150,150,150);stroke-width:1\" /><line x1=\"46.130919283079294%\" y1=\"33\" x2=\"46.130919283079294%\" y2=\"37\" style=\"stroke:rgb(150,150,150);stroke-width:1\" /><text x=\"46.130919283079294%\" y=\"27\" font-size=\"12px\" fill=\"rgb(120,120,120)\" dominant-baseline=\"bottom\" text-anchor=\"middle\">0.3</text><line x1=\"27.849742285468658%\" y1=\"33\" x2=\"27.849742285468658%\" y2=\"37\" style=\"stroke:rgb(150,150,150);stroke-width:1\" /><text x=\"27.849742285468658%\" y=\"27\" font-size=\"12px\" fill=\"rgb(120,120,120)\" dominant-baseline=\"bottom\" text-anchor=\"middle\">0.1</text><line x1=\"9.568565287858036%\" y1=\"33\" x2=\"9.568565287858036%\" y2=\"37\" style=\"stroke:rgb(150,150,150);stroke-width:1\" /><text x=\"9.568565287858036%\" y=\"27\" font-size=\"12px\" fill=\"rgb(120,120,120)\" dominant-baseline=\"bottom\" text-anchor=\"middle\">-0.1</text><line x1=\"64.41209628068991%\" y1=\"33\" x2=\"64.41209628068991%\" y2=\"37\" style=\"stroke:rgb(150,150,150);stroke-width:1\" /><text x=\"64.41209628068991%\" y=\"27\" font-size=\"12px\" fill=\"rgb(120,120,120)\" dominant-baseline=\"bottom\" text-anchor=\"middle\">0.5</text><line x1=\"82.69327327830054%\" y1=\"33\" x2=\"82.69327327830054%\" y2=\"37\" style=\"stroke:rgb(150,150,150);stroke-width:1\" /><text x=\"82.69327327830054%\" y=\"27\" font-size=\"12px\" fill=\"rgb(120,120,120)\" dominant-baseline=\"bottom\" text-anchor=\"middle\">0.7</text><line x1=\"81.05953765798041%\" y1=\"33\" x2=\"81.05953765798041%\" y2=\"37\" style=\"stroke:rgb(150,150,150);stroke-width:1\" /><text x=\"81.05953765798041%\" y=\"27\" font-size=\"13px\" style=\"stroke:#ffffff;stroke-width:8px;\" fill=\"rgb(255,255,255)\" dominant-baseline=\"bottom\" text-anchor=\"middle\">0.682127</text><text x=\"81.05953765798041%\" y=\"27\" font-size=\"12px\" fill=\"rgb(120,120,120)\" dominant-baseline=\"bottom\" text-anchor=\"middle\">0.682127</text><text x=\"81.05953765798041%\" y=\"10\" font-size=\"12px\" fill=\"rgb(120,120,120)\" dominant-baseline=\"bottom\" text-anchor=\"middle\">base value</text><line x1=\"18.940461427960738%\" y1=\"33\" x2=\"18.940461427960738%\" y2=\"37\" style=\"stroke:rgb(150,150,150);stroke-width:1\" /><text x=\"18.940461427960738%\" y=\"27\" font-size=\"13px\" style=\"stroke:#ffffff;stroke-width:8px;\" font-weight=\"bold\" fill=\"rgb(255,255,255)\" dominant-baseline=\"bottom\" text-anchor=\"middle\">0.00253056</text><text x=\"18.940461427960738%\" y=\"27\" font-size=\"13px\" font-weight=\"bold\" fill=\"rgb(0,0,0)\" dominant-baseline=\"bottom\" text-anchor=\"middle\">0.00253056</text><text x=\"18.940461427960738%\" y=\"10\" font-size=\"12px\" fill=\"rgb(120,120,120)\" dominant-baseline=\"bottom\" text-anchor=\"middle\">f<tspan baseline-shift=\"sub\" font-size=\"8px\">animal</tspan>(inputs)</text><rect x=\"8.333333257161764%\" width=\"10.607128170798974%\" y=\"40\" height=\"18\" style=\"fill:rgb(255.0, 0.0, 81.08083606031792); stroke-width:0; stroke:rgb(0,0,0)\" /><line x1=\"8.705589062910407%\" x2=\"18.940461427960738%\" y1=\"60\" y2=\"60\" id=\"_fb_ufedjqcbjijzvfdzqzrt_ind_0\" style=\"stroke:rgb(255.0, 0.0, 81.08083606031792);stroke-width:2; opacity: 0\"/><text x=\"13.823025245435574%\" y=\"71\" font-size=\"12px\" id=\"_fs_ufedjqcbjijzvfdzqzrt_ind_0\" fill=\"rgb(255.0, 0.0, 81.08083606031792)\" style=\"opacity: 0\" dominant-baseline=\"middle\" text-anchor=\"middle\">0.112</text><svg x=\"8.705589062910407%\" y=\"40\" height=\"20\" width=\"10.23487236505033%\">  <svg x=\"0\" y=\"0\" width=\"100%\" height=\"100%\">    <text x=\"50%\" y=\"9\" font-size=\"12px\" fill=\"rgb(255,255,255)\" dominant-baseline=\"middle\" text-anchor=\"middle\"></text>  </svg></svg><line x1=\"8.333333257161764%\" x2=\"8.705589062910407%\" y1=\"60\" y2=\"60\" id=\"_fb_ufedjqcbjijzvfdzqzrt_ind_2\" style=\"stroke:rgb(255.0, 0.0, 81.08083606031792);stroke-width:2; opacity: 0\"/><text x=\"8.519461160036085%\" y=\"71\" font-size=\"12px\" id=\"_fs_ufedjqcbjijzvfdzqzrt_ind_2\" fill=\"rgb(255.0, 0.0, 81.08083606031792)\" style=\"opacity: 0\" dominant-baseline=\"middle\" text-anchor=\"middle\">0.004</text><svg x=\"8.333333257161764%\" y=\"40\" height=\"20\" width=\"0.3722558057486438%\">  <svg x=\"0\" y=\"0\" width=\"100%\" height=\"100%\">    <text x=\"50%\" y=\"9\" font-size=\"12px\" fill=\"rgb(255,255,255)\" dominant-baseline=\"middle\" text-anchor=\"middle\">love</text>  </svg></svg><g transform=\"translate(0,0)\">  <svg x=\"8.705589062910407%\" y=\"40\" height=\"18\" overflow=\"visible\" width=\"30\">    <path d=\"M 0 -9 l 6 18 L 0 25\" fill=\"none\" style=\"stroke:rgb(255.0, 0.0, 81.08083606031792);stroke-width:2\" />  </svg></g><g transform=\"translate(2,0)\">  <svg x=\"8.705589062910407%\" y=\"40\" height=\"18\" overflow=\"visible\" width=\"30\">    <path d=\"M 0 -9 l 6 18 L 0 25\" fill=\"none\" style=\"stroke:rgb(255.0, 0.0, 81.08083606031792);stroke-width:2\" />  </svg></g><g transform=\"translate(4,0)\">  <svg x=\"8.705589062910407%\" y=\"40\" height=\"18\" overflow=\"visible\" width=\"30\">    <path d=\"M 0 -9 l 6 18 L 0 25\" fill=\"none\" style=\"stroke:rgb(255.0, 0.0, 81.08083606031792);stroke-width:2\" />  </svg></g><g transform=\"translate(6,0)\">  <svg x=\"8.705589062910407%\" y=\"40\" height=\"18\" overflow=\"visible\" width=\"30\">    <path d=\"M 0 -9 l 6 18 L 0 25\" fill=\"none\" style=\"stroke:rgb(255.0, 0.0, 81.08083606031792);stroke-width:2\" />  </svg></g><g transform=\"translate(-8,0)\">  <svg x=\"8.705589062910407%\" y=\"40\" height=\"18\" overflow=\"visible\" width=\"30\">    <path d=\"M 0 -9 l 6 18 L 0 25\" fill=\"none\" style=\"stroke:rgb(255.0, 0.0, 81.08083606031792);stroke-width:2\" />  </svg></g><g transform=\"translate(-6,0)\">  <svg x=\"8.705589062910407%\" y=\"40\" height=\"18\" overflow=\"visible\" width=\"30\">    <path d=\"M 0 -9 l 6 18 L 0 25\" fill=\"none\" style=\"stroke:rgb(255.0, 0.0, 81.08083606031792);stroke-width:2\" />  </svg></g><g transform=\"translate(-4,0)\">  <svg x=\"8.705589062910407%\" y=\"40\" height=\"18\" overflow=\"visible\" width=\"30\">    <path d=\"M 0 -9 l 6 18 L 0 25\" fill=\"none\" style=\"stroke:rgb(255.0, 0.0, 81.08083606031792);stroke-width:2\" />  </svg></g><g transform=\"translate(-2,0)\">  <svg x=\"8.705589062910407%\" y=\"40\" height=\"18\" overflow=\"visible\" width=\"30\">    <path d=\"M 0 -9 l 6 18 L 0 25\" fill=\"none\" style=\"stroke:rgb(255.0, 0.0, 81.08083606031792);stroke-width:2\" />  </svg></g><rect transform=\"translate(-8,0)\" x=\"18.940461427960738%\" y=\"40\" width=\"8\" height=\"18\" style=\"fill:rgb(255.0, 0.0, 81.08083606031792)\"/><g transform=\"translate(-11.5,0)\">  <svg x=\"8.333333257161764%\" y=\"40\" height=\"18\" overflow=\"visible\" width=\"30\">    <path d=\"M 10 -9 l 6 18 L 10 25 L 0 25 L 0 -9\" fill=\"#ffffff\" style=\"stroke:rgb(255,255,255);stroke-width:2\" />  </svg></g><g transform=\"translate(-1.5,0)\">  <svg x=\"18.940461427960738%\" y=\"40\" height=\"18\" overflow=\"visible\" width=\"30\">    <path d=\"M 0 -9 l 6 18 L 0 25\" fill=\"none\" style=\"stroke:rgb(255, 195, 213);stroke-width:2\" />  </svg></g><rect x=\"8.705589062910407%\" y=\"40\" height=\"20\" width=\"10.23487236505033%\"      onmouseover=\"document.getElementById('_tp_ufedjqcbjijzvfdzqzrt_ind_0').style.textDecoration = 'underline';document.getElementById('_fs_ufedjqcbjijzvfdzqzrt_ind_0').style.opacity = 1;document.getElementById('_fb_ufedjqcbjijzvfdzqzrt_ind_0').style.opacity = 1;\"      onmouseout=\"document.getElementById('_tp_ufedjqcbjijzvfdzqzrt_ind_0').style.textDecoration = 'none';document.getElementById('_fs_ufedjqcbjijzvfdzqzrt_ind_0').style.opacity = 0;document.getElementById('_fb_ufedjqcbjijzvfdzqzrt_ind_0').style.opacity = 0;\" style=\"fill:rgb(0,0,0,0)\" /><rect x=\"8.333333257161764%\" y=\"40\" height=\"20\" width=\"0.3722558057486438%\"      onmouseover=\"document.getElementById('_tp_ufedjqcbjijzvfdzqzrt_ind_2').style.textDecoration = 'underline';document.getElementById('_fs_ufedjqcbjijzvfdzqzrt_ind_2').style.opacity = 1;document.getElementById('_fb_ufedjqcbjijzvfdzqzrt_ind_2').style.opacity = 1;\"      onmouseout=\"document.getElementById('_tp_ufedjqcbjijzvfdzqzrt_ind_2').style.textDecoration = 'none';document.getElementById('_fs_ufedjqcbjijzvfdzqzrt_ind_2').style.opacity = 0;document.getElementById('_fb_ufedjqcbjijzvfdzqzrt_ind_2').style.opacity = 0;\" style=\"fill:rgb(0,0,0,0)\" /><rect x=\"18.940461427960738%\" width=\"72.72620440081866%\" y=\"40\" height=\"18\" style=\"fill:rgb(0.0, 138.56128015770727, 250.76166088685727); stroke-width:0; stroke:rgb(0,0,0)\" /><line x1=\"18.940461427960738%\" x2=\"50.11565336361927%\" y1=\"60\" y2=\"60\" id=\"_fb_ufedjqcbjijzvfdzqzrt_ind_6\" style=\"stroke:rgb(0.0, 138.56128015770727, 250.76166088685727);stroke-width:2; opacity: 0\"/><text x=\"34.52805739579001%\" y=\"71\" font-size=\"12px\" fill=\"rgb(0.0, 138.56128015770727, 250.76166088685727)\" id=\"_fs_ufedjqcbjijzvfdzqzrt_ind_6\" style=\"opacity: 0\" dominant-baseline=\"middle\" text-anchor=\"middle\">-0.341</text><svg x=\"18.940461427960738%\" y=\"40\" height=\"20\" width=\"31.175191935658535%\">  <svg x=\"0\" y=\"0\" width=\"100%\" height=\"100%\">    <text x=\"50%\" y=\"9\" font-size=\"12px\" fill=\"rgb(255,255,255)\" dominant-baseline=\"middle\" text-anchor=\"middle\"></text>  </svg></svg><line x1=\"50.11565336361927%\" x2=\"65.65266151374888%\" y1=\"60\" y2=\"60\" id=\"_fb_ufedjqcbjijzvfdzqzrt_ind_5\" style=\"stroke:rgb(0.0, 138.56128015770727, 250.76166088685727);stroke-width:2; opacity: 0\"/><text x=\"57.88415743868408%\" y=\"71\" font-size=\"12px\" fill=\"rgb(0.0, 138.56128015770727, 250.76166088685727)\" id=\"_fs_ufedjqcbjijzvfdzqzrt_ind_5\" style=\"opacity: 0\" dominant-baseline=\"middle\" text-anchor=\"middle\">-0.17</text><svg x=\"50.11565336361927%\" y=\"40\" height=\"20\" width=\"15.537008150129608%\">  <svg x=\"0\" y=\"0\" width=\"100%\" height=\"100%\">    <text x=\"50%\" y=\"9\" font-size=\"12px\" fill=\"rgb(255,255,255)\" dominant-baseline=\"middle\" text-anchor=\"middle\">!</text>  </svg></svg><line x1=\"65.65266151374888%\" x2=\"76.78903987653189%\" y1=\"60\" y2=\"60\" id=\"_fb_ufedjqcbjijzvfdzqzrt_ind_4\" style=\"stroke:rgb(0.0, 138.56128015770727, 250.76166088685727);stroke-width:2; opacity: 0\"/><text x=\"71.22085069514038%\" y=\"71\" font-size=\"12px\" fill=\"rgb(0.0, 138.56128015770727, 250.76166088685727)\" id=\"_fs_ufedjqcbjijzvfdzqzrt_ind_4\" style=\"opacity: 0\" dominant-baseline=\"middle\" text-anchor=\"middle\">-0.122</text><svg x=\"65.65266151374888%\" y=\"40\" height=\"20\" width=\"11.136378362783006%\">  <svg x=\"0\" y=\"0\" width=\"100%\" height=\"100%\">    <text x=\"50%\" y=\"9\" font-size=\"12px\" fill=\"rgb(255,255,255)\" dominant-baseline=\"middle\" text-anchor=\"middle\">cricket</text>  </svg></svg><line x1=\"76.78903987653189%\" x2=\"87.21452636335731%\" y1=\"60\" y2=\"60\" id=\"_fb_ufedjqcbjijzvfdzqzrt_ind_3\" style=\"stroke:rgb(0.0, 138.56128015770727, 250.76166088685727);stroke-width:2; opacity: 0\"/><text x=\"82.0017831199446%\" y=\"71\" font-size=\"12px\" fill=\"rgb(0.0, 138.56128015770727, 250.76166088685727)\" id=\"_fs_ufedjqcbjijzvfdzqzrt_ind_3\" style=\"opacity: 0\" dominant-baseline=\"middle\" text-anchor=\"middle\">-0.114</text><svg x=\"76.78903987653189%\" y=\"40\" height=\"20\" width=\"10.42548648682542%\">  <svg x=\"0\" y=\"0\" width=\"100%\" height=\"100%\">    <text x=\"50%\" y=\"9\" font-size=\"12px\" fill=\"rgb(255,255,255)\" dominant-baseline=\"middle\" text-anchor=\"middle\">playing</text>  </svg></svg><line x1=\"87.21452636335731%\" x2=\"91.66666582877939%\" y1=\"60\" y2=\"60\" id=\"_fb_ufedjqcbjijzvfdzqzrt_ind_1\" style=\"stroke:rgb(0.0, 138.56128015770727, 250.76166088685727);stroke-width:2; opacity: 0\"/><text x=\"89.44059609606835%\" y=\"71\" font-size=\"12px\" fill=\"rgb(0.0, 138.56128015770727, 250.76166088685727)\" id=\"_fs_ufedjqcbjijzvfdzqzrt_ind_1\" style=\"opacity: 0\" dominant-baseline=\"middle\" text-anchor=\"middle\">-0.049</text><svg x=\"87.21452636335731%\" y=\"40\" height=\"20\" width=\"4.4521394654220785%\">  <svg x=\"0\" y=\"0\" width=\"100%\" height=\"100%\">    <text x=\"50%\" y=\"9\" font-size=\"12px\" fill=\"rgb(255,255,255)\" dominant-baseline=\"middle\" text-anchor=\"middle\">I</text>  </svg></svg><g transform=\"translate(-8,0)\">  <svg x=\"50.11565336361927%\" y=\"40\" height=\"18\" overflow=\"visible\" width=\"30\">    <path d=\"M 8 -9 l -6 18 L 8 25\" fill=\"none\" style=\"stroke:rgb(0.0, 138.56128015770727, 250.76166088685727);stroke-width:2\" />  </svg></g><g transform=\"translate(-10,0)\">  <svg x=\"50.11565336361927%\" y=\"40\" height=\"18\" overflow=\"visible\" width=\"30\">    <path d=\"M 8 -9 l -6 18 L 8 25\" fill=\"none\" style=\"stroke:rgb(0.0, 138.56128015770727, 250.76166088685727);stroke-width:2\" />  </svg></g><g transform=\"translate(-12,0)\">  <svg x=\"50.11565336361927%\" y=\"40\" height=\"18\" overflow=\"visible\" width=\"30\">    <path d=\"M 8 -9 l -6 18 L 8 25\" fill=\"none\" style=\"stroke:rgb(0.0, 138.56128015770727, 250.76166088685727);stroke-width:2\" />  </svg></g><g transform=\"translate(-14,0)\">  <svg x=\"50.11565336361927%\" y=\"40\" height=\"18\" overflow=\"visible\" width=\"30\">    <path d=\"M 8 -9 l -6 18 L 8 25\" fill=\"none\" style=\"stroke:rgb(0.0, 138.56128015770727, 250.76166088685727);stroke-width:2\" />  </svg></g><g transform=\"translate(2,0)\">  <svg x=\"50.11565336361927%\" y=\"40\" height=\"18\" overflow=\"visible\" width=\"30\">    <path d=\"M 8 -9 l -6 18 L 8 25\" fill=\"none\" style=\"stroke:rgb(0.0, 138.56128015770727, 250.76166088685727);stroke-width:2\" />  </svg></g><g transform=\"translate(0,0)\">  <svg x=\"50.11565336361927%\" y=\"40\" height=\"18\" overflow=\"visible\" width=\"30\">    <path d=\"M 8 -9 l -6 18 L 8 25\" fill=\"none\" style=\"stroke:rgb(0.0, 138.56128015770727, 250.76166088685727);stroke-width:2\" />  </svg></g><g transform=\"translate(-2,0)\">  <svg x=\"50.11565336361927%\" y=\"40\" height=\"18\" overflow=\"visible\" width=\"30\">    <path d=\"M 8 -9 l -6 18 L 8 25\" fill=\"none\" style=\"stroke:rgb(0.0, 138.56128015770727, 250.76166088685727);stroke-width:2\" />  </svg></g><g transform=\"translate(-4,0)\">  <svg x=\"50.11565336361927%\" y=\"40\" height=\"18\" overflow=\"visible\" width=\"30\">    <path d=\"M 8 -9 l -6 18 L 8 25\" fill=\"none\" style=\"stroke:rgb(0.0, 138.56128015770727, 250.76166088685727);stroke-width:2\" />  </svg></g><g transform=\"translate(-8,0)\">  <svg x=\"65.65266151374888%\" y=\"40\" height=\"18\" overflow=\"visible\" width=\"30\">    <path d=\"M 8 -9 l -6 18 L 8 25\" fill=\"none\" style=\"stroke:rgb(0.0, 138.56128015770727, 250.76166088685727);stroke-width:2\" />  </svg></g><g transform=\"translate(-10,0)\">  <svg x=\"65.65266151374888%\" y=\"40\" height=\"18\" overflow=\"visible\" width=\"30\">    <path d=\"M 8 -9 l -6 18 L 8 25\" fill=\"none\" style=\"stroke:rgb(0.0, 138.56128015770727, 250.76166088685727);stroke-width:2\" />  </svg></g><g transform=\"translate(-12,0)\">  <svg x=\"65.65266151374888%\" y=\"40\" height=\"18\" overflow=\"visible\" width=\"30\">    <path d=\"M 8 -9 l -6 18 L 8 25\" fill=\"none\" style=\"stroke:rgb(0.0, 138.56128015770727, 250.76166088685727);stroke-width:2\" />  </svg></g><g transform=\"translate(-14,0)\">  <svg x=\"65.65266151374888%\" y=\"40\" height=\"18\" overflow=\"visible\" width=\"30\">    <path d=\"M 8 -9 l -6 18 L 8 25\" fill=\"none\" style=\"stroke:rgb(0.0, 138.56128015770727, 250.76166088685727);stroke-width:2\" />  </svg></g><g transform=\"translate(2,0)\">  <svg x=\"65.65266151374888%\" y=\"40\" height=\"18\" overflow=\"visible\" width=\"30\">    <path d=\"M 8 -9 l -6 18 L 8 25\" fill=\"none\" style=\"stroke:rgb(0.0, 138.56128015770727, 250.76166088685727);stroke-width:2\" />  </svg></g><g transform=\"translate(0,0)\">  <svg x=\"65.65266151374888%\" y=\"40\" height=\"18\" overflow=\"visible\" width=\"30\">    <path d=\"M 8 -9 l -6 18 L 8 25\" fill=\"none\" style=\"stroke:rgb(0.0, 138.56128015770727, 250.76166088685727);stroke-width:2\" />  </svg></g><g transform=\"translate(-2,0)\">  <svg x=\"65.65266151374888%\" y=\"40\" height=\"18\" overflow=\"visible\" width=\"30\">    <path d=\"M 8 -9 l -6 18 L 8 25\" fill=\"none\" style=\"stroke:rgb(0.0, 138.56128015770727, 250.76166088685727);stroke-width:2\" />  </svg></g><g transform=\"translate(-4,0)\">  <svg x=\"65.65266151374888%\" y=\"40\" height=\"18\" overflow=\"visible\" width=\"30\">    <path d=\"M 8 -9 l -6 18 L 8 25\" fill=\"none\" style=\"stroke:rgb(0.0, 138.56128015770727, 250.76166088685727);stroke-width:2\" />  </svg></g><g transform=\"translate(-8,0)\">  <svg x=\"76.78903987653189%\" y=\"40\" height=\"18\" overflow=\"visible\" width=\"30\">    <path d=\"M 8 -9 l -6 18 L 8 25\" fill=\"none\" style=\"stroke:rgb(0.0, 138.56128015770727, 250.76166088685727);stroke-width:2\" />  </svg></g><g transform=\"translate(-10,0)\">  <svg x=\"76.78903987653189%\" y=\"40\" height=\"18\" overflow=\"visible\" width=\"30\">    <path d=\"M 8 -9 l -6 18 L 8 25\" fill=\"none\" style=\"stroke:rgb(0.0, 138.56128015770727, 250.76166088685727);stroke-width:2\" />  </svg></g><g transform=\"translate(-12,0)\">  <svg x=\"76.78903987653189%\" y=\"40\" height=\"18\" overflow=\"visible\" width=\"30\">    <path d=\"M 8 -9 l -6 18 L 8 25\" fill=\"none\" style=\"stroke:rgb(0.0, 138.56128015770727, 250.76166088685727);stroke-width:2\" />  </svg></g><g transform=\"translate(-14,0)\">  <svg x=\"76.78903987653189%\" y=\"40\" height=\"18\" overflow=\"visible\" width=\"30\">    <path d=\"M 8 -9 l -6 18 L 8 25\" fill=\"none\" style=\"stroke:rgb(0.0, 138.56128015770727, 250.76166088685727);stroke-width:2\" />  </svg></g><g transform=\"translate(2,0)\">  <svg x=\"76.78903987653189%\" y=\"40\" height=\"18\" overflow=\"visible\" width=\"30\">    <path d=\"M 8 -9 l -6 18 L 8 25\" fill=\"none\" style=\"stroke:rgb(0.0, 138.56128015770727, 250.76166088685727);stroke-width:2\" />  </svg></g><g transform=\"translate(0,0)\">  <svg x=\"76.78903987653189%\" y=\"40\" height=\"18\" overflow=\"visible\" width=\"30\">    <path d=\"M 8 -9 l -6 18 L 8 25\" fill=\"none\" style=\"stroke:rgb(0.0, 138.56128015770727, 250.76166088685727);stroke-width:2\" />  </svg></g><g transform=\"translate(-2,0)\">  <svg x=\"76.78903987653189%\" y=\"40\" height=\"18\" overflow=\"visible\" width=\"30\">    <path d=\"M 8 -9 l -6 18 L 8 25\" fill=\"none\" style=\"stroke:rgb(0.0, 138.56128015770727, 250.76166088685727);stroke-width:2\" />  </svg></g><g transform=\"translate(-4,0)\">  <svg x=\"76.78903987653189%\" y=\"40\" height=\"18\" overflow=\"visible\" width=\"30\">    <path d=\"M 8 -9 l -6 18 L 8 25\" fill=\"none\" style=\"stroke:rgb(0.0, 138.56128015770727, 250.76166088685727);stroke-width:2\" />  </svg></g><g transform=\"translate(-8,0)\">  <svg x=\"87.21452636335731%\" y=\"40\" height=\"18\" overflow=\"visible\" width=\"30\">    <path d=\"M 8 -9 l -6 18 L 8 25\" fill=\"none\" style=\"stroke:rgb(0.0, 138.56128015770727, 250.76166088685727);stroke-width:2\" />  </svg></g><g transform=\"translate(-10,0)\">  <svg x=\"87.21452636335731%\" y=\"40\" height=\"18\" overflow=\"visible\" width=\"30\">    <path d=\"M 8 -9 l -6 18 L 8 25\" fill=\"none\" style=\"stroke:rgb(0.0, 138.56128015770727, 250.76166088685727);stroke-width:2\" />  </svg></g><g transform=\"translate(-12,0)\">  <svg x=\"87.21452636335731%\" y=\"40\" height=\"18\" overflow=\"visible\" width=\"30\">    <path d=\"M 8 -9 l -6 18 L 8 25\" fill=\"none\" style=\"stroke:rgb(0.0, 138.56128015770727, 250.76166088685727);stroke-width:2\" />  </svg></g><g transform=\"translate(-14,0)\">  <svg x=\"87.21452636335731%\" y=\"40\" height=\"18\" overflow=\"visible\" width=\"30\">    <path d=\"M 8 -9 l -6 18 L 8 25\" fill=\"none\" style=\"stroke:rgb(0.0, 138.56128015770727, 250.76166088685727);stroke-width:2\" />  </svg></g><g transform=\"translate(2,0)\">  <svg x=\"87.21452636335731%\" y=\"40\" height=\"18\" overflow=\"visible\" width=\"30\">    <path d=\"M 8 -9 l -6 18 L 8 25\" fill=\"none\" style=\"stroke:rgb(0.0, 138.56128015770727, 250.76166088685727);stroke-width:2\" />  </svg></g><g transform=\"translate(0,0)\">  <svg x=\"87.21452636335731%\" y=\"40\" height=\"18\" overflow=\"visible\" width=\"30\">    <path d=\"M 8 -9 l -6 18 L 8 25\" fill=\"none\" style=\"stroke:rgb(0.0, 138.56128015770727, 250.76166088685727);stroke-width:2\" />  </svg></g><g transform=\"translate(-2,0)\">  <svg x=\"87.21452636335731%\" y=\"40\" height=\"18\" overflow=\"visible\" width=\"30\">    <path d=\"M 8 -9 l -6 18 L 8 25\" fill=\"none\" style=\"stroke:rgb(0.0, 138.56128015770727, 250.76166088685727);stroke-width:2\" />  </svg></g><g transform=\"translate(-4,0)\">  <svg x=\"87.21452636335731%\" y=\"40\" height=\"18\" overflow=\"visible\" width=\"30\">    <path d=\"M 8 -9 l -6 18 L 8 25\" fill=\"none\" style=\"stroke:rgb(0.0, 138.56128015770727, 250.76166088685727);stroke-width:2\" />  </svg></g><rect transform=\"translate(0,0)\" x=\"18.940461427960738%\" y=\"40\" width=\"8\" height=\"18\" style=\"fill:rgb(0.0, 138.56128015770727, 250.76166088685727)\"/><g transform=\"translate(-6.0,0)\">  <svg x=\"91.66666582877939%\" y=\"40\" height=\"18\" overflow=\"visible\" width=\"30\">    <path d=\"M 8 -9 l -6 18 L 8 25 L 20 25 L 20 -9\" fill=\"#ffffff\" style=\"stroke:rgb(255,255,255);stroke-width:2\" />  </svg></g><g transform=\"translate(-6.0,0)\">  <svg x=\"50.11565336361927%\" y=\"40\" height=\"18\" overflow=\"visible\" width=\"30\">    <path d=\"M 8 -9 l -6 18 L 8 25\" fill=\"none\" style=\"stroke:rgb(208, 230, 250);stroke-width:2\" />  </svg></g><rect x=\"18.940461427960738%\" y=\"40\" height=\"20\" width=\"31.175191935658535%\"      onmouseover=\"document.getElementById('_tp_ufedjqcbjijzvfdzqzrt_ind_6').style.textDecoration = 'underline';document.getElementById('_fs_ufedjqcbjijzvfdzqzrt_ind_6').style.opacity = 1;document.getElementById('_fb_ufedjqcbjijzvfdzqzrt_ind_6').style.opacity = 1;\"      onmouseout=\"document.getElementById('_tp_ufedjqcbjijzvfdzqzrt_ind_6').style.textDecoration = 'none';document.getElementById('_fs_ufedjqcbjijzvfdzqzrt_ind_6').style.opacity = 0;document.getElementById('_fb_ufedjqcbjijzvfdzqzrt_ind_6').style.opacity = 0;\" style=\"fill:rgb(0,0,0,0)\" /><g transform=\"translate(-6.0,0)\">  <svg x=\"65.65266151374888%\" y=\"40\" height=\"18\" overflow=\"visible\" width=\"30\">    <path d=\"M 8 -9 l -6 18 L 8 25\" fill=\"none\" style=\"stroke:rgb(208, 230, 250);stroke-width:2\" />  </svg></g><rect x=\"50.11565336361927%\" y=\"40\" height=\"20\" width=\"15.537008150129608%\"      onmouseover=\"document.getElementById('_tp_ufedjqcbjijzvfdzqzrt_ind_5').style.textDecoration = 'underline';document.getElementById('_fs_ufedjqcbjijzvfdzqzrt_ind_5').style.opacity = 1;document.getElementById('_fb_ufedjqcbjijzvfdzqzrt_ind_5').style.opacity = 1;\"      onmouseout=\"document.getElementById('_tp_ufedjqcbjijzvfdzqzrt_ind_5').style.textDecoration = 'none';document.getElementById('_fs_ufedjqcbjijzvfdzqzrt_ind_5').style.opacity = 0;document.getElementById('_fb_ufedjqcbjijzvfdzqzrt_ind_5').style.opacity = 0;\" style=\"fill:rgb(0,0,0,0)\" /><g transform=\"translate(-6.0,0)\">  <svg x=\"76.78903987653189%\" y=\"40\" height=\"18\" overflow=\"visible\" width=\"30\">    <path d=\"M 8 -9 l -6 18 L 8 25\" fill=\"none\" style=\"stroke:rgb(208, 230, 250);stroke-width:2\" />  </svg></g><rect x=\"65.65266151374888%\" y=\"40\" height=\"20\" width=\"11.136378362783006%\"      onmouseover=\"document.getElementById('_tp_ufedjqcbjijzvfdzqzrt_ind_4').style.textDecoration = 'underline';document.getElementById('_fs_ufedjqcbjijzvfdzqzrt_ind_4').style.opacity = 1;document.getElementById('_fb_ufedjqcbjijzvfdzqzrt_ind_4').style.opacity = 1;\"      onmouseout=\"document.getElementById('_tp_ufedjqcbjijzvfdzqzrt_ind_4').style.textDecoration = 'none';document.getElementById('_fs_ufedjqcbjijzvfdzqzrt_ind_4').style.opacity = 0;document.getElementById('_fb_ufedjqcbjijzvfdzqzrt_ind_4').style.opacity = 0;\" style=\"fill:rgb(0,0,0,0)\" /><g transform=\"translate(-6.0,0)\">  <svg x=\"87.21452636335731%\" y=\"40\" height=\"18\" overflow=\"visible\" width=\"30\">    <path d=\"M 8 -9 l -6 18 L 8 25\" fill=\"none\" style=\"stroke:rgb(208, 230, 250);stroke-width:2\" />  </svg></g><rect x=\"76.78903987653189%\" y=\"40\" height=\"20\" width=\"10.42548648682542%\"      onmouseover=\"document.getElementById('_tp_ufedjqcbjijzvfdzqzrt_ind_3').style.textDecoration = 'underline';document.getElementById('_fs_ufedjqcbjijzvfdzqzrt_ind_3').style.opacity = 1;document.getElementById('_fb_ufedjqcbjijzvfdzqzrt_ind_3').style.opacity = 1;\"      onmouseout=\"document.getElementById('_tp_ufedjqcbjijzvfdzqzrt_ind_3').style.textDecoration = 'none';document.getElementById('_fs_ufedjqcbjijzvfdzqzrt_ind_3').style.opacity = 0;document.getElementById('_fb_ufedjqcbjijzvfdzqzrt_ind_3').style.opacity = 0;\" style=\"fill:rgb(0,0,0,0)\" /><rect x=\"87.21452636335731%\" y=\"40\" height=\"20\" width=\"4.4521394654220785%\"      onmouseover=\"document.getElementById('_tp_ufedjqcbjijzvfdzqzrt_ind_1').style.textDecoration = 'underline';document.getElementById('_fs_ufedjqcbjijzvfdzqzrt_ind_1').style.opacity = 1;document.getElementById('_fb_ufedjqcbjijzvfdzqzrt_ind_1').style.opacity = 1;\"      onmouseout=\"document.getElementById('_tp_ufedjqcbjijzvfdzqzrt_ind_1').style.textDecoration = 'none';document.getElementById('_fs_ufedjqcbjijzvfdzqzrt_ind_1').style.opacity = 0;document.getElementById('_fb_ufedjqcbjijzvfdzqzrt_ind_1').style.opacity = 0;\" style=\"fill:rgb(0,0,0,0)\" /></svg><div align='center'><div style=\"color: rgb(120,120,120); font-size: 12px; margin-top: -15px;\">inputs</div><div style='display: inline; text-align: center;'\n",
       "    ><div style='display: none; color: #999; padding-top: 0px; font-size: 12px;'>0.112</div\n",
       "        ><div id='_tp_ufedjqcbjijzvfdzqzrt_ind_0'\n",
       "            style='display: inline; background: rgba(255.0, 13.0, 87.0, 0.3299663299663301); border-radius: 3px; padding: 0px'\n",
       "            onclick=\"\n",
       "            if (this.previousSibling.style.display == 'none') {\n",
       "                this.previousSibling.style.display = 'block';\n",
       "                this.parentNode.style.display = 'inline-block';\n",
       "            } else {\n",
       "                this.previousSibling.style.display = 'none';\n",
       "                this.parentNode.style.display = 'inline';\n",
       "            }\"\n",
       "            onmouseover=\"document.getElementById('_fb_ufedjqcbjijzvfdzqzrt_ind_0').style.opacity = 1; document.getElementById('_fs_ufedjqcbjijzvfdzqzrt_ind_0').style.opacity = 1;\"\n",
       "            onmouseout=\"document.getElementById('_fb_ufedjqcbjijzvfdzqzrt_ind_0').style.opacity = 0; document.getElementById('_fs_ufedjqcbjijzvfdzqzrt_ind_0').style.opacity = 0;\"\n",
       "        ></div></div><div style='display: inline; text-align: center;'\n",
       "    ><div style='display: none; color: #999; padding-top: 0px; font-size: 12px;'>-0.049</div\n",
       "        ><div id='_tp_ufedjqcbjijzvfdzqzrt_ind_1'\n",
       "            style='display: inline; background: rgba(30.0, 136.0, 229.0, 0.14078035254505836); border-radius: 3px; padding: 0px'\n",
       "            onclick=\"\n",
       "            if (this.previousSibling.style.display == 'none') {\n",
       "                this.previousSibling.style.display = 'block';\n",
       "                this.parentNode.style.display = 'inline-block';\n",
       "            } else {\n",
       "                this.previousSibling.style.display = 'none';\n",
       "                this.parentNode.style.display = 'inline';\n",
       "            }\"\n",
       "            onmouseover=\"document.getElementById('_fb_ufedjqcbjijzvfdzqzrt_ind_1').style.opacity = 1; document.getElementById('_fs_ufedjqcbjijzvfdzqzrt_ind_1').style.opacity = 1;\"\n",
       "            onmouseout=\"document.getElementById('_fb_ufedjqcbjijzvfdzqzrt_ind_1').style.opacity = 0; document.getElementById('_fs_ufedjqcbjijzvfdzqzrt_ind_1').style.opacity = 0;\"\n",
       "        >I </div></div><div style='display: inline; text-align: center;'\n",
       "    ><div style='display: none; color: #999; padding-top: 0px; font-size: 12px;'>0.004</div\n",
       "        ><div id='_tp_ufedjqcbjijzvfdzqzrt_ind_2'\n",
       "            style='display: inline; background: rgba(255.0, 13.0, 87.0, 0.00677361853832443); border-radius: 3px; padding: 0px'\n",
       "            onclick=\"\n",
       "            if (this.previousSibling.style.display == 'none') {\n",
       "                this.previousSibling.style.display = 'block';\n",
       "                this.parentNode.style.display = 'inline-block';\n",
       "            } else {\n",
       "                this.previousSibling.style.display = 'none';\n",
       "                this.parentNode.style.display = 'inline';\n",
       "            }\"\n",
       "            onmouseover=\"document.getElementById('_fb_ufedjqcbjijzvfdzqzrt_ind_2').style.opacity = 1; document.getElementById('_fs_ufedjqcbjijzvfdzqzrt_ind_2').style.opacity = 1;\"\n",
       "            onmouseout=\"document.getElementById('_fb_ufedjqcbjijzvfdzqzrt_ind_2').style.opacity = 0; document.getElementById('_fs_ufedjqcbjijzvfdzqzrt_ind_2').style.opacity = 0;\"\n",
       "        >love </div></div><div style='display: inline; text-align: center;'\n",
       "    ><div style='display: none; color: #999; padding-top: 0px; font-size: 12px;'>-0.114</div\n",
       "        ><div id='_tp_ufedjqcbjijzvfdzqzrt_ind_3'\n",
       "            style='display: inline; background: rgba(30.0, 136.0, 229.0, 0.3299663299663299); border-radius: 3px; padding: 0px'\n",
       "            onclick=\"\n",
       "            if (this.previousSibling.style.display == 'none') {\n",
       "                this.previousSibling.style.display = 'block';\n",
       "                this.parentNode.style.display = 'inline-block';\n",
       "            } else {\n",
       "                this.previousSibling.style.display = 'none';\n",
       "                this.parentNode.style.display = 'inline';\n",
       "            }\"\n",
       "            onmouseover=\"document.getElementById('_fb_ufedjqcbjijzvfdzqzrt_ind_3').style.opacity = 1; document.getElementById('_fs_ufedjqcbjijzvfdzqzrt_ind_3').style.opacity = 1;\"\n",
       "            onmouseout=\"document.getElementById('_fb_ufedjqcbjijzvfdzqzrt_ind_3').style.opacity = 0; document.getElementById('_fs_ufedjqcbjijzvfdzqzrt_ind_3').style.opacity = 0;\"\n",
       "        >playing </div></div><div style='display: inline; text-align: center;'\n",
       "    ><div style='display: none; color: #999; padding-top: 0px; font-size: 12px;'>-0.122</div\n",
       "        ><div id='_tp_ufedjqcbjijzvfdzqzrt_ind_4'\n",
       "            style='display: inline; background: rgba(30.0, 136.0, 229.0, 0.35361457714398903); border-radius: 3px; padding: 0px'\n",
       "            onclick=\"\n",
       "            if (this.previousSibling.style.display == 'none') {\n",
       "                this.previousSibling.style.display = 'block';\n",
       "                this.parentNode.style.display = 'inline-block';\n",
       "            } else {\n",
       "                this.previousSibling.style.display = 'none';\n",
       "                this.parentNode.style.display = 'inline';\n",
       "            }\"\n",
       "            onmouseover=\"document.getElementById('_fb_ufedjqcbjijzvfdzqzrt_ind_4').style.opacity = 1; document.getElementById('_fs_ufedjqcbjijzvfdzqzrt_ind_4').style.opacity = 1;\"\n",
       "            onmouseout=\"document.getElementById('_fb_ufedjqcbjijzvfdzqzrt_ind_4').style.opacity = 0; document.getElementById('_fs_ufedjqcbjijzvfdzqzrt_ind_4').style.opacity = 0;\"\n",
       "        >cricket</div></div><div style='display: inline; text-align: center;'\n",
       "    ><div style='display: none; color: #999; padding-top: 0px; font-size: 12px;'>-0.17</div\n",
       "        ><div id='_tp_ufedjqcbjijzvfdzqzrt_ind_5'\n",
       "            style='display: inline; background: rgba(30.0, 136.0, 229.0, 0.4955040602099425); border-radius: 3px; padding: 0px'\n",
       "            onclick=\"\n",
       "            if (this.previousSibling.style.display == 'none') {\n",
       "                this.previousSibling.style.display = 'block';\n",
       "                this.parentNode.style.display = 'inline-block';\n",
       "            } else {\n",
       "                this.previousSibling.style.display = 'none';\n",
       "                this.parentNode.style.display = 'inline';\n",
       "            }\"\n",
       "            onmouseover=\"document.getElementById('_fb_ufedjqcbjijzvfdzqzrt_ind_5').style.opacity = 1; document.getElementById('_fs_ufedjqcbjijzvfdzqzrt_ind_5').style.opacity = 1;\"\n",
       "            onmouseout=\"document.getElementById('_fb_ufedjqcbjijzvfdzqzrt_ind_5').style.opacity = 0; document.getElementById('_fs_ufedjqcbjijzvfdzqzrt_ind_5').style.opacity = 0;\"\n",
       "        >!</div></div><div style='display: inline; text-align: center;'\n",
       "    ><div style='display: none; color: #999; padding-top: 0px; font-size: 12px;'>-0.341</div\n",
       "        ><div id='_tp_ufedjqcbjijzvfdzqzrt_ind_6'\n",
       "            style='display: inline; background: rgba(30.0, 136.0, 229.0, 1.0); border-radius: 3px; padding: 0px'\n",
       "            onclick=\"\n",
       "            if (this.previousSibling.style.display == 'none') {\n",
       "                this.previousSibling.style.display = 'block';\n",
       "                this.parentNode.style.display = 'inline-block';\n",
       "            } else {\n",
       "                this.previousSibling.style.display = 'none';\n",
       "                this.parentNode.style.display = 'inline';\n",
       "            }\"\n",
       "            onmouseover=\"document.getElementById('_fb_ufedjqcbjijzvfdzqzrt_ind_6').style.opacity = 1; document.getElementById('_fs_ufedjqcbjijzvfdzqzrt_ind_6').style.opacity = 1;\"\n",
       "            onmouseout=\"document.getElementById('_fb_ufedjqcbjijzvfdzqzrt_ind_6').style.opacity = 0; document.getElementById('_fs_ufedjqcbjijzvfdzqzrt_ind_6').style.opacity = 0;\"\n",
       "        ></div></div></div></div></div>"
      ],
      "text/plain": [
       "<IPython.core.display.HTML object>"
      ]
     },
     "metadata": {},
     "output_type": "display_data"
    },
    {
     "data": {
      "image/png": "[encoded data removed]",
      "text/plain": [
       "<Figure size 576x360 with 1 Axes>"
      ]
     },
     "metadata": {},
     "output_type": "display_data"
    }
   ],
   "source": [
    "import entry_point\n",
    "entry_point.entry_point(pipe, text)"
   ]
  }
 ],
 "metadata": {
  "kernelspec": {
   "display_name": "Python 3.10.4 ('explainable-ai-tooling': conda)",
   "language": "python",
   "name": "python3"
  },
  "language_info": {
   "codemirror_mode": {
    "name": "ipython",
    "version": 3
   },
   "file_extension": ".py",
   "mimetype": "text/x-python",
   "name": "python",
   "nbconvert_exporter": "python",
   "pygments_lexer": "ipython3",
   "version": "3.10.4"
  },
  "vscode": {
   "interpreter": {
    "hash": "47de4e6fcdf76d9f7e9823221d58331110ca8a86e4fcaa17b27f269bc08adee8"
   }
  },
  "widgets": {
   "application/vnd.jupyter.widget-state+json": {
    "state": {
     "00330b72ddef456698217895b922bfab": {
      "model_module": "@jupyter-widgets/controls",
      "model_module_version": "1.5.0",
      "model_name": "HTMLModel",
      "state": {
       "layout": "IPY_MODEL_449b9240a0494605b528c39f4cac29e9",
       "style": "IPY_MODEL_2c6fd9c99ee4430497a6cfa57ab68f8b",
       "value": "Downloading: 100%"
      }
     },
     "06f207f4aea149b089a71cc85ff8d6fe": {
      "model_module": "@jupyter-widgets/controls",
      "model_module_version": "1.5.0",
      "model_name": "DescriptionStyleModel",
      "state": {
       "description_width": ""
      }
     },
     "0b7c5a0b07f441048d5e929177921db3": {
      "model_module": "@jupyter-widgets/controls",
      "model_module_version": "1.5.0",
      "model_name": "HTMLModel",
      "state": {
       "layout": "IPY_MODEL_203866393a8b4fc7aa6190397c3a2f15",
       "style": "IPY_MODEL_fa59eb4405ff4937a291a5bf665d43a2",
       "value": "Downloading: 100%"
      }
     },
     "0f63ad2f78ca410ea7e49ec6ee6ea6e6": {
      "model_module": "@jupyter-widgets/base",
      "model_module_version": "1.2.0",
      "model_name": "LayoutModel",
      "state": {}
     },
     "0f75c3792f5b4d2b8bfb1be41dd7265d": {
      "model_module": "@jupyter-widgets/controls",
      "model_module_version": "1.5.0",
      "model_name": "HBoxModel",
      "state": {
       "children": [
        "IPY_MODEL_585e7b1006624e27b76d5a7e120f457e",
        "IPY_MODEL_1833323a3f3e434f829eca2140ef44b9",
        "IPY_MODEL_2cc705becb014e348e704a77edd8570a"
       ],
       "layout": "IPY_MODEL_76f30f4088ff4076a5006d241c55b082"
      }
     },
     "10595c49efc54165a4435850a7a20c3b": {
      "model_module": "@jupyter-widgets/controls",
      "model_module_version": "1.5.0",
      "model_name": "FloatProgressModel",
      "state": {
       "layout": "IPY_MODEL_52e1153279104779b1b4be6725bf9740",
       "max": 42,
       "style": "IPY_MODEL_3ab3444c3dae41e5bac9d668de528804",
       "value": 42
      }
     },
     "1117a5f066df414fad562f6674e7848c": {
      "model_module": "@jupyter-widgets/base",
      "model_module_version": "1.2.0",
      "model_name": "LayoutModel",
      "state": {}
     },
     "175ad685f2844206bcf91cac201560f2": {
      "model_module": "@jupyter-widgets/controls",
      "model_module_version": "1.5.0",
      "model_name": "HTMLModel",
      "state": {
       "layout": "IPY_MODEL_b2fb633f21d3437f9f00753554a6113c",
       "style": "IPY_MODEL_4f7072d34eb74f24b3a0f10b64af981e",
       "value": "Downloading: 100%"
      }
     },
     "1833323a3f3e434f829eca2140ef44b9": {
      "model_module": "@jupyter-widgets/controls",
      "model_module_version": "1.5.0",
      "model_name": "FloatProgressModel",
      "state": {
       "bar_style": "success",
       "layout": "IPY_MODEL_20b762ecc56840df8e4e276571c564d3",
       "max": 456318,
       "style": "IPY_MODEL_41b16fa38f954b68b70c31a33289d352",
       "value": 456318
      }
     },
     "19587fb6b8044fbf9a4a2acfe31a377c": {
      "model_module": "@jupyter-widgets/base",
      "model_module_version": "1.2.0",
      "model_name": "LayoutModel",
      "state": {}
     },
     "19a3e35c50a648cfa96d30f7c9bfdc61": {
      "model_module": "@jupyter-widgets/base",
      "model_module_version": "1.2.0",
      "model_name": "LayoutModel",
      "state": {}
     },
     "1d39252c6137485dac59ca98073f6096": {
      "model_module": "@jupyter-widgets/base",
      "model_module_version": "1.2.0",
      "model_name": "LayoutModel",
      "state": {}
     },
     "203866393a8b4fc7aa6190397c3a2f15": {
      "model_module": "@jupyter-widgets/base",
      "model_module_version": "1.2.0",
      "model_name": "LayoutModel",
      "state": {}
     },
     "20b762ecc56840df8e4e276571c564d3": {
      "model_module": "@jupyter-widgets/base",
      "model_module_version": "1.2.0",
      "model_name": "LayoutModel",
      "state": {}
     },
     "228d98c7bafa498e95277f676cac544a": {
      "model_module": "@jupyter-widgets/controls",
      "model_module_version": "1.5.0",
      "model_name": "DescriptionStyleModel",
      "state": {
       "description_width": ""
      }
     },
     "23fb0fdc24fe4754bc654b616ccb8054": {
      "model_module": "@jupyter-widgets/base",
      "model_module_version": "1.2.0",
      "model_name": "LayoutModel",
      "state": {}
     },
     "2c6fd9c99ee4430497a6cfa57ab68f8b": {
      "model_module": "@jupyter-widgets/controls",
      "model_module_version": "1.5.0",
      "model_name": "DescriptionStyleModel",
      "state": {
       "description_width": ""
      }
     },
     "2cc705becb014e348e704a77edd8570a": {
      "model_module": "@jupyter-widgets/controls",
      "model_module_version": "1.5.0",
      "model_name": "HTMLModel",
      "state": {
       "layout": "IPY_MODEL_23fb0fdc24fe4754bc654b616ccb8054",
       "style": "IPY_MODEL_36054cff2e164a75b3f7e6aa58e95c50",
       "value": " 446k/446k [00:00&lt;00:00, 849kB/s]"
      }
     },
     "2d12d39c685241508d82efd394025cc1": {
      "model_module": "@jupyter-widgets/base",
      "model_module_version": "1.2.0",
      "model_name": "LayoutModel",
      "state": {}
     },
     "3154cb7b775847a79345ea3e37c89607": {
      "model_module": "@jupyter-widgets/controls",
      "model_module_version": "1.5.0",
      "model_name": "DescriptionStyleModel",
      "state": {
       "description_width": ""
      }
     },
     "336d36d17a4d4b5e9536346f10bc603b": {
      "model_module": "@jupyter-widgets/controls",
      "model_module_version": "1.5.0",
      "model_name": "HTMLModel",
      "state": {
       "layout": "IPY_MODEL_77f4b248a4874426843c09bbff1394f3",
       "style": "IPY_MODEL_b6571b30919147508345bf354e10efb4",
       "value": " 878k/878k [00:00&lt;00:00, 1.65MB/s]"
      }
     },
     "3491bb815d82497f8244ed322080a55a": {
      "model_module": "@jupyter-widgets/controls",
      "model_module_version": "1.5.0",
      "model_name": "DescriptionStyleModel",
      "state": {
       "description_width": ""
      }
     },
     "36054cff2e164a75b3f7e6aa58e95c50": {
      "model_module": "@jupyter-widgets/controls",
      "model_module_version": "1.5.0",
      "model_name": "DescriptionStyleModel",
      "state": {
       "description_width": ""
      }
     },
     "3ab3444c3dae41e5bac9d668de528804": {
      "model_module": "@jupyter-widgets/controls",
      "model_module_version": "1.5.0",
      "model_name": "ProgressStyleModel",
      "state": {
       "description_width": ""
      }
     },
     "41b16fa38f954b68b70c31a33289d352": {
      "model_module": "@jupyter-widgets/controls",
      "model_module_version": "1.5.0",
      "model_name": "ProgressStyleModel",
      "state": {
       "description_width": ""
      }
     },
     "449b9240a0494605b528c39f4cac29e9": {
      "model_module": "@jupyter-widgets/base",
      "model_module_version": "1.2.0",
      "model_name": "LayoutModel",
      "state": {}
     },
     "47345a95fef5488ca9b33827e2b37bd3": {
      "model_module": "@jupyter-widgets/base",
      "model_module_version": "1.2.0",
      "model_name": "LayoutModel",
      "state": {}
     },
     "487b2122806d492fab48839f5db08f07": {
      "model_module": "@jupyter-widgets/controls",
      "model_module_version": "1.5.0",
      "model_name": "HBoxModel",
      "state": {
       "children": [
        "IPY_MODEL_0b7c5a0b07f441048d5e929177921db3",
        "IPY_MODEL_f2ecbe415cd04119943b318ebeb1647e",
        "IPY_MODEL_83dcf4ac87b3402fba5ec9b86b3b5cc7"
       ],
       "layout": "IPY_MODEL_1117a5f066df414fad562f6674e7848c"
      }
     },
     "4f7072d34eb74f24b3a0f10b64af981e": {
      "model_module": "@jupyter-widgets/controls",
      "model_module_version": "1.5.0",
      "model_name": "DescriptionStyleModel",
      "state": {
       "description_width": ""
      }
     },
     "52e1153279104779b1b4be6725bf9740": {
      "model_module": "@jupyter-widgets/base",
      "model_module_version": "1.2.0",
      "model_name": "LayoutModel",
      "state": {}
     },
     "585e7b1006624e27b76d5a7e120f457e": {
      "model_module": "@jupyter-widgets/controls",
      "model_module_version": "1.5.0",
      "model_name": "HTMLModel",
      "state": {
       "layout": "IPY_MODEL_19587fb6b8044fbf9a4a2acfe31a377c",
       "style": "IPY_MODEL_3491bb815d82497f8244ed322080a55a",
       "value": "Downloading: 100%"
      }
     },
     "5e137dc6da974a49ad2f3b65523d79f7": {
      "model_module": "@jupyter-widgets/controls",
      "model_module_version": "1.5.0",
      "model_name": "ProgressStyleModel",
      "state": {
       "description_width": ""
      }
     },
     "5faacb4c66f24ddfb6b947a71bdb5a71": {
      "model_module": "@jupyter-widgets/base",
      "model_module_version": "1.2.0",
      "model_name": "LayoutModel",
      "state": {}
     },
     "6e87f1d5cf1a45628117eec124fc6477": {
      "model_module": "@jupyter-widgets/base",
      "model_module_version": "1.2.0",
      "model_name": "LayoutModel",
      "state": {}
     },
     "76f30f4088ff4076a5006d241c55b082": {
      "model_module": "@jupyter-widgets/base",
      "model_module_version": "1.2.0",
      "model_name": "LayoutModel",
      "state": {}
     },
     "77f4b248a4874426843c09bbff1394f3": {
      "model_module": "@jupyter-widgets/base",
      "model_module_version": "1.2.0",
      "model_name": "LayoutModel",
      "state": {}
     },
     "7d84f590904b4a39b187c5969bf62386": {
      "model_module": "@jupyter-widgets/base",
      "model_module_version": "1.2.0",
      "model_name": "LayoutModel",
      "state": {}
     },
     "83dcf4ac87b3402fba5ec9b86b3b5cc7": {
      "model_module": "@jupyter-widgets/controls",
      "model_module_version": "1.5.0",
      "model_name": "HTMLModel",
      "state": {
       "layout": "IPY_MODEL_2d12d39c685241508d82efd394025cc1",
       "style": "IPY_MODEL_ccdd474d65e44afb8c6b855a0bf12800",
       "value": " 26.0/26.0 [00:00&lt;00:00, 1.01kB/s]"
      }
     },
     "852680bc3fe14d88be781f4ab3741397": {
      "model_module": "@jupyter-widgets/controls",
      "model_module_version": "1.5.0",
      "model_name": "DescriptionStyleModel",
      "state": {
       "description_width": ""
      }
     },
     "8929f9e6b25a4a16886a0c326440fb0e": {
      "model_module": "@jupyter-widgets/controls",
      "model_module_version": "1.5.0",
      "model_name": "FloatProgressModel",
      "state": {
       "bar_style": "success",
       "layout": "IPY_MODEL_9db2d5e3b6bc4418aa6ff1132ab6fae7",
       "max": 898822,
       "style": "IPY_MODEL_a58e029d3a3f4976993b241b38e59c8f",
       "value": 898822
      }
     },
     "9656c0ab5f3e4b03a4914e5032af42b0": {
      "model_module": "@jupyter-widgets/base",
      "model_module_version": "1.2.0",
      "model_name": "LayoutModel",
      "state": {}
     },
     "9db2d5e3b6bc4418aa6ff1132ab6fae7": {
      "model_module": "@jupyter-widgets/base",
      "model_module_version": "1.2.0",
      "model_name": "LayoutModel",
      "state": {}
     },
     "a117a08434ac41ac9f2251bf3d26939a": {
      "model_module": "@jupyter-widgets/controls",
      "model_module_version": "1.5.0",
      "model_name": "HTMLModel",
      "state": {
       "layout": "IPY_MODEL_b7aa361b747e4f3fa05d481123d77648",
       "style": "IPY_MODEL_d16f41fa385342ca980aa17f5bd539f6",
       "value": "Downloading: 100%"
      }
     },
     "a58e029d3a3f4976993b241b38e59c8f": {
      "model_module": "@jupyter-widgets/controls",
      "model_module_version": "1.5.0",
      "model_name": "ProgressStyleModel",
      "state": {
       "description_width": ""
      }
     },
     "a946c956fb274330b5c1d24b106251bc": {
      "model_module": "@jupyter-widgets/base",
      "model_module_version": "1.2.0",
      "model_name": "LayoutModel",
      "state": {}
     },
     "b2fb633f21d3437f9f00753554a6113c": {
      "model_module": "@jupyter-widgets/base",
      "model_module_version": "1.2.0",
      "model_name": "LayoutModel",
      "state": {}
     },
     "b6571b30919147508345bf354e10efb4": {
      "model_module": "@jupyter-widgets/controls",
      "model_module_version": "1.5.0",
      "model_name": "DescriptionStyleModel",
      "state": {
       "description_width": ""
      }
     },
     "b6a8dcb2f1a54d4787d26004b74b9057": {
      "model_module": "@jupyter-widgets/base",
      "model_module_version": "1.2.0",
      "model_name": "LayoutModel",
      "state": {}
     },
     "b7aa361b747e4f3fa05d481123d77648": {
      "model_module": "@jupyter-widgets/base",
      "model_module_version": "1.2.0",
      "model_name": "LayoutModel",
      "state": {}
     },
     "bbf53e74708e45b48188b38f3c991372": {
      "model_module": "@jupyter-widgets/controls",
      "model_module_version": "1.5.0",
      "model_name": "ProgressStyleModel",
      "state": {
       "description_width": ""
      }
     },
     "cacbaf8508a241b6bfa3e0a3b85e31bd": {
      "model_module": "@jupyter-widgets/controls",
      "model_module_version": "1.5.0",
      "model_name": "HBoxModel",
      "state": {
       "children": [
        "IPY_MODEL_175ad685f2844206bcf91cac201560f2",
        "IPY_MODEL_d426b26b8b464061bd29d5ea280fa80c",
        "IPY_MODEL_d2a589714faf4983bf7d4f5a910f27b3"
       ],
       "layout": "IPY_MODEL_6e87f1d5cf1a45628117eec124fc6477"
      }
     },
     "cbbe142134004c6ab0c673edf68968d0": {
      "model_module": "@jupyter-widgets/controls",
      "model_module_version": "1.5.0",
      "model_name": "HBoxModel",
      "state": {
       "children": [
        "IPY_MODEL_00330b72ddef456698217895b922bfab",
        "IPY_MODEL_cdcbda2159b449809b866d806b9dc67e",
        "IPY_MODEL_d11a1e74d1da4108aed6b24675d465f1"
       ],
       "layout": "IPY_MODEL_0f63ad2f78ca410ea7e49ec6ee6ea6e6"
      }
     },
     "ccdd474d65e44afb8c6b855a0bf12800": {
      "model_module": "@jupyter-widgets/controls",
      "model_module_version": "1.5.0",
      "model_name": "DescriptionStyleModel",
      "state": {
       "description_width": ""
      }
     },
     "cdcbda2159b449809b866d806b9dc67e": {
      "model_module": "@jupyter-widgets/controls",
      "model_module_version": "1.5.0",
      "model_name": "FloatProgressModel",
      "state": {
       "bar_style": "success",
       "layout": "IPY_MODEL_7d84f590904b4a39b187c5969bf62386",
       "max": 772,
       "style": "IPY_MODEL_5e137dc6da974a49ad2f3b65523d79f7",
       "value": 772
      }
     },
     "d11a1e74d1da4108aed6b24675d465f1": {
      "model_module": "@jupyter-widgets/controls",
      "model_module_version": "1.5.0",
      "model_name": "HTMLModel",
      "state": {
       "layout": "IPY_MODEL_19a3e35c50a648cfa96d30f7c9bfdc61",
       "style": "IPY_MODEL_06f207f4aea149b089a71cc85ff8d6fe",
       "value": " 772/772 [00:00&lt;00:00, 34.8kB/s]"
      }
     },
     "d16f41fa385342ca980aa17f5bd539f6": {
      "model_module": "@jupyter-widgets/controls",
      "model_module_version": "1.5.0",
      "model_name": "DescriptionStyleModel",
      "state": {
       "description_width": ""
      }
     },
     "d2a589714faf4983bf7d4f5a910f27b3": {
      "model_module": "@jupyter-widgets/controls",
      "model_module_version": "1.5.0",
      "model_name": "HTMLModel",
      "state": {
       "layout": "IPY_MODEL_f0f1bb6fbc644705a64e64a5744d1cfa",
       "style": "IPY_MODEL_3154cb7b775847a79345ea3e37c89607",
       "value": " 977M/977M [02:00&lt;00:00, 9.22MB/s]"
      }
     },
     "d426b26b8b464061bd29d5ea280fa80c": {
      "model_module": "@jupyter-widgets/controls",
      "model_module_version": "1.5.0",
      "model_name": "FloatProgressModel",
      "state": {
       "bar_style": "success",
       "layout": "IPY_MODEL_a946c956fb274330b5c1d24b106251bc",
       "max": 1024804435,
       "style": "IPY_MODEL_bbf53e74708e45b48188b38f3c991372",
       "value": 1024804435
      }
     },
     "d648564560af430caeec60542886c971": {
      "model_module": "@jupyter-widgets/controls",
      "model_module_version": "1.5.0",
      "model_name": "HTMLModel",
      "state": {
       "layout": "IPY_MODEL_b6a8dcb2f1a54d4787d26004b74b9057",
       "style": "IPY_MODEL_228d98c7bafa498e95277f676cac544a",
       "value": " 84/? [00:08&lt;00:00,  6.43it/s]"
      }
     },
     "dbbeee41eb1c4f619203be74f228a0c5": {
      "model_module": "@jupyter-widgets/controls",
      "model_module_version": "1.5.0",
      "model_name": "ProgressStyleModel",
      "state": {
       "description_width": ""
      }
     },
     "deea6d8d76dc4fedb5930ebbd26ebafc": {
      "model_module": "@jupyter-widgets/controls",
      "model_module_version": "1.5.0",
      "model_name": "HBoxModel",
      "state": {
       "children": [
        "IPY_MODEL_a117a08434ac41ac9f2251bf3d26939a",
        "IPY_MODEL_8929f9e6b25a4a16886a0c326440fb0e",
        "IPY_MODEL_336d36d17a4d4b5e9536346f10bc603b"
       ],
       "layout": "IPY_MODEL_9656c0ab5f3e4b03a4914e5032af42b0"
      }
     },
     "f0f1bb6fbc644705a64e64a5744d1cfa": {
      "model_module": "@jupyter-widgets/base",
      "model_module_version": "1.2.0",
      "model_name": "LayoutModel",
      "state": {}
     },
     "f2ecbe415cd04119943b318ebeb1647e": {
      "model_module": "@jupyter-widgets/controls",
      "model_module_version": "1.5.0",
      "model_name": "FloatProgressModel",
      "state": {
       "bar_style": "success",
       "layout": "IPY_MODEL_5faacb4c66f24ddfb6b947a71bdb5a71",
       "max": 26,
       "style": "IPY_MODEL_dbbeee41eb1c4f619203be74f228a0c5",
       "value": 26
      }
     },
     "fa59eb4405ff4937a291a5bf665d43a2": {
      "model_module": "@jupyter-widgets/controls",
      "model_module_version": "1.5.0",
      "model_name": "DescriptionStyleModel",
      "state": {
       "description_width": ""
      }
     },
     "ff5c5ad28d794af5a7f5aaf3619a2384": {
      "model_module": "@jupyter-widgets/controls",
      "model_module_version": "1.5.0",
      "model_name": "HTMLModel",
      "state": {
       "layout": "IPY_MODEL_1d39252c6137485dac59ca98073f6096",
       "style": "IPY_MODEL_852680bc3fe14d88be781f4ab3741397"
      }
     }
    },
    "version_major": 2,
    "version_minor": 0
   }
  }
 },
 "nbformat": 4,
 "nbformat_minor": 4
}
