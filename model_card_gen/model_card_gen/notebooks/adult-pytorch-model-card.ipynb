{
 "cells": [
  {
   "cell_type": "markdown",
   "id": "cd16e50d",
   "metadata": {},
   "source": [
    "# Generating Model Card with PyTorch"
   ]
  },
  {
   "cell_type": "markdown",
   "id": "3a116383",
   "metadata": {},
   "source": [
    "This noteobok intends to provide an example of generating a model card for a PyTorch model using Intel Model Card Generator.\n",
    "\n",
    "   1. [Data Collection and Prerpocessing from Adult Dataset](#1.-Data-Collection-and-Prerpocessing)\n",
    "   2. [Build Multilayer Neural NetWork using PyTorch](#2.-Build-Model)\n",
    "   3. [Train Model](#3.-Train-Model)\n",
    "   4. [Collecting Inference Data](#4.-Run-Inference-and-Testing)\n",
    "   5. [Generate Model Card with Intel Model Card Generator](#5.-Generate-Model-Card)"
   ]
  },
  {
   "cell_type": "code",
   "execution_count": null,
   "id": "863845f1",
   "metadata": {},
   "outputs": [],
   "source": [
    "import pandas as pd\n",
    "import numpy as np\n",
    "import torch\n",
    "import torch.nn as nn\n",
    "import os\n",
    "from sklearn.datasets import fetch_openml\n",
    "from sklearn.model_selection import train_test_split\n",
    "from model_card_gen.model_card_gen import ModelCardGen"
   ]
  },
  {
   "cell_type": "markdown",
   "id": "8a5a1e7a",
   "metadata": {},
   "source": [
    "## 1. Data Collection and Prerpocessing"
   ]
  },
  {
   "cell_type": "code",
   "execution_count": null,
   "id": "f9a4f04f",
   "metadata": {},
   "outputs": [],
   "source": [
    "CATEGORICAL_FEATURE_KEYS = [\n",
    "    'workclass',\n",
    "    'marital-status',\n",
    "    'occupation',\n",
    "    'relationship',\n",
    "    'race',\n",
    "    'sex',\n",
    "    'native-country',\n",
    "]\n",
    "\n",
    "NUMERIC_FEATURE_KEYS = [\n",
    "    'age',\n",
    "    'capital-gain',\n",
    "    'capital-loss',\n",
    "    'hours-per-week',\n",
    "    'education-num'\n",
    "]\n",
    "\n",
    "\n",
    "DROP_COLUMNS = ['fnlwgt', 'education']\n",
    "\n",
    "LABEL_KEY = 'label'"
   ]
  },
  {
   "cell_type": "markdown",
   "id": "69777d31",
   "metadata": {},
   "source": [
    "#### Fetch Data form OpenML"
   ]
  },
  {
   "cell_type": "code",
   "execution_count": null,
   "id": "92436295",
   "metadata": {},
   "outputs": [],
   "source": [
    "data = fetch_openml(data_id=1590, as_frame=True)\n",
    "raw_data = data.data\n",
    "raw_data['label'] = data.target\n",
    "adult_data = raw_data.copy()"
   ]
  },
  {
   "cell_type": "markdown",
   "id": "a0595f01",
   "metadata": {},
   "source": [
    "#### Drop Unneeded Columns"
   ]
  },
  {
   "cell_type": "code",
   "execution_count": null,
   "id": "9657c9ab",
   "metadata": {},
   "outputs": [],
   "source": [
    "adult_data = adult_data.drop(DROP_COLUMNS, axis=1)\n",
    "adult_data = pd.get_dummies(adult_data, columns=CATEGORICAL_FEATURE_KEYS)\n",
    "adult_data['label'] = adult_data['label'].map({'<=50K': 0, '>50K': 1})"
   ]
  },
  {
   "cell_type": "markdown",
   "id": "74bdd119",
   "metadata": {},
   "source": [
    "#### Train Test Split"
   ]
  },
  {
   "cell_type": "code",
   "execution_count": null,
   "id": "c4d12735",
   "metadata": {},
   "outputs": [],
   "source": [
    "# Convert features and labels to numpy arrays.\n",
    "labels = adult_data['label'].to_numpy()\n",
    "adult_data = adult_data.drop(['label'], axis=1)\n",
    "feature_names = list(adult_data.columns)\n",
    "data = adult_data.to_numpy()\n",
    "\n",
    "# Separate training and test sets using \n",
    "train_indices = np.random.choice(len(labels), int(0.7 * len(labels)), replace=False)\n",
    "test_indices = list(set(range(len(labels))) - set(train_indices))\n",
    "\n",
    "train_features = data[train_indices]\n",
    "train_labels = labels[train_indices]\n",
    "\n",
    "test_features = data[test_indices]\n",
    "test_labels = labels[test_indices]\n",
    "\n",
    "train_df = raw_data.iloc[train_indices].copy()\n",
    "test_df = raw_data.iloc[test_indices].copy()"
   ]
  },
  {
   "cell_type": "markdown",
   "id": "0ae44650",
   "metadata": {},
   "source": [
    "## 2. Build Model"
   ]
  },
  {
   "cell_type": "code",
   "execution_count": null,
   "id": "703d2cf7",
   "metadata": {},
   "outputs": [],
   "source": [
    "torch.manual_seed(1)  # Set seed for reproducibility.\n",
    "\n",
    "class AdultNN(nn.Module):\n",
    "    def __init__(self, feature_size, num_labels):\n",
    "        super().__init__()\n",
    "        self.linear1 = nn.Linear(feature_size, feature_size)\n",
    "        self.sigmoid1 = nn.Sigmoid()\n",
    "        self.linear2 = nn.Linear(feature_size, 8)\n",
    "        self.sigmoid2 = nn.Sigmoid()\n",
    "        self.linear3 = nn.Linear(8, 2)\n",
    "        self.softmax = nn.Softmax(dim=1)\n",
    "\n",
    "    def forward(self, x):\n",
    "        lin1_out = self.linear1(x)\n",
    "        sigmoid_out1 = self.sigmoid1(lin1_out)\n",
    "        sigmoid_out2 = self.sigmoid2(self.linear2(sigmoid_out1))\n",
    "        return self.softmax(self.linear3(sigmoid_out2))"
   ]
  },
  {
   "cell_type": "markdown",
   "id": "488da543",
   "metadata": {},
   "source": [
    "## 3. Train Model"
   ]
  },
  {
   "cell_type": "code",
   "execution_count": null,
   "id": "a6e0a24c",
   "metadata": {},
   "outputs": [],
   "source": [
    "net = AdultNN(len(feature_names), 2)\n",
    "\n",
    "criterion = nn.CrossEntropyLoss()\n",
    "num_epochs = 200\n",
    "\n",
    "optimizer = torch.optim.Adam(net.parameters(), lr=0.001)\n",
    "input_tensor = torch.from_numpy(train_features).type(torch.FloatTensor)\n",
    "label_tensor = torch.from_numpy(train_labels)\n",
    "for epoch in range(num_epochs):    \n",
    "    output = net(input_tensor)\n",
    "    loss = criterion(output, label_tensor)\n",
    "    optimizer.zero_grad()\n",
    "    loss.backward()\n",
    "    optimizer.step()\n",
    "    if epoch % 20 == 0:\n",
    "        print ('Epoch {}/{} => Loss: {:.2f}'.format(epoch+1, num_epochs, loss.item()))"
   ]
  },
  {
   "cell_type": "markdown",
   "id": "84abfd7a",
   "metadata": {},
   "source": [
    "## 4. Run Inference and Testing"
   ]
  },
  {
   "cell_type": "code",
   "execution_count": null,
   "id": "e05f3272",
   "metadata": {},
   "outputs": [],
   "source": [
    "test_input_tensor = torch.from_numpy(test_features).type(torch.FloatTensor)\n",
    "test_label_tensor = torch.from_numpy(test_labels)\n",
    "\n",
    "y_probs_test = net(test_input_tensor).detach().numpy()\n",
    "y_preds_test = np.argmax(y_probs_test, axis=1)"
   ]
  },
  {
   "cell_type": "code",
   "execution_count": null,
   "id": "a51ddd68",
   "metadata": {},
   "outputs": [],
   "source": [
    "train_input_tensor = torch.from_numpy(train_features).type(torch.FloatTensor)\n",
    "train_label_tensor = torch.from_numpy(train_labels)\n",
    "\n",
    "y_probs_train = net(train_input_tensor).detach().numpy()\n",
    "y_preds_train = np.argmax(y_probs_train, axis=1)"
   ]
  },
  {
   "cell_type": "code",
   "execution_count": null,
   "id": "155d2bd5",
   "metadata": {},
   "outputs": [],
   "source": [
    "print(\"Train Accuracy:\", sum(y_preds_train == train_labels) / len(train_labels))\n",
    "print(\"Test Accuracy:\", sum(y_preds_test == test_labels) / len(test_labels))"
   ]
  },
  {
   "cell_type": "markdown",
   "id": "1bd634cb",
   "metadata": {},
   "source": [
    "**Add Outputs to DataFram**\n",
    "\n",
    "The predicted value for each datapoint needs to be added back into the  `train_df` and `test_df`, so that we can generate fairness metrics and graphs."
   ]
  },
  {
   "cell_type": "code",
   "execution_count": null,
   "id": "5aa8de1b",
   "metadata": {},
   "outputs": [],
   "source": [
    "train_df['y_prob'] = [max(prob) for prob in y_probs_train]\n",
    "train_df['y_pred'] = y_preds_train\n",
    "train_df['y_true'] = train_labels\n",
    "\n",
    "test_df['y_prob'] = [max(prob) for prob in y_probs_test]\n",
    "test_df['y_pred'] = y_preds_test\n",
    "test_df['y_true'] = test_labels"
   ]
  },
  {
   "cell_type": "markdown",
   "id": "91af620e",
   "metadata": {},
   "source": [
    "## 5. Generate Model Card"
   ]
  },
  {
   "cell_type": "markdown",
   "id": "2967b587",
   "metadata": {},
   "source": [
    "#### EvalConfig Input"
   ]
  },
  {
   "cell_type": "code",
   "execution_count": null,
   "id": "ed9522a3",
   "metadata": {},
   "outputs": [],
   "source": [
    "_eval_config = 'eval_config.proto'"
   ]
  },
  {
   "cell_type": "code",
   "execution_count": null,
   "id": "1f0f8609",
   "metadata": {},
   "outputs": [],
   "source": [
    "%%writefile {_eval_config}\n",
    "\n",
    "model_specs {\n",
    "    label_key: 'y_true'\n",
    "    prediction_key: 'y_pred'\n",
    "  }\n",
    "metrics_specs {\n",
    "    metrics {class_name: \"BinaryAccuracy\"}\n",
    "    metrics {class_name: \"AUC\"}\n",
    "    metrics {class_name: \"ConfusionMatrixPlot\"}\n",
    "#     metrics {class_name: \"ConfusionMatrixAtThresholds\"}\n",
    "    metrics {\n",
    "      class_name: \"FairnessIndicators\"\n",
    "#       config: '{\"thresholds\": [0.25, 0.5, 0.75]}'\n",
    "    }\n",
    "  }\n",
    "slicing_specs {}\n",
    "slicing_specs {\n",
    "        feature_keys: 'sex'\n",
    "#         feature_keys: 'race'\n",
    "  }\n",
    "options {\n",
    "    include_default_metrics { value: false }\n",
    "  }"
   ]
  },
  {
   "cell_type": "code",
   "execution_count": null,
   "id": "12cc26dc",
   "metadata": {},
   "outputs": [],
   "source": [
    "mc = {\n",
    "    \"schema_version\": \"0.0.1\",\n",
    "    \"model_details\": {\n",
    "        \"name\": \"Adult Multilayer Neural Network\",\n",
    "        \"version\": {\n",
    "            \"name\": \"0.1\",\n",
    "            \"date\": \"2022-08-01\"\n",
    "        },\n",
    "        \"graphics\": {},\n",
    "\n",
    "        \"citations\": [\n",
    "             {\n",
    "                \"citation\": 'Simoudis, Evangelos, Jiawei Han, and Usama Fayyad. Proceedings of the second international conference on knowledge discovery & data mining. No. CONF-960830-. AAAI Press, Menlo Park, CA (United States), 1996.'\n",
    "             },\n",
    "            {\n",
    "                \"citation\": 'Friedler, Sorelle A., et al. \"A Comparative Study of Fairness-Enhancing Interventions in Machine Learning.\" Proceedings of the Conference on Fairness, Accountability, and Transparency, 2019, https://doi.org/10.1145/3287560.3287589.'\n",
    "            },\n",
    "            {\n",
    "                \"citation\": 'Lahoti, Preethi, et al. \"Fairness without demographics through adversarially reweighted learning.\" Advances in neural information processing systems 33 (2020): 728-740.'\n",
    "            }\n",
    "        ],\n",
    "        \"overview\": 'This example model card is for a multilayer network trained \"Adult\" dataset from the UCI repository with the learning task of predicting whether a person has a salary greater or less than $50,000.',\n",
    "    }\n",
    "}"
   ]
  },
  {
   "cell_type": "code",
   "execution_count": null,
   "id": "51d56b07",
   "metadata": {},
   "outputs": [],
   "source": [
    "ModelCardGen.generate(data_sets={'train': train_df, 'test': test_df}, eval_config=_eval_config, model_card=mc)"
   ]
  },
  {
   "cell_type": "code",
   "execution_count": null,
   "id": "bb018ff7",
   "metadata": {},
   "outputs": [],
   "source": []
  }
 ],
 "metadata": {
  "kernelspec": {
   "display_name": "Python 3 (ipykernel)",
   "language": "python",
   "name": "python3"
  },
  "language_info": {
   "codemirror_mode": {
    "name": "ipython",
    "version": 3
   },
   "file_extension": ".py",
   "mimetype": "text/x-python",
   "name": "python",
   "nbconvert_exporter": "python",
   "pygments_lexer": "ipython3",
   "version": "3.8.5"
  }
 },
 "nbformat": 4,
 "nbformat_minor": 5
}
