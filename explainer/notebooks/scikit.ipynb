{
 "cells": [
  {
   "cell_type": "code",
   "execution_count": 1,
   "metadata": {},
   "outputs": [],
   "source": [
    "from sklearn.ensemble import RandomForestRegressor\n",
    "from sklearn.model_selection import train_test_split\n",
    "from sklearn.datasets import load_diabetes\n",
    "import explainer\n",
    "import matplotlib.pyplot as plt\n",
    "import seaborn as sns\n",
    "import pandas as pd\n",
    "import numpy as np"
   ]
  },
  {
   "cell_type": "code",
   "execution_count": 2,
   "metadata": {},
   "outputs": [
    {
     "name": "stdout",
     "output_type": "stream",
     "text": [
      "Training features shape: (353, 4)\n",
      "Training target shape: (353,)\n",
      "\n",
      "Test features shape: (89, 4)\n",
      "Test target shape: (89,)\n"
     ]
    },
    {
     "data": {
      "text/html": [
       "<div>\n",
       "<style scoped>\n",
       "    .dataframe tbody tr th:only-of-type {\n",
       "        vertical-align: middle;\n",
       "    }\n",
       "\n",
       "    .dataframe tbody tr th {\n",
       "        vertical-align: top;\n",
       "    }\n",
       "\n",
       "    .dataframe thead th {\n",
       "        text-align: right;\n",
       "    }\n",
       "</style>\n",
       "<table border=\"1\" class=\"dataframe\">\n",
       "  <thead>\n",
       "    <tr style=\"text-align: right;\">\n",
       "      <th></th>\n",
       "      <th>age</th>\n",
       "      <th>sex</th>\n",
       "      <th>bmi</th>\n",
       "      <th>bp</th>\n",
       "    </tr>\n",
       "  </thead>\n",
       "  <tbody>\n",
       "    <tr>\n",
       "      <th>438</th>\n",
       "      <td>-0.006</td>\n",
       "      <td>0.051</td>\n",
       "      <td>-0.016</td>\n",
       "      <td>-0.068</td>\n",
       "    </tr>\n",
       "    <tr>\n",
       "      <th>232</th>\n",
       "      <td>0.013</td>\n",
       "      <td>0.051</td>\n",
       "      <td>0.000</td>\n",
       "      <td>-0.011</td>\n",
       "    </tr>\n",
       "    <tr>\n",
       "      <th>80</th>\n",
       "      <td>0.071</td>\n",
       "      <td>-0.045</td>\n",
       "      <td>0.012</td>\n",
       "      <td>0.043</td>\n",
       "    </tr>\n",
       "    <tr>\n",
       "      <th>46</th>\n",
       "      <td>-0.056</td>\n",
       "      <td>-0.045</td>\n",
       "      <td>-0.012</td>\n",
       "      <td>-0.033</td>\n",
       "    </tr>\n",
       "    <tr>\n",
       "      <th>381</th>\n",
       "      <td>-0.071</td>\n",
       "      <td>0.051</td>\n",
       "      <td>-0.089</td>\n",
       "      <td>-0.075</td>\n",
       "    </tr>\n",
       "  </tbody>\n",
       "</table>\n",
       "</div>"
      ],
      "text/plain": [
       "       age    sex    bmi     bp\n",
       "438 -0.006  0.051 -0.016 -0.068\n",
       "232  0.013  0.051  0.000 -0.011\n",
       "80   0.071 -0.045  0.012  0.043\n",
       "46  -0.056 -0.045 -0.012 -0.033\n",
       "381 -0.071  0.051 -0.089 -0.075"
      ]
     },
     "metadata": {},
     "output_type": "display_data"
    },
    {
     "data": {
      "text/plain": [
       "RandomForestRegressor(random_state=42)"
      ]
     },
     "execution_count": 2,
     "metadata": {},
     "output_type": "execute_result"
    }
   ],
   "source": [
    "np.set_printoptions(formatter={'float': lambda x: \"{:.4f}\".format(x)})\n",
    "pd.options.display.float_format = \"{:.3f}\".format\n",
    "sns.set(style='darkgrid', context='talk', palette='rainbow')\n",
    "# Import sample data\n",
    "\n",
    "diabetes = load_diabetes(as_frame=True)\n",
    "X = diabetes['data'].iloc[:, :4]  # Select first 4 columns\n",
    "y = diabetes['target']\n",
    "# Partition data\n",
    "X_train, X_test, y_train, y_test = train_test_split(X, y,\n",
    "                                                    test_size=0.2,\n",
    "                                                    random_state=1)\n",
    "print(f\"Training features shape: {X_train.shape}\")\n",
    "print(f\"Training target shape: {y_train.shape}\\n\")\n",
    "print(f\"Test features shape: {X_test.shape}\")\n",
    "print(f\"Test target shape: {y_test.shape}\")\n",
    "display(X_train.head())\n",
    "# Train a simple model\n",
    "model = RandomForestRegressor(random_state=42)\n",
    "model.fit(X_train, y_train)"
   ]
  },
  {
   "cell_type": "code",
   "execution_count": 3,
   "metadata": {},
   "outputs": [
    {
     "ename": "TypeError",
     "evalue": "object of type 'NoneType' has no len()",
     "output_type": "error",
     "traceback": [
      "\u001b[0;31m---------------------------------------------------------------------------\u001b[0m",
      "\u001b[0;31mTypeError\u001b[0m                                 Traceback (most recent call last)",
      "\u001b[1;32m/workspaces/explainable-ai-tooling/notebooks/scikit-example-1.ipynb Cell 3'\u001b[0m in \u001b[0;36m<cell line: 7>\u001b[0;34m()\u001b[0m\n\u001b[1;32m      <a href='vscode-notebook-cell://codespaces%2Bkkasravi-explainable-ai-tooling-6597p73495g/workspaces/explainable-ai-tooling/notebooks/scikit-example-1.ipynb#ch0000002vscode-remote?line=4'>5</a>\u001b[0m explainer \u001b[39m=\u001b[39m explainer\u001b[39m.\u001b[39mExplainer(model)\n\u001b[1;32m      <a href='vscode-notebook-cell://codespaces%2Bkkasravi-explainable-ai-tooling-6597p73495g/workspaces/explainable-ai-tooling/notebooks/scikit-example-1.ipynb#ch0000002vscode-remote?line=5'>6</a>\u001b[0m shap_test \u001b[39m=\u001b[39m explainer\u001b[39m.\u001b[39mexplain(X_test)\n\u001b[0;32m----> <a href='vscode-notebook-cell://codespaces%2Bkkasravi-explainable-ai-tooling-6597p73495g/workspaces/explainable-ai-tooling/notebooks/scikit-example-1.ipynb#ch0000002vscode-remote?line=6'>7</a>\u001b[0m \u001b[39mprint\u001b[39m(\u001b[39mf\u001b[39m\u001b[39m\"\u001b[39m\u001b[39mShap values length: \u001b[39m\u001b[39m{\u001b[39;00m\u001b[39mlen\u001b[39m(shap_test)\u001b[39m}\u001b[39;00m\u001b[39m\\n\u001b[39;00m\u001b[39m\"\u001b[39m)\n\u001b[1;32m      <a href='vscode-notebook-cell://codespaces%2Bkkasravi-explainable-ai-tooling-6597p73495g/workspaces/explainable-ai-tooling/notebooks/scikit-example-1.ipynb#ch0000002vscode-remote?line=7'>8</a>\u001b[0m \u001b[39mprint\u001b[39m(\u001b[39mf\u001b[39m\u001b[39m\"\u001b[39m\u001b[39mSample shap value:\u001b[39m\u001b[39m\\n\u001b[39;00m\u001b[39m{\u001b[39;00mshap_test[\u001b[39m0\u001b[39m]\u001b[39m}\u001b[39;00m\u001b[39m\"\u001b[39m)\n",
      "\u001b[0;31mTypeError\u001b[0m: object of type 'NoneType' has no len()"
     ]
    }
   ],
   "source": [
    "\n",
    "#orginal way\n",
    "#explainer = shap.Explainer(model)\n",
    "#shap_test = explainer(X_test)\n",
    "\n",
    "explainer = explainer.Explainer(model)\n",
    "shap_test = explainer.explain(X_test)\n",
    "print(f\"Shap values length: {len(shap_test)}\\n\")\n",
    "print(f\"Sample shap value:\\n{shap_test[0]}\")"
   ]
  },
  {
   "cell_type": "code",
   "execution_count": null,
   "metadata": {},
   "outputs": [
    {
     "name": "stdout",
     "output_type": "stream",
     "text": [
      "Expected value: 153.4\n",
      "Average target value (training data): 153.4\n",
      "Base value: 153.4\n"
     ]
    }
   ],
   "source": [
    "print(f\"Expected value: {explainer.expected_value[0]:.1f}\")\n",
    "print(f\"Average target value (training data): {y_train.mean():.1f}\")\n",
    "print(f\"Base value: {np.unique(shap_test.base_values)[0]:.1f}\")\n"
   ]
  },
  {
   "cell_type": "code",
   "execution_count": null,
   "metadata": {},
   "outputs": [
    {
     "data": {
      "text/html": [
       "<div>\n",
       "<style scoped>\n",
       "    .dataframe tbody tr th:only-of-type {\n",
       "        vertical-align: middle;\n",
       "    }\n",
       "\n",
       "    .dataframe tbody tr th {\n",
       "        vertical-align: top;\n",
       "    }\n",
       "\n",
       "    .dataframe thead th {\n",
       "        text-align: right;\n",
       "    }\n",
       "</style>\n",
       "<table border=\"1\" class=\"dataframe\">\n",
       "  <thead>\n",
       "    <tr style=\"text-align: right;\">\n",
       "      <th></th>\n",
       "      <th>age</th>\n",
       "      <th>sex</th>\n",
       "      <th>bmi</th>\n",
       "      <th>bp</th>\n",
       "    </tr>\n",
       "  </thead>\n",
       "  <tbody>\n",
       "    <tr>\n",
       "      <th>count</th>\n",
       "      <td>89</td>\n",
       "      <td>89</td>\n",
       "      <td>89</td>\n",
       "      <td>89</td>\n",
       "    </tr>\n",
       "    <tr>\n",
       "      <th>unique</th>\n",
       "      <td>1</td>\n",
       "      <td>1</td>\n",
       "      <td>1</td>\n",
       "      <td>1</td>\n",
       "    </tr>\n",
       "    <tr>\n",
       "      <th>top</th>\n",
       "      <td>True</td>\n",
       "      <td>True</td>\n",
       "      <td>True</td>\n",
       "      <td>True</td>\n",
       "    </tr>\n",
       "    <tr>\n",
       "      <th>freq</th>\n",
       "      <td>89</td>\n",
       "      <td>89</td>\n",
       "      <td>89</td>\n",
       "      <td>89</td>\n",
       "    </tr>\n",
       "  </tbody>\n",
       "</table>\n",
       "</div>"
      ],
      "text/plain": [
       "         age   sex   bmi    bp\n",
       "count     89    89    89    89\n",
       "unique     1     1     1     1\n",
       "top     True  True  True  True\n",
       "freq      89    89    89    89"
      ]
     },
     "execution_count": 5,
     "metadata": {},
     "output_type": "execute_result"
    }
   ],
   "source": [
    "(shap_test.data == X_test).describe()\n"
   ]
  },
  {
   "cell_type": "code",
   "execution_count": null,
   "metadata": {},
   "outputs": [
    {
     "data": {
      "text/html": [
       "<div>\n",
       "<style scoped>\n",
       "    .dataframe tbody tr th:only-of-type {\n",
       "        vertical-align: middle;\n",
       "    }\n",
       "\n",
       "    .dataframe tbody tr th {\n",
       "        vertical-align: top;\n",
       "    }\n",
       "\n",
       "    .dataframe thead th {\n",
       "        text-align: right;\n",
       "    }\n",
       "</style>\n",
       "<table border=\"1\" class=\"dataframe\">\n",
       "  <thead>\n",
       "    <tr style=\"text-align: right;\">\n",
       "      <th></th>\n",
       "      <th>age</th>\n",
       "      <th>sex</th>\n",
       "      <th>bmi</th>\n",
       "      <th>bp</th>\n",
       "    </tr>\n",
       "  </thead>\n",
       "  <tbody>\n",
       "    <tr>\n",
       "      <th>246</th>\n",
       "      <td>0.042</td>\n",
       "      <td>-0.045</td>\n",
       "      <td>-0.032</td>\n",
       "      <td>-0.062</td>\n",
       "    </tr>\n",
       "    <tr>\n",
       "      <th>425</th>\n",
       "      <td>-0.078</td>\n",
       "      <td>-0.045</td>\n",
       "      <td>-0.041</td>\n",
       "      <td>-0.081</td>\n",
       "    </tr>\n",
       "    <tr>\n",
       "      <th>293</th>\n",
       "      <td>-0.071</td>\n",
       "      <td>-0.045</td>\n",
       "      <td>0.093</td>\n",
       "      <td>0.013</td>\n",
       "    </tr>\n",
       "    <tr>\n",
       "      <th>31</th>\n",
       "      <td>-0.024</td>\n",
       "      <td>-0.045</td>\n",
       "      <td>-0.065</td>\n",
       "      <td>-0.081</td>\n",
       "    </tr>\n",
       "    <tr>\n",
       "      <th>359</th>\n",
       "      <td>0.038</td>\n",
       "      <td>0.051</td>\n",
       "      <td>0.006</td>\n",
       "      <td>0.032</td>\n",
       "    </tr>\n",
       "    <tr>\n",
       "      <th>...</th>\n",
       "      <td>...</td>\n",
       "      <td>...</td>\n",
       "      <td>...</td>\n",
       "      <td>...</td>\n",
       "    </tr>\n",
       "    <tr>\n",
       "      <th>277</th>\n",
       "      <td>-0.035</td>\n",
       "      <td>-0.045</td>\n",
       "      <td>-0.059</td>\n",
       "      <td>0.001</td>\n",
       "    </tr>\n",
       "    <tr>\n",
       "      <th>132</th>\n",
       "      <td>0.016</td>\n",
       "      <td>0.051</td>\n",
       "      <td>-0.021</td>\n",
       "      <td>-0.009</td>\n",
       "    </tr>\n",
       "    <tr>\n",
       "      <th>213</th>\n",
       "      <td>0.002</td>\n",
       "      <td>-0.045</td>\n",
       "      <td>-0.071</td>\n",
       "      <td>-0.023</td>\n",
       "    </tr>\n",
       "    <tr>\n",
       "      <th>286</th>\n",
       "      <td>-0.038</td>\n",
       "      <td>-0.045</td>\n",
       "      <td>-0.055</td>\n",
       "      <td>-0.078</td>\n",
       "    </tr>\n",
       "    <tr>\n",
       "      <th>256</th>\n",
       "      <td>-0.049</td>\n",
       "      <td>-0.045</td>\n",
       "      <td>0.161</td>\n",
       "      <td>-0.047</td>\n",
       "    </tr>\n",
       "  </tbody>\n",
       "</table>\n",
       "<p>89 rows × 4 columns</p>\n",
       "</div>"
      ],
      "text/plain": [
       "       age    sex    bmi     bp\n",
       "246  0.042 -0.045 -0.032 -0.062\n",
       "425 -0.078 -0.045 -0.041 -0.081\n",
       "293 -0.071 -0.045  0.093  0.013\n",
       "31  -0.024 -0.045 -0.065 -0.081\n",
       "359  0.038  0.051  0.006  0.032\n",
       "..     ...    ...    ...    ...\n",
       "277 -0.035 -0.045 -0.059  0.001\n",
       "132  0.016  0.051 -0.021 -0.009\n",
       "213  0.002 -0.045 -0.071 -0.023\n",
       "286 -0.038 -0.045 -0.055 -0.078\n",
       "256 -0.049 -0.045  0.161 -0.047\n",
       "\n",
       "[89 rows x 4 columns]"
      ]
     },
     "execution_count": 6,
     "metadata": {},
     "output_type": "execute_result"
    }
   ],
   "source": [
    "pd.DataFrame(shap_test.data, columns=shap_test.feature_names,\n",
    "             index=X_test.index)\n"
   ]
  },
  {
   "cell_type": "code",
   "execution_count": null,
   "metadata": {},
   "outputs": [
    {
     "data": {
      "text/html": [
       "<div>\n",
       "<style scoped>\n",
       "    .dataframe tbody tr th:only-of-type {\n",
       "        vertical-align: middle;\n",
       "    }\n",
       "\n",
       "    .dataframe tbody tr th {\n",
       "        vertical-align: top;\n",
       "    }\n",
       "\n",
       "    .dataframe thead th {\n",
       "        text-align: right;\n",
       "    }\n",
       "</style>\n",
       "<table border=\"1\" class=\"dataframe\">\n",
       "  <thead>\n",
       "    <tr style=\"text-align: right;\">\n",
       "      <th></th>\n",
       "      <th>age</th>\n",
       "      <th>sex</th>\n",
       "      <th>bmi</th>\n",
       "      <th>bp</th>\n",
       "    </tr>\n",
       "  </thead>\n",
       "  <tbody>\n",
       "    <tr>\n",
       "      <th>246</th>\n",
       "      <td>-1.753</td>\n",
       "      <td>2.081</td>\n",
       "      <td>-24.650</td>\n",
       "      <td>-25.634</td>\n",
       "    </tr>\n",
       "    <tr>\n",
       "      <th>425</th>\n",
       "      <td>5.925</td>\n",
       "      <td>3.863</td>\n",
       "      <td>-33.091</td>\n",
       "      <td>-12.753</td>\n",
       "    </tr>\n",
       "    <tr>\n",
       "      <th>293</th>\n",
       "      <td>-14.266</td>\n",
       "      <td>-0.535</td>\n",
       "      <td>75.543</td>\n",
       "      <td>-11.028</td>\n",
       "    </tr>\n",
       "    <tr>\n",
       "      <th>31</th>\n",
       "      <td>-8.554</td>\n",
       "      <td>2.101</td>\n",
       "      <td>-39.069</td>\n",
       "      <td>-23.174</td>\n",
       "    </tr>\n",
       "    <tr>\n",
       "      <th>359</th>\n",
       "      <td>9.539</td>\n",
       "      <td>0.213</td>\n",
       "      <td>-7.332</td>\n",
       "      <td>8.434</td>\n",
       "    </tr>\n",
       "    <tr>\n",
       "      <th>...</th>\n",
       "      <td>...</td>\n",
       "      <td>...</td>\n",
       "      <td>...</td>\n",
       "      <td>...</td>\n",
       "    </tr>\n",
       "    <tr>\n",
       "      <th>277</th>\n",
       "      <td>-10.023</td>\n",
       "      <td>3.528</td>\n",
       "      <td>-45.031</td>\n",
       "      <td>-8.440</td>\n",
       "    </tr>\n",
       "    <tr>\n",
       "      <th>132</th>\n",
       "      <td>-4.953</td>\n",
       "      <td>-5.497</td>\n",
       "      <td>-35.544</td>\n",
       "      <td>2.948</td>\n",
       "    </tr>\n",
       "    <tr>\n",
       "      <th>213</th>\n",
       "      <td>-6.329</td>\n",
       "      <td>2.796</td>\n",
       "      <td>-53.651</td>\n",
       "      <td>-11.681</td>\n",
       "    </tr>\n",
       "    <tr>\n",
       "      <th>286</th>\n",
       "      <td>-4.718</td>\n",
       "      <td>2.903</td>\n",
       "      <td>-45.648</td>\n",
       "      <td>-21.633</td>\n",
       "    </tr>\n",
       "    <tr>\n",
       "      <th>256</th>\n",
       "      <td>-10.307</td>\n",
       "      <td>0.054</td>\n",
       "      <td>75.717</td>\n",
       "      <td>-29.349</td>\n",
       "    </tr>\n",
       "  </tbody>\n",
       "</table>\n",
       "<p>89 rows × 4 columns</p>\n",
       "</div>"
      ],
      "text/plain": [
       "        age    sex     bmi      bp\n",
       "246  -1.753  2.081 -24.650 -25.634\n",
       "425   5.925  3.863 -33.091 -12.753\n",
       "293 -14.266 -0.535  75.543 -11.028\n",
       "31   -8.554  2.101 -39.069 -23.174\n",
       "359   9.539  0.213  -7.332   8.434\n",
       "..      ...    ...     ...     ...\n",
       "277 -10.023  3.528 -45.031  -8.440\n",
       "132  -4.953 -5.497 -35.544   2.948\n",
       "213  -6.329  2.796 -53.651 -11.681\n",
       "286  -4.718  2.903 -45.648 -21.633\n",
       "256 -10.307  0.054  75.717 -29.349\n",
       "\n",
       "[89 rows x 4 columns]"
      ]
     },
     "execution_count": 8,
     "metadata": {},
     "output_type": "execute_result"
    }
   ],
   "source": [
    "shap_df = pd.DataFrame(shap_test.values,\n",
    "                       columns=shap_test.feature_names,\n",
    "                       index=X_test.index)\n",
    "shap_df\n"
   ]
  },
  {
   "cell_type": "code",
   "execution_count": null,
   "metadata": {},
   "outputs": [
    {
     "data": {
      "text/plain": [
       "array([ True,  True,  True,  True,  True,  True,  True,  True,  True,\n",
       "        True,  True,  True,  True,  True,  True,  True,  True,  True,\n",
       "        True,  True,  True,  True,  True,  True,  True,  True,  True,\n",
       "        True,  True,  True,  True,  True,  True,  True,  True,  True,\n",
       "        True,  True,  True,  True,  True,  True,  True,  True,  True,\n",
       "        True,  True,  True,  True,  True,  True,  True,  True,  True,\n",
       "        True,  True,  True,  True,  True,  True,  True,  True,  True,\n",
       "        True,  True,  True,  True,  True,  True,  True,  True,  True,\n",
       "        True,  True,  True,  True,  True,  True,  True,  True,  True,\n",
       "        True,  True,  True,  True,  True,  True,  True,  True])"
      ]
     },
     "execution_count": 9,
     "metadata": {},
     "output_type": "execute_result"
    }
   ],
   "source": [
    "np.isclose(model.predict(X_test),\n",
    "           explainer.expected_value[0] + shap_df.sum(axis=1))\n"
   ]
  },
  {
   "cell_type": "code",
   "execution_count": null,
   "metadata": {},
   "outputs": [
    {
     "data": {
      "text/plain": [
       "Text(0.5, 1.0, 'Distribution of shap values')"
      ]
     },
     "execution_count": 10,
     "metadata": {},
     "output_type": "execute_result"
    },
    {
     "data": {
      "image/png": "[encoded data removed]",
      "text/plain": [
       "<Figure size 792x288 with 2 Axes>"
      ]
     },
     "metadata": {
      "needs_background": "light"
     },
     "output_type": "display_data"
    }
   ],
   "source": [
    "columns = shap_df.apply(np.abs).mean()\\\n",
    "                 .sort_values(ascending=False).index\n",
    "fig, ax = plt.subplots(1, 2, figsize=(11, 4))\n",
    "sns.barplot(data=shap_df[columns].apply(np.abs), orient='h',\n",
    "            ax=ax[0])\n",
    "ax[0].set_title(\"Mean absolute shap value\")\n",
    "sns.boxplot(data=shap_df[columns], orient='h', ax=ax[1])\n",
    "ax[1].set_title(\"Distribution of shap values\")\n"
   ]
  }
 ],
 "metadata": {
  "kernelspec": {
   "display_name": "Python 3.10.4 ('explainer')",
   "language": "python",
   "name": "python3"
  },
  "language_info": {
   "codemirror_mode": {
    "name": "ipython",
    "version": 3
   },
   "file_extension": ".py",
   "mimetype": "text/x-python",
   "name": "python",
   "nbconvert_exporter": "python",
   "pygments_lexer": "ipython3",
   "version": "3.10.4"
  },
  "orig_nbformat": 4,
  "vscode": {
   "interpreter": {
    "hash": "5f116785276e6c3ad7d08e849fd53d61348b7787ff6ff002b8f1b3c8ab5c4540"
   }
  }
 },
 "nbformat": 4,
 "nbformat_minor": 2
}
